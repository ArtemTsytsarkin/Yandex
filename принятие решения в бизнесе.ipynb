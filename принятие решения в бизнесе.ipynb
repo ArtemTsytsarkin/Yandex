{
 "cells": [
  {
   "cell_type": "markdown",
   "metadata": {},
   "source": [
    "<div style=\"border:solid Chocolate 2px; padding: 40px\">\n",
    "\n",
    "Артем, привет, меня зовут Станислав Коротченко, и я буду проверять твой проект. Предлагаю общаться на «ты», но если это неудобно - дай знать, и мы перейдем на «вы».\n",
    "Это учебный проект и здесь не стоит бояться делать ошибки, я хочу поделиться своим опытом и помочь тебе стать аналитиком данных.\n",
    "Уже выполнена большая работа над проектом, давай сделаем его еще лучше. Ниже ты найдешь мои комментарии - пожалуйста, не перемещай, не изменяй и не удаляй их. Я буду использовать цветовую разметку:\n",
    "\n",
    "<div class=\"alert alert-danger\">\n",
    "<b>Комментарий с замечанием ревьюера:</b> Так выделены самые важные замечания. Как только ты их исправишь проект будет принят. </div>\n",
    "\n",
    "<div class=\"alert alert-warning\">\n",
    "<b>Комментарий с небольшим замечанием или советом ревьюера:</b> Так выделены небольшие замечания или советы. \n",
    "</div>\n",
    "\n",
    "<div class=\"alert alert-success\">\n",
    "<b>Комментарий с комплиментом ревьюера:</b> Так я выделяю все остальные комментарии.</div>\n",
    "\n",
    "Давай работать над проектом в диалоге: если ты что-то меняешь в проекте или отвечаешь на мои комментарии — пиши об этом.\n",
    "Мне будет легче отследить изменения, если ты выделишь свои комментарии:\n",
    "<div class=\"alert alert-info\"> <b>Комментарий студента:</b> Например, вот так.</div>\n",
    "\n",
    "Всё это поможет выполнить повторную проверку твоего проекта оперативнее.\n",
    "</div>\n"
   ]
  },
  {
   "cell_type": "markdown",
   "metadata": {},
   "source": [
    "<div style=\"border:solid Chocolate 2px; padding: 40px\">\n",
    "\n",
    "# Общий вывод ревьюера\n",
    "\n",
    "<div class=\"alert alert-success\">\n",
    "\n",
    "Проделана хорошая работа. Соблюдена структура проекта и написаны выводы. Есть несколько замечаний, исправь их и проект будет принят.\n",
    "\n",
    "- по ссылкам ниже интересные материалы по А/В тестам\n",
    "  \n",
    "    \n",
    "https://habr.com/ru/company/avito/blog/571094/\n",
    "\n",
    "https://habr.com/ru/company/yandex/blog/476826/\n",
    "\n",
    "https://academy.yandex.ru/journal/kak-provesti-a-b-testirovanie-6-prostykh-shagov\n",
    "\n",
    "https://habr.com/ru/company/yandex/blog/342704/\n",
    "\n",
    "https://r-analytics.blogspot.com/2013/10/blog-post_13.html \n",
    "\n",
    "</div>\n",
    "\n",
    "<div class=\"alert alert-danger\">\n",
    "\n",
    "- дополни, пожалуйста, этап предобработки данных\n",
    "- добавь, пожалуйста, заголовки и подписи осей для всех графиков в проекте \n",
    "- скорректируй, пожалуйста, код при проверке гипотез \n",
    "- скорректируй, пожалуйста, промежуточный вывод к анализу статистической значимости различий в среднем чеке заказа между группами по \"сырым\" данным\n",
    "- добавь, пожалуйста, формулировку гипотез\n",
    "</div>\n"
   ]
  },
  {
   "cell_type": "markdown",
   "metadata": {},
   "source": [
    "<div style=\"border:solid Chocolate 2px; padding: 40px\">\n",
    "\n",
    "# Общий вывод ревьюера в2\n",
    "\n",
    "<div class=\"alert alert-success\">\n",
    "\n",
    "Хорошая проработка замечаний, осталось исправить несколько моментов.\n",
    "    \n",
    "    \n",
    "Можно поговорить с куратором, чтобы он отодвинул дедлайн и у тебя было время разобраться с кодом, хочешь?\n",
    "\n",
    "</div>\n",
    "\n",
    "<div class=\"alert alert-danger\">\n",
    "\n",
    "- скорректируй, пожалуйста, анализ пересекающихся пользователей\n",
    "- добавь, пожалуйста, заголовки и подписи осей для **всех** графиков в проекте \n",
    "\n",
    "</div>"
   ]
  },
  {
   "cell_type": "markdown",
   "metadata": {},
   "source": [
    "# А/B тест "
   ]
  },
  {
   "cell_type": "markdown",
   "metadata": {},
   "source": [
    "Описание данных\n",
    "\n",
    "Данные для первой части\n",
    "\n",
    "Файл hypothesis\n",
    "- Hypothesis — краткое описание гипотезы;\n",
    "- Reach — охват пользователей по 10-балльной шкале;\n",
    "- Impact — влияние на пользователей по 10-балльной шкале;\n",
    "- Confidence — уверенность в гипотезе по 10-балльной шкале;\n",
    "- Efforts — затраты ресурсов на проверку гипотезы по 10-балльной шкале. Чем больше значение Efforts, тем дороже проверка гипотезы.\n",
    "\n",
    "Данные для второй части\n",
    "\n",
    "    Файл orders\n",
    "- transactionId — идентификатор заказа;\n",
    "- visitorId — идентификатор пользователя, совершившего заказ;\n",
    "- date — дата, когда был совершён заказ;\n",
    "- revenue — выручка заказа;\n",
    "- group — группа A/B-теста, в которую попал заказ.\n",
    "    \n",
    "    Файл visitors\n",
    "- date — дата;\n",
    "- group — группа A/B-теста;\n",
    "- visitors — количество пользователей в указанную дату в указанной группе A/B-теста"
   ]
  },
  {
   "cell_type": "markdown",
   "metadata": {},
   "source": [
    "задачи проекта\n",
    "\n",
    "Приоритизируйте гипотезы, запустите A/B-тест и проанализируйте результаты.\n",
    "\n",
    "Часть 1. Приоритизация гипотез.\n",
    "\n",
    "В файле hypothesis 9 гипотез по увеличению выручки интернет-магазина с указанными параметрами Reach, Impact, Confidence, Effort.\n",
    "\n",
    "Задача\n",
    "- Примените фреймворк ICE для приоритизации гипотез. Отсортируйте их по убыванию приоритета.\n",
    "- Примените фреймворк RICE для приоритизации гипотез. Отсортируйте их по убыванию приоритета.\n",
    "- Укажите, как изменилась приоритизация гипотез при применении RICE вместо ICE. Объясните, почему так произошло."
   ]
  },
  {
   "cell_type": "markdown",
   "metadata": {},
   "source": [
    "Часть 2. Анализ A/B-теста\n",
    "\n",
    "Вы провели A/B-тест и получили результаты, которые описаны в файлах orders и visitors\n",
    "\n",
    "Проанализируйте A/B-тест:\n",
    "- Постройте график кумулятивной выручки по группам. Сделайте выводы и предположения.\n",
    "- Постройте график кумулятивного среднего чека по группам. Сделайте выводы и предположения.\n",
    "- Постройте график относительного изменения кумулятивного среднего чека группы B к группе A. Сделайте выводы и предположения.\n",
    "- Постройте график кумулятивного среднего количества заказов на посетителя по группам. Сделайте выводы и предположения.\n",
    "- Постройте график относительного изменения кумулятивного среднего количества заказов на посетителя группы B к группе A. Сделайте выводы и предположения.\n",
    "- Постройте точечный график количества заказов по пользователям. Сделайте выводы и предположения.\n",
    "- Посчитайте 95-й и 99-й перцентили количества заказов на пользователя. Выберите границу для определения аномальных пользователей.\n",
    "- Постройте точечный график стоимостей заказов. Сделайте выводы и предположения.\n",
    "- Посчитайте 95-й и 99-й перцентили стоимости заказов. Выберите границу для определения аномальных заказов.\n",
    "- Посчитайте статистическую значимость различий в среднем количестве заказов на посетителя между группами по «сырым» данным. Сделайте выводы и предположения.\n",
    "- Посчитайте статистическую значимость различий в среднем чеке заказа между группами по «сырым» данным. Сделайте выводы и предположения.\n",
    "- Посчитайте статистическую значимость различий в среднем количестве заказов на посетителя между группами по «очищенным» данным. Сделайте выводы и предположения.\n",
    "- Посчитайте статистическую значимость различий в среднем чеке заказа между группами по «очищенным» данным. Сделайте выводы и предположения.\n",
    "- Примите решение по результатам теста и объясните его. Варианты решений:\n",
    "-- 1. Остановить тест, зафиксировать победу одной из групп.\n",
    "-- 2. Остановить тест, зафиксировать отсутствие различий между группами.\n",
    "-- 3. Продолжить тест."
   ]
  },
  {
   "cell_type": "markdown",
   "metadata": {},
   "source": [
    "<div class=\"alert alert-success\">\n",
    "<b>Комментарий с комплиментом ревьюера:</b> \n",
    "    \n",
    "Здорово, что описана цель проекта, данные и задачи.\n",
    "\n",
    "Добавь, еще название для проекта, заголовок, по которому сразу будет понятно о чем он.</div>\n"
   ]
  },
  {
   "cell_type": "code",
   "execution_count": 1,
   "metadata": {},
   "outputs": [],
   "source": [
    "import pandas as pd\n",
    "import datetime as dt\n",
    "import numpy as np\n",
    "import matplotlib.pyplot as plt\n",
    "from pandas.plotting import register_matplotlib_converters\n",
    "import warnings\n",
    "import scipy.stats as stats"
   ]
  },
  {
   "cell_type": "code",
   "execution_count": 2,
   "metadata": {},
   "outputs": [
    {
     "data": {
      "text/html": [
       "<div>\n",
       "<style scoped>\n",
       "    .dataframe tbody tr th:only-of-type {\n",
       "        vertical-align: middle;\n",
       "    }\n",
       "\n",
       "    .dataframe tbody tr th {\n",
       "        vertical-align: top;\n",
       "    }\n",
       "\n",
       "    .dataframe thead th {\n",
       "        text-align: right;\n",
       "    }\n",
       "</style>\n",
       "<table border=\"1\" class=\"dataframe\">\n",
       "  <thead>\n",
       "    <tr style=\"text-align: right;\">\n",
       "      <th></th>\n",
       "      <th>Hypothesis</th>\n",
       "      <th>Reach</th>\n",
       "      <th>Impact</th>\n",
       "      <th>Confidence</th>\n",
       "      <th>Efforts</th>\n",
       "    </tr>\n",
       "  </thead>\n",
       "  <tbody>\n",
       "    <tr>\n",
       "      <th>0</th>\n",
       "      <td>Добавить два новых канала привлечения трафика, что позволит привлекать на 30% больше пользователей</td>\n",
       "      <td>3</td>\n",
       "      <td>10</td>\n",
       "      <td>8</td>\n",
       "      <td>6</td>\n",
       "    </tr>\n",
       "    <tr>\n",
       "      <th>1</th>\n",
       "      <td>Запустить собственную службу доставки, что сократит срок доставки заказов</td>\n",
       "      <td>2</td>\n",
       "      <td>5</td>\n",
       "      <td>4</td>\n",
       "      <td>10</td>\n",
       "    </tr>\n",
       "    <tr>\n",
       "      <th>2</th>\n",
       "      <td>Добавить блоки рекомендаций товаров на сайт интернет магазина, чтобы повысить конверсию и средний чек заказа</td>\n",
       "      <td>8</td>\n",
       "      <td>3</td>\n",
       "      <td>7</td>\n",
       "      <td>3</td>\n",
       "    </tr>\n",
       "    <tr>\n",
       "      <th>3</th>\n",
       "      <td>Изменить структура категорий, что увеличит конверсию, т.к. пользователи быстрее найдут нужный товар</td>\n",
       "      <td>8</td>\n",
       "      <td>3</td>\n",
       "      <td>3</td>\n",
       "      <td>8</td>\n",
       "    </tr>\n",
       "    <tr>\n",
       "      <th>4</th>\n",
       "      <td>Изменить цвет фона главной страницы, чтобы увеличить вовлеченность пользователей</td>\n",
       "      <td>3</td>\n",
       "      <td>1</td>\n",
       "      <td>1</td>\n",
       "      <td>1</td>\n",
       "    </tr>\n",
       "    <tr>\n",
       "      <th>5</th>\n",
       "      <td>Добавить страницу отзывов клиентов о магазине, что позволит увеличить количество заказов</td>\n",
       "      <td>3</td>\n",
       "      <td>2</td>\n",
       "      <td>2</td>\n",
       "      <td>3</td>\n",
       "    </tr>\n",
       "    <tr>\n",
       "      <th>6</th>\n",
       "      <td>Показать на главной странице баннеры с актуальными акциями и распродажами, чтобы увеличить конверсию</td>\n",
       "      <td>5</td>\n",
       "      <td>3</td>\n",
       "      <td>8</td>\n",
       "      <td>3</td>\n",
       "    </tr>\n",
       "    <tr>\n",
       "      <th>7</th>\n",
       "      <td>Добавить форму подписки на все основные страницы, чтобы собрать базу клиентов для email-рассылок</td>\n",
       "      <td>10</td>\n",
       "      <td>7</td>\n",
       "      <td>8</td>\n",
       "      <td>5</td>\n",
       "    </tr>\n",
       "    <tr>\n",
       "      <th>8</th>\n",
       "      <td>Запустить акцию, дающую скидку на товар в день рождения</td>\n",
       "      <td>1</td>\n",
       "      <td>9</td>\n",
       "      <td>9</td>\n",
       "      <td>5</td>\n",
       "    </tr>\n",
       "  </tbody>\n",
       "</table>\n",
       "</div>"
      ],
      "text/plain": [
       "                                                                                                     Hypothesis  \\\n",
       "0  Добавить два новых канала привлечения трафика, что позволит привлекать на 30% больше пользователей             \n",
       "1  Запустить собственную службу доставки, что сократит срок доставки заказов                                      \n",
       "2  Добавить блоки рекомендаций товаров на сайт интернет магазина, чтобы повысить конверсию и средний чек заказа   \n",
       "3  Изменить структура категорий, что увеличит конверсию, т.к. пользователи быстрее найдут нужный товар            \n",
       "4  Изменить цвет фона главной страницы, чтобы увеличить вовлеченность пользователей                               \n",
       "5  Добавить страницу отзывов клиентов о магазине, что позволит увеличить количество заказов                       \n",
       "6  Показать на главной странице баннеры с актуальными акциями и распродажами, чтобы увеличить конверсию           \n",
       "7  Добавить форму подписки на все основные страницы, чтобы собрать базу клиентов для email-рассылок               \n",
       "8  Запустить акцию, дающую скидку на товар в день рождения                                                        \n",
       "\n",
       "   Reach  Impact  Confidence  Efforts  \n",
       "0  3      10      8           6        \n",
       "1  2      5       4           10       \n",
       "2  8      3       7           3        \n",
       "3  8      3       3           8        \n",
       "4  3      1       1           1        \n",
       "5  3      2       2           3        \n",
       "6  5      3       8           3        \n",
       "7  10     7       8           5        \n",
       "8  1      9       9           5        "
      ]
     },
     "execution_count": 2,
     "metadata": {},
     "output_type": "execute_result"
    }
   ],
   "source": [
    "hypo = pd.read_csv('/datasets/hypothesis.csv')\n",
    "pd.set_option('display.max_colwidth', False)\n",
    "hypo"
   ]
  },
  {
   "cell_type": "markdown",
   "metadata": {},
   "source": [
    "\n",
    "<div class=\"alert alert-warning\">\n",
    "<b>Комментарий с советом ревьюера:</b> \n",
    "    \n",
    "Чтобы названия гипотез выводились целиком, используй настройку pd.set_option('display.max_colwidth', False)\n",
    " </div>\n"
   ]
  },
  {
   "cell_type": "markdown",
   "metadata": {},
   "source": [
    "<div class=\"alert alert-info\"> <b>Комментарий студента:</b> Названия гипотез прописанны полностью.</div>\n"
   ]
  },
  {
   "cell_type": "markdown",
   "metadata": {},
   "source": [
    "<div class=\"alert alert-success\">\n",
    "<b>Комментарий с комплиментом ревьюера в2:</b> \n",
    "    \n",
    "Отлично"
   ]
  },
  {
   "cell_type": "code",
   "execution_count": 3,
   "metadata": {},
   "outputs": [],
   "source": [
    "hypo.columns = hypo.columns.str.lower()"
   ]
  },
  {
   "cell_type": "markdown",
   "metadata": {},
   "source": [
    "Примените фреймворк ICE для приоритизации гипотез. Сортировка их по убыванию приоритета."
   ]
  },
  {
   "cell_type": "code",
   "execution_count": 4,
   "metadata": {},
   "outputs": [
    {
     "name": "stdout",
     "output_type": "stream",
     "text": [
      "                                                                                                     hypothesis  \\\n",
      "8  Запустить акцию, дающую скидку на товар в день рождения                                                        \n",
      "0  Добавить два новых канала привлечения трафика, что позволит привлекать на 30% больше пользователей             \n",
      "7  Добавить форму подписки на все основные страницы, чтобы собрать базу клиентов для email-рассылок               \n",
      "6  Показать на главной странице баннеры с актуальными акциями и распродажами, чтобы увеличить конверсию           \n",
      "2  Добавить блоки рекомендаций товаров на сайт интернет магазина, чтобы повысить конверсию и средний чек заказа   \n",
      "1  Запустить собственную службу доставки, что сократит срок доставки заказов                                      \n",
      "5  Добавить страницу отзывов клиентов о магазине, что позволит увеличить количество заказов                       \n",
      "3  Изменить структура категорий, что увеличит конверсию, т.к. пользователи быстрее найдут нужный товар            \n",
      "4  Изменить цвет фона главной страницы, чтобы увеличить вовлеченность пользователей                               \n",
      "\n",
      "     ICE  \n",
      "8  16.20  \n",
      "0  13.33  \n",
      "7  11.20  \n",
      "6  8.00   \n",
      "2  7.00   \n",
      "1  2.00   \n",
      "5  1.33   \n",
      "3  1.12   \n",
      "4  1.00   \n"
     ]
    }
   ],
   "source": [
    "hypo['ICE'] =round((hypo['impact'] * hypo['confidence']) / hypo['efforts'],2)\n",
    "print(hypo[['hypothesis','ICE']].sort_values(by='ICE', ascending=False))"
   ]
  },
  {
   "cell_type": "markdown",
   "metadata": {},
   "source": [
    "<div class=\"alert alert-warning\">\n",
    "<b>Комментарий с советом ревьюера:</b> \n",
    "\n",
    "Для удобства можно округлить значения в колонке ICE до 2 знаков после запятой. \n",
    "</div>\n"
   ]
  },
  {
   "cell_type": "markdown",
   "metadata": {},
   "source": [
    "<div class=\"alert alert-info\"> <b>Комментарий студента:</b> Округлено</div>\n"
   ]
  },
  {
   "cell_type": "markdown",
   "metadata": {},
   "source": [
    "<div class=\"alert alert-success\">\n",
    "<b>Комментарий с комплиментом ревьюера в2:</b> \n",
    "    \n",
    "Отлично"
   ]
  },
  {
   "cell_type": "markdown",
   "metadata": {},
   "source": [
    "Примените фреймворк RICE для приоритизации гипотез. сортировка их по убыванию приоритета."
   ]
  },
  {
   "cell_type": "code",
   "execution_count": 5,
   "metadata": {},
   "outputs": [
    {
     "name": "stdout",
     "output_type": "stream",
     "text": [
      "                                                                                                     hypothesis  \\\n",
      "7  Добавить форму подписки на все основные страницы, чтобы собрать базу клиентов для email-рассылок               \n",
      "2  Добавить блоки рекомендаций товаров на сайт интернет магазина, чтобы повысить конверсию и средний чек заказа   \n",
      "0  Добавить два новых канала привлечения трафика, что позволит привлекать на 30% больше пользователей             \n",
      "6  Показать на главной странице баннеры с актуальными акциями и распродажами, чтобы увеличить конверсию           \n",
      "8  Запустить акцию, дающую скидку на товар в день рождения                                                        \n",
      "3  Изменить структура категорий, что увеличит конверсию, т.к. пользователи быстрее найдут нужный товар            \n",
      "1  Запустить собственную службу доставки, что сократит срок доставки заказов                                      \n",
      "5  Добавить страницу отзывов клиентов о магазине, что позволит увеличить количество заказов                       \n",
      "4  Изменить цвет фона главной страницы, чтобы увеличить вовлеченность пользователей                               \n",
      "\n",
      "    RICE  \n",
      "7  112.0  \n",
      "2  56.0   \n",
      "0  40.0   \n",
      "6  40.0   \n",
      "8  16.2   \n",
      "3  9.0    \n",
      "1  4.0    \n",
      "5  4.0    \n",
      "4  3.0    \n"
     ]
    }
   ],
   "source": [
    "hypo['RICE'] = ( hypo['reach'] * hypo['impact'] * hypo['confidence'])/hypo['efforts']\n",
    "\n",
    "print(hypo[['hypothesis','RICE']].sort_values(by='RICE', ascending=False))"
   ]
  },
  {
   "cell_type": "markdown",
   "metadata": {},
   "source": [
    "Приоритизация сильно изменилась. При применении фреймворка ice топ 3 гипотезы были гипотезы 8,0,7\n",
    "\n",
    "При применении фреймворка rice топ 3 гипотезы были гипотезы 7,2,0\n",
    "\n",
    "Так произошло по следующим причинам:\n",
    "- фреймворк Rice в числителе имеет дополнительный параметр reach - охват ( колличество людей которых нововедение коснется), чем больше количество людей коснется изменние тем больше показатель. Следовательно порядок может поменяться, если показатель reach очень высокий и тогда вывести среднюю гипотезу по ice в топ.а так же даже если приоритезация по ice показала что гипотезы имеет практически равный рейтинг, даже небольшая разница в reach пожем поменять порядок ранжирования \n",
    "- в данном случае reach ранжировался по 10 бальной системе, но мог бы ранжироваться и по другому упорядоченному ряду чисел, и тогда изменения были бы еще больше"
   ]
  },
  {
   "cell_type": "markdown",
   "metadata": {},
   "source": [
    "<div class=\"alert alert-success\">\n",
    "<b>Комментарий с комплиментом ревьюера:</b>\n",
    "    \n",
    "Гипотезы проанализированы верно, молодец.\n",
    "\n",
    "Здорово, что указано на изменение приоритетов при учете охвата.\n",
    "</div>\n"
   ]
  },
  {
   "cell_type": "markdown",
   "metadata": {},
   "source": [
    "Часть 2. Анализ A/B-теста"
   ]
  },
  {
   "cell_type": "markdown",
   "metadata": {},
   "source": [
    "задание: Постройте график кумулятивной выручки по группам. Сделайте выводы и предположения."
   ]
  },
  {
   "cell_type": "code",
   "execution_count": 6,
   "metadata": {},
   "outputs": [],
   "source": [
    "orders = pd.read_csv('/datasets/orders.csv')\n",
    "visitors = pd.read_csv('/datasets/visitors.csv')"
   ]
  },
  {
   "cell_type": "code",
   "execution_count": 7,
   "metadata": {},
   "outputs": [
    {
     "data": {
      "text/html": [
       "<div>\n",
       "<style scoped>\n",
       "    .dataframe tbody tr th:only-of-type {\n",
       "        vertical-align: middle;\n",
       "    }\n",
       "\n",
       "    .dataframe tbody tr th {\n",
       "        vertical-align: top;\n",
       "    }\n",
       "\n",
       "    .dataframe thead th {\n",
       "        text-align: right;\n",
       "    }\n",
       "</style>\n",
       "<table border=\"1\" class=\"dataframe\">\n",
       "  <thead>\n",
       "    <tr style=\"text-align: right;\">\n",
       "      <th></th>\n",
       "      <th>transactionId</th>\n",
       "      <th>visitorId</th>\n",
       "      <th>date</th>\n",
       "      <th>revenue</th>\n",
       "      <th>group</th>\n",
       "    </tr>\n",
       "  </thead>\n",
       "  <tbody>\n",
       "    <tr>\n",
       "      <th>0</th>\n",
       "      <td>3667963787</td>\n",
       "      <td>3312258926</td>\n",
       "      <td>2019-08-15</td>\n",
       "      <td>1650</td>\n",
       "      <td>B</td>\n",
       "    </tr>\n",
       "    <tr>\n",
       "      <th>1</th>\n",
       "      <td>2804400009</td>\n",
       "      <td>3642806036</td>\n",
       "      <td>2019-08-15</td>\n",
       "      <td>730</td>\n",
       "      <td>B</td>\n",
       "    </tr>\n",
       "    <tr>\n",
       "      <th>2</th>\n",
       "      <td>2961555356</td>\n",
       "      <td>4069496402</td>\n",
       "      <td>2019-08-15</td>\n",
       "      <td>400</td>\n",
       "      <td>A</td>\n",
       "    </tr>\n",
       "    <tr>\n",
       "      <th>3</th>\n",
       "      <td>3797467345</td>\n",
       "      <td>1196621759</td>\n",
       "      <td>2019-08-15</td>\n",
       "      <td>9759</td>\n",
       "      <td>B</td>\n",
       "    </tr>\n",
       "    <tr>\n",
       "      <th>4</th>\n",
       "      <td>2282983706</td>\n",
       "      <td>2322279887</td>\n",
       "      <td>2019-08-15</td>\n",
       "      <td>2308</td>\n",
       "      <td>B</td>\n",
       "    </tr>\n",
       "    <tr>\n",
       "      <th>...</th>\n",
       "      <td>...</td>\n",
       "      <td>...</td>\n",
       "      <td>...</td>\n",
       "      <td>...</td>\n",
       "      <td>...</td>\n",
       "    </tr>\n",
       "    <tr>\n",
       "      <th>1192</th>\n",
       "      <td>2662137336</td>\n",
       "      <td>3733762160</td>\n",
       "      <td>2019-08-14</td>\n",
       "      <td>6490</td>\n",
       "      <td>B</td>\n",
       "    </tr>\n",
       "    <tr>\n",
       "      <th>1193</th>\n",
       "      <td>2203539145</td>\n",
       "      <td>370388673</td>\n",
       "      <td>2019-08-14</td>\n",
       "      <td>3190</td>\n",
       "      <td>A</td>\n",
       "    </tr>\n",
       "    <tr>\n",
       "      <th>1194</th>\n",
       "      <td>1807773912</td>\n",
       "      <td>573423106</td>\n",
       "      <td>2019-08-14</td>\n",
       "      <td>10550</td>\n",
       "      <td>A</td>\n",
       "    </tr>\n",
       "    <tr>\n",
       "      <th>1195</th>\n",
       "      <td>1947021204</td>\n",
       "      <td>1614305549</td>\n",
       "      <td>2019-08-14</td>\n",
       "      <td>100</td>\n",
       "      <td>A</td>\n",
       "    </tr>\n",
       "    <tr>\n",
       "      <th>1196</th>\n",
       "      <td>3936777065</td>\n",
       "      <td>2108080724</td>\n",
       "      <td>2019-08-15</td>\n",
       "      <td>202740</td>\n",
       "      <td>B</td>\n",
       "    </tr>\n",
       "  </tbody>\n",
       "</table>\n",
       "<p>1197 rows × 5 columns</p>\n",
       "</div>"
      ],
      "text/plain": [
       "      transactionId   visitorId        date  revenue group\n",
       "0     3667963787     3312258926  2019-08-15  1650     B   \n",
       "1     2804400009     3642806036  2019-08-15  730      B   \n",
       "2     2961555356     4069496402  2019-08-15  400      A   \n",
       "3     3797467345     1196621759  2019-08-15  9759     B   \n",
       "4     2282983706     2322279887  2019-08-15  2308     B   \n",
       "...          ...            ...         ...   ...    ..   \n",
       "1192  2662137336     3733762160  2019-08-14  6490     B   \n",
       "1193  2203539145     370388673   2019-08-14  3190     A   \n",
       "1194  1807773912     573423106   2019-08-14  10550    A   \n",
       "1195  1947021204     1614305549  2019-08-14  100      A   \n",
       "1196  3936777065     2108080724  2019-08-15  202740   B   \n",
       "\n",
       "[1197 rows x 5 columns]"
      ]
     },
     "execution_count": 7,
     "metadata": {},
     "output_type": "execute_result"
    }
   ],
   "source": [
    "orders"
   ]
  },
  {
   "cell_type": "code",
   "execution_count": 8,
   "metadata": {},
   "outputs": [
    {
     "name": "stdout",
     "output_type": "stream",
     "text": [
      "   transactionId   visitorId       date  revenue group\n",
      "0  3667963787     3312258926 2019-08-15  1650     B   \n",
      "1  2804400009     3642806036 2019-08-15  730      B   \n",
      "2  2961555356     4069496402 2019-08-15  400      A   \n",
      "3  3797467345     1196621759 2019-08-15  9759     B   \n",
      "4  2282983706     2322279887 2019-08-15  2308     B   \n",
      "        date group  visitors\n",
      "0 2019-08-01  A     719     \n",
      "1 2019-08-02  A     619     \n",
      "2 2019-08-03  A     507     \n",
      "3 2019-08-04  A     717     \n",
      "4 2019-08-05  A     756     \n"
     ]
    }
   ],
   "source": [
    "\n",
    "orders['date'] = orders['date'].map(\n",
    "    lambda x: dt.datetime.strptime(x, '%Y-%m-%d')\n",
    ")\n",
    "\n",
    "\n",
    "visitors['date'] = visitors['date'].map(\n",
    "    lambda x: dt.datetime.strptime(x, '%Y-%m-%d')\n",
    ")\n",
    "\n",
    "print(orders.head())\n",
    "print(visitors.head()) "
   ]
  },
  {
   "cell_type": "code",
   "execution_count": 9,
   "metadata": {},
   "outputs": [
    {
     "name": "stdout",
     "output_type": "stream",
     "text": [
      "<class 'pandas.core.frame.DataFrame'>\n",
      "RangeIndex: 1197 entries, 0 to 1196\n",
      "Data columns (total 5 columns):\n",
      " #   Column         Non-Null Count  Dtype         \n",
      "---  ------         --------------  -----         \n",
      " 0   transactionId  1197 non-null   int64         \n",
      " 1   visitorId      1197 non-null   int64         \n",
      " 2   date           1197 non-null   datetime64[ns]\n",
      " 3   revenue        1197 non-null   int64         \n",
      " 4   group          1197 non-null   object        \n",
      "dtypes: datetime64[ns](1), int64(3), object(1)\n",
      "memory usage: 46.9+ KB\n"
     ]
    }
   ],
   "source": [
    "orders.info()"
   ]
  },
  {
   "cell_type": "code",
   "execution_count": 10,
   "metadata": {},
   "outputs": [
    {
     "data": {
      "text/plain": [
       "0"
      ]
     },
     "execution_count": 10,
     "metadata": {},
     "output_type": "execute_result"
    }
   ],
   "source": [
    "orders.duplicated().sum()"
   ]
  },
  {
   "cell_type": "code",
   "execution_count": 11,
   "metadata": {},
   "outputs": [
    {
     "data": {
      "text/plain": [
       "166"
      ]
     },
     "execution_count": 11,
     "metadata": {},
     "output_type": "execute_result"
    }
   ],
   "source": [
    "orders['visitorId'].duplicated().sum()\n",
    "#мы нашли 166 повторений в клиентах, есть риск, что данные пользователи находятся в двух списках"
   ]
  },
  {
   "cell_type": "code",
   "execution_count": 12,
   "metadata": {},
   "outputs": [
    {
     "data": {
      "text/plain": [
       "group    58\n",
       "dtype: int64"
      ]
     },
     "execution_count": 12,
     "metadata": {},
     "output_type": "execute_result"
    }
   ],
   "source": [
    "dr = orders.groupby(by='visitorId').agg({'group':'nunique'})\n",
    "dr.query(\"group >1\").count()\n",
    "\n"
   ]
  },
  {
   "cell_type": "markdown",
   "metadata": {
    "scrolled": true
   },
   "source": [
    "обнаружено 58 человек которые входят в обе группы"
   ]
  },
  {
   "cell_type": "code",
   "execution_count": 13,
   "metadata": {},
   "outputs": [],
   "source": [
    "dr = dr.reset_index()"
   ]
  },
  {
   "cell_type": "code",
   "execution_count": 14,
   "metadata": {},
   "outputs": [],
   "source": [
    "dr = dr.query(\"group >1\")"
   ]
  },
  {
   "cell_type": "code",
   "execution_count": 15,
   "metadata": {},
   "outputs": [],
   "source": [
    "x = dr['visitorId'].to_list()"
   ]
  },
  {
   "cell_type": "code",
   "execution_count": 16,
   "metadata": {},
   "outputs": [],
   "source": [
    "orsers = orders.loc[orders['visitorId'].isin(x) == False]"
   ]
  },
  {
   "cell_type": "code",
   "execution_count": null,
   "metadata": {},
   "outputs": [],
   "source": []
  },
  {
   "cell_type": "code",
   "execution_count": 17,
   "metadata": {},
   "outputs": [
    {
     "name": "stdout",
     "output_type": "stream",
     "text": [
      "<class 'pandas.core.frame.DataFrame'>\n",
      "RangeIndex: 62 entries, 0 to 61\n",
      "Data columns (total 3 columns):\n",
      " #   Column    Non-Null Count  Dtype         \n",
      "---  ------    --------------  -----         \n",
      " 0   date      62 non-null     datetime64[ns]\n",
      " 1   group     62 non-null     object        \n",
      " 2   visitors  62 non-null     int64         \n",
      "dtypes: datetime64[ns](1), int64(1), object(1)\n",
      "memory usage: 1.6+ KB\n",
      "None\n",
      "0\n"
     ]
    }
   ],
   "source": [
    "print(visitors.info())\n",
    "print(visitors.duplicated().sum())"
   ]
  },
  {
   "cell_type": "markdown",
   "metadata": {},
   "source": [
    "\n",
    "<div class=\"alert alert-danger\">\n",
    "<b>Комментарий с замечанием ревьюера:</b>\n",
    "    \n",
    "На данном этапе необходимо провести проверку на наличие дубликатов и пропусков, мы должны посмотреть и оценить состояние данных.\n",
    "    \n",
    "Загрузку датасета и предобработку данных необходимо выделять в разные ячейки.\n",
    "  </div>\n"
   ]
  },
  {
   "cell_type": "markdown",
   "metadata": {},
   "source": [
    "<div class=\"alert alert-info\"> <b>Комментарий студента:</b> Все ячейки заполнены, дубликатов нет</div>"
   ]
  },
  {
   "cell_type": "markdown",
   "metadata": {},
   "source": [
    "<div class=\"alert alert-success\">\n",
    "<b>Комментарий с комплиментом ревьюера в2:</b> \n",
    "    \n",
    "Верно"
   ]
  },
  {
   "cell_type": "markdown",
   "metadata": {},
   "source": [
    "<div class=\"alert alert-warning\">\n",
    "<b>Комментарий с советом ревьюера:</b>\n",
    "\n",
    "Чтобы лучше изучить данные можешь посмотреть:\n",
    "\n",
    "-  сколько у нас групп в АВ-тесте;\n",
    "-  даты начала и окончания теста; \n",
    "-  не попадают ли какие-то пользователи в обе группы - по таблице с заказами. \n",
    " \n",
    "</div>\n"
   ]
  },
  {
   "cell_type": "markdown",
   "metadata": {},
   "source": [
    "<div class=\"alert alert-info\"> <b>Комментарий студента:</b> \n",
    "    \n",
    "- У нас имеется 2 группы: контрольная и с изменениями\n",
    "- дата начала теста 2019-08-01, дата окончания теста 2019-09-01\n",
    "- нет людей окторые бы входили в 2 группы</div>"
   ]
  },
  {
   "cell_type": "markdown",
   "metadata": {},
   "source": [
    "<div class=\"alert alert-warning\">\n",
    "<b>Комментарий с советом ревьюера в2:</b>\n",
    "\n",
    "У нас есть пересечения, здесь можно посчитать количество уникальных пользователей в каждой группе, а так же общее количество уникальных пользователей и цифры не сойдутся\n",
    "    \n",
    "другой способо, можно сгруппировать по пользователея и посчитать количество уникальных групп и отобрать тех у кого больше одной группы.\n",
    "    \n",
    "Как ты думаешь, данные пользователей, которые попали в обе группы необходимо удалить или оставить?\n",
    "</div>"
   ]
  },
  {
   "cell_type": "markdown",
   "metadata": {},
   "source": [
    "<div class=\"alert alert-success\">\n",
    "<b>Комментарий с комплиментом ревьюера в3:</b> \n",
    "Нашлось пересечение"
   ]
  },
  {
   "cell_type": "code",
   "execution_count": 18,
   "metadata": {},
   "outputs": [],
   "source": [
    "# создаем массив уникальных пар значений дат и групп теста\n",
    "datesGroups = orders[['date','group']].drop_duplicates() "
   ]
  },
  {
   "cell_type": "code",
   "execution_count": 19,
   "metadata": {},
   "outputs": [],
   "source": [
    "ordersAggregated = datesGroups.apply(\n",
    "    lambda x: orders[\n",
    "        np.logical_and(\n",
    "            orders['date'] <= x['date'], orders['group'] == x['group']\n",
    "        )\n",
    "    ].agg(\n",
    "        {\n",
    "            'date': 'max',\n",
    "            'group': 'max',\n",
    "            'transactionId': 'nunique',\n",
    "            'visitorId': 'nunique',\n",
    "            'revenue': 'sum',\n",
    "        }\n",
    "    ),\n",
    "    axis=1,\n",
    ").sort_values(by=['date', 'group'])"
   ]
  },
  {
   "cell_type": "code",
   "execution_count": 20,
   "metadata": {},
   "outputs": [],
   "source": [
    "visitorsAggregated = datesGroups.apply(\n",
    "    lambda x: visitors[\n",
    "        np.logical_and(\n",
    "            visitors['date'] <= x['date'], visitors['group'] == x['group']\n",
    "        )\n",
    "    ].agg({'date': 'max', 'group': 'max', 'visitors': 'sum'}),\n",
    "    axis=1,\n",
    ").sort_values(by=['date', 'group'])"
   ]
  },
  {
   "cell_type": "code",
   "execution_count": 21,
   "metadata": {},
   "outputs": [],
   "source": [
    "cumulativeData = ordersAggregated.merge(\n",
    "    visitorsAggregated, left_on=['date', 'group'], right_on=['date', 'group']\n",
    ")\n",
    "cumulativeData.columns = [\n",
    "    'date',\n",
    "    'group',\n",
    "    'orders',\n",
    "    'buyers',\n",
    "    'revenue',\n",
    "    'visitors',\n",
    "]"
   ]
  },
  {
   "cell_type": "code",
   "execution_count": 22,
   "metadata": {},
   "outputs": [
    {
     "data": {
      "text/plain": [
       "Text(0, 0.5, 'Выручка')"
      ]
     },
     "execution_count": 22,
     "metadata": {},
     "output_type": "execute_result"
    },
    {
     "data": {
      "image/png": "[encoded data removed]",
      "text/plain": [
       "<Figure size 504x504 with 1 Axes>"
      ]
     },
     "metadata": {
      "needs_background": "light"
     },
     "output_type": "display_data"
    }
   ],
   "source": [
    "cumulativeRevenueA = cumulativeData[cumulativeData['group']=='A'][['date','revenue', 'orders']]\n",
    "\n",
    "cumulativeRevenueB = cumulativeData[cumulativeData['group']=='B'][['date','revenue', 'orders']]\n",
    "\n",
    "\n",
    "plt.figure(figsize=(7,7))\n",
    "plt.xticks(rotation=45)\n",
    "plt.plot(cumulativeRevenueA['date'], cumulativeRevenueA['revenue'], label='A')\n",
    "\n",
    "plt.plot(cumulativeRevenueB['date'], cumulativeRevenueB['revenue'], label='B')\n",
    "plt.legend()\n",
    "plt.title(\"график кумулятивной выручки по группам\")\n",
    "plt.xlabel(\"Дата\")\n",
    "plt.ylabel(\"Выручка\")"
   ]
  },
  {
   "cell_type": "markdown",
   "metadata": {},
   "source": [
    "<div class=\"alert alert-danger\">\n",
    "<b>Комментарий с замечанием ревьюера:</b>\n",
    "    \n",
    "Графики в проекте будут смотреться лучше, если добавить:\n",
    "\n",
    "- название\n",
    "- подписи осей\n",
    "  </div>\n"
   ]
  },
  {
   "cell_type": "markdown",
   "metadata": {},
   "source": [
    "<div class=\"alert alert-info\"> <b>Комментарий студента:</b> Добавлено</div>"
   ]
  },
  {
   "cell_type": "markdown",
   "metadata": {},
   "source": [
    "<div class=\"alert alert-success\">\n",
    "<b>Комментарий с комплиментом ревьюера в2:</b> \n",
    "    \n",
    "Верно"
   ]
  },
  {
   "cell_type": "markdown",
   "metadata": {},
   "source": [
    "выводы: группа B стабильно лучше начиная с 2019-08-13, а так же произошол резкий рост выручки группы B 2019-08-19\n",
    "Это может сигнализировать о всплесках числа заказов, либо о появлении очень дорогих заказов в выборке."
   ]
  },
  {
   "cell_type": "markdown",
   "metadata": {},
   "source": [
    "<div class=\"alert alert-success\">\n",
    "<b>Комментарий с комплиментом ревьюера:</b>\n",
    "    \n",
    "График интерпретирован верно, здорово, что выдвинуто предположение природы появления всплеска.\n",
    "</div>\n"
   ]
  },
  {
   "cell_type": "markdown",
   "metadata": {},
   "source": [
    "задание 2: Постройте график кумулятивного среднего чека по группам. Сделайте выводы и предположения."
   ]
  },
  {
   "cell_type": "code",
   "execution_count": 23,
   "metadata": {},
   "outputs": [
    {
     "data": {
      "text/plain": [
       "Text(0, 0.5, 'Средний чек')"
      ]
     },
     "execution_count": 23,
     "metadata": {},
     "output_type": "execute_result"
    },
    {
     "data": {
      "image/png": "[encoded data removed]",
      "text/plain": [
       "<Figure size 504x504 with 1 Axes>"
      ]
     },
     "metadata": {
      "needs_background": "light"
     },
     "output_type": "display_data"
    }
   ],
   "source": [
    "cumulativeRevenueA = cumulativeData[cumulativeData['group'] == 'A'][\n",
    "    ['date', 'revenue', 'orders']\n",
    "]\n",
    "cumulativeRevenueB = cumulativeData[cumulativeData['group'] == 'B'][\n",
    "    ['date', 'revenue', 'orders']\n",
    "]\n",
    "\n",
    "plt.figure(figsize=(7,7))\n",
    "plt.xticks(rotation=45)\n",
    "plt.plot(cumulativeRevenueA['date'], cumulativeRevenueA['revenue']/cumulativeRevenueA['orders'], label='A')\n",
    "plt.plot(cumulativeRevenueB['date'], cumulativeRevenueB['revenue']/cumulativeRevenueB['orders'], label='B')\n",
    "plt.legend()\n",
    "plt.title(\"график кумулятивной среднего чека  по группам\")\n",
    "plt.xlabel(\"Дата\")\n",
    "plt.ylabel(\"Средний чек\")"
   ]
  },
  {
   "cell_type": "markdown",
   "metadata": {},
   "source": [
    "выводы: средний чек группы B сильно вырос 21.08.2019 , по графику видно что средний цек группы B выше чем средний чек группы A\n",
    "нельзя сделать вывод что средний чек стал равномерным."
   ]
  },
  {
   "cell_type": "markdown",
   "metadata": {},
   "source": [
    "<div class=\"alert alert-success\">\n",
    "<b>Комментарий с комплиментом ревьюера:</b>\n",
    "    \n",
    "Согласен с выводом по графику.\n",
    "</div>\n"
   ]
  },
  {
   "cell_type": "markdown",
   "metadata": {},
   "source": [
    "задание 3 : Постройте график относительного изменения кумулятивного среднего чека группы B к группе A. Сделайте выводы и предположения."
   ]
  },
  {
   "cell_type": "code",
   "execution_count": 24,
   "metadata": {},
   "outputs": [
    {
     "data": {
      "text/plain": [
       "<matplotlib.lines.Line2D at 0x7feddd7a7df0>"
      ]
     },
     "execution_count": 24,
     "metadata": {},
     "output_type": "execute_result"
    },
    {
     "data": {
      "image/png": "[encoded data removed]",
      "text/plain": [
       "<Figure size 504x504 with 1 Axes>"
      ]
     },
     "metadata": {
      "needs_background": "light"
     },
     "output_type": "display_data"
    }
   ],
   "source": [
    "cumulativeRevenueA = cumulativeData[cumulativeData['group'] == 'A'][\n",
    "    ['date', 'revenue', 'orders']\n",
    "]\n",
    "cumulativeRevenueB = cumulativeData[cumulativeData['group'] == 'B'][\n",
    "    ['date', 'revenue', 'orders']\n",
    "]\n",
    "\n",
    "# собираем данные в одном датафрейме\n",
    "mergedCumulativeRevenue = cumulativeRevenueA.merge(cumulativeRevenueB, left_on='date', right_on='date', how='left', suffixes=['A', 'B'])\n",
    "\n",
    "# cтроим отношение средних чеков\n",
    "plt.figure(figsize=(7,7))\n",
    "plt.xticks(rotation=45)\n",
    "plt.plot(mergedCumulativeRevenue['date'], (mergedCumulativeRevenue['revenueB']/mergedCumulativeRevenue['ordersB'])/(mergedCumulativeRevenue['revenueA']/mergedCumulativeRevenue['ordersA'])-1)\n",
    "plt.title('относительного изменения кумулятивного среднего чека группы B к группе A.')\n",
    "plt.xlabel(\"Дата\")\n",
    "# добавляем ось X\n",
    "plt.axhline(y=0, color='black', linestyle='--')"
   ]
  },
  {
   "cell_type": "markdown",
   "metadata": {},
   "source": [
    "Выводы. На грфике отчетливо видно что относительное изменение группы B больше чем групы А. Но нельзя сказать что это стабильное значения. резкие рост и падения говорят о наличии выбрасов"
   ]
  },
  {
   "cell_type": "markdown",
   "metadata": {},
   "source": [
    "<div class=\"alert alert-success\">\n",
    "<b>Комментарий с комплиментом ревьюера:</b>\n",
    "    \n",
    "Сначала средний чек группы B стабильно растет, потом резко падает и снова растет. Согласен, влияние крупных заказов.   \n",
    "</div>\n"
   ]
  },
  {
   "cell_type": "markdown",
   "metadata": {},
   "source": [
    "задание 4 : Постройте график кумулятивного среднего количества заказов на посетителя по группам. Сделайте выводы и предположения."
   ]
  },
  {
   "cell_type": "code",
   "execution_count": 25,
   "metadata": {},
   "outputs": [
    {
     "data": {
      "text/html": [
       "<div>\n",
       "<style scoped>\n",
       "    .dataframe tbody tr th:only-of-type {\n",
       "        vertical-align: middle;\n",
       "    }\n",
       "\n",
       "    .dataframe tbody tr th {\n",
       "        vertical-align: top;\n",
       "    }\n",
       "\n",
       "    .dataframe thead th {\n",
       "        text-align: right;\n",
       "    }\n",
       "</style>\n",
       "<table border=\"1\" class=\"dataframe\">\n",
       "  <thead>\n",
       "    <tr style=\"text-align: right;\">\n",
       "      <th></th>\n",
       "      <th>date</th>\n",
       "      <th>group</th>\n",
       "      <th>orders</th>\n",
       "      <th>buyers</th>\n",
       "      <th>revenue</th>\n",
       "      <th>visitors</th>\n",
       "    </tr>\n",
       "  </thead>\n",
       "  <tbody>\n",
       "    <tr>\n",
       "      <th>0</th>\n",
       "      <td>2019-08-01</td>\n",
       "      <td>A</td>\n",
       "      <td>24</td>\n",
       "      <td>20</td>\n",
       "      <td>148579</td>\n",
       "      <td>719</td>\n",
       "    </tr>\n",
       "    <tr>\n",
       "      <th>1</th>\n",
       "      <td>2019-08-01</td>\n",
       "      <td>B</td>\n",
       "      <td>21</td>\n",
       "      <td>20</td>\n",
       "      <td>101217</td>\n",
       "      <td>713</td>\n",
       "    </tr>\n",
       "    <tr>\n",
       "      <th>2</th>\n",
       "      <td>2019-08-02</td>\n",
       "      <td>A</td>\n",
       "      <td>44</td>\n",
       "      <td>38</td>\n",
       "      <td>242401</td>\n",
       "      <td>1338</td>\n",
       "    </tr>\n",
       "    <tr>\n",
       "      <th>3</th>\n",
       "      <td>2019-08-02</td>\n",
       "      <td>B</td>\n",
       "      <td>45</td>\n",
       "      <td>43</td>\n",
       "      <td>266748</td>\n",
       "      <td>1294</td>\n",
       "    </tr>\n",
       "    <tr>\n",
       "      <th>4</th>\n",
       "      <td>2019-08-03</td>\n",
       "      <td>A</td>\n",
       "      <td>68</td>\n",
       "      <td>62</td>\n",
       "      <td>354874</td>\n",
       "      <td>1845</td>\n",
       "    </tr>\n",
       "    <tr>\n",
       "      <th>...</th>\n",
       "      <td>...</td>\n",
       "      <td>...</td>\n",
       "      <td>...</td>\n",
       "      <td>...</td>\n",
       "      <td>...</td>\n",
       "      <td>...</td>\n",
       "    </tr>\n",
       "    <tr>\n",
       "      <th>57</th>\n",
       "      <td>2019-08-29</td>\n",
       "      <td>B</td>\n",
       "      <td>596</td>\n",
       "      <td>544</td>\n",
       "      <td>5559398</td>\n",
       "      <td>17708</td>\n",
       "    </tr>\n",
       "    <tr>\n",
       "      <th>58</th>\n",
       "      <td>2019-08-30</td>\n",
       "      <td>A</td>\n",
       "      <td>545</td>\n",
       "      <td>493</td>\n",
       "      <td>4022970</td>\n",
       "      <td>18037</td>\n",
       "    </tr>\n",
       "    <tr>\n",
       "      <th>59</th>\n",
       "      <td>2019-08-30</td>\n",
       "      <td>B</td>\n",
       "      <td>620</td>\n",
       "      <td>567</td>\n",
       "      <td>5774631</td>\n",
       "      <td>18198</td>\n",
       "    </tr>\n",
       "    <tr>\n",
       "      <th>60</th>\n",
       "      <td>2019-08-31</td>\n",
       "      <td>A</td>\n",
       "      <td>557</td>\n",
       "      <td>503</td>\n",
       "      <td>4084803</td>\n",
       "      <td>18736</td>\n",
       "    </tr>\n",
       "    <tr>\n",
       "      <th>61</th>\n",
       "      <td>2019-08-31</td>\n",
       "      <td>B</td>\n",
       "      <td>640</td>\n",
       "      <td>586</td>\n",
       "      <td>5907760</td>\n",
       "      <td>18916</td>\n",
       "    </tr>\n",
       "  </tbody>\n",
       "</table>\n",
       "<p>62 rows × 6 columns</p>\n",
       "</div>"
      ],
      "text/plain": [
       "         date group  orders  buyers  revenue  visitors\n",
       "0  2019-08-01  A     24      20      148579   719     \n",
       "1  2019-08-01  B     21      20      101217   713     \n",
       "2  2019-08-02  A     44      38      242401   1338    \n",
       "3  2019-08-02  B     45      43      266748   1294    \n",
       "4  2019-08-03  A     68      62      354874   1845    \n",
       "..        ... ..     ..      ..         ...    ...    \n",
       "57 2019-08-29  B     596     544     5559398  17708   \n",
       "58 2019-08-30  A     545     493     4022970  18037   \n",
       "59 2019-08-30  B     620     567     5774631  18198   \n",
       "60 2019-08-31  A     557     503     4084803  18736   \n",
       "61 2019-08-31  B     640     586     5907760  18916   \n",
       "\n",
       "[62 rows x 6 columns]"
      ]
     },
     "execution_count": 25,
     "metadata": {},
     "output_type": "execute_result"
    }
   ],
   "source": [
    "cumulativeData"
   ]
  },
  {
   "cell_type": "code",
   "execution_count": 26,
   "metadata": {},
   "outputs": [
    {
     "data": {
      "text/plain": [
       "(18109.0, 18139.0, 0.0, 0.05)"
      ]
     },
     "execution_count": 26,
     "metadata": {},
     "output_type": "execute_result"
    },
    {
     "data": {
      "image/png": "[encoded data removed]",
      "text/plain": [
       "<Figure size 504x216 with 1 Axes>"
      ]
     },
     "metadata": {
      "needs_background": "light"
     },
     "output_type": "display_data"
    }
   ],
   "source": [
    "cumulativeData['conversion'] = cumulativeData['orders']/cumulativeData['visitors']\n",
    "\n",
    "# отделяем данные по группе A\n",
    "cumulativeDataA = cumulativeData[cumulativeData['group']=='A']\n",
    "\n",
    "# отделяем данные по группе B\n",
    "cumulativeDataB = cumulativeData[cumulativeData['group']=='B']\n",
    "\n",
    "# строим графики\n",
    "plt.figure(figsize=(7,3))\n",
    "plt.xticks(rotation=45)\n",
    "plt.plot(cumulativeDataA['date'], cumulativeDataA['conversion'], label='A')\n",
    "plt.plot(cumulativeDataB['date'], cumulativeDataB['conversion'], label='B')\n",
    "plt.legend()\n",
    "plt.title(\"график кумулятивного среднего количества заказов на посетителя\")\n",
    "plt.xlabel(\"Дата\")\n",
    "plt.ylabel('среднее количество заказов')\n",
    "\n",
    "# задаем масштаб осей\n",
    "plt.axis([dt.datetime(2019, 8, 1), dt.datetime(2019, 8, 31), 0, 0.05])"
   ]
  },
  {
   "cell_type": "markdown",
   "metadata": {},
   "source": [
    "Выводы: по графику видно, что практически на всем временном промежутке группа b показывала более лучшие значения. Можно заключить что данные стабилизировались"
   ]
  },
  {
   "cell_type": "markdown",
   "metadata": {},
   "source": [
    "<div class=\"alert alert-success\">\n",
    "<b>Комментарий с комплиментом ревьюера:</b>\n",
    "    \n",
    "Все верно, среднее количество заказов группы В продолжает выигрывать до конца.  \n",
    "</div>\n"
   ]
  },
  {
   "cell_type": "markdown",
   "metadata": {},
   "source": [
    "Задание 5 : Постройте график относительного изменения кумулятивного среднего количества заказов на посетителя группы B к группе A. Сделайте выводы и предположения."
   ]
  },
  {
   "cell_type": "code",
   "execution_count": 27,
   "metadata": {},
   "outputs": [
    {
     "data": {
      "text/plain": [
       "Text(0.5, 0, 'Дата')"
      ]
     },
     "execution_count": 27,
     "metadata": {},
     "output_type": "execute_result"
    },
    {
     "data": {
      "image/png": "[encoded data removed]",
      "text/plain": [
       "<Figure size 504x504 with 1 Axes>"
      ]
     },
     "metadata": {
      "needs_background": "light"
     },
     "output_type": "display_data"
    }
   ],
   "source": [
    "cumulativeData['conversion'] = (\n",
    "    cumulativeData['orders'] / cumulativeData['visitors']\n",
    ")\n",
    "\n",
    "cumulativeDataA = cumulativeData[cumulativeData['group'] == 'A']\n",
    "\n",
    "\n",
    "cumulativeDataB = cumulativeData[cumulativeData['group'] == 'B']\n",
    "\n",
    "mergedCumulativeConversions = cumulativeDataA[['date','conversion']].merge(cumulativeDataB[['date','conversion']], left_on='date', right_on='date', how='left', suffixes=['A', 'B'])\n",
    "\n",
    "plt.figure(figsize=(7,7))\n",
    "plt.xticks(rotation=45)\n",
    "plt.plot(mergedCumulativeConversions['date'], mergedCumulativeConversions['conversionB']/mergedCumulativeConversions['conversionA']-1, label=\"Относительный прирост конверсии группы B относительно группы A\")\n",
    "\n",
    "\n",
    "plt.axhline(y=0, color='black', linestyle='--')\n",
    "plt.axhline(y=0.14, color='grey', linestyle='--')\n",
    "plt.axhline(y=0.1, color='grey', linestyle='--')\n",
    "plt.axhline(y=0.2, color='grey', linestyle='--')\n",
    "plt.axis([dt.datetime(2019, 8, 1), dt.datetime(2019, 8, 31), -0.2, 0.25])\n",
    "plt.title(\"график относительного изменения кумулятивного среднего количества заказов на посетителя группы B к группе A.\")\n",
    "plt.xlabel(\"Дата\")"
   ]
  },
  {
   "cell_type": "markdown",
   "metadata": {},
   "source": [
    "выводы: Практичсеки на всем временном промежутке группа b показывала более лучшие значения."
   ]
  },
  {
   "cell_type": "markdown",
   "metadata": {},
   "source": [
    "<div class=\"alert alert-warning\">\n",
    "<b>Комментарий с небольшим замечанием ревьюера:</b>\n",
    "    \n",
    "На график лучше добавить еще две axhline на уровне 0.1 и 0.2, чтобы показать на каком уровне стабилизировалось среднее количества заказов и добавить эти данные в вывод, убрать легенду, поскольку она не несет смысловой нагрузки и при этом занимает значительное место на графике\n",
    "</div>\n"
   ]
  },
  {
   "cell_type": "markdown",
   "metadata": {},
   "source": [
    "задача 6 : Постройте точечный график количества заказов по пользователям. Сделайте выводы и предположения."
   ]
  },
  {
   "cell_type": "code",
   "execution_count": 28,
   "metadata": {},
   "outputs": [
    {
     "data": {
      "text/html": [
       "<div>\n",
       "<style scoped>\n",
       "    .dataframe tbody tr th:only-of-type {\n",
       "        vertical-align: middle;\n",
       "    }\n",
       "\n",
       "    .dataframe tbody tr th {\n",
       "        vertical-align: top;\n",
       "    }\n",
       "\n",
       "    .dataframe thead th {\n",
       "        text-align: right;\n",
       "    }\n",
       "</style>\n",
       "<table border=\"1\" class=\"dataframe\">\n",
       "  <thead>\n",
       "    <tr style=\"text-align: right;\">\n",
       "      <th></th>\n",
       "      <th>transactionId</th>\n",
       "      <th>visitorId</th>\n",
       "      <th>date</th>\n",
       "      <th>revenue</th>\n",
       "      <th>group</th>\n",
       "    </tr>\n",
       "  </thead>\n",
       "  <tbody>\n",
       "    <tr>\n",
       "      <th>0</th>\n",
       "      <td>3667963787</td>\n",
       "      <td>3312258926</td>\n",
       "      <td>2019-08-15</td>\n",
       "      <td>1650</td>\n",
       "      <td>B</td>\n",
       "    </tr>\n",
       "    <tr>\n",
       "      <th>1</th>\n",
       "      <td>2804400009</td>\n",
       "      <td>3642806036</td>\n",
       "      <td>2019-08-15</td>\n",
       "      <td>730</td>\n",
       "      <td>B</td>\n",
       "    </tr>\n",
       "    <tr>\n",
       "      <th>2</th>\n",
       "      <td>2961555356</td>\n",
       "      <td>4069496402</td>\n",
       "      <td>2019-08-15</td>\n",
       "      <td>400</td>\n",
       "      <td>A</td>\n",
       "    </tr>\n",
       "    <tr>\n",
       "      <th>3</th>\n",
       "      <td>3797467345</td>\n",
       "      <td>1196621759</td>\n",
       "      <td>2019-08-15</td>\n",
       "      <td>9759</td>\n",
       "      <td>B</td>\n",
       "    </tr>\n",
       "    <tr>\n",
       "      <th>4</th>\n",
       "      <td>2282983706</td>\n",
       "      <td>2322279887</td>\n",
       "      <td>2019-08-15</td>\n",
       "      <td>2308</td>\n",
       "      <td>B</td>\n",
       "    </tr>\n",
       "    <tr>\n",
       "      <th>...</th>\n",
       "      <td>...</td>\n",
       "      <td>...</td>\n",
       "      <td>...</td>\n",
       "      <td>...</td>\n",
       "      <td>...</td>\n",
       "    </tr>\n",
       "    <tr>\n",
       "      <th>1192</th>\n",
       "      <td>2662137336</td>\n",
       "      <td>3733762160</td>\n",
       "      <td>2019-08-14</td>\n",
       "      <td>6490</td>\n",
       "      <td>B</td>\n",
       "    </tr>\n",
       "    <tr>\n",
       "      <th>1193</th>\n",
       "      <td>2203539145</td>\n",
       "      <td>370388673</td>\n",
       "      <td>2019-08-14</td>\n",
       "      <td>3190</td>\n",
       "      <td>A</td>\n",
       "    </tr>\n",
       "    <tr>\n",
       "      <th>1194</th>\n",
       "      <td>1807773912</td>\n",
       "      <td>573423106</td>\n",
       "      <td>2019-08-14</td>\n",
       "      <td>10550</td>\n",
       "      <td>A</td>\n",
       "    </tr>\n",
       "    <tr>\n",
       "      <th>1195</th>\n",
       "      <td>1947021204</td>\n",
       "      <td>1614305549</td>\n",
       "      <td>2019-08-14</td>\n",
       "      <td>100</td>\n",
       "      <td>A</td>\n",
       "    </tr>\n",
       "    <tr>\n",
       "      <th>1196</th>\n",
       "      <td>3936777065</td>\n",
       "      <td>2108080724</td>\n",
       "      <td>2019-08-15</td>\n",
       "      <td>202740</td>\n",
       "      <td>B</td>\n",
       "    </tr>\n",
       "  </tbody>\n",
       "</table>\n",
       "<p>1197 rows × 5 columns</p>\n",
       "</div>"
      ],
      "text/plain": [
       "      transactionId   visitorId       date  revenue group\n",
       "0     3667963787     3312258926 2019-08-15  1650     B   \n",
       "1     2804400009     3642806036 2019-08-15  730      B   \n",
       "2     2961555356     4069496402 2019-08-15  400      A   \n",
       "3     3797467345     1196621759 2019-08-15  9759     B   \n",
       "4     2282983706     2322279887 2019-08-15  2308     B   \n",
       "...          ...            ...        ...   ...    ..   \n",
       "1192  2662137336     3733762160 2019-08-14  6490     B   \n",
       "1193  2203539145     370388673  2019-08-14  3190     A   \n",
       "1194  1807773912     573423106  2019-08-14  10550    A   \n",
       "1195  1947021204     1614305549 2019-08-14  100      A   \n",
       "1196  3936777065     2108080724 2019-08-15  202740   B   \n",
       "\n",
       "[1197 rows x 5 columns]"
      ]
     },
     "execution_count": 28,
     "metadata": {},
     "output_type": "execute_result"
    }
   ],
   "source": [
    "orders"
   ]
  },
  {
   "cell_type": "code",
   "execution_count": 29,
   "metadata": {},
   "outputs": [
    {
     "name": "stdout",
     "output_type": "stream",
     "text": [
      "       visitorid  orders\n",
      "1023  4256040402  11    \n",
      "591   2458001652  11    \n",
      "569   2378935119  9     \n",
      "487   2038680547  8     \n",
      "44    199603092   5     \n",
      "744   3062433592  5     \n",
      "55    237748145   5     \n",
      "917   3803269165  5     \n",
      "299   1230306981  5     \n",
      "897   3717692402  5     \n"
     ]
    }
   ],
   "source": [
    "ordersByUsers = (\n",
    "    orders.groupby('visitorId', as_index=False)\n",
    "    .agg({'transactionId': 'nunique'})\n",
    ")\n",
    "\n",
    "ordersByUsers.columns = ['visitorid', 'orders']\n",
    "\n",
    "print(ordersByUsers.sort_values(by='orders', ascending=False).head(10)) "
   ]
  },
  {
   "cell_type": "code",
   "execution_count": 30,
   "metadata": {},
   "outputs": [
    {
     "data": {
      "text/plain": [
       "Text(0, 0.5, 'заказы на пользователя')"
      ]
     },
     "execution_count": 30,
     "metadata": {},
     "output_type": "execute_result"
    },
    {
     "data": {
      "image/png": "[encoded data removed]",
      "text/plain": [
       "<Figure size 432x288 with 1 Axes>"
      ]
     },
     "metadata": {
      "needs_background": "light"
     },
     "output_type": "display_data"
    }
   ],
   "source": [
    "x_values = pd.Series(range(0,len(ordersByUsers)))\n",
    "\n",
    "plt.scatter(x_values, ordersByUsers['orders']) \n",
    "plt.title(\"точечный график количества заказов по пользователям\")\n",
    "plt.xlabel(\"Дата\")\n",
    "plt.ylabel(\"заказы на пользователя\")"
   ]
  },
  {
   "cell_type": "markdown",
   "metadata": {},
   "source": [
    "Вывод: Выводы подтверждаются: много пользователей с 2-4 заказами. Их точная доля не ясна — непонятно, считать их аномалиями или нет"
   ]
  },
  {
   "cell_type": "markdown",
   "metadata": {},
   "source": [
    "<div class=\"alert alert-success\">\n",
    "<b>Комментарий с комплиментом ревьюера:</b>\n",
    "\n",
    "Отличный анализ, можно предположить, что граница нормальных и аномальных пользователей проходит примерно на уровне 3-4 заказа на одного пользователя.\n",
    "<div>\n"
   ]
  },
  {
   "cell_type": "markdown",
   "metadata": {},
   "source": [
    "задание 7: "
   ]
  },
  {
   "cell_type": "code",
   "execution_count": 31,
   "metadata": {},
   "outputs": [
    {
     "name": "stdout",
     "output_type": "stream",
     "text": [
      "[2. 4.]\n"
     ]
    }
   ],
   "source": [
    "print(np.percentile(ordersByUsers['orders'], [95, 99]))"
   ]
  },
  {
   "cell_type": "markdown",
   "metadata": {},
   "source": [
    "Вывод: Не более 5% пользователей оформляли больше чем 2 заказов. И 1 % пользователей заказывали более 4  раз. "
   ]
  },
  {
   "cell_type": "markdown",
   "metadata": {},
   "source": [
    "Разумно выбрать 2 заказа на одного пользователя за верхнюю границу числа заказов, и отсеять аномальных пользователей по ней"
   ]
  },
  {
   "cell_type": "markdown",
   "metadata": {},
   "source": [
    "<div class=\"alert alert-success\">\n",
    "<b>Комментарий с комплиментом ревьюера:</b>\n",
    "\n",
    "95-й и 99-й перцентили определены верно, нижняя граница числа заказов выбрана корректно, молодец.</div>\n"
   ]
  },
  {
   "cell_type": "markdown",
   "metadata": {},
   "source": [
    "задание 8 : Постройте точечный график стоимостей заказов. Сделайте выводы и предположения."
   ]
  },
  {
   "cell_type": "code",
   "execution_count": 32,
   "metadata": {},
   "outputs": [
    {
     "data": {
      "text/html": [
       "<div>\n",
       "<style scoped>\n",
       "    .dataframe tbody tr th:only-of-type {\n",
       "        vertical-align: middle;\n",
       "    }\n",
       "\n",
       "    .dataframe tbody tr th {\n",
       "        vertical-align: top;\n",
       "    }\n",
       "\n",
       "    .dataframe thead th {\n",
       "        text-align: right;\n",
       "    }\n",
       "</style>\n",
       "<table border=\"1\" class=\"dataframe\">\n",
       "  <thead>\n",
       "    <tr style=\"text-align: right;\">\n",
       "      <th></th>\n",
       "      <th>transactionId</th>\n",
       "      <th>visitorId</th>\n",
       "      <th>date</th>\n",
       "      <th>revenue</th>\n",
       "      <th>group</th>\n",
       "    </tr>\n",
       "  </thead>\n",
       "  <tbody>\n",
       "    <tr>\n",
       "      <th>0</th>\n",
       "      <td>3667963787</td>\n",
       "      <td>3312258926</td>\n",
       "      <td>2019-08-15</td>\n",
       "      <td>1650</td>\n",
       "      <td>B</td>\n",
       "    </tr>\n",
       "    <tr>\n",
       "      <th>1</th>\n",
       "      <td>2804400009</td>\n",
       "      <td>3642806036</td>\n",
       "      <td>2019-08-15</td>\n",
       "      <td>730</td>\n",
       "      <td>B</td>\n",
       "    </tr>\n",
       "    <tr>\n",
       "      <th>2</th>\n",
       "      <td>2961555356</td>\n",
       "      <td>4069496402</td>\n",
       "      <td>2019-08-15</td>\n",
       "      <td>400</td>\n",
       "      <td>A</td>\n",
       "    </tr>\n",
       "    <tr>\n",
       "      <th>3</th>\n",
       "      <td>3797467345</td>\n",
       "      <td>1196621759</td>\n",
       "      <td>2019-08-15</td>\n",
       "      <td>9759</td>\n",
       "      <td>B</td>\n",
       "    </tr>\n",
       "    <tr>\n",
       "      <th>4</th>\n",
       "      <td>2282983706</td>\n",
       "      <td>2322279887</td>\n",
       "      <td>2019-08-15</td>\n",
       "      <td>2308</td>\n",
       "      <td>B</td>\n",
       "    </tr>\n",
       "    <tr>\n",
       "      <th>...</th>\n",
       "      <td>...</td>\n",
       "      <td>...</td>\n",
       "      <td>...</td>\n",
       "      <td>...</td>\n",
       "      <td>...</td>\n",
       "    </tr>\n",
       "    <tr>\n",
       "      <th>1192</th>\n",
       "      <td>2662137336</td>\n",
       "      <td>3733762160</td>\n",
       "      <td>2019-08-14</td>\n",
       "      <td>6490</td>\n",
       "      <td>B</td>\n",
       "    </tr>\n",
       "    <tr>\n",
       "      <th>1193</th>\n",
       "      <td>2203539145</td>\n",
       "      <td>370388673</td>\n",
       "      <td>2019-08-14</td>\n",
       "      <td>3190</td>\n",
       "      <td>A</td>\n",
       "    </tr>\n",
       "    <tr>\n",
       "      <th>1194</th>\n",
       "      <td>1807773912</td>\n",
       "      <td>573423106</td>\n",
       "      <td>2019-08-14</td>\n",
       "      <td>10550</td>\n",
       "      <td>A</td>\n",
       "    </tr>\n",
       "    <tr>\n",
       "      <th>1195</th>\n",
       "      <td>1947021204</td>\n",
       "      <td>1614305549</td>\n",
       "      <td>2019-08-14</td>\n",
       "      <td>100</td>\n",
       "      <td>A</td>\n",
       "    </tr>\n",
       "    <tr>\n",
       "      <th>1196</th>\n",
       "      <td>3936777065</td>\n",
       "      <td>2108080724</td>\n",
       "      <td>2019-08-15</td>\n",
       "      <td>202740</td>\n",
       "      <td>B</td>\n",
       "    </tr>\n",
       "  </tbody>\n",
       "</table>\n",
       "<p>1197 rows × 5 columns</p>\n",
       "</div>"
      ],
      "text/plain": [
       "      transactionId   visitorId       date  revenue group\n",
       "0     3667963787     3312258926 2019-08-15  1650     B   \n",
       "1     2804400009     3642806036 2019-08-15  730      B   \n",
       "2     2961555356     4069496402 2019-08-15  400      A   \n",
       "3     3797467345     1196621759 2019-08-15  9759     B   \n",
       "4     2282983706     2322279887 2019-08-15  2308     B   \n",
       "...          ...            ...        ...   ...    ..   \n",
       "1192  2662137336     3733762160 2019-08-14  6490     B   \n",
       "1193  2203539145     370388673  2019-08-14  3190     A   \n",
       "1194  1807773912     573423106  2019-08-14  10550    A   \n",
       "1195  1947021204     1614305549 2019-08-14  100      A   \n",
       "1196  3936777065     2108080724 2019-08-15  202740   B   \n",
       "\n",
       "[1197 rows x 5 columns]"
      ]
     },
     "execution_count": 32,
     "metadata": {},
     "output_type": "execute_result"
    }
   ],
   "source": [
    "orders\n",
    "#cumulativeData"
   ]
  },
  {
   "cell_type": "code",
   "execution_count": 33,
   "metadata": {},
   "outputs": [
    {
     "data": {
      "text/plain": [
       "Text(0, 0.5, 'Стоимость заказа')"
      ]
     },
     "execution_count": 33,
     "metadata": {},
     "output_type": "execute_result"
    },
    {
     "data": {
      "image/png": "[encoded data removed]",
      "text/plain": [
       "<Figure size 432x288 with 1 Axes>"
      ]
     },
     "metadata": {
      "needs_background": "light"
     },
     "output_type": "display_data"
    }
   ],
   "source": [
    "x_values = pd.Series(range(0, len(orders['revenue'])))\n",
    "\n",
    "plt.scatter(x_values, orders['revenue'])\n",
    "plt.title(\"точечный график стоимостей заказов\")\n",
    "plt.xlabel(\"Дата\")\n",
    "plt.ylabel(\"Стоимость заказа\")"
   ]
  },
  {
   "cell_type": "markdown",
   "metadata": {},
   "source": [
    "<div class=\"alert alert-success\">\n",
    "<b>Комментарий с комплиментом ревьюера:</b>\n",
    "    \n",
    "График построен правильно, видны аномалии. Можно добавить еще один график, ограничив значения по оси Y, чтобы мы могли рассмотреть основную часть заказов. </div>\n"
   ]
  },
  {
   "cell_type": "markdown",
   "metadata": {},
   "source": [
    "задача 9: Посчитайте 95-й и 99-й перцентили стоимости заказов. Выберите границу для определения аномальных заказов."
   ]
  },
  {
   "cell_type": "code",
   "execution_count": 34,
   "metadata": {},
   "outputs": [
    {
     "name": "stdout",
     "output_type": "stream",
     "text": [
      "[28000.  58233.2]\n"
     ]
    }
   ],
   "source": [
    "print(np.percentile(orders['revenue'], [95, 99]))"
   ]
  },
  {
   "cell_type": "markdown",
   "metadata": {},
   "source": [
    "Выводы: Не более 5% заказов дороже 28 000 рублей и не более 1% дороже 58 233 рублей.\n",
    "Нижняя граница стоимости заказов ровна 28000 руб"
   ]
  },
  {
   "cell_type": "markdown",
   "metadata": {},
   "source": [
    "<div class=\"alert alert-warning\">\n",
    "<b>Комментарий с небольшим замечанием ревьюера:</b>\n",
    "    \n",
    "Согласно заданию, здесь надо выбрать нижнюю границу стоимости заказов.\n",
    " \n",
    "</div>\n"
   ]
  },
  {
   "cell_type": "markdown",
   "metadata": {},
   "source": [
    "<div class=\"alert alert-success\">\n",
    "<b>Комментарий с комплиментом ревьюера в2:</b> \n",
    "    \n",
    "Верно"
   ]
  },
  {
   "cell_type": "markdown",
   "metadata": {},
   "source": [
    "Задача 10  : Посчитайте статистическую значимость различий в среднем количестве заказов на посетителя между группами по «сырым» данным. Сделайте выводы и предположения"
   ]
  },
  {
   "cell_type": "markdown",
   "metadata": {},
   "source": [
    "Сформулируем гипотезы. Нулевая: различий в среднем количестве заказов между группами нет. Альтернативная: различия в среднем между группами есть."
   ]
  },
  {
   "cell_type": "markdown",
   "metadata": {},
   "source": [
    "\n",
    "<div class=\"alert alert-success\">\n",
    "<b>Комментарий с комплиментом ревьюера:</b> \n",
    "\n",
    "Гипотезы сформулированы верно, молодец.\n",
    "</div>\n"
   ]
  },
  {
   "cell_type": "markdown",
   "metadata": {},
   "source": [
    "<div class=\"alert alert-warning\">\n",
    "<b>Комментарий с советом ревьюера:</b>\n",
    "    \n",
    "Вместе с формулировкой гипотез необходимо задать значение alpha и указать какой метод будешь использовать для проверки гипотез.\n",
    "</div>\n"
   ]
  },
  {
   "cell_type": "markdown",
   "metadata": {},
   "source": [
    "Alpha - 0.05"
   ]
  },
  {
   "cell_type": "markdown",
   "metadata": {},
   "source": [
    "<div class=\"alert alert-success\">\n",
    "<b>Комментарий с комплиментом ревьюера в2:</b> \n",
    "    \n",
    "Верно"
   ]
  },
  {
   "cell_type": "code",
   "execution_count": 35,
   "metadata": {},
   "outputs": [
    {
     "data": {
      "text/html": [
       "<div>\n",
       "<style scoped>\n",
       "    .dataframe tbody tr th:only-of-type {\n",
       "        vertical-align: middle;\n",
       "    }\n",
       "\n",
       "    .dataframe tbody tr th {\n",
       "        vertical-align: top;\n",
       "    }\n",
       "\n",
       "    .dataframe thead th {\n",
       "        text-align: right;\n",
       "    }\n",
       "</style>\n",
       "<table border=\"1\" class=\"dataframe\">\n",
       "  <thead>\n",
       "    <tr style=\"text-align: right;\">\n",
       "      <th></th>\n",
       "      <th>transactionId</th>\n",
       "      <th>visitorId</th>\n",
       "      <th>date</th>\n",
       "      <th>revenue</th>\n",
       "      <th>group</th>\n",
       "    </tr>\n",
       "  </thead>\n",
       "  <tbody>\n",
       "    <tr>\n",
       "      <th>0</th>\n",
       "      <td>3667963787</td>\n",
       "      <td>3312258926</td>\n",
       "      <td>2019-08-15</td>\n",
       "      <td>1650</td>\n",
       "      <td>B</td>\n",
       "    </tr>\n",
       "    <tr>\n",
       "      <th>1</th>\n",
       "      <td>2804400009</td>\n",
       "      <td>3642806036</td>\n",
       "      <td>2019-08-15</td>\n",
       "      <td>730</td>\n",
       "      <td>B</td>\n",
       "    </tr>\n",
       "    <tr>\n",
       "      <th>2</th>\n",
       "      <td>2961555356</td>\n",
       "      <td>4069496402</td>\n",
       "      <td>2019-08-15</td>\n",
       "      <td>400</td>\n",
       "      <td>A</td>\n",
       "    </tr>\n",
       "    <tr>\n",
       "      <th>3</th>\n",
       "      <td>3797467345</td>\n",
       "      <td>1196621759</td>\n",
       "      <td>2019-08-15</td>\n",
       "      <td>9759</td>\n",
       "      <td>B</td>\n",
       "    </tr>\n",
       "    <tr>\n",
       "      <th>4</th>\n",
       "      <td>2282983706</td>\n",
       "      <td>2322279887</td>\n",
       "      <td>2019-08-15</td>\n",
       "      <td>2308</td>\n",
       "      <td>B</td>\n",
       "    </tr>\n",
       "  </tbody>\n",
       "</table>\n",
       "</div>"
      ],
      "text/plain": [
       "   transactionId   visitorId       date  revenue group\n",
       "0  3667963787     3312258926 2019-08-15  1650     B   \n",
       "1  2804400009     3642806036 2019-08-15  730      B   \n",
       "2  2961555356     4069496402 2019-08-15  400      A   \n",
       "3  3797467345     1196621759 2019-08-15  9759     B   \n",
       "4  2282983706     2322279887 2019-08-15  2308     B   "
      ]
     },
     "execution_count": 35,
     "metadata": {},
     "output_type": "execute_result"
    }
   ],
   "source": [
    "orders.head(5)"
   ]
  },
  {
   "cell_type": "code",
   "execution_count": 36,
   "metadata": {},
   "outputs": [
    {
     "name": "stdout",
     "output_type": "stream",
     "text": [
      "        date  ordersPerDateA  revenuePerDateA  ordersPerDateB  \\\n",
      "0 2019-08-01  24              148579           21               \n",
      "1 2019-08-02  20              93822            24               \n",
      "2 2019-08-03  24              112473           16               \n",
      "3 2019-08-04  16              70825            17               \n",
      "4 2019-08-05  25              124218           23               \n",
      "\n",
      "   revenuePerDateB  ordersCummulativeA  revenueCummulativeA  \\\n",
      "0  101217           24                  148579                \n",
      "1  165531           44                  242401                \n",
      "2  114248           68                  354874                \n",
      "3  108571           84                  425699                \n",
      "4  92428            109                 549917                \n",
      "\n",
      "   ordersCummulativeB  revenueCummulativeB  visitorsPerDateA  \\\n",
      "0  21                  101217               719                \n",
      "1  45                  266748               619                \n",
      "2  61                  380996               507                \n",
      "3  78                  489567               717                \n",
      "4  101                 581995               756                \n",
      "\n",
      "   visitorsPerDateB  visitorsCummulativeA  visitorsCummulativeB  \n",
      "0  713               719                   713                   \n",
      "1  581               1338                  1294                  \n",
      "2  509               1845                  1803                  \n",
      "3  770               2562                  2573                  \n",
      "4  707               3318                  3280                  \n",
      "0.01679\n",
      "0.138\n"
     ]
    }
   ],
   "source": [
    "visitorsADaily = visitors[visitors['group'] == 'A'][['date', 'visitors']]\n",
    "visitorsADaily.columns = ['date', 'visitorsPerDateA']\n",
    "\n",
    "visitorsACummulative = visitorsADaily.apply(\n",
    "    lambda x: visitorsADaily[visitorsADaily['date'] <= x['date']].agg(\n",
    "        {'date': 'max', 'visitorsPerDateA': 'sum'}\n",
    "    ),\n",
    "    axis=1,\n",
    ")\n",
    "visitorsACummulative.columns = ['date', 'visitorsCummulativeA']\n",
    "\n",
    "visitorsBDaily = visitors[visitors['group'] == 'B'][['date', 'visitors']]\n",
    "visitorsBDaily.columns = ['date', 'visitorsPerDateB']\n",
    "\n",
    "visitorsBCummulative = visitorsBDaily.apply(\n",
    "    lambda x: visitorsBDaily[visitorsBDaily['date'] <= x['date']].agg(\n",
    "        {'date': 'max', 'visitorsPerDateB': 'sum'}\n",
    "    ),\n",
    "    axis=1,\n",
    ")\n",
    "visitorsBCummulative.columns = ['date', 'visitorsCummulativeB']\n",
    "\n",
    "ordersADaily = (\n",
    "    orders[orders['group'] == 'A'][['date', 'transactionId', 'visitorId', 'revenue']]\n",
    "    .groupby('date', as_index=False)\n",
    "    .agg({'transactionId': pd.Series.nunique, 'revenue': 'sum'})\n",
    ")\n",
    "ordersADaily.columns = ['date', 'ordersPerDateA', 'revenuePerDateA']\n",
    "\n",
    "ordersACummulative = ordersADaily.apply(\n",
    "    lambda x: ordersADaily[ordersADaily['date'] <= x['date']].agg(\n",
    "        {'date': 'max', 'ordersPerDateA': 'sum', 'revenuePerDateA': 'sum'}\n",
    "    ),\n",
    "    axis=1,\n",
    ").sort_values(by=['date'])\n",
    "ordersACummulative.columns = [\n",
    "    'date',\n",
    "    'ordersCummulativeA',\n",
    "    'revenueCummulativeA',\n",
    "]\n",
    "\n",
    "ordersBDaily = (\n",
    "    orders[orders['group'] == 'B'][['date', 'transactionId', 'visitorId', 'revenue']]\n",
    "    .groupby('date', as_index=False)\n",
    "    .agg({'transactionId': pd.Series.nunique, 'revenue': 'sum'})\n",
    ")\n",
    "ordersBDaily.columns = ['date', 'ordersPerDateB', 'revenuePerDateB']\n",
    "\n",
    "ordersBCummulative = ordersBDaily.apply(\n",
    "    lambda x: ordersBDaily[ordersBDaily['date'] <= x['date']].agg(\n",
    "        {'date': 'max', 'ordersPerDateB': 'sum', 'revenuePerDateB': 'sum'}\n",
    "    ),\n",
    "    axis=1,\n",
    ").sort_values(by=['date'])\n",
    "ordersBCummulative.columns = [\n",
    "    'date',\n",
    "    'ordersCummulativeB',\n",
    "    'revenueCummulativeB',\n",
    "]\n",
    "\n",
    "data = (\n",
    "    ordersADaily.merge(\n",
    "        ordersBDaily, left_on='date', right_on='date', how='left'\n",
    "    )\n",
    "    .merge(ordersACummulative, left_on='date', right_on='date', how='left')\n",
    "    .merge(ordersBCummulative, left_on='date', right_on='date', how='left')\n",
    "    .merge(visitorsADaily, left_on='date', right_on='date', how='left')\n",
    "    .merge(visitorsBDaily, left_on='date', right_on='date', how='left')\n",
    "    .merge(visitorsACummulative, left_on='date', right_on='date', how='left')\n",
    "    .merge(visitorsBCummulative, left_on='date', right_on='date', how='left')\n",
    ")\n",
    "\n",
    "print(data.head(5))\n",
    "\n",
    "ordersByUsersA = (\n",
    "    orders[orders['group'] == 'A']\n",
    "    .groupby('visitorId', as_index=False)\n",
    "    .agg({'transactionId': pd.Series.nunique})\n",
    ")\n",
    "ordersByUsersA.columns = ['userId', 'orders']\n",
    "\n",
    "ordersByUsersB = (\n",
    "    orders[orders['group'] == 'B']\n",
    "    .groupby('visitorId', as_index=False)\n",
    "    .agg({'transactionId': pd.Series.nunique})\n",
    ")\n",
    "ordersByUsersB.columns = ['userId', 'orders']\n",
    "\n",
    "pd.Series(0, index=np.arange(data['visitorsPerDateA'].sum() - len(ordersByUsersA['orders'])), name='orders')\n",
    " \n",
    "[ordersByUsersA['orders'],pd.Series(0, index=np.arange(data['visitorsPerDateA'].sum() - len(ordersByUsersA['orders'])), name='orders')] \n",
    "\n",
    "sampleA = pd.concat([ordersByUsersA['orders'],pd.Series(0, index=np.arange(data['visitorsPerDateA'].sum() - len(ordersByUsersA['orders'])), name='orders')],axis=0)\n",
    "\n",
    "sampleB = pd.concat([ordersByUsersB['orders'],pd.Series(0, index=np.arange(data['visitorsPerDateB'].sum() - len(ordersByUsersB['orders'])), name='orders')],axis=0)\n",
    "\n",
    "ordersByUsersA = (\n",
    "    orders[orders['group'] == 'A']\n",
    "    .groupby('visitorId', as_index=False)\n",
    "    .agg({'transactionId': pd.Series.nunique})\n",
    ")\n",
    "ordersByUsersA.columns = ['userId', 'orders']\n",
    "\n",
    "ordersByUsersB = (\n",
    "    orders[orders['group'] == 'B']\n",
    "    .groupby('visitorId', as_index=False)\n",
    "    .agg({'transactionId': pd.Series.nunique})\n",
    ")\n",
    "ordersByUsersB.columns = ['userId', 'orders']\n",
    "\n",
    "sampleA = pd.concat(\n",
    "    [\n",
    "        ordersByUsersA['orders'],\n",
    "        pd.Series(\n",
    "            0,\n",
    "            index=np.arange(\n",
    "                data['visitorsPerDateA'].sum() - len(ordersByUsersA['orders'])\n",
    "            ),\n",
    "            name='orders',\n",
    "        ),\n",
    "    ],\n",
    "    axis=0,\n",
    ")\n",
    "\n",
    "sampleB = pd.concat(\n",
    "    [\n",
    "        ordersByUsersB['orders'],\n",
    "        pd.Series(\n",
    "            0,\n",
    "            index=np.arange(\n",
    "                data['visitorsPerDateB'].sum() - len(ordersByUsersB['orders'])\n",
    "            ),\n",
    "            name='orders',\n",
    "        ),\n",
    "    ],\n",
    "    axis=0,\n",
    ")\n",
    "\n",
    "print(\"{0:.5f}\".format(stats.mannwhitneyu(sampleA, sampleB)[1]))\n",
    "\n",
    "print(\"{0:.3f}\".format(sampleB.mean() / sampleA.mean() - 1))\n"
   ]
  },
  {
   "cell_type": "markdown",
   "metadata": {},
   "source": [
    "<div class=\"alert alert-warning\">\n",
    "<b>Комментарий с советом ревьюера:</b>\n",
    "    \n",
    "Для того, чтобы твой проект стал еще лучше я бы порекомендовал подправить оформление вывода - сейчас не ясно, что означает та или иная цифра, подпиши, пожалуйста, какое число  - p-value, а какое - различие в средних\n",
    "\n",
    "</div>\n"
   ]
  },
  {
   "cell_type": "markdown",
   "metadata": {},
   "source": [
    "Вывод : Вывод: По «сырым» данным различия в среднем числе заказов групп A и B есть. "
   ]
  },
  {
   "cell_type": "markdown",
   "metadata": {},
   "source": [
    "Первое число — p-value = 0.01679 меньше 0.05. Значит, нулевую гипотезу о том, что статистически значимых различий в среднем числе заказов между группами нет, отвергаем. Однако относительный выигрышь группы B равен 13.8% — второе число в выводе."
   ]
  },
  {
   "cell_type": "markdown",
   "metadata": {},
   "source": [
    "<div class=\"alert alert-success\">\n",
    "<b>Комментарий с комплиментом ревьюера:</b> \n",
    "\n",
    "Гипотеза проверена верно.\n",
    "</div>\n"
   ]
  },
  {
   "cell_type": "markdown",
   "metadata": {},
   "source": [
    "задание 11: Посчитайте статистическую значимость различий в среднем чеке заказа между группами по «сырым» данным. Сделайте выводы и предположения."
   ]
  },
  {
   "cell_type": "markdown",
   "metadata": {},
   "source": [
    "Нулевая гипотеза: различий в среднем чеке между группами нет. Альтернативная гипотеза: различия в среднем чеке между группами есть"
   ]
  },
  {
   "cell_type": "code",
   "execution_count": 37,
   "metadata": {
    "scrolled": true
   },
   "outputs": [
    {
     "name": "stdout",
     "output_type": "stream",
     "text": [
      "0.729\n",
      "0.259\n"
     ]
    }
   ],
   "source": [
    "\n",
    "data = (\n",
    "    ordersADaily.merge(\n",
    "        ordersBDaily, left_on='date', right_on='date', how='left'\n",
    "    )\n",
    "    .merge(ordersACummulative, left_on='date', right_on='date', how='left')\n",
    "    .merge(ordersBCummulative, left_on='date', right_on='date', how='left')\n",
    "    .merge(visitorsADaily, left_on='date', right_on='date', how='left')\n",
    "    .merge(visitorsBDaily, left_on='date', right_on='date', how='left')\n",
    "    .merge(visitorsACummulative, left_on='date', right_on='date', how='left')\n",
    "    .merge(visitorsBCummulative, left_on='date', right_on='date', how='left')\n",
    ") \n",
    "print('{0:.3f}'.format(stats.mannwhitneyu(orders[orders['group']=='A']['revenue'], orders[orders['group']=='B']['revenue'])[1]))\n",
    "    \n",
    "print('{0:.3f}'.format(orders[orders['group']=='B']['revenue'].mean()/orders[orders['group']=='A']['revenue'].mean()-1)) "
   ]
  },
  {
   "cell_type": "markdown",
   "metadata": {},
   "source": [
    "<div class=\"alert alert-danger\">\n",
    "<b>Комментарий с замечанием:</b> \n",
    "    \n",
    "Подскажи, пожалуйста, зачем ты заново начинаешь собирать кумулятивные данные?\n",
    "</div>\n"
   ]
  },
  {
   "cell_type": "markdown",
   "metadata": {},
   "source": [
    "потому что \n",
    "- я умею ctr+c ctr+v, я не умею думать.\n",
    "- код работает, не трож"
   ]
  },
  {
   "cell_type": "markdown",
   "metadata": {},
   "source": [
    "<div class=\"alert alert-success\">\n",
    "<b>Комментарий с комплиментом ревьюера в2:</b> \n",
    "    \n",
    "Понял"
   ]
  },
  {
   "cell_type": "markdown",
   "metadata": {},
   "source": [
    "P-value значительно больше 0.05. Значит, причин отвергать нулевую гипотезу и считать, что в среднем чеке есть различия, нет. "
   ]
  },
  {
   "cell_type": "markdown",
   "metadata": {},
   "source": [
    "<div class=\"alert alert-danger\">\n",
    "<b>Комментарий с замечанием:</b> \n",
    "    \n",
    "Если p-value > alpha значит средний чек группы B **равен** среднему чеку группы A (или не отличается) и он не может быть **значительно выше** среднего чека группы A. Наблюдаемое различие не значимо, получено случайно из-за единичных выбросов.\n",
    " \n",
    "Скорректируй, пожалуйста, вывод.\n",
    "</div>\n"
   ]
  },
  {
   "cell_type": "markdown",
   "metadata": {},
   "source": [
    "<div class=\"alert alert-success\">\n",
    "<b>Комментарий с комплиментом ревьюера в2:</b> \n",
    "    \n",
    "Отлично"
   ]
  },
  {
   "cell_type": "markdown",
   "metadata": {},
   "source": [
    "задание 12 : Посчитайте статистическую значимость различий в среднем количестве заказов на посетителя между группами по «очищенным» данным. Сделайте выводы и предположения."
   ]
  },
  {
   "cell_type": "code",
   "execution_count": null,
   "metadata": {},
   "outputs": [],
   "source": [
    "ordersByUsersA = (\n",
    "    orders[orders['group'] == 'A']\n",
    "    .groupby('visitorId', as_index=False)\n",
    "    .agg({'transactionId': pd.Series.nunique})\n",
    ")\n",
    "ordersByUsersA.columns = ['userId', 'orders']\n",
    "\n",
    "ordersByUsersB = (\n",
    "    orders[orders['group'] == 'B']\n",
    "    .groupby('visitorId', as_index=False)\n",
    "    .agg({'transactionId': pd.Series.nunique})\n",
    ")\n",
    "ordersByUsersB.columns = ['userId', 'orders']\n",
    "\n",
    "usersWithManyOrders = pd.concat(\n",
    "    [\n",
    "        ordersByUsersA[ordersByUsersA['orders'] > 1]['userId'],\n",
    "        ordersByUsersB[ordersByUsersB['orders'] > 1]['userId'],\n",
    "    ],\n",
    "    axis=0,\n",
    ")\n",
    "usersWithExpensiveOrders = orders[orders['revenue'] > 28000]['visitorId']\n",
    "abnormalUsers = (\n",
    "    pd.concat([usersWithManyOrders, usersWithExpensiveOrders], axis=0)\n",
    "    .drop_duplicates()\n",
    "    .sort_values()\n",
    ")\n",
    "print(abnormalUsers.head(5))"
   ]
  },
  {
   "cell_type": "markdown",
   "metadata": {},
   "source": [
    "<div class=\"alert alert-warning\">\n",
    "<b>Комментарий с советом ревьюера:</b> \n",
    "\n",
    "Лучше использовать код (расчет перцентилей) вместо ручного ввода аномальных значений. \n",
    "Это снизит возможные ошибки при повторном использовании кода.\n"
   ]
  },
  {
   "cell_type": "markdown",
   "metadata": {},
   "source": [
    "нашли 5 аномалий"
   ]
  },
  {
   "cell_type": "markdown",
   "metadata": {},
   "source": [
    "<div class=\"alert alert-danger\">\n",
    "<b>Комментарий с замечанием:</b> \n",
    "    \n",
    "Сформулируй, пожалуйста, нулевую и альтернативную гипотезы.\n",
    " \n",
    "</div>\n"
   ]
  },
  {
   "cell_type": "markdown",
   "metadata": {},
   "source": [
    "СФормулируем гипотезы. Нулевая: различий в среднем количестве заказов между группами нет. Альтернативная: различия в среднем между группами есть."
   ]
  },
  {
   "cell_type": "markdown",
   "metadata": {},
   "source": [
    "<div class=\"alert alert-success\">\n",
    "<b>Комментарий с комплиментом ревьюера в2:</b> \n",
    "    \n",
    "Верно"
   ]
  },
  {
   "cell_type": "code",
   "execution_count": null,
   "metadata": {},
   "outputs": [],
   "source": [
    "\n",
    "\n",
    "\n",
    "usersWithManyOrders = pd.concat(\n",
    "    [\n",
    "        ordersByUsersA[ordersByUsersA['orders'] > 1]['userId'],\n",
    "        ordersByUsersB[ordersByUsersB['orders'] > 1]['userId'],\n",
    "    ],\n",
    "    axis=0,\n",
    ")\n",
    "usersWithExpensiveOrders = orders[orders['revenue'] > 28000]['visitorId']\n",
    "abnormalUsers = (\n",
    "    pd.concat([usersWithManyOrders, usersWithExpensiveOrders], axis=0)\n",
    "    .drop_duplicates()\n",
    "    .sort_values()\n",
    ")\n",
    "\n",
    "sampleAFiltered = pd.concat(\n",
    "    [\n",
    "        ordersByUsersA[\n",
    "            np.logical_not(ordersByUsersA['userId'].isin(abnormalUsers))\n",
    "        ]['orders'],\n",
    "        pd.Series(\n",
    "            0,\n",
    "            index=np.arange(\n",
    "                data['visitorsPerDateA'].sum() - len(ordersByUsersA['orders'])\n",
    "            ),\n",
    "            name='orders',\n",
    "        ),\n",
    "    ],\n",
    "    axis=0,\n",
    ")\n",
    "\n",
    "sampleBFiltered = pd.concat(\n",
    "    [\n",
    "        ordersByUsersB[\n",
    "            np.logical_not(ordersByUsersB['userId'].isin(abnormalUsers))\n",
    "        ]['orders'],\n",
    "        pd.Series(\n",
    "            0,\n",
    "            index=np.arange(\n",
    "                data['visitorsPerDateB'].sum() - len(ordersByUsersB['orders'])\n",
    "            ),\n",
    "            name='orders',\n",
    "        ),\n",
    "    ],\n",
    "    axis=0,\n",
    ")\n",
    "\n",
    "print('{0:.5f}'.format(stats.mannwhitneyu(sampleAFiltered, sampleBFiltered)[1]))\n",
    "print('{0:.3f}'.format(sampleBFiltered.mean()/sampleAFiltered.mean()-1)) "
   ]
  },
  {
   "cell_type": "markdown",
   "metadata": {},
   "source": [
    "По очищенным данным, выводы не изменились. Но разница между группами a и B увеличилась до 16,8%"
   ]
  },
  {
   "cell_type": "markdown",
   "metadata": {},
   "source": [
    "<div class=\"alert alert-danger\">\n",
    "<b>Комментарий с замечанием:</b> \n",
    "    \n",
    "Тут мне не понятен код в ячейке № 28: почему ты заново собираешь данные, почему ты заново обрезаешь по аномалиям, но уже **с другими некорректными параметрами** ?\n",
    "    \n",
    "Тоже самое в ячейке ниже - № 29 \n",
    "</div>\n"
   ]
  },
  {
   "cell_type": "markdown",
   "metadata": {},
   "source": [
    "потому что я копирую код,который работает, не разбираясь в том,как он работает.потому что я тороплюсь сдать этот проект и у меня нет времени вникать, там дедлайн и прочее."
   ]
  },
  {
   "cell_type": "markdown",
   "metadata": {},
   "source": [
    "<div class=\"alert alert-success\">\n",
    "<b>Комментарий ревьюера в2:</b> \n",
    "    \n",
    "Можно поговорить с куратором, чтобы он отодвинул дедлайн и у тебя было время разобраться с кодом, хочешь?"
   ]
  },
  {
   "cell_type": "markdown",
   "metadata": {},
   "source": [
    "Задание 13: Посчитайте статистическую значимость различий в среднем чеке заказа между группами по «очищенным» данным. Сделайте выводы и предположения."
   ]
  },
  {
   "cell_type": "markdown",
   "metadata": {},
   "source": [
    "<div class=\"alert alert-danger\">\n",
    "<b>Комментарий с замечанием:</b> \n",
    "    \n",
    "Сформулируй, пожалуйста, нулевую и альтернативную гипотезы.\n",
    " \n",
    "</div>\n"
   ]
  },
  {
   "cell_type": "markdown",
   "metadata": {},
   "source": [
    "Нулевая гипотеза: различий в среднем чеке между группами нет. Альтернативная гипотеза: различия в среднем чеке между группами есть\n"
   ]
  },
  {
   "cell_type": "markdown",
   "metadata": {},
   "source": [
    "<div class=\"alert alert-success\">\n",
    "<b>Комментарий с комплиментом ревьюера в2:</b> \n",
    "    \n",
    "Верно"
   ]
  },
  {
   "cell_type": "code",
   "execution_count": null,
   "metadata": {},
   "outputs": [],
   "source": [
    "\n",
    "  \n",
    "   \n",
    "usersWithManyOrders = pd.concat(\n",
    "    [\n",
    "        ordersByUsersA[ordersByUsersA['orders'] > 1]['userId'],\n",
    "        ordersByUsersB[ordersByUsersB['orders'] > 1]['userId'],\n",
    "    ],\n",
    "    axis=0,\n",
    ")\n",
    "usersWithExpensiveOrders = orders[orders['revenue'] > 28000]['visitorId']\n",
    "abnormalUsers = (\n",
    "    pd.concat([usersWithManyOrders, usersWithExpensiveOrders], axis=0)\n",
    "    .drop_duplicates()\n",
    "    .sort_values()\n",
    ")\n",
    "\n",
    "print(\n",
    "    '{0:.3f}'.format(\n",
    "        stats.mannwhitneyu(\n",
    "            orders[\n",
    "                np.logical_and(\n",
    "                    orders['group'] == 'A',\n",
    "                    np.logical_not(orders['visitorId'].isin(abnormalUsers)),\n",
    "                )\n",
    "            ]['revenue'],\n",
    "            orders[\n",
    "                np.logical_and(\n",
    "                    orders['group'] == 'B',\n",
    "                    np.logical_not(orders['visitorId'].isin(abnormalUsers)),\n",
    "                )\n",
    "            ]['revenue'],\n",
    "        )[1]\n",
    "    )\n",
    ")\n",
    "\n",
    "print(\n",
    "    \"{0:.3f}\".format(\n",
    "        orders[\n",
    "            np.logical_and(\n",
    "                orders['group'] == 'B',\n",
    "                np.logical_not(orders['visitorId'].isin(abnormalUsers)),\n",
    "            )\n",
    "        ]['revenue'].mean()\n",
    "        / orders[\n",
    "            np.logical_and(\n",
    "                orders['group'] == 'A',\n",
    "                np.logical_not(orders['visitorId'].isin(abnormalUsers)),\n",
    "            )\n",
    "        ]['revenue'].mean()\n",
    "        - 1\n",
    "    )\n",
    ")"
   ]
  },
  {
   "cell_type": "markdown",
   "metadata": {},
   "source": [
    "P-value увеличился, но и разница между сегментами сократилась с 25% до практически 0%."
   ]
  },
  {
   "cell_type": "markdown",
   "metadata": {},
   "source": [
    "<div class=\"alert alert-warning\">\n",
    "<b>Комментарий с советом ревьюера:</b> \n",
    "\n",
    "Когда мы сравниваем две величины в процентах, то о разнице надо говорить, что изменение произошло на … <b>процентных пункта</b>.\n"
   ]
  },
  {
   "cell_type": "markdown",
   "metadata": {},
   "source": [
    "задание 14\n",
    "\n",
    "Примите решение по результатам теста и объясните его. Варианты решений:\n",
    "1. Остановить тест, зафиксировать победу одной из групп.\n",
    "2. Остановить тест, зафиксировать отсутствие различий между группами.\n",
    "3. Продолжить тест."
   ]
  },
  {
   "cell_type": "markdown",
   "metadata": {},
   "source": [
    "сгрупируем выводы\n",
    "\n",
    "- Есть статистически значимое различие по конверсии между группами как по сырым данным, так и после фильтрации аномалий.\n",
    "- По сырым данным нет статистически значимого различия по среднему чеку между группами. Однако после удаления аномалий статистически значимое различие так же нет.\n",
    "- График различия конверсии между группами сообщает, что результаты группы B лучше группы A: имеют тенденцию к росту, либо зафиксировались около среднего значения\n",
    "- График различия среднего чека колеблется: он-то и позволил вам найти аномалии. Сделать из этого графика определённые выводы нельзя.\n",
    "\n",
    "На основании вышеизложенного я решаю, что тест необходимо завершить. признать группу B лучше\n",
    "\n"
   ]
  },
  {
   "cell_type": "markdown",
   "metadata": {},
   "source": [
    "\n",
    "<div class=\"alert alert-success\">\n",
    "<b>Комментарий с комплиментом ревьюера:</b> \n",
    "    \n",
    "Решение верное.\n",
    "    \n",
    "Хороший аналитический вывод, вынесены основные показатели, которые получены в результате анализа.\n",
    "\n",
    "Действительно группы равны по среднему чеку, а по среднему количеству заказов группа В лучше группы А.  \n"
   ]
  },
  {
   "cell_type": "markdown",
   "metadata": {},
   "source": [
    "<div style=\"border:solid Chocolate 2px; padding: 40px\">\n",
    "\n",
    "# Общий вывод ревьюера\n",
    "\n",
    "<div class=\"alert alert-success\">\n",
    "\n",
    "Проделана хорошая работа. Соблюдена структура проекта и написаны выводы. Есть несколько замечаний, исправь их и проект будет принят.\n",
    "\n",
    "- по ссылкам ниже интересные материалы по А/В тестам\n",
    "  \n",
    "    \n",
    "https://habr.com/ru/company/avito/blog/571094/\n",
    "\n",
    "https://habr.com/ru/company/yandex/blog/476826/\n",
    "\n",
    "https://academy.yandex.ru/journal/kak-provesti-a-b-testirovanie-6-prostykh-shagov\n",
    "\n",
    "https://habr.com/ru/company/yandex/blog/342704/\n",
    "\n",
    "https://r-analytics.blogspot.com/2013/10/blog-post_13.html \n",
    "\n",
    "</div>\n",
    "\n",
    "<div class=\"alert alert-danger\">\n",
    "\n",
    "- дополни, пожалуйста, этап предобработки данных\n",
    "- добавь, пожалуйста, заголовки и подписи осей для всех графиков в проекте \n",
    "- скорректируй, пожалуйста, код при проверке гипотез \n",
    "- скорректируй, пожалуйста, промежуточный вывод к анализу статистической значимости различий в среднем чеке заказа между группами по \"сырым\" данным\n",
    "- добавь, пожалуйста, формулировку гипотез\n",
    "</div>\n"
   ]
  },
  {
   "cell_type": "markdown",
   "metadata": {},
   "source": [
    "<div style=\"border:solid Chocolate 2px; padding: 40px\">\n",
    "\n",
    "# Общий вывод ревьюера в2\n",
    "\n",
    "<div class=\"alert alert-success\">\n",
    "\n",
    "Хорошая проработка замечаний, осталось исправить несколько моментов.\n",
    "    \n",
    "    \n",
    "Можно поговорить с куратором, чтобы он отодвинул дедлайн и у тебя было время разобраться с кодом, хочешь?\n",
    "\n",
    "</div>\n",
    "\n",
    "<div class=\"alert alert-danger\">\n",
    "\n",
    "- скорректируй, пожалуйста, анализ пересекающихся пользователей\n",
    "- добавь, пожалуйста, заголовки и подписи осей для **всех** графиков в проекте \n",
    "\n",
    "</div>\n"
   ]
  },
  {
   "cell_type": "markdown",
   "metadata": {},
   "source": [
    "<div style=\"border:solid Chocolate 2px; padding: 40px\">\n",
    "\n",
    "# Общий вывод ревьюера в3\n",
    "\n",
    "<div class=\"alert alert-success\">\n",
    "\n",
    "проект принимаю и желаю успеха в следующих проектах, замечания исправлены"
   ]
  },
  {
   "cell_type": "code",
   "execution_count": null,
   "metadata": {},
   "outputs": [],
   "source": []
  }
 ],
 "metadata": {
  "ExecuteTimeLog": [
   {
    "duration": 472,
    "start_time": "2023-04-26T18:18:01.718Z"
   },
   {
    "duration": 133,
    "start_time": "2023-04-26T18:19:43.082Z"
   },
   {
    "duration": 1231,
    "start_time": "2023-04-26T18:24:23.051Z"
   },
   {
    "duration": 7,
    "start_time": "2023-04-26T18:25:03.515Z"
   },
   {
    "duration": 9,
    "start_time": "2023-04-26T18:26:06.244Z"
   },
   {
    "duration": 8,
    "start_time": "2023-04-26T18:26:09.043Z"
   },
   {
    "duration": 6,
    "start_time": "2023-04-26T18:26:51.399Z"
   },
   {
    "duration": 30,
    "start_time": "2023-04-26T18:26:55.830Z"
   },
   {
    "duration": 9,
    "start_time": "2023-04-26T18:28:42.712Z"
   },
   {
    "duration": 3,
    "start_time": "2023-04-26T19:06:51.518Z"
   },
   {
    "duration": 167,
    "start_time": "2023-04-26T19:07:58.658Z"
   },
   {
    "duration": 540,
    "start_time": "2023-04-26T19:08:59.685Z"
   },
   {
    "duration": 440,
    "start_time": "2023-04-26T19:09:25.290Z"
   },
   {
    "duration": 85,
    "start_time": "2023-04-26T19:10:05.603Z"
   },
   {
    "duration": 5,
    "start_time": "2023-04-26T19:15:08.135Z"
   },
   {
    "duration": 7,
    "start_time": "2023-04-26T19:15:47.159Z"
   },
   {
    "duration": 31,
    "start_time": "2023-04-26T19:21:10.976Z"
   },
   {
    "duration": 154,
    "start_time": "2023-04-26T19:29:26.727Z"
   },
   {
    "duration": 119,
    "start_time": "2023-04-26T19:29:53.687Z"
   },
   {
    "duration": 7,
    "start_time": "2023-04-26T19:30:21.537Z"
   },
   {
    "duration": 4,
    "start_time": "2023-04-26T19:31:24.375Z"
   },
   {
    "duration": 10,
    "start_time": "2023-04-26T19:33:40.365Z"
   },
   {
    "duration": 395,
    "start_time": "2023-04-26T19:34:11.658Z"
   },
   {
    "duration": 260,
    "start_time": "2023-04-26T19:34:17.101Z"
   },
   {
    "duration": 179,
    "start_time": "2023-04-26T19:36:49.264Z"
   },
   {
    "duration": 176,
    "start_time": "2023-04-26T19:38:55.534Z"
   },
   {
    "duration": 259,
    "start_time": "2023-04-26T19:41:20.051Z"
   },
   {
    "duration": 182,
    "start_time": "2023-04-26T19:41:38.794Z"
   },
   {
    "duration": 308,
    "start_time": "2023-04-26T19:42:41.264Z"
   },
   {
    "duration": 293,
    "start_time": "2023-04-26T19:43:08.363Z"
   },
   {
    "duration": 14,
    "start_time": "2023-04-26T19:56:54.991Z"
   },
   {
    "duration": 154,
    "start_time": "2023-04-26T20:00:56.164Z"
   },
   {
    "duration": 5,
    "start_time": "2023-04-26T20:03:44.203Z"
   },
   {
    "duration": 5,
    "start_time": "2023-04-26T20:03:51.192Z"
   },
   {
    "duration": 172,
    "start_time": "2023-04-26T20:04:19.055Z"
   },
   {
    "duration": 199,
    "start_time": "2023-04-26T20:04:59.709Z"
   },
   {
    "duration": 356,
    "start_time": "2023-04-26T20:06:11.321Z"
   },
   {
    "duration": 210,
    "start_time": "2023-04-26T20:08:03.881Z"
   },
   {
    "duration": 193,
    "start_time": "2023-04-26T20:08:11.698Z"
   },
   {
    "duration": 303,
    "start_time": "2023-04-26T20:08:35.794Z"
   },
   {
    "duration": 407,
    "start_time": "2023-04-26T20:10:18.007Z"
   },
   {
    "duration": 322,
    "start_time": "2023-04-26T20:10:41.376Z"
   },
   {
    "duration": 332,
    "start_time": "2023-04-26T20:13:07.413Z"
   },
   {
    "duration": 375,
    "start_time": "2023-04-26T20:14:30.548Z"
   },
   {
    "duration": 420,
    "start_time": "2023-04-26T20:15:14.510Z"
   },
   {
    "duration": 342,
    "start_time": "2023-04-26T20:18:49.842Z"
   },
   {
    "duration": 8,
    "start_time": "2023-04-26T20:20:38.441Z"
   },
   {
    "duration": 1280,
    "start_time": "2023-04-26T20:20:50.975Z"
   },
   {
    "duration": 11,
    "start_time": "2023-04-26T20:21:11.611Z"
   },
   {
    "duration": 8,
    "start_time": "2023-04-26T20:22:05.789Z"
   },
   {
    "duration": 8,
    "start_time": "2023-04-26T20:22:09.533Z"
   },
   {
    "duration": 13,
    "start_time": "2023-04-26T20:22:47.767Z"
   },
   {
    "duration": 124,
    "start_time": "2023-04-26T20:23:09.578Z"
   },
   {
    "duration": 215,
    "start_time": "2023-04-26T20:24:44.625Z"
   },
   {
    "duration": 1157,
    "start_time": "2023-04-26T20:25:58.701Z"
   },
   {
    "duration": 1168,
    "start_time": "2023-04-26T20:26:05.970Z"
   },
   {
    "duration": 15,
    "start_time": "2023-04-26T20:26:47.962Z"
   },
   {
    "duration": 14,
    "start_time": "2023-04-26T20:29:28.885Z"
   },
   {
    "duration": 144,
    "start_time": "2023-04-26T20:31:17.879Z"
   },
   {
    "duration": 9,
    "start_time": "2023-04-26T20:32:40.447Z"
   },
   {
    "duration": 4,
    "start_time": "2023-04-26T20:32:49.567Z"
   },
   {
    "duration": 65,
    "start_time": "2023-04-27T18:17:28.948Z"
   },
   {
    "duration": 916,
    "start_time": "2023-04-27T18:17:37.637Z"
   },
   {
    "duration": 96,
    "start_time": "2023-04-27T18:17:38.556Z"
   },
   {
    "duration": 4,
    "start_time": "2023-04-27T18:17:38.654Z"
   },
   {
    "duration": 36,
    "start_time": "2023-04-27T18:17:38.660Z"
   },
   {
    "duration": 11,
    "start_time": "2023-04-27T18:17:38.701Z"
   },
   {
    "duration": 183,
    "start_time": "2023-04-27T18:17:38.715Z"
   },
   {
    "duration": 9,
    "start_time": "2023-04-27T18:17:38.903Z"
   },
   {
    "duration": 227,
    "start_time": "2023-04-27T18:17:38.914Z"
   },
   {
    "duration": 157,
    "start_time": "2023-04-27T18:17:39.143Z"
   },
   {
    "duration": 8,
    "start_time": "2023-04-27T18:17:39.306Z"
   },
   {
    "duration": 328,
    "start_time": "2023-04-27T18:17:39.316Z"
   },
   {
    "duration": 253,
    "start_time": "2023-04-27T18:17:39.646Z"
   },
   {
    "duration": 430,
    "start_time": "2023-04-27T18:17:39.907Z"
   },
   {
    "duration": 112,
    "start_time": "2023-04-27T18:17:40.339Z"
   },
   {
    "duration": 0,
    "start_time": "2023-04-27T18:17:40.454Z"
   },
   {
    "duration": 0,
    "start_time": "2023-04-27T18:17:40.455Z"
   },
   {
    "duration": 0,
    "start_time": "2023-04-27T18:17:40.458Z"
   },
   {
    "duration": 0,
    "start_time": "2023-04-27T18:17:40.460Z"
   },
   {
    "duration": 0,
    "start_time": "2023-04-27T18:17:40.462Z"
   },
   {
    "duration": 0,
    "start_time": "2023-04-27T18:17:40.464Z"
   },
   {
    "duration": 0,
    "start_time": "2023-04-27T18:17:40.492Z"
   },
   {
    "duration": 4,
    "start_time": "2023-04-27T18:18:03.967Z"
   },
   {
    "duration": 49,
    "start_time": "2023-04-27T18:18:03.974Z"
   },
   {
    "duration": 4,
    "start_time": "2023-04-27T18:18:04.026Z"
   },
   {
    "duration": 19,
    "start_time": "2023-04-27T18:18:04.032Z"
   },
   {
    "duration": 17,
    "start_time": "2023-04-27T18:18:04.054Z"
   },
   {
    "duration": 84,
    "start_time": "2023-04-27T18:18:04.074Z"
   },
   {
    "duration": 7,
    "start_time": "2023-04-27T18:18:04.160Z"
   },
   {
    "duration": 300,
    "start_time": "2023-04-27T18:18:04.169Z"
   },
   {
    "duration": 160,
    "start_time": "2023-04-27T18:18:04.471Z"
   },
   {
    "duration": 8,
    "start_time": "2023-04-27T18:18:04.633Z"
   },
   {
    "duration": 247,
    "start_time": "2023-04-27T18:18:04.645Z"
   },
   {
    "duration": 252,
    "start_time": "2023-04-27T18:18:04.894Z"
   },
   {
    "duration": 375,
    "start_time": "2023-04-27T18:18:05.148Z"
   },
   {
    "duration": 312,
    "start_time": "2023-04-27T18:18:12.107Z"
   },
   {
    "duration": 16,
    "start_time": "2023-04-27T18:18:12.422Z"
   },
   {
    "duration": 236,
    "start_time": "2023-04-27T18:18:12.440Z"
   },
   {
    "duration": 370,
    "start_time": "2023-04-27T18:18:12.678Z"
   },
   {
    "duration": 18,
    "start_time": "2023-04-27T18:18:13.052Z"
   },
   {
    "duration": 182,
    "start_time": "2023-04-27T18:18:13.073Z"
   },
   {
    "duration": 6,
    "start_time": "2023-04-27T18:18:13.258Z"
   },
   {
    "duration": 43,
    "start_time": "2023-04-27T18:18:13.266Z"
   },
   {
    "duration": 16,
    "start_time": "2023-04-27T18:18:37.298Z"
   },
   {
    "duration": 10,
    "start_time": "2023-04-27T18:18:54.828Z"
   },
   {
    "duration": 236,
    "start_time": "2023-04-27T18:20:10.374Z"
   },
   {
    "duration": 12,
    "start_time": "2023-04-27T18:20:44.515Z"
   },
   {
    "duration": 141,
    "start_time": "2023-04-27T18:29:21.801Z"
   },
   {
    "duration": 377,
    "start_time": "2023-04-27T18:37:46.034Z"
   },
   {
    "duration": 641,
    "start_time": "2023-04-27T18:40:03.975Z"
   },
   {
    "duration": 623,
    "start_time": "2023-04-27T18:40:14.851Z"
   },
   {
    "duration": 503,
    "start_time": "2023-04-27T18:40:47.216Z"
   },
   {
    "duration": 572,
    "start_time": "2023-04-27T18:40:54.057Z"
   },
   {
    "duration": 163,
    "start_time": "2023-04-27T18:43:51.810Z"
   },
   {
    "duration": 122,
    "start_time": "2023-04-27T18:44:26.305Z"
   },
   {
    "duration": 140,
    "start_time": "2023-04-27T18:44:44.443Z"
   },
   {
    "duration": 255,
    "start_time": "2023-04-27T18:46:40.987Z"
   },
   {
    "duration": 1517,
    "start_time": "2023-04-27T18:49:55.490Z"
   },
   {
    "duration": 175,
    "start_time": "2023-04-27T18:50:19.172Z"
   },
   {
    "duration": 139,
    "start_time": "2023-04-27T19:24:17.960Z"
   },
   {
    "duration": 134,
    "start_time": "2023-04-27T19:25:53.379Z"
   },
   {
    "duration": 125,
    "start_time": "2023-04-27T19:26:35.269Z"
   },
   {
    "duration": 1531,
    "start_time": "2023-04-27T19:27:02.470Z"
   },
   {
    "duration": 1504,
    "start_time": "2023-04-27T19:28:22.724Z"
   },
   {
    "duration": 435,
    "start_time": "2023-04-27T19:28:45.862Z"
   },
   {
    "duration": 115,
    "start_time": "2023-04-27T19:33:36.525Z"
   },
   {
    "duration": 1660,
    "start_time": "2023-04-27T19:37:55.789Z"
   },
   {
    "duration": 111,
    "start_time": "2023-04-27T19:38:54.534Z"
   },
   {
    "duration": 387,
    "start_time": "2023-04-27T19:39:14.566Z"
   },
   {
    "duration": 107,
    "start_time": "2023-05-02T16:55:48.224Z"
   },
   {
    "duration": 96,
    "start_time": "2023-05-02T17:00:08.867Z"
   },
   {
    "duration": 1619,
    "start_time": "2023-05-02T17:11:57.166Z"
   },
   {
    "duration": 125,
    "start_time": "2023-05-02T17:11:58.788Z"
   },
   {
    "duration": 4,
    "start_time": "2023-05-02T17:11:58.915Z"
   },
   {
    "duration": 68,
    "start_time": "2023-05-02T17:11:58.921Z"
   },
   {
    "duration": 11,
    "start_time": "2023-05-02T17:11:58.991Z"
   },
   {
    "duration": 244,
    "start_time": "2023-05-02T17:11:59.004Z"
   },
   {
    "duration": 14,
    "start_time": "2023-05-02T17:11:59.250Z"
   },
   {
    "duration": 226,
    "start_time": "2023-05-02T17:11:59.268Z"
   },
   {
    "duration": 153,
    "start_time": "2023-05-02T17:11:59.496Z"
   },
   {
    "duration": 15,
    "start_time": "2023-05-02T17:11:59.666Z"
   },
   {
    "duration": 403,
    "start_time": "2023-05-02T17:11:59.683Z"
   },
   {
    "duration": 261,
    "start_time": "2023-05-02T17:12:00.088Z"
   },
   {
    "duration": 379,
    "start_time": "2023-05-02T17:12:00.350Z"
   },
   {
    "duration": 28,
    "start_time": "2023-05-02T17:12:00.732Z"
   },
   {
    "duration": 394,
    "start_time": "2023-05-02T17:12:00.762Z"
   },
   {
    "duration": 466,
    "start_time": "2023-05-02T17:12:01.161Z"
   },
   {
    "duration": 139,
    "start_time": "2023-05-02T17:12:01.630Z"
   },
   {
    "duration": 0,
    "start_time": "2023-05-02T17:12:01.773Z"
   },
   {
    "duration": 0,
    "start_time": "2023-05-02T17:12:01.774Z"
   },
   {
    "duration": 0,
    "start_time": "2023-05-02T17:12:01.775Z"
   },
   {
    "duration": 1,
    "start_time": "2023-05-02T17:12:01.775Z"
   },
   {
    "duration": 0,
    "start_time": "2023-05-02T17:12:01.776Z"
   },
   {
    "duration": 0,
    "start_time": "2023-05-02T17:12:01.783Z"
   },
   {
    "duration": 0,
    "start_time": "2023-05-02T17:12:01.785Z"
   },
   {
    "duration": 0,
    "start_time": "2023-05-02T17:12:01.786Z"
   },
   {
    "duration": 0,
    "start_time": "2023-05-02T17:12:01.787Z"
   },
   {
    "duration": 0,
    "start_time": "2023-05-02T17:12:01.790Z"
   },
   {
    "duration": 30,
    "start_time": "2023-05-02T17:38:50.566Z"
   },
   {
    "duration": 35,
    "start_time": "2023-05-02T17:39:06.458Z"
   },
   {
    "duration": 31,
    "start_time": "2023-05-02T17:39:35.072Z"
   },
   {
    "duration": 15,
    "start_time": "2023-05-02T17:39:47.913Z"
   },
   {
    "duration": 13,
    "start_time": "2023-05-02T17:40:03.414Z"
   },
   {
    "duration": 21,
    "start_time": "2023-05-02T17:40:16.374Z"
   },
   {
    "duration": 168,
    "start_time": "2023-05-02T17:40:31.196Z"
   },
   {
    "duration": 5,
    "start_time": "2023-05-02T17:52:29.980Z"
   },
   {
    "duration": 20,
    "start_time": "2023-05-02T17:58:50.371Z"
   },
   {
    "duration": 177,
    "start_time": "2023-05-02T17:58:50.393Z"
   },
   {
    "duration": 5,
    "start_time": "2023-05-02T17:58:50.583Z"
   },
   {
    "duration": 11,
    "start_time": "2023-05-02T17:58:50.590Z"
   },
   {
    "duration": 598,
    "start_time": "2023-05-02T17:58:50.603Z"
   },
   {
    "duration": 375,
    "start_time": "2023-05-02T17:58:51.204Z"
   },
   {
    "duration": 187,
    "start_time": "2023-05-02T17:58:51.587Z"
   },
   {
    "duration": 422,
    "start_time": "2023-05-02T17:58:51.776Z"
   },
   {
    "duration": 410,
    "start_time": "2023-05-02T17:58:52.200Z"
   },
   {
    "duration": 180,
    "start_time": "2023-05-02T18:11:29.235Z"
   },
   {
    "duration": 424,
    "start_time": "2023-05-02T18:12:03.675Z"
   },
   {
    "duration": 417,
    "start_time": "2023-05-02T18:15:11.967Z"
   },
   {
    "duration": 406,
    "start_time": "2023-05-02T18:20:07.895Z"
   },
   {
    "duration": 419,
    "start_time": "2023-05-02T18:20:36.994Z"
   },
   {
    "duration": 215,
    "start_time": "2023-05-02T18:44:37.954Z"
   },
   {
    "duration": 186,
    "start_time": "2023-05-02T18:48:09.612Z"
   },
   {
    "duration": 405,
    "start_time": "2023-05-02T18:48:17.452Z"
   },
   {
    "duration": 374,
    "start_time": "2023-05-02T18:53:14.662Z"
   },
   {
    "duration": 1312,
    "start_time": "2023-05-03T05:22:14.350Z"
   },
   {
    "duration": 98,
    "start_time": "2023-05-03T05:22:15.663Z"
   },
   {
    "duration": 4,
    "start_time": "2023-05-03T05:22:15.763Z"
   },
   {
    "duration": 15,
    "start_time": "2023-05-03T05:22:15.769Z"
   },
   {
    "duration": 7,
    "start_time": "2023-05-03T05:22:15.786Z"
   },
   {
    "duration": 216,
    "start_time": "2023-05-03T05:22:15.794Z"
   },
   {
    "duration": 5,
    "start_time": "2023-05-03T05:22:16.012Z"
   },
   {
    "duration": 164,
    "start_time": "2023-05-03T05:22:16.019Z"
   },
   {
    "duration": 122,
    "start_time": "2023-05-03T05:22:16.184Z"
   },
   {
    "duration": 6,
    "start_time": "2023-05-03T05:22:16.308Z"
   },
   {
    "duration": 292,
    "start_time": "2023-05-03T05:22:16.316Z"
   },
   {
    "duration": 185,
    "start_time": "2023-05-03T05:22:16.610Z"
   },
   {
    "duration": 310,
    "start_time": "2023-05-03T05:22:16.797Z"
   },
   {
    "duration": 12,
    "start_time": "2023-05-03T05:22:17.109Z"
   },
   {
    "duration": 167,
    "start_time": "2023-05-03T05:22:17.122Z"
   },
   {
    "duration": 321,
    "start_time": "2023-05-03T05:22:17.291Z"
   },
   {
    "duration": 12,
    "start_time": "2023-05-03T05:22:17.614Z"
   },
   {
    "duration": 25,
    "start_time": "2023-05-03T05:22:17.627Z"
   },
   {
    "duration": 112,
    "start_time": "2023-05-03T05:22:17.653Z"
   },
   {
    "duration": 4,
    "start_time": "2023-05-03T05:22:17.767Z"
   },
   {
    "duration": 12,
    "start_time": "2023-05-03T05:22:17.783Z"
   },
   {
    "duration": 129,
    "start_time": "2023-05-03T05:22:17.797Z"
   },
   {
    "duration": 5,
    "start_time": "2023-05-03T05:22:17.927Z"
   },
   {
    "duration": 42,
    "start_time": "2023-05-03T05:22:17.933Z"
   },
   {
    "duration": 478,
    "start_time": "2023-05-03T05:22:17.977Z"
   },
   {
    "duration": 271,
    "start_time": "2023-05-03T05:22:18.456Z"
   },
   {
    "duration": 161,
    "start_time": "2023-05-03T05:22:18.729Z"
   },
   {
    "duration": 338,
    "start_time": "2023-05-03T05:22:18.893Z"
   },
   {
    "duration": 330,
    "start_time": "2023-05-03T05:22:19.233Z"
   },
   {
    "duration": 47,
    "start_time": "2023-05-03T18:54:08.522Z"
   },
   {
    "duration": 1365,
    "start_time": "2023-05-03T18:54:15.681Z"
   },
   {
    "duration": 153,
    "start_time": "2023-05-03T18:54:17.048Z"
   },
   {
    "duration": 0,
    "start_time": "2023-05-03T18:54:17.205Z"
   },
   {
    "duration": 0,
    "start_time": "2023-05-03T18:54:17.206Z"
   },
   {
    "duration": 0,
    "start_time": "2023-05-03T18:54:17.207Z"
   },
   {
    "duration": 0,
    "start_time": "2023-05-03T18:54:17.208Z"
   },
   {
    "duration": 0,
    "start_time": "2023-05-03T18:54:17.209Z"
   },
   {
    "duration": 0,
    "start_time": "2023-05-03T18:54:17.210Z"
   },
   {
    "duration": 0,
    "start_time": "2023-05-03T18:54:17.211Z"
   },
   {
    "duration": 0,
    "start_time": "2023-05-03T18:54:17.212Z"
   },
   {
    "duration": 0,
    "start_time": "2023-05-03T18:54:17.213Z"
   },
   {
    "duration": 0,
    "start_time": "2023-05-03T18:54:17.214Z"
   },
   {
    "duration": 0,
    "start_time": "2023-05-03T18:54:17.216Z"
   },
   {
    "duration": 0,
    "start_time": "2023-05-03T18:54:17.216Z"
   },
   {
    "duration": 0,
    "start_time": "2023-05-03T18:54:17.218Z"
   },
   {
    "duration": 0,
    "start_time": "2023-05-03T18:54:17.219Z"
   },
   {
    "duration": 0,
    "start_time": "2023-05-03T18:54:17.220Z"
   },
   {
    "duration": 0,
    "start_time": "2023-05-03T18:54:17.221Z"
   },
   {
    "duration": 0,
    "start_time": "2023-05-03T18:54:17.222Z"
   },
   {
    "duration": 0,
    "start_time": "2023-05-03T18:54:17.223Z"
   },
   {
    "duration": 0,
    "start_time": "2023-05-03T18:54:17.259Z"
   },
   {
    "duration": 0,
    "start_time": "2023-05-03T18:54:17.260Z"
   },
   {
    "duration": 0,
    "start_time": "2023-05-03T18:54:17.262Z"
   },
   {
    "duration": 0,
    "start_time": "2023-05-03T18:54:17.263Z"
   },
   {
    "duration": 0,
    "start_time": "2023-05-03T18:54:17.265Z"
   },
   {
    "duration": 0,
    "start_time": "2023-05-03T18:54:17.266Z"
   },
   {
    "duration": 0,
    "start_time": "2023-05-03T18:54:17.267Z"
   },
   {
    "duration": 0,
    "start_time": "2023-05-03T18:54:17.268Z"
   },
   {
    "duration": 0,
    "start_time": "2023-05-03T18:54:17.269Z"
   },
   {
    "duration": 23,
    "start_time": "2023-05-03T18:54:47.939Z"
   },
   {
    "duration": 33,
    "start_time": "2023-05-03T18:54:59.982Z"
   },
   {
    "duration": 3,
    "start_time": "2023-05-03T18:57:38.419Z"
   },
   {
    "duration": 16,
    "start_time": "2023-05-03T18:57:38.425Z"
   },
   {
    "duration": 9,
    "start_time": "2023-05-03T18:57:38.444Z"
   },
   {
    "duration": 157,
    "start_time": "2023-05-03T18:57:38.455Z"
   },
   {
    "duration": 6,
    "start_time": "2023-05-03T18:57:38.615Z"
   },
   {
    "duration": 181,
    "start_time": "2023-05-03T18:57:38.624Z"
   },
   {
    "duration": 128,
    "start_time": "2023-05-03T18:57:38.807Z"
   },
   {
    "duration": 7,
    "start_time": "2023-05-03T18:57:38.937Z"
   },
   {
    "duration": 285,
    "start_time": "2023-05-03T18:57:38.945Z"
   },
   {
    "duration": 203,
    "start_time": "2023-05-03T18:57:39.232Z"
   },
   {
    "duration": 408,
    "start_time": "2023-05-03T18:57:39.437Z"
   },
   {
    "duration": 18,
    "start_time": "2023-05-03T18:57:39.847Z"
   },
   {
    "duration": 188,
    "start_time": "2023-05-03T18:57:39.868Z"
   },
   {
    "duration": 322,
    "start_time": "2023-05-03T18:57:40.058Z"
   },
   {
    "duration": 13,
    "start_time": "2023-05-03T18:57:40.381Z"
   },
   {
    "duration": 13,
    "start_time": "2023-05-03T18:57:40.395Z"
   },
   {
    "duration": 149,
    "start_time": "2023-05-03T18:57:40.410Z"
   },
   {
    "duration": 5,
    "start_time": "2023-05-03T18:57:40.561Z"
   },
   {
    "duration": 17,
    "start_time": "2023-05-03T18:57:40.568Z"
   },
   {
    "duration": 154,
    "start_time": "2023-05-03T18:57:40.587Z"
   },
   {
    "duration": 5,
    "start_time": "2023-05-03T18:57:40.742Z"
   },
   {
    "duration": 11,
    "start_time": "2023-05-03T18:57:40.758Z"
   },
   {
    "duration": 559,
    "start_time": "2023-05-03T18:57:40.771Z"
   },
   {
    "duration": 334,
    "start_time": "2023-05-03T18:57:41.332Z"
   },
   {
    "duration": 195,
    "start_time": "2023-05-03T18:57:41.668Z"
   },
   {
    "duration": 400,
    "start_time": "2023-05-03T18:57:41.865Z"
   },
   {
    "duration": 391,
    "start_time": "2023-05-03T18:57:42.268Z"
   },
   {
    "duration": 8,
    "start_time": "2023-05-03T18:58:52.302Z"
   },
   {
    "duration": 54,
    "start_time": "2023-05-03T18:59:58.353Z"
   },
   {
    "duration": 20,
    "start_time": "2023-05-03T19:00:00.914Z"
   },
   {
    "duration": 11,
    "start_time": "2023-05-03T19:00:31.895Z"
   },
   {
    "duration": 8,
    "start_time": "2023-05-03T19:00:59.639Z"
   },
   {
    "duration": 12,
    "start_time": "2023-05-03T19:02:57.263Z"
   },
   {
    "duration": 5,
    "start_time": "2023-05-03T19:08:27.633Z"
   },
   {
    "duration": 14,
    "start_time": "2023-05-03T19:13:49.188Z"
   },
   {
    "duration": 14,
    "start_time": "2023-05-03T19:14:04.983Z"
   },
   {
    "duration": 116,
    "start_time": "2023-05-03T19:21:54.737Z"
   },
   {
    "duration": 101,
    "start_time": "2023-05-03T19:22:03.584Z"
   },
   {
    "duration": 11,
    "start_time": "2023-05-03T19:22:26.046Z"
   },
   {
    "duration": 12,
    "start_time": "2023-05-03T19:22:43.681Z"
   },
   {
    "duration": 13,
    "start_time": "2023-05-03T19:29:01.937Z"
   },
   {
    "duration": 21,
    "start_time": "2023-05-03T19:29:35.457Z"
   },
   {
    "duration": 15,
    "start_time": "2023-05-03T19:30:04.550Z"
   },
   {
    "duration": 10,
    "start_time": "2023-05-03T19:30:18.154Z"
   },
   {
    "duration": 80,
    "start_time": "2023-05-03T19:35:03.394Z"
   },
   {
    "duration": 15,
    "start_time": "2023-05-03T19:35:07.279Z"
   },
   {
    "duration": 15,
    "start_time": "2023-05-03T19:35:46.178Z"
   },
   {
    "duration": 17,
    "start_time": "2023-05-03T19:35:57.353Z"
   },
   {
    "duration": 16,
    "start_time": "2023-05-03T19:36:02.985Z"
   },
   {
    "duration": 7,
    "start_time": "2023-05-03T19:40:24.784Z"
   },
   {
    "duration": 11,
    "start_time": "2023-05-03T19:40:47.262Z"
   },
   {
    "duration": 4,
    "start_time": "2023-05-03T19:41:21.772Z"
   },
   {
    "duration": 10,
    "start_time": "2023-05-03T19:41:25.599Z"
   },
   {
    "duration": 10,
    "start_time": "2023-05-03T19:41:46.893Z"
   },
   {
    "duration": 1155,
    "start_time": "2023-05-03T19:41:53.894Z"
   },
   {
    "duration": 34,
    "start_time": "2023-05-03T19:41:55.051Z"
   },
   {
    "duration": 3,
    "start_time": "2023-05-03T19:41:55.087Z"
   },
   {
    "duration": 19,
    "start_time": "2023-05-03T19:41:55.092Z"
   },
   {
    "duration": 10,
    "start_time": "2023-05-03T19:41:55.113Z"
   },
   {
    "duration": 126,
    "start_time": "2023-05-03T19:41:55.125Z"
   },
   {
    "duration": 53,
    "start_time": "2023-05-03T19:41:55.253Z"
   },
   {
    "duration": 35,
    "start_time": "2023-05-03T19:41:55.308Z"
   },
   {
    "duration": 11,
    "start_time": "2023-05-03T19:41:55.345Z"
   },
   {
    "duration": 6,
    "start_time": "2023-05-03T19:41:55.360Z"
   },
   {
    "duration": 14,
    "start_time": "2023-05-03T19:41:55.368Z"
   },
   {
    "duration": 5,
    "start_time": "2023-05-03T19:41:55.384Z"
   },
   {
    "duration": 189,
    "start_time": "2023-05-03T19:41:55.391Z"
   },
   {
    "duration": 141,
    "start_time": "2023-05-03T19:41:55.582Z"
   },
   {
    "duration": 7,
    "start_time": "2023-05-03T19:41:55.724Z"
   },
   {
    "duration": 313,
    "start_time": "2023-05-03T19:41:55.733Z"
   },
   {
    "duration": 214,
    "start_time": "2023-05-03T19:41:56.048Z"
   },
   {
    "duration": 318,
    "start_time": "2023-05-03T19:41:56.264Z"
   },
   {
    "duration": 13,
    "start_time": "2023-05-03T19:41:56.584Z"
   },
   {
    "duration": 208,
    "start_time": "2023-05-03T19:41:56.598Z"
   },
   {
    "duration": 308,
    "start_time": "2023-05-03T19:41:56.808Z"
   },
   {
    "duration": 15,
    "start_time": "2023-05-03T19:41:57.118Z"
   },
   {
    "duration": 28,
    "start_time": "2023-05-03T19:41:57.134Z"
   },
   {
    "duration": 136,
    "start_time": "2023-05-03T19:41:57.164Z"
   },
   {
    "duration": 5,
    "start_time": "2023-05-03T19:41:57.302Z"
   },
   {
    "duration": 29,
    "start_time": "2023-05-03T19:41:57.309Z"
   },
   {
    "duration": 144,
    "start_time": "2023-05-03T19:41:57.339Z"
   },
   {
    "duration": 5,
    "start_time": "2023-05-03T19:41:57.486Z"
   },
   {
    "duration": 23,
    "start_time": "2023-05-03T19:41:57.492Z"
   },
   {
    "duration": 552,
    "start_time": "2023-05-03T19:41:57.517Z"
   },
   {
    "duration": 319,
    "start_time": "2023-05-03T19:41:58.071Z"
   },
   {
    "duration": 145,
    "start_time": "2023-05-03T19:41:58.393Z"
   },
   {
    "duration": 379,
    "start_time": "2023-05-03T19:41:58.541Z"
   },
   {
    "duration": 375,
    "start_time": "2023-05-03T19:41:58.922Z"
   },
   {
    "duration": 85,
    "start_time": "2023-05-03T19:50:18.972Z"
   },
   {
    "duration": 71,
    "start_time": "2023-05-03T19:50:41.742Z"
   },
   {
    "duration": 72,
    "start_time": "2023-05-03T19:50:48.882Z"
   },
   {
    "duration": 63,
    "start_time": "2023-05-03T19:50:57.533Z"
   },
   {
    "duration": 5,
    "start_time": "2023-05-03T19:51:02.449Z"
   },
   {
    "duration": 7,
    "start_time": "2023-05-03T19:51:12.669Z"
   },
   {
    "duration": 16,
    "start_time": "2023-05-03T19:51:30.245Z"
   },
   {
    "duration": 5,
    "start_time": "2023-05-03T19:51:54.234Z"
   },
   {
    "duration": 113,
    "start_time": "2023-05-03T19:53:55.254Z"
   },
   {
    "duration": 12,
    "start_time": "2023-05-03T19:54:07.290Z"
   },
   {
    "duration": 312,
    "start_time": "2023-05-03T19:54:19.188Z"
   },
   {
    "duration": 10,
    "start_time": "2023-05-03T19:55:09.590Z"
   },
   {
    "duration": 9,
    "start_time": "2023-05-03T19:55:18.719Z"
   },
   {
    "duration": 12,
    "start_time": "2023-05-03T19:55:39.053Z"
   },
   {
    "duration": 18,
    "start_time": "2023-05-03T19:56:14.683Z"
   },
   {
    "duration": 12,
    "start_time": "2023-05-03T19:57:28.713Z"
   },
   {
    "duration": 1273,
    "start_time": "2023-05-03T19:57:35.867Z"
   },
   {
    "duration": 10,
    "start_time": "2023-05-03T19:57:57.522Z"
   },
   {
    "duration": 9,
    "start_time": "2023-05-03T19:58:25.783Z"
   },
   {
    "duration": 16,
    "start_time": "2023-05-03T20:00:17.311Z"
   },
   {
    "duration": 15,
    "start_time": "2023-05-03T20:00:31.339Z"
   },
   {
    "duration": 13,
    "start_time": "2023-05-03T20:01:26.300Z"
   },
   {
    "duration": 14,
    "start_time": "2023-05-03T20:01:40.124Z"
   },
   {
    "duration": 25,
    "start_time": "2023-05-03T20:01:50.174Z"
   },
   {
    "duration": 11,
    "start_time": "2023-05-03T20:01:58.641Z"
   },
   {
    "duration": 12,
    "start_time": "2023-05-03T20:03:47.835Z"
   },
   {
    "duration": 22,
    "start_time": "2023-05-03T20:03:53.618Z"
   },
   {
    "duration": 12,
    "start_time": "2023-05-03T20:04:32.783Z"
   },
   {
    "duration": 337,
    "start_time": "2023-05-03T20:06:33.602Z"
   },
   {
    "duration": 222,
    "start_time": "2023-05-03T20:06:46.241Z"
   },
   {
    "duration": 308,
    "start_time": "2023-05-03T20:07:25.045Z"
   },
   {
    "duration": 90,
    "start_time": "2023-05-03T20:08:17.631Z"
   },
   {
    "duration": 198,
    "start_time": "2023-05-03T20:09:22.176Z"
   },
   {
    "duration": 289,
    "start_time": "2023-05-03T20:10:24.488Z"
   },
   {
    "duration": 301,
    "start_time": "2023-05-03T20:11:07.113Z"
   },
   {
    "duration": 175,
    "start_time": "2023-05-03T20:11:58.700Z"
   },
   {
    "duration": 183,
    "start_time": "2023-05-03T20:12:21.794Z"
   },
   {
    "duration": 300,
    "start_time": "2023-05-03T20:13:03.985Z"
   },
   {
    "duration": 335,
    "start_time": "2023-05-03T20:13:21.134Z"
   },
   {
    "duration": 313,
    "start_time": "2023-05-03T20:13:31.549Z"
   },
   {
    "duration": 27,
    "start_time": "2023-05-03T20:19:55.275Z"
   },
   {
    "duration": 38,
    "start_time": "2023-05-03T20:29:11.008Z"
   },
   {
    "duration": 34,
    "start_time": "2023-05-03T20:29:48.326Z"
   },
   {
    "duration": 106,
    "start_time": "2023-05-03T20:33:42.345Z"
   },
   {
    "duration": 1199,
    "start_time": "2023-05-04T15:02:12.606Z"
   },
   {
    "duration": 90,
    "start_time": "2023-05-04T15:02:13.806Z"
   },
   {
    "duration": 4,
    "start_time": "2023-05-04T15:02:13.898Z"
   },
   {
    "duration": 15,
    "start_time": "2023-05-04T15:02:13.904Z"
   },
   {
    "duration": 10,
    "start_time": "2023-05-04T15:02:13.921Z"
   },
   {
    "duration": 155,
    "start_time": "2023-05-04T15:02:13.933Z"
   },
   {
    "duration": 25,
    "start_time": "2023-05-04T15:02:14.090Z"
   },
   {
    "duration": 18,
    "start_time": "2023-05-04T15:02:14.117Z"
   },
   {
    "duration": 11,
    "start_time": "2023-05-04T15:02:14.137Z"
   },
   {
    "duration": 5,
    "start_time": "2023-05-04T15:02:14.152Z"
   },
   {
    "duration": 16,
    "start_time": "2023-05-04T15:02:14.159Z"
   },
   {
    "duration": 15,
    "start_time": "2023-05-04T15:02:14.177Z"
   },
   {
    "duration": 8,
    "start_time": "2023-05-04T15:02:14.194Z"
   },
   {
    "duration": 185,
    "start_time": "2023-05-04T15:02:14.203Z"
   },
   {
    "duration": 119,
    "start_time": "2023-05-04T15:02:14.389Z"
   },
   {
    "duration": 6,
    "start_time": "2023-05-04T15:02:14.509Z"
   },
   {
    "duration": 346,
    "start_time": "2023-05-04T15:02:14.517Z"
   },
   {
    "duration": 220,
    "start_time": "2023-05-04T15:02:14.865Z"
   },
   {
    "duration": 383,
    "start_time": "2023-05-04T15:02:15.088Z"
   },
   {
    "duration": 12,
    "start_time": "2023-05-04T15:02:15.472Z"
   },
   {
    "duration": 187,
    "start_time": "2023-05-04T15:02:15.486Z"
   },
   {
    "duration": 288,
    "start_time": "2023-05-04T15:02:15.674Z"
   },
   {
    "duration": 15,
    "start_time": "2023-05-04T15:02:15.964Z"
   },
   {
    "duration": 8,
    "start_time": "2023-05-04T15:02:15.981Z"
   },
   {
    "duration": 130,
    "start_time": "2023-05-04T15:02:15.991Z"
   },
   {
    "duration": 4,
    "start_time": "2023-05-04T15:02:16.123Z"
   },
   {
    "duration": 29,
    "start_time": "2023-05-04T15:02:16.129Z"
   },
   {
    "duration": 135,
    "start_time": "2023-05-04T15:02:16.161Z"
   },
   {
    "duration": 4,
    "start_time": "2023-05-04T15:02:16.298Z"
   },
   {
    "duration": 17,
    "start_time": "2023-05-04T15:02:16.304Z"
   },
   {
    "duration": 532,
    "start_time": "2023-05-04T15:02:16.322Z"
   },
   {
    "duration": 27,
    "start_time": "2023-05-04T15:02:16.856Z"
   },
   {
    "duration": 168,
    "start_time": "2023-05-04T15:02:16.885Z"
   },
   {
    "duration": 45,
    "start_time": "2023-05-04T15:02:17.055Z"
   },
   {
    "duration": 16,
    "start_time": "2023-05-04T15:02:17.102Z"
   },
   {
    "duration": 4,
    "start_time": "2023-05-04T18:07:57.966Z"
   },
   {
    "duration": 1412,
    "start_time": "2023-05-04T18:08:07.284Z"
   },
   {
    "duration": 105,
    "start_time": "2023-05-04T18:08:08.699Z"
   },
   {
    "duration": 4,
    "start_time": "2023-05-04T18:08:08.806Z"
   },
   {
    "duration": 86,
    "start_time": "2023-05-04T18:08:08.812Z"
   },
   {
    "duration": 20,
    "start_time": "2023-05-04T18:08:08.902Z"
   },
   {
    "duration": 189,
    "start_time": "2023-05-04T18:08:08.924Z"
   },
   {
    "duration": 20,
    "start_time": "2023-05-04T18:08:09.115Z"
   },
   {
    "duration": 68,
    "start_time": "2023-05-04T18:08:09.137Z"
   },
   {
    "duration": 159,
    "start_time": "2023-05-04T18:08:09.207Z"
   },
   {
    "duration": 97,
    "start_time": "2023-05-04T18:08:09.368Z"
   },
   {
    "duration": 11,
    "start_time": "2023-05-04T18:08:09.467Z"
   },
   {
    "duration": 35,
    "start_time": "2023-05-04T18:08:09.480Z"
   },
   {
    "duration": 10,
    "start_time": "2023-05-04T18:08:09.518Z"
   },
   {
    "duration": 195,
    "start_time": "2023-05-04T18:08:09.532Z"
   },
   {
    "duration": 134,
    "start_time": "2023-05-04T18:08:09.729Z"
   },
   {
    "duration": 7,
    "start_time": "2023-05-04T18:08:09.865Z"
   },
   {
    "duration": 339,
    "start_time": "2023-05-04T18:08:09.874Z"
   },
   {
    "duration": 249,
    "start_time": "2023-05-04T18:08:10.215Z"
   },
   {
    "duration": 423,
    "start_time": "2023-05-04T18:08:10.465Z"
   },
   {
    "duration": 13,
    "start_time": "2023-05-04T18:08:10.890Z"
   },
   {
    "duration": 252,
    "start_time": "2023-05-04T18:08:10.905Z"
   },
   {
    "duration": 337,
    "start_time": "2023-05-04T18:08:11.159Z"
   },
   {
    "duration": 14,
    "start_time": "2023-05-04T18:08:11.498Z"
   },
   {
    "duration": 31,
    "start_time": "2023-05-04T18:08:11.514Z"
   },
   {
    "duration": 145,
    "start_time": "2023-05-04T18:08:11.547Z"
   },
   {
    "duration": 5,
    "start_time": "2023-05-04T18:08:11.694Z"
   },
   {
    "duration": 36,
    "start_time": "2023-05-04T18:08:11.701Z"
   },
   {
    "duration": 177,
    "start_time": "2023-05-04T18:08:11.738Z"
   },
   {
    "duration": 5,
    "start_time": "2023-05-04T18:08:11.917Z"
   },
   {
    "duration": 57,
    "start_time": "2023-05-04T18:08:11.923Z"
   },
   {
    "duration": 586,
    "start_time": "2023-05-04T18:08:11.982Z"
   },
   {
    "duration": 30,
    "start_time": "2023-05-04T18:08:12.571Z"
   },
   {
    "duration": 182,
    "start_time": "2023-05-04T18:08:12.603Z"
   },
   {
    "duration": 34,
    "start_time": "2023-05-04T18:08:12.786Z"
   },
   {
    "duration": 37,
    "start_time": "2023-05-04T18:08:12.823Z"
   },
   {
    "duration": 8,
    "start_time": "2023-05-04T18:09:24.483Z"
   },
   {
    "duration": 8,
    "start_time": "2023-05-04T18:09:52.537Z"
   },
   {
    "duration": 13,
    "start_time": "2023-05-04T18:09:56.438Z"
   },
   {
    "duration": 5,
    "start_time": "2023-05-04T18:10:59.412Z"
   },
   {
    "duration": 15,
    "start_time": "2023-05-04T18:11:03.139Z"
   },
   {
    "duration": 8,
    "start_time": "2023-05-04T18:12:09.010Z"
   },
   {
    "duration": 7,
    "start_time": "2023-05-04T18:15:01.388Z"
   },
   {
    "duration": 409,
    "start_time": "2023-05-04T18:17:15.739Z"
   },
   {
    "duration": 13,
    "start_time": "2023-05-04T18:17:20.548Z"
   },
   {
    "duration": 104,
    "start_time": "2023-05-04T18:17:53.307Z"
   },
   {
    "duration": 15,
    "start_time": "2023-05-04T18:19:10.876Z"
   },
   {
    "duration": 8,
    "start_time": "2023-05-04T18:21:52.628Z"
   },
   {
    "duration": 12,
    "start_time": "2023-05-04T18:21:59.110Z"
   },
   {
    "duration": 1430,
    "start_time": "2023-05-04T18:22:16.603Z"
   },
   {
    "duration": 12,
    "start_time": "2023-05-04T18:22:42.685Z"
   },
   {
    "duration": 923,
    "start_time": "2023-05-04T18:23:33.695Z"
   },
   {
    "duration": 1158,
    "start_time": "2023-05-04T18:23:47.483Z"
   },
   {
    "duration": 908,
    "start_time": "2023-05-04T18:24:46.571Z"
   },
   {
    "duration": 13,
    "start_time": "2023-05-04T18:24:54.222Z"
   },
   {
    "duration": 14,
    "start_time": "2023-05-04T18:25:18.476Z"
   },
   {
    "duration": 844,
    "start_time": "2023-05-04T18:25:28.735Z"
   },
   {
    "duration": 17,
    "start_time": "2023-05-04T18:25:38.288Z"
   },
   {
    "duration": 15,
    "start_time": "2023-05-04T18:25:44.031Z"
   },
   {
    "duration": 11,
    "start_time": "2023-05-04T18:27:43.473Z"
   },
   {
    "duration": 10,
    "start_time": "2023-05-04T18:27:58.419Z"
   },
   {
    "duration": 15,
    "start_time": "2023-05-04T18:28:02.622Z"
   },
   {
    "duration": 10,
    "start_time": "2023-05-04T18:28:20.456Z"
   },
   {
    "duration": 12,
    "start_time": "2023-05-04T18:28:24.588Z"
   },
   {
    "duration": 9,
    "start_time": "2023-05-04T18:31:41.525Z"
   },
   {
    "duration": 41,
    "start_time": "2023-05-04T18:32:35.419Z"
   },
   {
    "duration": 15,
    "start_time": "2023-05-04T18:52:04.210Z"
   },
   {
    "duration": 27,
    "start_time": "2023-05-04T18:52:20.843Z"
   },
   {
    "duration": 17,
    "start_time": "2023-05-04T18:52:54.083Z"
   },
   {
    "duration": 14,
    "start_time": "2023-05-04T18:55:27.109Z"
   },
   {
    "duration": 7,
    "start_time": "2023-05-04T18:56:08.120Z"
   },
   {
    "duration": 13,
    "start_time": "2023-05-04T18:56:13.338Z"
   },
   {
    "duration": 6,
    "start_time": "2023-05-04T18:56:27.909Z"
   },
   {
    "duration": 13,
    "start_time": "2023-05-04T18:56:34.911Z"
   },
   {
    "duration": 17,
    "start_time": "2023-05-04T18:56:46.707Z"
   },
   {
    "duration": 12,
    "start_time": "2023-05-04T18:56:51.687Z"
   },
   {
    "duration": 9,
    "start_time": "2023-05-04T18:58:02.600Z"
   },
   {
    "duration": 16,
    "start_time": "2023-05-04T18:58:06.195Z"
   },
   {
    "duration": 16,
    "start_time": "2023-05-04T18:58:26.890Z"
   },
   {
    "duration": 9,
    "start_time": "2023-05-04T18:58:31.018Z"
   },
   {
    "duration": 7,
    "start_time": "2023-05-04T18:58:42.683Z"
   },
   {
    "duration": 10,
    "start_time": "2023-05-04T18:58:46.494Z"
   },
   {
    "duration": 20,
    "start_time": "2023-05-04T18:59:17.981Z"
   },
   {
    "duration": 16,
    "start_time": "2023-05-04T18:59:34.905Z"
   },
   {
    "duration": 10,
    "start_time": "2023-05-04T18:59:38.907Z"
   },
   {
    "duration": 110,
    "start_time": "2023-05-04T19:02:31.100Z"
   },
   {
    "duration": 15,
    "start_time": "2023-05-04T19:03:46.372Z"
   },
   {
    "duration": 21,
    "start_time": "2023-05-04T19:04:04.354Z"
   },
   {
    "duration": 10,
    "start_time": "2023-05-04T19:04:12.592Z"
   },
   {
    "duration": 14,
    "start_time": "2023-05-04T19:05:17.317Z"
   },
   {
    "duration": 26,
    "start_time": "2023-05-04T19:05:29.855Z"
   },
   {
    "duration": 50,
    "start_time": "2023-05-10T17:42:40.573Z"
   },
   {
    "duration": 1607,
    "start_time": "2023-05-10T17:42:48.477Z"
   },
   {
    "duration": 121,
    "start_time": "2023-05-10T17:42:50.086Z"
   },
   {
    "duration": 5,
    "start_time": "2023-05-10T17:42:50.209Z"
   },
   {
    "duration": 21,
    "start_time": "2023-05-10T17:42:50.216Z"
   },
   {
    "duration": 54,
    "start_time": "2023-05-10T17:42:50.239Z"
   },
   {
    "duration": 297,
    "start_time": "2023-05-10T17:42:50.295Z"
   },
   {
    "duration": 22,
    "start_time": "2023-05-10T17:42:50.594Z"
   },
   {
    "duration": 22,
    "start_time": "2023-05-10T17:42:50.618Z"
   },
   {
    "duration": 67,
    "start_time": "2023-05-10T17:42:50.641Z"
   },
   {
    "duration": 9,
    "start_time": "2023-05-10T17:42:50.710Z"
   },
   {
    "duration": 16,
    "start_time": "2023-05-10T17:42:50.720Z"
   },
   {
    "duration": 9,
    "start_time": "2023-05-10T17:42:50.737Z"
   },
   {
    "duration": 68,
    "start_time": "2023-05-10T17:42:50.748Z"
   },
   {
    "duration": 9,
    "start_time": "2023-05-10T17:42:50.820Z"
   },
   {
    "duration": 211,
    "start_time": "2023-05-10T17:42:50.831Z"
   },
   {
    "duration": 163,
    "start_time": "2023-05-10T17:42:51.044Z"
   },
   {
    "duration": 8,
    "start_time": "2023-05-10T17:42:51.210Z"
   },
   {
    "duration": 409,
    "start_time": "2023-05-10T17:42:51.221Z"
   },
   {
    "duration": 280,
    "start_time": "2023-05-10T17:42:51.632Z"
   },
   {
    "duration": 471,
    "start_time": "2023-05-10T17:42:51.913Z"
   },
   {
    "duration": 24,
    "start_time": "2023-05-10T17:42:52.386Z"
   },
   {
    "duration": 335,
    "start_time": "2023-05-10T17:42:52.412Z"
   },
   {
    "duration": 382,
    "start_time": "2023-05-10T17:42:52.752Z"
   },
   {
    "duration": 22,
    "start_time": "2023-05-10T17:42:53.137Z"
   },
   {
    "duration": 54,
    "start_time": "2023-05-10T17:42:53.161Z"
   },
   {
    "duration": 154,
    "start_time": "2023-05-10T17:42:53.217Z"
   },
   {
    "duration": 6,
    "start_time": "2023-05-10T17:42:53.374Z"
   },
   {
    "duration": 25,
    "start_time": "2023-05-10T17:42:53.382Z"
   },
   {
    "duration": 200,
    "start_time": "2023-05-10T17:42:53.409Z"
   },
   {
    "duration": 4,
    "start_time": "2023-05-10T17:42:53.611Z"
   },
   {
    "duration": 36,
    "start_time": "2023-05-10T17:42:53.617Z"
   },
   {
    "duration": 671,
    "start_time": "2023-05-10T17:42:53.655Z"
   },
   {
    "duration": 56,
    "start_time": "2023-05-10T17:42:54.330Z"
   },
   {
    "duration": 161,
    "start_time": "2023-05-10T17:42:54.389Z"
   },
   {
    "duration": 43,
    "start_time": "2023-05-10T17:42:54.552Z"
   },
   {
    "duration": 19,
    "start_time": "2023-05-10T17:42:54.597Z"
   },
   {
    "duration": 1396,
    "start_time": "2023-05-10T17:43:38.879Z"
   },
   {
    "duration": 1135,
    "start_time": "2023-05-10T17:43:45.695Z"
   },
   {
    "duration": 1136,
    "start_time": "2023-05-10T17:43:54.177Z"
   },
   {
    "duration": 12,
    "start_time": "2023-05-10T17:44:10.177Z"
   },
   {
    "duration": 11,
    "start_time": "2023-05-10T17:44:15.780Z"
   },
   {
    "duration": 1433,
    "start_time": "2023-05-10T17:44:26.277Z"
   },
   {
    "duration": 1335,
    "start_time": "2023-05-10T17:44:53.741Z"
   },
   {
    "duration": 10,
    "start_time": "2023-05-10T17:45:07.881Z"
   },
   {
    "duration": 10,
    "start_time": "2023-05-10T17:45:13.226Z"
   },
   {
    "duration": 7,
    "start_time": "2023-05-10T17:45:20.574Z"
   },
   {
    "duration": 13,
    "start_time": "2023-05-10T17:45:39.176Z"
   },
   {
    "duration": 12,
    "start_time": "2023-05-10T17:45:49.430Z"
   },
   {
    "duration": 18,
    "start_time": "2023-05-10T17:45:51.138Z"
   },
   {
    "duration": 9,
    "start_time": "2023-05-10T17:46:00.588Z"
   },
   {
    "duration": 4,
    "start_time": "2023-05-10T17:46:09.477Z"
   },
   {
    "duration": 12,
    "start_time": "2023-05-10T17:46:17.476Z"
   },
   {
    "duration": 6,
    "start_time": "2023-05-10T17:46:25.576Z"
   },
   {
    "duration": 15,
    "start_time": "2023-05-10T17:46:31.334Z"
   },
   {
    "duration": 7,
    "start_time": "2023-05-10T17:47:08.861Z"
   },
   {
    "duration": 10,
    "start_time": "2023-05-10T17:47:16.080Z"
   },
   {
    "duration": 6,
    "start_time": "2023-05-10T17:47:23.980Z"
   },
   {
    "duration": 12,
    "start_time": "2023-05-10T17:48:52.709Z"
   },
   {
    "duration": 6,
    "start_time": "2023-05-10T17:49:01.991Z"
   },
   {
    "duration": 10,
    "start_time": "2023-05-10T18:01:20.199Z"
   },
   {
    "duration": 10,
    "start_time": "2023-05-10T18:02:54.580Z"
   },
   {
    "duration": 5,
    "start_time": "2023-05-10T18:03:13.285Z"
   },
   {
    "duration": 6,
    "start_time": "2023-05-10T18:03:20.412Z"
   },
   {
    "duration": 3,
    "start_time": "2023-05-10T18:03:34.287Z"
   },
   {
    "duration": 1697,
    "start_time": "2023-05-10T18:05:07.367Z"
   },
   {
    "duration": 18,
    "start_time": "2023-05-10T18:05:20.000Z"
   },
   {
    "duration": 16,
    "start_time": "2023-05-10T18:06:31.655Z"
   },
   {
    "duration": 14,
    "start_time": "2023-05-10T18:08:10.368Z"
   },
   {
    "duration": 13,
    "start_time": "2023-05-10T18:10:15.213Z"
   },
   {
    "duration": 19,
    "start_time": "2023-05-10T18:12:01.346Z"
   },
   {
    "duration": 14,
    "start_time": "2023-05-10T18:12:10.740Z"
   },
   {
    "duration": 23,
    "start_time": "2023-05-10T18:14:36.939Z"
   },
   {
    "duration": 5,
    "start_time": "2023-05-10T18:14:50.865Z"
   },
   {
    "duration": 1278,
    "start_time": "2023-05-10T18:15:15.059Z"
   },
   {
    "duration": 43,
    "start_time": "2023-05-10T18:15:16.339Z"
   },
   {
    "duration": 4,
    "start_time": "2023-05-10T18:15:16.384Z"
   },
   {
    "duration": 28,
    "start_time": "2023-05-10T18:15:16.391Z"
   },
   {
    "duration": 31,
    "start_time": "2023-05-10T18:15:16.421Z"
   },
   {
    "duration": 70,
    "start_time": "2023-05-10T18:15:16.454Z"
   },
   {
    "duration": 19,
    "start_time": "2023-05-10T18:15:16.526Z"
   },
   {
    "duration": 57,
    "start_time": "2023-05-10T18:15:16.548Z"
   },
   {
    "duration": 38,
    "start_time": "2023-05-10T18:15:16.607Z"
   },
   {
    "duration": 19,
    "start_time": "2023-05-10T18:15:16.650Z"
   },
   {
    "duration": 29,
    "start_time": "2023-05-10T18:15:16.671Z"
   },
   {
    "duration": 22,
    "start_time": "2023-05-10T18:15:16.702Z"
   },
   {
    "duration": 45,
    "start_time": "2023-05-10T18:15:16.726Z"
   },
   {
    "duration": 15,
    "start_time": "2023-05-10T18:15:16.773Z"
   },
   {
    "duration": 19,
    "start_time": "2023-05-10T18:15:16.790Z"
   },
   {
    "duration": 28,
    "start_time": "2023-05-10T18:15:16.811Z"
   },
   {
    "duration": 42,
    "start_time": "2023-05-10T18:15:16.841Z"
   },
   {
    "duration": 216,
    "start_time": "2023-05-10T18:15:16.885Z"
   },
   {
    "duration": 130,
    "start_time": "2023-05-10T18:15:17.102Z"
   },
   {
    "duration": 21,
    "start_time": "2023-05-10T18:15:17.234Z"
   },
   {
    "duration": 349,
    "start_time": "2023-05-10T18:15:17.257Z"
   },
   {
    "duration": 239,
    "start_time": "2023-05-10T18:15:17.608Z"
   },
   {
    "duration": 337,
    "start_time": "2023-05-10T18:15:17.849Z"
   },
   {
    "duration": 12,
    "start_time": "2023-05-10T18:15:18.188Z"
   },
   {
    "duration": 218,
    "start_time": "2023-05-10T18:15:18.202Z"
   },
   {
    "duration": 338,
    "start_time": "2023-05-10T18:15:18.422Z"
   },
   {
    "duration": 13,
    "start_time": "2023-05-10T18:15:18.762Z"
   },
   {
    "duration": 10,
    "start_time": "2023-05-10T18:15:18.778Z"
   },
   {
    "duration": 144,
    "start_time": "2023-05-10T18:15:18.790Z"
   },
   {
    "duration": 12,
    "start_time": "2023-05-10T18:15:18.936Z"
   },
   {
    "duration": 34,
    "start_time": "2023-05-10T18:15:18.951Z"
   },
   {
    "duration": 141,
    "start_time": "2023-05-10T18:15:18.986Z"
   },
   {
    "duration": 5,
    "start_time": "2023-05-10T18:15:19.128Z"
   },
   {
    "duration": 35,
    "start_time": "2023-05-10T18:15:19.134Z"
   },
   {
    "duration": 554,
    "start_time": "2023-05-10T18:15:19.171Z"
   },
   {
    "duration": 45,
    "start_time": "2023-05-10T18:15:19.727Z"
   },
   {
    "duration": 191,
    "start_time": "2023-05-10T18:15:19.774Z"
   },
   {
    "duration": 35,
    "start_time": "2023-05-10T18:15:19.967Z"
   },
   {
    "duration": 19,
    "start_time": "2023-05-10T18:15:20.004Z"
   },
   {
    "duration": 371,
    "start_time": "2023-05-10T18:19:05.140Z"
   },
   {
    "duration": 325,
    "start_time": "2023-05-10T18:19:39.062Z"
   },
   {
    "duration": 337,
    "start_time": "2023-05-10T18:20:16.896Z"
   },
   {
    "duration": 154,
    "start_time": "2023-05-10T18:21:00.265Z"
   },
   {
    "duration": 173,
    "start_time": "2023-05-10T18:21:16.466Z"
   },
   {
    "duration": 155,
    "start_time": "2023-05-10T18:22:55.684Z"
   },
   {
    "duration": 154,
    "start_time": "2023-05-10T18:23:31.228Z"
   },
   {
    "duration": 154,
    "start_time": "2023-05-10T18:24:10.370Z"
   },
   {
    "duration": 164,
    "start_time": "2023-05-10T18:24:32.860Z"
   },
   {
    "duration": 169,
    "start_time": "2023-05-10T18:24:40.293Z"
   },
   {
    "duration": 168,
    "start_time": "2023-05-10T18:24:44.194Z"
   },
   {
    "duration": 1200,
    "start_time": "2023-05-11T14:26:30.268Z"
   },
   {
    "duration": 77,
    "start_time": "2023-05-11T14:26:31.470Z"
   },
   {
    "duration": 4,
    "start_time": "2023-05-11T14:26:31.549Z"
   },
   {
    "duration": 48,
    "start_time": "2023-05-11T14:26:31.555Z"
   },
   {
    "duration": 35,
    "start_time": "2023-05-11T14:26:31.608Z"
   },
   {
    "duration": 205,
    "start_time": "2023-05-11T14:26:31.644Z"
   },
   {
    "duration": 26,
    "start_time": "2023-05-11T14:26:31.852Z"
   },
   {
    "duration": 38,
    "start_time": "2023-05-11T14:26:31.880Z"
   },
   {
    "duration": 27,
    "start_time": "2023-05-11T14:26:31.921Z"
   },
   {
    "duration": 24,
    "start_time": "2023-05-11T14:26:31.949Z"
   },
   {
    "duration": 43,
    "start_time": "2023-05-11T14:26:31.975Z"
   },
   {
    "duration": 7,
    "start_time": "2023-05-11T14:26:32.024Z"
   },
   {
    "duration": 70,
    "start_time": "2023-05-11T14:26:32.033Z"
   },
   {
    "duration": 32,
    "start_time": "2023-05-11T14:26:32.107Z"
   },
   {
    "duration": 42,
    "start_time": "2023-05-11T14:26:32.142Z"
   },
   {
    "duration": 53,
    "start_time": "2023-05-11T14:26:32.186Z"
   },
   {
    "duration": 14,
    "start_time": "2023-05-11T14:26:32.241Z"
   },
   {
    "duration": 188,
    "start_time": "2023-05-11T14:26:32.257Z"
   },
   {
    "duration": 190,
    "start_time": "2023-05-11T14:26:32.447Z"
   },
   {
    "duration": 10,
    "start_time": "2023-05-11T14:26:32.640Z"
   },
   {
    "duration": 341,
    "start_time": "2023-05-11T14:26:32.654Z"
   },
   {
    "duration": 302,
    "start_time": "2023-05-11T14:26:32.997Z"
   },
   {
    "duration": 331,
    "start_time": "2023-05-11T14:26:33.301Z"
   },
   {
    "duration": 15,
    "start_time": "2023-05-11T14:26:33.634Z"
   },
   {
    "duration": 194,
    "start_time": "2023-05-11T14:26:33.651Z"
   },
   {
    "duration": 316,
    "start_time": "2023-05-11T14:26:33.847Z"
   },
   {
    "duration": 16,
    "start_time": "2023-05-11T14:26:34.165Z"
   },
   {
    "duration": 11,
    "start_time": "2023-05-11T14:26:34.183Z"
   },
   {
    "duration": 158,
    "start_time": "2023-05-11T14:26:34.207Z"
   },
   {
    "duration": 4,
    "start_time": "2023-05-11T14:26:34.367Z"
   },
   {
    "duration": 23,
    "start_time": "2023-05-11T14:26:34.374Z"
   },
   {
    "duration": 170,
    "start_time": "2023-05-11T14:26:34.406Z"
   },
   {
    "duration": 4,
    "start_time": "2023-05-11T14:26:34.578Z"
   },
   {
    "duration": 29,
    "start_time": "2023-05-11T14:26:34.584Z"
   },
   {
    "duration": 528,
    "start_time": "2023-05-11T14:26:34.622Z"
   },
   {
    "duration": 27,
    "start_time": "2023-05-11T14:26:35.152Z"
   },
   {
    "duration": 217,
    "start_time": "2023-05-11T14:26:35.181Z"
   },
   {
    "duration": 47,
    "start_time": "2023-05-11T14:26:35.406Z"
   },
   {
    "duration": 24,
    "start_time": "2023-05-11T14:26:35.455Z"
   },
   {
    "duration": 61,
    "start_time": "2023-05-13T09:40:17.852Z"
   },
   {
    "duration": 1253,
    "start_time": "2023-05-13T09:40:26.169Z"
   },
   {
    "duration": 93,
    "start_time": "2023-05-13T09:40:27.425Z"
   },
   {
    "duration": 4,
    "start_time": "2023-05-13T09:40:27.520Z"
   },
   {
    "duration": 27,
    "start_time": "2023-05-13T09:40:27.527Z"
   },
   {
    "duration": 10,
    "start_time": "2023-05-13T09:40:27.557Z"
   },
   {
    "duration": 172,
    "start_time": "2023-05-13T09:40:27.569Z"
   },
   {
    "duration": 14,
    "start_time": "2023-05-13T09:40:27.743Z"
   },
   {
    "duration": 37,
    "start_time": "2023-05-13T09:40:27.759Z"
   },
   {
    "duration": 28,
    "start_time": "2023-05-13T09:40:27.798Z"
   },
   {
    "duration": 32,
    "start_time": "2023-05-13T09:40:27.829Z"
   },
   {
    "duration": 27,
    "start_time": "2023-05-13T09:40:27.863Z"
   },
   {
    "duration": 51,
    "start_time": "2023-05-13T09:40:27.892Z"
   },
   {
    "duration": 12,
    "start_time": "2023-05-13T09:40:27.945Z"
   },
   {
    "duration": 28,
    "start_time": "2023-05-13T09:40:27.959Z"
   },
   {
    "duration": 17,
    "start_time": "2023-05-13T09:40:27.989Z"
   },
   {
    "duration": 32,
    "start_time": "2023-05-13T09:40:28.008Z"
   },
   {
    "duration": 26,
    "start_time": "2023-05-13T09:40:28.042Z"
   },
   {
    "duration": 28,
    "start_time": "2023-05-13T09:40:28.070Z"
   },
   {
    "duration": 217,
    "start_time": "2023-05-13T09:40:28.100Z"
   },
   {
    "duration": 150,
    "start_time": "2023-05-13T09:40:28.319Z"
   },
   {
    "duration": 8,
    "start_time": "2023-05-13T09:40:28.472Z"
   },
   {
    "duration": 328,
    "start_time": "2023-05-13T09:40:28.482Z"
   },
   {
    "duration": 251,
    "start_time": "2023-05-13T09:40:28.812Z"
   },
   {
    "duration": 350,
    "start_time": "2023-05-13T09:40:29.066Z"
   },
   {
    "duration": 14,
    "start_time": "2023-05-13T09:40:29.417Z"
   },
   {
    "duration": 241,
    "start_time": "2023-05-13T09:40:29.433Z"
   },
   {
    "duration": 349,
    "start_time": "2023-05-13T09:40:29.676Z"
   },
   {
    "duration": 15,
    "start_time": "2023-05-13T09:40:30.028Z"
   },
   {
    "duration": 49,
    "start_time": "2023-05-13T09:40:30.045Z"
   },
   {
    "duration": 210,
    "start_time": "2023-05-13T09:40:30.096Z"
   },
   {
    "duration": 4,
    "start_time": "2023-05-13T09:40:30.309Z"
   },
   {
    "duration": 179,
    "start_time": "2023-05-13T09:40:30.315Z"
   },
   {
    "duration": 724,
    "start_time": "2023-05-13T09:40:30.497Z"
   },
   {
    "duration": 8,
    "start_time": "2023-05-13T09:40:31.224Z"
   },
   {
    "duration": 55,
    "start_time": "2023-05-13T09:40:31.234Z"
   },
   {
    "duration": 641,
    "start_time": "2023-05-13T09:40:31.292Z"
   },
   {
    "duration": 48,
    "start_time": "2023-05-13T09:40:31.935Z"
   },
   {
    "duration": 152,
    "start_time": "2023-05-13T09:40:31.985Z"
   },
   {
    "duration": 47,
    "start_time": "2023-05-13T09:40:32.139Z"
   },
   {
    "duration": 19,
    "start_time": "2023-05-13T09:40:32.188Z"
   }
  ],
  "kernelspec": {
   "display_name": "Python 3 (ipykernel)",
   "language": "python",
   "name": "python3"
  },
  "language_info": {
   "codemirror_mode": {
    "name": "ipython",
    "version": 3
   },
   "file_extension": ".py",
   "mimetype": "text/x-python",
   "name": "python",
   "nbconvert_exporter": "python",
   "pygments_lexer": "ipython3",
   "version": "3.9.5"
  },
  "toc": {
   "base_numbering": 1,
   "nav_menu": {},
   "number_sections": true,
   "sideBar": true,
   "skip_h1_title": true,
   "title_cell": "Table of Contents",
   "title_sidebar": "Contents",
   "toc_cell": false,
   "toc_position": {},
   "toc_section_display": true,
   "toc_window_display": false
  }
 },
 "nbformat": 4,
 "nbformat_minor": 2
}
