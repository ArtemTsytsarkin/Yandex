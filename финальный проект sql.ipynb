{
 "cells": [
  {
   "cell_type": "markdown",
   "id": "f864895f",
   "metadata": {},
   "source": [
    "<div style=\"border:solid green 2px; padding: 20px\">\n",
    "\n",
    "<b>Привет, Артем!</b>\n",
    "\n",
    "Меня зовут Алина Соловьева и я буду проверять твою работу. Попробую помочь сделать тебе её еще лучше! В Практикуме принято общение на ты, но если это дискомфортно, то сообщи об этом)\n",
    "\n",
    "Ниже ты найдешь мои комментарии - пожалуйста, не перемещай, не изменяй и не удаляй их. Я буду использовать цветовую разметку:\n",
    "\n",
    "<div class=\"alert alert-danger\">\n",
    "<b>Комментарий ревьюера:</b>☁️Так выделены самые важные замечания. Без их отработки проект не будет принят. </div>\n",
    "\n",
    "<div class=\"alert alert-warning\">\n",
    "<b>Комментарий ревьюера:</b>⛅️ Так выделены небольшие замечания.Такие замечания в проекте допустимы, это пространство для улучшений в будущем.\n",
    "</div>\n",
    "\n",
    "<div class=\"alert alert-success\">\n",
    "<b>Комментарий ревьюера:</b>☀️Так я выделяю успешные идеи.</div>\n",
    "\n",
    "Давай работать над проектом в диалоге: если ты что-то меняешь в проекте или отвечаешь на мои комментарии — пиши об этом. Мне будет легче отследить изменения, если ты выделишь свои комментарии:\n",
    "\n",
    "<div class=\"alert alert-info\"> <b>Комментарий студента:</b> Например, вот так.</div>    \n",
    "\n",
    "Всё это поможет выполнить повторную проверку твоего проекта оперативнее."
   ]
  },
  {
   "cell_type": "markdown",
   "id": "9e1c4a63",
   "metadata": {},
   "source": [
    "# SQL\n",
    "\n",
    "Коронавирус застал мир врасплох, изменив привычный порядок вещей. В свободное время жители городов больше не выходят на улицу, не посещают кафе и торговые центры. Зато стало больше времени для книг. Это заметили стартаперы — и бросились создавать приложения для тех, кто любит читать.\n",
    "\n",
    "Ваша компания решила быть на волне и купила крупный сервис для чтения книг по подписке. Ваша первая задача как аналитика — проанализировать базу данных.\n",
    "В ней — информация о книгах, издательствах, авторах, а также пользовательские обзоры книг. Эти данные помогут сформулировать ценностное предложение для нового продукта."
   ]
  },
  {
   "cell_type": "markdown",
   "id": "e8a512d3",
   "metadata": {},
   "source": [
    "### Описание данных\n",
    "\n",
    "**Таблица `books`**\n",
    "\n",
    "Содержит данные о книгах:\n",
    "\n",
    "- `book_id` — идентификатор книги;\n",
    "- `author_id` — идентификатор автора;\n",
    "- `title` — название книги;\n",
    "- `num_pages` — количество страниц;\n",
    "- `publication_date` — дата публикации книги;\n",
    "- `publisher_id` — идентификатор издателя.\n",
    "\n",
    "**Таблица `authors`**\n",
    "\n",
    "Содержит данные об авторах:\n",
    "\n",
    "- `author_id` — идентификатор автора;\n",
    "- `author` — имя автора.\n",
    "\n",
    "**Таблица `publishers`**\n",
    "\n",
    "Содержит данные об издательствах:\n",
    "\n",
    "- `publisher_id` — идентификатор издательства;\n",
    "- `publisher` — название издательства;\n",
    "\n",
    "**Таблица `ratings`**\n",
    "Содержит данные о пользовательских оценках книг:\n",
    "\n",
    "- `rating_id` — идентификатор оценки;\n",
    "- `book_id` — идентификатор книги;\n",
    "- `username` — имя пользователя, оставившего оценку;\n",
    "- `rating` — оценка книги.\n",
    "\n",
    "**Таблица `reviews`**\n",
    "\n",
    "Содержит данные о пользовательских обзорах на книги:\n",
    "\n",
    "- `review_id` — идентификатор обзора;\n",
    "- `book_id` — идентификатор книги;\n",
    "- `username` — имя пользователя, написавшего обзор;\n",
    "- `text` — текст обзора."
   ]
  },
  {
   "cell_type": "markdown",
   "id": "f8d23d8e",
   "metadata": {},
   "source": [
    "\n",
    "<div class=\"alert alert-success\">\n",
    "<b>Комментарий ревьюера:</b>☀️Молодец, что начинаешь с введения - это важная часть проекта.</div>"
   ]
  },
  {
   "cell_type": "markdown",
   "id": "382b1177",
   "metadata": {},
   "source": [
    "Подключаемся к базе данных"
   ]
  },
  {
   "cell_type": "code",
   "execution_count": 1,
   "id": "114c9271",
   "metadata": {},
   "outputs": [],
   "source": [
    "import pandas as pd\n",
    "from sqlalchemy import text, create_engine"
   ]
  },
  {
   "cell_type": "code",
   "execution_count": 2,
   "id": "556eb71f",
   "metadata": {},
   "outputs": [],
   "source": [
    "# устанавливаем параметры\n",
    "db_config = {'user': 'praktikum_student', # имя пользователя\n",
    "'pwd': 'Sdf4$2;d-d30pp', # пароль\n",
    "'host': 'rc1b-wcoijxj3yxfsf3fs.mdb.yandexcloud.net',\n",
    "'port': 6432, # порт подключения\n",
    "'db': 'data-analyst-final-project-db'} # название базы данных\n",
    "connection_string = 'postgresql://{user}:{pwd}@{host}:{port}/{db}'.format(**db_config)"
   ]
  },
  {
   "cell_type": "code",
   "execution_count": 3,
   "id": "ab0320a7",
   "metadata": {},
   "outputs": [],
   "source": [
    "# сохраняем коннектор\n",
    "engine = create_engine(connection_string, connect_args={'sslmode':'require'})"
   ]
  },
  {
   "cell_type": "markdown",
   "id": "6df94438",
   "metadata": {},
   "source": [
    "выводим первые 5 строк таблицы books"
   ]
  },
  {
   "cell_type": "code",
   "execution_count": 4,
   "id": "6b0d1b6d",
   "metadata": {},
   "outputs": [],
   "source": [
    "query = '''SELECT * FROM books LIMIT 5'''"
   ]
  },
  {
   "cell_type": "code",
   "execution_count": 5,
   "id": "926e5d3c",
   "metadata": {},
   "outputs": [],
   "source": [
    "con=engine.connect()"
   ]
  },
  {
   "cell_type": "code",
   "execution_count": 6,
   "id": "f617f222",
   "metadata": {},
   "outputs": [
    {
     "data": {
      "text/html": [
       "<div>\n",
       "<style scoped>\n",
       "    .dataframe tbody tr th:only-of-type {\n",
       "        vertical-align: middle;\n",
       "    }\n",
       "\n",
       "    .dataframe tbody tr th {\n",
       "        vertical-align: top;\n",
       "    }\n",
       "\n",
       "    .dataframe thead th {\n",
       "        text-align: right;\n",
       "    }\n",
       "</style>\n",
       "<table border=\"1\" class=\"dataframe\">\n",
       "  <thead>\n",
       "    <tr style=\"text-align: right;\">\n",
       "      <th></th>\n",
       "      <th>book_id</th>\n",
       "      <th>author_id</th>\n",
       "      <th>title</th>\n",
       "      <th>num_pages</th>\n",
       "      <th>publication_date</th>\n",
       "      <th>publisher_id</th>\n",
       "    </tr>\n",
       "  </thead>\n",
       "  <tbody>\n",
       "    <tr>\n",
       "      <th>0</th>\n",
       "      <td>1</td>\n",
       "      <td>546</td>\n",
       "      <td>'Salem's Lot</td>\n",
       "      <td>594</td>\n",
       "      <td>2005-11-01</td>\n",
       "      <td>93</td>\n",
       "    </tr>\n",
       "    <tr>\n",
       "      <th>1</th>\n",
       "      <td>2</td>\n",
       "      <td>465</td>\n",
       "      <td>1 000 Places to See Before You Die</td>\n",
       "      <td>992</td>\n",
       "      <td>2003-05-22</td>\n",
       "      <td>336</td>\n",
       "    </tr>\n",
       "    <tr>\n",
       "      <th>2</th>\n",
       "      <td>3</td>\n",
       "      <td>407</td>\n",
       "      <td>13 Little Blue Envelopes (Little Blue Envelope...</td>\n",
       "      <td>322</td>\n",
       "      <td>2010-12-21</td>\n",
       "      <td>135</td>\n",
       "    </tr>\n",
       "    <tr>\n",
       "      <th>3</th>\n",
       "      <td>4</td>\n",
       "      <td>82</td>\n",
       "      <td>1491: New Revelations of the Americas Before C...</td>\n",
       "      <td>541</td>\n",
       "      <td>2006-10-10</td>\n",
       "      <td>309</td>\n",
       "    </tr>\n",
       "    <tr>\n",
       "      <th>4</th>\n",
       "      <td>5</td>\n",
       "      <td>125</td>\n",
       "      <td>1776</td>\n",
       "      <td>386</td>\n",
       "      <td>2006-07-04</td>\n",
       "      <td>268</td>\n",
       "    </tr>\n",
       "  </tbody>\n",
       "</table>\n",
       "</div>"
      ],
      "text/plain": [
       "   book_id  author_id                                              title  \\\n",
       "0        1        546                                       'Salem's Lot   \n",
       "1        2        465                 1 000 Places to See Before You Die   \n",
       "2        3        407  13 Little Blue Envelopes (Little Blue Envelope...   \n",
       "3        4         82  1491: New Revelations of the Americas Before C...   \n",
       "4        5        125                                               1776   \n",
       "\n",
       "   num_pages publication_date  publisher_id  \n",
       "0        594       2005-11-01            93  \n",
       "1        992       2003-05-22           336  \n",
       "2        322       2010-12-21           135  \n",
       "3        541       2006-10-10           309  \n",
       "4        386       2006-07-04           268  "
      ]
     },
     "execution_count": 6,
     "metadata": {},
     "output_type": "execute_result"
    }
   ],
   "source": [
    "pd.io.sql.read_sql(sql=text(query), con = con)"
   ]
  },
  {
   "cell_type": "markdown",
   "id": "7267fda0",
   "metadata": {},
   "source": [
    "выводим первые 5 строк таблицы author"
   ]
  },
  {
   "cell_type": "code",
   "execution_count": 7,
   "id": "d1b613d9",
   "metadata": {},
   "outputs": [
    {
     "data": {
      "text/html": [
       "<div>\n",
       "<style scoped>\n",
       "    .dataframe tbody tr th:only-of-type {\n",
       "        vertical-align: middle;\n",
       "    }\n",
       "\n",
       "    .dataframe tbody tr th {\n",
       "        vertical-align: top;\n",
       "    }\n",
       "\n",
       "    .dataframe thead th {\n",
       "        text-align: right;\n",
       "    }\n",
       "</style>\n",
       "<table border=\"1\" class=\"dataframe\">\n",
       "  <thead>\n",
       "    <tr style=\"text-align: right;\">\n",
       "      <th></th>\n",
       "      <th>author_id</th>\n",
       "      <th>author</th>\n",
       "    </tr>\n",
       "  </thead>\n",
       "  <tbody>\n",
       "    <tr>\n",
       "      <th>0</th>\n",
       "      <td>1</td>\n",
       "      <td>A.S. Byatt</td>\n",
       "    </tr>\n",
       "    <tr>\n",
       "      <th>1</th>\n",
       "      <td>2</td>\n",
       "      <td>Aesop/Laura Harris/Laura Gibbs</td>\n",
       "    </tr>\n",
       "    <tr>\n",
       "      <th>2</th>\n",
       "      <td>3</td>\n",
       "      <td>Agatha Christie</td>\n",
       "    </tr>\n",
       "    <tr>\n",
       "      <th>3</th>\n",
       "      <td>4</td>\n",
       "      <td>Alan Brennert</td>\n",
       "    </tr>\n",
       "    <tr>\n",
       "      <th>4</th>\n",
       "      <td>5</td>\n",
       "      <td>Alan Moore/David   Lloyd</td>\n",
       "    </tr>\n",
       "  </tbody>\n",
       "</table>\n",
       "</div>"
      ],
      "text/plain": [
       "   author_id                          author\n",
       "0          1                      A.S. Byatt\n",
       "1          2  Aesop/Laura Harris/Laura Gibbs\n",
       "2          3                 Agatha Christie\n",
       "3          4                   Alan Brennert\n",
       "4          5        Alan Moore/David   Lloyd"
      ]
     },
     "execution_count": 7,
     "metadata": {},
     "output_type": "execute_result"
    }
   ],
   "source": [
    "query = '''SELECT * FROM authors LIMIT 5'''\n",
    "con=engine.connect()\n",
    "pd.io.sql.read_sql(sql=text(query), con = con)"
   ]
  },
  {
   "cell_type": "markdown",
   "id": "ec0163b1",
   "metadata": {},
   "source": [
    "выводим первые 5 строк таблицы publishers"
   ]
  },
  {
   "cell_type": "code",
   "execution_count": 8,
   "id": "19655d72",
   "metadata": {},
   "outputs": [
    {
     "data": {
      "text/html": [
       "<div>\n",
       "<style scoped>\n",
       "    .dataframe tbody tr th:only-of-type {\n",
       "        vertical-align: middle;\n",
       "    }\n",
       "\n",
       "    .dataframe tbody tr th {\n",
       "        vertical-align: top;\n",
       "    }\n",
       "\n",
       "    .dataframe thead th {\n",
       "        text-align: right;\n",
       "    }\n",
       "</style>\n",
       "<table border=\"1\" class=\"dataframe\">\n",
       "  <thead>\n",
       "    <tr style=\"text-align: right;\">\n",
       "      <th></th>\n",
       "      <th>publisher_id</th>\n",
       "      <th>publisher</th>\n",
       "    </tr>\n",
       "  </thead>\n",
       "  <tbody>\n",
       "    <tr>\n",
       "      <th>0</th>\n",
       "      <td>1</td>\n",
       "      <td>Ace</td>\n",
       "    </tr>\n",
       "    <tr>\n",
       "      <th>1</th>\n",
       "      <td>2</td>\n",
       "      <td>Ace Book</td>\n",
       "    </tr>\n",
       "    <tr>\n",
       "      <th>2</th>\n",
       "      <td>3</td>\n",
       "      <td>Ace Books</td>\n",
       "    </tr>\n",
       "    <tr>\n",
       "      <th>3</th>\n",
       "      <td>4</td>\n",
       "      <td>Ace Hardcover</td>\n",
       "    </tr>\n",
       "    <tr>\n",
       "      <th>4</th>\n",
       "      <td>5</td>\n",
       "      <td>Addison Wesley Publishing Company</td>\n",
       "    </tr>\n",
       "  </tbody>\n",
       "</table>\n",
       "</div>"
      ],
      "text/plain": [
       "   publisher_id                          publisher\n",
       "0             1                                Ace\n",
       "1             2                           Ace Book\n",
       "2             3                          Ace Books\n",
       "3             4                      Ace Hardcover\n",
       "4             5  Addison Wesley Publishing Company"
      ]
     },
     "execution_count": 8,
     "metadata": {},
     "output_type": "execute_result"
    }
   ],
   "source": [
    "query = '''SELECT * FROM publishers LIMIT 5'''\n",
    "con=engine.connect()\n",
    "pd.io.sql.read_sql(sql=text(query), con = con)"
   ]
  },
  {
   "cell_type": "markdown",
   "id": "9c0a6a32",
   "metadata": {},
   "source": [
    "выводим первые 5 строк таблицы ratings"
   ]
  },
  {
   "cell_type": "code",
   "execution_count": 9,
   "id": "6ab54fab",
   "metadata": {},
   "outputs": [
    {
     "data": {
      "text/html": [
       "<div>\n",
       "<style scoped>\n",
       "    .dataframe tbody tr th:only-of-type {\n",
       "        vertical-align: middle;\n",
       "    }\n",
       "\n",
       "    .dataframe tbody tr th {\n",
       "        vertical-align: top;\n",
       "    }\n",
       "\n",
       "    .dataframe thead th {\n",
       "        text-align: right;\n",
       "    }\n",
       "</style>\n",
       "<table border=\"1\" class=\"dataframe\">\n",
       "  <thead>\n",
       "    <tr style=\"text-align: right;\">\n",
       "      <th></th>\n",
       "      <th>rating_id</th>\n",
       "      <th>book_id</th>\n",
       "      <th>username</th>\n",
       "      <th>rating</th>\n",
       "    </tr>\n",
       "  </thead>\n",
       "  <tbody>\n",
       "    <tr>\n",
       "      <th>0</th>\n",
       "      <td>1</td>\n",
       "      <td>1</td>\n",
       "      <td>ryanfranco</td>\n",
       "      <td>4</td>\n",
       "    </tr>\n",
       "    <tr>\n",
       "      <th>1</th>\n",
       "      <td>2</td>\n",
       "      <td>1</td>\n",
       "      <td>grantpatricia</td>\n",
       "      <td>2</td>\n",
       "    </tr>\n",
       "    <tr>\n",
       "      <th>2</th>\n",
       "      <td>3</td>\n",
       "      <td>1</td>\n",
       "      <td>brandtandrea</td>\n",
       "      <td>5</td>\n",
       "    </tr>\n",
       "    <tr>\n",
       "      <th>3</th>\n",
       "      <td>4</td>\n",
       "      <td>2</td>\n",
       "      <td>lorichen</td>\n",
       "      <td>3</td>\n",
       "    </tr>\n",
       "    <tr>\n",
       "      <th>4</th>\n",
       "      <td>5</td>\n",
       "      <td>2</td>\n",
       "      <td>mariokeller</td>\n",
       "      <td>2</td>\n",
       "    </tr>\n",
       "  </tbody>\n",
       "</table>\n",
       "</div>"
      ],
      "text/plain": [
       "   rating_id  book_id       username  rating\n",
       "0          1        1     ryanfranco       4\n",
       "1          2        1  grantpatricia       2\n",
       "2          3        1   brandtandrea       5\n",
       "3          4        2       lorichen       3\n",
       "4          5        2    mariokeller       2"
      ]
     },
     "execution_count": 9,
     "metadata": {},
     "output_type": "execute_result"
    }
   ],
   "source": [
    "query = '''SELECT * FROM ratings LIMIT 5'''\n",
    "con=engine.connect()\n",
    "pd.io.sql.read_sql(sql=text(query), con = con)"
   ]
  },
  {
   "cell_type": "markdown",
   "id": "c6d32513",
   "metadata": {},
   "source": [
    "выводим первые 5 строк таблицы reviews"
   ]
  },
  {
   "cell_type": "code",
   "execution_count": 10,
   "id": "790b7dce",
   "metadata": {},
   "outputs": [
    {
     "data": {
      "text/html": [
       "<div>\n",
       "<style scoped>\n",
       "    .dataframe tbody tr th:only-of-type {\n",
       "        vertical-align: middle;\n",
       "    }\n",
       "\n",
       "    .dataframe tbody tr th {\n",
       "        vertical-align: top;\n",
       "    }\n",
       "\n",
       "    .dataframe thead th {\n",
       "        text-align: right;\n",
       "    }\n",
       "</style>\n",
       "<table border=\"1\" class=\"dataframe\">\n",
       "  <thead>\n",
       "    <tr style=\"text-align: right;\">\n",
       "      <th></th>\n",
       "      <th>review_id</th>\n",
       "      <th>book_id</th>\n",
       "      <th>username</th>\n",
       "      <th>text</th>\n",
       "    </tr>\n",
       "  </thead>\n",
       "  <tbody>\n",
       "    <tr>\n",
       "      <th>0</th>\n",
       "      <td>1</td>\n",
       "      <td>1</td>\n",
       "      <td>brandtandrea</td>\n",
       "      <td>Mention society tell send professor analysis. ...</td>\n",
       "    </tr>\n",
       "    <tr>\n",
       "      <th>1</th>\n",
       "      <td>2</td>\n",
       "      <td>1</td>\n",
       "      <td>ryanfranco</td>\n",
       "      <td>Foot glass pretty audience hit themselves. Amo...</td>\n",
       "    </tr>\n",
       "    <tr>\n",
       "      <th>2</th>\n",
       "      <td>3</td>\n",
       "      <td>2</td>\n",
       "      <td>lorichen</td>\n",
       "      <td>Listen treat keep worry. Miss husband tax but ...</td>\n",
       "    </tr>\n",
       "    <tr>\n",
       "      <th>3</th>\n",
       "      <td>4</td>\n",
       "      <td>3</td>\n",
       "      <td>johnsonamanda</td>\n",
       "      <td>Finally month interesting blue could nature cu...</td>\n",
       "    </tr>\n",
       "    <tr>\n",
       "      <th>4</th>\n",
       "      <td>5</td>\n",
       "      <td>3</td>\n",
       "      <td>scotttamara</td>\n",
       "      <td>Nation purpose heavy give wait song will. List...</td>\n",
       "    </tr>\n",
       "  </tbody>\n",
       "</table>\n",
       "</div>"
      ],
      "text/plain": [
       "   review_id  book_id       username  \\\n",
       "0          1        1   brandtandrea   \n",
       "1          2        1     ryanfranco   \n",
       "2          3        2       lorichen   \n",
       "3          4        3  johnsonamanda   \n",
       "4          5        3    scotttamara   \n",
       "\n",
       "                                                text  \n",
       "0  Mention society tell send professor analysis. ...  \n",
       "1  Foot glass pretty audience hit themselves. Amo...  \n",
       "2  Listen treat keep worry. Miss husband tax but ...  \n",
       "3  Finally month interesting blue could nature cu...  \n",
       "4  Nation purpose heavy give wait song will. List...  "
      ]
     },
     "execution_count": 10,
     "metadata": {},
     "output_type": "execute_result"
    }
   ],
   "source": [
    "query = '''SELECT * FROM reviews LIMIT 5'''\n",
    "con=engine.connect()\n",
    "pd.io.sql.read_sql(sql=text(query), con = con)"
   ]
  },
  {
   "cell_type": "markdown",
   "id": "5d445032",
   "metadata": {},
   "source": [
    "\n",
    "<div class=\"alert alert-success\">\n",
    "<b>Комментарий ревьюера:</b>☀️Хорошо. Познакомились с данными, посмотрели содержимое таблиц и заодно проверили соединение с сервером.</div>"
   ]
  },
  {
   "cell_type": "markdown",
   "id": "fc9f6dbf",
   "metadata": {},
   "source": [
    "задание 1  \n",
    "\n",
    "- Посчитайте, сколько книг вышло после 1 января 2000 года;"
   ]
  },
  {
   "cell_type": "code",
   "execution_count": 11,
   "id": "cbeba1bf",
   "metadata": {},
   "outputs": [
    {
     "data": {
      "text/html": [
       "<div>\n",
       "<style scoped>\n",
       "    .dataframe tbody tr th:only-of-type {\n",
       "        vertical-align: middle;\n",
       "    }\n",
       "\n",
       "    .dataframe tbody tr th {\n",
       "        vertical-align: top;\n",
       "    }\n",
       "\n",
       "    .dataframe thead th {\n",
       "        text-align: right;\n",
       "    }\n",
       "</style>\n",
       "<table border=\"1\" class=\"dataframe\">\n",
       "  <thead>\n",
       "    <tr style=\"text-align: right;\">\n",
       "      <th></th>\n",
       "      <th>count</th>\n",
       "    </tr>\n",
       "  </thead>\n",
       "  <tbody>\n",
       "    <tr>\n",
       "      <th>0</th>\n",
       "      <td>819</td>\n",
       "    </tr>\n",
       "  </tbody>\n",
       "</table>\n",
       "</div>"
      ],
      "text/plain": [
       "   count\n",
       "0    819"
      ]
     },
     "execution_count": 11,
     "metadata": {},
     "output_type": "execute_result"
    }
   ],
   "source": [
    "query = '''SELECT count(book_id)\n",
    "            FROM books \n",
    "            where cast(publication_date as date) > '2000-01-01' '''\n",
    "con=engine.connect()\n",
    "pd.io.sql.read_sql(sql=text(query), con = con)"
   ]
  },
  {
   "cell_type": "markdown",
   "id": "df1b3b6d",
   "metadata": {},
   "source": [
    "После 1 января 2000 года вышло 819 книг"
   ]
  },
  {
   "cell_type": "markdown",
   "id": "eeee7ce0",
   "metadata": {},
   "source": [
    "\n",
    "<div class=\"alert alert-success\">\n",
    "<b>Комментарий ревьюера:</b>☀️Отлично.</div>"
   ]
  },
  {
   "cell_type": "markdown",
   "id": "8283d453",
   "metadata": {},
   "source": [
    "задание 2  \n",
    "Для каждой книги посчитайте количество обзоров и среднюю оценку;"
   ]
  },
  {
   "cell_type": "code",
   "execution_count": 12,
   "id": "f75efeaa",
   "metadata": {},
   "outputs": [
    {
     "data": {
      "text/html": [
       "<div>\n",
       "<style scoped>\n",
       "    .dataframe tbody tr th:only-of-type {\n",
       "        vertical-align: middle;\n",
       "    }\n",
       "\n",
       "    .dataframe tbody tr th {\n",
       "        vertical-align: top;\n",
       "    }\n",
       "\n",
       "    .dataframe thead th {\n",
       "        text-align: right;\n",
       "    }\n",
       "</style>\n",
       "<table border=\"1\" class=\"dataframe\">\n",
       "  <thead>\n",
       "    <tr style=\"text-align: right;\">\n",
       "      <th></th>\n",
       "      <th>book_id</th>\n",
       "      <th>title</th>\n",
       "      <th>avg_rating</th>\n",
       "      <th>cnt_review</th>\n",
       "    </tr>\n",
       "  </thead>\n",
       "  <tbody>\n",
       "    <tr>\n",
       "      <th>0</th>\n",
       "      <td>948</td>\n",
       "      <td>Twilight (Twilight  #1)</td>\n",
       "      <td>3.662500</td>\n",
       "      <td>7</td>\n",
       "    </tr>\n",
       "    <tr>\n",
       "      <th>1</th>\n",
       "      <td>963</td>\n",
       "      <td>Water for Elephants</td>\n",
       "      <td>3.977273</td>\n",
       "      <td>6</td>\n",
       "    </tr>\n",
       "    <tr>\n",
       "      <th>2</th>\n",
       "      <td>734</td>\n",
       "      <td>The Glass Castle</td>\n",
       "      <td>4.206897</td>\n",
       "      <td>6</td>\n",
       "    </tr>\n",
       "    <tr>\n",
       "      <th>3</th>\n",
       "      <td>302</td>\n",
       "      <td>Harry Potter and the Prisoner of Azkaban (Harr...</td>\n",
       "      <td>4.414634</td>\n",
       "      <td>6</td>\n",
       "    </tr>\n",
       "    <tr>\n",
       "      <th>4</th>\n",
       "      <td>695</td>\n",
       "      <td>The Curious Incident of the Dog in the Night-Time</td>\n",
       "      <td>4.081081</td>\n",
       "      <td>6</td>\n",
       "    </tr>\n",
       "    <tr>\n",
       "      <th>...</th>\n",
       "      <td>...</td>\n",
       "      <td>...</td>\n",
       "      <td>...</td>\n",
       "      <td>...</td>\n",
       "    </tr>\n",
       "    <tr>\n",
       "      <th>995</th>\n",
       "      <td>83</td>\n",
       "      <td>Anne Rice's The Vampire Lestat: A Graphic Novel</td>\n",
       "      <td>3.666667</td>\n",
       "      <td>0</td>\n",
       "    </tr>\n",
       "    <tr>\n",
       "      <th>996</th>\n",
       "      <td>808</td>\n",
       "      <td>The Natural Way to Draw</td>\n",
       "      <td>3.000000</td>\n",
       "      <td>0</td>\n",
       "    </tr>\n",
       "    <tr>\n",
       "      <th>997</th>\n",
       "      <td>672</td>\n",
       "      <td>The Cat in the Hat and Other Dr. Seuss Favorites</td>\n",
       "      <td>5.000000</td>\n",
       "      <td>0</td>\n",
       "    </tr>\n",
       "    <tr>\n",
       "      <th>998</th>\n",
       "      <td>221</td>\n",
       "      <td>Essential Tales and Poems</td>\n",
       "      <td>4.000000</td>\n",
       "      <td>0</td>\n",
       "    </tr>\n",
       "    <tr>\n",
       "      <th>999</th>\n",
       "      <td>191</td>\n",
       "      <td>Disney's Beauty and the Beast (A Little Golden...</td>\n",
       "      <td>4.000000</td>\n",
       "      <td>0</td>\n",
       "    </tr>\n",
       "  </tbody>\n",
       "</table>\n",
       "<p>1000 rows × 4 columns</p>\n",
       "</div>"
      ],
      "text/plain": [
       "     book_id                                              title  avg_rating  \\\n",
       "0        948                            Twilight (Twilight  #1)    3.662500   \n",
       "1        963                                Water for Elephants    3.977273   \n",
       "2        734                                   The Glass Castle    4.206897   \n",
       "3        302  Harry Potter and the Prisoner of Azkaban (Harr...    4.414634   \n",
       "4        695  The Curious Incident of the Dog in the Night-Time    4.081081   \n",
       "..       ...                                                ...         ...   \n",
       "995       83    Anne Rice's The Vampire Lestat: A Graphic Novel    3.666667   \n",
       "996      808                            The Natural Way to Draw    3.000000   \n",
       "997      672   The Cat in the Hat and Other Dr. Seuss Favorites    5.000000   \n",
       "998      221                          Essential Tales and Poems    4.000000   \n",
       "999      191  Disney's Beauty and the Beast (A Little Golden...    4.000000   \n",
       "\n",
       "     cnt_review  \n",
       "0             7  \n",
       "1             6  \n",
       "2             6  \n",
       "3             6  \n",
       "4             6  \n",
       "..          ...  \n",
       "995           0  \n",
       "996           0  \n",
       "997           0  \n",
       "998           0  \n",
       "999           0  \n",
       "\n",
       "[1000 rows x 4 columns]"
      ]
     },
     "execution_count": 12,
     "metadata": {},
     "output_type": "execute_result"
    }
   ],
   "source": [
    "query = '''SELECT b.book_id,\n",
    "                    b.title,\n",
    "                    avg(rating) as avg_rating,\n",
    "                    count(distinct review_id) as cnt_review\n",
    "            FROM books as b\n",
    "            left join ratings as r on b.book_id=r.book_id\n",
    "            left join reviews as re on b.book_id = re.book_id\n",
    "            group by b.book_id\n",
    "            order by cnt_review desc\n",
    "                        '''\n",
    "con=engine.connect()\n",
    "pd.io.sql.read_sql(sql=text(query), con = con)"
   ]
  },
  {
   "cell_type": "markdown",
   "id": "a2b7400f",
   "metadata": {},
   "source": [
    "Получили таблицу из 1000 строк, т.е. из 1000 книг, в которых указан id книги,название книги, средняя оценка и колличество обзоров"
   ]
  },
  {
   "cell_type": "markdown",
   "id": "45754b09",
   "metadata": {},
   "source": [
    "\n",
    "<div class=\"alert alert-success\">\n",
    "<b>Комментарий ревьюера:</b>☀️Да, это верно.</div>"
   ]
  },
  {
   "cell_type": "markdown",
   "id": "d8d52973",
   "metadata": {},
   "source": [
    "задание 3  \n",
    "Определите издательство, которое выпустило наибольшее число книг толще 50 страниц — так вы исключите из анализа брошюры;"
   ]
  },
  {
   "cell_type": "code",
   "execution_count": 13,
   "id": "4d3eaa02",
   "metadata": {},
   "outputs": [
    {
     "data": {
      "text/html": [
       "<div>\n",
       "<style scoped>\n",
       "    .dataframe tbody tr th:only-of-type {\n",
       "        vertical-align: middle;\n",
       "    }\n",
       "\n",
       "    .dataframe tbody tr th {\n",
       "        vertical-align: top;\n",
       "    }\n",
       "\n",
       "    .dataframe thead th {\n",
       "        text-align: right;\n",
       "    }\n",
       "</style>\n",
       "<table border=\"1\" class=\"dataframe\">\n",
       "  <thead>\n",
       "    <tr style=\"text-align: right;\">\n",
       "      <th></th>\n",
       "      <th>publisher</th>\n",
       "      <th>count</th>\n",
       "    </tr>\n",
       "  </thead>\n",
       "  <tbody>\n",
       "    <tr>\n",
       "      <th>0</th>\n",
       "      <td>Penguin Books</td>\n",
       "      <td>42</td>\n",
       "    </tr>\n",
       "  </tbody>\n",
       "</table>\n",
       "</div>"
      ],
      "text/plain": [
       "       publisher  count\n",
       "0  Penguin Books     42"
      ]
     },
     "execution_count": 13,
     "metadata": {},
     "output_type": "execute_result"
    }
   ],
   "source": [
    "query = '''\n",
    "select\n",
    "        p.publisher,\n",
    "        count(b.book_id)\n",
    "from books as b\n",
    "left join publishers as p on b.publisher_id=p.publisher_id\n",
    "where b.num_pages > 50\n",
    "group by p.publisher_id\n",
    "order by count(b.book_id) desc\n",
    "limit 1\n",
    "                        '''\n",
    "con=engine.connect()\n",
    "pd.io.sql.read_sql(sql=text(query), con = con)"
   ]
  },
  {
   "cell_type": "markdown",
   "id": "930cdf51",
   "metadata": {},
   "source": [
    "Penguin Books выпустило 42 книги, что является наибольшим показателем среди всех издательств"
   ]
  },
  {
   "cell_type": "markdown",
   "id": "86183b01",
   "metadata": {},
   "source": [
    "\n",
    "<div class=\"alert alert-success\">\n",
    "<b>Комментарий ревьюера:</b>☀️Да, это так.</div>"
   ]
  },
  {
   "cell_type": "markdown",
   "id": "f8043f04",
   "metadata": {},
   "source": [
    "задание 4 \n",
    "Определите автора с самой высокой средней оценкой книг — учитывайте только книги с 50 и более оценками;"
   ]
  },
  {
   "cell_type": "code",
   "execution_count": 14,
   "id": "d563d11b",
   "metadata": {},
   "outputs": [
    {
     "data": {
      "text/html": [
       "<div>\n",
       "<style scoped>\n",
       "    .dataframe tbody tr th:only-of-type {\n",
       "        vertical-align: middle;\n",
       "    }\n",
       "\n",
       "    .dataframe tbody tr th {\n",
       "        vertical-align: top;\n",
       "    }\n",
       "\n",
       "    .dataframe thead th {\n",
       "        text-align: right;\n",
       "    }\n",
       "</style>\n",
       "<table border=\"1\" class=\"dataframe\">\n",
       "  <thead>\n",
       "    <tr style=\"text-align: right;\">\n",
       "      <th></th>\n",
       "      <th>author</th>\n",
       "      <th>avg</th>\n",
       "    </tr>\n",
       "  </thead>\n",
       "  <tbody>\n",
       "    <tr>\n",
       "      <th>0</th>\n",
       "      <td>J.K. Rowling/Mary GrandPré</td>\n",
       "      <td>4.283844</td>\n",
       "    </tr>\n",
       "  </tbody>\n",
       "</table>\n",
       "</div>"
      ],
      "text/plain": [
       "                       author       avg\n",
       "0  J.K. Rowling/Mary GrandPré  4.283844"
      ]
     },
     "execution_count": 14,
     "metadata": {},
     "output_type": "execute_result"
    }
   ],
   "source": [
    "query = '''\n",
    "with t as (\n",
    "select \n",
    "    b.book_id,\n",
    "    b.author_id,\n",
    "    count(r.rating_id) as cnt_rating,\n",
    "    avg(r.rating) as avg_rating\n",
    "from books as b\n",
    "join ratings as r on b.book_id=r.book_id\n",
    "group by b.book_id\n",
    "having count(r.rating_id) >= 50 \n",
    "order by avg_rating desc)\n",
    "\n",
    "select \n",
    "    author,\n",
    "    avg(avg_rating)\n",
    "from authors as a\n",
    "right join t on a.author_id=t.author_id\n",
    "group by author\n",
    "order by avg(avg_rating) desc\n",
    "limit 1\n",
    "                        '''\n",
    "con=engine.connect()\n",
    "pd.io.sql.read_sql(sql=text(query), con = con)"
   ]
  },
  {
   "cell_type": "markdown",
   "id": "2b49b8a4",
   "metadata": {},
   "source": [
    "Наивысшая средняя оценка всех книг автора составляет 4,28 у J.K.Rowling \n",
    "(в расчет принимались только те книги у которых более 50 оценок)"
   ]
  },
  {
   "cell_type": "markdown",
   "id": "51880dff",
   "metadata": {},
   "source": [
    "\n",
    "<div class=\"alert alert-success\">\n",
    "<b>Комментарий ревьюера:</b>☀️Самое сложное задание из выборки выполнено с первой попытки!</div>"
   ]
  },
  {
   "cell_type": "markdown",
   "id": "18959638",
   "metadata": {},
   "source": [
    "Посчитайте среднее количество обзоров от пользователей, которые поставили больше 48 оценок."
   ]
  },
  {
   "cell_type": "code",
   "execution_count": 15,
   "id": "fbe8b243",
   "metadata": {},
   "outputs": [
    {
     "data": {
      "text/html": [
       "<div>\n",
       "<style scoped>\n",
       "    .dataframe tbody tr th:only-of-type {\n",
       "        vertical-align: middle;\n",
       "    }\n",
       "\n",
       "    .dataframe tbody tr th {\n",
       "        vertical-align: top;\n",
       "    }\n",
       "\n",
       "    .dataframe thead th {\n",
       "        text-align: right;\n",
       "    }\n",
       "</style>\n",
       "<table border=\"1\" class=\"dataframe\">\n",
       "  <thead>\n",
       "    <tr style=\"text-align: right;\">\n",
       "      <th></th>\n",
       "      <th>avg_review</th>\n",
       "    </tr>\n",
       "  </thead>\n",
       "  <tbody>\n",
       "    <tr>\n",
       "      <th>0</th>\n",
       "      <td>24</td>\n",
       "    </tr>\n",
       "  </tbody>\n",
       "</table>\n",
       "</div>"
      ],
      "text/plain": [
       "   avg_review\n",
       "0          24"
      ]
     },
     "execution_count": 15,
     "metadata": {},
     "output_type": "execute_result"
    }
   ],
   "source": [
    "query = '''\n",
    "with t as (\n",
    "SELECT \n",
    "        username,\n",
    "        count(r.rating_id) as cnt\n",
    "from books as b\n",
    "join ratings as r on b.book_id=r.book_id\n",
    "group by r.username\n",
    "having count(r.rating_id) >48\n",
    ")\n",
    "\n",
    "\n",
    "select \n",
    "        count(review_id)/count(distinct(username)) as avg_review\n",
    "from reviews\n",
    "where username in (select username from t)\n",
    "\n",
    "'''\n",
    "con=engine.connect()\n",
    "pd.io.sql.read_sql(sql=text(query), con = con)"
   ]
  },
  {
   "cell_type": "markdown",
   "id": "8967256a",
   "metadata": {},
   "source": [
    "Пользователи, которые ставят более 48 оценков, в среднем пишут по 24 отзыва"
   ]
  },
  {
   "cell_type": "markdown",
   "id": "1a2666ee",
   "metadata": {},
   "source": [
    "\n",
    "<div class=\"alert alert-success\">\n",
    "<b>Комментарий ревьюера:</b>☀️Точно!</div>"
   ]
  },
  {
   "cell_type": "markdown",
   "id": "865f57f8",
   "metadata": {},
   "source": [
    "\n",
    "<div class=\"alert alert-danger\">\n",
    "<b>Комментарий ревьюера:</b>Нужно только добавить финальный вывод и все будет принято :) Других критических замечаний нет. </div>"
   ]
  },
  {
   "cell_type": "markdown",
   "id": "1d5091fa",
   "metadata": {},
   "source": [
    "вывод: было загружено 5 таблиц и просмотренных первые 5 строк каждой таблицы.  \n",
    "далее было выполнено первое задание и обнаружено, что после первого января 2000 годабыло выпущено 819 книг  \n",
    "выполнено второе задание , в котором была подсчитано средняя оценка и количество обзоров каждой книги\n",
    "выполнено третье задание, в котором было обнаружено издательство, напечатавшее наибольшее количество книг. это  penguin Books  \n",
    "выполнено четвёртое задание, в котором была обнаружен автор с наибольшей средней оценкой книг, среди книг с более чем 50 оценками  \n",
    "пятое задание, в котором было установлено что пользователи , которые ставят более 48 оценок, в среднем пишут по 24 отзыва\n",
    "\n",
    "все дания были выполнены с использованием sql\n",
    "\n"
   ]
  },
  {
   "cell_type": "markdown",
   "id": "3ddcad71",
   "metadata": {},
   "source": [
    "\n",
    "<div class=\"alert alert-success\">\n",
    "<b>Комментарий ревьюера v2.0:</b>☀️Проект принят, поздравляю тебя ;) Успехов на поприще аналитики!</div>"
   ]
  }
 ],
 "metadata": {
  "ExecuteTimeLog": [
   {
    "duration": 23789,
    "start_time": "2023-07-24T17:41:46.326Z"
   },
   {
    "duration": 3,
    "start_time": "2023-07-24T17:42:27.453Z"
   },
   {
    "duration": 4,
    "start_time": "2023-07-24T17:42:49.330Z"
   },
   {
    "duration": 3,
    "start_time": "2023-07-24T17:42:53.070Z"
   },
   {
    "duration": 228,
    "start_time": "2023-07-24T17:43:07.688Z"
   },
   {
    "duration": 45,
    "start_time": "2023-07-24T17:43:24.758Z"
   },
   {
    "duration": 562,
    "start_time": "2023-07-24T17:43:50.690Z"
   },
   {
    "duration": 3,
    "start_time": "2023-07-24T17:43:51.254Z"
   },
   {
    "duration": 29311,
    "start_time": "2023-07-24T17:43:51.259Z"
   },
   {
    "duration": 3,
    "start_time": "2023-07-24T17:44:20.572Z"
   },
   {
    "duration": 239,
    "start_time": "2023-07-24T17:44:20.576Z"
   },
   {
    "duration": 53,
    "start_time": "2023-07-24T17:44:20.817Z"
   },
   {
    "duration": 2,
    "start_time": "2023-07-24T17:46:40.453Z"
   },
   {
    "duration": 114,
    "start_time": "2023-07-24T17:46:44.723Z"
   },
   {
    "duration": 158,
    "start_time": "2023-07-24T17:46:46.637Z"
   },
   {
    "duration": 2,
    "start_time": "2023-07-24T17:47:59.829Z"
   },
   {
    "duration": 3,
    "start_time": "2023-07-24T17:48:02.105Z"
   },
   {
    "duration": 64,
    "start_time": "2023-07-24T17:48:03.739Z"
   },
   {
    "duration": 3,
    "start_time": "2023-07-24T17:48:21.574Z"
   },
   {
    "duration": 102,
    "start_time": "2023-07-24T17:48:23.781Z"
   },
   {
    "duration": 72,
    "start_time": "2023-07-24T17:48:25.362Z"
   },
   {
    "duration": 3,
    "start_time": "2023-07-24T17:48:32.091Z"
   },
   {
    "duration": 113,
    "start_time": "2023-07-24T17:48:34.017Z"
   },
   {
    "duration": 75,
    "start_time": "2023-07-24T17:48:35.654Z"
   },
   {
    "duration": 3,
    "start_time": "2023-07-24T17:54:05.558Z"
   },
   {
    "duration": 3,
    "start_time": "2023-07-24T17:54:08.077Z"
   },
   {
    "duration": 63,
    "start_time": "2023-07-24T17:54:09.978Z"
   },
   {
    "duration": 7,
    "start_time": "2023-07-24T17:56:40.360Z"
   },
   {
    "duration": 3,
    "start_time": "2023-07-24T17:56:42.704Z"
   },
   {
    "duration": 63,
    "start_time": "2023-07-24T17:56:45.785Z"
   },
   {
    "duration": 3,
    "start_time": "2023-07-24T17:58:26.843Z"
   },
   {
    "duration": 3,
    "start_time": "2023-07-24T17:58:29.846Z"
   },
   {
    "duration": 45,
    "start_time": "2023-07-24T17:58:34.117Z"
   },
   {
    "duration": 3,
    "start_time": "2023-07-24T17:59:18.039Z"
   },
   {
    "duration": 189,
    "start_time": "2023-07-24T17:59:32.356Z"
   },
   {
    "duration": 55,
    "start_time": "2023-07-24T18:00:05.862Z"
   },
   {
    "duration": 55,
    "start_time": "2023-07-24T18:00:31.011Z"
   },
   {
    "duration": 58,
    "start_time": "2023-07-24T18:00:42.229Z"
   },
   {
    "duration": 56,
    "start_time": "2023-07-24T18:00:58.614Z"
   },
   {
    "duration": 54,
    "start_time": "2023-07-24T18:14:22.772Z"
   },
   {
    "duration": 74,
    "start_time": "2023-07-24T18:15:23.269Z"
   },
   {
    "duration": 64,
    "start_time": "2023-07-24T18:16:10.322Z"
   },
   {
    "duration": 65,
    "start_time": "2023-07-24T18:17:42.299Z"
   },
   {
    "duration": 159,
    "start_time": "2023-07-24T18:17:49.390Z"
   },
   {
    "duration": 63,
    "start_time": "2023-07-24T18:18:05.992Z"
   },
   {
    "duration": 42,
    "start_time": "2023-07-24T18:18:15.920Z"
   },
   {
    "duration": 170,
    "start_time": "2023-07-24T18:22:17.194Z"
   },
   {
    "duration": 72,
    "start_time": "2023-07-24T18:22:29.775Z"
   },
   {
    "duration": 173,
    "start_time": "2023-07-24T18:23:33.396Z"
   },
   {
    "duration": 138,
    "start_time": "2023-07-24T18:23:49.450Z"
   },
   {
    "duration": 63,
    "start_time": "2023-07-24T18:24:35.682Z"
   },
   {
    "duration": 46,
    "start_time": "2023-07-24T18:24:48.906Z"
   },
   {
    "duration": 59,
    "start_time": "2023-07-24T18:25:14.186Z"
   },
   {
    "duration": 73,
    "start_time": "2023-07-24T18:26:42.716Z"
   },
   {
    "duration": 53,
    "start_time": "2023-07-24T18:27:11.656Z"
   },
   {
    "duration": 173,
    "start_time": "2023-07-24T18:27:46.944Z"
   },
   {
    "duration": 105,
    "start_time": "2023-07-24T18:28:08.290Z"
   },
   {
    "duration": 94,
    "start_time": "2023-07-24T18:29:29.847Z"
   },
   {
    "duration": 75,
    "start_time": "2023-07-24T18:35:46.661Z"
   },
   {
    "duration": 63,
    "start_time": "2023-07-24T18:36:02.438Z"
   },
   {
    "duration": 65,
    "start_time": "2023-07-24T18:36:27.891Z"
   },
   {
    "duration": 47,
    "start_time": "2023-07-24T18:36:46.741Z"
   },
   {
    "duration": 67,
    "start_time": "2023-07-24T18:38:13.140Z"
   },
   {
    "duration": 56,
    "start_time": "2023-07-24T18:38:35.728Z"
   },
   {
    "duration": 61,
    "start_time": "2023-07-24T18:38:48.188Z"
   },
   {
    "duration": 66,
    "start_time": "2023-07-24T18:38:57.509Z"
   },
   {
    "duration": 70,
    "start_time": "2023-07-24T18:39:38.558Z"
   },
   {
    "duration": 81,
    "start_time": "2023-07-24T18:40:00.736Z"
   },
   {
    "duration": 59,
    "start_time": "2023-07-24T18:40:56.939Z"
   },
   {
    "duration": 431,
    "start_time": "2023-07-24T18:42:20.661Z"
   },
   {
    "duration": 69,
    "start_time": "2023-07-24T18:44:34.877Z"
   },
   {
    "duration": 73,
    "start_time": "2023-07-24T18:45:21.827Z"
   },
   {
    "duration": 46,
    "start_time": "2023-07-24T18:45:35.620Z"
   },
   {
    "duration": 57,
    "start_time": "2023-07-24T18:46:02.950Z"
   },
   {
    "duration": 66,
    "start_time": "2023-07-24T18:46:22.225Z"
   },
   {
    "duration": 61,
    "start_time": "2023-07-24T18:46:30.195Z"
   },
   {
    "duration": 61,
    "start_time": "2023-07-24T18:47:22.523Z"
   },
   {
    "duration": 85,
    "start_time": "2023-07-24T19:00:02.480Z"
   },
   {
    "duration": 64,
    "start_time": "2023-07-24T19:00:17.802Z"
   },
   {
    "duration": 47,
    "start_time": "2023-07-24T19:00:33.541Z"
   },
   {
    "duration": 57,
    "start_time": "2023-07-24T19:00:52.047Z"
   },
   {
    "duration": 58,
    "start_time": "2023-07-24T19:01:14.940Z"
   },
   {
    "duration": 59,
    "start_time": "2023-07-24T19:01:33.816Z"
   },
   {
    "duration": 56,
    "start_time": "2023-07-24T19:01:42.156Z"
   },
   {
    "duration": 56,
    "start_time": "2023-07-24T19:01:57.022Z"
   },
   {
    "duration": 56,
    "start_time": "2023-07-24T19:04:19.725Z"
   },
   {
    "duration": 75,
    "start_time": "2023-07-24T19:05:42.406Z"
   },
   {
    "duration": 72,
    "start_time": "2023-07-24T19:06:16.098Z"
   },
   {
    "duration": 49,
    "start_time": "2023-07-24T19:06:51.109Z"
   },
   {
    "duration": 169,
    "start_time": "2023-07-24T19:07:21.185Z"
   },
   {
    "duration": 50,
    "start_time": "2023-07-24T19:07:28.311Z"
   },
   {
    "duration": 75,
    "start_time": "2023-07-24T19:08:31.959Z"
   },
   {
    "duration": 64,
    "start_time": "2023-07-24T19:08:45.907Z"
   },
   {
    "duration": 72,
    "start_time": "2023-07-24T19:09:25.458Z"
   },
   {
    "duration": 168,
    "start_time": "2023-07-24T19:11:17.684Z"
   },
   {
    "duration": 162,
    "start_time": "2023-07-24T19:11:35.728Z"
   },
   {
    "duration": 63,
    "start_time": "2023-07-24T19:12:20.867Z"
   },
   {
    "duration": 47,
    "start_time": "2023-07-24T19:12:47.324Z"
   },
   {
    "duration": 63,
    "start_time": "2023-07-24T19:13:12.139Z"
   },
   {
    "duration": 74,
    "start_time": "2023-07-24T19:15:40.194Z"
   },
   {
    "duration": 49,
    "start_time": "2023-07-24T19:15:55.592Z"
   },
   {
    "duration": 223,
    "start_time": "2023-07-24T19:16:51.450Z"
   },
   {
    "duration": 50,
    "start_time": "2023-07-24T19:17:06.878Z"
   },
   {
    "duration": 61,
    "start_time": "2023-07-24T19:18:20.294Z"
   },
   {
    "duration": 74,
    "start_time": "2023-07-24T19:18:46.421Z"
   },
   {
    "duration": 48,
    "start_time": "2023-07-24T19:18:52.671Z"
   },
   {
    "duration": 59,
    "start_time": "2023-07-24T19:18:57.028Z"
   },
   {
    "duration": 57,
    "start_time": "2023-07-24T19:19:10.637Z"
   },
   {
    "duration": 346,
    "start_time": "2023-07-24T19:28:44.804Z"
   },
   {
    "duration": 74,
    "start_time": "2023-07-24T19:32:11.446Z"
   },
   {
    "duration": 62,
    "start_time": "2023-07-24T19:32:17.912Z"
   },
   {
    "duration": 53,
    "start_time": "2023-07-24T19:32:42.823Z"
   },
   {
    "duration": 77,
    "start_time": "2023-07-24T19:35:43.040Z"
   },
   {
    "duration": 56,
    "start_time": "2023-07-24T19:35:46.957Z"
   },
   {
    "duration": 63,
    "start_time": "2023-07-24T19:37:10.975Z"
   },
   {
    "duration": 65,
    "start_time": "2023-07-24T19:39:10.325Z"
   },
   {
    "duration": 66,
    "start_time": "2023-07-24T19:39:35.850Z"
   },
   {
    "duration": 650,
    "start_time": "2023-07-25T09:54:43.950Z"
   },
   {
    "duration": 9,
    "start_time": "2023-07-25T09:54:44.603Z"
   },
   {
    "duration": 27843,
    "start_time": "2023-07-25T09:54:44.614Z"
   },
   {
    "duration": 4,
    "start_time": "2023-07-25T09:55:12.460Z"
   },
   {
    "duration": 322,
    "start_time": "2023-07-25T09:55:12.467Z"
   },
   {
    "duration": 94,
    "start_time": "2023-07-25T09:55:12.792Z"
   },
   {
    "duration": 267,
    "start_time": "2023-07-25T09:55:12.888Z"
   },
   {
    "duration": 61,
    "start_time": "2023-07-25T09:55:13.157Z"
   },
   {
    "duration": 84,
    "start_time": "2023-07-25T09:55:13.219Z"
   },
   {
    "duration": 94,
    "start_time": "2023-07-25T09:55:13.306Z"
   },
   {
    "duration": 103,
    "start_time": "2023-07-25T09:55:13.403Z"
   },
   {
    "duration": 174,
    "start_time": "2023-07-25T09:55:13.511Z"
   },
   {
    "duration": 93,
    "start_time": "2023-07-25T09:55:13.687Z"
   },
   {
    "duration": 122,
    "start_time": "2023-07-25T09:55:13.782Z"
   },
   {
    "duration": 0,
    "start_time": "2023-07-25T09:55:13.907Z"
   },
   {
    "duration": 0,
    "start_time": "2023-07-25T09:55:13.911Z"
   },
   {
    "duration": 0,
    "start_time": "2023-07-25T09:55:13.912Z"
   },
   {
    "duration": 114,
    "start_time": "2023-07-25T09:59:53.243Z"
   },
   {
    "duration": 579,
    "start_time": "2023-07-25T11:08:51.298Z"
   },
   {
    "duration": 4,
    "start_time": "2023-07-25T11:08:51.879Z"
   },
   {
    "duration": 19431,
    "start_time": "2023-07-25T11:08:51.884Z"
   },
   {
    "duration": 6,
    "start_time": "2023-07-25T11:09:11.318Z"
   },
   {
    "duration": 247,
    "start_time": "2023-07-25T11:09:11.326Z"
   },
   {
    "duration": 75,
    "start_time": "2023-07-25T11:09:11.575Z"
   },
   {
    "duration": 190,
    "start_time": "2023-07-25T11:09:11.652Z"
   },
   {
    "duration": 57,
    "start_time": "2023-07-25T11:09:11.843Z"
   },
   {
    "duration": 75,
    "start_time": "2023-07-25T11:09:11.902Z"
   },
   {
    "duration": 80,
    "start_time": "2023-07-25T11:09:11.979Z"
   },
   {
    "duration": 78,
    "start_time": "2023-07-25T11:09:12.061Z"
   },
   {
    "duration": 112,
    "start_time": "2023-07-25T11:09:12.141Z"
   },
   {
    "duration": 63,
    "start_time": "2023-07-25T11:09:12.255Z"
   },
   {
    "duration": 6,
    "start_time": "2023-07-25T11:09:12.329Z"
   },
   {
    "duration": 151,
    "start_time": "2023-07-25T11:09:12.336Z"
   },
   {
    "duration": 76,
    "start_time": "2023-07-25T11:09:12.490Z"
   },
   {
    "duration": 71,
    "start_time": "2023-07-25T11:09:12.569Z"
   },
   {
    "duration": 119,
    "start_time": "2023-07-25T11:16:12.907Z"
   },
   {
    "duration": 127,
    "start_time": "2023-07-25T11:17:24.236Z"
   },
   {
    "duration": 219,
    "start_time": "2023-07-25T11:18:16.198Z"
   },
   {
    "duration": 97,
    "start_time": "2023-07-25T11:19:41.093Z"
   },
   {
    "duration": 231,
    "start_time": "2023-07-25T11:24:02.115Z"
   },
   {
    "duration": 103,
    "start_time": "2023-07-25T11:30:12.668Z"
   },
   {
    "duration": 78,
    "start_time": "2023-07-25T11:37:16.304Z"
   },
   {
    "duration": 95,
    "start_time": "2023-07-25T11:38:17.196Z"
   },
   {
    "duration": 67,
    "start_time": "2023-07-25T11:38:45.506Z"
   },
   {
    "duration": 210,
    "start_time": "2023-07-25T11:39:18.928Z"
   },
   {
    "duration": 66,
    "start_time": "2023-07-25T11:41:34.121Z"
   },
   {
    "duration": 88,
    "start_time": "2023-07-25T11:46:18.536Z"
   },
   {
    "duration": 62,
    "start_time": "2023-07-25T11:48:05.310Z"
   },
   {
    "duration": 167,
    "start_time": "2023-07-25T11:53:41.242Z"
   },
   {
    "duration": 77,
    "start_time": "2023-07-25T11:53:57.695Z"
   },
   {
    "duration": 444,
    "start_time": "2023-07-25T19:22:53.155Z"
   },
   {
    "duration": 3,
    "start_time": "2023-07-25T19:22:53.601Z"
   },
   {
    "duration": 10314,
    "start_time": "2023-07-25T19:22:53.606Z"
   },
   {
    "duration": 3,
    "start_time": "2023-07-25T19:23:03.922Z"
   },
   {
    "duration": 220,
    "start_time": "2023-07-25T19:23:03.927Z"
   },
   {
    "duration": 51,
    "start_time": "2023-07-25T19:23:04.149Z"
   },
   {
    "duration": 129,
    "start_time": "2023-07-25T19:23:04.201Z"
   },
   {
    "duration": 53,
    "start_time": "2023-07-25T19:23:04.332Z"
   },
   {
    "duration": 54,
    "start_time": "2023-07-25T19:23:04.387Z"
   },
   {
    "duration": 54,
    "start_time": "2023-07-25T19:23:04.443Z"
   },
   {
    "duration": 52,
    "start_time": "2023-07-25T19:23:04.498Z"
   },
   {
    "duration": 92,
    "start_time": "2023-07-25T19:23:04.552Z"
   },
   {
    "duration": 55,
    "start_time": "2023-07-25T19:23:04.646Z"
   },
   {
    "duration": 2,
    "start_time": "2023-07-25T19:23:04.704Z"
   },
   {
    "duration": 72,
    "start_time": "2023-07-25T19:23:04.708Z"
   },
   {
    "duration": 65,
    "start_time": "2023-07-25T19:23:04.781Z"
   },
   {
    "duration": 165,
    "start_time": "2023-07-25T19:23:04.849Z"
   },
   {
    "duration": 60,
    "start_time": "2023-07-25T19:26:44.163Z"
   },
   {
    "duration": 126,
    "start_time": "2023-07-25T19:26:50.965Z"
   },
   {
    "duration": 136,
    "start_time": "2023-07-25T19:27:55.558Z"
   },
   {
    "duration": 56,
    "start_time": "2023-07-25T19:28:20.711Z"
   },
   {
    "duration": 57,
    "start_time": "2023-07-25T19:28:29.016Z"
   },
   {
    "duration": 70,
    "start_time": "2023-07-25T19:31:16.752Z"
   },
   {
    "duration": 61,
    "start_time": "2023-07-25T19:31:30.452Z"
   },
   {
    "duration": 60,
    "start_time": "2023-07-25T19:33:16.445Z"
   },
   {
    "duration": 138,
    "start_time": "2023-07-25T19:33:28.500Z"
   },
   {
    "duration": 134,
    "start_time": "2023-07-25T19:34:06.988Z"
   },
   {
    "duration": 136,
    "start_time": "2023-07-25T19:34:19.804Z"
   },
   {
    "duration": 56,
    "start_time": "2023-07-25T19:35:14.526Z"
   },
   {
    "duration": 59,
    "start_time": "2023-07-25T19:35:51.500Z"
   },
   {
    "duration": 70,
    "start_time": "2023-07-25T19:37:26.358Z"
   },
   {
    "duration": 114,
    "start_time": "2023-07-25T19:38:08.122Z"
   },
   {
    "duration": 70,
    "start_time": "2023-07-25T19:39:41.197Z"
   },
   {
    "duration": 44,
    "start_time": "2023-07-25T19:40:10.724Z"
   },
   {
    "duration": 56,
    "start_time": "2023-07-25T19:40:38.605Z"
   },
   {
    "duration": 54,
    "start_time": "2023-07-25T19:40:55.011Z"
   },
   {
    "duration": 72,
    "start_time": "2023-07-25T19:44:01.101Z"
   },
   {
    "duration": 44,
    "start_time": "2023-07-25T19:44:13.397Z"
   },
   {
    "duration": 55,
    "start_time": "2023-07-25T19:46:54.859Z"
   },
   {
    "duration": 70,
    "start_time": "2023-07-25T19:48:00.206Z"
   },
   {
    "duration": 101,
    "start_time": "2023-07-25T19:48:46.902Z"
   },
   {
    "duration": 52,
    "start_time": "2023-07-25T19:49:17.763Z"
   },
   {
    "duration": 54,
    "start_time": "2023-07-25T19:49:32.401Z"
   },
   {
    "duration": 55,
    "start_time": "2023-07-25T19:49:57.825Z"
   },
   {
    "duration": 55,
    "start_time": "2023-07-25T19:50:13.125Z"
   },
   {
    "duration": 70,
    "start_time": "2023-07-25T19:51:50.610Z"
   },
   {
    "duration": 56,
    "start_time": "2023-07-25T19:52:04.291Z"
   },
   {
    "duration": 57,
    "start_time": "2023-07-25T19:52:08.725Z"
   },
   {
    "duration": 58,
    "start_time": "2023-07-25T19:52:22.649Z"
   },
   {
    "duration": 60,
    "start_time": "2023-07-25T19:53:01.302Z"
   },
   {
    "duration": 55,
    "start_time": "2023-07-25T19:53:20.544Z"
   },
   {
    "duration": 56,
    "start_time": "2023-07-25T19:53:42.557Z"
   },
   {
    "duration": 58,
    "start_time": "2023-07-25T19:53:57.668Z"
   },
   {
    "duration": 55,
    "start_time": "2023-07-25T19:54:10.855Z"
   },
   {
    "duration": 71,
    "start_time": "2023-07-25T19:54:43.198Z"
   },
   {
    "duration": 44,
    "start_time": "2023-07-25T19:54:51.332Z"
   },
   {
    "duration": 72,
    "start_time": "2023-07-25T19:55:03.406Z"
   },
   {
    "duration": 44,
    "start_time": "2023-07-25T19:55:26.618Z"
   },
   {
    "duration": 252,
    "start_time": "2023-07-25T20:01:24.302Z"
   },
   {
    "duration": 56,
    "start_time": "2023-07-25T20:06:11.359Z"
   },
   {
    "duration": 183,
    "start_time": "2023-07-25T20:07:32.048Z"
   },
   {
    "duration": 57,
    "start_time": "2023-07-25T20:08:42.730Z"
   },
   {
    "duration": 57,
    "start_time": "2023-07-25T20:08:48.523Z"
   },
   {
    "duration": 57,
    "start_time": "2023-07-25T20:11:18.058Z"
   },
   {
    "duration": 58,
    "start_time": "2023-07-25T20:12:09.834Z"
   },
   {
    "duration": 137,
    "start_time": "2023-07-25T20:16:15.546Z"
   },
   {
    "duration": 56,
    "start_time": "2023-07-25T20:16:48.502Z"
   },
   {
    "duration": 71,
    "start_time": "2023-07-25T20:17:10.420Z"
   },
   {
    "duration": 61,
    "start_time": "2023-07-25T20:17:21.741Z"
   },
   {
    "duration": 127,
    "start_time": "2023-07-25T20:17:35.119Z"
   },
   {
    "duration": 130,
    "start_time": "2023-07-25T20:22:52.002Z"
   },
   {
    "duration": 57,
    "start_time": "2023-07-25T20:24:24.633Z"
   },
   {
    "duration": 57,
    "start_time": "2023-07-25T20:24:51.426Z"
   },
   {
    "duration": 58,
    "start_time": "2023-07-25T20:25:02.813Z"
   },
   {
    "duration": 56,
    "start_time": "2023-07-25T20:25:26.657Z"
   },
   {
    "duration": 492,
    "start_time": "2023-07-26T15:42:04.025Z"
   },
   {
    "duration": 3,
    "start_time": "2023-07-26T15:42:04.519Z"
   },
   {
    "duration": 14190,
    "start_time": "2023-07-26T15:42:04.525Z"
   },
   {
    "duration": 3,
    "start_time": "2023-07-26T15:42:18.717Z"
   },
   {
    "duration": 203,
    "start_time": "2023-07-26T15:42:18.722Z"
   },
   {
    "duration": 50,
    "start_time": "2023-07-26T15:42:18.926Z"
   },
   {
    "duration": 136,
    "start_time": "2023-07-26T15:42:18.977Z"
   },
   {
    "duration": 51,
    "start_time": "2023-07-26T15:42:19.115Z"
   },
   {
    "duration": 54,
    "start_time": "2023-07-26T15:42:19.168Z"
   },
   {
    "duration": 52,
    "start_time": "2023-07-26T15:42:19.223Z"
   },
   {
    "duration": 51,
    "start_time": "2023-07-26T15:42:19.276Z"
   },
   {
    "duration": 90,
    "start_time": "2023-07-26T15:42:19.328Z"
   },
   {
    "duration": 54,
    "start_time": "2023-07-26T15:42:19.419Z"
   },
   {
    "duration": 55,
    "start_time": "2023-07-26T15:42:19.475Z"
   },
   {
    "duration": 56,
    "start_time": "2023-07-26T15:42:19.531Z"
   },
   {
    "duration": 527,
    "start_time": "2023-07-27T06:26:50.778Z"
   },
   {
    "duration": 2,
    "start_time": "2023-07-27T06:26:51.308Z"
   },
   {
    "duration": 18827,
    "start_time": "2023-07-27T06:26:51.312Z"
   },
   {
    "duration": 2,
    "start_time": "2023-07-27T06:27:10.142Z"
   },
   {
    "duration": 194,
    "start_time": "2023-07-27T06:27:10.146Z"
   },
   {
    "duration": 51,
    "start_time": "2023-07-27T06:27:10.342Z"
   },
   {
    "duration": 135,
    "start_time": "2023-07-27T06:27:10.395Z"
   },
   {
    "duration": 54,
    "start_time": "2023-07-27T06:27:10.532Z"
   },
   {
    "duration": 53,
    "start_time": "2023-07-27T06:27:10.588Z"
   },
   {
    "duration": 52,
    "start_time": "2023-07-27T06:27:10.644Z"
   },
   {
    "duration": 51,
    "start_time": "2023-07-27T06:27:10.698Z"
   },
   {
    "duration": 89,
    "start_time": "2023-07-27T06:27:10.751Z"
   },
   {
    "duration": 52,
    "start_time": "2023-07-27T06:27:10.842Z"
   },
   {
    "duration": 58,
    "start_time": "2023-07-27T06:27:10.896Z"
   },
   {
    "duration": 55,
    "start_time": "2023-07-27T06:27:10.956Z"
   },
   {
    "duration": 506,
    "start_time": "2023-07-27T13:57:56.005Z"
   },
   {
    "duration": 3,
    "start_time": "2023-07-27T13:57:56.513Z"
   },
   {
    "duration": 12505,
    "start_time": "2023-07-27T13:57:56.517Z"
   },
   {
    "duration": 3,
    "start_time": "2023-07-27T13:58:09.024Z"
   },
   {
    "duration": 66,
    "start_time": "2023-07-27T13:58:09.029Z"
   },
   {
    "duration": 18,
    "start_time": "2023-07-27T13:58:09.097Z"
   },
   {
    "duration": 45,
    "start_time": "2023-07-27T13:58:09.117Z"
   },
   {
    "duration": 11,
    "start_time": "2023-07-27T13:58:09.164Z"
   },
   {
    "duration": 11,
    "start_time": "2023-07-27T13:58:09.177Z"
   },
   {
    "duration": 22,
    "start_time": "2023-07-27T13:58:09.191Z"
   },
   {
    "duration": 10,
    "start_time": "2023-07-27T13:58:09.215Z"
   },
   {
    "duration": 32,
    "start_time": "2023-07-27T13:58:09.227Z"
   },
   {
    "duration": 18,
    "start_time": "2023-07-27T13:58:09.261Z"
   },
   {
    "duration": 15,
    "start_time": "2023-07-27T13:58:09.280Z"
   },
   {
    "duration": 15,
    "start_time": "2023-07-27T13:58:09.296Z"
   }
  ],
  "kernelspec": {
   "display_name": "Python 3 (ipykernel)",
   "language": "python",
   "name": "python3"
  },
  "language_info": {
   "codemirror_mode": {
    "name": "ipython",
    "version": 3
   },
   "file_extension": ".py",
   "mimetype": "text/x-python",
   "name": "python",
   "nbconvert_exporter": "python",
   "pygments_lexer": "ipython3",
   "version": "3.9.5"
  },
  "toc": {
   "base_numbering": 1,
   "nav_menu": {},
   "number_sections": true,
   "sideBar": true,
   "skip_h1_title": true,
   "title_cell": "Table of Contents",
   "title_sidebar": "Contents",
   "toc_cell": false,
   "toc_position": {},
   "toc_section_display": true,
   "toc_window_display": false
  }
 },
 "nbformat": 4,
 "nbformat_minor": 5
}
