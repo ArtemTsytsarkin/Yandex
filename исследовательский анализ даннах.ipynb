{
 "cells": [
  {
   "cell_type": "markdown",
   "metadata": {},
   "source": [
    "<div style=\"border:solid Chocolate 2px; padding: 40px\">\n",
    "\n",
    "<b>Привет!👋</b>\n",
    "\n",
    "Меня зовут Огурлиев Анзор, я буду ревьюером твоего проекта. Сразу хочу предложить тебе общаться на \"ты\", если тебе это неудобно, скажи мне об этом. Нам предстоит пройти с тобой через тернистый и от того интересный путь анализа данных! Можешь не переживать, я всегда помогу тебе, если у тебя возникнут вопросы)\n",
    "\n",
    "По ходу твоей работы я буду оставлять свои комментарии, по выполненным тобой шагам. Попрошу тебя не удалять их, так мне будет проще отслеживать твой прогресс в случае повторной проверки.\n",
    "\n",
    "Очень важно вести диалог и обсуждать те пункты, которые у тебя могли не получиться, поэтому, ты можешь оставлять свои комментарии, и мы обязательно во всем разберемся! Самое главное - выделяй свои комментарии удобным для тебя способом (цвет, рамка), но так, чтобы они отчетлитво отличались от моих комментариев. Так мы ни в чем не запутаемся)\n",
    "\n",
    "Свои комментарии я буду выделять так: <font color='green'>зеленый</font>, <font color='gold'>желтый</font> и <font color='red'>красный</font> цвет, например:\n",
    "\n",
    "<br/>\n",
    "\n",
    "<div class=\"alert alert-success\">\n",
    "<h2> Комментарий ревьюера V1<a class=\"tocSkip\"> </h2>\n",
    "\n",
    "<b>Все отлично!👍:</b> Этот комментарий я буду оставлять, если твое решение оптимально для данного шага.\n",
    "</div>\n",
    "\n",
    "<br/>\n",
    "\n",
    "<div class=\"alert alert-warning\">\n",
    "    <h2> Комментарий ревьюера V1<a class=\"tocSkip\"> </h2>\n",
    "\n",
    "<b>Некоторые замечания и рекомендации💡:</b> Это не означает, что ты совершил ошибку. Такими комментариями я буду отмечать места, где ты справился с задачей, но её можно решить ещё лучше. Также в таких комментариях я буду оставлять для тебя другие советы.\n",
    "</div>\n",
    "\n",
    "\n",
    "<br/>\n",
    "<div class=\"alert alert-block alert-danger\">\n",
    "<h2> Комментарий ревьюера V1<a class=\"tocSkip\"></h2>\n",
    "\n",
    "\n",
    "<b>На доработку🤔:</b>\n",
    "Если решение, которое ты применил на определенном шаге, требует значительных изменений, то я буду оставлять такой комментарий. Тебе нужно будет подумать еще раз как правильным образом решить данный этап. Если ревью содержит такие комментарии, то я не смогу принять проект с первого раза.\n",
    "</div>\n",
    "\n",
    "P.S. В оглавлении комментария ты увидишь `V1` (`V1`, `V2`, `V3`) - это версия моего комментария, которая понадобится нам с тобой, чтобы не запутаться, если потребуется оставить тебе комментарии после первой проверки."
   ]
  },
  {
   "cell_type": "markdown",
   "metadata": {},
   "source": [
    "<div class=\"alert alert-block alert-danger\">\n",
    "<h2> Комментарий ревьюера V2<a class=\"tocSkip\"></h2>\n",
    "\n",
    "\n",
    "<b>На доработку🤔:</b>\n",
    "На каком то этапе твой код не исполняется. Перед каждой отправкой проекта на проверку перезапускай его и проверяй на корректность работы. Для этого нужно нажать `Kernel` -> `Restart & Run All`. Это нужно для того, чтобы ревьюер проверил работает ли твой проект, все ли сделано верно, возможно, он захочет оставить для тебя примеры. Важно научиться проверять проект перед отправкой сейчас, потому что в дальнейшем проекты будут еще объемнее, будет обидно потратить время и отправить нерабочий проект.\n",
    "\n",
    "Внеси изменения в код, проверь проект перед отправкой обязательно, и присылай мне. Я постараюсь проверить его как можно скорее.\n",
    "</div>"
   ]
  },
  {
   "cell_type": "markdown",
   "metadata": {},
   "source": [
    "# Исследование объявлений о продаже квартир\n",
    "\n",
    "В вашем распоряжении данные сервиса Яндекс.Недвижимость — архив объявлений о продаже квартир в Санкт-Петербурге и соседних населённых пунктов за несколько лет. Нужно научиться определять рыночную стоимость объектов недвижимости. Ваша задача — установить параметры. Это позволит построить автоматизированную систему: она отследит аномалии и мошенническую деятельность. \n",
    "\n",
    "По каждой квартире на продажу доступны два вида данных. Первые вписаны пользователем, вторые — получены автоматически на основе картографических данных. Например, расстояние до центра, аэропорта, ближайшего парка и водоёма. "
   ]
  },
  {
   "cell_type": "markdown",
   "metadata": {},
   "source": [
    "<div class=\"alert alert-success\">\n",
    "<h2> Комментарий ревьюера V1<a class=\"tocSkip\"> </h2>\n",
    "\n",
    "<b>Все отлично!👍:</b> Молодец, что начинаешь проект с описания."
   ]
  },
  {
   "cell_type": "markdown",
   "metadata": {},
   "source": [
    "### Откройте файл с данными и изучите общую информацию. "
   ]
  },
  {
   "cell_type": "code",
   "execution_count": 1,
   "metadata": {},
   "outputs": [],
   "source": [
    "import pandas as pd\n",
    "import matplotlib as plt\n",
    "import matplotlib.pyplot as plt\n",
    "import seaborn as sns"
   ]
  },
  {
   "cell_type": "code",
   "execution_count": 2,
   "metadata": {},
   "outputs": [],
   "source": [
    "data = pd.read_csv('/datasets/real_estate_data.csv', sep = '\\t')"
   ]
  },
  {
   "cell_type": "code",
   "execution_count": 3,
   "metadata": {},
   "outputs": [
    {
     "name": "stdout",
     "output_type": "stream",
     "text": [
      "   total_images  last_price  total_area first_day_exposition  rooms  \\\n",
      "0            20  13000000.0       108.0  2019-03-07T00:00:00      3   \n",
      "1             7   3350000.0        40.4  2018-12-04T00:00:00      1   \n",
      "2            10   5196000.0        56.0  2015-08-20T00:00:00      2   \n",
      "3             0  64900000.0       159.0  2015-07-24T00:00:00      3   \n",
      "4             2  10000000.0       100.0  2018-06-19T00:00:00      2   \n",
      "\n",
      "   ceiling_height  floors_total  living_area  floor is_apartment  ...  \\\n",
      "0            2.70          16.0         51.0      8          NaN  ...   \n",
      "1             NaN          11.0         18.6      1          NaN  ...   \n",
      "2             NaN           5.0         34.3      4          NaN  ...   \n",
      "3             NaN          14.0          NaN      9          NaN  ...   \n",
      "4            3.03          14.0         32.0     13          NaN  ...   \n",
      "\n",
      "   kitchen_area  balcony    locality_name  airports_nearest  \\\n",
      "0          25.0      NaN  Санкт-Петербург           18863.0   \n",
      "1          11.0      2.0   посёлок Шушары           12817.0   \n",
      "2           8.3      0.0  Санкт-Петербург           21741.0   \n",
      "3           NaN      0.0  Санкт-Петербург           28098.0   \n",
      "4          41.0      NaN  Санкт-Петербург           31856.0   \n",
      "\n",
      "  cityCenters_nearest  parks_around3000  parks_nearest  ponds_around3000  \\\n",
      "0             16028.0               1.0          482.0               2.0   \n",
      "1             18603.0               0.0            NaN               0.0   \n",
      "2             13933.0               1.0           90.0               2.0   \n",
      "3              6800.0               2.0           84.0               3.0   \n",
      "4              8098.0               2.0          112.0               1.0   \n",
      "\n",
      "   ponds_nearest  days_exposition  \n",
      "0          755.0              NaN  \n",
      "1            NaN             81.0  \n",
      "2          574.0            558.0  \n",
      "3          234.0            424.0  \n",
      "4           48.0            121.0  \n",
      "\n",
      "[5 rows x 22 columns]\n"
     ]
    }
   ],
   "source": [
    "print(data.head())"
   ]
  },
  {
   "cell_type": "code",
   "execution_count": 4,
   "metadata": {},
   "outputs": [
    {
     "data": {
      "text/plain": [
       "array([[<AxesSubplot:title={'center':'total_images'}>,\n",
       "        <AxesSubplot:title={'center':'last_price'}>,\n",
       "        <AxesSubplot:title={'center':'total_area'}>,\n",
       "        <AxesSubplot:title={'center':'rooms'}>],\n",
       "       [<AxesSubplot:title={'center':'ceiling_height'}>,\n",
       "        <AxesSubplot:title={'center':'floors_total'}>,\n",
       "        <AxesSubplot:title={'center':'living_area'}>,\n",
       "        <AxesSubplot:title={'center':'floor'}>],\n",
       "       [<AxesSubplot:title={'center':'kitchen_area'}>,\n",
       "        <AxesSubplot:title={'center':'balcony'}>,\n",
       "        <AxesSubplot:title={'center':'airports_nearest'}>,\n",
       "        <AxesSubplot:title={'center':'cityCenters_nearest'}>],\n",
       "       [<AxesSubplot:title={'center':'parks_around3000'}>,\n",
       "        <AxesSubplot:title={'center':'parks_nearest'}>,\n",
       "        <AxesSubplot:title={'center':'ponds_around3000'}>,\n",
       "        <AxesSubplot:title={'center':'ponds_nearest'}>],\n",
       "       [<AxesSubplot:title={'center':'days_exposition'}>, <AxesSubplot:>,\n",
       "        <AxesSubplot:>, <AxesSubplot:>]], dtype=object)"
      ]
     },
     "execution_count": 4,
     "metadata": {},
     "output_type": "execute_result"
    },
    {
     "data": {
      "image/png": "[encoded data removed]",
      "text/plain": [
       "<Figure size 1080x1440 with 20 Axes>"
      ]
     },
     "metadata": {
      "needs_background": "light"
     },
     "output_type": "display_data"
    }
   ],
   "source": [
    "data.hist(figsize=(15,20))"
   ]
  },
  {
   "cell_type": "markdown",
   "metadata": {},
   "source": [
    "В первом пункте импортировал библиотеки и считал нужный файл. посмотрел общую информацию . Вывел гистограмму для всего фрейма."
   ]
  },
  {
   "cell_type": "markdown",
   "metadata": {},
   "source": [
    "<div class=\"alert alert-success\">\n",
    "<h2> Комментарий ревьюера V1<a class=\"tocSkip\"> </h2>\n",
    "\n",
    "<b>Все отлично!👍:</b> Все правильно сделал, можно было написать краткий вывод по данным: количество пропусков, аномальные значения, типы распределений и тд."
   ]
  },
  {
   "cell_type": "markdown",
   "metadata": {},
   "source": [
    "### Предобработка данных"
   ]
  },
  {
   "cell_type": "code",
   "execution_count": 5,
   "metadata": {},
   "outputs": [
    {
     "name": "stdout",
     "output_type": "stream",
     "text": [
      "<class 'pandas.core.frame.DataFrame'>\n",
      "RangeIndex: 23699 entries, 0 to 23698\n",
      "Data columns (total 22 columns):\n",
      " #   Column                Non-Null Count  Dtype  \n",
      "---  ------                --------------  -----  \n",
      " 0   total_images          23699 non-null  int64  \n",
      " 1   last_price            23699 non-null  float64\n",
      " 2   total_area            23699 non-null  float64\n",
      " 3   first_day_exposition  23699 non-null  object \n",
      " 4   rooms                 23699 non-null  int64  \n",
      " 5   ceiling_height        14504 non-null  float64\n",
      " 6   floors_total          23613 non-null  float64\n",
      " 7   living_area           21796 non-null  float64\n",
      " 8   floor                 23699 non-null  int64  \n",
      " 9   is_apartment          2775 non-null   object \n",
      " 10  studio                23699 non-null  bool   \n",
      " 11  open_plan             23699 non-null  bool   \n",
      " 12  kitchen_area          21421 non-null  float64\n",
      " 13  balcony               12180 non-null  float64\n",
      " 14  locality_name         23650 non-null  object \n",
      " 15  airports_nearest      18157 non-null  float64\n",
      " 16  cityCenters_nearest   18180 non-null  float64\n",
      " 17  parks_around3000      18181 non-null  float64\n",
      " 18  parks_nearest         8079 non-null   float64\n",
      " 19  ponds_around3000      18181 non-null  float64\n",
      " 20  ponds_nearest         9110 non-null   float64\n",
      " 21  days_exposition       20518 non-null  float64\n",
      "dtypes: bool(2), float64(14), int64(3), object(3)\n",
      "memory usage: 3.7+ MB\n"
     ]
    }
   ],
   "source": [
    "data.info()"
   ]
  },
  {
   "cell_type": "markdown",
   "metadata": {},
   "source": [
    "обнаружены пропуски в следующих столбцах:\n",
    "- ceiling_height,\n",
    "- living_area,\n",
    "- is_apartment, \n",
    "- kitchen_area,\n",
    "- balcony,\n",
    "-  airports_nearest,\n",
    "- cityCenters_nearest, \n",
    "- parks_around3000, \n",
    "- parks_nearest, \n",
    "- ponds_around3000,\n",
    "- ponds_nearest, \n",
    "- days_exposition "
   ]
  },
  {
   "cell_type": "markdown",
   "metadata": {},
   "source": [
    "Можно предположить, что точно можно будет восстановить данные в таких столбцах как:\n",
    "-   ceiling_height,\n",
    "-   living_area,\n",
    "-   kitchen_area,\n",
    "- airports_nearest,\n",
    "- cityCenters_nearest,\n",
    "- parks_around3000,\n",
    "- parks_nearest,\n",
    "- ponds_around3000,\n",
    "- ponds_nearest"
   ]
  },
  {
   "cell_type": "markdown",
   "metadata": {},
   "source": [
    "для восстановления данных в этих столбцах первоначально необходимо будет избавиться от анамолий и ошибок ввода данных"
   ]
  },
  {
   "cell_type": "code",
   "execution_count": 6,
   "metadata": {},
   "outputs": [
    {
     "data": {
      "text/html": [
       "<div>\n",
       "<style scoped>\n",
       "    .dataframe tbody tr th:only-of-type {\n",
       "        vertical-align: middle;\n",
       "    }\n",
       "\n",
       "    .dataframe tbody tr th {\n",
       "        vertical-align: top;\n",
       "    }\n",
       "\n",
       "    .dataframe thead th {\n",
       "        text-align: right;\n",
       "    }\n",
       "</style>\n",
       "<table border=\"1\" class=\"dataframe\">\n",
       "  <thead>\n",
       "    <tr style=\"text-align: right;\">\n",
       "      <th></th>\n",
       "      <th>total_images</th>\n",
       "      <th>last_price</th>\n",
       "      <th>total_area</th>\n",
       "      <th>rooms</th>\n",
       "      <th>ceiling_height</th>\n",
       "      <th>floors_total</th>\n",
       "      <th>living_area</th>\n",
       "      <th>floor</th>\n",
       "      <th>kitchen_area</th>\n",
       "      <th>balcony</th>\n",
       "      <th>airports_nearest</th>\n",
       "      <th>cityCenters_nearest</th>\n",
       "      <th>parks_around3000</th>\n",
       "      <th>parks_nearest</th>\n",
       "      <th>ponds_around3000</th>\n",
       "      <th>ponds_nearest</th>\n",
       "      <th>days_exposition</th>\n",
       "    </tr>\n",
       "  </thead>\n",
       "  <tbody>\n",
       "    <tr>\n",
       "      <th>count</th>\n",
       "      <td>23699.000000</td>\n",
       "      <td>2.369900e+04</td>\n",
       "      <td>23699.000000</td>\n",
       "      <td>23699.000000</td>\n",
       "      <td>14504.000000</td>\n",
       "      <td>23613.000000</td>\n",
       "      <td>21796.000000</td>\n",
       "      <td>23699.000000</td>\n",
       "      <td>21421.000000</td>\n",
       "      <td>12180.000000</td>\n",
       "      <td>18157.000000</td>\n",
       "      <td>18180.000000</td>\n",
       "      <td>18181.000000</td>\n",
       "      <td>8079.000000</td>\n",
       "      <td>18181.000000</td>\n",
       "      <td>9110.000000</td>\n",
       "      <td>20518.000000</td>\n",
       "    </tr>\n",
       "    <tr>\n",
       "      <th>mean</th>\n",
       "      <td>9.858475</td>\n",
       "      <td>6.541549e+06</td>\n",
       "      <td>60.348651</td>\n",
       "      <td>2.070636</td>\n",
       "      <td>2.771499</td>\n",
       "      <td>10.673824</td>\n",
       "      <td>34.457852</td>\n",
       "      <td>5.892358</td>\n",
       "      <td>10.569807</td>\n",
       "      <td>1.150082</td>\n",
       "      <td>28793.672193</td>\n",
       "      <td>14191.277833</td>\n",
       "      <td>0.611408</td>\n",
       "      <td>490.804555</td>\n",
       "      <td>0.770255</td>\n",
       "      <td>517.980900</td>\n",
       "      <td>180.888634</td>\n",
       "    </tr>\n",
       "    <tr>\n",
       "      <th>std</th>\n",
       "      <td>5.682529</td>\n",
       "      <td>1.088701e+07</td>\n",
       "      <td>35.654083</td>\n",
       "      <td>1.078405</td>\n",
       "      <td>1.261056</td>\n",
       "      <td>6.597173</td>\n",
       "      <td>22.030445</td>\n",
       "      <td>4.885249</td>\n",
       "      <td>5.905438</td>\n",
       "      <td>1.071300</td>\n",
       "      <td>12630.880622</td>\n",
       "      <td>8608.386210</td>\n",
       "      <td>0.802074</td>\n",
       "      <td>342.317995</td>\n",
       "      <td>0.938346</td>\n",
       "      <td>277.720643</td>\n",
       "      <td>219.727988</td>\n",
       "    </tr>\n",
       "    <tr>\n",
       "      <th>min</th>\n",
       "      <td>0.000000</td>\n",
       "      <td>1.219000e+04</td>\n",
       "      <td>12.000000</td>\n",
       "      <td>0.000000</td>\n",
       "      <td>1.000000</td>\n",
       "      <td>1.000000</td>\n",
       "      <td>2.000000</td>\n",
       "      <td>1.000000</td>\n",
       "      <td>1.300000</td>\n",
       "      <td>0.000000</td>\n",
       "      <td>0.000000</td>\n",
       "      <td>181.000000</td>\n",
       "      <td>0.000000</td>\n",
       "      <td>1.000000</td>\n",
       "      <td>0.000000</td>\n",
       "      <td>13.000000</td>\n",
       "      <td>1.000000</td>\n",
       "    </tr>\n",
       "    <tr>\n",
       "      <th>25%</th>\n",
       "      <td>6.000000</td>\n",
       "      <td>3.400000e+06</td>\n",
       "      <td>40.000000</td>\n",
       "      <td>1.000000</td>\n",
       "      <td>2.520000</td>\n",
       "      <td>5.000000</td>\n",
       "      <td>18.600000</td>\n",
       "      <td>2.000000</td>\n",
       "      <td>7.000000</td>\n",
       "      <td>0.000000</td>\n",
       "      <td>18585.000000</td>\n",
       "      <td>9238.000000</td>\n",
       "      <td>0.000000</td>\n",
       "      <td>288.000000</td>\n",
       "      <td>0.000000</td>\n",
       "      <td>294.000000</td>\n",
       "      <td>45.000000</td>\n",
       "    </tr>\n",
       "    <tr>\n",
       "      <th>50%</th>\n",
       "      <td>9.000000</td>\n",
       "      <td>4.650000e+06</td>\n",
       "      <td>52.000000</td>\n",
       "      <td>2.000000</td>\n",
       "      <td>2.650000</td>\n",
       "      <td>9.000000</td>\n",
       "      <td>30.000000</td>\n",
       "      <td>4.000000</td>\n",
       "      <td>9.100000</td>\n",
       "      <td>1.000000</td>\n",
       "      <td>26726.000000</td>\n",
       "      <td>13098.500000</td>\n",
       "      <td>0.000000</td>\n",
       "      <td>455.000000</td>\n",
       "      <td>1.000000</td>\n",
       "      <td>502.000000</td>\n",
       "      <td>95.000000</td>\n",
       "    </tr>\n",
       "    <tr>\n",
       "      <th>75%</th>\n",
       "      <td>14.000000</td>\n",
       "      <td>6.800000e+06</td>\n",
       "      <td>69.900000</td>\n",
       "      <td>3.000000</td>\n",
       "      <td>2.800000</td>\n",
       "      <td>16.000000</td>\n",
       "      <td>42.300000</td>\n",
       "      <td>8.000000</td>\n",
       "      <td>12.000000</td>\n",
       "      <td>2.000000</td>\n",
       "      <td>37273.000000</td>\n",
       "      <td>16293.000000</td>\n",
       "      <td>1.000000</td>\n",
       "      <td>612.000000</td>\n",
       "      <td>1.000000</td>\n",
       "      <td>729.000000</td>\n",
       "      <td>232.000000</td>\n",
       "    </tr>\n",
       "    <tr>\n",
       "      <th>max</th>\n",
       "      <td>50.000000</td>\n",
       "      <td>7.630000e+08</td>\n",
       "      <td>900.000000</td>\n",
       "      <td>19.000000</td>\n",
       "      <td>100.000000</td>\n",
       "      <td>60.000000</td>\n",
       "      <td>409.700000</td>\n",
       "      <td>33.000000</td>\n",
       "      <td>112.000000</td>\n",
       "      <td>5.000000</td>\n",
       "      <td>84869.000000</td>\n",
       "      <td>65968.000000</td>\n",
       "      <td>3.000000</td>\n",
       "      <td>3190.000000</td>\n",
       "      <td>3.000000</td>\n",
       "      <td>1344.000000</td>\n",
       "      <td>1580.000000</td>\n",
       "    </tr>\n",
       "  </tbody>\n",
       "</table>\n",
       "</div>"
      ],
      "text/plain": [
       "       total_images    last_price    total_area         rooms  ceiling_height  \\\n",
       "count  23699.000000  2.369900e+04  23699.000000  23699.000000    14504.000000   \n",
       "mean       9.858475  6.541549e+06     60.348651      2.070636        2.771499   \n",
       "std        5.682529  1.088701e+07     35.654083      1.078405        1.261056   \n",
       "min        0.000000  1.219000e+04     12.000000      0.000000        1.000000   \n",
       "25%        6.000000  3.400000e+06     40.000000      1.000000        2.520000   \n",
       "50%        9.000000  4.650000e+06     52.000000      2.000000        2.650000   \n",
       "75%       14.000000  6.800000e+06     69.900000      3.000000        2.800000   \n",
       "max       50.000000  7.630000e+08    900.000000     19.000000      100.000000   \n",
       "\n",
       "       floors_total   living_area         floor  kitchen_area       balcony  \\\n",
       "count  23613.000000  21796.000000  23699.000000  21421.000000  12180.000000   \n",
       "mean      10.673824     34.457852      5.892358     10.569807      1.150082   \n",
       "std        6.597173     22.030445      4.885249      5.905438      1.071300   \n",
       "min        1.000000      2.000000      1.000000      1.300000      0.000000   \n",
       "25%        5.000000     18.600000      2.000000      7.000000      0.000000   \n",
       "50%        9.000000     30.000000      4.000000      9.100000      1.000000   \n",
       "75%       16.000000     42.300000      8.000000     12.000000      2.000000   \n",
       "max       60.000000    409.700000     33.000000    112.000000      5.000000   \n",
       "\n",
       "       airports_nearest  cityCenters_nearest  parks_around3000  parks_nearest  \\\n",
       "count      18157.000000         18180.000000      18181.000000    8079.000000   \n",
       "mean       28793.672193         14191.277833          0.611408     490.804555   \n",
       "std        12630.880622          8608.386210          0.802074     342.317995   \n",
       "min            0.000000           181.000000          0.000000       1.000000   \n",
       "25%        18585.000000          9238.000000          0.000000     288.000000   \n",
       "50%        26726.000000         13098.500000          0.000000     455.000000   \n",
       "75%        37273.000000         16293.000000          1.000000     612.000000   \n",
       "max        84869.000000         65968.000000          3.000000    3190.000000   \n",
       "\n",
       "       ponds_around3000  ponds_nearest  days_exposition  \n",
       "count      18181.000000    9110.000000     20518.000000  \n",
       "mean           0.770255     517.980900       180.888634  \n",
       "std            0.938346     277.720643       219.727988  \n",
       "min            0.000000      13.000000         1.000000  \n",
       "25%            0.000000     294.000000        45.000000  \n",
       "50%            1.000000     502.000000        95.000000  \n",
       "75%            1.000000     729.000000       232.000000  \n",
       "max            3.000000    1344.000000      1580.000000  "
      ]
     },
     "execution_count": 6,
     "metadata": {},
     "output_type": "execute_result"
    }
   ],
   "source": [
    "data.describe()"
   ]
  },
  {
   "cell_type": "markdown",
   "metadata": {},
   "source": [
    "с помощью метода describe было обнаружено наличие аномалий в каждом столбце данных, либо наличие свер малых значений, как 0 комнат, либо наличие сверх-больших значений, как площадь в 900 квадратных метров.\n",
    "\n",
    "Для исправления и обнаружения аномалий необходимо убедиться, что таблица имеет правильный тип данных"
   ]
  },
  {
   "cell_type": "code",
   "execution_count": 7,
   "metadata": {},
   "outputs": [
    {
     "data": {
      "text/plain": [
       "total_images              int64\n",
       "last_price              float64\n",
       "total_area              float64\n",
       "first_day_exposition     object\n",
       "rooms                     int64\n",
       "ceiling_height          float64\n",
       "floors_total            float64\n",
       "living_area             float64\n",
       "floor                     int64\n",
       "is_apartment             object\n",
       "studio                     bool\n",
       "open_plan                  bool\n",
       "kitchen_area            float64\n",
       "balcony                 float64\n",
       "locality_name            object\n",
       "airports_nearest        float64\n",
       "cityCenters_nearest     float64\n",
       "parks_around3000        float64\n",
       "parks_nearest           float64\n",
       "ponds_around3000        float64\n",
       "ponds_nearest           float64\n",
       "days_exposition         float64\n",
       "dtype: object"
      ]
     },
     "execution_count": 7,
     "metadata": {},
     "output_type": "execute_result"
    }
   ],
   "source": [
    "data.dtypes"
   ]
  },
  {
   "cell_type": "markdown",
   "metadata": {},
   "source": [
    "было обнаружены следующие ошибки в типах данных:\n",
    "-   first_day_exposition     object необходимо сменить на datetime\n",
    "-   balcony                 float64 сменить на int64\n",
    "-   locality_name            object сменить на str\n",
    "-   airports_nearest        float64 сменить на int64\n",
    "-  cityCenters_nearest     float64 сменить на int64\n",
    "-  parks_around3000        float64 сменить на int64\n",
    "-  parks_nearest           float64 сменить на int64\n",
    "-  ponds_around3000        float64 сменить на int64\n",
    "-  ponds_nearest           float64 сменить на int64\n",
    "-  days_exposition         float64 сменить на int64"
   ]
  },
  {
   "cell_type": "code",
   "execution_count": 8,
   "metadata": {},
   "outputs": [],
   "source": [
    "# меняем значения типа данных\n",
    "data['first_day_exposition'] = pd.to_datetime(data['first_day_exposition'], format='%Y-%m-%d')\n",
    "#data['balcony'].astype('int64')"
   ]
  },
  {
   "cell_type": "markdown",
   "metadata": {},
   "source": [
    "на данных момент из-за пропусков мы не можем поменять тип данных в некоторых столбцах, оставим измененным только те,что можем"
   ]
  },
  {
   "cell_type": "code",
   "execution_count": 9,
   "metadata": {},
   "outputs": [
    {
     "data": {
      "text/plain": [
       "<AxesSubplot:>"
      ]
     },
     "execution_count": 9,
     "metadata": {},
     "output_type": "execute_result"
    },
    {
     "data": {
      "image/png": "[encoded data removed]",
      "text/plain": [
       "<Figure size 432x288 with 1 Axes>"
      ]
     },
     "metadata": {
      "needs_background": "light"
     },
     "output_type": "display_data"
    }
   ],
   "source": [
    "# изучим детальнее про высоту потолков\n",
    "data.boxplot(column='ceiling_height')\n",
    "# Видны большое количество выбросов"
   ]
  },
  {
   "cell_type": "code",
   "execution_count": 10,
   "metadata": {},
   "outputs": [
    {
     "data": {
      "text/plain": [
       "array([  2.7 ,    nan,   3.03,   2.5 ,   2.67,   2.56,   3.05,   2.75,\n",
       "         2.6 ,   2.9 ,   2.8 ,   2.55,   3.  ,   2.65,   3.2 ,   2.61,\n",
       "         3.25,   3.45,   2.77,   2.85,   2.64,   2.57,   4.15,   3.5 ,\n",
       "         3.3 ,   2.71,   4.  ,   2.47,   2.73,   2.84,   3.1 ,   2.34,\n",
       "         3.4 ,   3.06,   2.72,   2.54,   2.51,   2.78,   2.76,  25.  ,\n",
       "         2.58,   3.7 ,   2.52,   5.2 ,   2.87,   2.66,   2.59,   2.  ,\n",
       "         2.45,   3.6 ,   2.92,   3.11,   3.13,   3.8 ,   3.15,   3.55,\n",
       "         3.16,   3.62,   3.12,   2.53,   2.74,   2.96,   2.46,   5.3 ,\n",
       "         5.  ,   2.79,   2.95,   4.06,   2.94,   3.82,   3.54,   3.53,\n",
       "         2.83,   4.7 ,   2.4 ,   3.38,   3.01,   5.6 ,   3.65,   3.9 ,\n",
       "         3.18,   3.35,   2.3 ,   3.57,   2.48,   2.62,   2.82,   3.98,\n",
       "         2.63,   3.83,   3.52,   3.95,   3.75,   2.88,   3.67,   3.87,\n",
       "         3.66,   3.85,   3.86,   4.19,   3.24,   4.8 ,   4.5 ,   4.2 ,\n",
       "         3.36,  32.  ,   3.08,   3.68,   3.07,   3.37,   3.09,   8.  ,\n",
       "         3.26,   3.34,   2.81,   3.44,   2.97,   3.14,   4.37,   2.68,\n",
       "         3.22,   3.27,  27.  ,   4.1 ,   2.93,   3.46,  24.  ,   3.47,\n",
       "         3.33,   3.63,   3.32,  26.  ,   1.2 ,   8.3 ,   2.98,   2.86,\n",
       "         3.17,   4.4 ,   3.28,   3.04,   4.45,   5.5 ,   3.84,   3.23,\n",
       "         3.02,   3.21,   3.43,   3.78,   4.3 ,   3.39,   2.69,   3.31,\n",
       "         4.65,   3.56,   2.2 ,   3.51,   3.93,   3.42,   2.99,   3.49,\n",
       "        14.  ,   4.14,   2.91,   3.88,   1.75,   4.25,   3.29,  20.  ,\n",
       "         2.25,   3.76,   3.69,   6.  ,  22.6 ,   2.89,   3.58,   5.8 ,\n",
       "        27.5 ,   2.49,   4.9 ,   3.48,  10.3 ,   1.  , 100.  ,   3.59])"
      ]
     },
     "execution_count": 10,
     "metadata": {},
     "output_type": "execute_result"
    }
   ],
   "source": [
    "#исправим ошибки ввода\n",
    "data['ceiling_height'].unique()"
   ]
  },
  {
   "cell_type": "code",
   "execution_count": 11,
   "metadata": {},
   "outputs": [],
   "source": [
    "data.query('20 < ceiling_height < 40')['ceiling_height']\n",
    "data['ceiling_height'] = data['ceiling_height'].apply(lambda x: x/10 if 18<x<40 else x)\n",
    "#заменили значения в высоте потолков ,принимая зачения от 18 до 40 метров как ошибку ввода, и поделили на 10 и снова построим диагамму размаха\n"
   ]
  },
  {
   "cell_type": "code",
   "execution_count": 12,
   "metadata": {},
   "outputs": [],
   "source": [
    "# необходимо удалить значения, которые являются ошибкой ,\n",
    "# непригодной к восстановлению, это значения потолка до 2 метров, и выше 5 метров\n",
    "to_dell = data.index[(data['ceiling_height'] < 2) | (data['ceiling_height'] > 5)].tolist ()"
   ]
  },
  {
   "cell_type": "code",
   "execution_count": 13,
   "metadata": {},
   "outputs": [],
   "source": [
    "data = data.drop(to_dell)\n"
   ]
  },
  {
   "cell_type": "markdown",
   "metadata": {},
   "source": [
    "<div class=\"alert alert-success\">\n",
    "<h2> Комментарий ревьюера V1<a class=\"tocSkip\"> </h2>\n",
    "\n",
    "<b>Все отлично!👍:</b> Правильно обработал аномальные значения высоты потолков."
   ]
  },
  {
   "cell_type": "code",
   "execution_count": 14,
   "metadata": {},
   "outputs": [
    {
     "data": {
      "text/plain": [
       "<function matplotlib.pyplot.show(close=None, block=None)>"
      ]
     },
     "execution_count": 14,
     "metadata": {},
     "output_type": "execute_result"
    },
    {
     "data": {
      "image/png": "[encoded data removed]",
      "text/plain": [
       "<Figure size 432x288 with 1 Axes>"
      ]
     },
     "metadata": {
      "needs_background": "light"
     },
     "output_type": "display_data"
    }
   ],
   "source": [
    "data.boxplot(column='ceiling_height')\n",
    "plt.show"
   ]
  },
  {
   "cell_type": "markdown",
   "metadata": {},
   "source": [
    "удалили те значения,которые не могут существовать в природе. и построили график \"ящик с усами\", который показал наличие аномалий.\n"
   ]
  },
  {
   "cell_type": "code",
   "execution_count": 15,
   "metadata": {},
   "outputs": [
    {
     "data": {
      "text/plain": [
       "<AxesSubplot:>"
      ]
     },
     "execution_count": 15,
     "metadata": {},
     "output_type": "execute_result"
    },
    {
     "data": {
      "image/png": "[encoded data removed]",
      "text/plain": [
       "<Figure size 432x288 with 1 Axes>"
      ]
     },
     "metadata": {
      "needs_background": "light"
     },
     "output_type": "display_data"
    }
   ],
   "source": [
    "#изучим детальнее total_area\n",
    "data.boxplot(column='total_area')"
   ]
  },
  {
   "cell_type": "code",
   "execution_count": 16,
   "metadata": {},
   "outputs": [
    {
     "data": {
      "text/html": [
       "<div>\n",
       "<style scoped>\n",
       "    .dataframe tbody tr th:only-of-type {\n",
       "        vertical-align: middle;\n",
       "    }\n",
       "\n",
       "    .dataframe tbody tr th {\n",
       "        vertical-align: top;\n",
       "    }\n",
       "\n",
       "    .dataframe thead th {\n",
       "        text-align: right;\n",
       "    }\n",
       "</style>\n",
       "<table border=\"1\" class=\"dataframe\">\n",
       "  <thead>\n",
       "    <tr style=\"text-align: right;\">\n",
       "      <th></th>\n",
       "      <th>total_area</th>\n",
       "    </tr>\n",
       "    <tr>\n",
       "      <th>rooms</th>\n",
       "      <th></th>\n",
       "    </tr>\n",
       "  </thead>\n",
       "  <tbody>\n",
       "    <tr>\n",
       "      <th>0</th>\n",
       "      <td>15.5</td>\n",
       "    </tr>\n",
       "    <tr>\n",
       "      <th>1</th>\n",
       "      <td>12.0</td>\n",
       "    </tr>\n",
       "    <tr>\n",
       "      <th>2</th>\n",
       "      <td>20.0</td>\n",
       "    </tr>\n",
       "    <tr>\n",
       "      <th>3</th>\n",
       "      <td>40.1</td>\n",
       "    </tr>\n",
       "    <tr>\n",
       "      <th>4</th>\n",
       "      <td>42.0</td>\n",
       "    </tr>\n",
       "    <tr>\n",
       "      <th>5</th>\n",
       "      <td>40.0</td>\n",
       "    </tr>\n",
       "    <tr>\n",
       "      <th>6</th>\n",
       "      <td>87.0</td>\n",
       "    </tr>\n",
       "    <tr>\n",
       "      <th>7</th>\n",
       "      <td>100.6</td>\n",
       "    </tr>\n",
       "    <tr>\n",
       "      <th>8</th>\n",
       "      <td>150.0</td>\n",
       "    </tr>\n",
       "    <tr>\n",
       "      <th>9</th>\n",
       "      <td>235.0</td>\n",
       "    </tr>\n",
       "    <tr>\n",
       "      <th>10</th>\n",
       "      <td>216.1</td>\n",
       "    </tr>\n",
       "    <tr>\n",
       "      <th>11</th>\n",
       "      <td>183.7</td>\n",
       "    </tr>\n",
       "    <tr>\n",
       "      <th>12</th>\n",
       "      <td>900.0</td>\n",
       "    </tr>\n",
       "    <tr>\n",
       "      <th>14</th>\n",
       "      <td>245.4</td>\n",
       "    </tr>\n",
       "    <tr>\n",
       "      <th>15</th>\n",
       "      <td>590.0</td>\n",
       "    </tr>\n",
       "    <tr>\n",
       "      <th>16</th>\n",
       "      <td>270.0</td>\n",
       "    </tr>\n",
       "    <tr>\n",
       "      <th>19</th>\n",
       "      <td>374.6</td>\n",
       "    </tr>\n",
       "  </tbody>\n",
       "</table>\n",
       "</div>"
      ],
      "text/plain": [
       "       total_area\n",
       "rooms            \n",
       "0            15.5\n",
       "1            12.0\n",
       "2            20.0\n",
       "3            40.1\n",
       "4            42.0\n",
       "5            40.0\n",
       "6            87.0\n",
       "7           100.6\n",
       "8           150.0\n",
       "9           235.0\n",
       "10          216.1\n",
       "11          183.7\n",
       "12          900.0\n",
       "14          245.4\n",
       "15          590.0\n",
       "16          270.0\n",
       "19          374.6"
      ]
     },
     "execution_count": 16,
     "metadata": {},
     "output_type": "execute_result"
    }
   ],
   "source": [
    "pd.pivot_table(data, values='total_area', index='rooms', aggfunc='min')"
   ]
  },
  {
   "cell_type": "code",
   "execution_count": 17,
   "metadata": {},
   "outputs": [
    {
     "data": {
      "text/plain": [
       "23503"
      ]
     },
     "execution_count": 17,
     "metadata": {},
     "output_type": "execute_result"
    }
   ],
   "source": [
    "#изучив таблицу, и распределеение площади по наличию комнат, мы поняли что с 11 комнатных квартир, нарушается логика ,больше комнат - больше квартир, а так же \n",
    "# удалили квартиры с площадью больше 217 квадратных метров\n",
    "to_dell = data.index[data['total_area'] > 217 ].tolist()\n",
    "data = data.drop(to_dell)\n",
    "data['total_area'].count()"
   ]
  },
  {
   "cell_type": "code",
   "execution_count": 18,
   "metadata": {},
   "outputs": [
    {
     "data": {
      "text/plain": [
       "<AxesSubplot:>"
      ]
     },
     "execution_count": 18,
     "metadata": {},
     "output_type": "execute_result"
    },
    {
     "data": {
      "image/png": "[encoded data removed]",
      "text/plain": [
       "<Figure size 432x288 with 1 Axes>"
      ]
     },
     "metadata": {
      "needs_background": "light"
     },
     "output_type": "display_data"
    }
   ],
   "source": [
    "# рассмотирм kitchen_area\n",
    "data.boxplot(column='kitchen_area')"
   ]
  },
  {
   "cell_type": "code",
   "execution_count": 19,
   "metadata": {},
   "outputs": [],
   "source": [
    "to_dell = data.index[data['kitchen_area'] > 21].tolist ()\n",
    "data = data.drop(to_dell)"
   ]
  },
  {
   "cell_type": "markdown",
   "metadata": {},
   "source": [
    "в остальных значениях не было выявлено сильных отклонений от нормы"
   ]
  },
  {
   "cell_type": "code",
   "execution_count": 20,
   "metadata": {},
   "outputs": [],
   "source": [
    "data['locality_name'] = data['locality_name'].str.replace('ё', 'е')\n",
    "data['locality_name'] = data['locality_name'].str.replace('Ё', 'Е')\n",
    "#data['locality_name'].unique()"
   ]
  },
  {
   "cell_type": "markdown",
   "metadata": {},
   "source": [
    "уберем все дубликаты в названиях, и приведем все к нижнему регистру"
   ]
  },
  {
   "cell_type": "code",
   "execution_count": 21,
   "metadata": {},
   "outputs": [
    {
     "data": {
      "text/plain": [
       "array(['поселок шушары', 'санкт-петербург', 'поселок янино-1',\n",
       "       'поселок парголово', 'поселок мурино', 'ломоносов', 'сертолово',\n",
       "       'петергоф', 'пушкин', 'деревня кудрово', 'коммунар', 'колпино',\n",
       "       'поселок красный бор', 'гатчина', 'деревня федоровское', 'выборг',\n",
       "       'кронштадт', 'кировск', 'деревня новое девяткино',\n",
       "       'поселок металлострой', 'поселок лебяжье', 'поселок сиверский',\n",
       "       'поселок молодцово', 'поселок кузьмоловский',\n",
       "       'садовое товарищество новая ропша', 'павловск', 'всеволожск',\n",
       "       'волхов', 'кингисепп', 'приозерск', 'сестрорецк',\n",
       "       'деревня куттузи', 'поселок аннино', 'поселок ефимовский',\n",
       "       'поселок плодовое', 'деревня заклинье', 'поселок торковичи',\n",
       "       'поселок первомайское', 'красное село', 'поселок понтонный',\n",
       "       'сясьстрой', 'деревня старая', 'деревня лесколово',\n",
       "       'поселок новый свет', 'сланцы', 'деревня путилово', 'ивангород',\n",
       "       'шлиссельбург', 'никольское', 'зеленогорск', 'сосновый бор',\n",
       "       'деревня оржицы', 'деревня кальтино', 'кудрово',\n",
       "       'поселок романовка', 'поселок бугры', 'поселок рощино', 'кириши',\n",
       "       'луга', 'волосово', 'отрадное', 'деревня павлово',\n",
       "       'поселок оредеж', 'деревня копорье', 'поселок молодежное',\n",
       "       'тихвин', 'поселок победа', 'деревня нурма', 'поселок синявино',\n",
       "       'поселок стрельна', 'бокситогорск', 'поселок александровская',\n",
       "       'деревня лопухинка', 'пикалево', 'поселок терволово',\n",
       "       'поселок советский', 'подпорожье', 'поселок петровское',\n",
       "       'поселок токсово', 'поселок сельцо', 'тосно', 'поселок вырица',\n",
       "       'деревня кипень', 'деревня келози', 'деревня вартемяги',\n",
       "       'поселок тельмана', 'поселок севастьяново',\n",
       "       'поселок большая ижора', nan, 'поселок павлово',\n",
       "       'деревня агалатово', 'поселок новогорелово', 'поселок лесогорский',\n",
       "       'деревня лаголово', 'поселок цвелодубово', 'поселок рахья',\n",
       "       'деревня белогорка', 'поселок заводской', 'поселок новоселье',\n",
       "       'деревня большие колпаны', 'деревня горбунки', 'мурино',\n",
       "       'деревня батово', 'деревня заневка', 'деревня иссад', 'приморск',\n",
       "       'поселок федоровское', 'деревня мистолово', 'новая ладога',\n",
       "       'поселок зимитицы', 'поселок барышево', 'деревня разметелево',\n",
       "       'поселок имени свердлова', 'деревня пеники', 'поселок рябово',\n",
       "       'деревня пудомяги', 'поселок станции корнево', 'деревня низино',\n",
       "       'деревня бегуницы', 'поселок поляны', 'поселок мга',\n",
       "       'поселок елизаветино', 'поселок кузнечное', 'деревня колтуши',\n",
       "       'поселок запорожское', 'деревня гостилицы',\n",
       "       'деревня малое карлино', 'поселок мичуринское',\n",
       "       'поселок имени морозова', 'поселок песочный', 'поселок сосново',\n",
       "       'деревня аро', 'поселок ильичево', 'поселок тайцы',\n",
       "       'деревня малое верево', 'деревня извара', 'поселок станции вещево',\n",
       "       'деревня паша', 'деревня калитино', 'поселок ульяновка',\n",
       "       'деревня чудской бор', 'поселок дубровка', 'деревня мины',\n",
       "       'поселок войсковицы', 'деревня коркино', 'поселок ропша',\n",
       "       'поселок приладожский', 'поселок щеглово', 'поселок гаврилово',\n",
       "       'лодейное поле', 'деревня рабитицы', 'поселок никольский',\n",
       "       'деревня кузьмолово', 'деревня малые колпаны',\n",
       "       'поселок петро-славянка', 'поселок назия', 'поселок углово',\n",
       "       'поселок старая малукса', 'садовое товарищество рахья',\n",
       "       'деревня меньково', 'деревня старые бегуницы', 'поселок саперный',\n",
       "       'поселок семрино', 'поселок глажево', 'поселок кобринское',\n",
       "       'деревня гарболово', 'деревня юкки',\n",
       "       'поселок станции приветнинское', 'деревня мануйлово',\n",
       "       'деревня пчева', 'поселок цвылево', 'поселок мельниково',\n",
       "       'поселок пудость', 'поселок усть-луга', 'светогорск', 'любань',\n",
       "       'поселок селезнево', 'каменногорск', 'деревня кривко',\n",
       "       'поселок глебычево', 'деревня парицы', 'поселок жилпоселок',\n",
       "       'поселок войскорово', 'деревня никольское', 'поселок стеклянный',\n",
       "       'поселок важины', 'поселок мыза-ивановка',\n",
       "       'деревня русско-высоцкое', 'поселок форносово',\n",
       "       'деревня старая ладога', 'поселок житково', 'поселок виллози',\n",
       "       'деревня лампово', 'деревня шпаньково', 'деревня лаврики',\n",
       "       'поселок сумино', 'поселок возрождение', 'деревня старосиверская',\n",
       "       'поселок кикерино', 'деревня старое хинколово',\n",
       "       'поселок пригородный', 'поселок торфяное', 'поселок репино',\n",
       "       'поселок будогощь', 'поселок суходолье', 'поселок красная долина',\n",
       "       'деревня хапо-ое', 'поселок дружная горка', 'поселок лисий нос',\n",
       "       'деревня яльгелево', 'деревня рождествено', 'деревня старополье',\n",
       "       'поселок левашово', 'деревня сяськелево', 'деревня камышовка',\n",
       "       'садовое товарищество лесная поляна', 'поселок жилгородок',\n",
       "       'деревня ялгино', 'поселок новый учхоз', 'поселок гончарово',\n",
       "       'поселок почап', 'поселок саперное',\n",
       "       'поселок платформа 69-й километр', 'поселок каложицы',\n",
       "       'деревня фалилеево', 'деревня пельгора', 'деревня торошковичи',\n",
       "       'поселок белоостров', 'поселок алексеевка', 'поселок серебрянский',\n",
       "       'поселок лукаши', 'деревня щеглово', 'деревня тарасово',\n",
       "       'поселок кингисеппский', 'поселок ушаки', 'деревня котлы',\n",
       "       'деревня сижно', 'деревня торосово', 'поселок форт красная горка',\n",
       "       'деревня новолисино', 'поселок станции громово', 'деревня глинка',\n",
       "       'деревня старая пустошь', 'поселок коммунары', 'поселок починок',\n",
       "       'поселок вознесенье', 'деревня разбегаево', 'поселок гладкое',\n",
       "       'поселок тесово-4', 'деревня бор', 'поселок коробицыно',\n",
       "       'деревня большая вруда', 'деревня курковицы', 'поселок кобралово',\n",
       "       'деревня суоранда', 'поселок кондратьево', 'поселок счастье',\n",
       "       'поселок любань', 'деревня реброво', 'деревня зимитицы',\n",
       "       'деревня тойворово', 'поселок семиозерье', 'поселок лесное',\n",
       "       'поселок совхозный', 'поселок ленинское', 'поселок суйда',\n",
       "       'деревня нижние осельки', 'поселок станции свирь',\n",
       "       'поселок перово', 'высоцк', 'поселок гарболово', 'деревня шум',\n",
       "       'поселок котельский', 'поселок станции лужайка',\n",
       "       'деревня большая пустомержа', 'поселок красносельское',\n",
       "       'деревня вахнова кара', 'деревня пижма', 'поселок кивеннапа север',\n",
       "       'поселок ромашки', 'деревня куровицы', 'поселок плоское',\n",
       "       'поселок кирпичное', 'деревня ям-тесово', 'деревня раздолье',\n",
       "       'деревня терпилицы', 'поселок шугозеро', 'деревня ваганово',\n",
       "       'поселок пушное', 'садовое товарищество садко',\n",
       "       'поселок усть-ижора', 'деревня выскатка', 'поселок свирьстрой',\n",
       "       'поселок громово', 'деревня кисельня', 'деревня трубников бор',\n",
       "       'поселок калитино', 'поселок высокоключевой',\n",
       "       'садовое товарищество приладожский',\n",
       "       'поселок пансионат зеленый бор', 'деревня ненимяки',\n",
       "       'деревня снегиревка', 'деревня рапполово', 'деревня пустынка',\n",
       "       'поселок рабитицы', 'деревня большой сабск', 'деревня русско',\n",
       "       'деревня лупполово', 'деревня большое рейзино',\n",
       "       'деревня малая романовка', 'поселок дружноселье', 'поселок пчевжа',\n",
       "       'поселок володарское', 'деревня нижняя', 'деревня тихковицы',\n",
       "       'деревня борисова грива', 'поселок дзержинского'], dtype=object)"
      ]
     },
     "execution_count": 21,
     "metadata": {},
     "output_type": "execute_result"
    }
   ],
   "source": [
    "data['locality_name'] = data['locality_name'].str.replace('городской ', '')\n",
    "data['locality_name'] = data['locality_name'].str.replace(' городского типа', '')\n",
    "data['locality_name'] = data['locality_name'].str.replace('коттеджный ', '')\n",
    "data['locality_name'] = data['locality_name'].str.replace(' при железнодорожной', '')\n",
    "data['locality_name'] = data['locality_name'].str.replace('садоводческое некоммерческое', 'садовое')\n",
    "data['locality_name'] = data['locality_name'].str.replace('село ', 'деревня ')\n",
    "data['locality_name'] = data['locality_name'].str.lower()\n",
    "data['locality_name'].unique()"
   ]
  },
  {
   "cell_type": "markdown",
   "metadata": {},
   "source": [
    "<div class=\"alert alert-success\">\n",
    "<h2> Комментарий ревьюера V1<a class=\"tocSkip\"> </h2>\n",
    "\n",
    "<b>Все отлично!👍:</b> Неявные дубликаты также обработал верно."
   ]
  },
  {
   "cell_type": "markdown",
   "metadata": {},
   "source": [
    "заполнение пропусков"
   ]
  },
  {
   "cell_type": "code",
   "execution_count": 22,
   "metadata": {},
   "outputs": [],
   "source": [
    "#заполнение пропусков для столбы расстояние до ближайшего аэропорта.\n",
    "#я нашел эту формулу в интернете,она заполняет таблицу ,предварительно ее поделив на группы и заполняя медианным значением для группы\n",
    "#здесь идет заполнение расстояния до аэропорта медианным значением групп , разбитых по названию города, что немного некорктно для санкт питербурга. но я не придумал более точного метода\n",
    "data['airports_nearest']=data.airports_nearest.fillna(data.groupby(data.locality_name)['airports_nearest'].transform('median'))"
   ]
  },
  {
   "cell_type": "code",
   "execution_count": 23,
   "metadata": {},
   "outputs": [],
   "source": [
    "#заполение расстояния до ближайшего парка.\n",
    "# медианы для групп,по названию города и количеству парков рядом.\n",
    "data['parks_nearest']=data.parks_nearest.fillna(data.groupby(['parks_around3000','locality_name'])['parks_nearest'].transform('median'))"
   ]
  },
  {
   "cell_type": "code",
   "execution_count": 24,
   "metadata": {},
   "outputs": [],
   "source": [
    "data['parks_around3000'].fillna(0, inplace=True)"
   ]
  },
  {
   "cell_type": "code",
   "execution_count": 25,
   "metadata": {},
   "outputs": [],
   "source": [
    "#заполнение пропусков в расстоянии ближайшего парка\n",
    "data['ponds_nearest']=data.parks_nearest.fillna(data.groupby(['ponds_around3000','locality_name'])['ponds_nearest'].transform('median'))"
   ]
  },
  {
   "cell_type": "code",
   "execution_count": 26,
   "metadata": {},
   "outputs": [],
   "source": [
    "#заполнение 0 те строки где не указаны количество парков\n",
    "data['ponds_around3000'].fillna(0, inplace=True)"
   ]
  },
  {
   "cell_type": "markdown",
   "metadata": {},
   "source": [
    "<div class=\"alert alert-warning\">\n",
    "<h2> Комментарий ревьюера V1<a class=\"tocSkip\"> </h2>\n",
    "\n",
    "<b>Некоторые замечания и рекомендации💡:</b>\n",
    "Выше ты пытаешься заполнить пропуски в картографических данных, это достаточно трудоемкая задача, чтобы выполнить заполнение корректно. Также заполнив пропуски просто медианой, пусть даже сгруппировав данные по населенным пунктам ты можешь исказить статистики выборки. Молодец, что решил заполнить пропуски таким образом, хороший с точки зрения логики метод, только нужно всегда проверять исказились ли данные (распределения, статистики) после обработки пропусков."
   ]
  },
  {
   "cell_type": "code",
   "execution_count": 27,
   "metadata": {},
   "outputs": [],
   "source": [
    "#заполнеине пропусков в выосте потолков , в каждом городе медианным значением. Так как есть города со старой застройков и новой застройкой\n",
    "#data['ceiling_height']=data.ceiling_height.fillna(data.groupby(data.locality_name)['ceiling_height'].transform('median'))"
   ]
  },
  {
   "cell_type": "code",
   "execution_count": 28,
   "metadata": {},
   "outputs": [],
   "source": [
    "# оставшиеся значения заполняем значением по госту\n",
    "#data['ceiling_height']=data.ceiling_height.fillna(2.8)"
   ]
  },
  {
   "cell_type": "markdown",
   "metadata": {},
   "source": [
    "<div class=\"alert alert-block alert-danger\">\n",
    "<h2> Комментарий ревьюера V1<a class=\"tocSkip\"></h2>\n",
    "\n",
    "\n",
    "<b>На доработку🤔:</b>\n",
    "А вот заполнить пропуски в высоте потолков таким образом нельзя. Количество пропусков около 40%, такое большое число пропусков нельзя заполнить корректно, воссоздав реальные данные, ты исказишь статистики выборки и дальнейшие результаты. В данном случае нужно оставить пропуски как есть."
   ]
  },
  {
   "cell_type": "markdown",
   "metadata": {},
   "source": [
    "<div class=\"alert alert-success\">\n",
    "<h2> Комментарий ревьюера V2<a class=\"tocSkip\"> </h2>\n",
    "\n",
    "<b>Все отлично!👍:</b> Все правильно доработал, молодец!"
   ]
  },
  {
   "cell_type": "code",
   "execution_count": 29,
   "metadata": {},
   "outputs": [],
   "source": [
    "# заполняем значение площади кухни медианным значением,разбивая группу по количеству комнат. Так как в строительстве используется типовая застройка и госты\n",
    "data['kitchen_area']=data.kitchen_area.fillna(data.groupby(data.rooms)['kitchen_area'].transform('median'))"
   ]
  },
  {
   "cell_type": "code",
   "execution_count": 30,
   "metadata": {},
   "outputs": [],
   "source": [
    "#заполняем пропуски в жилой площади. по формуле. общая площадь минус площадь кухни и 6 квадратных метров,идущих на туалет\n",
    "data['living_area'] = data['living_area'].fillna(data['total_area'] - (data['kitchen_area'] + 6))"
   ]
  },
  {
   "cell_type": "markdown",
   "metadata": {},
   "source": [
    "<div class=\"alert alert-warning\">\n",
    "<h2> Комментарий ревьюера V1<a class=\"tocSkip\"> </h2>\n",
    "\n",
    "<b>Некоторые замечания и рекомендации💡:</b> Тоже в данных пунктах нужно рассмотреть корректность заполнения пропусков. Хорошо, что ты группируешь данные и не заполняешь все пропуски одним значением медианы, посмотри как еще можно заполнить пропуски, возможно, рассчитать коэффициенты отношения площади кухни/жилой к общей площади по каждому городу и заполнить пропуски согласно данным коэффициента."
   ]
  },
  {
   "cell_type": "code",
   "execution_count": 31,
   "metadata": {},
   "outputs": [
    {
     "name": "stdout",
     "output_type": "stream",
     "text": [
      "<class 'pandas.core.frame.DataFrame'>\n",
      "Int64Index: 22680 entries, 1 to 23698\n",
      "Data columns (total 22 columns):\n",
      " #   Column                Non-Null Count  Dtype         \n",
      "---  ------                --------------  -----         \n",
      " 0   total_images          22680 non-null  int64         \n",
      " 1   last_price            22680 non-null  float64       \n",
      " 2   total_area            22680 non-null  float64       \n",
      " 3   first_day_exposition  22680 non-null  datetime64[ns]\n",
      " 4   rooms                 22680 non-null  int64         \n",
      " 5   ceiling_height        13812 non-null  float64       \n",
      " 6   floors_total          22598 non-null  float64       \n",
      " 7   living_area           22667 non-null  float64       \n",
      " 8   floor                 22680 non-null  int64         \n",
      " 9   is_apartment          2656 non-null   object        \n",
      " 10  studio                22680 non-null  bool          \n",
      " 11  open_plan             22680 non-null  bool          \n",
      " 12  kitchen_area          22485 non-null  float64       \n",
      " 13  balcony               11701 non-null  float64       \n",
      " 14  locality_name         22636 non-null  object        \n",
      " 15  airports_nearest      17876 non-null  float64       \n",
      " 16  cityCenters_nearest   17242 non-null  float64       \n",
      " 17  parks_around3000      22680 non-null  float64       \n",
      " 18  parks_nearest         15550 non-null  float64       \n",
      " 19  ponds_around3000      22680 non-null  float64       \n",
      " 20  ponds_nearest         16085 non-null  float64       \n",
      " 21  days_exposition       19741 non-null  float64       \n",
      "dtypes: bool(2), datetime64[ns](1), float64(14), int64(3), object(2)\n",
      "memory usage: 3.7+ MB\n"
     ]
    }
   ],
   "source": [
    "data.info()"
   ]
  },
  {
   "cell_type": "markdown",
   "metadata": {},
   "source": [
    "### Посчитайте и добавьте в таблицу новые столбцы"
   ]
  },
  {
   "cell_type": "code",
   "execution_count": 32,
   "metadata": {},
   "outputs": [],
   "source": [
    "#создаем дополнительный столбец со стоймостью квадратного метра\n",
    "def kwdrmetr(x, y):\n",
    "    return x/y\n",
    "\n",
    "\n",
    "data['price_metr'] = data.apply(lambda x: kwdrmetr(x['last_price'], x['total_area']), axis =  1)\n"
   ]
  },
  {
   "cell_type": "markdown",
   "metadata": {},
   "source": [
    "<div class=\"alert alert-warning\">\n",
    "<h2> Комментарий ревьюера V1<a class=\"tocSkip\"> </h2>\n",
    "\n",
    "<b>Некоторые замечания и рекомендации💡:</b> Немного усложнил задачу. Можно было просто записать data['столбец_1']/data['столбец_2']"
   ]
  },
  {
   "cell_type": "code",
   "execution_count": 33,
   "metadata": {},
   "outputs": [],
   "source": [
    "#создаем дополнительные столбцы с годом, месяцем и днем продажи\n",
    "data['year'] = data['first_day_exposition'].dt.year\n",
    "data['month'] = data['first_day_exposition'].dt.month\n",
    "data['day'] = data['first_day_exposition'].dt.weekday"
   ]
  },
  {
   "cell_type": "code",
   "execution_count": 34,
   "metadata": {},
   "outputs": [
    {
     "data": {
      "text/html": [
       "<div>\n",
       "<style scoped>\n",
       "    .dataframe tbody tr th:only-of-type {\n",
       "        vertical-align: middle;\n",
       "    }\n",
       "\n",
       "    .dataframe tbody tr th {\n",
       "        vertical-align: top;\n",
       "    }\n",
       "\n",
       "    .dataframe thead th {\n",
       "        text-align: right;\n",
       "    }\n",
       "</style>\n",
       "<table border=\"1\" class=\"dataframe\">\n",
       "  <thead>\n",
       "    <tr style=\"text-align: right;\">\n",
       "      <th></th>\n",
       "      <th>first_day_exposition</th>\n",
       "      <th>weekday_name</th>\n",
       "    </tr>\n",
       "  </thead>\n",
       "  <tbody>\n",
       "    <tr>\n",
       "      <th>1</th>\n",
       "      <td>2018-12-04</td>\n",
       "      <td>вторник</td>\n",
       "    </tr>\n",
       "    <tr>\n",
       "      <th>2</th>\n",
       "      <td>2015-08-20</td>\n",
       "      <td>четверг</td>\n",
       "    </tr>\n",
       "    <tr>\n",
       "      <th>3</th>\n",
       "      <td>2015-07-24</td>\n",
       "      <td>пятница</td>\n",
       "    </tr>\n",
       "    <tr>\n",
       "      <th>5</th>\n",
       "      <td>2018-09-10</td>\n",
       "      <td>понедельник</td>\n",
       "    </tr>\n",
       "    <tr>\n",
       "      <th>6</th>\n",
       "      <td>2017-11-02</td>\n",
       "      <td>четверг</td>\n",
       "    </tr>\n",
       "  </tbody>\n",
       "</table>\n",
       "</div>"
      ],
      "text/plain": [
       "  first_day_exposition weekday_name\n",
       "1           2018-12-04      вторник\n",
       "2           2015-08-20      четверг\n",
       "3           2015-07-24      пятница\n",
       "5           2018-09-10  понедельник\n",
       "6           2017-11-02      четверг"
      ]
     },
     "execution_count": 34,
     "metadata": {},
     "output_type": "execute_result"
    }
   ],
   "source": [
    "#заменяем числовые значение на текстовые с названием дня недели\n",
    "weekday = {0: 'понедельник', \n",
    "           1:'вторник', \n",
    "           2:'среда', \n",
    "           3:'четверг', \n",
    "           4:'пятница', \n",
    "           5: 'суббота', \n",
    "           6: 'воскресенье'}\n",
    "data['weekday_name'] = data['day'].map(weekday)\n",
    "data[['first_day_exposition', 'weekday_name']].head()"
   ]
  },
  {
   "cell_type": "code",
   "execution_count": 35,
   "metadata": {},
   "outputs": [
    {
     "data": {
      "text/html": [
       "<div>\n",
       "<style scoped>\n",
       "    .dataframe tbody tr th:only-of-type {\n",
       "        vertical-align: middle;\n",
       "    }\n",
       "\n",
       "    .dataframe tbody tr th {\n",
       "        vertical-align: top;\n",
       "    }\n",
       "\n",
       "    .dataframe thead th {\n",
       "        text-align: right;\n",
       "    }\n",
       "</style>\n",
       "<table border=\"1\" class=\"dataframe\">\n",
       "  <thead>\n",
       "    <tr style=\"text-align: right;\">\n",
       "      <th></th>\n",
       "      <th>total_images</th>\n",
       "      <th>last_price</th>\n",
       "      <th>total_area</th>\n",
       "      <th>first_day_exposition</th>\n",
       "      <th>rooms</th>\n",
       "      <th>ceiling_height</th>\n",
       "      <th>floors_total</th>\n",
       "      <th>living_area</th>\n",
       "      <th>floor</th>\n",
       "      <th>is_apartment</th>\n",
       "      <th>...</th>\n",
       "      <th>parks_nearest</th>\n",
       "      <th>ponds_around3000</th>\n",
       "      <th>ponds_nearest</th>\n",
       "      <th>days_exposition</th>\n",
       "      <th>price_metr</th>\n",
       "      <th>year</th>\n",
       "      <th>month</th>\n",
       "      <th>day</th>\n",
       "      <th>weekday_name</th>\n",
       "      <th>ktfloor</th>\n",
       "    </tr>\n",
       "  </thead>\n",
       "  <tbody>\n",
       "    <tr>\n",
       "      <th>1</th>\n",
       "      <td>7</td>\n",
       "      <td>3350000.0</td>\n",
       "      <td>40.4</td>\n",
       "      <td>2018-12-04</td>\n",
       "      <td>1</td>\n",
       "      <td>NaN</td>\n",
       "      <td>11.0</td>\n",
       "      <td>18.6</td>\n",
       "      <td>1</td>\n",
       "      <td>NaN</td>\n",
       "      <td>...</td>\n",
       "      <td>NaN</td>\n",
       "      <td>0.0</td>\n",
       "      <td>NaN</td>\n",
       "      <td>81.0</td>\n",
       "      <td>82920.792079</td>\n",
       "      <td>2018</td>\n",
       "      <td>12</td>\n",
       "      <td>1</td>\n",
       "      <td>вторник</td>\n",
       "      <td>первый</td>\n",
       "    </tr>\n",
       "    <tr>\n",
       "      <th>2</th>\n",
       "      <td>10</td>\n",
       "      <td>5196000.0</td>\n",
       "      <td>56.0</td>\n",
       "      <td>2015-08-20</td>\n",
       "      <td>2</td>\n",
       "      <td>NaN</td>\n",
       "      <td>5.0</td>\n",
       "      <td>34.3</td>\n",
       "      <td>4</td>\n",
       "      <td>NaN</td>\n",
       "      <td>...</td>\n",
       "      <td>90.0</td>\n",
       "      <td>2.0</td>\n",
       "      <td>90.0</td>\n",
       "      <td>558.0</td>\n",
       "      <td>92785.714286</td>\n",
       "      <td>2015</td>\n",
       "      <td>8</td>\n",
       "      <td>3</td>\n",
       "      <td>четверг</td>\n",
       "      <td>другой</td>\n",
       "    </tr>\n",
       "    <tr>\n",
       "      <th>3</th>\n",
       "      <td>0</td>\n",
       "      <td>64900000.0</td>\n",
       "      <td>159.0</td>\n",
       "      <td>2015-07-24</td>\n",
       "      <td>3</td>\n",
       "      <td>NaN</td>\n",
       "      <td>14.0</td>\n",
       "      <td>144.0</td>\n",
       "      <td>9</td>\n",
       "      <td>NaN</td>\n",
       "      <td>...</td>\n",
       "      <td>84.0</td>\n",
       "      <td>3.0</td>\n",
       "      <td>84.0</td>\n",
       "      <td>424.0</td>\n",
       "      <td>408176.100629</td>\n",
       "      <td>2015</td>\n",
       "      <td>7</td>\n",
       "      <td>4</td>\n",
       "      <td>пятница</td>\n",
       "      <td>другой</td>\n",
       "    </tr>\n",
       "    <tr>\n",
       "      <th>5</th>\n",
       "      <td>10</td>\n",
       "      <td>2890000.0</td>\n",
       "      <td>30.4</td>\n",
       "      <td>2018-09-10</td>\n",
       "      <td>1</td>\n",
       "      <td>NaN</td>\n",
       "      <td>12.0</td>\n",
       "      <td>14.4</td>\n",
       "      <td>5</td>\n",
       "      <td>NaN</td>\n",
       "      <td>...</td>\n",
       "      <td>NaN</td>\n",
       "      <td>0.0</td>\n",
       "      <td>NaN</td>\n",
       "      <td>55.0</td>\n",
       "      <td>95065.789474</td>\n",
       "      <td>2018</td>\n",
       "      <td>9</td>\n",
       "      <td>0</td>\n",
       "      <td>понедельник</td>\n",
       "      <td>другой</td>\n",
       "    </tr>\n",
       "    <tr>\n",
       "      <th>6</th>\n",
       "      <td>6</td>\n",
       "      <td>3700000.0</td>\n",
       "      <td>37.3</td>\n",
       "      <td>2017-11-02</td>\n",
       "      <td>1</td>\n",
       "      <td>NaN</td>\n",
       "      <td>26.0</td>\n",
       "      <td>10.6</td>\n",
       "      <td>6</td>\n",
       "      <td>NaN</td>\n",
       "      <td>...</td>\n",
       "      <td>NaN</td>\n",
       "      <td>0.0</td>\n",
       "      <td>NaN</td>\n",
       "      <td>155.0</td>\n",
       "      <td>99195.710456</td>\n",
       "      <td>2017</td>\n",
       "      <td>11</td>\n",
       "      <td>3</td>\n",
       "      <td>четверг</td>\n",
       "      <td>другой</td>\n",
       "    </tr>\n",
       "  </tbody>\n",
       "</table>\n",
       "<p>5 rows × 28 columns</p>\n",
       "</div>"
      ],
      "text/plain": [
       "   total_images  last_price  total_area first_day_exposition  rooms  \\\n",
       "1             7   3350000.0        40.4           2018-12-04      1   \n",
       "2            10   5196000.0        56.0           2015-08-20      2   \n",
       "3             0  64900000.0       159.0           2015-07-24      3   \n",
       "5            10   2890000.0        30.4           2018-09-10      1   \n",
       "6             6   3700000.0        37.3           2017-11-02      1   \n",
       "\n",
       "   ceiling_height  floors_total  living_area  floor is_apartment  ...  \\\n",
       "1             NaN          11.0         18.6      1          NaN  ...   \n",
       "2             NaN           5.0         34.3      4          NaN  ...   \n",
       "3             NaN          14.0        144.0      9          NaN  ...   \n",
       "5             NaN          12.0         14.4      5          NaN  ...   \n",
       "6             NaN          26.0         10.6      6          NaN  ...   \n",
       "\n",
       "   parks_nearest  ponds_around3000  ponds_nearest  days_exposition  \\\n",
       "1            NaN               0.0            NaN             81.0   \n",
       "2           90.0               2.0           90.0            558.0   \n",
       "3           84.0               3.0           84.0            424.0   \n",
       "5            NaN               0.0            NaN             55.0   \n",
       "6            NaN               0.0            NaN            155.0   \n",
       "\n",
       "      price_metr  year  month  day  weekday_name  ktfloor  \n",
       "1   82920.792079  2018     12    1       вторник   первый  \n",
       "2   92785.714286  2015      8    3       четверг   другой  \n",
       "3  408176.100629  2015      7    4       пятница   другой  \n",
       "5   95065.789474  2018      9    0   понедельник   другой  \n",
       "6   99195.710456  2017     11    3       четверг   другой  \n",
       "\n",
       "[5 rows x 28 columns]"
      ]
     },
     "execution_count": 35,
     "metadata": {},
     "output_type": "execute_result"
    }
   ],
   "source": [
    "#создаем столбец с названием этажности\n",
    "def ktfloor(x, y):\n",
    "    if x == 1:\n",
    "      return \"первый\"\n",
    "    elif x == y:\n",
    "      return \"последний\"\n",
    "    else:\n",
    "      return \"другой\"  \n",
    "\n",
    "data['ktfloor'] = data.apply(lambda x: ktfloor(x['floor'], x['floors_total']), axis =  1)\n",
    "data.head()"
   ]
  },
  {
   "cell_type": "markdown",
   "metadata": {},
   "source": [
    "<div class=\"alert alert-success\">\n",
    "<h2> Комментарий ревьюера V1<a class=\"tocSkip\"> </h2>\n",
    "\n",
    "<b>Все отлично!👍:</b> Новые столбцы посчитал абсолютно верно, молодец!"
   ]
  },
  {
   "cell_type": "markdown",
   "metadata": {},
   "source": [
    "### Проведите исследовательский анализ данных"
   ]
  },
  {
   "cell_type": "code",
   "execution_count": 36,
   "metadata": {},
   "outputs": [
    {
     "name": "stdout",
     "output_type": "stream",
     "text": [
      "для общей площади \n",
      " count    22680.000000\n",
      "mean        56.622773\n",
      "std         24.806063\n",
      "min         12.000000\n",
      "25%         39.600000\n",
      "50%         50.775000\n",
      "75%         67.000000\n",
      "max        217.000000\n",
      "Name: total_area, dtype: float64\n"
     ]
    },
    {
     "data": {
      "image/png": "[encoded data removed]",
      "text/plain": [
       "<Figure size 1080x360 with 1 Axes>"
      ]
     },
     "metadata": {
      "needs_background": "light"
     },
     "output_type": "display_data"
    }
   ],
   "source": [
    "#создадим две гистограммы для общей площади. одну по общим данным, другую в качестве увеличительного стекла \n",
    "#для пиковых значений.\n",
    "data.plot(y='total_area', kind='hist', bins=100, figsize=(15,5), grid=True, title='общая площадь')\n",
    "#затем зафиксируем нюансы методом дискрайб\n",
    "print('для общей площади', '\\n', data['total_area'].describe())"
   ]
  },
  {
   "cell_type": "markdown",
   "metadata": {},
   "source": [
    "наибольшее количество квартир имеют площадь порядка 40 м2, распределение имеет вид близкий к нормальному,но большой хвост справа."
   ]
  },
  {
   "cell_type": "code",
   "execution_count": 37,
   "metadata": {},
   "outputs": [
    {
     "name": "stdout",
     "output_type": "stream",
     "text": [
      "для живой площади \n",
      " count    22667.000000\n",
      "mean        33.556226\n",
      "std         18.209527\n",
      "min         -2.000000\n",
      "25%         18.700000\n",
      "50%         30.000000\n",
      "75%         42.000000\n",
      "max        183.200000\n",
      "Name: living_area, dtype: float64\n"
     ]
    },
    {
     "data": {
      "image/png": "[encoded data removed]",
      "text/plain": [
       "<Figure size 1080x360 with 1 Axes>"
      ]
     },
     "metadata": {
      "needs_background": "light"
     },
     "output_type": "display_data"
    },
    {
     "data": {
      "image/png": "[encoded data removed]",
      "text/plain": [
       "<Figure size 1080x360 with 1 Axes>"
      ]
     },
     "metadata": {
      "needs_background": "light"
     },
     "output_type": "display_data"
    }
   ],
   "source": [
    "#то же самое сделаем для остальных гистограм(где хватит одной гисты, оставим одну)\n",
    "data.plot(y='living_area', kind='hist', bins=100, figsize=(15,5), grid=True, title='жилая площадь')\n",
    "data.plot(y='living_area', kind='hist', range=(0, 125), bins=100, figsize=(15,5), grid=True, title='жилая площадь увеличенная')\n",
    "print('для живой площади', '\\n', data['living_area'].describe())"
   ]
  },
  {
   "cell_type": "markdown",
   "metadata": {},
   "source": [
    "распреление жило площади имеет нестандартный вид с 2 пиками: 18 м2 и 30 м2, с очень низким значением жлой площади в районе 23 м2 и вторым сильным снижением в районе 38 м2.\n",
    "тако распределние может быть связано с тем, что стандартные квартиры имеют стандартные комнаты"
   ]
  },
  {
   "cell_type": "code",
   "execution_count": 38,
   "metadata": {},
   "outputs": [
    {
     "name": "stdout",
     "output_type": "stream",
     "text": [
      "для кухонной площади \n",
      " count    22485.000000\n",
      "mean         9.570954\n",
      "std          3.178395\n",
      "min          1.300000\n",
      "25%          7.100000\n",
      "50%          9.000000\n",
      "75%         11.000000\n",
      "max         21.000000\n",
      "Name: kitchen_area, dtype: float64\n"
     ]
    },
    {
     "data": {
      "image/png": "[encoded data removed]",
      "text/plain": [
       "<Figure size 1080x360 with 1 Axes>"
      ]
     },
     "metadata": {
      "needs_background": "light"
     },
     "output_type": "display_data"
    }
   ],
   "source": [
    "data.plot(y='kitchen_area', kind='hist', bins=100, figsize=(15,5), grid=True, title='кухонная площадь')\n",
    "print('для кухонной площади','\\n', data['kitchen_area'].describe())"
   ]
  },
  {
   "cell_type": "markdown",
   "metadata": {},
   "source": [
    "площадь кухни имеет нормальнео распределние с пиком в 9 м2."
   ]
  },
  {
   "cell_type": "code",
   "execution_count": 39,
   "metadata": {},
   "outputs": [
    {
     "name": "stdout",
     "output_type": "stream",
     "text": [
      "для цены на момент снятия публикации \n",
      " count    2.268000e+04\n",
      "mean     5.641377e+06\n",
      "std      4.682077e+06\n",
      "min      4.300000e+05\n",
      "25%      3.390000e+06\n",
      "50%      4.500000e+06\n",
      "75%      6.450000e+06\n",
      "max      1.240000e+08\n",
      "Name: last_price, dtype: float64\n"
     ]
    },
    {
     "data": {
      "image/png": "[encoded data removed]",
      "text/plain": [
       "<Figure size 1080x360 with 1 Axes>"
      ]
     },
     "metadata": {
      "needs_background": "light"
     },
     "output_type": "display_data"
    },
    {
     "data": {
      "image/png": "[encoded data removed]",
      "text/plain": [
       "<Figure size 1080x360 with 1 Axes>"
      ]
     },
     "metadata": {
      "needs_background": "light"
     },
     "output_type": "display_data"
    }
   ],
   "source": [
    "data.plot(y='last_price', kind='hist', bins=100, figsize=(15,5), grid=True, title='цена на момент снятия публикации')\n",
    "data.plot(y='last_price', kind='hist', range=(0, 10000000), bins=100, figsize=(15,5), grid=True, \n",
    "        title='цена на момент снятия публикации увеличенная')\n",
    "print('для цены на момент снятия публикации', '\\n', data['last_price'].describe())"
   ]
  },
  {
   "cell_type": "markdown",
   "metadata": {},
   "source": [
    "цена имеет стандартное распределение, наиболее частая цена составляет в районе 4 миллионов.  и длинный хвост за счет люксовых квартир"
   ]
  },
  {
   "cell_type": "code",
   "execution_count": 40,
   "metadata": {},
   "outputs": [
    {
     "name": "stdout",
     "output_type": "stream",
     "text": [
      "для кол-ва комнат \n",
      " count    22680.000000\n",
      "mean         2.011552\n",
      "std          0.991097\n",
      "min          0.000000\n",
      "25%          1.000000\n",
      "50%          2.000000\n",
      "75%          3.000000\n",
      "max         11.000000\n",
      "Name: rooms, dtype: float64\n"
     ]
    },
    {
     "data": {
      "image/png": "[encoded data removed]",
      "text/plain": [
       "<Figure size 1080x360 with 1 Axes>"
      ]
     },
     "metadata": {
      "needs_background": "light"
     },
     "output_type": "display_data"
    }
   ],
   "source": [
    "data.plot(y='rooms', kind='hist', bins=10, figsize=(15,5), grid=True, title='кол-во комнат')\n",
    "print('для кол-ва комнат', '\\n', data['rooms'].describe())"
   ]
  },
  {
   "cell_type": "markdown",
   "metadata": {},
   "source": [
    "наиболее частое количество комнат составляет от 0,1,2 . \n",
    "3 встречаются реже и 4 намного реже"
   ]
  },
  {
   "cell_type": "code",
   "execution_count": 41,
   "metadata": {},
   "outputs": [
    {
     "name": "stdout",
     "output_type": "stream",
     "text": [
      "для высоты потолков \n",
      " count    13812.000000\n",
      "mean         2.708417\n",
      "std          0.252374\n",
      "min          2.000000\n",
      "25%          2.500000\n",
      "50%          2.650000\n",
      "75%          2.800000\n",
      "max          5.000000\n",
      "Name: ceiling_height, dtype: float64\n"
     ]
    },
    {
     "data": {
      "image/png": "[encoded data removed]",
      "text/plain": [
       "<Figure size 1080x360 with 1 Axes>"
      ]
     },
     "metadata": {
      "needs_background": "light"
     },
     "output_type": "display_data"
    }
   ],
   "source": [
    "data.plot(y='ceiling_height', kind='hist', bins=10, figsize=(15,5), grid=True, title='высота потолков')\n",
    "print('для высоты потолков', '\\n', data['ceiling_height'].describe())"
   ]
  },
  {
   "cell_type": "markdown",
   "metadata": {},
   "source": [
    "высота потолков имеет распределние паусона.с пиков в районе 2.8 метров"
   ]
  },
  {
   "cell_type": "code",
   "execution_count": 42,
   "metadata": {},
   "outputs": [
    {
     "name": "stdout",
     "output_type": "stream",
     "text": [
      "для этажа \n",
      " count    22680.000000\n",
      "mean         5.888007\n",
      "std          4.886198\n",
      "min          1.000000\n",
      "25%          2.000000\n",
      "50%          4.000000\n",
      "75%          8.000000\n",
      "max         33.000000\n",
      "Name: floor, dtype: float64\n"
     ]
    },
    {
     "data": {
      "image/png": "[encoded data removed]",
      "text/plain": [
       "<Figure size 1080x360 with 1 Axes>"
      ]
     },
     "metadata": {
      "needs_background": "light"
     },
     "output_type": "display_data"
    }
   ],
   "source": [
    "data.plot(y='floor', kind='hist', bins=100, figsize=(15,5), grid=True, title='этаж')\n",
    "print('для этажа', '\\n', data['floor'].describe())"
   ]
  },
  {
   "cell_type": "markdown",
   "metadata": {},
   "source": [
    "распределение квартир имеет вид паусона, это логично.так как большое количество домов имеет всего 5 этажей. поэтому с 6 этажа идет снижение количества продаваемых квартир"
   ]
  },
  {
   "cell_type": "code",
   "execution_count": 43,
   "metadata": {},
   "outputs": [
    {
     "data": {
      "text/plain": [
       "<AxesSubplot:xlabel='ktfloor', ylabel='last_price'>"
      ]
     },
     "execution_count": 43,
     "metadata": {},
     "output_type": "execute_result"
    },
    {
     "data": {
      "image/png": "[encoded data removed]",
      "text/plain": [
       "<Figure size 432x288 with 1 Axes>"
      ]
     },
     "metadata": {
      "needs_background": "light"
     },
     "output_type": "display_data"
    }
   ],
   "source": [
    "sns.barplot(x=\"ktfloor\", y=\"last_price\", data = data,             \n",
    "                order = ['первый', 'другой', 'последний'])\n",
    "\n"
   ]
  },
  {
   "cell_type": "markdown",
   "metadata": {},
   "source": [
    "наибольшее количество квартри находятся не на первом и не на последнем этаже. наименьшеее количество квартир находится на первом этаже."
   ]
  },
  {
   "cell_type": "code",
   "execution_count": 44,
   "metadata": {},
   "outputs": [
    {
     "name": "stdout",
     "output_type": "stream",
     "text": [
      "для общего числа этажей \n",
      " count    22598.000000\n",
      "mean        10.717364\n",
      "std          6.603655\n",
      "min          1.000000\n",
      "25%          5.000000\n",
      "50%          9.000000\n",
      "75%         16.000000\n",
      "max         60.000000\n",
      "Name: floors_total, dtype: float64\n"
     ]
    },
    {
     "data": {
      "image/png": "[encoded data removed]",
      "text/plain": [
       "<Figure size 1080x360 with 1 Axes>"
      ]
     },
     "metadata": {
      "needs_background": "light"
     },
     "output_type": "display_data"
    }
   ],
   "source": [
    "data.plot(y='floors_total', kind='hist', bins=100, figsize=(15,5), grid=True, title='общее число этажей')\n",
    "print('для общего числа этажей','\\n', data['floors_total'].describe())"
   ]
  },
  {
   "cell_type": "markdown",
   "metadata": {},
   "source": [
    "из графика видно, что больше всего на рынке квартир в 5-этажных домах. и в 9 этажных квартиран находится второй пик."
   ]
  },
  {
   "cell_type": "code",
   "execution_count": 45,
   "metadata": {},
   "outputs": [
    {
     "name": "stdout",
     "output_type": "stream",
     "text": [
      "для расстояния до центра \n",
      " count    17242.000000\n",
      "mean     14458.656884\n",
      "std       8578.487484\n",
      "min        181.000000\n",
      "25%       9750.000000\n",
      "50%      13263.500000\n",
      "75%      16453.000000\n",
      "max      65968.000000\n",
      "Name: cityCenters_nearest, dtype: float64\n"
     ]
    },
    {
     "data": {
      "image/png": "[encoded data removed]",
      "text/plain": [
       "<Figure size 1080x360 with 1 Axes>"
      ]
     },
     "metadata": {
      "needs_background": "light"
     },
     "output_type": "display_data"
    }
   ],
   "source": [
    "data.plot(y='cityCenters_nearest', kind='hist', bins=100, figsize=(15,5), grid=True, title='расстояние до центра', \n",
    "        range=(1, 66000))\n",
    "print('для расстояния до центра','\\n', data['cityCenters_nearest'].describe())"
   ]
  },
  {
   "cell_type": "markdown",
   "metadata": {},
   "source": [
    "наибольшая часть квартир находится в периметре от 10 до 20 км от центра"
   ]
  },
  {
   "cell_type": "code",
   "execution_count": 46,
   "metadata": {},
   "outputs": [
    {
     "name": "stdout",
     "output_type": "stream",
     "text": [
      "для расстояния до аэропорта \n",
      " count    17876.000000\n",
      "mean     29532.853491\n",
      "std      13187.950968\n",
      "min          0.000000\n",
      "25%      18621.000000\n",
      "50%      27282.500000\n",
      "75%      38949.500000\n",
      "max      84869.000000\n",
      "Name: airports_nearest, dtype: float64\n"
     ]
    },
    {
     "data": {
      "image/png": "[encoded data removed]",
      "text/plain": [
       "<Figure size 1080x360 with 1 Axes>"
      ]
     },
     "metadata": {
      "needs_background": "light"
     },
     "output_type": "display_data"
    }
   ],
   "source": [
    "data.plot(y='airports_nearest', kind='hist', bins=100, figsize=(15,5), grid=True, title='расстояние до аэропорта', \n",
    "        range=(1, 85000))\n",
    "print('для расстояния до аэропорта', '\\n', data['airports_nearest'].describe())"
   ]
  },
  {
   "cell_type": "markdown",
   "metadata": {},
   "source": [
    "стоит проигнорировать такой выброс, распределение имеет нормальный вид, с пиком в районе 20 км от аэропорта"
   ]
  },
  {
   "cell_type": "code",
   "execution_count": 47,
   "metadata": {},
   "outputs": [
    {
     "name": "stdout",
     "output_type": "stream",
     "text": [
      "для расстояния до парка \n",
      " count    15550.000000\n",
      "mean      1855.647717\n",
      "std       1337.711313\n",
      "min          1.000000\n",
      "25%        466.250000\n",
      "50%       3127.000000\n",
      "75%       3127.000000\n",
      "max       3190.000000\n",
      "Name: parks_nearest, dtype: float64\n"
     ]
    },
    {
     "data": {
      "image/png": "[encoded data removed]",
      "text/plain": [
       "<Figure size 1080x360 with 1 Axes>"
      ]
     },
     "metadata": {
      "needs_background": "light"
     },
     "output_type": "display_data"
    }
   ],
   "source": [
    "data.plot(y='parks_nearest', kind='hist', bins=100, figsize=(15,5), grid=True, title='расстояние до парка', range=(1, 3000))\n",
    "print('для расстояния до парка', '\\n', data['parks_nearest'].describe())\n"
   ]
  },
  {
   "cell_type": "markdown",
   "metadata": {},
   "source": [
    "подавляющее количество квартир находятся на расстоянии до 1 км, пик распределения находится на 500 метров"
   ]
  },
  {
   "cell_type": "markdown",
   "metadata": {},
   "source": [
    "<div class=\"alert alert-block alert-danger\">\n",
    "<h2> Комментарий ревьюера V1<a class=\"tocSkip\"></h2>\n",
    "\n",
    "\n",
    "<b>На доработку🤔:</b>\n",
    "Нужно не просто вывести статистики и диаграммы распределений, нужно провести анализ, описать статистики, наиболее частые значения и тд."
   ]
  },
  {
   "cell_type": "markdown",
   "metadata": {},
   "source": [
    "<div class=\"alert alert-success\">\n",
    "<h2> Комментарий ревьюера V2<a class=\"tocSkip\"> </h2>\n",
    "\n",
    "<b>Все отлично!👍:</b> Все правильно доработал, продолжай в том же духе!"
   ]
  },
  {
   "cell_type": "code",
   "execution_count": 48,
   "metadata": {},
   "outputs": [
    {
     "name": "stdout",
     "output_type": "stream",
     "text": [
      "для дня публикации \n",
      " count    22680.000000\n",
      "mean         2.570282\n",
      "std          1.789682\n",
      "min          0.000000\n",
      "25%          1.000000\n",
      "50%          3.000000\n",
      "75%          4.000000\n",
      "max          6.000000\n",
      "Name: day, dtype: float64\n"
     ]
    },
    {
     "data": {
      "image/png": "[encoded data removed]",
      "text/plain": [
       "<Figure size 1080x360 with 1 Axes>"
      ]
     },
     "metadata": {
      "needs_background": "light"
     },
     "output_type": "display_data"
    }
   ],
   "source": [
    "\n",
    "data.plot(y='day', kind='hist', bins=100, figsize=(15,5), grid=True, title='день публикации')\n",
    "print('для дня публикации', '\\n', data['day'].describe())"
   ]
  },
  {
   "cell_type": "markdown",
   "metadata": {},
   "source": [
    "квартиры в субботу и воскресенье значительно меньше выкладываются"
   ]
  },
  {
   "cell_type": "code",
   "execution_count": 49,
   "metadata": {},
   "outputs": [
    {
     "data": {
      "text/html": [
       "<div>\n",
       "<style scoped>\n",
       "    .dataframe tbody tr th:only-of-type {\n",
       "        vertical-align: middle;\n",
       "    }\n",
       "\n",
       "    .dataframe tbody tr th {\n",
       "        vertical-align: top;\n",
       "    }\n",
       "\n",
       "    .dataframe thead th {\n",
       "        text-align: right;\n",
       "    }\n",
       "</style>\n",
       "<table border=\"1\" class=\"dataframe\">\n",
       "  <thead>\n",
       "    <tr style=\"text-align: right;\">\n",
       "      <th></th>\n",
       "      <th>first_day_exposition</th>\n",
       "      <th>weekday_name</th>\n",
       "      <th>month_name</th>\n",
       "    </tr>\n",
       "  </thead>\n",
       "  <tbody>\n",
       "    <tr>\n",
       "      <th>1</th>\n",
       "      <td>2018-12-04</td>\n",
       "      <td>вторник</td>\n",
       "      <td>декабрь</td>\n",
       "    </tr>\n",
       "    <tr>\n",
       "      <th>2</th>\n",
       "      <td>2015-08-20</td>\n",
       "      <td>четверг</td>\n",
       "      <td>август</td>\n",
       "    </tr>\n",
       "    <tr>\n",
       "      <th>3</th>\n",
       "      <td>2015-07-24</td>\n",
       "      <td>пятница</td>\n",
       "      <td>июль</td>\n",
       "    </tr>\n",
       "    <tr>\n",
       "      <th>5</th>\n",
       "      <td>2018-09-10</td>\n",
       "      <td>понедельник</td>\n",
       "      <td>сентябрь</td>\n",
       "    </tr>\n",
       "    <tr>\n",
       "      <th>6</th>\n",
       "      <td>2017-11-02</td>\n",
       "      <td>четверг</td>\n",
       "      <td>ноябрь</td>\n",
       "    </tr>\n",
       "  </tbody>\n",
       "</table>\n",
       "</div>"
      ],
      "text/plain": [
       "  first_day_exposition weekday_name month_name\n",
       "1           2018-12-04      вторник    декабрь\n",
       "2           2015-08-20      четверг     август\n",
       "3           2015-07-24      пятница       июль\n",
       "5           2018-09-10  понедельник   сентябрь\n",
       "6           2017-11-02      четверг     ноябрь"
      ]
     },
     "execution_count": 49,
     "metadata": {},
     "output_type": "execute_result"
    }
   ],
   "source": [
    "month = {1: 'январь', 2:'февраль', 3:'март', 4:'апрель', 5:'май', 6: 'июнь', 7: 'июль', 8: 'август', 9: 'сентябрь', 10: 'октябрь', 11: 'ноябрь', 12: 'декабрь'}\n",
    "data['month_name'] = data['month'].map(month)\n",
    "data[['first_day_exposition', 'weekday_name', 'month_name']].head()"
   ]
  },
  {
   "cell_type": "code",
   "execution_count": 50,
   "metadata": {},
   "outputs": [
    {
     "name": "stdout",
     "output_type": "stream",
     "text": [
      "для месяца публикации \n",
      " count    22680.000000\n",
      "mean         6.398236\n",
      "std          3.488336\n",
      "min          1.000000\n",
      "25%          3.000000\n",
      "50%          6.000000\n",
      "75%         10.000000\n",
      "max         12.000000\n",
      "Name: month, dtype: float64\n"
     ]
    },
    {
     "data": {
      "image/png": "[encoded data removed]",
      "text/plain": [
       "<Figure size 1080x360 with 1 Axes>"
      ]
     },
     "metadata": {
      "needs_background": "light"
     },
     "output_type": "display_data"
    }
   ],
   "source": [
    "data.plot(y='month', kind='hist', bins=100, figsize=(15,5), grid=True, title='месяц публикации')\n",
    "print('для месяца публикации', '\\n', data['month'].describe())"
   ]
  },
  {
   "cell_type": "markdown",
   "metadata": {},
   "source": [
    "меньше всего квартир выкладывается в январе, мае, пик выкладки квартир наблюдается в феврале и ноябре"
   ]
  },
  {
   "cell_type": "code",
   "execution_count": 51,
   "metadata": {},
   "outputs": [
    {
     "name": "stdout",
     "output_type": "stream",
     "text": [
      "для колличества дней до продажи \n",
      " count    19741.000000\n",
      "mean       177.511778\n",
      "std        216.397875\n",
      "min          1.000000\n",
      "25%         44.000000\n",
      "50%         93.000000\n",
      "75%        226.000000\n",
      "max       1580.000000\n",
      "Name: days_exposition, dtype: float64\n"
     ]
    },
    {
     "data": {
      "image/png": "[encoded data removed]",
      "text/plain": [
       "<Figure size 1080x360 with 1 Axes>"
      ]
     },
     "metadata": {
      "needs_background": "light"
     },
     "output_type": "display_data"
    }
   ],
   "source": [
    "#изучим данные столбца days_exposition, чтобы понять, как быстро продавались квартиры\n",
    "data.plot(y='days_exposition', kind='hist', bins=100, figsize=(15,5), grid=True, title='кол-во дней до продажи', range=(1, 1600))\n",
    "print('для колличества дней до продажи', '\\n', data['days_exposition'].describe())"
   ]
  },
  {
   "cell_type": "markdown",
   "metadata": {},
   "source": [
    "Для заданных столбцов задали гистограммы, чтобы изучить объекты. Так же вызвали метод дискрайб для более детального изучения. В некоторых данных из-за большого разлёта данных было решено сделать более детальные приближенные гистограммы для рассмотрения пиков.\n",
    "- общая площадь имеет пик на гистограмме 42-45 км. м. \n",
    "- жилая площадь имеет два пика 17-18 кв. м и 30 кв. м. \n",
    "- кухонная площадь имеет небольшое кол-во нулевых значений - скорее всего это студии. Пик имеется на 6 кв. м и на 10 кв. м. \n",
    "- цена на момент снятия публикации. Здесь было немного сложнее и ориентировался больше по дискрайбу. Максимальная цена 763 млн, а минимальная 1,22 млн. Средняя цена (6,5 млн) и медианная цена (4,65) существенно различаются изза наличие огромных ценников (скорее всего коттеджи). Пользуясь этими данными сделали гистограмму увеличенного вида для просмотров пика. Пики на 4 млн рублей и 3,7 млн рублей.\n",
    "- по колличеству комнат всё было проще, поэтому хватило одной гистограммы. двушки и трёшки встречаются у нас чаще остальных. за ними идут однушки. 4х, 5и, 6и комнатные встречаются реже.\n",
    "- высота потолков имеет свой пик на гистограмме на уровне 2,75 м. Минимум - 2,2 метра\n",
    "- по этажам пики у нас имеют квартиры на 1-5 этажах, квартир в продаже на других этажах замечается на порядок меньше\n",
    "- расстояние от центра чаще всего встречается на 13-14 и 16 км по гистограмме. Пик в районе нуля не берем в расчёт. Максимальное расстояние до цента 66 км\n",
    "- расстояние до аэропорта имеет большой разброс, однако среднее и медиана почти совпадают на 22 км. Пик в районе 0 не учитываем. Максимальное расстояние 84 км\n",
    "- расстояние до парка у нас на гистограмме имеет пик 500 метров\n",
    "- публикации были сделаны почти равномерно в каждый день недели за исключением субботы и воскресенья, в эти дни было меньше публикаций\n",
    "- больше всего публикаций было сделано в феврале, марте, апреле и декабре. Однако разница с другими месяцами не столь отлична (кроме месяцев января и мая, в эти месяцы был заметный спад)\n",
    "- далее мы изучили колличество дней публикаций. Пики были обнаружены на 47 и 56 днях. Нулевые дни мы не берем, так как это пропущенные значения. В среднем объявление висит 156 дней. Медианное значение 73 дня. Реальные же цифры могут весьма отличаться в большую сторону, так как большое колличество пропущенных значений было заменено нулями. Максимальное кол-во дней 1580. Если же смотреть по первой гистограмме, то оно имеет вид Пуассона, т.е. чем больше кол-ва дней, тем меньше объявлений.**\n"
   ]
  },
  {
   "cell_type": "markdown",
   "metadata": {},
   "source": [
    "<div class=\"alert alert-warning\">\n",
    "<h2> Комментарий ревьюера V1<a class=\"tocSkip\"> </h2>\n",
    "\n",
    "<b>Некоторые замечания и рекомендации💡:</b> В данном пункте, как и выше с типом этажа лучше вывести столбчатые диаграммы с медианами цен квартир. Текущий график можно неправильно интерпретировать."
   ]
  },
  {
   "cell_type": "code",
   "execution_count": 52,
   "metadata": {},
   "outputs": [
    {
     "name": "stdout",
     "output_type": "stream",
     "text": [
      "корреляция между last_price и last_price 1.0\n",
      "корреляция между total_area и last_price 0.7134244702604771\n",
      "корреляция между living_area и last_price 0.635987990275937\n",
      "корреляция между price_metr и last_price 0.7400206225156073\n"
     ]
    }
   ],
   "source": [
    "#проверили корреляцию по всем столбцам и вывели на экран там, где она больше 0.5\n",
    "for i in data.columns:\n",
    "    try:\n",
    "        if abs(data[i].corr(data['last_price'])) > 0.5:\n",
    "            print('корреляция между', i, 'и last_price', data[i].corr(data['last_price']))\n",
    "    except:\n",
    "        pass\n"
   ]
  },
  {
   "cell_type": "code",
   "execution_count": 53,
   "metadata": {},
   "outputs": [
    {
     "data": {
      "text/html": [
       "<div>\n",
       "<style scoped>\n",
       "    .dataframe tbody tr th:only-of-type {\n",
       "        vertical-align: middle;\n",
       "    }\n",
       "\n",
       "    .dataframe tbody tr th {\n",
       "        vertical-align: top;\n",
       "    }\n",
       "\n",
       "    .dataframe thead tr th {\n",
       "        text-align: left;\n",
       "    }\n",
       "\n",
       "    .dataframe thead tr:last-of-type th {\n",
       "        text-align: right;\n",
       "    }\n",
       "</style>\n",
       "<table border=\"1\" class=\"dataframe\">\n",
       "  <thead>\n",
       "    <tr>\n",
       "      <th></th>\n",
       "      <th>count</th>\n",
       "      <th>sum</th>\n",
       "    </tr>\n",
       "    <tr>\n",
       "      <th></th>\n",
       "      <th>last_price</th>\n",
       "      <th>last_price</th>\n",
       "    </tr>\n",
       "    <tr>\n",
       "      <th>ktfloor</th>\n",
       "      <th></th>\n",
       "      <th></th>\n",
       "    </tr>\n",
       "  </thead>\n",
       "  <tbody>\n",
       "    <tr>\n",
       "      <th>другой</th>\n",
       "      <td>16698</td>\n",
       "      <td>9.864820e+10</td>\n",
       "    </tr>\n",
       "    <tr>\n",
       "      <th>первый</th>\n",
       "      <td>2851</td>\n",
       "      <td>1.267593e+10</td>\n",
       "    </tr>\n",
       "    <tr>\n",
       "      <th>последний</th>\n",
       "      <td>3131</td>\n",
       "      <td>1.662231e+10</td>\n",
       "    </tr>\n",
       "  </tbody>\n",
       "</table>\n",
       "</div>"
      ],
      "text/plain": [
       "               count           sum\n",
       "          last_price    last_price\n",
       "ktfloor                           \n",
       "другой         16698  9.864820e+10\n",
       "первый          2851  1.267593e+10\n",
       "последний       3131  1.662231e+10"
      ]
     },
     "metadata": {},
     "output_type": "display_data"
    },
    {
     "data": {
      "text/html": [
       "<div>\n",
       "<style scoped>\n",
       "    .dataframe tbody tr th:only-of-type {\n",
       "        vertical-align: middle;\n",
       "    }\n",
       "\n",
       "    .dataframe tbody tr th {\n",
       "        vertical-align: top;\n",
       "    }\n",
       "\n",
       "    .dataframe thead tr th {\n",
       "        text-align: left;\n",
       "    }\n",
       "\n",
       "    .dataframe thead tr:last-of-type th {\n",
       "        text-align: right;\n",
       "    }\n",
       "</style>\n",
       "<table border=\"1\" class=\"dataframe\">\n",
       "  <thead>\n",
       "    <tr>\n",
       "      <th></th>\n",
       "      <th>median</th>\n",
       "      <th>mean</th>\n",
       "    </tr>\n",
       "    <tr>\n",
       "      <th></th>\n",
       "      <th>last_price</th>\n",
       "      <th>last_price</th>\n",
       "    </tr>\n",
       "    <tr>\n",
       "      <th>ktfloor</th>\n",
       "      <th></th>\n",
       "      <th></th>\n",
       "    </tr>\n",
       "  </thead>\n",
       "  <tbody>\n",
       "    <tr>\n",
       "      <th>другой</th>\n",
       "      <td>4700000.0</td>\n",
       "      <td>5.907785e+06</td>\n",
       "    </tr>\n",
       "    <tr>\n",
       "      <th>первый</th>\n",
       "      <td>3850000.0</td>\n",
       "      <td>4.446134e+06</td>\n",
       "    </tr>\n",
       "    <tr>\n",
       "      <th>последний</th>\n",
       "      <td>4190000.0</td>\n",
       "      <td>5.308947e+06</td>\n",
       "    </tr>\n",
       "  </tbody>\n",
       "</table>\n",
       "</div>"
      ],
      "text/plain": [
       "              median          mean\n",
       "          last_price    last_price\n",
       "ktfloor                           \n",
       "другой     4700000.0  5.907785e+06\n",
       "первый     3850000.0  4.446134e+06\n",
       "последний  4190000.0  5.308947e+06"
      ]
     },
     "metadata": {},
     "output_type": "display_data"
    }
   ],
   "source": [
    "#для наглядности составим сводную таблицу, чтобы посчитать кол-во квартир каждого типа (первый, последний, другой) и узнать их совокупные стоимости  \n",
    "display(data.pivot_table(index='ktfloor', values='last_price', aggfunc=['count','sum']))\n",
    "#в этой таблице мы уже посмотрим медианную и среднюю стоимость одной квартиры каждого типа\n",
    "display(data.pivot_table(index='ktfloor', values='last_price', aggfunc=['median','mean']))"
   ]
  },
  {
   "cell_type": "markdown",
   "metadata": {},
   "source": [
    "<div class=\"alert alert-block alert-danger\">\n",
    "<h2> Комментарий ревьюера V1<a class=\"tocSkip\"></h2>\n",
    "\n",
    "\n",
    "<b>На доработку🤔:</b>\n",
    "Аналогично и зависимости нужно описать, также дополни анализ коэффициентами корреляций, где это допустимо. \n",
    "    \n",
    "Также выведи альтернативные графики, которые я предложил выше.\n",
    "    \n",
    "Не увидел у тебя анализа между всеми параметрами, которые указаны в задании."
   ]
  },
  {
   "cell_type": "markdown",
   "metadata": {},
   "source": [
    "<div class=\"alert alert-success\">\n",
    "<h2> Комментарий ревьюера V3<a class=\"tocSkip\"> </h2>\n",
    "\n",
    "<b>Все отлично!👍:</b> Все верно доработал в этом пункте, молодец!"
   ]
  },
  {
   "cell_type": "code",
   "execution_count": 54,
   "metadata": {},
   "outputs": [
    {
     "data": {
      "image/png": "[encoded data removed]",
      "text/plain": [
       "<Figure size 432x288 with 1 Axes>"
      ]
     },
     "metadata": {
      "needs_background": "light"
     },
     "output_type": "display_data"
    },
    {
     "data": {
      "image/png": "[encoded data removed]",
      "text/plain": [
       "<Figure size 432x288 with 1 Axes>"
      ]
     },
     "metadata": {
      "needs_background": "light"
     },
     "output_type": "display_data"
    },
    {
     "data": {
      "image/png": "[encoded data removed]",
      "text/plain": [
       "<Figure size 432x288 with 1 Axes>"
      ]
     },
     "metadata": {
      "needs_background": "light"
     },
     "output_type": "display_data"
    },
    {
     "ename": "KeyError",
     "evalue": "'type_floor'",
     "output_type": "error",
     "traceback": [
      "\u001b[0;31m---------------------------------------------------------------------------\u001b[0m",
      "\u001b[0;31mKeyError\u001b[0m                                  Traceback (most recent call last)",
      "\u001b[0;32m/tmp/ipykernel_48/1715564209.py\u001b[0m in \u001b[0;36m<module>\u001b[0;34m\u001b[0m\n\u001b[1;32m     19\u001b[0m \u001b[0;34m\u001b[0m\u001b[0m\n\u001b[1;32m     20\u001b[0m \u001b[0;31m#составили сводную таблицу, в которой указаны медианные цены в зависимости от типа этажа. К этой таблице сделали график\u001b[0m\u001b[0;34m\u001b[0m\u001b[0;34m\u001b[0m\u001b[0;34m\u001b[0m\u001b[0m\n\u001b[0;32m---> 21\u001b[0;31m data.pivot_table(index='type_floor', values='last_price', aggfunc='median').plot(style='-', \n\u001b[0m\u001b[1;32m     22\u001b[0m                                             figsize=(15, 5), title='цена от типа этажа', grid=True)\n\u001b[1;32m     23\u001b[0m \u001b[0;34m\u001b[0m\u001b[0m\n",
      "\u001b[0;32m/opt/conda/lib/python3.9/site-packages/pandas/core/frame.py\u001b[0m in \u001b[0;36mpivot_table\u001b[0;34m(self, values, index, columns, aggfunc, fill_value, margins, dropna, margins_name, observed)\u001b[0m\n\u001b[1;32m   7029\u001b[0m         \u001b[0;32mfrom\u001b[0m \u001b[0mpandas\u001b[0m\u001b[0;34m.\u001b[0m\u001b[0mcore\u001b[0m\u001b[0;34m.\u001b[0m\u001b[0mreshape\u001b[0m\u001b[0;34m.\u001b[0m\u001b[0mpivot\u001b[0m \u001b[0;32mimport\u001b[0m \u001b[0mpivot_table\u001b[0m\u001b[0;34m\u001b[0m\u001b[0;34m\u001b[0m\u001b[0m\n\u001b[1;32m   7030\u001b[0m \u001b[0;34m\u001b[0m\u001b[0m\n\u001b[0;32m-> 7031\u001b[0;31m         return pivot_table(\n\u001b[0m\u001b[1;32m   7032\u001b[0m             \u001b[0mself\u001b[0m\u001b[0;34m,\u001b[0m\u001b[0;34m\u001b[0m\u001b[0;34m\u001b[0m\u001b[0m\n\u001b[1;32m   7033\u001b[0m             \u001b[0mvalues\u001b[0m\u001b[0;34m=\u001b[0m\u001b[0mvalues\u001b[0m\u001b[0;34m,\u001b[0m\u001b[0;34m\u001b[0m\u001b[0;34m\u001b[0m\u001b[0m\n",
      "\u001b[0;32m/opt/conda/lib/python3.9/site-packages/pandas/core/reshape/pivot.py\u001b[0m in \u001b[0;36mpivot_table\u001b[0;34m(data, values, index, columns, aggfunc, fill_value, margins, dropna, margins_name, observed)\u001b[0m\n\u001b[1;32m    110\u001b[0m         \u001b[0mvalues\u001b[0m \u001b[0;34m=\u001b[0m \u001b[0mlist\u001b[0m\u001b[0;34m(\u001b[0m\u001b[0mvalues\u001b[0m\u001b[0;34m)\u001b[0m\u001b[0;34m\u001b[0m\u001b[0;34m\u001b[0m\u001b[0m\n\u001b[1;32m    111\u001b[0m \u001b[0;34m\u001b[0m\u001b[0m\n\u001b[0;32m--> 112\u001b[0;31m     \u001b[0mgrouped\u001b[0m \u001b[0;34m=\u001b[0m \u001b[0mdata\u001b[0m\u001b[0;34m.\u001b[0m\u001b[0mgroupby\u001b[0m\u001b[0;34m(\u001b[0m\u001b[0mkeys\u001b[0m\u001b[0;34m,\u001b[0m \u001b[0mobserved\u001b[0m\u001b[0;34m=\u001b[0m\u001b[0mobserved\u001b[0m\u001b[0;34m)\u001b[0m\u001b[0;34m\u001b[0m\u001b[0;34m\u001b[0m\u001b[0m\n\u001b[0m\u001b[1;32m    113\u001b[0m     \u001b[0magged\u001b[0m \u001b[0;34m=\u001b[0m \u001b[0mgrouped\u001b[0m\u001b[0;34m.\u001b[0m\u001b[0magg\u001b[0m\u001b[0;34m(\u001b[0m\u001b[0maggfunc\u001b[0m\u001b[0;34m)\u001b[0m\u001b[0;34m\u001b[0m\u001b[0;34m\u001b[0m\u001b[0m\n\u001b[1;32m    114\u001b[0m     \u001b[0;32mif\u001b[0m \u001b[0mdropna\u001b[0m \u001b[0;32mand\u001b[0m \u001b[0misinstance\u001b[0m\u001b[0;34m(\u001b[0m\u001b[0magged\u001b[0m\u001b[0;34m,\u001b[0m \u001b[0mABCDataFrame\u001b[0m\u001b[0;34m)\u001b[0m \u001b[0;32mand\u001b[0m \u001b[0mlen\u001b[0m\u001b[0;34m(\u001b[0m\u001b[0magged\u001b[0m\u001b[0;34m.\u001b[0m\u001b[0mcolumns\u001b[0m\u001b[0;34m)\u001b[0m\u001b[0;34m:\u001b[0m\u001b[0;34m\u001b[0m\u001b[0;34m\u001b[0m\u001b[0m\n",
      "\u001b[0;32m/opt/conda/lib/python3.9/site-packages/pandas/core/frame.py\u001b[0m in \u001b[0;36mgroupby\u001b[0;34m(self, by, axis, level, as_index, sort, group_keys, squeeze, observed, dropna)\u001b[0m\n\u001b[1;32m   6715\u001b[0m         \u001b[0maxis\u001b[0m \u001b[0;34m=\u001b[0m \u001b[0mself\u001b[0m\u001b[0;34m.\u001b[0m\u001b[0m_get_axis_number\u001b[0m\u001b[0;34m(\u001b[0m\u001b[0maxis\u001b[0m\u001b[0;34m)\u001b[0m\u001b[0;34m\u001b[0m\u001b[0;34m\u001b[0m\u001b[0m\n\u001b[1;32m   6716\u001b[0m \u001b[0;34m\u001b[0m\u001b[0m\n\u001b[0;32m-> 6717\u001b[0;31m         return DataFrameGroupBy(\n\u001b[0m\u001b[1;32m   6718\u001b[0m             \u001b[0mobj\u001b[0m\u001b[0;34m=\u001b[0m\u001b[0mself\u001b[0m\u001b[0;34m,\u001b[0m\u001b[0;34m\u001b[0m\u001b[0;34m\u001b[0m\u001b[0m\n\u001b[1;32m   6719\u001b[0m             \u001b[0mkeys\u001b[0m\u001b[0;34m=\u001b[0m\u001b[0mby\u001b[0m\u001b[0;34m,\u001b[0m\u001b[0;34m\u001b[0m\u001b[0;34m\u001b[0m\u001b[0m\n",
      "\u001b[0;32m/opt/conda/lib/python3.9/site-packages/pandas/core/groupby/groupby.py\u001b[0m in \u001b[0;36m__init__\u001b[0;34m(self, obj, keys, axis, level, grouper, exclusions, selection, as_index, sort, group_keys, squeeze, observed, mutated, dropna)\u001b[0m\n\u001b[1;32m    558\u001b[0m             \u001b[0;32mfrom\u001b[0m \u001b[0mpandas\u001b[0m\u001b[0;34m.\u001b[0m\u001b[0mcore\u001b[0m\u001b[0;34m.\u001b[0m\u001b[0mgroupby\u001b[0m\u001b[0;34m.\u001b[0m\u001b[0mgrouper\u001b[0m \u001b[0;32mimport\u001b[0m \u001b[0mget_grouper\u001b[0m\u001b[0;34m\u001b[0m\u001b[0;34m\u001b[0m\u001b[0m\n\u001b[1;32m    559\u001b[0m \u001b[0;34m\u001b[0m\u001b[0m\n\u001b[0;32m--> 560\u001b[0;31m             grouper, exclusions, obj = get_grouper(\n\u001b[0m\u001b[1;32m    561\u001b[0m                 \u001b[0mobj\u001b[0m\u001b[0;34m,\u001b[0m\u001b[0;34m\u001b[0m\u001b[0;34m\u001b[0m\u001b[0m\n\u001b[1;32m    562\u001b[0m                 \u001b[0mkeys\u001b[0m\u001b[0;34m,\u001b[0m\u001b[0;34m\u001b[0m\u001b[0;34m\u001b[0m\u001b[0m\n",
      "\u001b[0;32m/opt/conda/lib/python3.9/site-packages/pandas/core/groupby/grouper.py\u001b[0m in \u001b[0;36mget_grouper\u001b[0;34m(obj, key, axis, level, sort, observed, mutated, validate, dropna)\u001b[0m\n\u001b[1;32m    809\u001b[0m                 \u001b[0min_axis\u001b[0m\u001b[0;34m,\u001b[0m \u001b[0mname\u001b[0m\u001b[0;34m,\u001b[0m \u001b[0mlevel\u001b[0m\u001b[0;34m,\u001b[0m \u001b[0mgpr\u001b[0m \u001b[0;34m=\u001b[0m \u001b[0;32mFalse\u001b[0m\u001b[0;34m,\u001b[0m \u001b[0;32mNone\u001b[0m\u001b[0;34m,\u001b[0m \u001b[0mgpr\u001b[0m\u001b[0;34m,\u001b[0m \u001b[0;32mNone\u001b[0m\u001b[0;34m\u001b[0m\u001b[0;34m\u001b[0m\u001b[0m\n\u001b[1;32m    810\u001b[0m             \u001b[0;32melse\u001b[0m\u001b[0;34m:\u001b[0m\u001b[0;34m\u001b[0m\u001b[0;34m\u001b[0m\u001b[0m\n\u001b[0;32m--> 811\u001b[0;31m                 \u001b[0;32mraise\u001b[0m \u001b[0mKeyError\u001b[0m\u001b[0;34m(\u001b[0m\u001b[0mgpr\u001b[0m\u001b[0;34m)\u001b[0m\u001b[0;34m\u001b[0m\u001b[0;34m\u001b[0m\u001b[0m\n\u001b[0m\u001b[1;32m    812\u001b[0m         \u001b[0;32melif\u001b[0m \u001b[0misinstance\u001b[0m\u001b[0;34m(\u001b[0m\u001b[0mgpr\u001b[0m\u001b[0;34m,\u001b[0m \u001b[0mGrouper\u001b[0m\u001b[0;34m)\u001b[0m \u001b[0;32mand\u001b[0m \u001b[0mgpr\u001b[0m\u001b[0;34m.\u001b[0m\u001b[0mkey\u001b[0m \u001b[0;32mis\u001b[0m \u001b[0;32mnot\u001b[0m \u001b[0;32mNone\u001b[0m\u001b[0;34m:\u001b[0m\u001b[0;34m\u001b[0m\u001b[0;34m\u001b[0m\u001b[0m\n\u001b[1;32m    813\u001b[0m             \u001b[0;31m# Add key to exclusions\u001b[0m\u001b[0;34m\u001b[0m\u001b[0;34m\u001b[0m\u001b[0;34m\u001b[0m\u001b[0m\n",
      "\u001b[0;31mKeyError\u001b[0m: 'type_floor'"
     ]
    },
    {
     "data": {
      "image/png": "[encoded data removed]",
      "text/plain": [
       "<Figure size 1080x360 with 1 Axes>"
      ]
     },
     "metadata": {
      "needs_background": "light"
     },
     "output_type": "display_data"
    }
   ],
   "source": [
    "#составили сводную таблицу, в которой указаны медианные цены в зависимости от жилой площади. К этой таблице сделали график\n",
    "\n",
    "sns.scatterplot(data = data, x = \"living_area\", y = \"last_price\")\n",
    "plt.show()\n",
    "\n",
    "#составили сводную таблицу, в которой указаны медианные цены в зависимости от общей площади. К этой таблице сделали график\n",
    "\n",
    "sns.scatterplot(data = data, x = \"total_area\", y = \"last_price\")\n",
    "plt.show()\n",
    "\n",
    "#составили сводную таблицу, в которой указаны медианные цены в зависимости от площади кухни. К этой таблице сделали график\n",
    "\n",
    "sns.scatterplot(data = data, x = \"kitchen_area\", y = \"last_price\")\n",
    "plt.show()\n",
    "\n",
    "#составили сводную таблицу, в которой указаны медианные цены в зависимости от кол-ва комнат. К этой таблице сделали график\n",
    "data.pivot_table(index='rooms', values='last_price', aggfunc='median').plot(style='-', \n",
    "                                            figsize=(15, 5), title='цена от кол-ва комнат', grid=True)\n",
    "\n",
    "#составили сводную таблицу, в которой указаны медианные цены в зависимости от типа этажа. К этой таблице сделали график\n",
    "data.pivot_table(index='type_floor', values='last_price', aggfunc='median').plot(style='-', \n",
    "                                            figsize=(15, 5), title='цена от типа этажа', grid=True)\n",
    "\n",
    "#составили сводную таблицу, в которой указаны медианные цены в зависимости от дня недели. К этой таблице сделали график\n",
    "data.pivot_table(index='day_of_week', values='last_price', aggfunc='median').plot(style='-', \n",
    "                                            figsize=(15, 5), title='цена от дня недели', grid=True)\n",
    "#составили сводную таблицу, в которой указаны медианные цены в зависимости от месяца продажи. К этой таблице сделали график\n",
    "data.pivot_table(index='month', values='last_price', aggfunc='median').plot(style='-', \n",
    "                                            figsize=(15, 5), title='цена от месяца продажи', grid=True)\n",
    "#составили сводную таблицу, в которой указаны медианные цены в зависимости от года продажи. К этой таблице сделали график\n",
    "data.pivot_table(index='year', values='last_price', aggfunc='median').plot(style='-', \n",
    "                                            figsize=(15, 5), title='цена от года продажи', grid=True)"
   ]
  },
  {
   "cell_type": "markdown",
   "metadata": {},
   "source": [
    "<div class=\"alert alert-warning\">\n",
    "<h2> Комментарий ревьюера V3<a class=\"tocSkip\"> </h2>\n",
    "\n",
    "<b>Некоторые замечания и рекомендации💡:</b> Выше у тебя не работает построение графика от типа этажа. Всегда проверяй работает ли весь проект."
   ]
  },
  {
   "cell_type": "code",
   "execution_count": 55,
   "metadata": {},
   "outputs": [
    {
     "name": "stdout",
     "output_type": "stream",
     "text": [
      "                   count  mean_price_square_meter\n",
      "locality_name                                    \n",
      "санкт-петербург    14834            111175.314385\n",
      "поселок мурино       552             85682.989444\n",
      "поселок шушары       436             78681.573700\n",
      "всеволожск           390             68466.169802\n",
      "пушкин               346            101675.757065\n",
      "колпино              333             75350.495104\n",
      "поселок парголово    325             90139.730553\n",
      "гатчина              304             68561.385621\n",
      "деревня кудрово      291             92785.715011\n",
      "выборг               229             57929.184205\n"
     ]
    }
   ],
   "source": [
    "best_count= data.groupby('locality_name').agg(\n",
    "                                                  count=('locality_name', 'count'),\n",
    "                                                  mean_price_square_meter=('price_metr', 'mean')) \n",
    "best_count.sort_values(by='count', ascending=False, inplace = True)\n",
    "best_ten = best_count.iloc[:10]\n",
    "print(best_ten)"
   ]
  },
  {
   "cell_type": "code",
   "execution_count": 56,
   "metadata": {},
   "outputs": [
    {
     "name": "stdout",
     "output_type": "stream",
     "text": [
      "санкт-петербург - населенный пункт с самой высокой стоимостью кв. м.\n",
      "выборг - населенный пункт с самой низкой стоимостью кв. м.\n"
     ]
    }
   ],
   "source": [
    "print('{:s} - населенный пункт с самой высокой стоимостью кв. м.'.format(best_ten.nlargest(1, 'mean_price_square_meter').index.to_list()[0]))\n",
    "print('{:s} - населенный пункт с самой низкой стоимостью кв. м.'.format(best_ten.nsmallest(1, 'mean_price_square_meter').index.to_list()[0]))"
   ]
  },
  {
   "cell_type": "markdown",
   "metadata": {},
   "source": [
    "<div class=\"alert alert-success\">\n",
    "<h2> Комментарий ревьюера V1<a class=\"tocSkip\"> </h2>\n",
    "\n",
    "<b>Все отлично!👍:</b> Именно так, самые дорогие квартиры в СПб, а дешевые в Выборге."
   ]
  },
  {
   "cell_type": "code",
   "execution_count": 57,
   "metadata": {},
   "outputs": [],
   "source": [
    "data['center_distance'] = data['cityCenters_nearest']//1000"
   ]
  },
  {
   "cell_type": "code",
   "execution_count": 58,
   "metadata": {},
   "outputs": [
    {
     "data": {
      "text/html": [
       "<div>\n",
       "<style scoped>\n",
       "    .dataframe tbody tr th:only-of-type {\n",
       "        vertical-align: middle;\n",
       "    }\n",
       "\n",
       "    .dataframe tbody tr th {\n",
       "        vertical-align: top;\n",
       "    }\n",
       "\n",
       "    .dataframe thead th {\n",
       "        text-align: right;\n",
       "    }\n",
       "</style>\n",
       "<table border=\"1\" class=\"dataframe\">\n",
       "  <thead>\n",
       "    <tr style=\"text-align: right;\">\n",
       "      <th></th>\n",
       "      <th>last_price</th>\n",
       "    </tr>\n",
       "    <tr>\n",
       "      <th>center_distance</th>\n",
       "      <th></th>\n",
       "    </tr>\n",
       "  </thead>\n",
       "  <tbody>\n",
       "    <tr>\n",
       "      <th>0.0</th>\n",
       "      <td>1.408404e+07</td>\n",
       "    </tr>\n",
       "    <tr>\n",
       "      <th>1.0</th>\n",
       "      <td>1.191326e+07</td>\n",
       "    </tr>\n",
       "    <tr>\n",
       "      <th>2.0</th>\n",
       "      <td>1.168472e+07</td>\n",
       "    </tr>\n",
       "    <tr>\n",
       "      <th>3.0</th>\n",
       "      <td>9.977221e+06</td>\n",
       "    </tr>\n",
       "    <tr>\n",
       "      <th>4.0</th>\n",
       "      <td>1.071975e+07</td>\n",
       "    </tr>\n",
       "    <tr>\n",
       "      <th>5.0</th>\n",
       "      <td>1.089423e+07</td>\n",
       "    </tr>\n",
       "    <tr>\n",
       "      <th>6.0</th>\n",
       "      <td>1.121192e+07</td>\n",
       "    </tr>\n",
       "    <tr>\n",
       "      <th>7.0</th>\n",
       "      <td>9.568143e+06</td>\n",
       "    </tr>\n",
       "    <tr>\n",
       "      <th>8.0</th>\n",
       "      <td>7.682172e+06</td>\n",
       "    </tr>\n",
       "    <tr>\n",
       "      <th>9.0</th>\n",
       "      <td>6.133306e+06</td>\n",
       "    </tr>\n",
       "    <tr>\n",
       "      <th>10.0</th>\n",
       "      <td>5.920320e+06</td>\n",
       "    </tr>\n",
       "    <tr>\n",
       "      <th>11.0</th>\n",
       "      <td>5.735396e+06</td>\n",
       "    </tr>\n",
       "    <tr>\n",
       "      <th>12.0</th>\n",
       "      <td>5.833242e+06</td>\n",
       "    </tr>\n",
       "    <tr>\n",
       "      <th>13.0</th>\n",
       "      <td>5.810505e+06</td>\n",
       "    </tr>\n",
       "    <tr>\n",
       "      <th>14.0</th>\n",
       "      <td>5.487240e+06</td>\n",
       "    </tr>\n",
       "  </tbody>\n",
       "</table>\n",
       "</div>"
      ],
      "text/plain": [
       "                   last_price\n",
       "center_distance              \n",
       "0.0              1.408404e+07\n",
       "1.0              1.191326e+07\n",
       "2.0              1.168472e+07\n",
       "3.0              9.977221e+06\n",
       "4.0              1.071975e+07\n",
       "5.0              1.089423e+07\n",
       "6.0              1.121192e+07\n",
       "7.0              9.568143e+06\n",
       "8.0              7.682172e+06\n",
       "9.0              6.133306e+06\n",
       "10.0             5.920320e+06\n",
       "11.0             5.735396e+06\n",
       "12.0             5.833242e+06\n",
       "13.0             5.810505e+06\n",
       "14.0             5.487240e+06"
      ]
     },
     "metadata": {},
     "output_type": "display_data"
    },
    {
     "data": {
      "text/plain": [
       "<AxesSubplot:title={'center':'цена от площади кухни'}, xlabel='center_distance'>"
      ]
     },
     "execution_count": 58,
     "metadata": {},
     "output_type": "execute_result"
    },
    {
     "data": {
      "image/png": "[encoded data removed]",
      "text/plain": [
       "<Figure size 1080x360 with 1 Axes>"
      ]
     },
     "metadata": {
      "needs_background": "light"
     },
     "output_type": "display_data"
    }
   ],
   "source": [
    "#выведем все строки из датафрейма с локацией СПб, и затем составим сводную таблицу по расстоянию и увидим цены в зависимости от удалённости от центра\n",
    "display(data.loc[data['locality_name'] == 'санкт-петербург'].pivot_table(index='center_distance', values='last_price', \n",
    "                                                                   aggfunc='mean').head(15))\n",
    "data.loc[data['locality_name'] == 'санкт-петербург'].pivot_table(index='center_distance', values='last_price', \n",
    "                aggfunc='mean').plot(style='-', figsize=(15, 5), title='цена от площади кухни', grid=True)"
   ]
  },
  {
   "cell_type": "markdown",
   "metadata": {},
   "source": [
    "<div class=\"alert alert-block alert-danger\">\n",
    "<h2> Комментарий ревьюера V1<a class=\"tocSkip\"></h2>\n",
    "\n",
    "\n",
    "<b>На доработку🤔:</b>\n",
    "Ты забыл привести расстояние до центра города в километры.\n",
    "    \n",
    "Задание сформулировано иначе, нужно вывести зависимость стоимости квадратного метра от цены квартиры. Ты создал дополнительный параметр, по которому нужно сгруппировать данные."
   ]
  },
  {
   "cell_type": "markdown",
   "metadata": {},
   "source": [
    "<div class=\"alert alert-success\">\n",
    "<h2> Комментарий ревьюера V3<a class=\"tocSkip\"> </h2>\n",
    "\n",
    "<b>Все отлично!👍:</b> И снова все верно доработал, продолжай в том же духе!"
   ]
  },
  {
   "cell_type": "markdown",
   "metadata": {},
   "source": [
    "Мы прошлись прошлись по всем столбцам и сравили их корреляцию с ценой. На экран были выведены данные имеющие корреляцию от 0,5. Таким образом, мы увидели, что у цены есть прямая корреляция с такими столбцами: общая площадь(0,65), жилая площадь(0,55), кухонная площадь(0,52) и стоимость квадратного метра(0,736).\n",
    "\n",
    "Была составлена сводная таблица по типам этажей квартир и найдена средняя и медианная цена за одну квартиру каждого типа. Таким образом, мы можем сказать, что \"певрые\" этажи у нас самые дешевые, а самые дорогие находятся в категории \"другие\". Мы опирались на данные по медиане, так как в ценах большие разлёты и смотреть по средней будет не так точно.\n",
    "\n",
    "Так же были составлены таблицы для выведения зависимости конечной цены от дня недели, месяца и года публикации. Мы видим, что средние и медианные значения сильно отличаются, поэтому будем опираться на медиану. В категори \"день недели\" и \"месяц\" мы не наблюдаем особой зависимости, так как цена примерно одинаковая. А вот в категори \"год\" мы замечаем пик 7,64 млн рублей в 2014 году, затем плавный спад до 4,5 млн рублей в 2017 году, и после этого плавный рост к последнему значению 2019 год 5,05 млн рублей\n"
   ]
  },
  {
   "cell_type": "markdown",
   "metadata": {},
   "source": [
    "\n",
    "Была составлена сводная таблица по типам этажей квартир и найдена средняя и медианная цена за одну квартиру каждого типа. Таким образом, мы можем сказать, что \"певрые\" этажи у нас самые дешевые, а самые дорогие находятся в категории \"другие\". Мы опирались на данные по медиане, так как в ценах большие разлёты и смотреть по средней будет не так точно.\n",
    "\n",
    "Так же были составлены таблицы для выведения зависимости конечной цены от дня недели, месяца и года публикации. Мы видим, что средние и медианные значения сильно отличаются, поэтому будем опираться на медиану. В категори \"день недели\" и \"месяц\" мы не наблюдаем особой зависимости, так как цена примерно одинаковая. Цены по годам меняются достигая наибольшего значения в 2017 году.\n",
    "\n",
    "Для наглядности, были составлены графики вышеперечисленных столбцов от конечной цены:\n",
    "\n",
    "еще раз удалось увидеть корреляцию цены от живой площади\n",
    "еще сильнее наблюдается корреляция цены от общей площади\n",
    "так же мы видим прямую зависимость между ценой и такими столбцами как площадь кухни и кол-во комнат\n",
    "касательно типа этажа график подтвердил наш предущий вывод с тем, что \"первые\" этажи самые дешевые, а самые дорогие находятся в категории \"другие\"\n",
    "в графике цена от дня недели показало, что медианные цены в пятницу, субботу и воскресенье были самые низкие, а вот вторник среда - наоборот имели самые высокие показатели\n",
    "в графике цена от месяца мы увидели провал по ценам на 5-6 месяц, и наоборот их пик на 4 месяц\n",
    "\n",
    "Вывели 10 локаций по наибольшему числу объявлений. Больше всего их конечно же в СПб, а замыкает эту десятку - Выборг.\n",
    "Вывели все строки из датафрейма с локацией СПб, и затем составили сводную таблицу по расстоянию и посмотрели цены в зависимости от удалённости от центра. На всякий случай составили график по этой таблице. Из этих данных мы увидели обратную корреляцию, то есть: для СПб чем дальше квартира от центра, тем ниже цена"
   ]
  },
  {
   "cell_type": "markdown",
   "metadata": {},
   "source": [
    "<div class=\"alert alert-warning\">\n",
    "<h2> Комментарий ревьюера V1<a class=\"tocSkip\"> </h2>\n",
    "\n",
    "<b>Некоторые замечания и рекомендации💡:</b> Еще раз проанализируй зависимость после того, как корректно произведешь расчеты."
   ]
  },
  {
   "cell_type": "markdown",
   "metadata": {},
   "source": [
    "### Общий вывод"
   ]
  },
  {
   "cell_type": "markdown",
   "metadata": {},
   "source": []
  },
  {
   "cell_type": "markdown",
   "metadata": {},
   "source": [
    "Из полученного дата сета мы выполнили предобработку данных и изучили, чтобы найти интересные особенности и зависимости, которые существуют на рынке недвижимости. Мы заполнили недостающие данные в пропусках там, где могли. Где-то мы просто удалили эти данные, а где-то оставили как есть. Можно сделать вывод, что данный этап очень важен, так как он очень сильно влияет на дальнейшие показатели и графики, в связи с чем приходилось не раз возвращаться в начало и смотреть, как по-другому быть с пропусками, чтобы это не отразилось на наших выводах. С неявными дублями было немного проще, поэтому с ними справились быстро.\n",
    "\n",
    "Далее мы добавили во фрейм новые столбцы, которые упростят получение нужных выводов. После чего мы вывели 5 первых строк, чтобы убедиться в корректности нашего кода.\n",
    "\n",
    "Для всех столбцов задали гистограммы, чтобы изучить объекты. Так же вызвали метод дискрайб для более детального изучения. В некоторых данных из-за большого разлёта данных было решено сделать более детальные приближенные гистограммы для рассмотрения пиков.\n",
    "\n",
    "общая площадь имеет пик на гистограмме 42-45 км. м. Максимальное значение мы ограничили 217 метрами, минимальное - 12, но из общей гисты - они единичны\n",
    "жилая площадь имеет два пика 17-18 кв. м и 30 кв. м.\n",
    "Кухонная площадь имеет небольшое кол-во нулевых значений - скорее всего это студии. Пик имеется на 6 кв. м и на 10 кв. м.\n",
    "Цена на момент снятия публикации. Здесь было немного сложнее и ориентировался больше по дискрайбу. Максимальная цена 763 млн, а минимальная 1,22 млн. Средняя цена (6,5 млн) и медианная цена (4,65) существенно различаются изза наличие огромных ценников (скорее всего коттеджи). Пользуясь этими данными сделали гистограмму увеличенного вида для просмотров пика. Пики на 4 млн рублей и 3,7 млн рублей.\n",
    "Двушки и трёшки встречаются у нас чаще остальных. за ними идут однушки. 4х, 5и, 6и комнатные встречаются реже. Максимальное кол-во - 19\n",
    "высота потолков имеет свой пик на гистограмме на уровне 2,75 м. Минимум - 2,2 метра, максимум 5 (выше 5 удаляли)\n",
    "по этажам пики у нас имеют квартиры на 1-5 этажах, квартир в продаже на других этажах замечается на порядок меньше\n",
    "по типажу этажей \"первый\" и \"последний\" типы занимают примерно 12,5% от общего числа, что в принципе логично\n",
    "больше всего у нас на гистограмме наблюдается 5 и 8 этажных простроек, максимальное число этажей - 60, минимальное - 1.\n",
    "расстояние от центра чаще всего встречается на 13-14 и 16 км по гистограмме. Пик в районе нуля не берем в расчёт. Максимальное расстояние до цента 66 км\n",
    "расстояние до аэропорта имеет большой разброс, однако среднее и медиана почти совпадают на 22 км. Пик в районе 0 не учитываем. Максимальное расстояние 84 км\n",
    "расстояние до парка у нас на гистограмме имеет пик 500 метров\n",
    "публикации были сделаны почти равномерно в каждый день недели за исключением субботы и воскресенья, в эти дни было меньше публикаций\n",
    "больше всего публикаций было сделано в феврале, марте, апреле и декабре. Однако разница с другими месяцами не столь отлична (кроме месяцев января и мая, в эти месяцы был заметный спад)\n",
    "далее мы изучили колличество дней публикаций. Пики были обнаружены на 47 и 56 днях.  В среднем объявление висит 156 дней. Медианное значение 73 дня. \n",
    "\n",
    "\n",
    "Была составлена сводная таблица по типам этажей квартир и найдена средняя и медианная цена за одну квартиру каждого типа. Таким образом, мы можем сказать, что \"певрые\" этажи у нас самые дешевые, а самые дорогие находятся в категории \"другие\". Мы опирались на данные по медиане, так как в ценах большие разлёты и смотреть по средней будет не так точно.\n",
    "\n",
    "Так же были составлены таблицы для выведения зависимости конечной цены от дня недели, месяца и года публикации. Мы видим, что средние и медианные значения сильно отличаются, поэтому будем опираться на медиану. В категори \"день недели\" и \"месяц\" мы не наблюдаем особой зависимости, так как цена примерно одинаковая. А вот в категори \"год\" мы замечаем пик 7,64 млн рублей в 2014 году, затем плавный спад до 4,5 млн рублей в 2017 году, и после этого плавный рост к последнему значению 2019 год 5,05 млн рублей\n",
    "\n",
    "Для наглядности, были составлены графики вышеперечисленных столбцов от конечной цены:\n",
    "\n",
    "еще раз удалось увидеть корреляцию цены от живой площади\n",
    "еще сильнее наблюдается корреляция цены от общей площади\n",
    "так же мы видим прямую зависимость между ценой и такими столбцами как площадь кухни и кол-во комнат\n",
    "касательно типа этажа график подтвердил наш предущий вывод с тем, что \"первые\" этажи самые дешевые, а самые дорогие находятся в категории \"другие\"\n",
    "в графике цена от дня недели показало, что медианные цены в пятницу, субботу и воскресенье были самые низкие, а вот вторник среда - наоборот имели самые высокие показатели\n",
    "в графике цена от месяца мы увидели провал по ценам на 5-6 месяц, и наоборот их пик на 4 месяц\n",
    "\n",
    "Вывели 10 локаций по наибольшему числу объявлений. Больше всего их конечно же в СПб, а замыкает эту десятку - Выборг. \n",
    "\n",
    "Вывели все строки из датафрейма с локацией СПб, и затем составили сводную таблицу по расстоянию и посмотрели цены в зависимости от удалённости от центра. На всякий случай составили график по этой таблице. Из этих данных мы увидели обратную корреляцию, то есть: для СПб чем дальше квартира от центра, тем ниже цена\n",
    "\n",
    "По итогу мы можем сделать вывод, что цена за квартиру у нас многофакторная, она сильно зависит от населенного пункта, в больших населенных пунктах она так же будет зависеть от расстояния до центра. Основная же зависимость цены будет у нас от таких параметров, как: общая площадь, жилая площадь, площадь кухни, кол-во комнат"
   ]
  },
  {
   "cell_type": "markdown",
   "metadata": {},
   "source": [
    "<div class=\"alert alert-warning\">\n",
    "<h2> Комментарий ревьюера V1<a class=\"tocSkip\"> </h2>\n",
    "\n",
    "<b>Некоторые замечания и рекомендации💡:</b> В итоговом выводе нужно достаточно подробно написать основные пункты выявленных зависимостей. Стоит доработать вывод с учетом моих комментариев по ходу работы. В итоговом выводе также старайся оставлять рекомендации для последующих шагов. Например рекомендации, что можно обработать и проанализировать другие признаки, на что твоим коллегам стоить обратить внимание."
   ]
  },
  {
   "cell_type": "markdown",
   "metadata": {},
   "source": [
    "<div class=\"alert alert-success\">\n",
    "<h2> Комментарий ревьюера V3<a class=\"tocSkip\"> </h2>\n",
    "\n",
    "<b>Все отлично!👍:</b> Отличный вывод, все четко, понятно и структурировано. Вывод в полной мере отражает существующие зависимости, и по нему можно принимать дальнейшие решения.\n",
    "</div>"
   ]
  },
  {
   "cell_type": "markdown",
   "metadata": {},
   "source": [
    "**Чек-лист готовности проекта**\n",
    "\n",
    "Поставьте 'x' в выполненных пунктах. Далее нажмите Shift+Enter."
   ]
  },
  {
   "cell_type": "markdown",
   "metadata": {},
   "source": [
    "- [x]  открыт файл\n",
    "- [x]  файлы изучены (выведены первые строки, метод `info()`, гистограммы и т.д.)\n",
    "- [x]  определены пропущенные значения\n",
    "- [x]  заполнены пропущенные значения там, где это возможно\n",
    "- [x]  есть пояснение, какие пропущенные значения обнаружены\n",
    "- [x]  изменены типы данных\n",
    "- [x]  есть пояснение, в каких столбцах изменены типы и почему\n",
    "- [x]  устранены неявные дубликаты в названиях населённых пунктов\n",
    "- [x]  устранены редкие и выбивающиеся значения (аномалии) во всех столбцах\n",
    "- [x]  посчитано и добавлено в таблицу: цена одного квадратного метра\n",
    "- [x]  посчитано и добавлено в таблицу: день публикации объявления (0 - понедельник, 1 - вторник и т.д.)\n",
    "- [x]  посчитано и добавлено в таблицу: месяц публикации объявления\n",
    "- [x]  посчитано и добавлено в таблицу: год публикации объявления\n",
    "- [x]  посчитано и добавлено в таблицу: тип этажа квартиры (значения — «первый», «последний», «другой»)\n",
    "- [x]  посчитано и добавлено в таблицу: расстояние в км до центра города\n",
    "- [x]  изучены и описаны следующие параметры:\n",
    "        - общая площадь;\n",
    "        - жилая площадь;\n",
    "        - площадь кухни;\n",
    "        - цена объекта;\n",
    "        - количество комнат;\n",
    "        - высота потолков;\n",
    "        - этаж квартиры;\n",
    "        - тип этажа квартиры («первый», «последний», «другой»);x\n",
    "        - общее количество этажей в доме;\n",
    "        - расстояние до центра города в метрах;\n",
    "        - расстояние до ближайшего аэропорта;\n",
    "        - расстояние до ближайшего парка;\n",
    "        - день и месяц публикации объявления\n",
    "- [x]  построены гистограммы для каждого параметра\n",
    "- [x]  выполнено задание: \"Изучите, как быстро продавались квартиры (столбец days_exposition). Этот параметр показывает, сколько дней «висело» каждое объявление.\n",
    "    - Постройте гистограмму.\n",
    "    - Посчитайте среднее и медиану.\n",
    "    - В ячейке типа markdown опишите, сколько обычно занимает продажа. Какие продажи можно считать быстрыми, а какие — необычно долгими?\"\n",
    "- [x]  выполнено задание: \"Какие факторы больше всего влияют на общую (полную) стоимость объекта? Постройте графики, которые покажут зависимость цены от указанных ниже параметров. Для подготовки данных перед визуализацией вы можете использовать сводные таблицы.\"\n",
    "        - общей площади;\n",
    "        - жилой площади;\n",
    "        - площади кухни;\n",
    "        - количество комнат;\n",
    "        - типа этажа, на котором расположена квартира (первый, последний, другой);\n",
    "        - даты размещения (день недели, месяц, год);\n",
    "- [x]  выполнено задание: \"Посчитайте среднюю цену одного квадратного метра в 10 населённых пунктах с наибольшим числом объявлений. Выделите населённые пункты с самой высокой и низкой стоимостью квадратного метра. Эти данные можно найти по имени в столбце `locality_name`.\"\n",
    "- [x]  выполнено задание: \"Ранее вы посчитали расстояние до центра в километрах. Теперь выделите квартиры в Санкт-Петербурге с помощью столбца `locality_name` и вычислите среднюю цену каждого километра. Опишите, как стоимость объектов зависит от расстояния до центра города.\"\n",
    "- [x]  в каждом этапе есть промежуточные выводы\n",
    "- [x]  есть общий вывод"
   ]
  },
  {
   "cell_type": "markdown",
   "metadata": {},
   "source": [
    "<div style=\"border:solid Chocolate 2px; padding: 40px\">\n",
    "\n",
    "**Общий вывод по проекту**\n",
    "\n",
    "Спасибо за твой проект! Я уверен, что ты приложил все усилия, чтобы сделать этот проект. Это видно по твоей работе, а сформулированные выводы отражают, насколько успешно ты осваиваешь материал.\n",
    "\n",
    "**Отмечу отдельные положительные моменты проекта🙂**:\n",
    "\n",
    "* Ты полностью следовал всем этапам выполнения задания и справился почти со всем. Хорошая работа!\n",
    "* Отдельно выделю некоторые выводы, которые ты смог сформулировать абсолютно точно!\n",
    "* У тебя опрятный и читаемый код. Возможно это звучит банально, однако при работе с чужим кодом это крайне важно)\n",
    "\n",
    "\n",
    "**На что стоит обратить внимание🤓**:\n",
    "\n",
    "* Важно доработать итоговый вывод.\n",
    "* Нужно корректно обработать все признаки.\n",
    "* Проведи подробный анализ параметров квартиры и проанализируй зависимости между параметрами.\n",
    "* Остальные рекомендации ты найдешь в моих комментариях!\n",
    "\n",
    "\n",
    "**Желаю удачи и жду твой проект на повторное ревью!**😉"
   ]
  },
  {
   "cell_type": "markdown",
   "metadata": {},
   "source": [
    "<div style=\"border:solid Chocolate 2px; padding: 40px\">\n",
    "\n",
    "Ты отлично справился с данной работой! Видно, как ты успешно осваиваешь материал, применяешь полученные знания на практике. Мне было очень приятно проверять твою работу, надеюсь, мои комментарии и советы были для тебя полезными.\n",
    "\n",
    "**Желаю удачи в последующем обучении и исследованиях!**😉"
   ]
  },
  {
   "cell_type": "code",
   "execution_count": null,
   "metadata": {},
   "outputs": [],
   "source": []
  }
 ],
 "metadata": {
  "ExecuteTimeLog": [
   {
    "duration": 420,
    "start_time": "2023-01-28T11:26:56.679Z"
   },
   {
    "duration": 332,
    "start_time": "2023-01-28T11:27:22.349Z"
   },
   {
    "duration": 14,
    "start_time": "2023-01-28T11:27:30.990Z"
   },
   {
    "duration": 124,
    "start_time": "2023-01-28T11:27:52.130Z"
   },
   {
    "duration": 112,
    "start_time": "2023-01-28T11:28:16.297Z"
   },
   {
    "duration": 41,
    "start_time": "2023-01-28T11:28:19.069Z"
   },
   {
    "duration": 14,
    "start_time": "2023-01-28T11:28:32.911Z"
   },
   {
    "duration": 2274,
    "start_time": "2023-01-28T11:29:14.934Z"
   },
   {
    "duration": 15,
    "start_time": "2023-01-28T11:31:15.025Z"
   },
   {
    "duration": 71,
    "start_time": "2023-01-28T11:34:26.716Z"
   },
   {
    "duration": 72,
    "start_time": "2023-01-28T11:35:35.052Z"
   },
   {
    "duration": 8,
    "start_time": "2023-01-28T11:35:40.272Z"
   },
   {
    "duration": 5,
    "start_time": "2023-01-28T11:37:08.892Z"
   },
   {
    "duration": 7,
    "start_time": "2023-01-28T12:36:17.751Z"
   },
   {
    "duration": 11,
    "start_time": "2023-01-28T12:36:35.659Z"
   },
   {
    "duration": 12,
    "start_time": "2023-01-28T12:36:52.746Z"
   },
   {
    "duration": 84,
    "start_time": "2023-01-28T12:44:19.021Z"
   },
   {
    "duration": 21,
    "start_time": "2023-01-28T12:44:35.781Z"
   },
   {
    "duration": 17,
    "start_time": "2023-01-28T12:49:03.765Z"
   },
   {
    "duration": 19,
    "start_time": "2023-01-28T12:49:15.288Z"
   },
   {
    "duration": 11,
    "start_time": "2023-01-28T12:57:59.322Z"
   },
   {
    "duration": 8,
    "start_time": "2023-01-28T13:01:53.378Z"
   },
   {
    "duration": 2,
    "start_time": "2023-01-28T13:04:29.144Z"
   },
   {
    "duration": 93,
    "start_time": "2023-01-28T13:04:53.904Z"
   },
   {
    "duration": 7,
    "start_time": "2023-01-28T13:06:53.846Z"
   },
   {
    "duration": 8,
    "start_time": "2023-01-28T13:07:14.964Z"
   },
   {
    "duration": 6,
    "start_time": "2023-01-28T13:07:23.704Z"
   },
   {
    "duration": 6,
    "start_time": "2023-01-28T13:13:45.608Z"
   },
   {
    "duration": 10,
    "start_time": "2023-01-28T13:18:55.858Z"
   },
   {
    "duration": 8,
    "start_time": "2023-01-28T13:19:25.183Z"
   },
   {
    "duration": 9,
    "start_time": "2023-01-28T13:19:42.013Z"
   },
   {
    "duration": 8,
    "start_time": "2023-01-28T13:20:23.349Z"
   },
   {
    "duration": 10,
    "start_time": "2023-01-28T13:20:47.088Z"
   },
   {
    "duration": 9,
    "start_time": "2023-01-28T13:22:23.126Z"
   },
   {
    "duration": 9,
    "start_time": "2023-01-28T13:23:38.046Z"
   },
   {
    "duration": 10,
    "start_time": "2023-01-28T13:23:44.718Z"
   },
   {
    "duration": 13,
    "start_time": "2023-01-28T13:26:38.501Z"
   },
   {
    "duration": 8,
    "start_time": "2023-01-28T13:26:48.713Z"
   },
   {
    "duration": 11,
    "start_time": "2023-01-28T13:27:34.169Z"
   },
   {
    "duration": 12,
    "start_time": "2023-01-28T13:28:26.800Z"
   },
   {
    "duration": 101,
    "start_time": "2023-01-28T13:29:35.798Z"
   },
   {
    "duration": 119,
    "start_time": "2023-01-28T13:29:48.492Z"
   },
   {
    "duration": 9,
    "start_time": "2023-01-28T13:33:36.099Z"
   },
   {
    "duration": 10,
    "start_time": "2023-01-28T13:34:10.132Z"
   },
   {
    "duration": 2,
    "start_time": "2023-01-28T13:35:55.330Z"
   },
   {
    "duration": 9,
    "start_time": "2023-01-28T13:36:10.603Z"
   },
   {
    "duration": 111,
    "start_time": "2023-01-28T13:37:09.838Z"
   },
   {
    "duration": 105,
    "start_time": "2023-01-28T13:37:35.807Z"
   },
   {
    "duration": 105,
    "start_time": "2023-01-28T13:37:52.826Z"
   },
   {
    "duration": 2,
    "start_time": "2023-01-28T13:39:51.240Z"
   },
   {
    "duration": 8,
    "start_time": "2023-01-28T13:41:12.862Z"
   },
   {
    "duration": 12,
    "start_time": "2023-01-28T13:42:51.513Z"
   },
   {
    "duration": 10,
    "start_time": "2023-01-28T13:45:13.864Z"
   },
   {
    "duration": 116,
    "start_time": "2023-01-28T13:45:17.880Z"
   },
   {
    "duration": 117,
    "start_time": "2023-01-28T13:46:10.549Z"
   },
   {
    "duration": 197,
    "start_time": "2023-01-28T13:52:09.032Z"
   },
   {
    "duration": 13,
    "start_time": "2023-01-28T14:06:17.991Z"
   },
   {
    "duration": 12,
    "start_time": "2023-01-28T14:47:34.684Z"
   },
   {
    "duration": 8,
    "start_time": "2023-01-28T14:48:33.981Z"
   },
   {
    "duration": 98,
    "start_time": "2023-01-28T14:54:04.737Z"
   },
   {
    "duration": 8,
    "start_time": "2023-01-28T14:55:34.745Z"
   },
   {
    "duration": 14,
    "start_time": "2023-01-28T14:58:30.779Z"
   },
   {
    "duration": 8,
    "start_time": "2023-01-28T14:59:02.164Z"
   },
   {
    "duration": 110,
    "start_time": "2023-01-28T14:59:04.729Z"
   },
   {
    "duration": 13,
    "start_time": "2023-01-28T14:59:15.729Z"
   },
   {
    "duration": 8,
    "start_time": "2023-01-28T14:59:25.653Z"
   },
   {
    "duration": 13,
    "start_time": "2023-01-28T14:59:28.829Z"
   },
   {
    "duration": 7,
    "start_time": "2023-01-28T15:01:09.961Z"
   },
   {
    "duration": 90,
    "start_time": "2023-01-28T15:01:15.169Z"
   },
   {
    "duration": 105,
    "start_time": "2023-01-28T15:01:24.829Z"
   },
   {
    "duration": 13,
    "start_time": "2023-01-28T15:01:35.692Z"
   },
   {
    "duration": 775,
    "start_time": "2023-01-31T15:08:03.708Z"
   },
   {
    "duration": 323,
    "start_time": "2023-01-31T15:08:04.485Z"
   },
   {
    "duration": 23,
    "start_time": "2023-01-31T15:08:04.810Z"
   },
   {
    "duration": 2084,
    "start_time": "2023-01-31T15:08:04.835Z"
   },
   {
    "duration": 15,
    "start_time": "2023-01-31T15:08:06.921Z"
   },
   {
    "duration": 97,
    "start_time": "2023-01-31T15:08:06.938Z"
   },
   {
    "duration": 6,
    "start_time": "2023-01-31T15:08:07.037Z"
   },
   {
    "duration": 29,
    "start_time": "2023-01-31T15:08:07.045Z"
   },
   {
    "duration": 123,
    "start_time": "2023-01-31T15:08:07.075Z"
   },
   {
    "duration": 6,
    "start_time": "2023-01-31T15:08:07.200Z"
   },
   {
    "duration": 27,
    "start_time": "2023-01-31T15:08:07.208Z"
   },
   {
    "duration": 16,
    "start_time": "2023-01-31T15:08:07.236Z"
   },
   {
    "duration": 126,
    "start_time": "2023-01-31T15:08:07.254Z"
   },
   {
    "duration": 118,
    "start_time": "2023-01-31T15:08:07.382Z"
   },
   {
    "duration": 14,
    "start_time": "2023-01-31T15:08:07.501Z"
   },
   {
    "duration": 14,
    "start_time": "2023-01-31T15:08:07.517Z"
   },
   {
    "duration": 118,
    "start_time": "2023-01-31T15:08:07.533Z"
   },
   {
    "duration": 20,
    "start_time": "2023-01-31T15:08:07.652Z"
   },
   {
    "duration": 25,
    "start_time": "2023-01-31T15:08:07.673Z"
   },
   {
    "duration": 646,
    "start_time": "2023-01-31T15:09:39.839Z"
   },
   {
    "duration": 93,
    "start_time": "2023-01-31T15:09:40.487Z"
   },
   {
    "duration": 16,
    "start_time": "2023-01-31T15:09:40.581Z"
   },
   {
    "duration": 1808,
    "start_time": "2023-01-31T15:09:40.600Z"
   },
   {
    "duration": 18,
    "start_time": "2023-01-31T15:09:42.410Z"
   },
   {
    "duration": 82,
    "start_time": "2023-01-31T15:09:42.429Z"
   },
   {
    "duration": 5,
    "start_time": "2023-01-31T15:09:42.513Z"
   },
   {
    "duration": 11,
    "start_time": "2023-01-31T15:09:42.519Z"
   },
   {
    "duration": 120,
    "start_time": "2023-01-31T15:09:42.531Z"
   },
   {
    "duration": 14,
    "start_time": "2023-01-31T15:09:42.654Z"
   },
   {
    "duration": 37,
    "start_time": "2023-01-31T15:09:42.669Z"
   },
   {
    "duration": 14,
    "start_time": "2023-01-31T15:09:42.707Z"
   },
   {
    "duration": 49,
    "start_time": "2023-01-31T15:09:42.723Z"
   },
   {
    "duration": 121,
    "start_time": "2023-01-31T15:09:42.775Z"
   },
   {
    "duration": 115,
    "start_time": "2023-01-31T15:09:42.898Z"
   },
   {
    "duration": 13,
    "start_time": "2023-01-31T15:09:43.015Z"
   },
   {
    "duration": 23,
    "start_time": "2023-01-31T15:09:43.030Z"
   },
   {
    "duration": 17,
    "start_time": "2023-01-31T15:09:43.055Z"
   },
   {
    "duration": 105,
    "start_time": "2023-01-31T15:09:43.074Z"
   },
   {
    "duration": 7,
    "start_time": "2023-01-31T15:09:43.180Z"
   },
   {
    "duration": 13,
    "start_time": "2023-01-31T15:09:43.189Z"
   },
   {
    "duration": 88,
    "start_time": "2023-01-31T15:13:45.473Z"
   },
   {
    "duration": 624,
    "start_time": "2023-01-31T15:14:15.047Z"
   },
   {
    "duration": 93,
    "start_time": "2023-01-31T15:14:15.673Z"
   },
   {
    "duration": 17,
    "start_time": "2023-01-31T15:14:15.768Z"
   },
   {
    "duration": 1893,
    "start_time": "2023-01-31T15:14:15.787Z"
   },
   {
    "duration": 18,
    "start_time": "2023-01-31T15:14:17.682Z"
   },
   {
    "duration": 87,
    "start_time": "2023-01-31T15:14:17.702Z"
   },
   {
    "duration": 6,
    "start_time": "2023-01-31T15:14:17.791Z"
   },
   {
    "duration": 29,
    "start_time": "2023-01-31T15:14:17.799Z"
   },
   {
    "duration": 104,
    "start_time": "2023-01-31T15:14:17.830Z"
   },
   {
    "duration": 6,
    "start_time": "2023-01-31T15:14:17.937Z"
   },
   {
    "duration": 30,
    "start_time": "2023-01-31T15:14:17.945Z"
   },
   {
    "duration": 73,
    "start_time": "2023-01-31T15:14:17.976Z"
   },
   {
    "duration": 0,
    "start_time": "2023-01-31T15:14:18.051Z"
   },
   {
    "duration": 0,
    "start_time": "2023-01-31T15:14:18.067Z"
   },
   {
    "duration": 0,
    "start_time": "2023-01-31T15:14:18.068Z"
   },
   {
    "duration": 0,
    "start_time": "2023-01-31T15:14:18.070Z"
   },
   {
    "duration": 0,
    "start_time": "2023-01-31T15:14:18.071Z"
   },
   {
    "duration": 0,
    "start_time": "2023-01-31T15:14:18.072Z"
   },
   {
    "duration": 0,
    "start_time": "2023-01-31T15:14:18.073Z"
   },
   {
    "duration": 0,
    "start_time": "2023-01-31T15:14:18.074Z"
   },
   {
    "duration": 5,
    "start_time": "2023-01-31T15:18:02.841Z"
   },
   {
    "duration": 47,
    "start_time": "2023-01-31T15:18:20.272Z"
   },
   {
    "duration": 18,
    "start_time": "2023-01-31T15:18:37.667Z"
   },
   {
    "duration": 604,
    "start_time": "2023-01-31T15:18:45.975Z"
   },
   {
    "duration": 92,
    "start_time": "2023-01-31T15:18:46.580Z"
   },
   {
    "duration": 16,
    "start_time": "2023-01-31T15:18:46.674Z"
   },
   {
    "duration": 1948,
    "start_time": "2023-01-31T15:18:46.692Z"
   },
   {
    "duration": 15,
    "start_time": "2023-01-31T15:18:48.642Z"
   },
   {
    "duration": 77,
    "start_time": "2023-01-31T15:18:48.660Z"
   },
   {
    "duration": 5,
    "start_time": "2023-01-31T15:18:48.739Z"
   },
   {
    "duration": 21,
    "start_time": "2023-01-31T15:18:48.745Z"
   },
   {
    "duration": 123,
    "start_time": "2023-01-31T15:18:48.768Z"
   },
   {
    "duration": 5,
    "start_time": "2023-01-31T15:18:48.894Z"
   },
   {
    "duration": 21,
    "start_time": "2023-01-31T15:18:48.900Z"
   },
   {
    "duration": 3,
    "start_time": "2023-01-31T15:18:48.922Z"
   },
   {
    "duration": 22,
    "start_time": "2023-01-31T15:18:48.926Z"
   },
   {
    "duration": 135,
    "start_time": "2023-01-31T15:18:48.950Z"
   },
   {
    "duration": 113,
    "start_time": "2023-01-31T15:18:49.086Z"
   },
   {
    "duration": 13,
    "start_time": "2023-01-31T15:18:49.200Z"
   },
   {
    "duration": 9,
    "start_time": "2023-01-31T15:18:49.215Z"
   },
   {
    "duration": 13,
    "start_time": "2023-01-31T15:18:49.226Z"
   },
   {
    "duration": 134,
    "start_time": "2023-01-31T15:18:49.240Z"
   },
   {
    "duration": 9,
    "start_time": "2023-01-31T15:18:49.376Z"
   },
   {
    "duration": 26,
    "start_time": "2023-01-31T15:18:49.387Z"
   },
   {
    "duration": 4,
    "start_time": "2023-01-31T15:21:50.741Z"
   },
   {
    "duration": 6,
    "start_time": "2023-01-31T15:21:52.904Z"
   },
   {
    "duration": 100,
    "start_time": "2023-01-31T15:21:57.877Z"
   },
   {
    "duration": 4,
    "start_time": "2023-01-31T15:23:13.669Z"
   },
   {
    "duration": 7,
    "start_time": "2023-01-31T15:23:15.786Z"
   },
   {
    "duration": 102,
    "start_time": "2023-01-31T15:23:19.185Z"
   },
   {
    "duration": 190,
    "start_time": "2023-01-31T15:23:49.681Z"
   },
   {
    "duration": 19,
    "start_time": "2023-01-31T15:36:04.487Z"
   },
   {
    "duration": 3,
    "start_time": "2023-01-31T15:36:54.727Z"
   },
   {
    "duration": 17,
    "start_time": "2023-01-31T15:37:02.009Z"
   },
   {
    "duration": 60,
    "start_time": "2023-01-31T15:37:08.412Z"
   },
   {
    "duration": 104,
    "start_time": "2023-01-31T15:43:53.602Z"
   },
   {
    "duration": 667,
    "start_time": "2023-01-31T15:44:14.275Z"
   },
   {
    "duration": 105,
    "start_time": "2023-01-31T15:44:14.944Z"
   },
   {
    "duration": 25,
    "start_time": "2023-01-31T15:44:15.051Z"
   },
   {
    "duration": 2030,
    "start_time": "2023-01-31T15:44:15.078Z"
   },
   {
    "duration": 14,
    "start_time": "2023-01-31T15:44:17.110Z"
   },
   {
    "duration": 80,
    "start_time": "2023-01-31T15:44:17.126Z"
   },
   {
    "duration": 5,
    "start_time": "2023-01-31T15:44:17.208Z"
   },
   {
    "duration": 29,
    "start_time": "2023-01-31T15:44:17.215Z"
   },
   {
    "duration": 140,
    "start_time": "2023-01-31T15:44:17.246Z"
   },
   {
    "duration": 7,
    "start_time": "2023-01-31T15:44:17.389Z"
   },
   {
    "duration": 46,
    "start_time": "2023-01-31T15:44:17.398Z"
   },
   {
    "duration": 5,
    "start_time": "2023-01-31T15:44:17.446Z"
   },
   {
    "duration": 30,
    "start_time": "2023-01-31T15:44:17.453Z"
   },
   {
    "duration": 126,
    "start_time": "2023-01-31T15:44:17.484Z"
   },
   {
    "duration": 128,
    "start_time": "2023-01-31T15:44:17.611Z"
   },
   {
    "duration": 27,
    "start_time": "2023-01-31T15:44:17.741Z"
   },
   {
    "duration": 130,
    "start_time": "2023-01-31T15:44:17.770Z"
   },
   {
    "duration": 20,
    "start_time": "2023-01-31T15:44:17.901Z"
   },
   {
    "duration": 93,
    "start_time": "2023-01-31T15:44:17.922Z"
   },
   {
    "duration": 5,
    "start_time": "2023-01-31T15:47:05.233Z"
   },
   {
    "duration": 76,
    "start_time": "2023-01-31T15:47:17.680Z"
   },
   {
    "duration": 8,
    "start_time": "2023-01-31T15:47:43.967Z"
   },
   {
    "duration": 594,
    "start_time": "2023-01-31T15:50:28.371Z"
   },
   {
    "duration": 99,
    "start_time": "2023-01-31T15:50:28.967Z"
   },
   {
    "duration": 17,
    "start_time": "2023-01-31T15:50:29.068Z"
   },
   {
    "duration": 1789,
    "start_time": "2023-01-31T15:50:29.087Z"
   },
   {
    "duration": 17,
    "start_time": "2023-01-31T15:50:30.880Z"
   },
   {
    "duration": 92,
    "start_time": "2023-01-31T15:50:30.899Z"
   },
   {
    "duration": 7,
    "start_time": "2023-01-31T15:50:30.993Z"
   },
   {
    "duration": 19,
    "start_time": "2023-01-31T15:50:31.001Z"
   },
   {
    "duration": 121,
    "start_time": "2023-01-31T15:50:31.022Z"
   },
   {
    "duration": 5,
    "start_time": "2023-01-31T15:50:31.145Z"
   },
   {
    "duration": 24,
    "start_time": "2023-01-31T15:50:31.167Z"
   },
   {
    "duration": 12,
    "start_time": "2023-01-31T15:50:31.193Z"
   },
   {
    "duration": 34,
    "start_time": "2023-01-31T15:50:31.207Z"
   },
   {
    "duration": 117,
    "start_time": "2023-01-31T15:50:31.243Z"
   },
   {
    "duration": 114,
    "start_time": "2023-01-31T15:50:31.361Z"
   },
   {
    "duration": 14,
    "start_time": "2023-01-31T15:50:31.476Z"
   },
   {
    "duration": 11,
    "start_time": "2023-01-31T15:50:31.492Z"
   },
   {
    "duration": 106,
    "start_time": "2023-01-31T15:50:31.505Z"
   },
   {
    "duration": 4,
    "start_time": "2023-01-31T15:50:31.613Z"
   },
   {
    "duration": 20,
    "start_time": "2023-01-31T15:50:31.618Z"
   },
   {
    "duration": 6,
    "start_time": "2023-01-31T15:51:46.735Z"
   },
   {
    "duration": 6,
    "start_time": "2023-01-31T15:51:56.366Z"
   },
   {
    "duration": 6,
    "start_time": "2023-01-31T15:52:00.558Z"
   },
   {
    "duration": 567,
    "start_time": "2023-01-31T15:52:06.705Z"
   },
   {
    "duration": 90,
    "start_time": "2023-01-31T15:52:07.273Z"
   },
   {
    "duration": 16,
    "start_time": "2023-01-31T15:52:07.364Z"
   },
   {
    "duration": 1782,
    "start_time": "2023-01-31T15:52:07.382Z"
   },
   {
    "duration": 13,
    "start_time": "2023-01-31T15:52:09.166Z"
   },
   {
    "duration": 65,
    "start_time": "2023-01-31T15:52:09.180Z"
   },
   {
    "duration": 22,
    "start_time": "2023-01-31T15:52:09.246Z"
   },
   {
    "duration": 14,
    "start_time": "2023-01-31T15:52:09.270Z"
   },
   {
    "duration": 108,
    "start_time": "2023-01-31T15:52:09.285Z"
   },
   {
    "duration": 5,
    "start_time": "2023-01-31T15:52:09.395Z"
   },
   {
    "duration": 29,
    "start_time": "2023-01-31T15:52:09.402Z"
   },
   {
    "duration": 3,
    "start_time": "2023-01-31T15:52:09.433Z"
   },
   {
    "duration": 17,
    "start_time": "2023-01-31T15:52:09.437Z"
   },
   {
    "duration": 156,
    "start_time": "2023-01-31T15:52:09.456Z"
   },
   {
    "duration": 117,
    "start_time": "2023-01-31T15:52:09.614Z"
   },
   {
    "duration": 14,
    "start_time": "2023-01-31T15:52:09.733Z"
   },
   {
    "duration": 25,
    "start_time": "2023-01-31T15:52:09.749Z"
   },
   {
    "duration": 124,
    "start_time": "2023-01-31T15:52:09.776Z"
   },
   {
    "duration": 21,
    "start_time": "2023-01-31T15:52:09.902Z"
   },
   {
    "duration": 91,
    "start_time": "2023-01-31T15:52:09.925Z"
   },
   {
    "duration": 4,
    "start_time": "2023-01-31T15:52:57.301Z"
   },
   {
    "duration": 4,
    "start_time": "2023-01-31T15:53:17.060Z"
   },
   {
    "duration": 83,
    "start_time": "2023-01-31T15:53:35.201Z"
   },
   {
    "duration": 8,
    "start_time": "2023-01-31T15:53:50.252Z"
   },
   {
    "duration": 597,
    "start_time": "2023-01-31T15:54:10.288Z"
   },
   {
    "duration": 94,
    "start_time": "2023-01-31T15:54:10.887Z"
   },
   {
    "duration": 15,
    "start_time": "2023-01-31T15:54:10.985Z"
   },
   {
    "duration": 1941,
    "start_time": "2023-01-31T15:54:11.003Z"
   },
   {
    "duration": 33,
    "start_time": "2023-01-31T15:54:12.945Z"
   },
   {
    "duration": 100,
    "start_time": "2023-01-31T15:54:12.980Z"
   },
   {
    "duration": 6,
    "start_time": "2023-01-31T15:54:13.083Z"
   },
   {
    "duration": 12,
    "start_time": "2023-01-31T15:54:13.091Z"
   },
   {
    "duration": 132,
    "start_time": "2023-01-31T15:54:13.105Z"
   },
   {
    "duration": 7,
    "start_time": "2023-01-31T15:54:13.239Z"
   },
   {
    "duration": 15,
    "start_time": "2023-01-31T15:54:13.268Z"
   },
   {
    "duration": 4,
    "start_time": "2023-01-31T15:54:13.285Z"
   },
   {
    "duration": 7,
    "start_time": "2023-01-31T15:54:13.291Z"
   },
   {
    "duration": 132,
    "start_time": "2023-01-31T15:54:13.300Z"
   },
   {
    "duration": 125,
    "start_time": "2023-01-31T15:54:13.434Z"
   },
   {
    "duration": 19,
    "start_time": "2023-01-31T15:54:13.560Z"
   },
   {
    "duration": 13,
    "start_time": "2023-01-31T15:54:13.581Z"
   },
   {
    "duration": 132,
    "start_time": "2023-01-31T15:54:13.595Z"
   },
   {
    "duration": 4,
    "start_time": "2023-01-31T15:54:13.729Z"
   },
   {
    "duration": 89,
    "start_time": "2023-01-31T15:54:13.735Z"
   },
   {
    "duration": 0,
    "start_time": "2023-01-31T15:54:13.826Z"
   },
   {
    "duration": 8,
    "start_time": "2023-01-31T15:55:05.458Z"
   },
   {
    "duration": 606,
    "start_time": "2023-01-31T15:56:01.979Z"
   },
   {
    "duration": 105,
    "start_time": "2023-01-31T15:56:02.587Z"
   },
   {
    "duration": 16,
    "start_time": "2023-01-31T15:56:02.694Z"
   },
   {
    "duration": 1948,
    "start_time": "2023-01-31T15:56:02.712Z"
   },
   {
    "duration": 15,
    "start_time": "2023-01-31T15:56:04.662Z"
   },
   {
    "duration": 67,
    "start_time": "2023-01-31T15:56:04.678Z"
   },
   {
    "duration": 20,
    "start_time": "2023-01-31T15:56:04.747Z"
   },
   {
    "duration": 7,
    "start_time": "2023-01-31T15:56:04.768Z"
   },
   {
    "duration": 146,
    "start_time": "2023-01-31T15:56:04.777Z"
   },
   {
    "duration": 8,
    "start_time": "2023-01-31T15:56:04.926Z"
   },
   {
    "duration": 37,
    "start_time": "2023-01-31T15:56:04.936Z"
   },
   {
    "duration": 4,
    "start_time": "2023-01-31T15:56:04.975Z"
   },
   {
    "duration": 14,
    "start_time": "2023-01-31T15:56:04.981Z"
   },
   {
    "duration": 142,
    "start_time": "2023-01-31T15:56:04.997Z"
   },
   {
    "duration": 117,
    "start_time": "2023-01-31T15:56:05.141Z"
   },
   {
    "duration": 13,
    "start_time": "2023-01-31T15:56:05.266Z"
   },
   {
    "duration": 13,
    "start_time": "2023-01-31T15:56:05.280Z"
   },
   {
    "duration": 120,
    "start_time": "2023-01-31T15:56:05.294Z"
   },
   {
    "duration": 4,
    "start_time": "2023-01-31T15:56:05.416Z"
   },
   {
    "duration": 89,
    "start_time": "2023-01-31T15:56:05.421Z"
   },
   {
    "duration": 0,
    "start_time": "2023-01-31T15:56:05.512Z"
   },
   {
    "duration": 0,
    "start_time": "2023-01-31T15:56:05.513Z"
   },
   {
    "duration": 7,
    "start_time": "2023-01-31T15:56:50.435Z"
   },
   {
    "duration": 8,
    "start_time": "2023-01-31T15:57:00.225Z"
   },
   {
    "duration": 8,
    "start_time": "2023-01-31T15:57:04.737Z"
   },
   {
    "duration": 9,
    "start_time": "2023-01-31T15:57:24.310Z"
   },
   {
    "duration": 7,
    "start_time": "2023-01-31T15:57:50.859Z"
   },
   {
    "duration": 587,
    "start_time": "2023-01-31T15:57:57.706Z"
   },
   {
    "duration": 92,
    "start_time": "2023-01-31T15:57:58.294Z"
   },
   {
    "duration": 14,
    "start_time": "2023-01-31T15:57:58.388Z"
   },
   {
    "duration": 1904,
    "start_time": "2023-01-31T15:57:58.404Z"
   },
   {
    "duration": 16,
    "start_time": "2023-01-31T15:58:00.310Z"
   },
   {
    "duration": 94,
    "start_time": "2023-01-31T15:58:00.328Z"
   },
   {
    "duration": 5,
    "start_time": "2023-01-31T15:58:00.424Z"
   },
   {
    "duration": 30,
    "start_time": "2023-01-31T15:58:00.431Z"
   },
   {
    "duration": 132,
    "start_time": "2023-01-31T15:58:00.462Z"
   },
   {
    "duration": 6,
    "start_time": "2023-01-31T15:58:00.597Z"
   },
   {
    "duration": 47,
    "start_time": "2023-01-31T15:58:00.604Z"
   },
   {
    "duration": 33,
    "start_time": "2023-01-31T15:58:00.654Z"
   },
   {
    "duration": 38,
    "start_time": "2023-01-31T15:58:00.689Z"
   },
   {
    "duration": 119,
    "start_time": "2023-01-31T15:58:00.729Z"
   },
   {
    "duration": 121,
    "start_time": "2023-01-31T15:58:00.850Z"
   },
   {
    "duration": 14,
    "start_time": "2023-01-31T15:58:00.973Z"
   },
   {
    "duration": 41,
    "start_time": "2023-01-31T15:58:00.989Z"
   },
   {
    "duration": 122,
    "start_time": "2023-01-31T15:58:01.032Z"
   },
   {
    "duration": 8,
    "start_time": "2023-01-31T15:58:01.167Z"
   },
   {
    "duration": 50,
    "start_time": "2023-01-31T15:58:01.176Z"
   },
   {
    "duration": 96,
    "start_time": "2023-01-31T15:58:01.228Z"
   },
   {
    "duration": 5,
    "start_time": "2023-01-31T15:59:34.261Z"
   },
   {
    "duration": 10,
    "start_time": "2023-01-31T16:02:52.036Z"
   },
   {
    "duration": 8,
    "start_time": "2023-01-31T16:04:27.445Z"
   },
   {
    "duration": 49,
    "start_time": "2023-01-31T16:08:22.886Z"
   },
   {
    "duration": 44,
    "start_time": "2023-01-31T16:09:09.257Z"
   },
   {
    "duration": 10,
    "start_time": "2023-01-31T16:09:28.287Z"
   },
   {
    "duration": 8,
    "start_time": "2023-01-31T16:09:55.655Z"
   },
   {
    "duration": 8,
    "start_time": "2023-01-31T16:11:24.486Z"
   },
   {
    "duration": 9,
    "start_time": "2023-01-31T16:12:00.481Z"
   },
   {
    "duration": 9,
    "start_time": "2023-01-31T16:12:25.067Z"
   },
   {
    "duration": 5,
    "start_time": "2023-01-31T16:14:04.360Z"
   },
   {
    "duration": 69,
    "start_time": "2023-01-31T16:16:50.969Z"
   },
   {
    "duration": 5,
    "start_time": "2023-01-31T16:16:56.644Z"
   },
   {
    "duration": 8,
    "start_time": "2023-01-31T16:19:30.625Z"
   },
   {
    "duration": 8,
    "start_time": "2023-01-31T16:19:35.428Z"
   },
   {
    "duration": 6,
    "start_time": "2023-01-31T16:19:38.027Z"
   },
   {
    "duration": 13,
    "start_time": "2023-01-31T16:21:24.462Z"
   },
   {
    "duration": 5,
    "start_time": "2023-01-31T16:21:37.411Z"
   },
   {
    "duration": 13,
    "start_time": "2023-01-31T16:21:41.406Z"
   },
   {
    "duration": 5,
    "start_time": "2023-01-31T16:22:53.415Z"
   },
   {
    "duration": 18,
    "start_time": "2023-01-31T16:22:56.809Z"
   },
   {
    "duration": 5,
    "start_time": "2023-01-31T16:23:14.264Z"
   },
   {
    "duration": 341,
    "start_time": "2023-01-31T16:25:43.443Z"
   },
   {
    "duration": 762,
    "start_time": "2023-01-31T16:27:18.020Z"
   },
   {
    "duration": 268,
    "start_time": "2023-01-31T16:28:20.149Z"
   },
   {
    "duration": 9,
    "start_time": "2023-01-31T16:35:57.521Z"
   },
   {
    "duration": 667,
    "start_time": "2023-01-31T16:36:06.330Z"
   },
   {
    "duration": 695,
    "start_time": "2023-01-31T16:36:12.283Z"
   },
   {
    "duration": 690,
    "start_time": "2023-01-31T16:37:01.657Z"
   },
   {
    "duration": 578,
    "start_time": "2023-01-31T16:37:46.273Z"
   },
   {
    "duration": 757,
    "start_time": "2023-01-31T16:40:09.570Z"
   },
   {
    "duration": 171,
    "start_time": "2023-01-31T16:40:52.220Z"
   },
   {
    "duration": 300,
    "start_time": "2023-01-31T16:43:30.551Z"
   },
   {
    "duration": 17,
    "start_time": "2023-01-31T16:43:33.057Z"
   },
   {
    "duration": 548,
    "start_time": "2023-01-31T16:44:01.724Z"
   },
   {
    "duration": 89,
    "start_time": "2023-01-31T16:44:02.274Z"
   },
   {
    "duration": 16,
    "start_time": "2023-01-31T16:44:02.365Z"
   },
   {
    "duration": 1942,
    "start_time": "2023-01-31T16:44:02.382Z"
   },
   {
    "duration": 14,
    "start_time": "2023-01-31T16:44:04.326Z"
   },
   {
    "duration": 72,
    "start_time": "2023-01-31T16:44:04.341Z"
   },
   {
    "duration": 5,
    "start_time": "2023-01-31T16:44:04.415Z"
   },
   {
    "duration": 10,
    "start_time": "2023-01-31T16:44:04.421Z"
   },
   {
    "duration": 113,
    "start_time": "2023-01-31T16:44:04.432Z"
   },
   {
    "duration": 21,
    "start_time": "2023-01-31T16:44:04.548Z"
   },
   {
    "duration": 19,
    "start_time": "2023-01-31T16:44:04.570Z"
   },
   {
    "duration": 3,
    "start_time": "2023-01-31T16:44:04.591Z"
   },
   {
    "duration": 8,
    "start_time": "2023-01-31T16:44:04.596Z"
   },
   {
    "duration": 117,
    "start_time": "2023-01-31T16:44:04.605Z"
   },
   {
    "duration": 109,
    "start_time": "2023-01-31T16:44:04.724Z"
   },
   {
    "duration": 14,
    "start_time": "2023-01-31T16:44:04.834Z"
   },
   {
    "duration": 25,
    "start_time": "2023-01-31T16:44:04.850Z"
   },
   {
    "duration": 147,
    "start_time": "2023-01-31T16:44:04.876Z"
   },
   {
    "duration": 8,
    "start_time": "2023-01-31T16:44:05.025Z"
   },
   {
    "duration": 44,
    "start_time": "2023-01-31T16:44:05.035Z"
   },
   {
    "duration": 97,
    "start_time": "2023-01-31T16:44:05.081Z"
   },
   {
    "duration": 6,
    "start_time": "2023-01-31T16:44:05.180Z"
   },
   {
    "duration": 9,
    "start_time": "2023-01-31T16:44:05.188Z"
   },
   {
    "duration": 7,
    "start_time": "2023-01-31T16:44:05.199Z"
   },
   {
    "duration": 8,
    "start_time": "2023-01-31T16:44:05.208Z"
   },
   {
    "duration": 7,
    "start_time": "2023-01-31T16:44:05.218Z"
   },
   {
    "duration": 5,
    "start_time": "2023-01-31T16:44:05.226Z"
   },
   {
    "duration": 7,
    "start_time": "2023-01-31T16:44:05.269Z"
   },
   {
    "duration": 6,
    "start_time": "2023-01-31T16:44:05.278Z"
   },
   {
    "duration": 9,
    "start_time": "2023-01-31T16:44:05.286Z"
   },
   {
    "duration": 5,
    "start_time": "2023-01-31T16:44:05.296Z"
   },
   {
    "duration": 17,
    "start_time": "2023-01-31T16:44:05.302Z"
   },
   {
    "duration": 356,
    "start_time": "2023-01-31T16:44:05.320Z"
   },
   {
    "duration": 70,
    "start_time": "2023-01-31T16:44:05.678Z"
   },
   {
    "duration": 0,
    "start_time": "2023-01-31T16:44:05.750Z"
   },
   {
    "duration": 0,
    "start_time": "2023-01-31T16:44:05.751Z"
   },
   {
    "duration": 0,
    "start_time": "2023-01-31T16:44:05.767Z"
   },
   {
    "duration": 0,
    "start_time": "2023-01-31T16:44:05.768Z"
   },
   {
    "duration": 0,
    "start_time": "2023-01-31T16:44:05.770Z"
   },
   {
    "duration": 0,
    "start_time": "2023-01-31T16:44:05.771Z"
   },
   {
    "duration": 0,
    "start_time": "2023-01-31T16:44:05.773Z"
   },
   {
    "duration": 0,
    "start_time": "2023-01-31T16:44:05.775Z"
   },
   {
    "duration": 0,
    "start_time": "2023-01-31T16:44:05.776Z"
   },
   {
    "duration": 13,
    "start_time": "2023-01-31T16:46:33.743Z"
   },
   {
    "duration": 8,
    "start_time": "2023-01-31T16:46:39.185Z"
   },
   {
    "duration": 13,
    "start_time": "2023-01-31T16:46:47.252Z"
   },
   {
    "duration": 263,
    "start_time": "2023-01-31T16:46:55.948Z"
   },
   {
    "duration": 680,
    "start_time": "2023-01-31T16:47:04.604Z"
   },
   {
    "duration": 622,
    "start_time": "2023-01-31T16:47:05.286Z"
   },
   {
    "duration": 710,
    "start_time": "2023-01-31T16:47:05.910Z"
   },
   {
    "duration": 701,
    "start_time": "2023-01-31T16:47:06.623Z"
   },
   {
    "duration": 197,
    "start_time": "2023-01-31T16:47:07.325Z"
   },
   {
    "duration": 18,
    "start_time": "2023-01-31T16:47:07.523Z"
   },
   {
    "duration": 0,
    "start_time": "2023-01-31T16:47:07.543Z"
   },
   {
    "duration": 626,
    "start_time": "2023-01-31T16:49:38.452Z"
   },
   {
    "duration": 88,
    "start_time": "2023-01-31T16:49:39.080Z"
   },
   {
    "duration": 14,
    "start_time": "2023-01-31T16:49:39.170Z"
   },
   {
    "duration": 1902,
    "start_time": "2023-01-31T16:49:39.186Z"
   },
   {
    "duration": 15,
    "start_time": "2023-01-31T16:49:41.089Z"
   },
   {
    "duration": 71,
    "start_time": "2023-01-31T16:49:41.105Z"
   },
   {
    "duration": 5,
    "start_time": "2023-01-31T16:49:41.178Z"
   },
   {
    "duration": 11,
    "start_time": "2023-01-31T16:49:41.184Z"
   },
   {
    "duration": 112,
    "start_time": "2023-01-31T16:49:41.196Z"
   },
   {
    "duration": 5,
    "start_time": "2023-01-31T16:49:41.311Z"
   },
   {
    "duration": 16,
    "start_time": "2023-01-31T16:49:41.317Z"
   },
   {
    "duration": 4,
    "start_time": "2023-01-31T16:49:41.334Z"
   },
   {
    "duration": 28,
    "start_time": "2023-01-31T16:49:41.339Z"
   },
   {
    "duration": 111,
    "start_time": "2023-01-31T16:49:41.369Z"
   },
   {
    "duration": 111,
    "start_time": "2023-01-31T16:49:41.481Z"
   },
   {
    "duration": 16,
    "start_time": "2023-01-31T16:49:41.594Z"
   },
   {
    "duration": 9,
    "start_time": "2023-01-31T16:49:41.612Z"
   },
   {
    "duration": 125,
    "start_time": "2023-01-31T16:49:41.623Z"
   },
   {
    "duration": 18,
    "start_time": "2023-01-31T16:49:41.749Z"
   },
   {
    "duration": 17,
    "start_time": "2023-01-31T16:49:41.769Z"
   },
   {
    "duration": 81,
    "start_time": "2023-01-31T16:49:41.788Z"
   },
   {
    "duration": 5,
    "start_time": "2023-01-31T16:49:41.871Z"
   },
   {
    "duration": 10,
    "start_time": "2023-01-31T16:49:41.878Z"
   },
   {
    "duration": 7,
    "start_time": "2023-01-31T16:49:41.889Z"
   },
   {
    "duration": 7,
    "start_time": "2023-01-31T16:49:41.898Z"
   },
   {
    "duration": 7,
    "start_time": "2023-01-31T16:49:41.907Z"
   },
   {
    "duration": 8,
    "start_time": "2023-01-31T16:49:41.915Z"
   },
   {
    "duration": 8,
    "start_time": "2023-01-31T16:49:41.967Z"
   },
   {
    "duration": 3,
    "start_time": "2023-01-31T16:49:41.976Z"
   },
   {
    "duration": 14,
    "start_time": "2023-01-31T16:49:41.980Z"
   },
   {
    "duration": 8,
    "start_time": "2023-01-31T16:49:41.995Z"
   },
   {
    "duration": 13,
    "start_time": "2023-01-31T16:49:42.005Z"
   },
   {
    "duration": 327,
    "start_time": "2023-01-31T16:49:42.020Z"
   },
   {
    "duration": 10,
    "start_time": "2023-01-31T16:49:42.348Z"
   },
   {
    "duration": 13,
    "start_time": "2023-01-31T16:49:42.367Z"
   },
   {
    "duration": 288,
    "start_time": "2023-01-31T16:49:42.381Z"
   },
   {
    "duration": 583,
    "start_time": "2023-01-31T16:49:42.671Z"
   },
   {
    "duration": 656,
    "start_time": "2023-01-31T16:49:43.256Z"
   },
   {
    "duration": 663,
    "start_time": "2023-01-31T16:49:43.914Z"
   },
   {
    "duration": 648,
    "start_time": "2023-01-31T16:49:44.579Z"
   },
   {
    "duration": 183,
    "start_time": "2023-01-31T16:49:45.229Z"
   },
   {
    "duration": 212,
    "start_time": "2023-01-31T16:49:45.413Z"
   },
   {
    "duration": 416,
    "start_time": "2023-01-31T16:49:45.627Z"
   },
   {
    "duration": 70,
    "start_time": "2023-01-31T16:54:15.098Z"
   },
   {
    "duration": 683,
    "start_time": "2023-01-31T16:54:54.904Z"
   },
   {
    "duration": 728,
    "start_time": "2023-01-31T16:55:52.985Z"
   },
   {
    "duration": 753,
    "start_time": "2023-01-31T16:55:58.345Z"
   },
   {
    "duration": 23,
    "start_time": "2023-01-31T16:56:10.430Z"
   },
   {
    "duration": 15,
    "start_time": "2023-01-31T16:57:00.932Z"
   },
   {
    "duration": 8,
    "start_time": "2023-01-31T17:00:02.461Z"
   },
   {
    "duration": 474,
    "start_time": "2023-01-31T17:00:18.417Z"
   },
   {
    "duration": 35,
    "start_time": "2023-01-31T17:00:32.533Z"
   },
   {
    "duration": 550,
    "start_time": "2023-01-31T17:00:47.124Z"
   },
   {
    "duration": 304,
    "start_time": "2023-01-31T17:05:41.152Z"
   },
   {
    "duration": 280,
    "start_time": "2023-01-31T17:06:15.635Z"
   },
   {
    "duration": 297,
    "start_time": "2023-01-31T17:06:55.486Z"
   },
   {
    "duration": 727,
    "start_time": "2023-01-31T17:08:12.745Z"
   },
   {
    "duration": 704,
    "start_time": "2023-01-31T17:09:56.314Z"
   },
   {
    "duration": 13,
    "start_time": "2023-01-31T17:10:34.379Z"
   },
   {
    "duration": 508,
    "start_time": "2023-01-31T17:11:48.829Z"
   },
   {
    "duration": 13,
    "start_time": "2023-01-31T17:13:13.124Z"
   },
   {
    "duration": 14,
    "start_time": "2023-01-31T17:13:20.162Z"
   },
   {
    "duration": 560,
    "start_time": "2023-01-31T17:13:31.222Z"
   },
   {
    "duration": 934,
    "start_time": "2023-01-31T17:23:29.749Z"
   },
   {
    "duration": 10,
    "start_time": "2023-01-31T17:23:59.302Z"
   },
   {
    "duration": 689,
    "start_time": "2023-01-31T17:24:05.297Z"
   },
   {
    "duration": 56,
    "start_time": "2023-02-01T15:21:13.153Z"
   },
   {
    "duration": 1443,
    "start_time": "2023-02-01T15:21:26.443Z"
   },
   {
    "duration": 354,
    "start_time": "2023-02-01T15:21:27.888Z"
   },
   {
    "duration": 19,
    "start_time": "2023-02-01T15:21:28.244Z"
   },
   {
    "duration": 2018,
    "start_time": "2023-02-01T15:21:28.266Z"
   },
   {
    "duration": 16,
    "start_time": "2023-02-01T15:21:30.286Z"
   },
   {
    "duration": 93,
    "start_time": "2023-02-01T15:21:30.304Z"
   },
   {
    "duration": 6,
    "start_time": "2023-02-01T15:21:30.399Z"
   },
   {
    "duration": 37,
    "start_time": "2023-02-01T15:21:30.406Z"
   },
   {
    "duration": 136,
    "start_time": "2023-02-01T15:21:30.445Z"
   },
   {
    "duration": 9,
    "start_time": "2023-02-01T15:21:30.584Z"
   },
   {
    "duration": 42,
    "start_time": "2023-02-01T15:21:30.595Z"
   },
   {
    "duration": 18,
    "start_time": "2023-02-01T15:21:30.638Z"
   },
   {
    "duration": 26,
    "start_time": "2023-02-01T15:21:30.658Z"
   },
   {
    "duration": 159,
    "start_time": "2023-02-01T15:21:30.686Z"
   },
   {
    "duration": 153,
    "start_time": "2023-02-01T15:21:30.848Z"
   },
   {
    "duration": 15,
    "start_time": "2023-02-01T15:21:31.003Z"
   },
   {
    "duration": 28,
    "start_time": "2023-02-01T15:21:31.020Z"
   },
   {
    "duration": 154,
    "start_time": "2023-02-01T15:21:31.049Z"
   },
   {
    "duration": 7,
    "start_time": "2023-02-01T15:21:31.205Z"
   },
   {
    "duration": 48,
    "start_time": "2023-02-01T15:21:31.214Z"
   },
   {
    "duration": 101,
    "start_time": "2023-02-01T15:21:31.264Z"
   },
   {
    "duration": 8,
    "start_time": "2023-02-01T15:21:31.366Z"
   },
   {
    "duration": 22,
    "start_time": "2023-02-01T15:21:31.375Z"
   },
   {
    "duration": 35,
    "start_time": "2023-02-01T15:21:31.399Z"
   },
   {
    "duration": 25,
    "start_time": "2023-02-01T15:21:31.435Z"
   },
   {
    "duration": 19,
    "start_time": "2023-02-01T15:21:31.462Z"
   },
   {
    "duration": 24,
    "start_time": "2023-02-01T15:21:31.483Z"
   },
   {
    "duration": 39,
    "start_time": "2023-02-01T15:21:31.511Z"
   },
   {
    "duration": 14,
    "start_time": "2023-02-01T15:21:31.552Z"
   },
   {
    "duration": 30,
    "start_time": "2023-02-01T15:21:31.567Z"
   },
   {
    "duration": 23,
    "start_time": "2023-02-01T15:21:31.599Z"
   },
   {
    "duration": 32,
    "start_time": "2023-02-01T15:21:31.624Z"
   },
   {
    "duration": 332,
    "start_time": "2023-02-01T15:21:31.657Z"
   },
   {
    "duration": 12,
    "start_time": "2023-02-01T15:21:31.991Z"
   },
   {
    "duration": 42,
    "start_time": "2023-02-01T15:21:32.005Z"
   },
   {
    "duration": 296,
    "start_time": "2023-02-01T15:21:32.049Z"
   },
   {
    "duration": 789,
    "start_time": "2023-02-01T15:21:32.347Z"
   },
   {
    "duration": 792,
    "start_time": "2023-02-01T15:21:33.138Z"
   },
   {
    "duration": 690,
    "start_time": "2023-02-01T15:21:33.932Z"
   },
   {
    "duration": 877,
    "start_time": "2023-02-01T15:21:34.624Z"
   },
   {
    "duration": 236,
    "start_time": "2023-02-01T15:21:35.503Z"
   },
   {
    "duration": 230,
    "start_time": "2023-02-01T15:21:35.740Z"
   },
   {
    "duration": 468,
    "start_time": "2023-02-01T15:21:35.972Z"
   },
   {
    "duration": 650,
    "start_time": "2023-02-01T15:21:36.442Z"
   },
   {
    "duration": 327,
    "start_time": "2023-02-01T15:21:37.094Z"
   },
   {
    "duration": 330,
    "start_time": "2023-02-01T15:21:37.423Z"
   },
   {
    "duration": 364,
    "start_time": "2023-02-01T15:21:37.755Z"
   },
   {
    "duration": 627,
    "start_time": "2023-02-01T15:21:38.121Z"
   },
   {
    "duration": 13,
    "start_time": "2023-02-01T15:21:38.750Z"
   },
   {
    "duration": 700,
    "start_time": "2023-02-01T15:21:38.765Z"
   },
   {
    "duration": 630,
    "start_time": "2023-02-01T15:21:39.467Z"
   },
   {
    "duration": 913,
    "start_time": "2023-02-01T15:21:40.099Z"
   },
   {
    "duration": 17,
    "start_time": "2023-02-01T15:21:41.014Z"
   },
   {
    "duration": 7,
    "start_time": "2023-02-01T15:21:41.033Z"
   },
   {
    "duration": 103,
    "start_time": "2023-02-01T15:24:21.934Z"
   },
   {
    "duration": 28,
    "start_time": "2023-02-01T15:24:42.263Z"
   },
   {
    "duration": 36,
    "start_time": "2023-02-01T15:27:46.677Z"
   },
   {
    "duration": 31,
    "start_time": "2023-02-01T15:32:03.014Z"
   },
   {
    "duration": 20,
    "start_time": "2023-02-01T15:32:11.110Z"
   },
   {
    "duration": 31,
    "start_time": "2023-02-01T15:32:40.970Z"
   },
   {
    "duration": 13,
    "start_time": "2023-02-01T15:33:17.206Z"
   },
   {
    "duration": 34,
    "start_time": "2023-02-01T15:33:39.212Z"
   },
   {
    "duration": 33,
    "start_time": "2023-02-01T15:33:44.301Z"
   },
   {
    "duration": 59,
    "start_time": "2023-02-01T15:33:50.048Z"
   },
   {
    "duration": 224,
    "start_time": "2023-02-01T15:34:29.749Z"
   },
   {
    "duration": 218,
    "start_time": "2023-02-01T15:34:39.698Z"
   },
   {
    "duration": 1147,
    "start_time": "2023-02-01T15:36:09.543Z"
   },
   {
    "duration": 90,
    "start_time": "2023-02-01T15:36:10.692Z"
   },
   {
    "duration": 22,
    "start_time": "2023-02-01T15:36:10.784Z"
   },
   {
    "duration": 2144,
    "start_time": "2023-02-01T15:36:10.809Z"
   },
   {
    "duration": 14,
    "start_time": "2023-02-01T15:36:12.955Z"
   },
   {
    "duration": 76,
    "start_time": "2023-02-01T15:36:12.971Z"
   },
   {
    "duration": 5,
    "start_time": "2023-02-01T15:36:13.049Z"
   },
   {
    "duration": 12,
    "start_time": "2023-02-01T15:36:13.055Z"
   },
   {
    "duration": 143,
    "start_time": "2023-02-01T15:36:13.069Z"
   },
   {
    "duration": 7,
    "start_time": "2023-02-01T15:36:13.215Z"
   },
   {
    "duration": 26,
    "start_time": "2023-02-01T15:36:13.224Z"
   },
   {
    "duration": 5,
    "start_time": "2023-02-01T15:36:13.252Z"
   },
   {
    "duration": 47,
    "start_time": "2023-02-01T15:36:13.259Z"
   },
   {
    "duration": 119,
    "start_time": "2023-02-01T15:36:13.308Z"
   },
   {
    "duration": 130,
    "start_time": "2023-02-01T15:36:13.429Z"
   },
   {
    "duration": 32,
    "start_time": "2023-02-01T15:36:13.561Z"
   },
   {
    "duration": 13,
    "start_time": "2023-02-01T15:36:13.595Z"
   },
   {
    "duration": 169,
    "start_time": "2023-02-01T15:36:13.611Z"
   },
   {
    "duration": 10,
    "start_time": "2023-02-01T15:36:13.782Z"
   },
   {
    "duration": 19,
    "start_time": "2023-02-01T15:36:13.794Z"
   },
   {
    "duration": 97,
    "start_time": "2023-02-01T15:36:13.814Z"
   },
   {
    "duration": 7,
    "start_time": "2023-02-01T15:36:13.912Z"
   },
   {
    "duration": 28,
    "start_time": "2023-02-01T15:36:13.921Z"
   },
   {
    "duration": 8,
    "start_time": "2023-02-01T15:36:13.951Z"
   },
   {
    "duration": 31,
    "start_time": "2023-02-01T15:36:13.961Z"
   },
   {
    "duration": 11,
    "start_time": "2023-02-01T15:36:13.994Z"
   },
   {
    "duration": 10,
    "start_time": "2023-02-01T15:36:14.008Z"
   },
   {
    "duration": 13,
    "start_time": "2023-02-01T15:36:14.024Z"
   },
   {
    "duration": 12,
    "start_time": "2023-02-01T15:36:14.040Z"
   },
   {
    "duration": 6,
    "start_time": "2023-02-01T15:36:14.055Z"
   },
   {
    "duration": 52,
    "start_time": "2023-02-01T15:36:14.063Z"
   },
   {
    "duration": 280,
    "start_time": "2023-02-01T15:36:14.117Z"
   },
   {
    "duration": 13,
    "start_time": "2023-02-01T15:36:14.399Z"
   },
   {
    "duration": 13,
    "start_time": "2023-02-01T15:36:14.414Z"
   },
   {
    "duration": 326,
    "start_time": "2023-02-01T15:36:14.429Z"
   },
   {
    "duration": 774,
    "start_time": "2023-02-01T15:36:14.757Z"
   },
   {
    "duration": 668,
    "start_time": "2023-02-01T15:36:15.533Z"
   },
   {
    "duration": 765,
    "start_time": "2023-02-01T15:36:16.202Z"
   },
   {
    "duration": 798,
    "start_time": "2023-02-01T15:36:16.968Z"
   },
   {
    "duration": 188,
    "start_time": "2023-02-01T15:36:17.768Z"
   },
   {
    "duration": 193,
    "start_time": "2023-02-01T15:36:17.958Z"
   },
   {
    "duration": 329,
    "start_time": "2023-02-01T15:36:18.153Z"
   },
   {
    "duration": 587,
    "start_time": "2023-02-01T15:36:18.484Z"
   },
   {
    "duration": 320,
    "start_time": "2023-02-01T15:36:19.073Z"
   },
   {
    "duration": 334,
    "start_time": "2023-02-01T15:36:19.395Z"
   },
   {
    "duration": 335,
    "start_time": "2023-02-01T15:36:19.731Z"
   },
   {
    "duration": 643,
    "start_time": "2023-02-01T15:36:20.067Z"
   },
   {
    "duration": 14,
    "start_time": "2023-02-01T15:36:20.712Z"
   },
   {
    "duration": 714,
    "start_time": "2023-02-01T15:36:20.727Z"
   },
   {
    "duration": 658,
    "start_time": "2023-02-01T15:36:21.443Z"
   },
   {
    "duration": 927,
    "start_time": "2023-02-01T15:36:22.103Z"
   },
   {
    "duration": 17,
    "start_time": "2023-02-01T15:36:23.031Z"
   },
   {
    "duration": 7,
    "start_time": "2023-02-01T15:36:23.049Z"
   },
   {
    "duration": 240,
    "start_time": "2023-02-01T15:36:23.057Z"
   },
   {
    "duration": 12,
    "start_time": "2023-02-01T15:45:07.417Z"
   },
   {
    "duration": 137,
    "start_time": "2023-02-01T15:45:10.518Z"
   },
   {
    "duration": 21,
    "start_time": "2023-02-01T15:48:13.220Z"
   },
   {
    "duration": 103,
    "start_time": "2023-02-01T15:48:27.539Z"
   },
   {
    "duration": 1194,
    "start_time": "2023-02-01T15:57:52.312Z"
   },
   {
    "duration": 99,
    "start_time": "2023-02-01T15:57:53.509Z"
   },
   {
    "duration": 19,
    "start_time": "2023-02-01T15:57:53.609Z"
   },
   {
    "duration": 2196,
    "start_time": "2023-02-01T15:57:53.630Z"
   },
   {
    "duration": 15,
    "start_time": "2023-02-01T15:57:55.827Z"
   },
   {
    "duration": 101,
    "start_time": "2023-02-01T15:57:55.844Z"
   },
   {
    "duration": 6,
    "start_time": "2023-02-01T15:57:55.946Z"
   },
   {
    "duration": 10,
    "start_time": "2023-02-01T15:57:55.953Z"
   },
   {
    "duration": 144,
    "start_time": "2023-02-01T15:57:55.965Z"
   },
   {
    "duration": 7,
    "start_time": "2023-02-01T15:57:56.113Z"
   },
   {
    "duration": 17,
    "start_time": "2023-02-01T15:57:56.124Z"
   },
   {
    "duration": 5,
    "start_time": "2023-02-01T15:57:56.143Z"
   },
   {
    "duration": 56,
    "start_time": "2023-02-01T15:57:56.150Z"
   },
   {
    "duration": 128,
    "start_time": "2023-02-01T15:57:56.208Z"
   },
   {
    "duration": 147,
    "start_time": "2023-02-01T15:57:56.339Z"
   },
   {
    "duration": 17,
    "start_time": "2023-02-01T15:57:56.488Z"
   },
   {
    "duration": 35,
    "start_time": "2023-02-01T15:57:56.508Z"
   },
   {
    "duration": 143,
    "start_time": "2023-02-01T15:57:56.546Z"
   },
   {
    "duration": 8,
    "start_time": "2023-02-01T15:57:56.691Z"
   },
   {
    "duration": 55,
    "start_time": "2023-02-01T15:57:56.703Z"
   },
   {
    "duration": 107,
    "start_time": "2023-02-01T15:57:56.760Z"
   },
   {
    "duration": 9,
    "start_time": "2023-02-01T15:57:56.868Z"
   },
   {
    "duration": 51,
    "start_time": "2023-02-01T15:57:56.879Z"
   },
   {
    "duration": 9,
    "start_time": "2023-02-01T15:57:56.932Z"
   },
   {
    "duration": 8,
    "start_time": "2023-02-01T15:57:56.943Z"
   },
   {
    "duration": 3,
    "start_time": "2023-02-01T15:57:56.952Z"
   },
   {
    "duration": 9,
    "start_time": "2023-02-01T15:57:56.957Z"
   },
   {
    "duration": 6,
    "start_time": "2023-02-01T15:57:56.970Z"
   },
   {
    "duration": 22,
    "start_time": "2023-02-01T15:57:56.977Z"
   },
   {
    "duration": 16,
    "start_time": "2023-02-01T15:57:57.000Z"
   },
   {
    "duration": 15,
    "start_time": "2023-02-01T15:57:57.018Z"
   },
   {
    "duration": 306,
    "start_time": "2023-02-01T15:57:57.035Z"
   },
   {
    "duration": 14,
    "start_time": "2023-02-01T15:57:57.343Z"
   },
   {
    "duration": 15,
    "start_time": "2023-02-01T15:57:57.358Z"
   },
   {
    "duration": 323,
    "start_time": "2023-02-01T15:57:57.392Z"
   },
   {
    "duration": 810,
    "start_time": "2023-02-01T15:57:57.718Z"
   },
   {
    "duration": 694,
    "start_time": "2023-02-01T15:57:58.530Z"
   },
   {
    "duration": 695,
    "start_time": "2023-02-01T15:57:59.227Z"
   },
   {
    "duration": 886,
    "start_time": "2023-02-01T15:57:59.924Z"
   },
   {
    "duration": 210,
    "start_time": "2023-02-01T15:58:00.812Z"
   },
   {
    "duration": 232,
    "start_time": "2023-02-01T15:58:01.024Z"
   },
   {
    "duration": 378,
    "start_time": "2023-02-01T15:58:01.258Z"
   },
   {
    "duration": 645,
    "start_time": "2023-02-01T15:58:01.638Z"
   },
   {
    "duration": 359,
    "start_time": "2023-02-01T15:58:02.285Z"
   },
   {
    "duration": 365,
    "start_time": "2023-02-01T15:58:02.646Z"
   },
   {
    "duration": 396,
    "start_time": "2023-02-01T15:58:03.012Z"
   },
   {
    "duration": 658,
    "start_time": "2023-02-01T15:58:03.410Z"
   },
   {
    "duration": 38,
    "start_time": "2023-02-01T15:58:04.070Z"
   },
   {
    "duration": 709,
    "start_time": "2023-02-01T15:58:04.109Z"
   },
   {
    "duration": 694,
    "start_time": "2023-02-01T15:58:04.820Z"
   },
   {
    "duration": 1007,
    "start_time": "2023-02-01T15:58:05.516Z"
   },
   {
    "duration": 27,
    "start_time": "2023-02-01T15:58:06.526Z"
   },
   {
    "duration": 33,
    "start_time": "2023-02-01T15:58:06.556Z"
   },
   {
    "duration": 199,
    "start_time": "2023-02-01T15:58:06.592Z"
   },
   {
    "duration": 218,
    "start_time": "2023-02-01T15:58:25.656Z"
   },
   {
    "duration": 1218,
    "start_time": "2023-02-01T16:02:02.510Z"
   },
   {
    "duration": 102,
    "start_time": "2023-02-01T16:02:03.731Z"
   },
   {
    "duration": 19,
    "start_time": "2023-02-01T16:02:03.835Z"
   },
   {
    "duration": 2200,
    "start_time": "2023-02-01T16:02:03.857Z"
   },
   {
    "duration": 16,
    "start_time": "2023-02-01T16:02:06.059Z"
   },
   {
    "duration": 116,
    "start_time": "2023-02-01T16:02:06.078Z"
   },
   {
    "duration": 10,
    "start_time": "2023-02-01T16:02:06.198Z"
   },
   {
    "duration": 20,
    "start_time": "2023-02-01T16:02:06.210Z"
   },
   {
    "duration": 189,
    "start_time": "2023-02-01T16:02:06.233Z"
   },
   {
    "duration": 10,
    "start_time": "2023-02-01T16:02:06.426Z"
   },
   {
    "duration": 63,
    "start_time": "2023-02-01T16:02:06.438Z"
   },
   {
    "duration": 35,
    "start_time": "2023-02-01T16:02:06.504Z"
   },
   {
    "duration": 16,
    "start_time": "2023-02-01T16:02:06.541Z"
   },
   {
    "duration": 143,
    "start_time": "2023-02-01T16:02:06.559Z"
   },
   {
    "duration": 130,
    "start_time": "2023-02-01T16:02:06.704Z"
   },
   {
    "duration": 14,
    "start_time": "2023-02-01T16:02:06.835Z"
   },
   {
    "duration": 9,
    "start_time": "2023-02-01T16:02:06.851Z"
   },
   {
    "duration": 155,
    "start_time": "2023-02-01T16:02:06.862Z"
   },
   {
    "duration": 9,
    "start_time": "2023-02-01T16:02:07.019Z"
   },
   {
    "duration": 36,
    "start_time": "2023-02-01T16:02:07.030Z"
   },
   {
    "duration": 137,
    "start_time": "2023-02-01T16:02:07.068Z"
   },
   {
    "duration": 12,
    "start_time": "2023-02-01T16:02:07.216Z"
   },
   {
    "duration": 43,
    "start_time": "2023-02-01T16:02:07.230Z"
   },
   {
    "duration": 20,
    "start_time": "2023-02-01T16:02:07.276Z"
   },
   {
    "duration": 30,
    "start_time": "2023-02-01T16:02:07.300Z"
   },
   {
    "duration": 5,
    "start_time": "2023-02-01T16:02:07.333Z"
   },
   {
    "duration": 35,
    "start_time": "2023-02-01T16:02:07.339Z"
   },
   {
    "duration": 5,
    "start_time": "2023-02-01T16:02:07.380Z"
   },
   {
    "duration": 29,
    "start_time": "2023-02-01T16:02:07.386Z"
   },
   {
    "duration": 7,
    "start_time": "2023-02-01T16:02:07.417Z"
   },
   {
    "duration": 16,
    "start_time": "2023-02-01T16:02:07.425Z"
   },
   {
    "duration": 302,
    "start_time": "2023-02-01T16:02:07.443Z"
   },
   {
    "duration": 12,
    "start_time": "2023-02-01T16:02:07.747Z"
   },
   {
    "duration": 48,
    "start_time": "2023-02-01T16:02:07.761Z"
   },
   {
    "duration": 308,
    "start_time": "2023-02-01T16:02:07.811Z"
   },
   {
    "duration": 818,
    "start_time": "2023-02-01T16:02:08.120Z"
   },
   {
    "duration": 734,
    "start_time": "2023-02-01T16:02:08.940Z"
   },
   {
    "duration": 698,
    "start_time": "2023-02-01T16:02:09.675Z"
   },
   {
    "duration": 855,
    "start_time": "2023-02-01T16:02:10.375Z"
   },
   {
    "duration": 218,
    "start_time": "2023-02-01T16:02:11.232Z"
   },
   {
    "duration": 213,
    "start_time": "2023-02-01T16:02:11.452Z"
   },
   {
    "duration": 365,
    "start_time": "2023-02-01T16:02:11.668Z"
   },
   {
    "duration": 648,
    "start_time": "2023-02-01T16:02:12.035Z"
   },
   {
    "duration": 379,
    "start_time": "2023-02-01T16:02:12.685Z"
   },
   {
    "duration": 415,
    "start_time": "2023-02-01T16:02:13.066Z"
   },
   {
    "duration": 434,
    "start_time": "2023-02-01T16:02:13.483Z"
   },
   {
    "duration": 713,
    "start_time": "2023-02-01T16:02:13.920Z"
   },
   {
    "duration": 21,
    "start_time": "2023-02-01T16:02:14.635Z"
   },
   {
    "duration": 777,
    "start_time": "2023-02-01T16:02:14.658Z"
   },
   {
    "duration": 738,
    "start_time": "2023-02-01T16:02:15.437Z"
   },
   {
    "duration": 967,
    "start_time": "2023-02-01T16:02:16.177Z"
   },
   {
    "duration": 18,
    "start_time": "2023-02-01T16:02:17.146Z"
   },
   {
    "duration": 34,
    "start_time": "2023-02-01T16:02:17.166Z"
   },
   {
    "duration": 265,
    "start_time": "2023-02-01T16:02:17.206Z"
   },
   {
    "duration": 1309,
    "start_time": "2023-02-01T17:28:13.499Z"
   },
   {
    "duration": 130,
    "start_time": "2023-02-01T17:28:14.810Z"
   },
   {
    "duration": 15,
    "start_time": "2023-02-01T17:28:14.941Z"
   },
   {
    "duration": 1819,
    "start_time": "2023-02-01T17:28:14.957Z"
   },
   {
    "duration": 20,
    "start_time": "2023-02-01T17:28:16.778Z"
   },
   {
    "duration": 74,
    "start_time": "2023-02-01T17:28:16.799Z"
   },
   {
    "duration": 4,
    "start_time": "2023-02-01T17:28:16.874Z"
   },
   {
    "duration": 10,
    "start_time": "2023-02-01T17:28:16.880Z"
   },
   {
    "duration": 111,
    "start_time": "2023-02-01T17:28:16.891Z"
   },
   {
    "duration": 5,
    "start_time": "2023-02-01T17:28:17.010Z"
   },
   {
    "duration": 22,
    "start_time": "2023-02-01T17:28:17.016Z"
   },
   {
    "duration": 4,
    "start_time": "2023-02-01T17:28:17.039Z"
   },
   {
    "duration": 11,
    "start_time": "2023-02-01T17:28:17.044Z"
   },
   {
    "duration": 122,
    "start_time": "2023-02-01T17:28:17.057Z"
   },
   {
    "duration": 111,
    "start_time": "2023-02-01T17:28:17.181Z"
   },
   {
    "duration": 26,
    "start_time": "2023-02-01T17:28:17.294Z"
   },
   {
    "duration": 9,
    "start_time": "2023-02-01T17:28:17.322Z"
   },
   {
    "duration": 127,
    "start_time": "2023-02-01T17:28:17.333Z"
   },
   {
    "duration": 7,
    "start_time": "2023-02-01T17:28:17.462Z"
   },
   {
    "duration": 20,
    "start_time": "2023-02-01T17:28:17.470Z"
   },
   {
    "duration": 104,
    "start_time": "2023-02-01T17:28:17.492Z"
   },
   {
    "duration": 7,
    "start_time": "2023-02-01T17:28:17.609Z"
   },
   {
    "duration": 14,
    "start_time": "2023-02-01T17:28:17.618Z"
   },
   {
    "duration": 3,
    "start_time": "2023-02-01T17:28:17.634Z"
   },
   {
    "duration": 20,
    "start_time": "2023-02-01T17:28:17.639Z"
   },
   {
    "duration": 5,
    "start_time": "2023-02-01T17:28:17.661Z"
   },
   {
    "duration": 8,
    "start_time": "2023-02-01T17:28:17.668Z"
   },
   {
    "duration": 6,
    "start_time": "2023-02-01T17:28:17.677Z"
   },
   {
    "duration": 12,
    "start_time": "2023-02-01T17:28:17.684Z"
   },
   {
    "duration": 13,
    "start_time": "2023-02-01T17:28:17.697Z"
   },
   {
    "duration": 12,
    "start_time": "2023-02-01T17:28:17.711Z"
   },
   {
    "duration": 299,
    "start_time": "2023-02-01T17:28:17.725Z"
   },
   {
    "duration": 9,
    "start_time": "2023-02-01T17:28:18.025Z"
   },
   {
    "duration": 12,
    "start_time": "2023-02-01T17:28:18.035Z"
   },
   {
    "duration": 315,
    "start_time": "2023-02-01T17:28:18.049Z"
   },
   {
    "duration": 618,
    "start_time": "2023-02-01T17:28:18.366Z"
   },
   {
    "duration": 588,
    "start_time": "2023-02-01T17:28:18.986Z"
   },
   {
    "duration": 568,
    "start_time": "2023-02-01T17:28:19.576Z"
   },
   {
    "duration": 672,
    "start_time": "2023-02-01T17:28:20.146Z"
   },
   {
    "duration": 184,
    "start_time": "2023-02-01T17:28:20.820Z"
   },
   {
    "duration": 184,
    "start_time": "2023-02-01T17:28:21.010Z"
   },
   {
    "duration": 296,
    "start_time": "2023-02-01T17:28:21.195Z"
   },
   {
    "duration": 570,
    "start_time": "2023-02-01T17:28:21.493Z"
   },
   {
    "duration": 290,
    "start_time": "2023-02-01T17:28:22.065Z"
   },
   {
    "duration": 289,
    "start_time": "2023-02-01T17:28:22.356Z"
   },
   {
    "duration": 295,
    "start_time": "2023-02-01T17:28:22.646Z"
   },
   {
    "duration": 640,
    "start_time": "2023-02-01T17:28:22.943Z"
   },
   {
    "duration": 14,
    "start_time": "2023-02-01T17:28:23.584Z"
   },
   {
    "duration": 635,
    "start_time": "2023-02-01T17:28:23.600Z"
   },
   {
    "duration": 541,
    "start_time": "2023-02-01T17:28:24.237Z"
   },
   {
    "duration": 839,
    "start_time": "2023-02-01T17:28:24.780Z"
   },
   {
    "duration": 19,
    "start_time": "2023-02-01T17:28:25.621Z"
   },
   {
    "duration": 9,
    "start_time": "2023-02-01T17:28:25.641Z"
   },
   {
    "duration": 217,
    "start_time": "2023-02-01T17:28:25.652Z"
   },
   {
    "duration": 42,
    "start_time": "2023-02-02T18:32:45.253Z"
   },
   {
    "duration": 1228,
    "start_time": "2023-02-02T18:32:55.996Z"
   },
   {
    "duration": 151,
    "start_time": "2023-02-02T18:32:57.226Z"
   },
   {
    "duration": 16,
    "start_time": "2023-02-02T18:32:57.378Z"
   },
   {
    "duration": 1835,
    "start_time": "2023-02-02T18:32:57.397Z"
   },
   {
    "duration": 15,
    "start_time": "2023-02-02T18:32:59.233Z"
   },
   {
    "duration": 69,
    "start_time": "2023-02-02T18:32:59.249Z"
   },
   {
    "duration": 19,
    "start_time": "2023-02-02T18:32:59.320Z"
   },
   {
    "duration": 11,
    "start_time": "2023-02-02T18:32:59.340Z"
   },
   {
    "duration": 104,
    "start_time": "2023-02-02T18:32:59.353Z"
   },
   {
    "duration": 6,
    "start_time": "2023-02-02T18:32:59.460Z"
   },
   {
    "duration": 14,
    "start_time": "2023-02-02T18:32:59.468Z"
   },
   {
    "duration": 4,
    "start_time": "2023-02-02T18:32:59.484Z"
   },
   {
    "duration": 8,
    "start_time": "2023-02-02T18:32:59.489Z"
   },
   {
    "duration": 128,
    "start_time": "2023-02-02T18:32:59.498Z"
   },
   {
    "duration": 107,
    "start_time": "2023-02-02T18:32:59.636Z"
   },
   {
    "duration": 12,
    "start_time": "2023-02-02T18:32:59.745Z"
   },
   {
    "duration": 9,
    "start_time": "2023-02-02T18:32:59.758Z"
   },
   {
    "duration": 114,
    "start_time": "2023-02-02T18:32:59.768Z"
   },
   {
    "duration": 6,
    "start_time": "2023-02-02T18:32:59.884Z"
   },
   {
    "duration": 22,
    "start_time": "2023-02-02T18:32:59.891Z"
   },
   {
    "duration": 91,
    "start_time": "2023-02-02T18:32:59.915Z"
   },
   {
    "duration": 7,
    "start_time": "2023-02-02T18:33:00.007Z"
   },
   {
    "duration": 21,
    "start_time": "2023-02-02T18:33:00.016Z"
   },
   {
    "duration": 4,
    "start_time": "2023-02-02T18:33:00.039Z"
   },
   {
    "duration": 16,
    "start_time": "2023-02-02T18:33:00.045Z"
   },
   {
    "duration": 9,
    "start_time": "2023-02-02T18:33:00.063Z"
   },
   {
    "duration": 7,
    "start_time": "2023-02-02T18:33:00.074Z"
   },
   {
    "duration": 22,
    "start_time": "2023-02-02T18:33:00.085Z"
   },
   {
    "duration": 44,
    "start_time": "2023-02-02T18:33:00.109Z"
   },
   {
    "duration": 28,
    "start_time": "2023-02-02T18:33:00.155Z"
   },
   {
    "duration": 21,
    "start_time": "2023-02-02T18:33:00.185Z"
   },
   {
    "duration": 308,
    "start_time": "2023-02-02T18:33:00.208Z"
   },
   {
    "duration": 10,
    "start_time": "2023-02-02T18:33:00.518Z"
   },
   {
    "duration": 39,
    "start_time": "2023-02-02T18:33:00.530Z"
   },
   {
    "duration": 261,
    "start_time": "2023-02-02T18:33:00.571Z"
   },
   {
    "duration": 360,
    "start_time": "2023-02-02T18:33:00.836Z"
   },
   {
    "duration": 590,
    "start_time": "2023-02-02T18:33:01.198Z"
   },
   {
    "duration": 554,
    "start_time": "2023-02-02T18:33:01.790Z"
   },
   {
    "duration": 726,
    "start_time": "2023-02-02T18:33:02.346Z"
   },
   {
    "duration": 169,
    "start_time": "2023-02-02T18:33:03.074Z"
   },
   {
    "duration": 171,
    "start_time": "2023-02-02T18:33:03.244Z"
   },
   {
    "duration": 284,
    "start_time": "2023-02-02T18:33:03.417Z"
   },
   {
    "duration": 480,
    "start_time": "2023-02-02T18:33:03.702Z"
   },
   {
    "duration": 285,
    "start_time": "2023-02-02T18:33:04.184Z"
   },
   {
    "duration": 393,
    "start_time": "2023-02-02T18:33:04.471Z"
   },
   {
    "duration": 305,
    "start_time": "2023-02-02T18:33:04.866Z"
   },
   {
    "duration": 598,
    "start_time": "2023-02-02T18:33:05.173Z"
   },
   {
    "duration": 13,
    "start_time": "2023-02-02T18:33:05.772Z"
   },
   {
    "duration": 630,
    "start_time": "2023-02-02T18:33:05.787Z"
   },
   {
    "duration": 609,
    "start_time": "2023-02-02T18:33:06.418Z"
   },
   {
    "duration": 697,
    "start_time": "2023-02-02T18:33:07.037Z"
   },
   {
    "duration": 17,
    "start_time": "2023-02-02T18:33:07.737Z"
   },
   {
    "duration": 6,
    "start_time": "2023-02-02T18:33:07.756Z"
   },
   {
    "duration": 247,
    "start_time": "2023-02-02T18:33:07.764Z"
   },
   {
    "duration": 410,
    "start_time": "2023-02-02T18:38:38.133Z"
   },
   {
    "duration": 351,
    "start_time": "2023-02-02T18:48:25.925Z"
   },
   {
    "duration": 262,
    "start_time": "2023-02-02T18:48:55.700Z"
   },
   {
    "duration": 266,
    "start_time": "2023-02-02T18:49:09.838Z"
   },
   {
    "duration": 324,
    "start_time": "2023-02-02T18:49:32.323Z"
   },
   {
    "duration": 299,
    "start_time": "2023-02-02T19:05:07.370Z"
   },
   {
    "duration": 291,
    "start_time": "2023-02-02T19:05:20.805Z"
   },
   {
    "duration": 96,
    "start_time": "2023-02-02T19:07:22.369Z"
   },
   {
    "duration": 74,
    "start_time": "2023-02-02T19:07:31.464Z"
   },
   {
    "duration": 313,
    "start_time": "2023-02-02T19:07:45.348Z"
   },
   {
    "duration": 431,
    "start_time": "2023-02-02T19:07:58.228Z"
   },
   {
    "duration": 463,
    "start_time": "2023-02-02T19:10:37.006Z"
   },
   {
    "duration": 1133,
    "start_time": "2023-02-02T19:13:17.771Z"
   },
   {
    "duration": 1142,
    "start_time": "2023-02-02T19:13:26.454Z"
   },
   {
    "duration": 1195,
    "start_time": "2023-02-02T19:14:04.139Z"
   },
   {
    "duration": 20,
    "start_time": "2023-02-02T19:14:52.744Z"
   },
   {
    "duration": 1293,
    "start_time": "2023-02-02T19:15:38.941Z"
   },
   {
    "duration": 305,
    "start_time": "2023-02-02T19:16:46.118Z"
   },
   {
    "duration": 244,
    "start_time": "2023-02-02T19:18:05.300Z"
   },
   {
    "duration": 282,
    "start_time": "2023-02-02T19:18:32.806Z"
   },
   {
    "duration": 10,
    "start_time": "2023-02-02T19:20:40.575Z"
   },
   {
    "duration": 272,
    "start_time": "2023-02-02T19:20:48.218Z"
   },
   {
    "duration": 386,
    "start_time": "2023-02-02T19:20:53.126Z"
   },
   {
    "duration": 312,
    "start_time": "2023-02-02T19:38:44.155Z"
   },
   {
    "duration": 12,
    "start_time": "2023-02-02T19:43:00.579Z"
   },
   {
    "duration": 16,
    "start_time": "2023-02-02T19:43:14.711Z"
   },
   {
    "duration": 17,
    "start_time": "2023-02-02T19:43:22.705Z"
   },
   {
    "duration": 40,
    "start_time": "2023-02-02T19:45:11.445Z"
   },
   {
    "duration": 631,
    "start_time": "2023-02-02T19:48:36.306Z"
   },
   {
    "duration": 4,
    "start_time": "2023-02-02T19:51:54.789Z"
   },
   {
    "duration": 188,
    "start_time": "2023-02-02T19:52:13.269Z"
   },
   {
    "duration": 4,
    "start_time": "2023-02-02T19:53:07.517Z"
   },
   {
    "duration": 186,
    "start_time": "2023-02-02T19:53:10.680Z"
   },
   {
    "duration": 4,
    "start_time": "2023-02-02T19:55:40.611Z"
   },
   {
    "duration": 184,
    "start_time": "2023-02-02T19:55:43.202Z"
   },
   {
    "duration": 1437,
    "start_time": "2023-02-03T17:00:12.795Z"
   },
   {
    "duration": 154,
    "start_time": "2023-02-03T17:00:14.235Z"
   },
   {
    "duration": 18,
    "start_time": "2023-02-03T17:00:14.391Z"
   },
   {
    "duration": 2183,
    "start_time": "2023-02-03T17:00:14.411Z"
   },
   {
    "duration": 20,
    "start_time": "2023-02-03T17:00:16.596Z"
   },
   {
    "duration": 91,
    "start_time": "2023-02-03T17:00:16.618Z"
   },
   {
    "duration": 7,
    "start_time": "2023-02-03T17:00:16.711Z"
   },
   {
    "duration": 42,
    "start_time": "2023-02-03T17:00:16.720Z"
   },
   {
    "duration": 130,
    "start_time": "2023-02-03T17:00:16.763Z"
   },
   {
    "duration": 6,
    "start_time": "2023-02-03T17:00:16.895Z"
   },
   {
    "duration": 37,
    "start_time": "2023-02-03T17:00:16.903Z"
   },
   {
    "duration": 5,
    "start_time": "2023-02-03T17:00:16.942Z"
   },
   {
    "duration": 18,
    "start_time": "2023-02-03T17:00:16.948Z"
   },
   {
    "duration": 150,
    "start_time": "2023-02-03T17:00:16.969Z"
   },
   {
    "duration": 134,
    "start_time": "2023-02-03T17:00:17.121Z"
   },
   {
    "duration": 28,
    "start_time": "2023-02-03T17:00:17.258Z"
   },
   {
    "duration": 12,
    "start_time": "2023-02-03T17:00:17.288Z"
   },
   {
    "duration": 138,
    "start_time": "2023-02-03T17:00:17.302Z"
   },
   {
    "duration": 8,
    "start_time": "2023-02-03T17:00:17.442Z"
   },
   {
    "duration": 38,
    "start_time": "2023-02-03T17:00:17.452Z"
   },
   {
    "duration": 102,
    "start_time": "2023-02-03T17:00:17.492Z"
   },
   {
    "duration": 9,
    "start_time": "2023-02-03T17:00:17.595Z"
   },
   {
    "duration": 27,
    "start_time": "2023-02-03T17:00:17.606Z"
   },
   {
    "duration": 7,
    "start_time": "2023-02-03T17:00:17.635Z"
   },
   {
    "duration": 21,
    "start_time": "2023-02-03T17:00:17.644Z"
   },
   {
    "duration": 8,
    "start_time": "2023-02-03T17:00:17.667Z"
   },
   {
    "duration": 26,
    "start_time": "2023-02-03T17:00:17.677Z"
   },
   {
    "duration": 18,
    "start_time": "2023-02-03T17:00:17.706Z"
   },
   {
    "duration": 17,
    "start_time": "2023-02-03T17:00:17.726Z"
   },
   {
    "duration": 9,
    "start_time": "2023-02-03T17:00:17.745Z"
   },
   {
    "duration": 27,
    "start_time": "2023-02-03T17:00:17.756Z"
   },
   {
    "duration": 327,
    "start_time": "2023-02-03T17:00:17.785Z"
   },
   {
    "duration": 14,
    "start_time": "2023-02-03T17:00:18.114Z"
   },
   {
    "duration": 16,
    "start_time": "2023-02-03T17:00:18.130Z"
   },
   {
    "duration": 326,
    "start_time": "2023-02-03T17:00:18.149Z"
   },
   {
    "duration": 507,
    "start_time": "2023-02-03T17:00:18.477Z"
   },
   {
    "duration": 807,
    "start_time": "2023-02-03T17:00:18.986Z"
   },
   {
    "duration": 406,
    "start_time": "2023-02-03T17:00:19.796Z"
   },
   {
    "duration": 736,
    "start_time": "2023-02-03T17:00:20.203Z"
   },
   {
    "duration": 344,
    "start_time": "2023-02-03T17:00:20.940Z"
   },
   {
    "duration": 84,
    "start_time": "2023-02-03T17:00:21.288Z"
   },
   {
    "duration": 1,
    "start_time": "2023-02-03T17:00:21.374Z"
   },
   {
    "duration": 0,
    "start_time": "2023-02-03T17:00:21.377Z"
   },
   {
    "duration": 0,
    "start_time": "2023-02-03T17:00:21.378Z"
   },
   {
    "duration": 0,
    "start_time": "2023-02-03T17:00:21.380Z"
   },
   {
    "duration": 0,
    "start_time": "2023-02-03T17:00:21.382Z"
   },
   {
    "duration": 0,
    "start_time": "2023-02-03T17:00:21.383Z"
   },
   {
    "duration": 0,
    "start_time": "2023-02-03T17:00:21.385Z"
   },
   {
    "duration": 0,
    "start_time": "2023-02-03T17:00:21.386Z"
   },
   {
    "duration": 0,
    "start_time": "2023-02-03T17:00:21.388Z"
   },
   {
    "duration": 0,
    "start_time": "2023-02-03T17:00:21.389Z"
   },
   {
    "duration": 0,
    "start_time": "2023-02-03T17:00:21.391Z"
   },
   {
    "duration": 0,
    "start_time": "2023-02-03T17:00:21.392Z"
   },
   {
    "duration": 0,
    "start_time": "2023-02-03T17:00:21.394Z"
   },
   {
    "duration": 0,
    "start_time": "2023-02-03T17:00:21.395Z"
   },
   {
    "duration": 0,
    "start_time": "2023-02-03T17:00:21.397Z"
   },
   {
    "duration": 0,
    "start_time": "2023-02-03T17:00:21.399Z"
   },
   {
    "duration": 0,
    "start_time": "2023-02-03T17:00:21.400Z"
   },
   {
    "duration": 216,
    "start_time": "2023-02-03T17:00:39.135Z"
   },
   {
    "duration": 482,
    "start_time": "2023-02-03T17:00:39.619Z"
   },
   {
    "duration": 320,
    "start_time": "2023-02-03T17:00:40.104Z"
   },
   {
    "duration": 328,
    "start_time": "2023-02-03T17:00:40.651Z"
   },
   {
    "duration": 391,
    "start_time": "2023-02-03T17:00:41.245Z"
   },
   {
    "duration": 359,
    "start_time": "2023-02-03T17:00:41.753Z"
   },
   {
    "duration": 500,
    "start_time": "2023-02-03T17:00:42.424Z"
   },
   {
    "duration": 350,
    "start_time": "2023-02-03T17:00:43.998Z"
   },
   {
    "duration": 16,
    "start_time": "2023-02-03T17:00:44.568Z"
   },
   {
    "duration": 333,
    "start_time": "2023-02-03T17:00:44.791Z"
   },
   {
    "duration": 337,
    "start_time": "2023-02-03T17:00:45.237Z"
   },
   {
    "duration": 47,
    "start_time": "2023-02-03T17:00:46.177Z"
   },
   {
    "duration": 966,
    "start_time": "2023-02-03T17:00:46.567Z"
   },
   {
    "duration": 0,
    "start_time": "2023-02-03T17:00:47.535Z"
   },
   {
    "duration": 10,
    "start_time": "2023-02-03T17:00:47.685Z"
   },
   {
    "duration": 1338,
    "start_time": "2023-02-04T09:31:37.522Z"
   },
   {
    "duration": 334,
    "start_time": "2023-02-04T09:31:38.862Z"
   },
   {
    "duration": 14,
    "start_time": "2023-02-04T09:31:39.198Z"
   },
   {
    "duration": 1944,
    "start_time": "2023-02-04T09:31:39.213Z"
   },
   {
    "duration": 16,
    "start_time": "2023-02-04T09:31:41.160Z"
   },
   {
    "duration": 86,
    "start_time": "2023-02-04T09:31:41.178Z"
   },
   {
    "duration": 5,
    "start_time": "2023-02-04T09:31:41.265Z"
   },
   {
    "duration": 8,
    "start_time": "2023-02-04T09:31:41.272Z"
   },
   {
    "duration": 106,
    "start_time": "2023-02-04T09:31:41.282Z"
   },
   {
    "duration": 6,
    "start_time": "2023-02-04T09:31:41.390Z"
   },
   {
    "duration": 31,
    "start_time": "2023-02-04T09:31:41.397Z"
   },
   {
    "duration": 4,
    "start_time": "2023-02-04T09:31:41.430Z"
   },
   {
    "duration": 19,
    "start_time": "2023-02-04T09:31:41.436Z"
   },
   {
    "duration": 119,
    "start_time": "2023-02-04T09:31:41.458Z"
   },
   {
    "duration": 128,
    "start_time": "2023-02-04T09:31:41.579Z"
   },
   {
    "duration": 22,
    "start_time": "2023-02-04T09:31:41.708Z"
   },
   {
    "duration": 13,
    "start_time": "2023-02-04T09:31:41.732Z"
   },
   {
    "duration": 116,
    "start_time": "2023-02-04T09:31:41.746Z"
   },
   {
    "duration": 7,
    "start_time": "2023-02-04T09:31:41.863Z"
   },
   {
    "duration": 18,
    "start_time": "2023-02-04T09:31:41.871Z"
   },
   {
    "duration": 100,
    "start_time": "2023-02-04T09:31:41.891Z"
   },
   {
    "duration": 7,
    "start_time": "2023-02-04T09:31:41.993Z"
   },
   {
    "duration": 14,
    "start_time": "2023-02-04T09:31:42.002Z"
   },
   {
    "duration": 13,
    "start_time": "2023-02-04T09:31:42.018Z"
   },
   {
    "duration": 31,
    "start_time": "2023-02-04T09:31:42.032Z"
   },
   {
    "duration": 3,
    "start_time": "2023-02-04T09:31:42.065Z"
   },
   {
    "duration": 5,
    "start_time": "2023-02-04T09:31:42.070Z"
   },
   {
    "duration": 8,
    "start_time": "2023-02-04T09:31:42.076Z"
   },
   {
    "duration": 15,
    "start_time": "2023-02-04T09:31:42.085Z"
   },
   {
    "duration": 9,
    "start_time": "2023-02-04T09:31:42.102Z"
   },
   {
    "duration": 18,
    "start_time": "2023-02-04T09:31:42.114Z"
   },
   {
    "duration": 290,
    "start_time": "2023-02-04T09:31:42.134Z"
   },
   {
    "duration": 17,
    "start_time": "2023-02-04T09:31:42.425Z"
   },
   {
    "duration": 15,
    "start_time": "2023-02-04T09:31:42.444Z"
   },
   {
    "duration": 287,
    "start_time": "2023-02-04T09:31:42.461Z"
   },
   {
    "duration": 371,
    "start_time": "2023-02-04T09:31:42.750Z"
   },
   {
    "duration": 641,
    "start_time": "2023-02-04T09:31:43.123Z"
   },
   {
    "duration": 299,
    "start_time": "2023-02-04T09:31:43.766Z"
   },
   {
    "duration": 609,
    "start_time": "2023-02-04T09:31:44.066Z"
   },
   {
    "duration": 291,
    "start_time": "2023-02-04T09:31:44.677Z"
   },
   {
    "duration": 187,
    "start_time": "2023-02-04T09:31:44.971Z"
   },
   {
    "duration": 315,
    "start_time": "2023-02-04T09:31:45.159Z"
   },
   {
    "duration": 277,
    "start_time": "2023-02-04T09:31:45.475Z"
   },
   {
    "duration": 298,
    "start_time": "2023-02-04T09:31:45.753Z"
   },
   {
    "duration": 297,
    "start_time": "2023-02-04T09:31:46.053Z"
   },
   {
    "duration": 319,
    "start_time": "2023-02-04T09:31:46.352Z"
   },
   {
    "duration": 419,
    "start_time": "2023-02-04T09:31:46.673Z"
   },
   {
    "duration": 358,
    "start_time": "2023-02-04T09:31:47.094Z"
   },
   {
    "duration": 18,
    "start_time": "2023-02-04T09:31:47.454Z"
   },
   {
    "duration": 296,
    "start_time": "2023-02-04T09:31:47.474Z"
   },
   {
    "duration": 313,
    "start_time": "2023-02-04T09:31:47.771Z"
   },
   {
    "duration": 77,
    "start_time": "2023-02-04T09:31:48.086Z"
   },
   {
    "duration": 880,
    "start_time": "2023-02-04T09:31:48.166Z"
   },
   {
    "duration": 0,
    "start_time": "2023-02-04T09:31:49.048Z"
   },
   {
    "duration": 0,
    "start_time": "2023-02-04T09:31:49.049Z"
   },
   {
    "duration": 0,
    "start_time": "2023-02-04T09:31:49.051Z"
   },
   {
    "duration": 0,
    "start_time": "2023-02-04T09:31:49.052Z"
   },
   {
    "duration": 4,
    "start_time": "2023-02-04T09:35:09.429Z"
   },
   {
    "duration": 47,
    "start_time": "2023-02-04T09:35:15.184Z"
   },
   {
    "duration": 644,
    "start_time": "2023-02-04T09:35:39.326Z"
   },
   {
    "duration": 41,
    "start_time": "2023-02-04T09:35:46.545Z"
   },
   {
    "duration": 1304,
    "start_time": "2023-02-05T09:16:12.127Z"
   },
   {
    "duration": 339,
    "start_time": "2023-02-05T09:16:13.433Z"
   },
   {
    "duration": 17,
    "start_time": "2023-02-05T09:16:13.773Z"
   },
   {
    "duration": 2059,
    "start_time": "2023-02-05T09:16:13.793Z"
   },
   {
    "duration": 16,
    "start_time": "2023-02-05T09:16:15.854Z"
   },
   {
    "duration": 74,
    "start_time": "2023-02-05T09:16:15.872Z"
   },
   {
    "duration": 6,
    "start_time": "2023-02-05T09:16:15.948Z"
   },
   {
    "duration": 12,
    "start_time": "2023-02-05T09:16:15.956Z"
   },
   {
    "duration": 134,
    "start_time": "2023-02-05T09:16:15.970Z"
   },
   {
    "duration": 7,
    "start_time": "2023-02-05T09:16:16.107Z"
   },
   {
    "duration": 20,
    "start_time": "2023-02-05T09:16:16.116Z"
   },
   {
    "duration": 5,
    "start_time": "2023-02-05T09:16:16.137Z"
   },
   {
    "duration": 15,
    "start_time": "2023-02-05T09:16:16.144Z"
   },
   {
    "duration": 145,
    "start_time": "2023-02-05T09:16:16.161Z"
   },
   {
    "duration": 126,
    "start_time": "2023-02-05T09:16:16.308Z"
   },
   {
    "duration": 14,
    "start_time": "2023-02-05T09:16:16.436Z"
   },
   {
    "duration": 10,
    "start_time": "2023-02-05T09:16:16.452Z"
   },
   {
    "duration": 145,
    "start_time": "2023-02-05T09:16:16.463Z"
   },
   {
    "duration": 8,
    "start_time": "2023-02-05T09:16:16.610Z"
   },
   {
    "duration": 28,
    "start_time": "2023-02-05T09:16:16.620Z"
   },
   {
    "duration": 132,
    "start_time": "2023-02-05T09:16:16.650Z"
   },
   {
    "duration": 10,
    "start_time": "2023-02-05T09:16:16.784Z"
   },
   {
    "duration": 14,
    "start_time": "2023-02-05T09:16:16.805Z"
   },
   {
    "duration": 8,
    "start_time": "2023-02-05T09:16:16.821Z"
   },
   {
    "duration": 10,
    "start_time": "2023-02-05T09:16:16.830Z"
   },
   {
    "duration": 3,
    "start_time": "2023-02-05T09:16:16.842Z"
   },
   {
    "duration": 9,
    "start_time": "2023-02-05T09:16:16.846Z"
   },
   {
    "duration": 6,
    "start_time": "2023-02-05T09:16:16.858Z"
   },
   {
    "duration": 11,
    "start_time": "2023-02-05T09:16:16.866Z"
   },
   {
    "duration": 6,
    "start_time": "2023-02-05T09:16:16.879Z"
   },
   {
    "duration": 25,
    "start_time": "2023-02-05T09:16:16.887Z"
   },
   {
    "duration": 289,
    "start_time": "2023-02-05T09:16:16.914Z"
   },
   {
    "duration": 11,
    "start_time": "2023-02-05T09:16:17.205Z"
   },
   {
    "duration": 14,
    "start_time": "2023-02-05T09:16:17.218Z"
   },
   {
    "duration": 303,
    "start_time": "2023-02-05T09:16:17.233Z"
   },
   {
    "duration": 384,
    "start_time": "2023-02-05T09:16:17.537Z"
   },
   {
    "duration": 643,
    "start_time": "2023-02-05T09:16:17.923Z"
   },
   {
    "duration": 299,
    "start_time": "2023-02-05T09:16:18.568Z"
   },
   {
    "duration": 679,
    "start_time": "2023-02-05T09:16:18.868Z"
   },
   {
    "duration": 305,
    "start_time": "2023-02-05T09:16:19.549Z"
   },
   {
    "duration": 197,
    "start_time": "2023-02-05T09:16:19.855Z"
   },
   {
    "duration": 342,
    "start_time": "2023-02-05T09:16:20.053Z"
   },
   {
    "duration": 278,
    "start_time": "2023-02-05T09:16:20.399Z"
   },
   {
    "duration": 327,
    "start_time": "2023-02-05T09:16:20.679Z"
   },
   {
    "duration": 345,
    "start_time": "2023-02-05T09:16:21.008Z"
   },
   {
    "duration": 334,
    "start_time": "2023-02-05T09:16:21.354Z"
   },
   {
    "duration": 460,
    "start_time": "2023-02-05T09:16:21.690Z"
   },
   {
    "duration": 333,
    "start_time": "2023-02-05T09:16:22.152Z"
   },
   {
    "duration": 28,
    "start_time": "2023-02-05T09:16:22.486Z"
   },
   {
    "duration": 307,
    "start_time": "2023-02-05T09:16:22.516Z"
   },
   {
    "duration": 344,
    "start_time": "2023-02-05T09:16:22.824Z"
   },
   {
    "duration": 650,
    "start_time": "2023-02-05T09:16:23.170Z"
   },
   {
    "duration": 45,
    "start_time": "2023-02-05T09:16:23.821Z"
   },
   {
    "duration": 942,
    "start_time": "2023-02-05T09:16:23.870Z"
   },
   {
    "duration": 0,
    "start_time": "2023-02-05T09:16:24.813Z"
   },
   {
    "duration": 0,
    "start_time": "2023-02-05T09:16:24.815Z"
   },
   {
    "duration": 0,
    "start_time": "2023-02-05T09:16:24.816Z"
   },
   {
    "duration": 0,
    "start_time": "2023-02-05T09:16:24.817Z"
   },
   {
    "duration": 20,
    "start_time": "2023-02-05T09:17:23.359Z"
   },
   {
    "duration": 9,
    "start_time": "2023-02-05T09:17:24.196Z"
   },
   {
    "duration": 5,
    "start_time": "2023-02-05T09:17:25.168Z"
   },
   {
    "duration": 211,
    "start_time": "2023-02-05T09:17:25.576Z"
   }
  ],
  "kernelspec": {
   "display_name": "Python 3 (ipykernel)",
   "language": "python",
   "name": "python3"
  },
  "language_info": {
   "codemirror_mode": {
    "name": "ipython",
    "version": 3
   },
   "file_extension": ".py",
   "mimetype": "text/x-python",
   "name": "python",
   "nbconvert_exporter": "python",
   "pygments_lexer": "ipython3",
   "version": "3.9.5"
  },
  "toc": {
   "base_numbering": 1,
   "nav_menu": {},
   "number_sections": true,
   "sideBar": true,
   "skip_h1_title": true,
   "title_cell": "Table of Contents",
   "title_sidebar": "Contents",
   "toc_cell": false,
   "toc_position": {},
   "toc_section_display": true,
   "toc_window_display": false
  }
 },
 "nbformat": 4,
 "nbformat_minor": 2
}
