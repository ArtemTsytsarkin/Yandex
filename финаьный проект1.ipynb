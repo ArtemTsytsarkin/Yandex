{
 "cells": [
  {
   "cell_type": "markdown",
   "metadata": {},
   "source": [
    "пожалуйста,прими работу. я работаю на основной работе,где меня *** и в хост и гриву. я очень устал не спать. а еще а/б тест.  \n",
    "либо пиши пожалуйста детально что ты хочешь от меня.  очень детально.\n",
    "я знаю что графиков не хватает и можно лучше и так далее. но я уже все.это предел.\n",
    "честно"
   ]
  },
  {
   "cell_type": "markdown",
   "metadata": {},
   "source": [
    "<blockquote>\n",
    "Привет, Артем! \n",
    "\n",
    "Меня зовут Светлана Медведева и я буду проверять Твою работу. Предлагаю общаться на \"ты\". Если Тебе такой вариант не удобен. то пожалуйста дай знать. Я сразу перейду на \"Вы\".\n",
    "\n",
    "При обнаружении у Тебя в работе ошибки, в первый раз я лишь укажу на ее наличие и у Тебя будет возможность самому найти её и исправить. В реальной работе твой начальник будет поступать также, а я пытаюсь подготовить тебя именно к работе Data Scientist. Однако, если ты пока не справишься с такой задачей - при следующей проверке я дам более точную подсказку.\n",
    "\n",
    "Просьба при доработке работы оставлять мои комментарии без изменений.\n",
    "\n",
    "Комментарии я разделяю на следующие категории:\n",
    "\n",
    "<div class=\"alert alert-block alert-success\">\n",
    "В случае если всё верно!\n",
    "</div>\n",
    "\n",
    "\n",
    "<div class=\"alert alert-block alert-warning\">\n",
    "В случае если можно что-то доработать, но эта доработка не критична или если есть варианты улучшения работы.\n",
    "</div>\n",
    "\n",
    "<div class=\"alert alert-block alert-danger\">\n",
    "Замечания, которые нужно исправить. Без исправления этих замечаний проект принят не может быть.\n",
    "</div>\n",
    "\n",
    "<div class=\"alert alert-block alert-info\">\n",
    "Дополнительные материалы, выходящие за рамки программы.\n",
    "</div>\n",
    "    \n",
    "</blockquote>\n",
    "\n",
    "### <font color='blue'>Резензия на работу v. 1</font> <a class=\"tocSkip\">\n",
    "    \n",
    "В целом у тебя неплохая работа, но нужно исправить критичные комментарии и было бы здорово проработать комментарии на улучшение проекта.\n",
    "    \n",
    "Кроме того, нужно добавить ссылку на презентацию.\n",
    "    \n",
    "Жду исправленную работу) Успехов!\n",
    "    \n",
    "### <font color='blue'>Резензия на работу v. 2</font> <a class=\"tocSkip\">\n",
    "    \n",
    "Отлично, что доработал комментарии, но сейчас код падает с ошибкой, поэтому работа проверена только до ошибки в коде. Это нужно исправить. Проверь, пожалуйста, ссылку на презентацию (самой ссылки нет...). Может быть ты загрузил не финальную версию проекта?\n",
    "    \n",
    "В любом случае жду работу на проверку) Успехов!\n",
    "    \n",
    "### <font color='blue'>Резензия на работу v. 3</font> <a class=\"tocSkip\">\n",
    "    \n",
    "Ты молодец и осталась буквально пара доработок по сегментации, статистическим тестам и презентации.\n",
    "    \n",
    "Жду исправленную работу:) Успехов!\n",
    "    \n",
    "### <font color='blue'>Резензия на работу v. 4</font> <a class=\"tocSkip\">\n",
    "    \n",
    "Отлично, критичные комментарии исправлены, но на будущее рекомендую обратить внимание на оформление презентации и более детальный анализ сегментов.\n",
    "    \n",
    "Поздравляю, проект принят:)\n",
    "    \n",
    "Успехов!"
   ]
  },
  {
   "cell_type": "markdown",
   "metadata": {},
   "source": [
    "ссылка на презентацию  \n",
    "https://disk.yandex.ru/i/qBplDia_A6OuVg\n",
    "\n",
    "ссылка на пдф \n",
    "https://disk.yandex.ru/i/89a7IePdDK3fnw\n"
   ]
  },
  {
   "cell_type": "markdown",
   "metadata": {},
   "source": [
    "<div class=\"alert alert-block alert-warning\">\n",
    "\n",
    "v. 3\n",
    "    \n",
    "слайд 1:\n",
    "\n",
    "Было бы здорово улучшить дизайн презентации.\n",
    "    \n",
    "Подробнее можно посмотреть: \n",
    "    \n",
    "1.\thttps://vc.ru/marketing/345729-podgotovka-i-uspeshnoe-provedenie-prodayushchey-prezentacii\n",
    "2.\thttp://www.machinelearning.ru/wiki/index.php?title=%D0%9F%D0%BE%D0%B4%D0%B3%D0%BE%D1%82%D0%BE%D0%B2%D0%BA%D0%B0_%D0%BF%D1%80%D0%B5%D0%B7%D0%B5%D0%BD%D1%82%D0%B0%D1%86%D0%B8%D0%B9_%28%D1%80%D0%B5%D0%BA%D0%BE%D0%BC%D0%B5%D0%BD%D0%B4%D0%B0%D1%86%D0%B8%D0%B8%29  \n",
    "    \n",
    "\n",
    "слайд 2:\n",
    "\n",
    "Отлично, что добавил содержание презентации, но нумерацию пунктов можно убрать)\n",
    "   \n",
    "</div>"
   ]
  },
  {
   "cell_type": "markdown",
   "metadata": {},
   "source": [
    "<div class=\"alert alert-block alert-success\">\n",
    "\n",
    "v. 3\n",
    "    \n",
    "слайд 3:\n",
    "    \n",
    "Основные особенности данных описаны) \n",
    "\n",
    "слайд 4:\n",
    "    \n",
    "Да, критерии влияющие на отточность выявлены.\n",
    "    \n",
    "</div>"
   ]
  },
  {
   "cell_type": "markdown",
   "metadata": {},
   "source": [
    "<div class=\"alert alert-block alert-warning\">\n",
    "\n",
    "v. 3\n",
    "    \n",
    "слайд 5:\n",
    "\n",
    "В рассматриваемых статистических тестах мы проверяем гипотезу о равенстве средних показателей между группами, т. е. гипотезу \"различия колличества продуктов между теми клиентами, которые ушли и теми, которые остались.\" нужно переформулировать как \"различия среднего количества продуктов между теми клиентами, которые ушли и теми, которые остались.\".\n",
    "    \n",
    "</div>"
   ]
  },
  {
   "cell_type": "markdown",
   "metadata": {},
   "source": [
    "<div class=\"alert alert-block alert-danger\">\n",
    "\n",
    "v. 3\n",
    "    \n",
    "слайд 6:\n",
    "\n",
    "Сегменты клиентов нужно описать детальнее (обязательно указать размер сегмента и уровень оттока клиентов в этом сегменте).\n",
    "\n",
    "</div>"
   ]
  },
  {
   "cell_type": "markdown",
   "metadata": {},
   "source": [
    "<div class=\"alert alert-block alert-success\">\n",
    "\n",
    "v. 4\n",
    "    \n",
    "Отлично, рекомендации по сегментам описаны. \n",
    "    \n",
    "</div>"
   ]
  },
  {
   "cell_type": "markdown",
   "metadata": {},
   "source": [
    "ссылка на дашборд https://public.tableau.com/app/profile/artem.tsytsarkin/viz/yandex_bank/Dashboard1"
   ]
  },
  {
   "cell_type": "code",
   "execution_count": 1,
   "metadata": {},
   "outputs": [],
   "source": [
    "\n",
    "import pandas as pd\n",
    "import numpy as np\n",
    "import matplotlib as mpl\n",
    "import matplotlib.pyplot as plt\n",
    "import seaborn as sns\n",
    "import plotly.express as px\n",
    "import warnings; warnings.filterwarnings(action = 'ignore')\n",
    "\n",
    "from scipy import stats as st\n",
    "from plotly import graph_objects as go\n",
    "from IPython.display import set_matplotlib_formats\n",
    "from pandas.plotting import register_matplotlib_converters\n",
    "#from sklearn.model_selection import train_test_split\n",
    "from sklearn.preprocessing import StandardScaler\n",
    "#from sklearn.metrics import accuracy_score, precision_score, recall_score, f1_score\n",
    "#from sklearn.linear_model import LogisticRegression\n",
    "#from sklearn.ensemble import RandomForestClassifier\n",
    "from sklearn.cluster import KMeans\n",
    "from sklearn.metrics import silhouette_score\n",
    "from scipy.cluster.hierarchy import dendrogram, linkage\n",
    "from scipy.stats import spearmanr\n",
    "\n",
    "register_matplotlib_converters()"
   ]
  },
  {
   "cell_type": "markdown",
   "metadata": {},
   "source": [
    "<div class=\"alert alert-block alert-success\">\n",
    "\n",
    "v. 1\n",
    "    \n",
    "<a href='https://pythonworld.ru/osnovy/pep-8-rukovodstvo-po-napisaniyu-koda-na-python.html'>Материал по импорту.</a> Также есть простые правила — не стоит импортировать дважды одно и то же, желательно разбивать импорт на группы (отделять друг от друга переносами строк и комментариями), при этом импорт <a href='https://docs.python.org/3/library/index.html'>стандартных библиотек</a> стоит размещать в начале.\n",
    "    \n",
    "Вижу, что в целом следуешь рекомендациям, комментарий скорее для общей информации)\n",
    "</div>"
   ]
  },
  {
   "cell_type": "markdown",
   "metadata": {},
   "source": [
    "Шаг 1. Открытие файла с данными и изучение общей информации\n",
    "\n",
    "Путь к файлу: https://code.s3.yandex.net/datasets/\n",
    "\n"
   ]
  },
  {
   "cell_type": "code",
   "execution_count": 2,
   "metadata": {},
   "outputs": [],
   "source": [
    "#df = pd.read_csv('/datasets/bank_scrooge.csv')\n",
    "\n",
    "\n",
    "try:\n",
    "    df = pd.read_csv('https://code.s3.yandex.net/datasets/bank_scrooge.csv')\n",
    "except:\n",
    "    df = pd.read_csv('/datasets/bank_scrooge.csv')"
   ]
  },
  {
   "cell_type": "markdown",
   "metadata": {},
   "source": [
    "<div class=\"alert alert-block alert-warning\">\n",
    "\n",
    "v. 1\n",
    "    \n",
    "Отлично, данные загружены.\n",
    "    \n",
    "Часто удобный вариант применение try-except (если нужно работать с разными путями) или можно загружать файлы, заранее проверяя методами <tt>os.path.isfile</tt> или <tt>os.path.exists</tt> существование файла. Для путей в интернете этот метод не годится.\n",
    "\n",
    "На платформе датасеты лежат в папке datasets, доступ из интернета к ней можно получить по пути https://code.s3.yandex.net/datasets/\n",
    "</div>"
   ]
  },
  {
   "cell_type": "markdown",
   "metadata": {},
   "source": [
    "<div class=\"alert alert-block alert-success\">\n",
    "\n",
    "v. 2\n",
    "    \n",
    "Отлично, но в try-except лучше обрабатывать заданный тип исключения. \n",
    "    \n",
    "Подробнее: https://pythonworld.ru/tipy-dannyx-v-python/isklyucheniya-v-python-konstrukciya-try-except-dlya-obrabotki-isklyuchenij.html\n",
    "    \n",
    "</div>"
   ]
  },
  {
   "cell_type": "markdown",
   "metadata": {},
   "source": [
    "Шаг 2. Подготовка данные\n",
    "\n",
    "- посмотреть колличество строк, типы данных... через метод info\n",
    "- посмотреть информацию через метод describe\n",
    "- посмотреть колиичество дубликатов\n",
    "\n",
    "- Заменить название столбцов (привести к нижнему регистру)\n",
    "- удалить явные и неявные дубликаты\n",
    "- привести к необходимым типам данных,если нужно\n",
    "- выявить количество пропусков и проанализировать влияние на дальнейшее решение\n",
    "- иследование выбрасов"
   ]
  },
  {
   "cell_type": "code",
   "execution_count": 3,
   "metadata": {},
   "outputs": [
    {
     "data": {
      "text/html": [
       "<div>\n",
       "<style scoped>\n",
       "    .dataframe tbody tr th:only-of-type {\n",
       "        vertical-align: middle;\n",
       "    }\n",
       "\n",
       "    .dataframe tbody tr th {\n",
       "        vertical-align: top;\n",
       "    }\n",
       "\n",
       "    .dataframe thead th {\n",
       "        text-align: right;\n",
       "    }\n",
       "</style>\n",
       "<table border=\"1\" class=\"dataframe\">\n",
       "  <thead>\n",
       "    <tr style=\"text-align: right;\">\n",
       "      <th></th>\n",
       "      <th>USERID</th>\n",
       "      <th>score</th>\n",
       "      <th>city</th>\n",
       "      <th>gender</th>\n",
       "      <th>age</th>\n",
       "      <th>equity</th>\n",
       "      <th>balance</th>\n",
       "      <th>products</th>\n",
       "      <th>credit_card</th>\n",
       "      <th>last_activity</th>\n",
       "      <th>EST_SALARY</th>\n",
       "      <th>churn</th>\n",
       "    </tr>\n",
       "  </thead>\n",
       "  <tbody>\n",
       "    <tr>\n",
       "      <th>0</th>\n",
       "      <td>183012</td>\n",
       "      <td>850.0</td>\n",
       "      <td>Рыбинск</td>\n",
       "      <td>Ж</td>\n",
       "      <td>25.0</td>\n",
       "      <td>1</td>\n",
       "      <td>59214.82</td>\n",
       "      <td>2</td>\n",
       "      <td>0</td>\n",
       "      <td>1</td>\n",
       "      <td>75719.14</td>\n",
       "      <td>1</td>\n",
       "    </tr>\n",
       "    <tr>\n",
       "      <th>1</th>\n",
       "      <td>146556</td>\n",
       "      <td>861.0</td>\n",
       "      <td>Рыбинск</td>\n",
       "      <td>Ж</td>\n",
       "      <td>37.0</td>\n",
       "      <td>5</td>\n",
       "      <td>850594.33</td>\n",
       "      <td>3</td>\n",
       "      <td>1</td>\n",
       "      <td>0</td>\n",
       "      <td>86621.77</td>\n",
       "      <td>0</td>\n",
       "    </tr>\n",
       "    <tr>\n",
       "      <th>2</th>\n",
       "      <td>120722</td>\n",
       "      <td>892.0</td>\n",
       "      <td>Рыбинск</td>\n",
       "      <td>Ж</td>\n",
       "      <td>30.0</td>\n",
       "      <td>0</td>\n",
       "      <td>NaN</td>\n",
       "      <td>1</td>\n",
       "      <td>1</td>\n",
       "      <td>1</td>\n",
       "      <td>107683.34</td>\n",
       "      <td>0</td>\n",
       "    </tr>\n",
       "    <tr>\n",
       "      <th>3</th>\n",
       "      <td>225363</td>\n",
       "      <td>866.0</td>\n",
       "      <td>Ярославль</td>\n",
       "      <td>Ж</td>\n",
       "      <td>51.0</td>\n",
       "      <td>5</td>\n",
       "      <td>1524746.26</td>\n",
       "      <td>2</td>\n",
       "      <td>0</td>\n",
       "      <td>1</td>\n",
       "      <td>174423.53</td>\n",
       "      <td>1</td>\n",
       "    </tr>\n",
       "    <tr>\n",
       "      <th>4</th>\n",
       "      <td>157978</td>\n",
       "      <td>730.0</td>\n",
       "      <td>Ярославль</td>\n",
       "      <td>М</td>\n",
       "      <td>34.0</td>\n",
       "      <td>5</td>\n",
       "      <td>174.00</td>\n",
       "      <td>1</td>\n",
       "      <td>1</td>\n",
       "      <td>0</td>\n",
       "      <td>67353.16</td>\n",
       "      <td>1</td>\n",
       "    </tr>\n",
       "  </tbody>\n",
       "</table>\n",
       "</div>"
      ],
      "text/plain": [
       "   USERID  score       city gender   age  equity     balance  products  \\\n",
       "0  183012  850.0    Рыбинск      Ж  25.0       1    59214.82         2   \n",
       "1  146556  861.0    Рыбинск      Ж  37.0       5   850594.33         3   \n",
       "2  120722  892.0    Рыбинск      Ж  30.0       0         NaN         1   \n",
       "3  225363  866.0  Ярославль      Ж  51.0       5  1524746.26         2   \n",
       "4  157978  730.0  Ярославль      М  34.0       5      174.00         1   \n",
       "\n",
       "   credit_card  last_activity  EST_SALARY  churn  \n",
       "0            0              1    75719.14      1  \n",
       "1            1              0    86621.77      0  \n",
       "2            1              1   107683.34      0  \n",
       "3            0              1   174423.53      1  \n",
       "4            1              0    67353.16      1  "
      ]
     },
     "execution_count": 3,
     "metadata": {},
     "output_type": "execute_result"
    }
   ],
   "source": [
    "df.head()"
   ]
  },
  {
   "cell_type": "code",
   "execution_count": 4,
   "metadata": {},
   "outputs": [],
   "source": [
    "df.columns = df.columns.str.lower()"
   ]
  },
  {
   "cell_type": "code",
   "execution_count": null,
   "metadata": {},
   "outputs": [],
   "source": []
  },
  {
   "cell_type": "markdown",
   "metadata": {},
   "source": [
    "<div class=\"alert alert-block alert-success\">\n",
    "\n",
    "v. 1\n",
    "    \n",
    "Молодец, что привёл название столбцов к одному регистру.\n",
    "</div>"
   ]
  },
  {
   "cell_type": "code",
   "execution_count": 5,
   "metadata": {},
   "outputs": [
    {
     "name": "stdout",
     "output_type": "stream",
     "text": [
      "<class 'pandas.core.frame.DataFrame'>\n",
      "RangeIndex: 10000 entries, 0 to 9999\n",
      "Data columns (total 12 columns):\n",
      " #   Column         Non-Null Count  Dtype  \n",
      "---  ------         --------------  -----  \n",
      " 0   userid         10000 non-null  int64  \n",
      " 1   score          10000 non-null  float64\n",
      " 2   city           10000 non-null  object \n",
      " 3   gender         10000 non-null  object \n",
      " 4   age            9974 non-null   float64\n",
      " 5   equity         10000 non-null  int64  \n",
      " 6   balance        7705 non-null   float64\n",
      " 7   products       10000 non-null  int64  \n",
      " 8   credit_card    10000 non-null  int64  \n",
      " 9   last_activity  10000 non-null  int64  \n",
      " 10  est_salary     10000 non-null  float64\n",
      " 11  churn          10000 non-null  int64  \n",
      "dtypes: float64(4), int64(6), object(2)\n",
      "memory usage: 937.6+ KB\n"
     ]
    }
   ],
   "source": [
    "df.info()"
   ]
  },
  {
   "cell_type": "code",
   "execution_count": 6,
   "metadata": {},
   "outputs": [
    {
     "name": "stdout",
     "output_type": "stream",
     "text": [
      "% пропусков в столбцах: \n",
      "userid            0.00\n",
      "score             0.00\n",
      "city              0.00\n",
      "gender            0.00\n",
      "age               0.26\n",
      "equity            0.00\n",
      "balance          22.95\n",
      "products          0.00\n",
      "credit_card       0.00\n",
      "last_activity     0.00\n",
      "est_salary        0.00\n",
      "churn             0.00\n",
      "dtype: float64\n"
     ]
    }
   ],
   "source": [
    "t =df.isna().sum()/len(df)\n",
    "print(f'% пропусков в столбцах: \\n{round(t*100,2)}')"
   ]
  },
  {
   "cell_type": "markdown",
   "metadata": {},
   "source": [
    "Вывод: датасет состоит из 10000 строк, пропуски имеются только в колонках : age - 0,26% пропущено , balance - 22.95% пропущено.\n",
    "В отношении столбца age количество пропусков не имеет сильного влияния.\n",
    "Колнка balance требует детального изучения причин возникновения пропусков\n",
    "\n",
    "Тип данных отвечает решению задачи и замены не нуждается. "
   ]
  },
  {
   "cell_type": "markdown",
   "metadata": {},
   "source": [
    "<div class=\"alert alert-block alert-warning\">\n",
    "\n",
    "v. 1\n",
    "    \n",
    "Ты верно отметил наличие пропусков, но для принятия решения по методу обработки пропусков важно рассчитать какой процент пропусков в столбцах. Это можно сделать через df.isna().sum()/len(df)\n",
    "    \n",
    "Помимо метода .info() проверить типы столбцов можно через атрибут .dtypes (https://pandas.pydata.org/docs/reference/api/pandas.DataFrame.dtypes.html).\n",
    "</div>"
   ]
  },
  {
   "cell_type": "markdown",
   "metadata": {},
   "source": [
    "<div class=\"alert alert-block alert-success\">\n",
    "\n",
    "v. 2\n",
    "    \n",
    "Молодец, что рассчитал процент пропусков в столбцах, так намного удобнее анализировать пропуски.\n",
    "    \n",
    "</div>"
   ]
  },
  {
   "cell_type": "code",
   "execution_count": 7,
   "metadata": {},
   "outputs": [
    {
     "data": {
      "text/html": [
       "<div>\n",
       "<style scoped>\n",
       "    .dataframe tbody tr th:only-of-type {\n",
       "        vertical-align: middle;\n",
       "    }\n",
       "\n",
       "    .dataframe tbody tr th {\n",
       "        vertical-align: top;\n",
       "    }\n",
       "\n",
       "    .dataframe thead th {\n",
       "        text-align: right;\n",
       "    }\n",
       "</style>\n",
       "<table border=\"1\" class=\"dataframe\">\n",
       "  <thead>\n",
       "    <tr style=\"text-align: right;\">\n",
       "      <th></th>\n",
       "      <th>userid</th>\n",
       "      <th>score</th>\n",
       "      <th>age</th>\n",
       "      <th>equity</th>\n",
       "      <th>balance</th>\n",
       "      <th>products</th>\n",
       "      <th>credit_card</th>\n",
       "      <th>last_activity</th>\n",
       "      <th>est_salary</th>\n",
       "      <th>churn</th>\n",
       "    </tr>\n",
       "  </thead>\n",
       "  <tbody>\n",
       "    <tr>\n",
       "      <th>count</th>\n",
       "      <td>10000.00000</td>\n",
       "      <td>10000.000000</td>\n",
       "      <td>9974.000000</td>\n",
       "      <td>10000.000000</td>\n",
       "      <td>7.705000e+03</td>\n",
       "      <td>10000.000000</td>\n",
       "      <td>10000.000000</td>\n",
       "      <td>10000.000000</td>\n",
       "      <td>1.000000e+04</td>\n",
       "      <td>10000.000000</td>\n",
       "    </tr>\n",
       "    <tr>\n",
       "      <th>mean</th>\n",
       "      <td>171814.71260</td>\n",
       "      <td>848.699400</td>\n",
       "      <td>42.734409</td>\n",
       "      <td>2.627600</td>\n",
       "      <td>8.277943e+05</td>\n",
       "      <td>1.870100</td>\n",
       "      <td>0.680400</td>\n",
       "      <td>0.523500</td>\n",
       "      <td>1.478669e+05</td>\n",
       "      <td>0.182000</td>\n",
       "    </tr>\n",
       "    <tr>\n",
       "      <th>std</th>\n",
       "      <td>33708.23812</td>\n",
       "      <td>65.448519</td>\n",
       "      <td>12.179971</td>\n",
       "      <td>1.980836</td>\n",
       "      <td>1.980614e+06</td>\n",
       "      <td>0.792647</td>\n",
       "      <td>0.466345</td>\n",
       "      <td>0.499472</td>\n",
       "      <td>1.393885e+05</td>\n",
       "      <td>0.385864</td>\n",
       "    </tr>\n",
       "    <tr>\n",
       "      <th>min</th>\n",
       "      <td>94561.00000</td>\n",
       "      <td>642.000000</td>\n",
       "      <td>18.000000</td>\n",
       "      <td>0.000000</td>\n",
       "      <td>0.000000e+00</td>\n",
       "      <td>0.000000</td>\n",
       "      <td>0.000000</td>\n",
       "      <td>0.000000</td>\n",
       "      <td>2.546300e+03</td>\n",
       "      <td>0.000000</td>\n",
       "    </tr>\n",
       "    <tr>\n",
       "      <th>25%</th>\n",
       "      <td>142810.25000</td>\n",
       "      <td>802.000000</td>\n",
       "      <td>33.000000</td>\n",
       "      <td>0.000000</td>\n",
       "      <td>2.955542e+05</td>\n",
       "      <td>1.000000</td>\n",
       "      <td>0.000000</td>\n",
       "      <td>0.000000</td>\n",
       "      <td>7.525190e+04</td>\n",
       "      <td>0.000000</td>\n",
       "    </tr>\n",
       "    <tr>\n",
       "      <th>50%</th>\n",
       "      <td>172728.00000</td>\n",
       "      <td>853.000000</td>\n",
       "      <td>40.000000</td>\n",
       "      <td>3.000000</td>\n",
       "      <td>5.242722e+05</td>\n",
       "      <td>2.000000</td>\n",
       "      <td>1.000000</td>\n",
       "      <td>1.000000</td>\n",
       "      <td>1.196581e+05</td>\n",
       "      <td>0.000000</td>\n",
       "    </tr>\n",
       "    <tr>\n",
       "      <th>75%</th>\n",
       "      <td>201261.75000</td>\n",
       "      <td>900.000000</td>\n",
       "      <td>51.000000</td>\n",
       "      <td>4.000000</td>\n",
       "      <td>9.807058e+05</td>\n",
       "      <td>2.000000</td>\n",
       "      <td>1.000000</td>\n",
       "      <td>1.000000</td>\n",
       "      <td>1.745005e+05</td>\n",
       "      <td>0.000000</td>\n",
       "    </tr>\n",
       "    <tr>\n",
       "      <th>85%</th>\n",
       "      <td>213071.90000</td>\n",
       "      <td>917.000000</td>\n",
       "      <td>58.000000</td>\n",
       "      <td>5.000000</td>\n",
       "      <td>1.276372e+06</td>\n",
       "      <td>3.000000</td>\n",
       "      <td>1.000000</td>\n",
       "      <td>1.000000</td>\n",
       "      <td>2.119281e+05</td>\n",
       "      <td>1.000000</td>\n",
       "    </tr>\n",
       "    <tr>\n",
       "      <th>90%</th>\n",
       "      <td>218022.90000</td>\n",
       "      <td>928.000000</td>\n",
       "      <td>61.000000</td>\n",
       "      <td>5.000000</td>\n",
       "      <td>1.460134e+06</td>\n",
       "      <td>3.000000</td>\n",
       "      <td>1.000000</td>\n",
       "      <td>1.000000</td>\n",
       "      <td>2.423958e+05</td>\n",
       "      <td>1.000000</td>\n",
       "    </tr>\n",
       "    <tr>\n",
       "      <th>95%</th>\n",
       "      <td>223623.05000</td>\n",
       "      <td>946.000000</td>\n",
       "      <td>65.000000</td>\n",
       "      <td>5.000000</td>\n",
       "      <td>2.116705e+06</td>\n",
       "      <td>3.000000</td>\n",
       "      <td>1.000000</td>\n",
       "      <td>1.000000</td>\n",
       "      <td>3.168853e+05</td>\n",
       "      <td>1.000000</td>\n",
       "    </tr>\n",
       "    <tr>\n",
       "      <th>99%</th>\n",
       "      <td>228019.09000</td>\n",
       "      <td>978.000000</td>\n",
       "      <td>73.000000</td>\n",
       "      <td>7.000000</td>\n",
       "      <td>4.827443e+06</td>\n",
       "      <td>4.000000</td>\n",
       "      <td>1.000000</td>\n",
       "      <td>1.000000</td>\n",
       "      <td>8.879039e+05</td>\n",
       "      <td>1.000000</td>\n",
       "    </tr>\n",
       "    <tr>\n",
       "      <th>max</th>\n",
       "      <td>229145.00000</td>\n",
       "      <td>1000.000000</td>\n",
       "      <td>86.000000</td>\n",
       "      <td>9.000000</td>\n",
       "      <td>1.191136e+08</td>\n",
       "      <td>5.000000</td>\n",
       "      <td>1.000000</td>\n",
       "      <td>1.000000</td>\n",
       "      <td>1.395064e+06</td>\n",
       "      <td>1.000000</td>\n",
       "    </tr>\n",
       "  </tbody>\n",
       "</table>\n",
       "</div>"
      ],
      "text/plain": [
       "             userid         score          age        equity       balance  \\\n",
       "count   10000.00000  10000.000000  9974.000000  10000.000000  7.705000e+03   \n",
       "mean   171814.71260    848.699400    42.734409      2.627600  8.277943e+05   \n",
       "std     33708.23812     65.448519    12.179971      1.980836  1.980614e+06   \n",
       "min     94561.00000    642.000000    18.000000      0.000000  0.000000e+00   \n",
       "25%    142810.25000    802.000000    33.000000      0.000000  2.955542e+05   \n",
       "50%    172728.00000    853.000000    40.000000      3.000000  5.242722e+05   \n",
       "75%    201261.75000    900.000000    51.000000      4.000000  9.807058e+05   \n",
       "85%    213071.90000    917.000000    58.000000      5.000000  1.276372e+06   \n",
       "90%    218022.90000    928.000000    61.000000      5.000000  1.460134e+06   \n",
       "95%    223623.05000    946.000000    65.000000      5.000000  2.116705e+06   \n",
       "99%    228019.09000    978.000000    73.000000      7.000000  4.827443e+06   \n",
       "max    229145.00000   1000.000000    86.000000      9.000000  1.191136e+08   \n",
       "\n",
       "           products   credit_card  last_activity    est_salary         churn  \n",
       "count  10000.000000  10000.000000   10000.000000  1.000000e+04  10000.000000  \n",
       "mean       1.870100      0.680400       0.523500  1.478669e+05      0.182000  \n",
       "std        0.792647      0.466345       0.499472  1.393885e+05      0.385864  \n",
       "min        0.000000      0.000000       0.000000  2.546300e+03      0.000000  \n",
       "25%        1.000000      0.000000       0.000000  7.525190e+04      0.000000  \n",
       "50%        2.000000      1.000000       1.000000  1.196581e+05      0.000000  \n",
       "75%        2.000000      1.000000       1.000000  1.745005e+05      0.000000  \n",
       "85%        3.000000      1.000000       1.000000  2.119281e+05      1.000000  \n",
       "90%        3.000000      1.000000       1.000000  2.423958e+05      1.000000  \n",
       "95%        3.000000      1.000000       1.000000  3.168853e+05      1.000000  \n",
       "99%        4.000000      1.000000       1.000000  8.879039e+05      1.000000  \n",
       "max        5.000000      1.000000       1.000000  1.395064e+06      1.000000  "
      ]
     },
     "execution_count": 7,
     "metadata": {},
     "output_type": "execute_result"
    }
   ],
   "source": [
    "df.describe(percentiles=[0.25,0.5,0.75,0.85,0.9,0.95,0.99])"
   ]
  },
  {
   "cell_type": "markdown",
   "metadata": {},
   "source": [
    "Можно сразу заметить странности в balance, est_salary.  \n",
    "Для колонки balance медианное значение баланса составляет 524272 рублей, 99 процентиль 4827443 рублей, а уже max значение 119113600 рублей, т.е. существует 1 % строк с балансом выше в 100 раз чем у остальных. Это сильное отличие. \n",
    "\n",
    "Для колонки est_salary значение 99 процентиля в целых три раза больше значения 95 процентиля. А максильное значение больше в десятки раз. Т.Е существует 1% строк с отличительно большим значением.\n",
    "Надо более детально изучить природу таких отклонений"
   ]
  },
  {
   "cell_type": "markdown",
   "metadata": {},
   "source": [
    "<div class=\"alert alert-block alert-warning\">\n",
    "\n",
    "v. 1\n",
    "    \n",
    "Здесь стоило бы отметить какие именно странности в balance, est_salary обнаружены и как их можно объяснить.\n",
    "    \n",
    "Будь, пожалуйста, внимательнее с опечатками (\"ошибкой,выбрасом\") 🙂\n",
    "</div>"
   ]
  },
  {
   "cell_type": "markdown",
   "metadata": {},
   "source": [
    "<div class=\"alert alert-block alert-success\">\n",
    "\n",
    "v. 2\n",
    "    \n",
    "Отлично, особенности стлбцов balance и est_salary детально описаны 👍👍👍\n",
    "</div>"
   ]
  },
  {
   "cell_type": "code",
   "execution_count": 8,
   "metadata": {},
   "outputs": [
    {
     "data": {
      "text/plain": [
       "0"
      ]
     },
     "execution_count": 8,
     "metadata": {},
     "output_type": "execute_result"
    }
   ],
   "source": [
    "df.duplicated().sum()"
   ]
  },
  {
   "cell_type": "markdown",
   "metadata": {},
   "source": [
    "нет явных дубоикатов. но банк строит свои системы таким образом, чтобы каждый клиент был уникальным.поэтому надо посмотреть дубли по уникальным айди"
   ]
  },
  {
   "cell_type": "markdown",
   "metadata": {},
   "source": [
    "<div class=\"alert alert-block alert-success\">\n",
    "\n",
    "v. 1\n",
    "    \n",
    "Ты верно отметил отсутствие явных дубликатов и необходимость проверки наличия неявных дубликатов.\n",
    "</div>"
   ]
  },
  {
   "cell_type": "code",
   "execution_count": 9,
   "metadata": {},
   "outputs": [
    {
     "data": {
      "text/plain": [
       "73"
      ]
     },
     "execution_count": 9,
     "metadata": {},
     "output_type": "execute_result"
    }
   ],
   "source": [
    "df['userid'].duplicated().sum()"
   ]
  },
  {
   "cell_type": "markdown",
   "metadata": {},
   "source": [
    "получили порядка 73 совпадений айди. Надо понять причину возникновения для принятия решения. Возможно, что это путешественники которые открывают продукты в разных отделениях банка. Или закрывают продукт полностью и становятся клиентами заново.\n",
    "\n",
    "Главное, что должны совпадать другие строки.Так как это один и тот же клиент"
   ]
  },
  {
   "cell_type": "code",
   "execution_count": 10,
   "metadata": {},
   "outputs": [
    {
     "data": {
      "text/plain": [
       "0"
      ]
     },
     "execution_count": 10,
     "metadata": {},
     "output_type": "execute_result"
    }
   ],
   "source": [
    "df[['userid','city']].duplicated().sum()"
   ]
  },
  {
   "cell_type": "markdown",
   "metadata": {},
   "source": [
    "Мы исключили людей которые закрыли все продукты и открыли новые продукты в том же городе. Возможно это путешественники"
   ]
  },
  {
   "cell_type": "markdown",
   "metadata": {},
   "source": [
    "Есть версия что это люди, которые открыли разные продукты в разных городах.\n",
    "\n",
    "Тогда,в зависимости от того, какую информацию по возрасту мы имеем в базе,можно установить так ли это.\n",
    "\n",
    "Если возраст указан на момент открытия продукта, то тогда возраста скорее всего не должны совпадать. Если указан возраст на момент выгрузки базы возраст должен совпадать и мы должны получить примерно 73 повтора."
   ]
  },
  {
   "cell_type": "code",
   "execution_count": 11,
   "metadata": {},
   "outputs": [
    {
     "data": {
      "text/plain": [
       "5"
      ]
     },
     "execution_count": 11,
     "metadata": {},
     "output_type": "execute_result"
    }
   ],
   "source": [
    "df[['userid','age']].duplicated().sum()"
   ]
  },
  {
   "cell_type": "markdown",
   "metadata": {},
   "source": [
    "Число 5 достаточно низкое, чтобы версия о том, что это один и тот же человек открывает продукты в разных городах была правдопадобной.А эти пять сделали это в один год . При условии что мы имеем возраст на момент откртыия продукта.\n",
    "\n",
    "Тогда у нас должны полностью совпадать записи с полом клиента и получим 73 записи"
   ]
  },
  {
   "cell_type": "code",
   "execution_count": 12,
   "metadata": {},
   "outputs": [
    {
     "data": {
      "text/plain": [
       "41"
      ]
     },
     "execution_count": 12,
     "metadata": {},
     "output_type": "execute_result"
    }
   ],
   "source": [
    "df[['userid','gender']].duplicated().sum()"
   ]
  },
  {
   "cell_type": "markdown",
   "metadata": {},
   "source": [
    "Мы получили всего 41 запись. Остальные 32 человека, конечно, могли сменить пол, но проверить эту версию на имеющихся данных не представляется возможным.\n",
    "\n",
    "Версия о том, что это одни и те же люди, открывающие продукты в разных городах не состоялась. Так как велик риск, что это сбой программы. Принято решение удалить дублирующиеся записи по айди."
   ]
  },
  {
   "cell_type": "markdown",
   "metadata": {},
   "source": [
    "<div class=\"alert alert-block alert-success\">\n",
    "\n",
    "v. 1\n",
    "    \n",
    "Да, вполне логичное объяснение, здорово, что детально проанализировал дубликаты перед тем как принимать решение об их удалении.\n",
    "    \n",
    "</div>"
   ]
  },
  {
   "cell_type": "code",
   "execution_count": 13,
   "metadata": {},
   "outputs": [],
   "source": [
    "df = df.drop_duplicates(subset=['userid'])"
   ]
  },
  {
   "cell_type": "code",
   "execution_count": 14,
   "metadata": {},
   "outputs": [
    {
     "data": {
      "text/plain": [
       "Ярославль    5856\n",
       "Рыбинск      2654\n",
       "Ростов       1417\n",
       "Name: city, dtype: int64"
      ]
     },
     "execution_count": 14,
     "metadata": {},
     "output_type": "execute_result"
    }
   ],
   "source": [
    "df['city'].value_counts()"
   ]
  },
  {
   "cell_type": "markdown",
   "metadata": {},
   "source": [
    "Очень неоднородное распределение. В ростове всего 1417 записей. В Ярославле 5856 записей."
   ]
  },
  {
   "cell_type": "markdown",
   "metadata": {},
   "source": [
    "<div class=\"alert alert-block alert-success\">\n",
    "\n",
    "v. 1\n",
    "    \n",
    "В принципе ожидаемо чем больше население города, тем у банка больше клиентов.\n",
    "</div>"
   ]
  },
  {
   "cell_type": "code",
   "execution_count": 15,
   "metadata": {},
   "outputs": [
    {
     "data": {
      "text/plain": [
       "2    5099\n",
       "1    3306\n",
       "3    1028\n",
       "4     474\n",
       "5      19\n",
       "0       1\n",
       "Name: products, dtype: int64"
      ]
     },
     "execution_count": 15,
     "metadata": {},
     "output_type": "execute_result"
    }
   ],
   "source": [
    "df['products'].value_counts()"
   ]
  },
  {
   "cell_type": "code",
   "execution_count": 16,
   "metadata": {},
   "outputs": [
    {
     "data": {
      "text/html": [
       "<div>\n",
       "<style scoped>\n",
       "    .dataframe tbody tr th:only-of-type {\n",
       "        vertical-align: middle;\n",
       "    }\n",
       "\n",
       "    .dataframe tbody tr th {\n",
       "        vertical-align: top;\n",
       "    }\n",
       "\n",
       "    .dataframe thead th {\n",
       "        text-align: right;\n",
       "    }\n",
       "</style>\n",
       "<table border=\"1\" class=\"dataframe\">\n",
       "  <thead>\n",
       "    <tr style=\"text-align: right;\">\n",
       "      <th></th>\n",
       "      <th>userid</th>\n",
       "      <th>score</th>\n",
       "      <th>city</th>\n",
       "      <th>gender</th>\n",
       "      <th>age</th>\n",
       "      <th>equity</th>\n",
       "      <th>balance</th>\n",
       "      <th>products</th>\n",
       "      <th>credit_card</th>\n",
       "      <th>last_activity</th>\n",
       "      <th>est_salary</th>\n",
       "      <th>churn</th>\n",
       "    </tr>\n",
       "  </thead>\n",
       "  <tbody>\n",
       "    <tr>\n",
       "      <th>2</th>\n",
       "      <td>120722</td>\n",
       "      <td>892.0</td>\n",
       "      <td>Рыбинск</td>\n",
       "      <td>Ж</td>\n",
       "      <td>30.0</td>\n",
       "      <td>0</td>\n",
       "      <td>NaN</td>\n",
       "      <td>1</td>\n",
       "      <td>1</td>\n",
       "      <td>1</td>\n",
       "      <td>107683.34</td>\n",
       "      <td>0</td>\n",
       "    </tr>\n",
       "    <tr>\n",
       "      <th>9</th>\n",
       "      <td>133130</td>\n",
       "      <td>906.0</td>\n",
       "      <td>Ярославль</td>\n",
       "      <td>Ж</td>\n",
       "      <td>67.0</td>\n",
       "      <td>0</td>\n",
       "      <td>NaN</td>\n",
       "      <td>1</td>\n",
       "      <td>0</td>\n",
       "      <td>1</td>\n",
       "      <td>238055.53</td>\n",
       "      <td>0</td>\n",
       "    </tr>\n",
       "    <tr>\n",
       "      <th>10</th>\n",
       "      <td>148929</td>\n",
       "      <td>927.0</td>\n",
       "      <td>Ростов</td>\n",
       "      <td>М</td>\n",
       "      <td>52.0</td>\n",
       "      <td>0</td>\n",
       "      <td>NaN</td>\n",
       "      <td>1</td>\n",
       "      <td>1</td>\n",
       "      <td>1</td>\n",
       "      <td>196820.07</td>\n",
       "      <td>0</td>\n",
       "    </tr>\n",
       "    <tr>\n",
       "      <th>11</th>\n",
       "      <td>172184</td>\n",
       "      <td>921.0</td>\n",
       "      <td>Ростов</td>\n",
       "      <td>М</td>\n",
       "      <td>41.0</td>\n",
       "      <td>0</td>\n",
       "      <td>NaN</td>\n",
       "      <td>1</td>\n",
       "      <td>1</td>\n",
       "      <td>1</td>\n",
       "      <td>217469.48</td>\n",
       "      <td>0</td>\n",
       "    </tr>\n",
       "    <tr>\n",
       "      <th>19</th>\n",
       "      <td>127034</td>\n",
       "      <td>922.0</td>\n",
       "      <td>Рыбинск</td>\n",
       "      <td>Ж</td>\n",
       "      <td>53.0</td>\n",
       "      <td>0</td>\n",
       "      <td>NaN</td>\n",
       "      <td>1</td>\n",
       "      <td>0</td>\n",
       "      <td>0</td>\n",
       "      <td>147094.82</td>\n",
       "      <td>0</td>\n",
       "    </tr>\n",
       "  </tbody>\n",
       "</table>\n",
       "</div>"
      ],
      "text/plain": [
       "    userid  score       city gender   age  equity  balance  products  \\\n",
       "2   120722  892.0    Рыбинск      Ж  30.0       0      NaN         1   \n",
       "9   133130  906.0  Ярославль      Ж  67.0       0      NaN         1   \n",
       "10  148929  927.0     Ростов      М  52.0       0      NaN         1   \n",
       "11  172184  921.0     Ростов      М  41.0       0      NaN         1   \n",
       "19  127034  922.0    Рыбинск      Ж  53.0       0      NaN         1   \n",
       "\n",
       "    credit_card  last_activity  est_salary  churn  \n",
       "2             1              1   107683.34      0  \n",
       "9             0              1   238055.53      0  \n",
       "10            1              1   196820.07      0  \n",
       "11            1              1   217469.48      0  \n",
       "19            0              0   147094.82      0  "
      ]
     },
     "execution_count": 16,
     "metadata": {},
     "output_type": "execute_result"
    }
   ],
   "source": [
    "# выводим первые строки таблицы с клиентами, у которых не заполнено значение balance.\n",
    "\n",
    "df_no_balances = df[df['balance'].isnull()]\n",
    "df_no_balances.head(5)"
   ]
  },
  {
   "cell_type": "code",
   "execution_count": 17,
   "metadata": {},
   "outputs": [
    {
     "data": {
      "text/html": [
       "<div>\n",
       "<style scoped>\n",
       "    .dataframe tbody tr th:only-of-type {\n",
       "        vertical-align: middle;\n",
       "    }\n",
       "\n",
       "    .dataframe tbody tr th {\n",
       "        vertical-align: top;\n",
       "    }\n",
       "\n",
       "    .dataframe thead th {\n",
       "        text-align: right;\n",
       "    }\n",
       "</style>\n",
       "<table border=\"1\" class=\"dataframe\">\n",
       "  <thead>\n",
       "    <tr style=\"text-align: right;\">\n",
       "      <th></th>\n",
       "      <th>userid</th>\n",
       "      <th>score</th>\n",
       "      <th>age</th>\n",
       "      <th>equity</th>\n",
       "      <th>balance</th>\n",
       "      <th>products</th>\n",
       "      <th>credit_card</th>\n",
       "      <th>last_activity</th>\n",
       "      <th>est_salary</th>\n",
       "      <th>churn</th>\n",
       "    </tr>\n",
       "  </thead>\n",
       "  <tbody>\n",
       "    <tr>\n",
       "      <th>count</th>\n",
       "      <td>2260.000000</td>\n",
       "      <td>2260.000000</td>\n",
       "      <td>2260.000000</td>\n",
       "      <td>2260.000000</td>\n",
       "      <td>0.0</td>\n",
       "      <td>2260.000000</td>\n",
       "      <td>2260.000000</td>\n",
       "      <td>2260.000000</td>\n",
       "      <td>2.260000e+03</td>\n",
       "      <td>2260.000000</td>\n",
       "    </tr>\n",
       "    <tr>\n",
       "      <th>mean</th>\n",
       "      <td>171975.568584</td>\n",
       "      <td>865.334956</td>\n",
       "      <td>42.125664</td>\n",
       "      <td>0.051770</td>\n",
       "      <td>NaN</td>\n",
       "      <td>1.161504</td>\n",
       "      <td>0.815487</td>\n",
       "      <td>0.549115</td>\n",
       "      <td>2.267006e+05</td>\n",
       "      <td>0.005752</td>\n",
       "    </tr>\n",
       "    <tr>\n",
       "      <th>std</th>\n",
       "      <td>33277.188448</td>\n",
       "      <td>89.669447</td>\n",
       "      <td>11.953138</td>\n",
       "      <td>0.227525</td>\n",
       "      <td>NaN</td>\n",
       "      <td>0.401442</td>\n",
       "      <td>0.387988</td>\n",
       "      <td>0.497692</td>\n",
       "      <td>1.999817e+05</td>\n",
       "      <td>0.075642</td>\n",
       "    </tr>\n",
       "    <tr>\n",
       "      <th>min</th>\n",
       "      <td>114182.000000</td>\n",
       "      <td>642.000000</td>\n",
       "      <td>18.000000</td>\n",
       "      <td>0.000000</td>\n",
       "      <td>NaN</td>\n",
       "      <td>0.000000</td>\n",
       "      <td>0.000000</td>\n",
       "      <td>0.000000</td>\n",
       "      <td>2.027403e+04</td>\n",
       "      <td>0.000000</td>\n",
       "    </tr>\n",
       "    <tr>\n",
       "      <th>25%</th>\n",
       "      <td>143067.000000</td>\n",
       "      <td>871.000000</td>\n",
       "      <td>33.000000</td>\n",
       "      <td>0.000000</td>\n",
       "      <td>NaN</td>\n",
       "      <td>1.000000</td>\n",
       "      <td>1.000000</td>\n",
       "      <td>0.000000</td>\n",
       "      <td>1.204570e+05</td>\n",
       "      <td>0.000000</td>\n",
       "    </tr>\n",
       "    <tr>\n",
       "      <th>50%</th>\n",
       "      <td>172498.500000</td>\n",
       "      <td>903.000000</td>\n",
       "      <td>40.000000</td>\n",
       "      <td>0.000000</td>\n",
       "      <td>NaN</td>\n",
       "      <td>1.000000</td>\n",
       "      <td>1.000000</td>\n",
       "      <td>1.000000</td>\n",
       "      <td>1.747554e+05</td>\n",
       "      <td>0.000000</td>\n",
       "    </tr>\n",
       "    <tr>\n",
       "      <th>75%</th>\n",
       "      <td>201354.250000</td>\n",
       "      <td>922.000000</td>\n",
       "      <td>49.000000</td>\n",
       "      <td>0.000000</td>\n",
       "      <td>NaN</td>\n",
       "      <td>1.000000</td>\n",
       "      <td>1.000000</td>\n",
       "      <td>1.000000</td>\n",
       "      <td>2.404518e+05</td>\n",
       "      <td>0.000000</td>\n",
       "    </tr>\n",
       "    <tr>\n",
       "      <th>max</th>\n",
       "      <td>229145.000000</td>\n",
       "      <td>990.000000</td>\n",
       "      <td>86.000000</td>\n",
       "      <td>3.000000</td>\n",
       "      <td>NaN</td>\n",
       "      <td>3.000000</td>\n",
       "      <td>1.000000</td>\n",
       "      <td>1.000000</td>\n",
       "      <td>1.333687e+06</td>\n",
       "      <td>1.000000</td>\n",
       "    </tr>\n",
       "  </tbody>\n",
       "</table>\n",
       "</div>"
      ],
      "text/plain": [
       "              userid        score          age       equity  balance  \\\n",
       "count    2260.000000  2260.000000  2260.000000  2260.000000      0.0   \n",
       "mean   171975.568584   865.334956    42.125664     0.051770      NaN   \n",
       "std     33277.188448    89.669447    11.953138     0.227525      NaN   \n",
       "min    114182.000000   642.000000    18.000000     0.000000      NaN   \n",
       "25%    143067.000000   871.000000    33.000000     0.000000      NaN   \n",
       "50%    172498.500000   903.000000    40.000000     0.000000      NaN   \n",
       "75%    201354.250000   922.000000    49.000000     0.000000      NaN   \n",
       "max    229145.000000   990.000000    86.000000     3.000000      NaN   \n",
       "\n",
       "          products  credit_card  last_activity    est_salary        churn  \n",
       "count  2260.000000  2260.000000    2260.000000  2.260000e+03  2260.000000  \n",
       "mean      1.161504     0.815487       0.549115  2.267006e+05     0.005752  \n",
       "std       0.401442     0.387988       0.497692  1.999817e+05     0.075642  \n",
       "min       0.000000     0.000000       0.000000  2.027403e+04     0.000000  \n",
       "25%       1.000000     1.000000       0.000000  1.204570e+05     0.000000  \n",
       "50%       1.000000     1.000000       1.000000  1.747554e+05     0.000000  \n",
       "75%       1.000000     1.000000       1.000000  2.404518e+05     0.000000  \n",
       "max       3.000000     1.000000       1.000000  1.333687e+06     1.000000  "
      ]
     },
     "execution_count": 17,
     "metadata": {},
     "output_type": "execute_result"
    }
   ],
   "source": [
    "df_no_balances.describe()"
   ]
  },
  {
   "cell_type": "code",
   "execution_count": 18,
   "metadata": {},
   "outputs": [
    {
     "data": {
      "text/plain": [
       "array(['Рыбинск', 'Ярославль', 'Ростов'], dtype=object)"
      ]
     },
     "execution_count": 18,
     "metadata": {},
     "output_type": "execute_result"
    }
   ],
   "source": [
    "df_no_balances['city'].unique()"
   ]
  },
  {
   "cell_type": "markdown",
   "metadata": {},
   "source": [
    "создаем временное поле по надичию пропуска и отсуствию пропуска:1 пропуск есть. 0 если пропуска нет"
   ]
  },
  {
   "cell_type": "code",
   "execution_count": 19,
   "metadata": {},
   "outputs": [],
   "source": [
    "df['bc'] = 1\n",
    "df.bc = df.bc.mask(df.balance >= 0, 0)"
   ]
  },
  {
   "cell_type": "code",
   "execution_count": 20,
   "metadata": {},
   "outputs": [
    {
     "data": {
      "text/html": [
       "<div>\n",
       "<style scoped>\n",
       "    .dataframe tbody tr th:only-of-type {\n",
       "        vertical-align: middle;\n",
       "    }\n",
       "\n",
       "    .dataframe tbody tr th {\n",
       "        vertical-align: top;\n",
       "    }\n",
       "\n",
       "    .dataframe thead th {\n",
       "        text-align: right;\n",
       "    }\n",
       "</style>\n",
       "<table border=\"1\" class=\"dataframe\">\n",
       "  <thead>\n",
       "    <tr style=\"text-align: right;\">\n",
       "      <th></th>\n",
       "      <th>score</th>\n",
       "      <th>age</th>\n",
       "      <th>equity</th>\n",
       "      <th>balance</th>\n",
       "      <th>products</th>\n",
       "      <th>credit_card</th>\n",
       "      <th>last_activity</th>\n",
       "      <th>est_salary</th>\n",
       "      <th>churn</th>\n",
       "    </tr>\n",
       "    <tr>\n",
       "      <th>bc</th>\n",
       "      <th></th>\n",
       "      <th></th>\n",
       "      <th></th>\n",
       "      <th></th>\n",
       "      <th></th>\n",
       "      <th></th>\n",
       "      <th></th>\n",
       "      <th></th>\n",
       "      <th></th>\n",
       "    </tr>\n",
       "  </thead>\n",
       "  <tbody>\n",
       "    <tr>\n",
       "      <th>0</th>\n",
       "      <td>843.843094</td>\n",
       "      <td>42.907216</td>\n",
       "      <td>3.395983</td>\n",
       "      <td>828901.612468</td>\n",
       "      <td>2.080866</td>\n",
       "      <td>0.639885</td>\n",
       "      <td>0.515978</td>\n",
       "      <td>124660.861908</td>\n",
       "      <td>0.235685</td>\n",
       "    </tr>\n",
       "    <tr>\n",
       "      <th>1</th>\n",
       "      <td>865.334956</td>\n",
       "      <td>42.125664</td>\n",
       "      <td>0.051770</td>\n",
       "      <td>NaN</td>\n",
       "      <td>1.161504</td>\n",
       "      <td>0.815487</td>\n",
       "      <td>0.549115</td>\n",
       "      <td>226700.563111</td>\n",
       "      <td>0.005752</td>\n",
       "    </tr>\n",
       "  </tbody>\n",
       "</table>\n",
       "</div>"
      ],
      "text/plain": [
       "         score        age    equity        balance  products  credit_card  \\\n",
       "bc                                                                          \n",
       "0   843.843094  42.907216  3.395983  828901.612468  2.080866     0.639885   \n",
       "1   865.334956  42.125664  0.051770            NaN  1.161504     0.815487   \n",
       "\n",
       "    last_activity     est_salary     churn  \n",
       "bc                                          \n",
       "0        0.515978  124660.861908  0.235685  \n",
       "1        0.549115  226700.563111  0.005752  "
      ]
     },
     "metadata": {},
     "output_type": "display_data"
    }
   ],
   "source": [
    "display(df.drop('userid', axis=1).groupby('bc').mean())\n"
   ]
  },
  {
   "cell_type": "markdown",
   "metadata": {},
   "source": [
    "можно заметить следующие различия между теми кто имеет баланс и теми кто не имеет баланс:\n",
    "- в поле score значение тех кто имеет пропуски более выше\n",
    "- возраст одинаков\n",
    "- количество собственности у тех кто с пропусками, существенно выше\n",
    "- у тех кто с пропусками 1 продукт, у тех кто без пропуска 2 продукта\n",
    "- средняя оцениваемая зарплата выше в два раза у тех кто с пропусками\n",
    "\n",
    "Можно выдвинуть гипотезу, что балансы отсуствуют у тех кто не имеет депозитных продуктов,а только кредитные карта, или иные проудкты не предусматривающие наличие балансовой суммы.\n",
    "\n",
    "Или  баланс отрицательный так как клиент ушел в овердрафт. И его баланс числится как задолжность."
   ]
  },
  {
   "cell_type": "markdown",
   "metadata": {},
   "source": [
    "<div class=\"alert alert-block alert-success\">\n",
    "\n",
    "v. 1\n",
    "    \n",
    "Вполне может быть :)\n",
    "</div>"
   ]
  },
  {
   "cell_type": "code",
   "execution_count": 21,
   "metadata": {},
   "outputs": [
    {
     "data": {
      "text/html": [
       "<div>\n",
       "<style scoped>\n",
       "    .dataframe tbody tr th:only-of-type {\n",
       "        vertical-align: middle;\n",
       "    }\n",
       "\n",
       "    .dataframe tbody tr th {\n",
       "        vertical-align: top;\n",
       "    }\n",
       "\n",
       "    .dataframe thead th {\n",
       "        text-align: right;\n",
       "    }\n",
       "</style>\n",
       "<table border=\"1\" class=\"dataframe\">\n",
       "  <thead>\n",
       "    <tr style=\"text-align: right;\">\n",
       "      <th></th>\n",
       "      <th></th>\n",
       "      <th>count</th>\n",
       "    </tr>\n",
       "    <tr>\n",
       "      <th>churn</th>\n",
       "      <th>bc</th>\n",
       "      <th></th>\n",
       "    </tr>\n",
       "  </thead>\n",
       "  <tbody>\n",
       "    <tr>\n",
       "      <th rowspan=\"2\" valign=\"top\">0</th>\n",
       "      <th>0</th>\n",
       "      <td>5860</td>\n",
       "    </tr>\n",
       "    <tr>\n",
       "      <th>1</th>\n",
       "      <td>2247</td>\n",
       "    </tr>\n",
       "    <tr>\n",
       "      <th rowspan=\"2\" valign=\"top\">1</th>\n",
       "      <th>0</th>\n",
       "      <td>1807</td>\n",
       "    </tr>\n",
       "    <tr>\n",
       "      <th>1</th>\n",
       "      <td>13</td>\n",
       "    </tr>\n",
       "  </tbody>\n",
       "</table>\n",
       "</div>"
      ],
      "text/plain": [
       "          count\n",
       "churn bc       \n",
       "0     0    5860\n",
       "      1    2247\n",
       "1     0    1807\n",
       "      1      13"
      ]
     },
     "metadata": {},
     "output_type": "display_data"
    }
   ],
   "source": [
    "display(df.groupby(['churn', 'bc']).userid.count().to_frame().rename(columns={'userid':'count'}))\n"
   ]
  },
  {
   "cell_type": "markdown",
   "metadata": {},
   "source": [
    "Доля пропусков среди тех кто ушел значительно ниже, чем среди тех кто остался.\n",
    "\n",
    "Принято рещение не удалять строки с пропусками и не заполнять их."
   ]
  },
  {
   "cell_type": "code",
   "execution_count": 22,
   "metadata": {},
   "outputs": [],
   "source": [
    "# удаление временного поля\n",
    "df = df.drop('bc', axis=1)"
   ]
  },
  {
   "cell_type": "code",
   "execution_count": 23,
   "metadata": {},
   "outputs": [
    {
     "data": {
      "text/plain": [
       "userid           32\n",
       "score            32\n",
       "city             32\n",
       "gender           32\n",
       "age              32\n",
       "equity           32\n",
       "balance          32\n",
       "products         32\n",
       "credit_card      32\n",
       "last_activity    32\n",
       "est_salary       32\n",
       "churn            32\n",
       "dtype: int64"
      ]
     },
     "execution_count": 23,
     "metadata": {},
     "output_type": "execute_result"
    }
   ],
   "source": [
    "df.query('est_salary < 12000').count()"
   ]
  },
  {
   "cell_type": "markdown",
   "metadata": {},
   "source": [
    "Записей в которых доход меньше прожиточного минимума всего 32 штуки. Удалять их нельзя. Так как это оценивыемый доход. Это могут быть пенсии,пособия. И прочее."
   ]
  },
  {
   "cell_type": "markdown",
   "metadata": {},
   "source": [
    "<div class=\"alert alert-block alert-success\">\n",
    "\n",
    "v. 1\n",
    "    \n",
    "Да, совершенно верно, в банке могут быть клиенты с доходом ниже прожиточного минимума.\n",
    "</div>"
   ]
  },
  {
   "cell_type": "markdown",
   "metadata": {},
   "source": [
    "Поиск аномалий"
   ]
  },
  {
   "cell_type": "code",
   "execution_count": 24,
   "metadata": {},
   "outputs": [
    {
     "data": {
      "image/png": "[encoded data removed]",
      "text/plain": [
       "<Figure size 432x288 with 1 Axes>"
      ]
     },
     "metadata": {
      "needs_background": "light"
     },
     "output_type": "display_data"
    }
   ],
   "source": [
    "sns.boxplot(data=df, y='balance')\n",
    "plt.ylim([0,2500000])\n",
    "plt.show()"
   ]
  },
  {
   "cell_type": "markdown",
   "metadata": {},
   "source": [
    "<div class=\"alert alert-block alert-warning\">\n",
    "\n",
    "v. 1\n",
    "    \n",
    "Есть довольно много модификаций графика \"ящик с усами\" и можно попробовать подобрать более информативный чем в данном случае (границы выбросов сложно различимы на графике).\n",
    "    \n",
    "Подробнее описано в статье: https://python-graph-gallery.com/boxplot/\n",
    "</div>"
   ]
  },
  {
   "cell_type": "markdown",
   "metadata": {},
   "source": [
    "Мы имеем порядка большое количество записей, в которых сумма баланса слишком высока относительной большинства клиентов.\n",
    "Мы не можем просто удалить таких клиентов, так как есть гипотеза, что именно держатели очень больших балансов уходят из банка.\n",
    "Поэтому принято решение изучить сверхбогатых людей отдельно.\n",
    "Так как чтобы выделить сегмент нам необходимо как минимум 600 записей. Посмотрим поместятся ли все выбросы в эту группу и определим  пороговый уровень баланса для супербогатых\n",
    "\n",
    "Хотя выбросы начинаются с 2000000 рублей"
   ]
  },
  {
   "cell_type": "code",
   "execution_count": 25,
   "metadata": {},
   "outputs": [
    {
     "name": "stdout",
     "output_type": "stream",
     "text": [
      " Уровень баланса, выше которого будут 600 самых обеспеченных клиентов, составляет 1648051.0\n"
     ]
    }
   ],
   "source": [
    "x = (df['balance'].count() - 600)/df['balance'].count()\n",
    "line_1 = df['balance'].quantile(x)\n",
    "print( f\" Уровень баланса, выше которого будут 600 самых обеспеченных клиентов, составляет {round(line_1,0)}\")"
   ]
  },
  {
   "cell_type": "markdown",
   "metadata": {},
   "source": [
    "<div class=\"alert alert-block alert-warning\">\n",
    "\n",
    "v. 1\n",
    "    \n",
    "В уровне баланса у на столько несколько знаков после запятой значимы, поэтому рекомендую при выводе числовых значений использовать форматирование вывода через .format() или f-строки.\n",
    "    \n",
    "\n",
    "Подробнее про .format() и f-строки можно посмотреть: \n",
    "1. https://pythonworld.ru/osnovy/formatirovanie-strok-metod-format.html\n",
    "2. https://docs-python.ru/tutorial/operatsii-tekstovymi-strokami-str-python/stroki-formatirovannye-stroki/\n",
    "\n",
    "</div>"
   ]
  },
  {
   "cell_type": "code",
   "execution_count": 26,
   "metadata": {},
   "outputs": [],
   "source": [
    "poor = df.query('balance < 1648050.7907773573')\n",
    "rich = df.query('balance >= 1648050.7907773573')"
   ]
  },
  {
   "cell_type": "code",
   "execution_count": 27,
   "metadata": {
    "scrolled": false
   },
   "outputs": [
    {
     "data": {
      "image/png": "[encoded data removed]",
      "text/plain": [
       "<Figure size 360x360 with 1 Axes>"
      ]
     },
     "metadata": {
      "needs_background": "light"
     },
     "output_type": "display_data"
    }
   ],
   "source": [
    "poor.boxplot(column='balance',figsize=(5,5))\n",
    "plt.show()"
   ]
  },
  {
   "cell_type": "markdown",
   "metadata": {},
   "source": [
    "<div class=\"alert alert-block alert-warning\">\n",
    "\n",
    "v. 1\n",
    "    \n",
    "Убрать вывод технической информации (например, \"<AxesSubplot:>\") перед графиком можно добавив plt.show() или ';' после последней строчки кода.\n",
    "    \n",
    "</div>"
   ]
  },
  {
   "cell_type": "markdown",
   "metadata": {},
   "source": [
    "<div class=\"alert alert-block alert-success\">\n",
    "\n",
    "v. 2\n",
    "    \n",
    "Так график смотрится намного лучше)\n",
    "</div>"
   ]
  },
  {
   "cell_type": "markdown",
   "metadata": {},
   "source": [
    "Аномально большие балансы плностью ушли, можно проанализировать данные показатели более подробно позже. после того как будут рассмотрены аномалии в est_salary"
   ]
  },
  {
   "cell_type": "code",
   "execution_count": 28,
   "metadata": {},
   "outputs": [
    {
     "data": {
      "text/plain": [
       "(0.0, 350000.0)"
      ]
     },
     "execution_count": 28,
     "metadata": {},
     "output_type": "execute_result"
    },
    {
     "data": {
      "image/png": "[encoded data removed]",
      "text/plain": [
       "<Figure size 360x360 with 1 Axes>"
      ]
     },
     "metadata": {
      "needs_background": "light"
     },
     "output_type": "display_data"
    }
   ],
   "source": [
    "df.boxplot(column='est_salary',figsize=(5,5))\n",
    "plt.ylim([0,350000])"
   ]
  },
  {
   "cell_type": "markdown",
   "metadata": {},
   "source": [
    "На графике примерно видно, что выбросы начинаются от зарплаты в 300 000 тысяч. Оценим сколько это человек"
   ]
  },
  {
   "cell_type": "code",
   "execution_count": 29,
   "metadata": {
    "scrolled": false
   },
   "outputs": [
    {
     "name": "stdout",
     "output_type": "stream",
     "text": [
      "количество людей которые зарабатывают больше 300 000 рублей 562\n",
      "количество людей которые зарабатывают больше 290 000 рублей 602\n"
     ]
    }
   ],
   "source": [
    "k= df.query('est_salary >300000')\n",
    "print(f\"количество людей которые зарабатывают больше 300 000 рублей {k['est_salary'].count()}\")\n",
    "k= df.query('est_salary >290000')\n",
    "print(f\"количество людей которые зарабатывают больше 290 000 рублей {k['est_salary'].count()}\")"
   ]
  },
  {
   "cell_type": "markdown",
   "metadata": {},
   "source": [
    "Возьмем за пороговое значение зарплату в 290 000 тысяч и будем изучать этих людей отдельно\n",
    "Пороговое значение в 290 тысяч было выбрано по той причине, что мы получаем большую выборку людей, которую можно будет включить в отдельный сегмент и изучить отдельно"
   ]
  },
  {
   "cell_type": "code",
   "execution_count": 30,
   "metadata": {},
   "outputs": [],
   "source": [
    "l_salary = df.query('est_salary < 290000')\n",
    "h_salary = df.query('est_salary >= 290000')"
   ]
  },
  {
   "cell_type": "markdown",
   "metadata": {},
   "source": [
    "<div class=\"alert alert-block alert-danger\">\n",
    "\n",
    "v. 1\n",
    "    \n",
    "Отлично, пороговое значение определено, но нужно аргументировать почему выбрано именно это значение.\n",
    "</div>"
   ]
  },
  {
   "cell_type": "markdown",
   "metadata": {},
   "source": [
    "<div class=\"alert alert-block alert-success\">\n",
    "\n",
    "v. 2\n",
    "    \n",
    "Отлично, выбор границы для сегментации аргументирован 👍👍👍\n",
    "</div>"
   ]
  },
  {
   "cell_type": "code",
   "execution_count": null,
   "metadata": {},
   "outputs": [],
   "source": []
  },
  {
   "cell_type": "code",
   "execution_count": null,
   "metadata": {},
   "outputs": [],
   "source": []
  },
  {
   "cell_type": "code",
   "execution_count": 31,
   "metadata": {
    "scrolled": true
   },
   "outputs": [
    {
     "data": {
      "text/html": [
       "<div>\n",
       "<style scoped>\n",
       "    .dataframe tbody tr th:only-of-type {\n",
       "        vertical-align: middle;\n",
       "    }\n",
       "\n",
       "    .dataframe tbody tr th {\n",
       "        vertical-align: top;\n",
       "    }\n",
       "\n",
       "    .dataframe thead th {\n",
       "        text-align: right;\n",
       "    }\n",
       "</style>\n",
       "<table border=\"1\" class=\"dataframe\">\n",
       "  <thead>\n",
       "    <tr style=\"text-align: right;\">\n",
       "      <th></th>\n",
       "      <th>userid</th>\n",
       "      <th>score</th>\n",
       "      <th>age</th>\n",
       "      <th>equity</th>\n",
       "      <th>balance</th>\n",
       "      <th>products</th>\n",
       "      <th>credit_card</th>\n",
       "      <th>last_activity</th>\n",
       "      <th>est_salary</th>\n",
       "      <th>churn</th>\n",
       "      <th>gender_Ж</th>\n",
       "      <th>gender_М</th>\n",
       "      <th>city_Ростов</th>\n",
       "      <th>city_Рыбинск</th>\n",
       "      <th>city_Ярославль</th>\n",
       "    </tr>\n",
       "  </thead>\n",
       "  <tbody>\n",
       "    <tr>\n",
       "      <th>0</th>\n",
       "      <td>183012</td>\n",
       "      <td>850.0</td>\n",
       "      <td>25.0</td>\n",
       "      <td>1</td>\n",
       "      <td>59214.82</td>\n",
       "      <td>2</td>\n",
       "      <td>0</td>\n",
       "      <td>1</td>\n",
       "      <td>75719.14</td>\n",
       "      <td>1</td>\n",
       "      <td>1</td>\n",
       "      <td>0</td>\n",
       "      <td>0</td>\n",
       "      <td>1</td>\n",
       "      <td>0</td>\n",
       "    </tr>\n",
       "    <tr>\n",
       "      <th>1</th>\n",
       "      <td>146556</td>\n",
       "      <td>861.0</td>\n",
       "      <td>37.0</td>\n",
       "      <td>5</td>\n",
       "      <td>850594.33</td>\n",
       "      <td>3</td>\n",
       "      <td>1</td>\n",
       "      <td>0</td>\n",
       "      <td>86621.77</td>\n",
       "      <td>0</td>\n",
       "      <td>1</td>\n",
       "      <td>0</td>\n",
       "      <td>0</td>\n",
       "      <td>1</td>\n",
       "      <td>0</td>\n",
       "    </tr>\n",
       "    <tr>\n",
       "      <th>2</th>\n",
       "      <td>120722</td>\n",
       "      <td>892.0</td>\n",
       "      <td>30.0</td>\n",
       "      <td>0</td>\n",
       "      <td>NaN</td>\n",
       "      <td>1</td>\n",
       "      <td>1</td>\n",
       "      <td>1</td>\n",
       "      <td>107683.34</td>\n",
       "      <td>0</td>\n",
       "      <td>1</td>\n",
       "      <td>0</td>\n",
       "      <td>0</td>\n",
       "      <td>1</td>\n",
       "      <td>0</td>\n",
       "    </tr>\n",
       "    <tr>\n",
       "      <th>3</th>\n",
       "      <td>225363</td>\n",
       "      <td>866.0</td>\n",
       "      <td>51.0</td>\n",
       "      <td>5</td>\n",
       "      <td>1524746.26</td>\n",
       "      <td>2</td>\n",
       "      <td>0</td>\n",
       "      <td>1</td>\n",
       "      <td>174423.53</td>\n",
       "      <td>1</td>\n",
       "      <td>1</td>\n",
       "      <td>0</td>\n",
       "      <td>0</td>\n",
       "      <td>0</td>\n",
       "      <td>1</td>\n",
       "    </tr>\n",
       "    <tr>\n",
       "      <th>4</th>\n",
       "      <td>157978</td>\n",
       "      <td>730.0</td>\n",
       "      <td>34.0</td>\n",
       "      <td>5</td>\n",
       "      <td>174.00</td>\n",
       "      <td>1</td>\n",
       "      <td>1</td>\n",
       "      <td>0</td>\n",
       "      <td>67353.16</td>\n",
       "      <td>1</td>\n",
       "      <td>0</td>\n",
       "      <td>1</td>\n",
       "      <td>0</td>\n",
       "      <td>0</td>\n",
       "      <td>1</td>\n",
       "    </tr>\n",
       "  </tbody>\n",
       "</table>\n",
       "</div>"
      ],
      "text/plain": [
       "   userid  score   age  equity     balance  products  credit_card  \\\n",
       "0  183012  850.0  25.0       1    59214.82         2            0   \n",
       "1  146556  861.0  37.0       5   850594.33         3            1   \n",
       "2  120722  892.0  30.0       0         NaN         1            1   \n",
       "3  225363  866.0  51.0       5  1524746.26         2            0   \n",
       "4  157978  730.0  34.0       5      174.00         1            1   \n",
       "\n",
       "   last_activity  est_salary  churn  gender_Ж  gender_М  city_Ростов  \\\n",
       "0              1    75719.14      1         1         0            0   \n",
       "1              0    86621.77      0         1         0            0   \n",
       "2              1   107683.34      0         1         0            0   \n",
       "3              1   174423.53      1         1         0            0   \n",
       "4              0    67353.16      1         0         1            0   \n",
       "\n",
       "   city_Рыбинск  city_Ярославль  \n",
       "0             1               0  \n",
       "1             1               0  \n",
       "2             1               0  \n",
       "3             0               1  \n",
       "4             0               1  "
      ]
     },
     "execution_count": 31,
     "metadata": {},
     "output_type": "execute_result"
    }
   ],
   "source": [
    "bank = pd.get_dummies(df, columns=['gender', 'city'], drop_first=False)\n",
    "bank.head()"
   ]
  },
  {
   "cell_type": "markdown",
   "metadata": {},
   "source": [
    "Предварительное изучение данных дало нам следующие выводы:\n",
    "1.  balance имеет большое количество выбрасов,которые будут изучены отдельно. Выбросы начинаются с значения в 2 мл руб\n",
    "2. оцениваемая зарплата имеет выбросы которые начинаются со знаечния в 320000 рублей. количество выбрасов составляет менее 500 записей\n",
    "3. минимальный возраст 18 лет, макисмальный 83 года, медианный возраст 40 лет\n",
    "4. минимальная оценка недвижимости составляет 0, как и для 25% всех записей. для половины записей оценка 3, максимальная оценка составляет 9.\n",
    "5. минимальная оценка скоринга 642. максильная оценка 1000\n",
    "6. 50% строк имеют всего 2 продукта, 90% имеют 3 продукта, 10% имеют более 3 продуктов\n",
    "7. только половина выборки имеет кредитные карты\n",
    "8. только половина выборки имеет последнюю активность\n"
   ]
  },
  {
   "cell_type": "code",
   "execution_count": null,
   "metadata": {},
   "outputs": [],
   "source": []
  },
  {
   "cell_type": "markdown",
   "metadata": {},
   "source": [
    "<div class=\"alert alert-block alert-danger\">\n",
    "\n",
    "v. 1\n",
    "    \n",
    "Подведи, пожалуйста, итог проведённого анализа. Выводы это важная часть работы и после каждого из разделов их нужно сформулировать.\n",
    "</div>"
   ]
  },
  {
   "cell_type": "markdown",
   "metadata": {},
   "source": [
    "<div class=\"alert alert-block alert-success\">\n",
    "\n",
    "v. 2\n",
    "    \n",
    "Вывод сформулирован и это отлично 👍👍👍\n",
    "</div>"
   ]
  },
  {
   "cell_type": "markdown",
   "metadata": {},
   "source": [
    "Шаг 3. Изучите и проверьте данные\n",
    "\n",
    "- изучить распределение данных\n",
    "- построить матрицу корреляций\n",
    "- построить необходимые графики в соотвестии с отточными/оставшимися клиентоами"
   ]
  },
  {
   "cell_type": "code",
   "execution_count": 32,
   "metadata": {},
   "outputs": [
    {
     "name": "stdout",
     "output_type": "stream",
     "text": [
      "0    8107\n",
      "1    1820\n",
      "Name: churn, dtype: int64\n",
      "Общий уровень оттока 18.33\n"
     ]
    }
   ],
   "source": [
    "print(df['churn'].value_counts())\n",
    "l = len(df.query('churn==1'))/(len(df['churn']))\n",
    "print(f'Общий уровень оттока {round(l*100,2)}')"
   ]
  },
  {
   "cell_type": "markdown",
   "metadata": {},
   "source": [
    "Теперь задача сводится к тому чтобы найти группы которые имеют отток больше 18.33% "
   ]
  },
  {
   "cell_type": "markdown",
   "metadata": {},
   "source": [
    "<div class=\"alert alert-block alert-success\">\n",
    "\n",
    "v. 1\n",
    "    \n",
    "Да, в принципе значение оттока выше среднего может быть использовано для \"разграничения\" клиентов.\n",
    "    \n",
    "</div>"
   ]
  },
  {
   "cell_type": "code",
   "execution_count": 33,
   "metadata": {},
   "outputs": [
    {
     "data": {
      "text/html": [
       "<div>\n",
       "<style scoped>\n",
       "    .dataframe tbody tr th:only-of-type {\n",
       "        vertical-align: middle;\n",
       "    }\n",
       "\n",
       "    .dataframe tbody tr th {\n",
       "        vertical-align: top;\n",
       "    }\n",
       "\n",
       "    .dataframe thead th {\n",
       "        text-align: right;\n",
       "    }\n",
       "</style>\n",
       "<table border=\"1\" class=\"dataframe\">\n",
       "  <thead>\n",
       "    <tr style=\"text-align: right;\">\n",
       "      <th>churn</th>\n",
       "      <th>0</th>\n",
       "      <th>1</th>\n",
       "      <th>dif</th>\n",
       "    </tr>\n",
       "  </thead>\n",
       "  <tbody>\n",
       "    <tr>\n",
       "      <th>userid</th>\n",
       "      <td>173163.00</td>\n",
       "      <td>170496.00</td>\n",
       "      <td>1.02</td>\n",
       "    </tr>\n",
       "    <tr>\n",
       "      <th>score</th>\n",
       "      <td>848.00</td>\n",
       "      <td>866.00</td>\n",
       "      <td>0.98</td>\n",
       "    </tr>\n",
       "    <tr>\n",
       "      <th>age</th>\n",
       "      <td>40.00</td>\n",
       "      <td>39.00</td>\n",
       "      <td>1.03</td>\n",
       "    </tr>\n",
       "    <tr>\n",
       "      <th>equity</th>\n",
       "      <td>3.00</td>\n",
       "      <td>4.00</td>\n",
       "      <td>0.75</td>\n",
       "    </tr>\n",
       "    <tr>\n",
       "      <th>balance</th>\n",
       "      <td>475352.42</td>\n",
       "      <td>782410.47</td>\n",
       "      <td>0.61</td>\n",
       "    </tr>\n",
       "    <tr>\n",
       "      <th>products</th>\n",
       "      <td>2.00</td>\n",
       "      <td>2.00</td>\n",
       "      <td>1.00</td>\n",
       "    </tr>\n",
       "    <tr>\n",
       "      <th>credit_card</th>\n",
       "      <td>1.00</td>\n",
       "      <td>1.00</td>\n",
       "      <td>1.00</td>\n",
       "    </tr>\n",
       "    <tr>\n",
       "      <th>last_activity</th>\n",
       "      <td>0.00</td>\n",
       "      <td>1.00</td>\n",
       "      <td>0.00</td>\n",
       "    </tr>\n",
       "    <tr>\n",
       "      <th>est_salary</th>\n",
       "      <td>118247.25</td>\n",
       "      <td>125390.62</td>\n",
       "      <td>0.94</td>\n",
       "    </tr>\n",
       "    <tr>\n",
       "      <th>gender_Ж</th>\n",
       "      <td>1.00</td>\n",
       "      <td>0.00</td>\n",
       "      <td>inf</td>\n",
       "    </tr>\n",
       "    <tr>\n",
       "      <th>gender_М</th>\n",
       "      <td>0.00</td>\n",
       "      <td>1.00</td>\n",
       "      <td>0.00</td>\n",
       "    </tr>\n",
       "    <tr>\n",
       "      <th>city_Ростов</th>\n",
       "      <td>0.00</td>\n",
       "      <td>0.00</td>\n",
       "      <td>NaN</td>\n",
       "    </tr>\n",
       "    <tr>\n",
       "      <th>city_Рыбинск</th>\n",
       "      <td>0.00</td>\n",
       "      <td>0.00</td>\n",
       "      <td>NaN</td>\n",
       "    </tr>\n",
       "    <tr>\n",
       "      <th>city_Ярославль</th>\n",
       "      <td>1.00</td>\n",
       "      <td>1.00</td>\n",
       "      <td>1.00</td>\n",
       "    </tr>\n",
       "  </tbody>\n",
       "</table>\n",
       "</div>"
      ],
      "text/plain": [
       "churn                   0          1   dif\n",
       "userid          173163.00  170496.00  1.02\n",
       "score              848.00     866.00  0.98\n",
       "age                 40.00      39.00  1.03\n",
       "equity               3.00       4.00  0.75\n",
       "balance         475352.42  782410.47  0.61\n",
       "products             2.00       2.00  1.00\n",
       "credit_card          1.00       1.00  1.00\n",
       "last_activity        0.00       1.00  0.00\n",
       "est_salary      118247.25  125390.62  0.94\n",
       "gender_Ж             1.00       0.00   inf\n",
       "gender_М             0.00       1.00  0.00\n",
       "city_Ростов          0.00       0.00   NaN\n",
       "city_Рыбинск         0.00       0.00   NaN\n",
       "city_Ярославль       1.00       1.00  1.00"
      ]
     },
     "execution_count": 33,
     "metadata": {},
     "output_type": "execute_result"
    }
   ],
   "source": [
    "t = bank.groupby('churn').agg('median').T\n",
    "t['dif'] = round(t[0]/t[1],2)\n",
    "t"
   ]
  },
  {
   "cell_type": "code",
   "execution_count": 34,
   "metadata": {},
   "outputs": [
    {
     "data": {
      "text/html": [
       "<div>\n",
       "<style scoped>\n",
       "    .dataframe tbody tr th:only-of-type {\n",
       "        vertical-align: middle;\n",
       "    }\n",
       "\n",
       "    .dataframe tbody tr th {\n",
       "        vertical-align: top;\n",
       "    }\n",
       "\n",
       "    .dataframe thead th {\n",
       "        text-align: right;\n",
       "    }\n",
       "</style>\n",
       "<table border=\"1\" class=\"dataframe\">\n",
       "  <thead>\n",
       "    <tr style=\"text-align: right;\">\n",
       "      <th>churn</th>\n",
       "      <th>0</th>\n",
       "      <th>1</th>\n",
       "      <th>dif</th>\n",
       "    </tr>\n",
       "  </thead>\n",
       "  <tbody>\n",
       "    <tr>\n",
       "      <th>userid</th>\n",
       "      <td>173163.00</td>\n",
       "      <td>170496.00</td>\n",
       "      <td>0.98</td>\n",
       "    </tr>\n",
       "    <tr>\n",
       "      <th>score</th>\n",
       "      <td>848.00</td>\n",
       "      <td>866.00</td>\n",
       "      <td>1.02</td>\n",
       "    </tr>\n",
       "    <tr>\n",
       "      <th>age</th>\n",
       "      <td>40.00</td>\n",
       "      <td>39.00</td>\n",
       "      <td>0.98</td>\n",
       "    </tr>\n",
       "    <tr>\n",
       "      <th>equity</th>\n",
       "      <td>3.00</td>\n",
       "      <td>4.00</td>\n",
       "      <td>1.33</td>\n",
       "    </tr>\n",
       "    <tr>\n",
       "      <th>balance</th>\n",
       "      <td>475352.42</td>\n",
       "      <td>782410.47</td>\n",
       "      <td>1.65</td>\n",
       "    </tr>\n",
       "    <tr>\n",
       "      <th>products</th>\n",
       "      <td>2.00</td>\n",
       "      <td>2.00</td>\n",
       "      <td>1.00</td>\n",
       "    </tr>\n",
       "    <tr>\n",
       "      <th>credit_card</th>\n",
       "      <td>1.00</td>\n",
       "      <td>1.00</td>\n",
       "      <td>1.00</td>\n",
       "    </tr>\n",
       "    <tr>\n",
       "      <th>last_activity</th>\n",
       "      <td>0.00</td>\n",
       "      <td>1.00</td>\n",
       "      <td>inf</td>\n",
       "    </tr>\n",
       "    <tr>\n",
       "      <th>est_salary</th>\n",
       "      <td>118247.25</td>\n",
       "      <td>125390.62</td>\n",
       "      <td>1.06</td>\n",
       "    </tr>\n",
       "    <tr>\n",
       "      <th>gender_Ж</th>\n",
       "      <td>1.00</td>\n",
       "      <td>0.00</td>\n",
       "      <td>0.00</td>\n",
       "    </tr>\n",
       "    <tr>\n",
       "      <th>gender_М</th>\n",
       "      <td>0.00</td>\n",
       "      <td>1.00</td>\n",
       "      <td>inf</td>\n",
       "    </tr>\n",
       "    <tr>\n",
       "      <th>city_Ростов</th>\n",
       "      <td>0.00</td>\n",
       "      <td>0.00</td>\n",
       "      <td>NaN</td>\n",
       "    </tr>\n",
       "    <tr>\n",
       "      <th>city_Рыбинск</th>\n",
       "      <td>0.00</td>\n",
       "      <td>0.00</td>\n",
       "      <td>NaN</td>\n",
       "    </tr>\n",
       "    <tr>\n",
       "      <th>city_Ярославль</th>\n",
       "      <td>1.00</td>\n",
       "      <td>1.00</td>\n",
       "      <td>1.00</td>\n",
       "    </tr>\n",
       "  </tbody>\n",
       "</table>\n",
       "</div>"
      ],
      "text/plain": [
       "churn                   0          1   dif\n",
       "userid          173163.00  170496.00  0.98\n",
       "score              848.00     866.00  1.02\n",
       "age                 40.00      39.00  0.98\n",
       "equity               3.00       4.00  1.33\n",
       "balance         475352.42  782410.47  1.65\n",
       "products             2.00       2.00  1.00\n",
       "credit_card          1.00       1.00  1.00\n",
       "last_activity        0.00       1.00   inf\n",
       "est_salary      118247.25  125390.62  1.06\n",
       "gender_Ж             1.00       0.00  0.00\n",
       "gender_М             0.00       1.00   inf\n",
       "city_Ростов          0.00       0.00   NaN\n",
       "city_Рыбинск         0.00       0.00   NaN\n",
       "city_Ярославль       1.00       1.00  1.00"
      ]
     },
     "execution_count": 34,
     "metadata": {},
     "output_type": "execute_result"
    }
   ],
   "source": [
    "bank.groupby('churn').agg('mean').T\n",
    "t['dif'] = round(t[1]/t[0],2)\n",
    "t"
   ]
  },
  {
   "cell_type": "markdown",
   "metadata": {},
   "source": [
    "<div class=\"alert alert-block alert-warning\">\n",
    "\n",
    "v. 1\n",
    "    \n",
    "В выводе результатов у тебя смешаны разные формы отображения, предалагаю посчитать (в доп. столбце) процентные разницы или применить .style.format.\n",
    "    \n",
    "</div>"
   ]
  },
  {
   "cell_type": "markdown",
   "metadata": {},
   "source": [
    "<div class=\"alert alert-block alert-success\">\n",
    "\n",
    "v. 2\n",
    "    \n",
    "С процентной разницей таблица более информативна)\n",
    "    \n",
    "</div>"
   ]
  },
  {
   "cell_type": "code",
   "execution_count": 35,
   "metadata": {},
   "outputs": [
    {
     "data": {
      "text/html": [
       "<div>\n",
       "<style scoped>\n",
       "    .dataframe tbody tr th:only-of-type {\n",
       "        vertical-align: middle;\n",
       "    }\n",
       "\n",
       "    .dataframe tbody tr th {\n",
       "        vertical-align: top;\n",
       "    }\n",
       "\n",
       "    .dataframe thead th {\n",
       "        text-align: right;\n",
       "    }\n",
       "</style>\n",
       "<table border=\"1\" class=\"dataframe\">\n",
       "  <thead>\n",
       "    <tr style=\"text-align: right;\">\n",
       "      <th></th>\n",
       "      <th>userid</th>\n",
       "      <th>score</th>\n",
       "      <th>age</th>\n",
       "      <th>equity</th>\n",
       "      <th>balance</th>\n",
       "      <th>products</th>\n",
       "      <th>credit_card</th>\n",
       "      <th>last_activity</th>\n",
       "      <th>est_salary</th>\n",
       "      <th>churn</th>\n",
       "      <th>gender_Ж</th>\n",
       "      <th>gender_М</th>\n",
       "      <th>city_Ростов</th>\n",
       "      <th>city_Рыбинск</th>\n",
       "      <th>city_Ярославль</th>\n",
       "    </tr>\n",
       "  </thead>\n",
       "  <tbody>\n",
       "    <tr>\n",
       "      <th>count</th>\n",
       "      <td>1820.000000</td>\n",
       "      <td>1820.000000</td>\n",
       "      <td>1819.000000</td>\n",
       "      <td>1820.000000</td>\n",
       "      <td>1.807000e+03</td>\n",
       "      <td>1820.000000</td>\n",
       "      <td>1820.000000</td>\n",
       "      <td>1820.000000</td>\n",
       "      <td>1.820000e+03</td>\n",
       "      <td>1820.0</td>\n",
       "      <td>1820.000000</td>\n",
       "      <td>1820.000000</td>\n",
       "      <td>1820.000000</td>\n",
       "      <td>1820.000000</td>\n",
       "      <td>1820.000000</td>\n",
       "    </tr>\n",
       "    <tr>\n",
       "      <th>mean</th>\n",
       "      <td>170962.345604</td>\n",
       "      <td>863.401099</td>\n",
       "      <td>41.450247</td>\n",
       "      <td>3.763736</td>\n",
       "      <td>1.133993e+06</td>\n",
       "      <td>2.375824</td>\n",
       "      <td>0.551099</td>\n",
       "      <td>0.702198</td>\n",
       "      <td>1.482430e+05</td>\n",
       "      <td>1.0</td>\n",
       "      <td>0.350000</td>\n",
       "      <td>0.650000</td>\n",
       "      <td>0.146154</td>\n",
       "      <td>0.240110</td>\n",
       "      <td>0.613736</td>\n",
       "    </tr>\n",
       "    <tr>\n",
       "      <th>std</th>\n",
       "      <td>35289.613648</td>\n",
       "      <td>49.611504</td>\n",
       "      <td>11.176459</td>\n",
       "      <td>1.585810</td>\n",
       "      <td>2.033978e+06</td>\n",
       "      <td>0.923380</td>\n",
       "      <td>0.497519</td>\n",
       "      <td>0.457418</td>\n",
       "      <td>1.229145e+05</td>\n",
       "      <td>0.0</td>\n",
       "      <td>0.477101</td>\n",
       "      <td>0.477101</td>\n",
       "      <td>0.353357</td>\n",
       "      <td>0.427267</td>\n",
       "      <td>0.487026</td>\n",
       "    </tr>\n",
       "    <tr>\n",
       "      <th>min</th>\n",
       "      <td>94561.000000</td>\n",
       "      <td>706.000000</td>\n",
       "      <td>18.000000</td>\n",
       "      <td>0.000000</td>\n",
       "      <td>6.000000e+00</td>\n",
       "      <td>0.000000</td>\n",
       "      <td>0.000000</td>\n",
       "      <td>0.000000</td>\n",
       "      <td>1.088027e+04</td>\n",
       "      <td>1.0</td>\n",
       "      <td>0.000000</td>\n",
       "      <td>0.000000</td>\n",
       "      <td>0.000000</td>\n",
       "      <td>0.000000</td>\n",
       "      <td>0.000000</td>\n",
       "    </tr>\n",
       "    <tr>\n",
       "      <th>25%</th>\n",
       "      <td>141300.500000</td>\n",
       "      <td>828.000000</td>\n",
       "      <td>32.000000</td>\n",
       "      <td>3.000000</td>\n",
       "      <td>3.872183e+05</td>\n",
       "      <td>2.000000</td>\n",
       "      <td>0.000000</td>\n",
       "      <td>0.000000</td>\n",
       "      <td>8.311132e+04</td>\n",
       "      <td>1.0</td>\n",
       "      <td>0.000000</td>\n",
       "      <td>0.000000</td>\n",
       "      <td>0.000000</td>\n",
       "      <td>0.000000</td>\n",
       "      <td>0.000000</td>\n",
       "    </tr>\n",
       "    <tr>\n",
       "      <th>50%</th>\n",
       "      <td>170496.000000</td>\n",
       "      <td>866.000000</td>\n",
       "      <td>39.000000</td>\n",
       "      <td>4.000000</td>\n",
       "      <td>7.824105e+05</td>\n",
       "      <td>2.000000</td>\n",
       "      <td>1.000000</td>\n",
       "      <td>1.000000</td>\n",
       "      <td>1.253906e+05</td>\n",
       "      <td>1.0</td>\n",
       "      <td>0.000000</td>\n",
       "      <td>1.000000</td>\n",
       "      <td>0.000000</td>\n",
       "      <td>0.000000</td>\n",
       "      <td>1.000000</td>\n",
       "    </tr>\n",
       "    <tr>\n",
       "      <th>75%</th>\n",
       "      <td>201386.250000</td>\n",
       "      <td>898.000000</td>\n",
       "      <td>52.000000</td>\n",
       "      <td>5.000000</td>\n",
       "      <td>1.348101e+06</td>\n",
       "      <td>3.000000</td>\n",
       "      <td>1.000000</td>\n",
       "      <td>1.000000</td>\n",
       "      <td>1.759529e+05</td>\n",
       "      <td>1.0</td>\n",
       "      <td>1.000000</td>\n",
       "      <td>1.000000</td>\n",
       "      <td>0.000000</td>\n",
       "      <td>0.000000</td>\n",
       "      <td>1.000000</td>\n",
       "    </tr>\n",
       "    <tr>\n",
       "      <th>max</th>\n",
       "      <td>229058.000000</td>\n",
       "      <td>1000.000000</td>\n",
       "      <td>79.000000</td>\n",
       "      <td>9.000000</td>\n",
       "      <td>6.486621e+07</td>\n",
       "      <td>5.000000</td>\n",
       "      <td>1.000000</td>\n",
       "      <td>1.000000</td>\n",
       "      <td>1.263028e+06</td>\n",
       "      <td>1.0</td>\n",
       "      <td>1.000000</td>\n",
       "      <td>1.000000</td>\n",
       "      <td>1.000000</td>\n",
       "      <td>1.000000</td>\n",
       "      <td>1.000000</td>\n",
       "    </tr>\n",
       "  </tbody>\n",
       "</table>\n",
       "</div>"
      ],
      "text/plain": [
       "              userid        score          age       equity       balance  \\\n",
       "count    1820.000000  1820.000000  1819.000000  1820.000000  1.807000e+03   \n",
       "mean   170962.345604   863.401099    41.450247     3.763736  1.133993e+06   \n",
       "std     35289.613648    49.611504    11.176459     1.585810  2.033978e+06   \n",
       "min     94561.000000   706.000000    18.000000     0.000000  6.000000e+00   \n",
       "25%    141300.500000   828.000000    32.000000     3.000000  3.872183e+05   \n",
       "50%    170496.000000   866.000000    39.000000     4.000000  7.824105e+05   \n",
       "75%    201386.250000   898.000000    52.000000     5.000000  1.348101e+06   \n",
       "max    229058.000000  1000.000000    79.000000     9.000000  6.486621e+07   \n",
       "\n",
       "          products  credit_card  last_activity    est_salary   churn  \\\n",
       "count  1820.000000  1820.000000    1820.000000  1.820000e+03  1820.0   \n",
       "mean      2.375824     0.551099       0.702198  1.482430e+05     1.0   \n",
       "std       0.923380     0.497519       0.457418  1.229145e+05     0.0   \n",
       "min       0.000000     0.000000       0.000000  1.088027e+04     1.0   \n",
       "25%       2.000000     0.000000       0.000000  8.311132e+04     1.0   \n",
       "50%       2.000000     1.000000       1.000000  1.253906e+05     1.0   \n",
       "75%       3.000000     1.000000       1.000000  1.759529e+05     1.0   \n",
       "max       5.000000     1.000000       1.000000  1.263028e+06     1.0   \n",
       "\n",
       "          gender_Ж     gender_М  city_Ростов  city_Рыбинск  city_Ярославль  \n",
       "count  1820.000000  1820.000000  1820.000000   1820.000000     1820.000000  \n",
       "mean      0.350000     0.650000     0.146154      0.240110        0.613736  \n",
       "std       0.477101     0.477101     0.353357      0.427267        0.487026  \n",
       "min       0.000000     0.000000     0.000000      0.000000        0.000000  \n",
       "25%       0.000000     0.000000     0.000000      0.000000        0.000000  \n",
       "50%       0.000000     1.000000     0.000000      0.000000        1.000000  \n",
       "75%       1.000000     1.000000     0.000000      0.000000        1.000000  \n",
       "max       1.000000     1.000000     1.000000      1.000000        1.000000  "
      ]
     },
     "execution_count": 35,
     "metadata": {},
     "output_type": "execute_result"
    }
   ],
   "source": [
    "bank.query('churn == 1').describe()"
   ]
  },
  {
   "cell_type": "markdown",
   "metadata": {},
   "source": [
    "1. показатель score для ушедших на 2% выше чем для не ушедших\n",
    "2. возраст у тех кто уходит на 2% ниже чем у тех кто остается\n",
    "3. оценка недвижимости на 33% выше у тех кто уходит\n",
    "4. баланс на 65% выше у тех кто уходит\n",
    "5. количсетво продуктов одинаково\n",
    "6. наличие кредитнйо карты одинаковое\n",
    "7. воследняя активность у тех кто уходит имеется,у тех кто не уходит такой активности нет\n",
    "8. оцениваемая зарплата на 6% выш у тех кто уходит"
   ]
  },
  {
   "cell_type": "markdown",
   "metadata": {},
   "source": [
    "<div class=\"alert alert-block alert-success\">\n",
    "\n",
    "v. 1\n",
    "    \n",
    "Вижу, что выше ты выводишь статистические характеристики, но в описании различий между \"ушедшими\" и \"оставшимися\" клиентами советую добавить числовые характеристики. Например, \"большая разница в балансе\" - возникает вопрос а какую разницу считать достаточно большой. В связи с этим было бы непохо конкретизировать)\n",
    "</div>"
   ]
  },
  {
   "cell_type": "code",
   "execution_count": 36,
   "metadata": {},
   "outputs": [
    {
     "data": {
      "image/png": "[encoded data removed]",
      "text/plain": [
       "<Figure size 432x288 with 2 Axes>"
      ]
     },
     "metadata": {
      "needs_background": "light"
     },
     "output_type": "display_data"
    }
   ],
   "source": [
    "cmap = sns.diverging_palette(250, 15, s=75, l=40,\n",
    "                             n=9, center=\"light\", as_cmap=True)\n",
    "corr = bank.corr()\n",
    "\n",
    "heatmap = sns.heatmap (\n",
    "    corr.corr()[['churn']].drop('churn').sort_values('churn'),\n",
    "    annot = True, cmap=cmap\n",
    "    )"
   ]
  },
  {
   "cell_type": "markdown",
   "metadata": {},
   "source": [
    "<div class=\"alert alert-block alert-success\">\n",
    "\n",
    "v. 1\n",
    "    \n",
    "Для отображения коэффициента корреляции Пирсона советую использовать палитру diverging.\n",
    "</div>"
   ]
  },
  {
   "cell_type": "markdown",
   "metadata": {},
   "source": [
    "График корреляции показывает следующие данные:\n",
    "- есть сильная зависимость между колличеством продуктов и оттоком\n",
    "- сильная зависимость между оценкой недвижимости и оттоком\n",
    "- большая разница в оттоке между мужчина и женщинами: мужчины склонны к оттоку а женщины наоборот\n",
    "- существует обратная свзяь между кредитной картой и оттоком, т.е. если есть кредитная карта ,т.е. если нет кредитной карты вероятность оттока выше\n",
    " \n",
    " "
   ]
  },
  {
   "cell_type": "code",
   "execution_count": 37,
   "metadata": {},
   "outputs": [],
   "source": [
    "bank.columns\n",
    "names = ['gender_Ж','gender_М', 'city_Ростов', 'city_Рыбинск', 'city_Ярославль','products','last_activity','credit_card']"
   ]
  },
  {
   "cell_type": "code",
   "execution_count": 38,
   "metadata": {},
   "outputs": [
    {
     "name": "stdout",
     "output_type": "stream",
     "text": [
      "для gender_Ж кореляция с оттоком составляет -0.1413322577353683 , статистическая значимость 1.8450385081425015e-45\n",
      "для gender_М кореляция с оттоком составляет 0.1413322577353683 , статистическая значимость 1.8450385081425015e-45\n",
      "для city_Ростов кореляция с оттоком составляет 0.0046212688543970475 , статистическая значимость 0.6452424044388299\n",
      "для city_Рыбинск кореляция с оттоком составляет -0.029164317043133055 , статистическая значимость 0.0036605874119519065\n",
      "для city_Ярославль кореляция с оттоком составляет 0.022955969129156116 , статистическая значимость 0.022183218965896728\n",
      "для products кореляция с оттоком составляет 0.2716833069070096 , статистическая значимость 1.6364596393657668e-167\n",
      "для last_activity кореляция с оттоком составляет 0.16950524838872066 , статистическая значимость 6.966842486811815e-65\n",
      "для credit_card кореляция с оттоком составляет -0.1307741065153893 , статистическая значимость 4.055503532000166e-39\n"
     ]
    }
   ],
   "source": [
    "names = ['gender_Ж','gender_М', 'city_Ростов', 'city_Рыбинск', 'city_Ярославль','products','last_activity','credit_card']\n",
    "\n",
    "for i in names:\n",
    "    coef, p = spearmanr(bank['churn'], bank[i])\n",
    "    print(f\"для {i} кореляция с оттоком составляет {coef} , статистическая значимость {p}\")   \n"
   ]
  },
  {
   "cell_type": "markdown",
   "metadata": {},
   "source": [
    "<div class=\"alert alert-block alert-danger\">\n",
    "\n",
    "v. 2\n",
    "    \n",
    "К сожалению, код падает с ошибкой. Исправь это пожалуйста.\n",
    "</div>"
   ]
  },
  {
   "cell_type": "markdown",
   "metadata": {},
   "source": [
    "<div class=\"alert alert-block alert-warning\">\n",
    "\n",
    "v. 3\n",
    "    \n",
    "В выводимых значениях коэффициента корреляции значимыми являются 2-3 знака после запятой, поэтому советую использовать форматирование вывода через f-строки или .format().\n",
    "</div>"
   ]
  },
  {
   "cell_type": "markdown",
   "metadata": {},
   "source": [
    "При проверке по коэфициенту Спирмана было обнаружена:\n",
    "- положительная корреляция с  мужским полом, продуктами, последней активностью,\n",
    "- отрицательная корреляция с женским полом, кредитной картой"
   ]
  },
  {
   "cell_type": "markdown",
   "metadata": {},
   "source": [
    "<div class=\"alert alert-block alert-warning\">\n",
    "\n",
    "v. 1\n",
    "    \n",
    "Коэффициент корреляции Пирсона применим только для числовых признаков, для категориальных и ранговых есть коэффициент ранговой корреляции Кендалла и коэффициент ранговой корреляции Спирмена.\n",
    "\n",
    "</div>"
   ]
  },
  {
   "cell_type": "markdown",
   "metadata": {},
   "source": [
    "<div class=\"alert alert-block alert-success\">\n",
    "\n",
    "v. 3\n",
    "    \n",
    "Молодец, что воспользовались коэфициентом Спирмена.\n",
    "</div>"
   ]
  },
  {
   "cell_type": "code",
   "execution_count": 39,
   "metadata": {},
   "outputs": [
    {
     "data": {
      "image/png": "[encoded data removed]",
      "text/plain": [
       "<Figure size 402.375x360 with 1 Axes>"
      ]
     },
     "metadata": {
      "needs_background": "light"
     },
     "output_type": "display_data"
    }
   ],
   "source": [
    "sns.displot(df,x='balance', kde=True, hue=\"churn\", common_norm=False, stat='density',\n",
    "             bins=10000, color = 'darkblue' )\n",
    "plt.xlim([0,1500000])\n",
    "plt.show()"
   ]
  },
  {
   "cell_type": "code",
   "execution_count": 40,
   "metadata": {},
   "outputs": [
    {
     "data": {
      "image/png": "[encoded data removed]",
      "text/plain": [
       "<Figure size 432x288 with 1 Axes>"
      ]
     },
     "metadata": {
      "needs_background": "light"
     },
     "output_type": "display_data"
    }
   ],
   "source": [
    "sns.boxplot(data= poor, y='balance',x = \"churn\")\n",
    "plt.show()"
   ]
  },
  {
   "cell_type": "markdown",
   "metadata": {},
   "source": [
    "По данному графику можно заключить что люди с более высоким балансом склоны к оттоку. Начиная с 0,6 миллиона рублей люди более склоны к оттоку"
   ]
  },
  {
   "cell_type": "markdown",
   "metadata": {},
   "source": [
    "<div class=\"alert alert-block alert-success\">\n",
    "\n",
    "v. 1\n",
    "    \n",
    "Для более точного ответа можно рассчитать доверительные интервалы или провести статистический тест на наличие статистически значимых различий между средними.\n",
    "\n",
    "</div>"
   ]
  },
  {
   "cell_type": "code",
   "execution_count": 41,
   "metadata": {},
   "outputs": [
    {
     "data": {
      "image/png": "[encoded data removed]",
      "text/plain": [
       "<Figure size 402.375x360 with 1 Axes>"
      ]
     },
     "metadata": {
      "needs_background": "light"
     },
     "output_type": "display_data"
    }
   ],
   "source": [
    "sns.displot(df,x='est_salary', kde=True, hue=\"churn\", common_norm=False, stat='density',\n",
    "             bins=300, color = 'darkblue' )\n",
    "plt.xlim([0,400000])\n",
    "plt.show()"
   ]
  },
  {
   "cell_type": "markdown",
   "metadata": {},
   "source": [
    "По графику нельзя сделать однозначный вывод что люди с более высоким доходом более склоны к оттоку. Возможно только для мужчин данная тенденция будет более отчетлива"
   ]
  },
  {
   "cell_type": "code",
   "execution_count": 42,
   "metadata": {},
   "outputs": [
    {
     "data": {
      "image/png": "[encoded data removed]",
      "text/plain": [
       "<Figure size 402.375x360 with 1 Axes>"
      ]
     },
     "metadata": {
      "needs_background": "light"
     },
     "output_type": "display_data"
    }
   ],
   "source": [
    "sns.displot(df.query('gender == \"М\"'),x='est_salary', kde=True, hue=\"churn\", common_norm=False, stat='density',\n",
    "             bins=300, color = 'darkblue' )\n",
    "plt.xlim([0,400000])\n",
    "plt.show()\n"
   ]
  },
  {
   "cell_type": "markdown",
   "metadata": {},
   "source": [
    "Данное предположение не подтвердилось."
   ]
  },
  {
   "cell_type": "code",
   "execution_count": 43,
   "metadata": {},
   "outputs": [
    {
     "data": {
      "image/png": "[encoded data removed]",
      "text/plain": [
       "<Figure size 402.375x360 with 1 Axes>"
      ]
     },
     "metadata": {
      "needs_background": "light"
     },
     "output_type": "display_data"
    }
   ],
   "source": [
    "sns.displot(df,x='age', kde=True, hue=\"churn\", common_norm=False, stat='density',\n",
    "             bins=100, color = 'darkblue' )\n",
    "plt.show()"
   ]
  },
  {
   "cell_type": "markdown",
   "metadata": {},
   "source": [
    "Награфике видно что люди с 50 до 65 более склоны к оттоку. Необходимо более детальное изучение для подтверждения это вывода"
   ]
  },
  {
   "cell_type": "markdown",
   "metadata": {},
   "source": [
    "<div class=\"alert alert-block alert-success\">\n",
    "\n",
    "v. 1\n",
    "    \n",
    "Интересное наблюдение, но нужно его проверить)\n",
    "</div>"
   ]
  },
  {
   "cell_type": "markdown",
   "metadata": {},
   "source": [
    "<div class=\"alert alert-block alert-success\">\n",
    "\n",
    "v. 1\n",
    "    \n",
    "Обращаю внимание, что при построении нормированных гистограмм по срезам датасета пересечение распределений указывает на точки где уровень оттока равен среднему не по всему датасету, а только по данному срезу.\n",
    "</div>"
   ]
  },
  {
   "cell_type": "code",
   "execution_count": 44,
   "metadata": {},
   "outputs": [
    {
     "data": {
      "text/plain": [
       "<seaborn.axisgrid.FacetGrid at 0x7f293f989970>"
      ]
     },
     "execution_count": 44,
     "metadata": {},
     "output_type": "execute_result"
    },
    {
     "data": {
      "image/png": "[encoded data removed]",
      "text/plain": [
       "<Figure size 402.375x360 with 1 Axes>"
      ]
     },
     "metadata": {
      "needs_background": "light"
     },
     "output_type": "display_data"
    }
   ],
   "source": [
    "sns.displot(df,x='score', kde=True, hue=\"churn\", common_norm=False, stat='density',\n",
    "             bins=100, color = 'darkblue' )"
   ]
  },
  {
   "cell_type": "markdown",
   "metadata": {},
   "source": [
    "Из графика можно заключить что люди со скорингом от от 830 до 930 более склоны к оттоку. Данное предположение нуждается в более детальном изучении."
   ]
  },
  {
   "cell_type": "code",
   "execution_count": 45,
   "metadata": {},
   "outputs": [
    {
     "data": {
      "text/html": [
       "<div>\n",
       "<style scoped>\n",
       "    .dataframe tbody tr th:only-of-type {\n",
       "        vertical-align: middle;\n",
       "    }\n",
       "\n",
       "    .dataframe tbody tr th {\n",
       "        vertical-align: top;\n",
       "    }\n",
       "\n",
       "    .dataframe thead th {\n",
       "        text-align: right;\n",
       "    }\n",
       "</style>\n",
       "<table border=\"1\" class=\"dataframe\">\n",
       "  <thead>\n",
       "    <tr style=\"text-align: right;\">\n",
       "      <th></th>\n",
       "      <th>gender</th>\n",
       "      <th>in</th>\n",
       "      <th>out</th>\n",
       "      <th>%</th>\n",
       "    </tr>\n",
       "  </thead>\n",
       "  <tbody>\n",
       "    <tr>\n",
       "      <th>0</th>\n",
       "      <td>Ж</td>\n",
       "      <td>4318</td>\n",
       "      <td>637</td>\n",
       "      <td>12.86</td>\n",
       "    </tr>\n",
       "    <tr>\n",
       "      <th>1</th>\n",
       "      <td>М</td>\n",
       "      <td>3789</td>\n",
       "      <td>1183</td>\n",
       "      <td>23.79</td>\n",
       "    </tr>\n",
       "  </tbody>\n",
       "</table>\n",
       "</div>"
      ],
      "text/plain": [
       "  gender    in   out      %\n",
       "0      Ж  4318   637  12.86\n",
       "1      М  3789  1183  23.79"
      ]
     },
     "execution_count": 45,
     "metadata": {},
     "output_type": "execute_result"
    }
   ],
   "source": [
    "bank_pivot = df.pivot_table(index = ['gender'],\n",
    "                           columns = ['churn'],\n",
    "                           values =['userid'],\n",
    "                           aggfunc=['count']).reset_index()\n",
    "bank_pivot.columns = ['gender','in','out']\n",
    "bank_pivot['%'] = round(bank_pivot['out']/(bank_pivot['in'] + bank_pivot['out']) *100, 2)\n",
    "bank_pivot"
   ]
  },
  {
   "cell_type": "markdown",
   "metadata": {},
   "source": [
    "таблица по полу доказывает что мужчины более склоны к оттоку, показатель в 2 раза выше чем у женщин"
   ]
  },
  {
   "cell_type": "code",
   "execution_count": 46,
   "metadata": {},
   "outputs": [
    {
     "data": {
      "text/html": [
       "<div>\n",
       "<style scoped>\n",
       "    .dataframe tbody tr th:only-of-type {\n",
       "        vertical-align: middle;\n",
       "    }\n",
       "\n",
       "    .dataframe tbody tr th {\n",
       "        vertical-align: top;\n",
       "    }\n",
       "\n",
       "    .dataframe thead th {\n",
       "        text-align: right;\n",
       "    }\n",
       "</style>\n",
       "<table border=\"1\" class=\"dataframe\">\n",
       "  <thead>\n",
       "    <tr style=\"text-align: right;\">\n",
       "      <th></th>\n",
       "      <th>city</th>\n",
       "      <th>in</th>\n",
       "      <th>out</th>\n",
       "      <th>%</th>\n",
       "    </tr>\n",
       "  </thead>\n",
       "  <tbody>\n",
       "    <tr>\n",
       "      <th>0</th>\n",
       "      <td>Ростов</td>\n",
       "      <td>1151</td>\n",
       "      <td>266</td>\n",
       "      <td>18.77</td>\n",
       "    </tr>\n",
       "    <tr>\n",
       "      <th>1</th>\n",
       "      <td>Рыбинск</td>\n",
       "      <td>2217</td>\n",
       "      <td>437</td>\n",
       "      <td>16.47</td>\n",
       "    </tr>\n",
       "    <tr>\n",
       "      <th>2</th>\n",
       "      <td>Ярославль</td>\n",
       "      <td>4739</td>\n",
       "      <td>1117</td>\n",
       "      <td>19.07</td>\n",
       "    </tr>\n",
       "  </tbody>\n",
       "</table>\n",
       "</div>"
      ],
      "text/plain": [
       "        city    in   out      %\n",
       "0     Ростов  1151   266  18.77\n",
       "1    Рыбинск  2217   437  16.47\n",
       "2  Ярославль  4739  1117  19.07"
      ]
     },
     "execution_count": 46,
     "metadata": {},
     "output_type": "execute_result"
    }
   ],
   "source": [
    "bank_pivot = df.pivot_table(index = ['city'],\n",
    "                           columns = ['churn'],\n",
    "                           values =['userid'],\n",
    "                           aggfunc=['count']).reset_index()\n",
    "bank_pivot.columns = ['city','in','out']\n",
    "bank_pivot['%'] = round(bank_pivot['out']/(bank_pivot['in'] + bank_pivot['out']) *100, 2)\n",
    "bank_pivot"
   ]
  },
  {
   "cell_type": "markdown",
   "metadata": {},
   "source": [
    "Наибольший отток из ярославля впервую очередь связан с тем, что там больше всего клиентов. И хотя % оттока в ярославле выше чем в других городах, данный показатель выше всего на 1% чего не достаточно, для утверждения о том, что основная причина оттока в городе."
   ]
  },
  {
   "cell_type": "code",
   "execution_count": 47,
   "metadata": {},
   "outputs": [
    {
     "data": {
      "text/html": [
       "<div>\n",
       "<style scoped>\n",
       "    .dataframe tbody tr th:only-of-type {\n",
       "        vertical-align: middle;\n",
       "    }\n",
       "\n",
       "    .dataframe tbody tr th {\n",
       "        vertical-align: top;\n",
       "    }\n",
       "\n",
       "    .dataframe thead th {\n",
       "        text-align: right;\n",
       "    }\n",
       "</style>\n",
       "<table border=\"1\" class=\"dataframe\">\n",
       "  <thead>\n",
       "    <tr style=\"text-align: right;\">\n",
       "      <th></th>\n",
       "      <th>city</th>\n",
       "      <th>gender</th>\n",
       "      <th>in</th>\n",
       "      <th>out</th>\n",
       "      <th>%</th>\n",
       "    </tr>\n",
       "  </thead>\n",
       "  <tbody>\n",
       "    <tr>\n",
       "      <th>0</th>\n",
       "      <td>Ростов</td>\n",
       "      <td>Ж</td>\n",
       "      <td>643</td>\n",
       "      <td>91</td>\n",
       "      <td>12.40</td>\n",
       "    </tr>\n",
       "    <tr>\n",
       "      <th>1</th>\n",
       "      <td>Ростов</td>\n",
       "      <td>М</td>\n",
       "      <td>508</td>\n",
       "      <td>175</td>\n",
       "      <td>25.62</td>\n",
       "    </tr>\n",
       "    <tr>\n",
       "      <th>2</th>\n",
       "      <td>Рыбинск</td>\n",
       "      <td>Ж</td>\n",
       "      <td>1212</td>\n",
       "      <td>139</td>\n",
       "      <td>10.29</td>\n",
       "    </tr>\n",
       "    <tr>\n",
       "      <th>3</th>\n",
       "      <td>Рыбинск</td>\n",
       "      <td>М</td>\n",
       "      <td>1005</td>\n",
       "      <td>298</td>\n",
       "      <td>22.87</td>\n",
       "    </tr>\n",
       "    <tr>\n",
       "      <th>4</th>\n",
       "      <td>Ярославль</td>\n",
       "      <td>Ж</td>\n",
       "      <td>2463</td>\n",
       "      <td>407</td>\n",
       "      <td>14.18</td>\n",
       "    </tr>\n",
       "    <tr>\n",
       "      <th>5</th>\n",
       "      <td>Ярославль</td>\n",
       "      <td>М</td>\n",
       "      <td>2276</td>\n",
       "      <td>710</td>\n",
       "      <td>23.78</td>\n",
       "    </tr>\n",
       "  </tbody>\n",
       "</table>\n",
       "</div>"
      ],
      "text/plain": [
       "        city gender    in  out      %\n",
       "0     Ростов      Ж   643   91  12.40\n",
       "1     Ростов      М   508  175  25.62\n",
       "2    Рыбинск      Ж  1212  139  10.29\n",
       "3    Рыбинск      М  1005  298  22.87\n",
       "4  Ярославль      Ж  2463  407  14.18\n",
       "5  Ярославль      М  2276  710  23.78"
      ]
     },
     "execution_count": 47,
     "metadata": {},
     "output_type": "execute_result"
    }
   ],
   "source": [
    "bank_pivot = df.pivot_table(index = ['city','gender'],\n",
    "                           columns = ['churn'],\n",
    "                           values =['userid'],\n",
    "                           aggfunc=['count']).reset_index()\n",
    "bank_pivot.columns = ['city','gender','in','out']\n",
    "bank_pivot['%'] = round(bank_pivot['out']/(bank_pivot['in'] + bank_pivot['out']) *100, 2)\n",
    "bank_pivot"
   ]
  },
  {
   "cell_type": "markdown",
   "metadata": {},
   "source": [
    "Распределение по городу и полу доказало что есть большая разница между мужчина и женщина. НО во всех городах гендерные признаки имеет одинаковую тендецию.\n",
    "Город как критерий поиска сегментов можно исключить"
   ]
  },
  {
   "cell_type": "code",
   "execution_count": 48,
   "metadata": {},
   "outputs": [],
   "source": [
    "df['age_cat'] = df['age'] // 10\n",
    "df['score_cat'] = df['score'] // 100\n",
    "df['balance_cat'] = df['balance'] // 750000\n",
    "df['salary'] = df['est_salary']//100000\n"
   ]
  },
  {
   "cell_type": "code",
   "execution_count": 49,
   "metadata": {},
   "outputs": [],
   "source": [
    "mal = df.query('gender == \"М\"')\n",
    "fam =  df.query('gender == \"Ж\"')"
   ]
  },
  {
   "cell_type": "code",
   "execution_count": 50,
   "metadata": {},
   "outputs": [
    {
     "data": {
      "text/html": [
       "<div>\n",
       "<style scoped>\n",
       "    .dataframe tbody tr th:only-of-type {\n",
       "        vertical-align: middle;\n",
       "    }\n",
       "\n",
       "    .dataframe tbody tr th {\n",
       "        vertical-align: top;\n",
       "    }\n",
       "\n",
       "    .dataframe thead th {\n",
       "        text-align: right;\n",
       "    }\n",
       "</style>\n",
       "<table border=\"1\" class=\"dataframe\">\n",
       "  <thead>\n",
       "    <tr style=\"text-align: right;\">\n",
       "      <th></th>\n",
       "      <th>score_cat</th>\n",
       "      <th>in</th>\n",
       "      <th>out</th>\n",
       "      <th>%</th>\n",
       "    </tr>\n",
       "  </thead>\n",
       "  <tbody>\n",
       "    <tr>\n",
       "      <th>0</th>\n",
       "      <td>6.0</td>\n",
       "      <td>167</td>\n",
       "      <td>0</td>\n",
       "      <td>0.00</td>\n",
       "    </tr>\n",
       "    <tr>\n",
       "      <th>1</th>\n",
       "      <td>7.0</td>\n",
       "      <td>1998</td>\n",
       "      <td>208</td>\n",
       "      <td>9.43</td>\n",
       "    </tr>\n",
       "    <tr>\n",
       "      <th>2</th>\n",
       "      <td>8.0</td>\n",
       "      <td>3891</td>\n",
       "      <td>1174</td>\n",
       "      <td>23.18</td>\n",
       "    </tr>\n",
       "    <tr>\n",
       "      <th>3</th>\n",
       "      <td>9.0</td>\n",
       "      <td>2046</td>\n",
       "      <td>437</td>\n",
       "      <td>17.60</td>\n",
       "    </tr>\n",
       "    <tr>\n",
       "      <th>4</th>\n",
       "      <td>10.0</td>\n",
       "      <td>5</td>\n",
       "      <td>1</td>\n",
       "      <td>16.67</td>\n",
       "    </tr>\n",
       "  </tbody>\n",
       "</table>\n",
       "</div>"
      ],
      "text/plain": [
       "   score_cat    in   out      %\n",
       "0        6.0   167     0   0.00\n",
       "1        7.0  1998   208   9.43\n",
       "2        8.0  3891  1174  23.18\n",
       "3        9.0  2046   437  17.60\n",
       "4       10.0     5     1  16.67"
      ]
     },
     "execution_count": 50,
     "metadata": {},
     "output_type": "execute_result"
    }
   ],
   "source": [
    "bank_pivot = df.pivot_table(index = ['score_cat'],\n",
    "                           columns = ['churn'],\n",
    "                           values =['userid'],\n",
    "                           aggfunc=['count'],\n",
    "                           fill_value=0).reset_index()\n",
    "bank_pivot.columns= ['score_cat', 'in', 'out']\n",
    "bank_pivot['%'] = round(bank_pivot['out']/(bank_pivot['in'] + bank_pivot['out']) *100, 2)\n",
    "bank_pivot"
   ]
  },
  {
   "cell_type": "markdown",
   "metadata": {},
   "source": [
    "Для группы людей имеющих скоринг больше 800 % оттока составляет 23.18%"
   ]
  },
  {
   "cell_type": "markdown",
   "metadata": {},
   "source": [
    "<div class=\"alert alert-block alert-warning\">\n",
    "\n",
    "v. 1\n",
    "    \n",
    "Здесь стоит отметить, что у нас нелинейная зависимость скора и оттока, поэтому боксплоты её не отобразят(\n",
    "</div>"
   ]
  },
  {
   "cell_type": "markdown",
   "metadata": {},
   "source": [
    "<div class=\"alert alert-block alert-success\">\n",
    "\n",
    "v. 3\n",
    "    \n",
    "Ок :)\n",
    "</div>"
   ]
  },
  {
   "cell_type": "code",
   "execution_count": 51,
   "metadata": {},
   "outputs": [
    {
     "data": {
      "text/html": [
       "<div>\n",
       "<style scoped>\n",
       "    .dataframe tbody tr th:only-of-type {\n",
       "        vertical-align: middle;\n",
       "    }\n",
       "\n",
       "    .dataframe tbody tr th {\n",
       "        vertical-align: top;\n",
       "    }\n",
       "\n",
       "    .dataframe thead th {\n",
       "        text-align: right;\n",
       "    }\n",
       "</style>\n",
       "<table border=\"1\" class=\"dataframe\">\n",
       "  <thead>\n",
       "    <tr style=\"text-align: right;\">\n",
       "      <th></th>\n",
       "      <th>balance_cat</th>\n",
       "      <th>in</th>\n",
       "      <th>out</th>\n",
       "      <th>%</th>\n",
       "    </tr>\n",
       "  </thead>\n",
       "  <tbody>\n",
       "    <tr>\n",
       "      <th>0</th>\n",
       "      <td>0.0</td>\n",
       "      <td>4108</td>\n",
       "      <td>866</td>\n",
       "      <td>17.41</td>\n",
       "    </tr>\n",
       "    <tr>\n",
       "      <th>1</th>\n",
       "      <td>1.0</td>\n",
       "      <td>1393</td>\n",
       "      <td>581</td>\n",
       "      <td>29.43</td>\n",
       "    </tr>\n",
       "    <tr>\n",
       "      <th>2</th>\n",
       "      <td>2.0</td>\n",
       "      <td>177</td>\n",
       "      <td>197</td>\n",
       "      <td>52.67</td>\n",
       "    </tr>\n",
       "    <tr>\n",
       "      <th>3</th>\n",
       "      <td>3.0</td>\n",
       "      <td>72</td>\n",
       "      <td>72</td>\n",
       "      <td>50.00</td>\n",
       "    </tr>\n",
       "    <tr>\n",
       "      <th>4</th>\n",
       "      <td>4.0</td>\n",
       "      <td>25</td>\n",
       "      <td>43</td>\n",
       "      <td>63.24</td>\n",
       "    </tr>\n",
       "  </tbody>\n",
       "</table>\n",
       "</div>"
      ],
      "text/plain": [
       "   balance_cat    in  out      %\n",
       "0          0.0  4108  866  17.41\n",
       "1          1.0  1393  581  29.43\n",
       "2          2.0   177  197  52.67\n",
       "3          3.0    72   72  50.00\n",
       "4          4.0    25   43  63.24"
      ]
     },
     "execution_count": 51,
     "metadata": {},
     "output_type": "execute_result"
    }
   ],
   "source": [
    "bank_pivot = df.pivot_table(index = ['balance_cat'],\n",
    "                           columns = ['churn'],\n",
    "                           values =['userid'],\n",
    "                           aggfunc=['count'],\n",
    "                           fill_value=0).reset_index()\n",
    "bank_pivot.columns= ['balance_cat', 'in', 'out']\n",
    "bank_pivot['%'] = round(bank_pivot['out']/(bank_pivot['in'] + bank_pivot['out']) *100, 2)\n",
    "bank_pivot.head(5)"
   ]
  },
  {
   "cell_type": "markdown",
   "metadata": {},
   "source": [
    "мы нашли группу людей которые имеют повышенный процент оттока. это люди с балансом от 750000 тысяч"
   ]
  },
  {
   "cell_type": "code",
   "execution_count": 52,
   "metadata": {},
   "outputs": [
    {
     "data": {
      "text/html": [
       "<div>\n",
       "<style scoped>\n",
       "    .dataframe tbody tr th:only-of-type {\n",
       "        vertical-align: middle;\n",
       "    }\n",
       "\n",
       "    .dataframe tbody tr th {\n",
       "        vertical-align: top;\n",
       "    }\n",
       "\n",
       "    .dataframe thead th {\n",
       "        text-align: right;\n",
       "    }\n",
       "</style>\n",
       "<table border=\"1\" class=\"dataframe\">\n",
       "  <thead>\n",
       "    <tr style=\"text-align: right;\">\n",
       "      <th></th>\n",
       "      <th>products</th>\n",
       "      <th>in</th>\n",
       "      <th>out</th>\n",
       "      <th>%</th>\n",
       "    </tr>\n",
       "  </thead>\n",
       "  <tbody>\n",
       "    <tr>\n",
       "      <th>0</th>\n",
       "      <td>0</td>\n",
       "      <td>0</td>\n",
       "      <td>1</td>\n",
       "      <td>100.00</td>\n",
       "    </tr>\n",
       "    <tr>\n",
       "      <th>1</th>\n",
       "      <td>1</td>\n",
       "      <td>3071</td>\n",
       "      <td>235</td>\n",
       "      <td>7.11</td>\n",
       "    </tr>\n",
       "    <tr>\n",
       "      <th>2</th>\n",
       "      <td>2</td>\n",
       "      <td>4120</td>\n",
       "      <td>979</td>\n",
       "      <td>19.20</td>\n",
       "    </tr>\n",
       "    <tr>\n",
       "      <th>3</th>\n",
       "      <td>3</td>\n",
       "      <td>731</td>\n",
       "      <td>297</td>\n",
       "      <td>28.89</td>\n",
       "    </tr>\n",
       "    <tr>\n",
       "      <th>4</th>\n",
       "      <td>4</td>\n",
       "      <td>174</td>\n",
       "      <td>300</td>\n",
       "      <td>63.29</td>\n",
       "    </tr>\n",
       "    <tr>\n",
       "      <th>5</th>\n",
       "      <td>5</td>\n",
       "      <td>11</td>\n",
       "      <td>8</td>\n",
       "      <td>42.11</td>\n",
       "    </tr>\n",
       "  </tbody>\n",
       "</table>\n",
       "</div>"
      ],
      "text/plain": [
       "   products    in  out       %\n",
       "0         0     0    1  100.00\n",
       "1         1  3071  235    7.11\n",
       "2         2  4120  979   19.20\n",
       "3         3   731  297   28.89\n",
       "4         4   174  300   63.29\n",
       "5         5    11    8   42.11"
      ]
     },
     "execution_count": 52,
     "metadata": {},
     "output_type": "execute_result"
    }
   ],
   "source": [
    "bank_pivot = df.pivot_table(index = ['products'],\n",
    "                           columns = ['churn'],\n",
    "                           values =['userid'],\n",
    "                           aggfunc=['count'],\n",
    "                           fill_value=0).reset_index()\n",
    "bank_pivot.columns= ['products', 'in', 'out']\n",
    "bank_pivot['%'] = round(bank_pivot['out']/(bank_pivot['in'] + bank_pivot['out']) *100, 2)\n",
    "bank_pivot"
   ]
  },
  {
   "cell_type": "code",
   "execution_count": 53,
   "metadata": {},
   "outputs": [
    {
     "data": {
      "text/plain": [
       "<AxesSubplot:xlabel='churn', ylabel='products'>"
      ]
     },
     "execution_count": 53,
     "metadata": {},
     "output_type": "execute_result"
    },
    {
     "data": {
      "image/png": "[encoded data removed]",
      "text/plain": [
       "<Figure size 432x288 with 1 Axes>"
      ]
     },
     "metadata": {
      "needs_background": "light"
     },
     "output_type": "display_data"
    }
   ],
   "source": [
    "sns.boxplot(data= bank, y='products',x = \"churn\")"
   ]
  },
  {
   "cell_type": "markdown",
   "metadata": {},
   "source": [
    "Критерий по наличию продуктов точно оказывает влияние на отток.У Клиентов имеющие больше 1 продукта, шансы на отток резко растут"
   ]
  },
  {
   "cell_type": "markdown",
   "metadata": {},
   "source": [
    "<div class=\"alert alert-block alert-success\">\n",
    "\n",
    "v. 1\n",
    "    \n",
    "Да, верно 👍👍👍\n",
    "</div>"
   ]
  },
  {
   "cell_type": "code",
   "execution_count": 54,
   "metadata": {},
   "outputs": [
    {
     "data": {
      "text/html": [
       "<div>\n",
       "<style scoped>\n",
       "    .dataframe tbody tr th:only-of-type {\n",
       "        vertical-align: middle;\n",
       "    }\n",
       "\n",
       "    .dataframe tbody tr th {\n",
       "        vertical-align: top;\n",
       "    }\n",
       "\n",
       "    .dataframe thead th {\n",
       "        text-align: right;\n",
       "    }\n",
       "</style>\n",
       "<table border=\"1\" class=\"dataframe\">\n",
       "  <thead>\n",
       "    <tr style=\"text-align: right;\">\n",
       "      <th></th>\n",
       "      <th>userid</th>\n",
       "      <th>score</th>\n",
       "      <th>age</th>\n",
       "      <th>equity</th>\n",
       "      <th>balance</th>\n",
       "      <th>products</th>\n",
       "      <th>credit_card</th>\n",
       "      <th>last_activity</th>\n",
       "      <th>est_salary</th>\n",
       "      <th>churn</th>\n",
       "      <th>gender_Ж</th>\n",
       "      <th>gender_М</th>\n",
       "      <th>city_Ростов</th>\n",
       "      <th>city_Рыбинск</th>\n",
       "      <th>city_Ярославль</th>\n",
       "    </tr>\n",
       "  </thead>\n",
       "  <tbody>\n",
       "    <tr>\n",
       "      <th>0</th>\n",
       "      <td>183012</td>\n",
       "      <td>850.0</td>\n",
       "      <td>25.0</td>\n",
       "      <td>1</td>\n",
       "      <td>59214.82</td>\n",
       "      <td>2</td>\n",
       "      <td>0</td>\n",
       "      <td>1</td>\n",
       "      <td>75719.14</td>\n",
       "      <td>1</td>\n",
       "      <td>1</td>\n",
       "      <td>0</td>\n",
       "      <td>0</td>\n",
       "      <td>1</td>\n",
       "      <td>0</td>\n",
       "    </tr>\n",
       "  </tbody>\n",
       "</table>\n",
       "</div>"
      ],
      "text/plain": [
       "   userid  score   age  equity   balance  products  credit_card  \\\n",
       "0  183012  850.0  25.0       1  59214.82         2            0   \n",
       "\n",
       "   last_activity  est_salary  churn  gender_Ж  gender_М  city_Ростов  \\\n",
       "0              1    75719.14      1         1         0            0   \n",
       "\n",
       "   city_Рыбинск  city_Ярославль  \n",
       "0             1               0  "
      ]
     },
     "execution_count": 54,
     "metadata": {},
     "output_type": "execute_result"
    }
   ],
   "source": [
    "bank.head(1)"
   ]
  },
  {
   "cell_type": "code",
   "execution_count": null,
   "metadata": {},
   "outputs": [],
   "source": []
  },
  {
   "cell_type": "code",
   "execution_count": 55,
   "metadata": {},
   "outputs": [
    {
     "data": {
      "text/html": [
       "<div>\n",
       "<style scoped>\n",
       "    .dataframe tbody tr th:only-of-type {\n",
       "        vertical-align: middle;\n",
       "    }\n",
       "\n",
       "    .dataframe tbody tr th {\n",
       "        vertical-align: top;\n",
       "    }\n",
       "\n",
       "    .dataframe thead th {\n",
       "        text-align: right;\n",
       "    }\n",
       "</style>\n",
       "<table border=\"1\" class=\"dataframe\">\n",
       "  <thead>\n",
       "    <tr style=\"text-align: right;\">\n",
       "      <th></th>\n",
       "      <th>last_activity</th>\n",
       "      <th>in</th>\n",
       "      <th>out</th>\n",
       "      <th>%</th>\n",
       "    </tr>\n",
       "  </thead>\n",
       "  <tbody>\n",
       "    <tr>\n",
       "      <th>0</th>\n",
       "      <td>0</td>\n",
       "      <td>4188</td>\n",
       "      <td>542</td>\n",
       "      <td>11.46</td>\n",
       "    </tr>\n",
       "    <tr>\n",
       "      <th>1</th>\n",
       "      <td>1</td>\n",
       "      <td>3919</td>\n",
       "      <td>1278</td>\n",
       "      <td>24.59</td>\n",
       "    </tr>\n",
       "  </tbody>\n",
       "</table>\n",
       "</div>"
      ],
      "text/plain": [
       "   last_activity    in   out      %\n",
       "0              0  4188   542  11.46\n",
       "1              1  3919  1278  24.59"
      ]
     },
     "execution_count": 55,
     "metadata": {},
     "output_type": "execute_result"
    }
   ],
   "source": [
    "bank_pivot = df.pivot_table(index = ['last_activity'],\n",
    "                           columns = ['churn'],\n",
    "                           values =['userid'],\n",
    "                           aggfunc=['count'],\n",
    "                           fill_value=0).reset_index()\n",
    "bank_pivot.columns= ['last_activity', 'in', 'out']\n",
    "bank_pivot['%'] = round(bank_pivot['out']/(bank_pivot['in'] + bank_pivot['out']) *100, 2)\n",
    "bank_pivot"
   ]
  },
  {
   "cell_type": "code",
   "execution_count": null,
   "metadata": {},
   "outputs": [],
   "source": []
  },
  {
   "cell_type": "code",
   "execution_count": 56,
   "metadata": {},
   "outputs": [
    {
     "data": {
      "text/html": [
       "<div>\n",
       "<style scoped>\n",
       "    .dataframe tbody tr th:only-of-type {\n",
       "        vertical-align: middle;\n",
       "    }\n",
       "\n",
       "    .dataframe tbody tr th {\n",
       "        vertical-align: top;\n",
       "    }\n",
       "\n",
       "    .dataframe thead th {\n",
       "        text-align: right;\n",
       "    }\n",
       "</style>\n",
       "<table border=\"1\" class=\"dataframe\">\n",
       "  <thead>\n",
       "    <tr style=\"text-align: right;\">\n",
       "      <th></th>\n",
       "      <th>products</th>\n",
       "      <th>in</th>\n",
       "      <th>out</th>\n",
       "      <th>per</th>\n",
       "    </tr>\n",
       "  </thead>\n",
       "  <tbody>\n",
       "    <tr>\n",
       "      <th>3</th>\n",
       "      <td>3</td>\n",
       "      <td>1211</td>\n",
       "      <td>322</td>\n",
       "      <td>21.00</td>\n",
       "    </tr>\n",
       "    <tr>\n",
       "      <th>4</th>\n",
       "      <td>4</td>\n",
       "      <td>1377</td>\n",
       "      <td>464</td>\n",
       "      <td>25.20</td>\n",
       "    </tr>\n",
       "    <tr>\n",
       "      <th>5</th>\n",
       "      <td>5</td>\n",
       "      <td>1334</td>\n",
       "      <td>577</td>\n",
       "      <td>30.19</td>\n",
       "    </tr>\n",
       "    <tr>\n",
       "      <th>6</th>\n",
       "      <td>6</td>\n",
       "      <td>103</td>\n",
       "      <td>58</td>\n",
       "      <td>36.02</td>\n",
       "    </tr>\n",
       "    <tr>\n",
       "      <th>7</th>\n",
       "      <td>7</td>\n",
       "      <td>42</td>\n",
       "      <td>37</td>\n",
       "      <td>46.84</td>\n",
       "    </tr>\n",
       "    <tr>\n",
       "      <th>8</th>\n",
       "      <td>8</td>\n",
       "      <td>11</td>\n",
       "      <td>6</td>\n",
       "      <td>35.29</td>\n",
       "    </tr>\n",
       "    <tr>\n",
       "      <th>9</th>\n",
       "      <td>9</td>\n",
       "      <td>6</td>\n",
       "      <td>7</td>\n",
       "      <td>53.85</td>\n",
       "    </tr>\n",
       "  </tbody>\n",
       "</table>\n",
       "</div>"
      ],
      "text/plain": [
       "   products    in  out    per\n",
       "3         3  1211  322  21.00\n",
       "4         4  1377  464  25.20\n",
       "5         5  1334  577  30.19\n",
       "6         6   103   58  36.02\n",
       "7         7    42   37  46.84\n",
       "8         8    11    6  35.29\n",
       "9         9     6    7  53.85"
      ]
     },
     "execution_count": 56,
     "metadata": {},
     "output_type": "execute_result"
    }
   ],
   "source": [
    "bank_pivot = df.pivot_table(index = ['equity'],\n",
    "                           columns = ['churn'],\n",
    "                           values =['userid'],\n",
    "                           aggfunc=['count'],\n",
    "                           fill_value=0).reset_index()\n",
    "bank_pivot.columns= ['products', 'in', 'out']\n",
    "bank_pivot['per'] = round(bank_pivot['out']/(bank_pivot['in'] + bank_pivot['out']) *100, 2)\n",
    "bank_pivot.query(\"per> 18\")"
   ]
  },
  {
   "cell_type": "code",
   "execution_count": 57,
   "metadata": {},
   "outputs": [
    {
     "data": {
      "text/plain": [
       "<AxesSubplot:xlabel='churn', ylabel='equity'>"
      ]
     },
     "execution_count": 57,
     "metadata": {},
     "output_type": "execute_result"
    },
    {
     "data": {
      "image/png": "[encoded data removed]",
      "text/plain": [
       "<Figure size 432x288 with 1 Axes>"
      ]
     },
     "metadata": {
      "needs_background": "light"
     },
     "output_type": "display_data"
    }
   ],
   "source": [
    "sns.boxplot(data= bank, y='equity',x = \"churn\")"
   ]
  },
  {
   "cell_type": "markdown",
   "metadata": {},
   "source": [
    "Оценка по показтелю equity показала что данный признак имеет большое значение\n",
    "Начиная с 3 продуктов вероятность оттока составляет 23 %"
   ]
  },
  {
   "cell_type": "markdown",
   "metadata": {},
   "source": [
    "<div class=\"alert alert-block alert-danger\">\n",
    "\n",
    "v. 1\n",
    "    \n",
    "Уточни, пожалуйста, какие именно баллы собственности связаны с более высокой вероятностью оттока, чем в целом по банку.\n",
    "\n",
    "</div>"
   ]
  },
  {
   "cell_type": "markdown",
   "metadata": {},
   "source": [
    "<div class=\"alert alert-block alert-success\">\n",
    "\n",
    "v. 3\n",
    "    \n",
    "👍👍👍\n",
    "</div>"
   ]
  },
  {
   "cell_type": "code",
   "execution_count": 58,
   "metadata": {},
   "outputs": [
    {
     "data": {
      "text/html": [
       "<div>\n",
       "<style scoped>\n",
       "    .dataframe tbody tr th:only-of-type {\n",
       "        vertical-align: middle;\n",
       "    }\n",
       "\n",
       "    .dataframe tbody tr th {\n",
       "        vertical-align: top;\n",
       "    }\n",
       "\n",
       "    .dataframe thead th {\n",
       "        text-align: right;\n",
       "    }\n",
       "</style>\n",
       "<table border=\"1\" class=\"dataframe\">\n",
       "  <thead>\n",
       "    <tr style=\"text-align: right;\">\n",
       "      <th></th>\n",
       "      <th>salary</th>\n",
       "      <th>city</th>\n",
       "      <th>in</th>\n",
       "      <th>out</th>\n",
       "      <th>%</th>\n",
       "    </tr>\n",
       "  </thead>\n",
       "  <tbody>\n",
       "    <tr>\n",
       "      <th>0</th>\n",
       "      <td>0.0</td>\n",
       "      <td>Ростов</td>\n",
       "      <td>592</td>\n",
       "      <td>115</td>\n",
       "      <td>16.27</td>\n",
       "    </tr>\n",
       "    <tr>\n",
       "      <th>1</th>\n",
       "      <td>0.0</td>\n",
       "      <td>Рыбинск</td>\n",
       "      <td>958</td>\n",
       "      <td>158</td>\n",
       "      <td>14.16</td>\n",
       "    </tr>\n",
       "    <tr>\n",
       "      <th>2</th>\n",
       "      <td>0.0</td>\n",
       "      <td>Ярославль</td>\n",
       "      <td>1729</td>\n",
       "      <td>353</td>\n",
       "      <td>16.95</td>\n",
       "    </tr>\n",
       "    <tr>\n",
       "      <th>3</th>\n",
       "      <td>1.0</td>\n",
       "      <td>Ростов</td>\n",
       "      <td>465</td>\n",
       "      <td>118</td>\n",
       "      <td>20.24</td>\n",
       "    </tr>\n",
       "    <tr>\n",
       "      <th>4</th>\n",
       "      <td>1.0</td>\n",
       "      <td>Рыбинск</td>\n",
       "      <td>920</td>\n",
       "      <td>222</td>\n",
       "      <td>19.44</td>\n",
       "    </tr>\n",
       "    <tr>\n",
       "      <th>5</th>\n",
       "      <td>1.0</td>\n",
       "      <td>Ярославль</td>\n",
       "      <td>2019</td>\n",
       "      <td>536</td>\n",
       "      <td>20.98</td>\n",
       "    </tr>\n",
       "    <tr>\n",
       "      <th>6</th>\n",
       "      <td>2.0</td>\n",
       "      <td>Ростов</td>\n",
       "      <td>80</td>\n",
       "      <td>25</td>\n",
       "      <td>23.81</td>\n",
       "    </tr>\n",
       "    <tr>\n",
       "      <th>7</th>\n",
       "      <td>2.0</td>\n",
       "      <td>Рыбинск</td>\n",
       "      <td>238</td>\n",
       "      <td>42</td>\n",
       "      <td>15.00</td>\n",
       "    </tr>\n",
       "    <tr>\n",
       "      <th>8</th>\n",
       "      <td>2.0</td>\n",
       "      <td>Ярославль</td>\n",
       "      <td>639</td>\n",
       "      <td>156</td>\n",
       "      <td>19.62</td>\n",
       "    </tr>\n",
       "    <tr>\n",
       "      <th>9</th>\n",
       "      <td>3.0</td>\n",
       "      <td>Ростов</td>\n",
       "      <td>7</td>\n",
       "      <td>3</td>\n",
       "      <td>30.00</td>\n",
       "    </tr>\n",
       "    <tr>\n",
       "      <th>10</th>\n",
       "      <td>3.0</td>\n",
       "      <td>Рыбинск</td>\n",
       "      <td>37</td>\n",
       "      <td>10</td>\n",
       "      <td>21.28</td>\n",
       "    </tr>\n",
       "    <tr>\n",
       "      <th>11</th>\n",
       "      <td>3.0</td>\n",
       "      <td>Ярославль</td>\n",
       "      <td>138</td>\n",
       "      <td>32</td>\n",
       "      <td>18.82</td>\n",
       "    </tr>\n",
       "  </tbody>\n",
       "</table>\n",
       "</div>"
      ],
      "text/plain": [
       "    salary       city    in  out      %\n",
       "0      0.0     Ростов   592  115  16.27\n",
       "1      0.0    Рыбинск   958  158  14.16\n",
       "2      0.0  Ярославль  1729  353  16.95\n",
       "3      1.0     Ростов   465  118  20.24\n",
       "4      1.0    Рыбинск   920  222  19.44\n",
       "5      1.0  Ярославль  2019  536  20.98\n",
       "6      2.0     Ростов    80   25  23.81\n",
       "7      2.0    Рыбинск   238   42  15.00\n",
       "8      2.0  Ярославль   639  156  19.62\n",
       "9      3.0     Ростов     7    3  30.00\n",
       "10     3.0    Рыбинск    37   10  21.28\n",
       "11     3.0  Ярославль   138   32  18.82"
      ]
     },
     "execution_count": 58,
     "metadata": {},
     "output_type": "execute_result"
    }
   ],
   "source": [
    "bank_pivot = df.pivot_table(index = ['salary','city'],\n",
    "                           columns = ['churn'],\n",
    "                           values =['userid'],\n",
    "                           aggfunc=['count'],\n",
    "                           fill_value=0).reset_index()\n",
    "bank_pivot.columns= ['salary','city', 'in', 'out']\n",
    "bank_pivot['%'] = round(bank_pivot['out']/(bank_pivot['in'] + bank_pivot['out']) *100, 2)\n",
    "bank_pivot.head(12)"
   ]
  },
  {
   "cell_type": "code",
   "execution_count": 59,
   "metadata": {},
   "outputs": [
    {
     "data": {
      "text/html": [
       "<div>\n",
       "<style scoped>\n",
       "    .dataframe tbody tr th:only-of-type {\n",
       "        vertical-align: middle;\n",
       "    }\n",
       "\n",
       "    .dataframe tbody tr th {\n",
       "        vertical-align: top;\n",
       "    }\n",
       "\n",
       "    .dataframe thead th {\n",
       "        text-align: right;\n",
       "    }\n",
       "</style>\n",
       "<table border=\"1\" class=\"dataframe\">\n",
       "  <thead>\n",
       "    <tr style=\"text-align: right;\">\n",
       "      <th></th>\n",
       "      <th>gender</th>\n",
       "      <th>age_cat</th>\n",
       "      <th>in</th>\n",
       "      <th>out</th>\n",
       "      <th>tgt</th>\n",
       "    </tr>\n",
       "  </thead>\n",
       "  <tbody>\n",
       "    <tr>\n",
       "      <th>4</th>\n",
       "      <td>Ж</td>\n",
       "      <td>5.0</td>\n",
       "      <td>690</td>\n",
       "      <td>192</td>\n",
       "      <td>21.77</td>\n",
       "    </tr>\n",
       "    <tr>\n",
       "      <th>9</th>\n",
       "      <td>М</td>\n",
       "      <td>2.0</td>\n",
       "      <td>506</td>\n",
       "      <td>191</td>\n",
       "      <td>27.40</td>\n",
       "    </tr>\n",
       "    <tr>\n",
       "      <th>10</th>\n",
       "      <td>М</td>\n",
       "      <td>3.0</td>\n",
       "      <td>1536</td>\n",
       "      <td>461</td>\n",
       "      <td>23.08</td>\n",
       "    </tr>\n",
       "    <tr>\n",
       "      <th>11</th>\n",
       "      <td>М</td>\n",
       "      <td>4.0</td>\n",
       "      <td>1028</td>\n",
       "      <td>232</td>\n",
       "      <td>18.41</td>\n",
       "    </tr>\n",
       "    <tr>\n",
       "      <th>12</th>\n",
       "      <td>М</td>\n",
       "      <td>5.0</td>\n",
       "      <td>475</td>\n",
       "      <td>240</td>\n",
       "      <td>33.57</td>\n",
       "    </tr>\n",
       "    <tr>\n",
       "      <th>13</th>\n",
       "      <td>М</td>\n",
       "      <td>6.0</td>\n",
       "      <td>217</td>\n",
       "      <td>56</td>\n",
       "      <td>20.51</td>\n",
       "    </tr>\n",
       "  </tbody>\n",
       "</table>\n",
       "</div>"
      ],
      "text/plain": [
       "   gender  age_cat    in  out    tgt\n",
       "4       Ж      5.0   690  192  21.77\n",
       "9       М      2.0   506  191  27.40\n",
       "10      М      3.0  1536  461  23.08\n",
       "11      М      4.0  1028  232  18.41\n",
       "12      М      5.0   475  240  33.57\n",
       "13      М      6.0   217   56  20.51"
      ]
     },
     "execution_count": 59,
     "metadata": {},
     "output_type": "execute_result"
    }
   ],
   "source": [
    "bank_pivot = df.pivot_table(index = ['gender','age_cat'],\n",
    "                           columns = ['churn'],\n",
    "                           values =['userid'],\n",
    "                           aggfunc=['count'],\n",
    "                           fill_value=0).reset_index()\n",
    "bank_pivot.columns= ['gender','age_cat', 'in', 'out']\n",
    "bank_pivot['tgt'] = round(bank_pivot['out']/(bank_pivot['in'] + bank_pivot['out']) *100, 2)\n",
    "bank_pivot.query('tgt> 18')"
   ]
  },
  {
   "cell_type": "markdown",
   "metadata": {},
   "source": [
    "<div class=\"alert alert-block alert-danger\">\n",
    "\n",
    "v. 1\n",
    "    \n",
    "Не забывай, пожалуйста, про подведение итогов после каждого раздела проекта.\n",
    "\n",
    "</div>"
   ]
  },
  {
   "cell_type": "markdown",
   "metadata": {},
   "source": [
    "Выводы: отток по всей группе составляет 18%\n",
    "1. Таблицы распределения по отточным и оставшимся клиентам сразу дало возможность обнаружить факторы которые наиболее сильно проявлены в группе:  \n",
    "    1.1. оценка недвижимости на 33% выше у тех кто уходит  \n",
    "    1.2. баланс на 65% выше у тех кто уходит\n",
    "2. Матрица корреляций показала:  \n",
    "    2.1. При проверке по коэфициенту Спирмана было обнаружена:  \n",
    "        2.1.1 положительная корреляция с мужским полом, продуктами, последней активностью, оценкой недвижимости \n",
    "        2.1.2. отрицательная корреляция с женским полом, кредитной картой\n",
    "    2.2 По Пирсону мы можем сделать похожие выводы\n",
    "3. График распределения по балансу показало что отток клиентов выше у клиентов с балансом от 1000000  \n",
    "4. Люди в возрасте от 50 до 65 более склоны к оттоку  \n",
    "5. Люди со скорингом с 830 до 930 более склоны к оттоку  \n",
    "6. Выводы были подтверждены графичски и с использованием табличных методов"
   ]
  },
  {
   "cell_type": "markdown",
   "metadata": {},
   "source": [
    "<div class=\"alert alert-block alert-success\">\n",
    "\n",
    "v. 3\n",
    "    \n",
    "Отлично, основные закономерности в данных описаны и итог анализа подведён 👍👍👍\n",
    "</div>"
   ]
  },
  {
   "cell_type": "markdown",
   "metadata": {},
   "source": [
    "шаг5"
   ]
  },
  {
   "cell_type": "markdown",
   "metadata": {},
   "source": [
    "<div class=\"alert alert-block alert-danger\">\n",
    "\n",
    "v. 1\n",
    "    \n",
    "Важной часть статистических тестов является формулировка нулевой и альтернативной гипотез.\n",
    "Подробнее можно посмотреть: https://law.bsu.by/pub/11/barvenov_4.pdf\n",
    "    \n",
    "Проверь, пожалуйста, с помощью U-критерий Манна — Уитни гипотезу о равенстве средних по доходам в разрезе оттока клиентов.\n",
    "\n",
    "Помимо этого, перед проведением статистического теста нужно проверить можем ли мы применять этот статистический тест. Можем ли мы применять в данном случае T-тест (выполняются ли необходимые требования)?\n",
    "</div>"
   ]
  },
  {
   "cell_type": "markdown",
   "metadata": {},
   "source": [
    "проверка гипотезы:  различия дохода между теми клиентами, которые ушли и теми, которые остались.  \n",
    "проверка гипотезы будет происходить с помощью U-критерий Манна — Уитни  \n",
    "H0 - Средние доходы у отточных и оставшихся равны  \n",
    "H1 - Средние доходы у отточных и оставшихся разнятся"
   ]
  },
  {
   "cell_type": "markdown",
   "metadata": {},
   "source": [
    "<div class=\"alert alert-block alert-success\">\n",
    "\n",
    "v. 2\n",
    "    \n",
    "Отлично, нулевая и альтернативная гипотезы сформулированы верно 👍👍👍\n",
    "</div>"
   ]
  },
  {
   "cell_type": "code",
   "execution_count": 60,
   "metadata": {},
   "outputs": [
    {
     "name": "stdout",
     "output_type": "stream",
     "text": [
      "p-значение:  0.0002611086000127632\n",
      "Отвергаем нулевую гипотезу\n"
     ]
    }
   ],
   "source": [
    "alpha = .05   # критический уровень статистической значимости    \n",
    "results = st.mannwhitneyu(df[df['churn'] == 1]['est_salary'], \n",
    "                             df[df['churn'] == 0]['est_salary'])\n",
    "\n",
    "print('p-значение: ', results.pvalue)    # тест двухсторонний\n",
    "\n",
    "if results.pvalue < alpha:\n",
    "    print(\"Отвергаем нулевую гипотезу\")\n",
    "else:\n",
    "    print(\"Не получилось отвергнуть нулевую гипотезу\")"
   ]
  },
  {
   "cell_type": "markdown",
   "metadata": {},
   "source": []
  },
  {
   "cell_type": "markdown",
   "metadata": {},
   "source": [
    "<div class=\"alert alert-block alert-warning\">\n",
    "\n",
    "v. 3\n",
    "    \n",
    "Да, по полученному значению p-value можем сделать вывод, что у нас есть основания отвергнуть нулевую гипотезу. Только в формулировке гипотез нужно добавить \"Средние доходы ....\", т. к. этот статистический тест на проверку равенства средних показателей между группами.\n",
    "</div>"
   ]
  },
  {
   "cell_type": "markdown",
   "metadata": {},
   "source": [
    "<div class=\"alert alert-block alert-danger\">\n",
    "\n",
    "v. 1\n",
    "    \n",
    "Вывод по итогам проведённого статистического теста сформулирован верно, но не хватает формулировки нулевой и альтернативной гипотез (см. комментарий выше).\n",
    "</div>"
   ]
  },
  {
   "cell_type": "markdown",
   "metadata": {},
   "source": [
    "<div class=\"alert alert-block alert-success\">\n",
    "\n",
    "v. 3\n",
    "    \n",
    "Да, верно, есть статистически значимые различия между группами.\n",
    "    \n",
    "</div>"
   ]
  },
  {
   "cell_type": "markdown",
   "metadata": {},
   "source": [
    "<div class=\"alert alert-block alert-danger\">\n",
    "\n",
    "v. 1\n",
    "    \n",
    "Добавь, пожалуйста, формулировку нулевой и альтернативной гипотез ко всем проведённым в проекте статистическим тестам.\n",
    "</div>"
   ]
  },
  {
   "cell_type": "markdown",
   "metadata": {},
   "source": [
    "проверка гипотезы: различия возраста между теми клиентами, которые ушли и теми, которые остались.\n",
    "\n",
    "проверка гипотезы будет происходить с помощью U-критерий Манна — Уитни  \n",
    "H0 - Статистически значимых различий в среднем возрасте отточных и остаточных нет. \n",
    "H1 -Статистически значимые различия в среднем возрасте отточных и остаточных имеются."
   ]
  },
  {
   "cell_type": "markdown",
   "metadata": {},
   "source": [
    "<div class=\"alert alert-block alert-warning\">\n",
    "\n",
    "v. 3\n",
    "    \n",
    "Гипотезы нужно переформулировать как \"H0: Статистически значимых различий в среднем возрасте отточных и остаточных нет.\" и аналогично с альтернативной гипотезой.\n",
    "    \n",
    "</div>"
   ]
  },
  {
   "cell_type": "code",
   "execution_count": 61,
   "metadata": {},
   "outputs": [
    {
     "name": "stdout",
     "output_type": "stream",
     "text": [
      "p-значение:  nan\n",
      "Не получилось отвергнуть нулевую гипотезу\n"
     ]
    }
   ],
   "source": [
    "alpha = .05   # критический уровень статистической значимости    \n",
    "results = st.mannwhitneyu(df[df['churn'] == 0]['age'], \n",
    "                             df[df['churn'] == 1]['age'])\n",
    "\n",
    "print('p-значение: ', results.pvalue)    # тест двухсторонний\n",
    "\n",
    "if results.pvalue < alpha:\n",
    "    print(\"Отвергаем нулевую гипотезу\")\n",
    "else:\n",
    "    print(\"Не получилось отвергнуть нулевую гипотезу\")"
   ]
  },
  {
   "cell_type": "markdown",
   "metadata": {},
   "source": [
    "так как есть пропуски надо от них избавиться."
   ]
  },
  {
   "cell_type": "code",
   "execution_count": 62,
   "metadata": {},
   "outputs": [],
   "source": [
    "age = df.dropna(subset=['age'])"
   ]
  },
  {
   "cell_type": "code",
   "execution_count": 63,
   "metadata": {},
   "outputs": [
    {
     "name": "stdout",
     "output_type": "stream",
     "text": [
      "p-значение:  4.945323344251814e-06\n",
      "Отвергаем нулевую гипотезу\n"
     ]
    }
   ],
   "source": [
    "alpha = .05   # критический уровень статистической значимости    \n",
    "results = st.mannwhitneyu(age[age['churn'] == 0]['age'], \n",
    "                             age[age['churn'] == 1]['age'])\n",
    "\n",
    "print('p-значение: ', results.pvalue)    # тест двухсторонний\n",
    "\n",
    "if results.pvalue < alpha:\n",
    "    print(\"Отвергаем нулевую гипотезу\")\n",
    "else:\n",
    "    print(\"Не получилось отвергнуть нулевую гипотезу\")"
   ]
  },
  {
   "cell_type": "markdown",
   "metadata": {},
   "source": [
    "<div class=\"alert alert-block alert-danger\">\n",
    "\n",
    "v. 3\n",
    "    \n",
    "Нужно проверить почему получено значение NaN в p-value. Первым шагом предлагаю проверить данные используемые при проведении статистического теста.\n",
    "    \n",
    "</div>"
   ]
  },
  {
   "cell_type": "markdown",
   "metadata": {},
   "source": [
    "<div class=\"alert alert-block alert-success\">\n",
    "\n",
    "v. 4\n",
    "    \n",
    "Да, пропусков в данных используемых в статистическом тесте быть не должно.\n",
    "    \n",
    "</div>"
   ]
  },
  {
   "cell_type": "markdown",
   "metadata": {},
   "source": [
    "проверка гипотезы: различия колличества продуктов между теми клиентами, которые ушли и теми, которые остались.\n",
    "\n",
    "проверка гипотезы будет происходить с помощью U-критерий Манна — Уитни\n",
    "H0 - колличество продуктов у отточных и оставшихся равны\n",
    "H1 - колличество продуктов у отточных и оставшихся разнятся"
   ]
  },
  {
   "cell_type": "code",
   "execution_count": 64,
   "metadata": {},
   "outputs": [
    {
     "name": "stdout",
     "output_type": "stream",
     "text": [
      "p-значение:  2.3697539088374418e-161\n",
      "Отвергаем нулевую гипотезу\n"
     ]
    }
   ],
   "source": [
    "alpha = .05   # критический уровень статистической значимости    \n",
    "results = st.mannwhitneyu(df[df['churn'] == 0]['products'], \n",
    "                             df[df['churn'] == 1]['products'])\n",
    "\n",
    "print('p-значение: ', results.pvalue)    # тест двухсторонний\n",
    "\n",
    "if results.pvalue < alpha:\n",
    "    print(\"Отвергаем нулевую гипотезу\")\n",
    "else:\n",
    "    print(\"Не получилось отвергнуть нулевую гипотезу\")"
   ]
  },
  {
   "cell_type": "markdown",
   "metadata": {},
   "source": [
    "<div class=\"alert alert-block alert-danger\">\n",
    "\n",
    "v. 1\n",
    "    \n",
    "Подведи, пожалуйста, что показал каждый из видов анализа и какое решение мы приняли - зависит от оттока или нет, если зависит - необходимо указать чёткие связанные с оттоком интервалы.\n",
    "</div>"
   ]
  },
  {
   "cell_type": "markdown",
   "metadata": {},
   "source": [
    "<div class=\"alert alert-block alert-success\">\n",
    "\n",
    "v. 3\n",
    "    \n",
    "Да, мы отвергаем нулевую гипотезу.\n",
    "    \n",
    "</div>"
   ]
  },
  {
   "cell_type": "markdown",
   "metadata": {},
   "source": [
    "сегментация"
   ]
  },
  {
   "cell_type": "markdown",
   "metadata": {},
   "source": [
    "на основе полученных данных можно выделить следующие важные критерии:\n",
    "- возраст старже 50 лет\n",
    "- баланс более 750 000\n",
    "- количество продуктов более 2\n",
    "- оцениваемая стомость активов более 3\n",
    "- последняя активность имеется\n",
    "- пол мужской\n",
    "- скоринг\n",
    "\n",
    "Сейчас будем анализировать выборку в разрезе этих показателей.для поиска сегментов"
   ]
  },
  {
   "cell_type": "markdown",
   "metadata": {},
   "source": [
    "<div class=\"alert alert-block alert-warning\">\n",
    "\n",
    "v. 1\n",
    "    \n",
    "Отлично, наиболее значимые показатели выявлены, но этом список можно дополнить:)\n",
    "    \n",
    "Ещё один вариант определения значимости признаков это построение модели случайного леса для предсказания оттока клиентов.\n",
    "    \n",
    "</div>"
   ]
  },
  {
   "cell_type": "markdown",
   "metadata": {},
   "source": [
    "<div class=\"alert alert-block alert-warning\">\n",
    "\n",
    "v. 3\n",
    "    \n",
    "Помимо пола значимым критерием является скор.\n",
    "    \n",
    "</div>"
   ]
  },
  {
   "cell_type": "code",
   "execution_count": 65,
   "metadata": {},
   "outputs": [
    {
     "data": {
      "text/plain": [
       "churn\n",
       "0    696\n",
       "1    587\n",
       "Name: userid, dtype: int64"
      ]
     },
     "execution_count": 65,
     "metadata": {},
     "output_type": "execute_result"
    }
   ],
   "source": [
    "g1 = df.query('gender == \"М\" & balance > 800000')\n",
    "g1.groupby('churn')['userid'].count()"
   ]
  },
  {
   "cell_type": "code",
   "execution_count": 66,
   "metadata": {},
   "outputs": [
    {
     "data": {
      "text/html": [
       "<div>\n",
       "<style scoped>\n",
       "    .dataframe tbody tr th:only-of-type {\n",
       "        vertical-align: middle;\n",
       "    }\n",
       "\n",
       "    .dataframe tbody tr th {\n",
       "        vertical-align: top;\n",
       "    }\n",
       "\n",
       "    .dataframe thead th {\n",
       "        text-align: right;\n",
       "    }\n",
       "</style>\n",
       "<table border=\"1\" class=\"dataframe\">\n",
       "  <thead>\n",
       "    <tr style=\"text-align: right;\">\n",
       "      <th></th>\n",
       "      <th>userid</th>\n",
       "      <th>score</th>\n",
       "      <th>city</th>\n",
       "      <th>gender</th>\n",
       "      <th>age</th>\n",
       "      <th>equity</th>\n",
       "      <th>balance</th>\n",
       "      <th>products</th>\n",
       "      <th>credit_card</th>\n",
       "      <th>last_activity</th>\n",
       "      <th>est_salary</th>\n",
       "      <th>churn</th>\n",
       "      <th>age_cat</th>\n",
       "      <th>score_cat</th>\n",
       "      <th>balance_cat</th>\n",
       "      <th>salary</th>\n",
       "    </tr>\n",
       "  </thead>\n",
       "  <tbody>\n",
       "    <tr>\n",
       "      <th>0</th>\n",
       "      <td>183012</td>\n",
       "      <td>850.0</td>\n",
       "      <td>Рыбинск</td>\n",
       "      <td>Ж</td>\n",
       "      <td>25.0</td>\n",
       "      <td>1</td>\n",
       "      <td>59214.82</td>\n",
       "      <td>2</td>\n",
       "      <td>0</td>\n",
       "      <td>1</td>\n",
       "      <td>75719.14</td>\n",
       "      <td>1</td>\n",
       "      <td>2.0</td>\n",
       "      <td>8.0</td>\n",
       "      <td>0.0</td>\n",
       "      <td>0.0</td>\n",
       "    </tr>\n",
       "  </tbody>\n",
       "</table>\n",
       "</div>"
      ],
      "text/plain": [
       "   userid  score     city gender   age  equity   balance  products  \\\n",
       "0  183012  850.0  Рыбинск      Ж  25.0       1  59214.82         2   \n",
       "\n",
       "   credit_card  last_activity  est_salary  churn  age_cat  score_cat  \\\n",
       "0            0              1    75719.14      1      2.0        8.0   \n",
       "\n",
       "   balance_cat  salary  \n",
       "0          0.0     0.0  "
      ]
     },
     "execution_count": 66,
     "metadata": {},
     "output_type": "execute_result"
    }
   ],
   "source": [
    "df.head(1)"
   ]
  },
  {
   "cell_type": "code",
   "execution_count": 67,
   "metadata": {},
   "outputs": [
    {
     "data": {
      "text/plain": [
       "churn\n",
       "0    2329\n",
       "1    1123\n",
       "Name: userid, dtype: int64"
      ]
     },
     "execution_count": 67,
     "metadata": {},
     "output_type": "execute_result"
    }
   ],
   "source": [
    "g2 = df.query('products >1 & last_activity>0')\n",
    "g2.groupby('churn')['userid'].count()"
   ]
  },
  {
   "cell_type": "code",
   "execution_count": 68,
   "metadata": {},
   "outputs": [
    {
     "data": {
      "text/plain": [
       "churn\n",
       "0    842\n",
       "1    457\n",
       "Name: userid, dtype: int64"
      ]
     },
     "execution_count": 68,
     "metadata": {},
     "output_type": "execute_result"
    }
   ],
   "source": [
    "g3 = df.query('credit_card == 0 & gender == \"М\" ')\n",
    "g3.groupby('churn')['userid'].count()"
   ]
  },
  {
   "cell_type": "code",
   "execution_count": 69,
   "metadata": {},
   "outputs": [
    {
     "data": {
      "text/plain": [
       "churn\n",
       "0    2355\n",
       "1    1038\n",
       "Name: userid, dtype: int64"
      ]
     },
     "execution_count": 69,
     "metadata": {},
     "output_type": "execute_result"
    }
   ],
   "source": [
    "g4 = df.query('products >1 & equity>3')\n",
    "g4.groupby('churn')['userid'].count()"
   ]
  },
  {
   "cell_type": "markdown",
   "metadata": {},
   "source": [
    "Можно выделить следующие сегменты:\n",
    "- мужчины с балансом более 800 000 рублей, \n",
    "- люди у которых есть последняя активнаять и больше одного продукта\n",
    "- мужчины с оценкой недвижимости более 3"
   ]
  },
  {
   "cell_type": "markdown",
   "metadata": {},
   "source": [
    "сегмент 1. мужчины с балансом более 820 000"
   ]
  },
  {
   "cell_type": "code",
   "execution_count": 70,
   "metadata": {},
   "outputs": [
    {
     "data": {
      "text/plain": [
       "1251"
      ]
     },
     "execution_count": 70,
     "metadata": {},
     "output_type": "execute_result"
    }
   ],
   "source": [
    "g_1 = df.query('gender== \"М\" & balance > 820000')\n",
    "len(g_1)"
   ]
  },
  {
   "cell_type": "markdown",
   "metadata": {},
   "source": [
    "всего в группе 1251 человек"
   ]
  },
  {
   "cell_type": "code",
   "execution_count": 71,
   "metadata": {},
   "outputs": [
    {
     "data": {
      "text/plain": [
       "churn\n",
       "0    677\n",
       "1    574\n",
       "Name: userid, dtype: int64"
      ]
     },
     "execution_count": 71,
     "metadata": {},
     "output_type": "execute_result"
    }
   ],
   "source": [
    "g_1.groupby('churn')['userid'].count()\n"
   ]
  },
  {
   "cell_type": "markdown",
   "metadata": {},
   "source": [
    "Из группы в 1251 человек ,ушли 574 человек, осалось 677 человек"
   ]
  },
  {
   "cell_type": "code",
   "execution_count": 72,
   "metadata": {},
   "outputs": [],
   "source": [
    "k = len(g_1.query('churn == 1'))/len(g_1)\n"
   ]
  },
  {
   "cell_type": "code",
   "execution_count": 73,
   "metadata": {},
   "outputs": [
    {
     "name": "stdout",
     "output_type": "stream",
     "text": [
      "Уровень оттока составляет 45.88%\n"
     ]
    }
   ],
   "source": [
    "print(f'Уровень оттока составляет {round(k*100,2)}%')"
   ]
  },
  {
   "cell_type": "code",
   "execution_count": null,
   "metadata": {},
   "outputs": [],
   "source": []
  },
  {
   "cell_type": "code",
   "execution_count": null,
   "metadata": {},
   "outputs": [],
   "source": []
  },
  {
   "cell_type": "markdown",
   "metadata": {},
   "source": [
    "сегмент:  люди у которых есть последняя активнаять и больше одного продукта"
   ]
  },
  {
   "cell_type": "code",
   "execution_count": 74,
   "metadata": {},
   "outputs": [
    {
     "name": "stdout",
     "output_type": "stream",
     "text": [
      "Численность сегмента составляет : 821\n"
     ]
    }
   ],
   "source": [
    "g_2 = df.query('last_activity > 0 and products > 2')\n",
    "print(f'Численность сегмента составляет : {len(g_2)}')"
   ]
  },
  {
   "cell_type": "code",
   "execution_count": 75,
   "metadata": {},
   "outputs": [
    {
     "data": {
      "text/plain": [
       "churn\n",
       "0    430\n",
       "1    391\n",
       "Name: userid, dtype: int64"
      ]
     },
     "execution_count": 75,
     "metadata": {},
     "output_type": "execute_result"
    }
   ],
   "source": [
    "g_2.groupby('churn')['userid'].count()"
   ]
  },
  {
   "cell_type": "markdown",
   "metadata": {},
   "source": [
    "Из 821 человек ушло 391 человек, осталось 430 человек"
   ]
  },
  {
   "cell_type": "code",
   "execution_count": 76,
   "metadata": {},
   "outputs": [],
   "source": [
    "k = len(g_2.query('churn == 1'))/len(g_2)"
   ]
  },
  {
   "cell_type": "code",
   "execution_count": 77,
   "metadata": {},
   "outputs": [
    {
     "name": "stdout",
     "output_type": "stream",
     "text": [
      "Уровень оттока составляет 47.62%\n"
     ]
    }
   ],
   "source": [
    "print(f'Уровень оттока составляет {round(k*100,2)}%')"
   ]
  },
  {
   "cell_type": "markdown",
   "metadata": {},
   "source": [
    "третий сегмент"
   ]
  },
  {
   "cell_type": "code",
   "execution_count": 78,
   "metadata": {},
   "outputs": [
    {
     "name": "stdout",
     "output_type": "stream",
     "text": [
      "Численность сегмента составляет : 2008\n"
     ]
    }
   ],
   "source": [
    "g_3 = df.query('gender == \"М\" and equity>3')\n",
    "print(f'Численность сегмента составляет : {len(g_3)}')"
   ]
  },
  {
   "cell_type": "code",
   "execution_count": 79,
   "metadata": {},
   "outputs": [
    {
     "data": {
      "text/plain": [
       "churn\n",
       "0    1245\n",
       "1     763\n",
       "Name: userid, dtype: int64"
      ]
     },
     "execution_count": 79,
     "metadata": {},
     "output_type": "execute_result"
    }
   ],
   "source": [
    "g_3.groupby('churn')['userid'].count()"
   ]
  },
  {
   "cell_type": "code",
   "execution_count": 80,
   "metadata": {},
   "outputs": [
    {
     "name": "stdout",
     "output_type": "stream",
     "text": [
      "Уровень оттока составляет 38.0%\n"
     ]
    }
   ],
   "source": [
    "k = len(g_3.query('churn == 1'))/len(g_3)\n",
    "print(f'Уровень оттока составляет {round(k*100,2)}%')"
   ]
  },
  {
   "cell_type": "markdown",
   "metadata": {},
   "source": [
    "<div class=\"alert alert-block alert-danger\">\n",
    "\n",
    "v. 1\n",
    "    \n",
    "Проанализируй, пожалуйста, каждый из сегментов клиентов. Для этого нужно сделать срез по сегменту и проанализировать наиболее значимые признаки. Нужно исследовать в первую очередь их размер и уровень оттока.\n",
    "    \n",
    "Для выделения сегментов можно использовать код ниже:\n",
    "    \n",
    "</div>"
   ]
  },
  {
   "cell_type": "markdown",
   "metadata": {},
   "source": [
    "<div class=\"alert alert-block alert-danger\">\n",
    "\n",
    "v. 3\n",
    "    \n",
    "По-прежнему, не нахожу анализа сегментов клиентов по выделенным критериям, а также не проанализирован размер сегментов и уровень оттока клиентов в выделенных сегмента. Добавь это пожалуйста)\n",
    "    \n",
    "</div>"
   ]
  },
  {
   "cell_type": "markdown",
   "metadata": {},
   "source": [
    "<div class=\"alert alert-block alert-warning\">\n",
    "\n",
    "v. 4\n",
    "    \n",
    "Отлично, размер сегментов и уровень оттока определены, но было бы здорово подвести итог - какой сегмент наибольший, а какой наименьший, в каком сегменте наименьший и наибольший уровни оттока и т. д.\n",
    "    \n",
    "</div>"
   ]
  },
  {
   "cell_type": "markdown",
   "metadata": {},
   "source": [
    "<div class=\"alert alert-block alert-success\">\n",
    "\n",
    "v. 1\n",
    "    \n",
    "Дополнительно по сегментации можно посмотреть: https://365datascience.com/tutorials/python-tutorials/build-customer-segmentation-models/\n",
    "    \n",
    "</div>"
   ]
  },
  {
   "cell_type": "code",
   "execution_count": 81,
   "metadata": {},
   "outputs": [
    {
     "data": {
      "text/html": [
       "<style  type=\"text/css\" >\n",
       "</style><table id=\"T_15885_\" ><thead>    <tr>        <th class=\"blank level0\" ></th>        <th class=\"col_heading level0 col0\" >Отток</th>        <th class=\"col_heading level0 col1\" >Размер</th>    </tr></thead><tbody>\n",
       "                <tr>\n",
       "                        <th id=\"T_15885_level0_row0\" class=\"row_heading level0 row0\" >gender == \"М\" and balance > 820000 </th>\n",
       "                        <td id=\"T_15885_row0_col0\" class=\"data row0 col0\" >45.9%</td>\n",
       "                        <td id=\"T_15885_row0_col1\" class=\"data row0 col1\" >1_251</td>\n",
       "            </tr>\n",
       "            <tr>\n",
       "                        <th id=\"T_15885_level0_row1\" class=\"row_heading level0 row1\" >last_activity > 0 and products > 2</th>\n",
       "                        <td id=\"T_15885_row1_col0\" class=\"data row1 col0\" >47.6%</td>\n",
       "                        <td id=\"T_15885_row1_col1\" class=\"data row1 col1\" >821</td>\n",
       "            </tr>\n",
       "            <tr>\n",
       "                        <th id=\"T_15885_level0_row2\" class=\"row_heading level0 row2\" >gender == \"М\" and equity>3</th>\n",
       "                        <td id=\"T_15885_row2_col0\" class=\"data row2 col0\" >38.0%</td>\n",
       "                        <td id=\"T_15885_row2_col1\" class=\"data row2 col1\" >2_008</td>\n",
       "            </tr>\n",
       "    </tbody></table>"
      ],
      "text/plain": [
       "<pandas.io.formats.style.Styler at 0x7f29308165b0>"
      ]
     },
     "metadata": {},
     "output_type": "display_data"
    },
    {
     "name": "stdout",
     "output_type": "stream",
     "text": [
      "Отделу маркетинга будет сложно обработать такое количество клиентов, его эффективность снизится\n",
      "Хороший результат, в сегменты попало: 1081/1820 = 59.4%\n"
     ]
    }
   ],
   "source": [
    "### КОД РЕВЬЮЕРА\n",
    "qrys = (\n",
    "    'gender == \"М\" and balance > 820000 ',\n",
    "    'last_activity > 0 and products > 2',\n",
    "    'gender == \"М\" and equity>3')\n",
    "\n",
    "\n",
    "df_results = pd.concat([\n",
    "    pd.DataFrame(df.query(q).agg({\"churn\":['mean','count']}).values,\n",
    "                 columns=[q],\n",
    "                 index=['Отток','Размер']).T \n",
    "    for q in qrys])\n",
    "\n",
    "\n",
    "display(df_results.style.format(\"{:.1%}\",subset=[\"Отток\"])\\\n",
    "                   .format(\"{:_.0f}\",subset=[\"Размер\"]))\n",
    "    \n",
    "\n",
    "all_catched = pd.concat([df.query(q) for q in qrys])\n",
    "all_churn = df.churn.sum()\n",
    "catched = all_catched.drop_duplicates().churn.sum()\n",
    "share_catched = catched / all_churn\n",
    "\n",
    "\n",
    "if len(qrys) != 3:\n",
    "    print('Результаты некорректны, нужно 3 лучших сегмента')\n",
    "    \n",
    "\n",
    "if df_results['Отток'].min() < df.churn.mean() * 1.5:\n",
    "    print('Нужно изменить сегменты: присутствуют недостаточно отточные')\n",
    "elif df_results['Отток'].min() < df.churn.mean() * 2:\n",
    "    print('Часть сегментов не высокоотточна')\n",
    "elif df_results['Отток'].max() > df.churn.mean() * 3:\n",
    "    print('Нашли очень отточный сегмент')\n",
    "\n",
    "\n",
    "if df_results['Размер'].min() < 300:\n",
    "    print('Нужно изменить сегменты: присутствуют слишком мелкие сегменты')\n",
    "    \n",
    "\n",
    "if all_catched.shape[0] > 5000:\n",
    "    print(\"Отдел маркетинга не сможет обработать такое количество клиентов\")\n",
    "elif all_catched.shape[0] > 3000:\n",
    "    print(\"Отделу маркетинга будет сложно обработать такое количество клиентов, его эффективность снизится\")\n",
    "elif all_catched.shape[0] < 1000:\n",
    "    print(\"Сегменты можно увеличить\")\n",
    "\n",
    "\n",
    "text_churn = f\"{catched}/{all_churn} = {share_catched:.1%}\"\n",
    "if share_catched < 1/3:\n",
    "    print(f\"В сегменты попало недостаточное число отточных: {text_churn}\")\n",
    "elif share_catched < 1/2:\n",
    "    print(f\"В сегменты попало: {text_churn}\")\n",
    "elif share_catched < 2/3:\n",
    "    print(f\"Хороший результат, в сегменты попало: {text_churn}\")\n",
    "else:\n",
    "    print(f\"Прекрасный результат, в сегменты попало: {text_churn}\")"
   ]
  },
  {
   "cell_type": "markdown",
   "metadata": {},
   "source": [
    "<div class=\"alert alert-block alert-success\">\n",
    "\n",
    "v. 1\n",
    "    \n",
    "Дополнительно по сегментации можно посмотреть: https://365datascience.com/tutorials/python-tutorials/build-customer-segmentation-models/\n",
    "    \n",
    "</div>"
   ]
  },
  {
   "cell_type": "markdown",
   "metadata": {},
   "source": [
    "Выводы и рекомендации\n",
    "\n",
    "Был проанализирован датасет \"Метанпронбанка\". \n",
    "\n",
    "Датасет имеет колнки возраста, пола, скоринга, оценки недвижимости, количества продуктов, оцениваемая зарплата, последняя активная, кредитная карта, город, баланс\n",
    "\n",
    "Деятельность банка происходит в 3 городах, возраст с 18 до 83 лет\n",
    "\n",
    "В ходе исследования было изучено влияние каждого фактора на отточность. И было обнаружено что:\n",
    "возраст старже 50 лет  \n",
    "баланс более 750 000  \n",
    "количество продуктов более 2  \n",
    "оцениваемая стомость активов более 3  \n",
    "последняя активность имеется  \n",
    "пол мужской  \n",
    "наиболее сильно влияют на отток\n",
    "\n",
    "На основе этих факторов были построены 3 сегмента:  \n",
    "мужчины с балансом более 820000 рублей\n",
    "пользователи с последней активностью и продуктами более 2\n",
    "мужчины с оценкой недвижимости более 3\n",
    "\n",
    "Рекомендации:\n",
    "для мужчин с балансом более 820000\n",
    "Таким клиентам можно предложить новые депозитные продукты. \n",
    "\n",
    "\n",
    "для пользоватлей с последней активностью и продуктами более 2\n",
    "Таким клиентам можно предложить обьединить их кредиты в один. Так как они уходят в другие банки,которые рефинансируют их кредиты с целью обьединения задолжности и снижения ежемесяцного платежа\n",
    "\n",
    "для мужчины с оценкой недвижимости более 3\n",
    "Предложить новый кредит. Скорее всего оценка недвижимости говорит о том, что кредитный лемит не исчерпан для кредита под залог недвижости и такие клиенты ищут новый кредит и рефинансируют старый. Таким клиентам можно предложить новый кредит.\n",
    "\n",
    "\n"
   ]
  },
  {
   "cell_type": "markdown",
   "metadata": {},
   "source": [
    "<div class=\"alert alert-block alert-danger\">\n",
    "\n",
    "v. 1\n",
    "    \n",
    "Рекомендую детальнее описать рекомендации. Для этого нужно построить портрет типичного клиента для каждого из сегментов.\n",
    "</div>"
   ]
  },
  {
   "cell_type": "markdown",
   "metadata": {},
   "source": [
    "<div class=\"alert alert-block alert-success\">\n",
    "\n",
    "v. 3\n",
    "    \n",
    "Молодец, что детализировали рекомендации по сегментам клиентов.\n",
    "    \n",
    "</div>"
   ]
  },
  {
   "cell_type": "markdown",
   "metadata": {},
   "source": [
    "<div class=\"alert alert-block alert-danger\">\n",
    "\n",
    "v. 1\n",
    "    \n",
    "Добавь, пожалуйста, презентацию по проекту.\n",
    "</div>"
   ]
  },
  {
   "cell_type": "markdown",
   "metadata": {},
   "source": [
    "<div class=\"alert alert-block alert-success\">\n",
    "\n",
    "v. 3\n",
    "    \n",
    "Отлично, ссылка на презентацию добавлена в начале проекта.\n",
    "    \n",
    "</div>"
   ]
  },
  {
   "cell_type": "code",
   "execution_count": null,
   "metadata": {},
   "outputs": [],
   "source": [
    "\n"
   ]
  }
 ],
 "metadata": {
  "ExecuteTimeLog": [
   {
    "duration": 46,
    "start_time": "2023-07-13T17:35:36.151Z"
   },
   {
    "duration": 77,
    "start_time": "2023-07-13T17:36:01.247Z"
   },
   {
    "duration": 1320,
    "start_time": "2023-07-13T17:36:11.622Z"
   },
   {
    "duration": 82,
    "start_time": "2023-07-13T17:36:14.839Z"
   },
   {
    "duration": 24,
    "start_time": "2023-07-13T17:36:32.056Z"
   },
   {
    "duration": 13,
    "start_time": "2023-07-13T17:36:52.833Z"
   },
   {
    "duration": 39,
    "start_time": "2023-07-13T17:39:46.691Z"
   },
   {
    "duration": 42,
    "start_time": "2023-07-13T17:45:00.986Z"
   },
   {
    "duration": 44,
    "start_time": "2023-07-13T17:45:15.538Z"
   },
   {
    "duration": 45,
    "start_time": "2023-07-13T17:45:31.524Z"
   },
   {
    "duration": 10,
    "start_time": "2023-07-13T17:48:42.340Z"
   },
   {
    "duration": 3,
    "start_time": "2023-07-13T17:50:26.041Z"
   },
   {
    "duration": 16,
    "start_time": "2023-07-13T17:50:27.983Z"
   },
   {
    "duration": 63,
    "start_time": "2023-07-13T17:50:33.601Z"
   },
   {
    "duration": 9,
    "start_time": "2023-07-13T17:50:38.312Z"
   },
   {
    "duration": 4,
    "start_time": "2023-07-13T17:51:04.742Z"
   },
   {
    "duration": 8,
    "start_time": "2023-07-13T17:53:38.344Z"
   },
   {
    "duration": 8,
    "start_time": "2023-07-13T17:53:50.408Z"
   },
   {
    "duration": 5,
    "start_time": "2023-07-13T17:53:52.894Z"
   },
   {
    "duration": 64,
    "start_time": "2023-07-13T17:55:35.748Z"
   },
   {
    "duration": 7,
    "start_time": "2023-07-13T17:56:25.792Z"
   },
   {
    "duration": 7,
    "start_time": "2023-07-13T17:56:56.816Z"
   },
   {
    "duration": 8,
    "start_time": "2023-07-13T17:57:29.593Z"
   },
   {
    "duration": 7,
    "start_time": "2023-07-13T17:58:00.536Z"
   },
   {
    "duration": 147,
    "start_time": "2023-07-13T18:00:09.359Z"
   },
   {
    "duration": 8,
    "start_time": "2023-07-13T18:05:15.942Z"
   },
   {
    "duration": 21,
    "start_time": "2023-07-13T18:05:20.369Z"
   },
   {
    "duration": 127,
    "start_time": "2023-07-13T18:05:44.517Z"
   },
   {
    "duration": 8,
    "start_time": "2023-07-13T18:06:34.000Z"
   },
   {
    "duration": 115,
    "start_time": "2023-07-13T18:06:46.959Z"
   },
   {
    "duration": 8,
    "start_time": "2023-07-13T18:07:16.404Z"
   },
   {
    "duration": 110,
    "start_time": "2023-07-13T18:07:18.623Z"
   },
   {
    "duration": 7,
    "start_time": "2023-07-13T18:07:33.390Z"
   },
   {
    "duration": 7,
    "start_time": "2023-07-13T18:07:53.602Z"
   },
   {
    "duration": 127,
    "start_time": "2023-07-13T18:07:55.970Z"
   },
   {
    "duration": 7,
    "start_time": "2023-07-13T18:08:26.146Z"
   },
   {
    "duration": 126,
    "start_time": "2023-07-13T18:08:28.419Z"
   },
   {
    "duration": 8,
    "start_time": "2023-07-13T18:08:59.884Z"
   },
   {
    "duration": 143,
    "start_time": "2023-07-13T18:09:03.182Z"
   },
   {
    "duration": 39,
    "start_time": "2023-07-13T18:09:20.356Z"
   },
   {
    "duration": 43,
    "start_time": "2023-07-13T18:09:31.480Z"
   },
   {
    "duration": 8,
    "start_time": "2023-07-13T18:09:48.941Z"
   },
   {
    "duration": 13,
    "start_time": "2023-07-13T18:10:25.410Z"
   },
   {
    "duration": 13,
    "start_time": "2023-07-13T18:13:18.056Z"
   },
   {
    "duration": 11,
    "start_time": "2023-07-13T18:13:49.162Z"
   },
   {
    "duration": 36,
    "start_time": "2023-07-13T18:13:54.287Z"
   },
   {
    "duration": 4,
    "start_time": "2023-07-13T18:20:43.462Z"
   },
   {
    "duration": 4,
    "start_time": "2023-07-13T18:21:46.267Z"
   },
   {
    "duration": 85,
    "start_time": "2023-07-13T18:22:08.585Z"
   },
   {
    "duration": 11,
    "start_time": "2023-07-13T18:22:23.115Z"
   },
   {
    "duration": 3,
    "start_time": "2023-07-13T18:23:32.268Z"
   },
   {
    "duration": 12,
    "start_time": "2023-07-13T18:24:58.286Z"
   },
   {
    "duration": 4,
    "start_time": "2023-07-13T18:25:12.922Z"
   },
   {
    "duration": 5,
    "start_time": "2023-07-13T18:25:19.305Z"
   },
   {
    "duration": 7,
    "start_time": "2023-07-13T18:25:49.487Z"
   },
   {
    "duration": 5,
    "start_time": "2023-07-13T18:26:14.290Z"
   },
   {
    "duration": 8,
    "start_time": "2023-07-13T18:26:21.823Z"
   },
   {
    "duration": 7,
    "start_time": "2023-07-13T18:26:43.278Z"
   },
   {
    "duration": 6,
    "start_time": "2023-07-13T18:26:50.758Z"
   },
   {
    "duration": 7,
    "start_time": "2023-07-13T18:28:23.498Z"
   },
   {
    "duration": 5,
    "start_time": "2023-07-13T18:28:48.329Z"
   },
   {
    "duration": 6,
    "start_time": "2023-07-13T18:28:59.373Z"
   },
   {
    "duration": 3,
    "start_time": "2023-07-13T18:30:29.218Z"
   },
   {
    "duration": 6,
    "start_time": "2023-07-13T18:30:36.585Z"
   },
   {
    "duration": 6,
    "start_time": "2023-07-13T18:30:46.052Z"
   },
   {
    "duration": 7,
    "start_time": "2023-07-13T18:31:10.066Z"
   },
   {
    "duration": 7,
    "start_time": "2023-07-13T18:31:18.181Z"
   },
   {
    "duration": 7,
    "start_time": "2023-07-13T18:31:23.070Z"
   },
   {
    "duration": 6,
    "start_time": "2023-07-13T18:31:30.067Z"
   },
   {
    "duration": 5,
    "start_time": "2023-07-13T18:31:46.496Z"
   },
   {
    "duration": 6,
    "start_time": "2023-07-13T18:32:05.254Z"
   },
   {
    "duration": 6,
    "start_time": "2023-07-13T18:32:55.543Z"
   },
   {
    "duration": 5,
    "start_time": "2023-07-13T18:32:57.874Z"
   },
   {
    "duration": 6,
    "start_time": "2023-07-13T18:33:13.870Z"
   },
   {
    "duration": 7,
    "start_time": "2023-07-13T18:33:21.451Z"
   },
   {
    "duration": 9,
    "start_time": "2023-07-13T18:34:12.887Z"
   },
   {
    "duration": 5,
    "start_time": "2023-07-13T18:34:25.149Z"
   },
   {
    "duration": 7,
    "start_time": "2023-07-13T18:35:38.013Z"
   },
   {
    "duration": 6,
    "start_time": "2023-07-13T18:35:59.833Z"
   },
   {
    "duration": 6,
    "start_time": "2023-07-13T18:36:08.683Z"
   },
   {
    "duration": 9,
    "start_time": "2023-07-13T18:36:16.394Z"
   },
   {
    "duration": 20,
    "start_time": "2023-07-13T18:36:30.347Z"
   },
   {
    "duration": 6,
    "start_time": "2023-07-13T18:36:39.257Z"
   },
   {
    "duration": 29,
    "start_time": "2023-07-13T18:37:01.949Z"
   },
   {
    "duration": 8,
    "start_time": "2023-07-13T18:37:53.227Z"
   },
   {
    "duration": 118,
    "start_time": "2023-07-13T18:37:56.786Z"
   },
   {
    "duration": 6,
    "start_time": "2023-07-13T18:40:00.689Z"
   },
   {
    "duration": 6,
    "start_time": "2023-07-13T18:40:25.350Z"
   },
   {
    "duration": 56,
    "start_time": "2023-07-13T18:41:56.264Z"
   },
   {
    "duration": 107,
    "start_time": "2023-07-13T18:42:11.281Z"
   },
   {
    "duration": 207,
    "start_time": "2023-07-13T18:55:36.655Z"
   },
   {
    "duration": 139,
    "start_time": "2023-07-13T18:55:45.763Z"
   },
   {
    "duration": 9,
    "start_time": "2023-07-13T18:58:51.657Z"
   },
   {
    "duration": 10,
    "start_time": "2023-07-13T18:59:04.521Z"
   },
   {
    "duration": 6,
    "start_time": "2023-07-13T18:59:21.034Z"
   },
   {
    "duration": 7,
    "start_time": "2023-07-13T18:59:37.601Z"
   },
   {
    "duration": 7,
    "start_time": "2023-07-13T19:00:38.548Z"
   },
   {
    "duration": 9,
    "start_time": "2023-07-13T19:01:24.437Z"
   },
   {
    "duration": 8,
    "start_time": "2023-07-13T19:06:49.113Z"
   },
   {
    "duration": 271,
    "start_time": "2023-07-13T19:07:45.934Z"
   },
   {
    "duration": 10,
    "start_time": "2023-07-13T19:08:16.948Z"
   },
   {
    "duration": 19090,
    "start_time": "2023-07-13T19:09:12.093Z"
   },
   {
    "duration": 220,
    "start_time": "2023-07-13T20:01:25.618Z"
   },
   {
    "duration": 297,
    "start_time": "2023-07-13T20:03:46.053Z"
   },
   {
    "duration": 11,
    "start_time": "2023-07-13T20:05:36.398Z"
   },
   {
    "duration": 14,
    "start_time": "2023-07-13T20:09:45.590Z"
   },
   {
    "duration": 289,
    "start_time": "2023-07-13T20:10:03.490Z"
   },
   {
    "duration": 11,
    "start_time": "2023-07-13T20:10:15.409Z"
   },
   {
    "duration": 294,
    "start_time": "2023-07-13T20:10:49.023Z"
   },
   {
    "duration": 299,
    "start_time": "2023-07-13T20:11:02.332Z"
   },
   {
    "duration": 987,
    "start_time": "2023-07-13T20:11:22.178Z"
   },
   {
    "duration": 1243,
    "start_time": "2023-07-13T20:12:32.315Z"
   },
   {
    "duration": 74,
    "start_time": "2023-07-13T20:15:46.945Z"
   },
   {
    "duration": 65,
    "start_time": "2023-07-13T20:15:59.114Z"
   },
   {
    "duration": 116,
    "start_time": "2023-07-13T20:16:05.461Z"
   },
   {
    "duration": 11,
    "start_time": "2023-07-13T20:16:27.707Z"
   },
   {
    "duration": 3,
    "start_time": "2023-07-13T20:17:04.971Z"
   },
   {
    "duration": 248,
    "start_time": "2023-07-13T20:17:09.590Z"
   },
   {
    "duration": 14,
    "start_time": "2023-07-13T20:21:57.579Z"
   },
   {
    "duration": 997,
    "start_time": "2023-07-13T20:22:19.559Z"
   },
   {
    "duration": 9,
    "start_time": "2023-07-13T20:22:48.675Z"
   },
   {
    "duration": 946,
    "start_time": "2023-07-13T20:22:54.093Z"
   },
   {
    "duration": 59,
    "start_time": "2023-07-13T20:23:59.860Z"
   },
   {
    "duration": 289,
    "start_time": "2023-07-13T20:24:20.138Z"
   },
   {
    "duration": 933,
    "start_time": "2023-07-13T20:24:30.341Z"
   },
   {
    "duration": 63,
    "start_time": "2023-07-13T20:30:38.162Z"
   },
   {
    "duration": 975,
    "start_time": "2023-07-13T20:30:48.262Z"
   },
   {
    "duration": 964,
    "start_time": "2023-07-13T20:37:30.094Z"
   },
   {
    "duration": 1285,
    "start_time": "2023-07-13T20:39:16.528Z"
   },
   {
    "duration": 900,
    "start_time": "2023-07-13T20:40:09.851Z"
   },
   {
    "duration": 1377,
    "start_time": "2023-07-15T11:43:08.839Z"
   },
   {
    "duration": 147,
    "start_time": "2023-07-15T11:43:10.219Z"
   },
   {
    "duration": 17,
    "start_time": "2023-07-15T11:43:10.367Z"
   },
   {
    "duration": 10,
    "start_time": "2023-07-15T11:43:10.386Z"
   },
   {
    "duration": 33,
    "start_time": "2023-07-15T11:43:10.398Z"
   },
   {
    "duration": 55,
    "start_time": "2023-07-15T11:43:10.432Z"
   },
   {
    "duration": 9,
    "start_time": "2023-07-15T11:43:10.489Z"
   },
   {
    "duration": 56,
    "start_time": "2023-07-15T11:43:10.500Z"
   },
   {
    "duration": 18,
    "start_time": "2023-07-15T11:43:10.558Z"
   },
   {
    "duration": 33,
    "start_time": "2023-07-15T11:43:10.578Z"
   },
   {
    "duration": 32,
    "start_time": "2023-07-15T11:43:10.613Z"
   },
   {
    "duration": 23,
    "start_time": "2023-07-15T11:43:10.646Z"
   },
   {
    "duration": 18,
    "start_time": "2023-07-15T11:43:10.670Z"
   },
   {
    "duration": 170,
    "start_time": "2023-07-15T11:43:10.690Z"
   },
   {
    "duration": 5,
    "start_time": "2023-07-15T11:43:10.862Z"
   },
   {
    "duration": 29,
    "start_time": "2023-07-15T11:43:10.869Z"
   },
   {
    "duration": 111,
    "start_time": "2023-07-15T11:43:10.899Z"
   },
   {
    "duration": 140,
    "start_time": "2023-07-15T11:43:11.012Z"
   },
   {
    "duration": 10,
    "start_time": "2023-07-15T11:43:11.153Z"
   },
   {
    "duration": 10,
    "start_time": "2023-07-15T11:43:11.165Z"
   },
   {
    "duration": 841,
    "start_time": "2023-07-15T11:43:11.177Z"
   },
   {
    "duration": 792,
    "start_time": "2023-07-15T11:43:12.020Z"
   },
   {
    "duration": 885,
    "start_time": "2023-07-15T11:43:12.813Z"
   },
   {
    "duration": 791,
    "start_time": "2023-07-15T11:43:13.699Z"
   },
   {
    "duration": 23,
    "start_time": "2023-07-15T11:52:14.311Z"
   },
   {
    "duration": 24,
    "start_time": "2023-07-15T11:53:04.995Z"
   },
   {
    "duration": 9,
    "start_time": "2023-07-15T11:53:32.897Z"
   },
   {
    "duration": 17,
    "start_time": "2023-07-15T11:53:42.357Z"
   },
   {
    "duration": 119,
    "start_time": "2023-07-15T12:01:37.674Z"
   },
   {
    "duration": 13,
    "start_time": "2023-07-15T12:01:53.195Z"
   },
   {
    "duration": 17,
    "start_time": "2023-07-15T12:02:21.040Z"
   },
   {
    "duration": 9,
    "start_time": "2023-07-15T12:02:31.493Z"
   },
   {
    "duration": 21,
    "start_time": "2023-07-15T12:02:37.814Z"
   },
   {
    "duration": 496,
    "start_time": "2023-07-15T12:03:44.505Z"
   },
   {
    "duration": 12,
    "start_time": "2023-07-15T12:03:57.803Z"
   },
   {
    "duration": 15,
    "start_time": "2023-07-15T12:04:07.687Z"
   },
   {
    "duration": 17,
    "start_time": "2023-07-15T12:05:21.423Z"
   },
   {
    "duration": 348,
    "start_time": "2023-07-15T12:05:49.289Z"
   },
   {
    "duration": 18,
    "start_time": "2023-07-15T12:06:03.191Z"
   },
   {
    "duration": 13,
    "start_time": "2023-07-15T12:07:19.670Z"
   },
   {
    "duration": 19,
    "start_time": "2023-07-15T12:07:26.895Z"
   },
   {
    "duration": 18,
    "start_time": "2023-07-15T12:07:55.151Z"
   },
   {
    "duration": 43,
    "start_time": "2023-07-15T12:12:19.750Z"
   },
   {
    "duration": 78,
    "start_time": "2023-07-15T12:12:26.298Z"
   },
   {
    "duration": 28,
    "start_time": "2023-07-15T12:16:56.405Z"
   },
   {
    "duration": 20,
    "start_time": "2023-07-15T12:17:21.681Z"
   },
   {
    "duration": 13,
    "start_time": "2023-07-15T12:29:08.080Z"
   },
   {
    "duration": 10,
    "start_time": "2023-07-15T12:37:58.067Z"
   },
   {
    "duration": 10,
    "start_time": "2023-07-15T12:38:46.439Z"
   },
   {
    "duration": 15,
    "start_time": "2023-07-15T12:39:07.164Z"
   },
   {
    "duration": 3,
    "start_time": "2023-07-15T12:43:30.064Z"
   },
   {
    "duration": 25,
    "start_time": "2023-07-15T12:44:19.110Z"
   },
   {
    "duration": 17,
    "start_time": "2023-07-15T12:45:49.117Z"
   },
   {
    "duration": 11,
    "start_time": "2023-07-15T12:45:53.932Z"
   },
   {
    "duration": 15,
    "start_time": "2023-07-15T12:46:50.692Z"
   },
   {
    "duration": 4,
    "start_time": "2023-07-15T12:57:58.789Z"
   },
   {
    "duration": 18,
    "start_time": "2023-07-15T12:58:01.346Z"
   },
   {
    "duration": 10,
    "start_time": "2023-07-15T12:58:21.481Z"
   },
   {
    "duration": 4,
    "start_time": "2023-07-15T12:58:28.926Z"
   },
   {
    "duration": 16,
    "start_time": "2023-07-15T12:59:13.882Z"
   },
   {
    "duration": 23,
    "start_time": "2023-07-15T12:59:42.814Z"
   },
   {
    "duration": 22,
    "start_time": "2023-07-15T12:59:51.436Z"
   },
   {
    "duration": 25,
    "start_time": "2023-07-15T13:00:43.510Z"
   },
   {
    "duration": 359,
    "start_time": "2023-07-15T13:01:27.396Z"
   },
   {
    "duration": 16,
    "start_time": "2023-07-15T13:01:40.983Z"
   },
   {
    "duration": 23,
    "start_time": "2023-07-15T13:01:48.705Z"
   },
   {
    "duration": 24,
    "start_time": "2023-07-15T13:02:05.511Z"
   },
   {
    "duration": 15,
    "start_time": "2023-07-15T13:02:10.949Z"
   },
   {
    "duration": 21,
    "start_time": "2023-07-15T13:02:16.411Z"
   },
   {
    "duration": 24,
    "start_time": "2023-07-15T13:02:48.185Z"
   },
   {
    "duration": 4,
    "start_time": "2023-07-15T13:13:50.337Z"
   },
   {
    "duration": 18,
    "start_time": "2023-07-15T13:15:45.707Z"
   },
   {
    "duration": 10,
    "start_time": "2023-07-15T13:16:04.400Z"
   },
   {
    "duration": 10,
    "start_time": "2023-07-15T13:17:32.337Z"
   },
   {
    "duration": 13,
    "start_time": "2023-07-15T13:18:23.126Z"
   },
   {
    "duration": 16,
    "start_time": "2023-07-15T13:18:44.233Z"
   },
   {
    "duration": 12,
    "start_time": "2023-07-15T13:19:30.506Z"
   },
   {
    "duration": 22,
    "start_time": "2023-07-15T13:20:19.149Z"
   },
   {
    "duration": 17,
    "start_time": "2023-07-15T13:20:28.188Z"
   },
   {
    "duration": 14,
    "start_time": "2023-07-15T13:20:48.369Z"
   },
   {
    "duration": 5,
    "start_time": "2023-07-15T13:21:33.776Z"
   },
   {
    "duration": 17,
    "start_time": "2023-07-15T13:21:55.867Z"
   },
   {
    "duration": 88,
    "start_time": "2023-07-15T13:30:46.326Z"
   },
   {
    "duration": 42,
    "start_time": "2023-07-15T13:31:07.492Z"
   },
   {
    "duration": 3,
    "start_time": "2023-07-15T13:43:20.404Z"
   },
   {
    "duration": 22,
    "start_time": "2023-07-15T13:44:21.358Z"
   },
   {
    "duration": 26,
    "start_time": "2023-07-15T13:45:27.904Z"
   },
   {
    "duration": 23,
    "start_time": "2023-07-15T13:46:16.873Z"
   },
   {
    "duration": 25,
    "start_time": "2023-07-15T13:46:30.113Z"
   },
   {
    "duration": 958,
    "start_time": "2023-07-15T13:48:22.174Z"
   },
   {
    "duration": 25,
    "start_time": "2023-07-15T13:48:30.475Z"
   },
   {
    "duration": 8,
    "start_time": "2023-07-15T13:52:20.540Z"
   },
   {
    "duration": 4,
    "start_time": "2023-07-15T13:52:28.110Z"
   },
   {
    "duration": 22,
    "start_time": "2023-07-15T13:52:49.227Z"
   },
   {
    "duration": 19,
    "start_time": "2023-07-15T13:53:47.916Z"
   },
   {
    "duration": 26,
    "start_time": "2023-07-15T13:53:55.919Z"
   },
   {
    "duration": 23,
    "start_time": "2023-07-15T13:54:02.342Z"
   },
   {
    "duration": 20,
    "start_time": "2023-07-15T14:03:57.446Z"
   },
   {
    "duration": 5,
    "start_time": "2023-07-15T14:06:38.795Z"
   },
   {
    "duration": 28,
    "start_time": "2023-07-15T14:06:52.807Z"
   },
   {
    "duration": 27,
    "start_time": "2023-07-15T14:07:28.107Z"
   },
   {
    "duration": 23,
    "start_time": "2023-07-15T14:07:42.181Z"
   },
   {
    "duration": 25,
    "start_time": "2023-07-15T14:07:57.579Z"
   },
   {
    "duration": 29,
    "start_time": "2023-07-15T14:08:21.818Z"
   },
   {
    "duration": 21,
    "start_time": "2023-07-15T14:08:28.507Z"
   },
   {
    "duration": 33,
    "start_time": "2023-07-15T14:09:55.020Z"
   },
   {
    "duration": 20,
    "start_time": "2023-07-15T14:10:18.286Z"
   },
   {
    "duration": 8,
    "start_time": "2023-07-15T14:25:56.882Z"
   },
   {
    "duration": 8,
    "start_time": "2023-07-15T14:26:41.494Z"
   },
   {
    "duration": 337,
    "start_time": "2023-07-15T14:28:02.376Z"
   },
   {
    "duration": 16,
    "start_time": "2023-07-15T14:28:26.815Z"
   },
   {
    "duration": 289,
    "start_time": "2023-07-15T14:28:44.256Z"
   },
   {
    "duration": 290,
    "start_time": "2023-07-15T14:29:02.532Z"
   },
   {
    "duration": 427,
    "start_time": "2023-07-15T14:29:46.006Z"
   },
   {
    "duration": 349,
    "start_time": "2023-07-15T14:31:05.154Z"
   },
   {
    "duration": 18,
    "start_time": "2023-07-15T14:41:40.260Z"
   },
   {
    "duration": 29,
    "start_time": "2023-07-15T14:46:20.503Z"
   },
   {
    "duration": 8,
    "start_time": "2023-07-15T14:46:37.171Z"
   },
   {
    "duration": 20,
    "start_time": "2023-07-15T14:47:01.741Z"
   },
   {
    "duration": 30,
    "start_time": "2023-07-15T14:47:18.515Z"
   },
   {
    "duration": 8,
    "start_time": "2023-07-15T14:48:24.846Z"
   },
   {
    "duration": 20,
    "start_time": "2023-07-15T14:48:37.783Z"
   },
   {
    "duration": 23,
    "start_time": "2023-07-15T14:48:56.584Z"
   },
   {
    "duration": 19,
    "start_time": "2023-07-15T14:49:24.735Z"
   },
   {
    "duration": 17,
    "start_time": "2023-07-15T14:49:36.816Z"
   },
   {
    "duration": 23,
    "start_time": "2023-07-15T14:49:46.531Z"
   },
   {
    "duration": 19,
    "start_time": "2023-07-15T14:50:03.661Z"
   },
   {
    "duration": 18,
    "start_time": "2023-07-15T14:50:14.886Z"
   },
   {
    "duration": 21,
    "start_time": "2023-07-15T14:50:56.551Z"
   },
   {
    "duration": 20,
    "start_time": "2023-07-15T14:51:12.840Z"
   },
   {
    "duration": 29,
    "start_time": "2023-07-15T14:51:24.465Z"
   },
   {
    "duration": 21,
    "start_time": "2023-07-15T14:51:30.961Z"
   },
   {
    "duration": 23,
    "start_time": "2023-07-15T15:05:22.894Z"
   },
   {
    "duration": 1077,
    "start_time": "2023-07-15T15:11:52.232Z"
   },
   {
    "duration": 37,
    "start_time": "2023-07-15T15:11:53.311Z"
   },
   {
    "duration": 14,
    "start_time": "2023-07-15T15:11:53.349Z"
   },
   {
    "duration": 3,
    "start_time": "2023-07-15T15:11:53.365Z"
   },
   {
    "duration": 21,
    "start_time": "2023-07-15T15:11:53.369Z"
   },
   {
    "duration": 32,
    "start_time": "2023-07-15T15:11:53.392Z"
   },
   {
    "duration": 9,
    "start_time": "2023-07-15T15:11:53.425Z"
   },
   {
    "duration": 15,
    "start_time": "2023-07-15T15:11:53.435Z"
   },
   {
    "duration": 10,
    "start_time": "2023-07-15T15:11:53.451Z"
   },
   {
    "duration": 24,
    "start_time": "2023-07-15T15:11:53.463Z"
   },
   {
    "duration": 13,
    "start_time": "2023-07-15T15:11:53.488Z"
   },
   {
    "duration": 5,
    "start_time": "2023-07-15T15:11:53.502Z"
   },
   {
    "duration": 6,
    "start_time": "2023-07-15T15:11:53.508Z"
   },
   {
    "duration": 132,
    "start_time": "2023-07-15T15:11:53.515Z"
   },
   {
    "duration": 5,
    "start_time": "2023-07-15T15:11:53.648Z"
   },
   {
    "duration": 22,
    "start_time": "2023-07-15T15:11:53.654Z"
   },
   {
    "duration": 90,
    "start_time": "2023-07-15T15:11:53.678Z"
   },
   {
    "duration": 135,
    "start_time": "2023-07-15T15:11:53.770Z"
   },
   {
    "duration": 14,
    "start_time": "2023-07-15T15:11:53.906Z"
   },
   {
    "duration": 15,
    "start_time": "2023-07-15T15:11:53.922Z"
   },
   {
    "duration": 31,
    "start_time": "2023-07-15T15:11:53.938Z"
   },
   {
    "duration": 353,
    "start_time": "2023-07-15T15:11:53.970Z"
   },
   {
    "duration": 765,
    "start_time": "2023-07-15T15:11:54.325Z"
   },
   {
    "duration": 892,
    "start_time": "2023-07-15T15:11:55.092Z"
   },
   {
    "duration": 789,
    "start_time": "2023-07-15T15:11:55.985Z"
   },
   {
    "duration": 760,
    "start_time": "2023-07-15T15:11:56.775Z"
   },
   {
    "duration": 17,
    "start_time": "2023-07-15T15:11:57.537Z"
   },
   {
    "duration": 22,
    "start_time": "2023-07-15T15:11:57.557Z"
   },
   {
    "duration": 6,
    "start_time": "2023-07-15T15:11:57.581Z"
   },
   {
    "duration": 34,
    "start_time": "2023-07-15T15:11:57.589Z"
   },
   {
    "duration": 19,
    "start_time": "2023-07-15T15:11:57.624Z"
   },
   {
    "duration": 20,
    "start_time": "2023-07-15T15:11:57.645Z"
   },
   {
    "duration": 21,
    "start_time": "2023-07-15T15:11:57.666Z"
   },
   {
    "duration": 44,
    "start_time": "2023-07-15T15:11:57.688Z"
   },
   {
    "duration": 20,
    "start_time": "2023-07-15T15:11:57.733Z"
   },
   {
    "duration": 347,
    "start_time": "2023-07-15T15:12:45.103Z"
   },
   {
    "duration": 852,
    "start_time": "2023-07-15T15:19:24.358Z"
   },
   {
    "duration": 807,
    "start_time": "2023-07-15T15:19:40.894Z"
   },
   {
    "duration": 833,
    "start_time": "2023-07-15T15:20:03.079Z"
   },
   {
    "duration": 155,
    "start_time": "2023-07-15T15:23:33.094Z"
   },
   {
    "duration": 118,
    "start_time": "2023-07-15T15:26:35.092Z"
   },
   {
    "duration": 8,
    "start_time": "2023-07-15T15:30:32.813Z"
   },
   {
    "duration": 7,
    "start_time": "2023-07-15T17:08:53.373Z"
   },
   {
    "duration": 7,
    "start_time": "2023-07-15T17:08:58.755Z"
   },
   {
    "duration": 6,
    "start_time": "2023-07-15T17:09:05.499Z"
   },
   {
    "duration": 8,
    "start_time": "2023-07-15T17:11:35.420Z"
   },
   {
    "duration": 8,
    "start_time": "2023-07-15T17:11:40.010Z"
   },
   {
    "duration": 5,
    "start_time": "2023-07-15T17:11:49.297Z"
   },
   {
    "duration": 27,
    "start_time": "2023-07-15T17:14:20.680Z"
   },
   {
    "duration": 9,
    "start_time": "2023-07-15T17:14:34.719Z"
   },
   {
    "duration": 11,
    "start_time": "2023-07-15T17:17:07.417Z"
   },
   {
    "duration": 12,
    "start_time": "2023-07-15T17:17:54.730Z"
   },
   {
    "duration": 9,
    "start_time": "2023-07-15T18:35:38.567Z"
   },
   {
    "duration": 3,
    "start_time": "2023-07-15T18:36:27.396Z"
   },
   {
    "duration": 1290,
    "start_time": "2023-07-15T18:36:32.609Z"
   },
   {
    "duration": 8,
    "start_time": "2023-07-15T18:36:43.548Z"
   },
   {
    "duration": 7,
    "start_time": "2023-07-15T18:38:13.688Z"
   },
   {
    "duration": 6,
    "start_time": "2023-07-15T18:38:33.607Z"
   },
   {
    "duration": 24,
    "start_time": "2023-07-15T18:38:55.913Z"
   },
   {
    "duration": 8,
    "start_time": "2023-07-15T18:40:13.141Z"
   },
   {
    "duration": 7,
    "start_time": "2023-07-15T18:40:24.668Z"
   },
   {
    "duration": 22,
    "start_time": "2023-07-15T18:53:06.841Z"
   },
   {
    "duration": 6,
    "start_time": "2023-07-15T18:53:43.439Z"
   },
   {
    "duration": 6,
    "start_time": "2023-07-15T18:54:08.020Z"
   },
   {
    "duration": 8,
    "start_time": "2023-07-15T18:54:24.299Z"
   },
   {
    "duration": 10,
    "start_time": "2023-07-15T18:54:56.929Z"
   },
   {
    "duration": 12,
    "start_time": "2023-07-15T18:55:08.705Z"
   },
   {
    "duration": 8,
    "start_time": "2023-07-15T18:55:26.097Z"
   },
   {
    "duration": 8,
    "start_time": "2023-07-15T18:55:41.902Z"
   },
   {
    "duration": 9,
    "start_time": "2023-07-15T18:56:37.746Z"
   },
   {
    "duration": 9,
    "start_time": "2023-07-15T18:56:59.420Z"
   },
   {
    "duration": 9,
    "start_time": "2023-07-15T18:57:05.426Z"
   },
   {
    "duration": 8,
    "start_time": "2023-07-15T18:57:14.859Z"
   },
   {
    "duration": 8,
    "start_time": "2023-07-15T18:57:28.020Z"
   },
   {
    "duration": 9,
    "start_time": "2023-07-15T18:57:35.798Z"
   },
   {
    "duration": 8,
    "start_time": "2023-07-15T18:57:48.623Z"
   },
   {
    "duration": 10,
    "start_time": "2023-07-15T19:00:43.381Z"
   },
   {
    "duration": 9,
    "start_time": "2023-07-15T19:00:54.708Z"
   },
   {
    "duration": 117,
    "start_time": "2023-07-15T19:04:49.208Z"
   },
   {
    "duration": 7,
    "start_time": "2023-07-15T19:05:08.328Z"
   },
   {
    "duration": 10,
    "start_time": "2023-07-15T19:05:33.548Z"
   },
   {
    "duration": 10,
    "start_time": "2023-07-15T19:07:32.211Z"
   },
   {
    "duration": 6,
    "start_time": "2023-07-15T19:07:41.397Z"
   },
   {
    "duration": 9,
    "start_time": "2023-07-15T19:08:18.251Z"
   },
   {
    "duration": 7,
    "start_time": "2023-07-15T19:09:02.664Z"
   },
   {
    "duration": 8,
    "start_time": "2023-07-15T19:10:46.929Z"
   },
   {
    "duration": 11,
    "start_time": "2023-07-15T19:10:51.741Z"
   },
   {
    "duration": 3,
    "start_time": "2023-07-15T19:13:33.788Z"
   },
   {
    "duration": 2,
    "start_time": "2023-07-15T19:14:04.267Z"
   },
   {
    "duration": 9,
    "start_time": "2023-07-15T19:15:10.186Z"
   },
   {
    "duration": 84,
    "start_time": "2023-07-15T19:15:28.448Z"
   },
   {
    "duration": 97,
    "start_time": "2023-07-15T19:15:37.694Z"
   },
   {
    "duration": 76,
    "start_time": "2023-07-15T19:15:48.342Z"
   },
   {
    "duration": 89,
    "start_time": "2023-07-15T19:15:52.511Z"
   },
   {
    "duration": 81,
    "start_time": "2023-07-15T19:16:03.309Z"
   },
   {
    "duration": 63,
    "start_time": "2023-07-15T19:16:41.434Z"
   },
   {
    "duration": 81,
    "start_time": "2023-07-15T19:16:54.801Z"
   },
   {
    "duration": 9,
    "start_time": "2023-07-15T19:54:13.000Z"
   },
   {
    "duration": 8,
    "start_time": "2023-07-15T19:54:19.630Z"
   },
   {
    "duration": 1621,
    "start_time": "2023-07-16T11:35:05.505Z"
   },
   {
    "duration": 160,
    "start_time": "2023-07-16T11:35:07.128Z"
   },
   {
    "duration": 19,
    "start_time": "2023-07-16T11:35:07.290Z"
   },
   {
    "duration": 23,
    "start_time": "2023-07-16T11:35:07.313Z"
   },
   {
    "duration": 52,
    "start_time": "2023-07-16T11:35:07.338Z"
   },
   {
    "duration": 89,
    "start_time": "2023-07-16T11:35:07.393Z"
   },
   {
    "duration": 21,
    "start_time": "2023-07-16T11:35:07.484Z"
   },
   {
    "duration": 11,
    "start_time": "2023-07-16T11:35:07.508Z"
   },
   {
    "duration": 27,
    "start_time": "2023-07-16T11:35:07.521Z"
   },
   {
    "duration": 7,
    "start_time": "2023-07-16T11:35:07.552Z"
   },
   {
    "duration": 17,
    "start_time": "2023-07-16T11:35:07.560Z"
   },
   {
    "duration": 19,
    "start_time": "2023-07-16T11:35:07.578Z"
   },
   {
    "duration": 40,
    "start_time": "2023-07-16T11:35:07.599Z"
   },
   {
    "duration": 43,
    "start_time": "2023-07-16T11:35:07.641Z"
   },
   {
    "duration": 37,
    "start_time": "2023-07-16T11:35:07.686Z"
   },
   {
    "duration": 77,
    "start_time": "2023-07-16T11:35:07.726Z"
   },
   {
    "duration": 163,
    "start_time": "2023-07-16T11:35:07.806Z"
   },
   {
    "duration": 8,
    "start_time": "2023-07-16T11:35:07.971Z"
   },
   {
    "duration": 11,
    "start_time": "2023-07-16T11:35:07.981Z"
   },
   {
    "duration": 130,
    "start_time": "2023-07-16T11:35:08.010Z"
   },
   {
    "duration": 176,
    "start_time": "2023-07-16T11:35:08.143Z"
   },
   {
    "duration": 11,
    "start_time": "2023-07-16T11:35:08.321Z"
   },
   {
    "duration": 9,
    "start_time": "2023-07-16T11:35:08.334Z"
   },
   {
    "duration": 21,
    "start_time": "2023-07-16T11:35:08.345Z"
   },
   {
    "duration": 52,
    "start_time": "2023-07-16T11:35:08.368Z"
   },
   {
    "duration": 417,
    "start_time": "2023-07-16T11:35:08.423Z"
   },
   {
    "duration": 959,
    "start_time": "2023-07-16T11:35:08.842Z"
   },
   {
    "duration": 1051,
    "start_time": "2023-07-16T11:35:09.807Z"
   },
   {
    "duration": 987,
    "start_time": "2023-07-16T11:35:10.861Z"
   },
   {
    "duration": 1000,
    "start_time": "2023-07-16T11:35:11.850Z"
   },
   {
    "duration": 986,
    "start_time": "2023-07-16T11:35:12.852Z"
   },
   {
    "duration": 24,
    "start_time": "2023-07-16T11:35:13.840Z"
   },
   {
    "duration": 174,
    "start_time": "2023-07-16T11:35:13.867Z"
   },
   {
    "duration": 8,
    "start_time": "2023-07-16T11:35:14.043Z"
   },
   {
    "duration": 12,
    "start_time": "2023-07-16T11:35:14.053Z"
   },
   {
    "duration": 47,
    "start_time": "2023-07-16T11:35:14.066Z"
   },
   {
    "duration": 26,
    "start_time": "2023-07-16T11:35:14.115Z"
   },
   {
    "duration": 25,
    "start_time": "2023-07-16T11:35:14.143Z"
   },
   {
    "duration": 60,
    "start_time": "2023-07-16T11:35:14.170Z"
   },
   {
    "duration": 28,
    "start_time": "2023-07-16T11:35:14.232Z"
   },
   {
    "duration": 9,
    "start_time": "2023-07-16T11:35:14.262Z"
   },
   {
    "duration": 8,
    "start_time": "2023-07-16T11:35:14.273Z"
   },
   {
    "duration": 33,
    "start_time": "2023-07-16T11:35:14.282Z"
   },
   {
    "duration": 10,
    "start_time": "2023-07-16T11:35:14.317Z"
   },
   {
    "duration": 14,
    "start_time": "2023-07-16T11:35:14.329Z"
   },
   {
    "duration": 10,
    "start_time": "2023-07-16T11:35:14.344Z"
   },
   {
    "duration": 8,
    "start_time": "2023-07-16T11:35:14.356Z"
   },
   {
    "duration": 119,
    "start_time": "2023-07-16T11:35:14.365Z"
   },
   {
    "duration": 79,
    "start_time": "2023-07-16T11:35:14.486Z"
   },
   {
    "duration": 108,
    "start_time": "2023-07-16T11:35:14.567Z"
   },
   {
    "duration": 17,
    "start_time": "2023-07-16T11:37:02.056Z"
   },
   {
    "duration": 51,
    "start_time": "2023-07-16T11:38:02.938Z"
   },
   {
    "duration": 114,
    "start_time": "2023-07-16T11:38:23.506Z"
   },
   {
    "duration": 19,
    "start_time": "2023-07-16T11:38:26.641Z"
   },
   {
    "duration": 51,
    "start_time": "2023-07-16T11:38:28.746Z"
   },
   {
    "duration": 5,
    "start_time": "2023-07-16T11:39:23.720Z"
   },
   {
    "duration": 10,
    "start_time": "2023-07-16T11:47:30.882Z"
   },
   {
    "duration": 4,
    "start_time": "2023-07-16T11:51:21.347Z"
   },
   {
    "duration": 11,
    "start_time": "2023-07-16T11:52:10.496Z"
   },
   {
    "duration": 11,
    "start_time": "2023-07-16T11:52:21.137Z"
   },
   {
    "duration": 6,
    "start_time": "2023-07-16T11:52:32.937Z"
   },
   {
    "duration": 19,
    "start_time": "2023-07-16T11:52:46.267Z"
   },
   {
    "duration": 28,
    "start_time": "2023-07-16T11:53:16.594Z"
   },
   {
    "duration": 21,
    "start_time": "2023-07-16T11:54:41.015Z"
   },
   {
    "duration": 15,
    "start_time": "2023-07-16T12:00:47.819Z"
   },
   {
    "duration": 12,
    "start_time": "2023-07-16T12:00:59.119Z"
   },
   {
    "duration": 84,
    "start_time": "2023-07-16T12:05:35.057Z"
   },
   {
    "duration": 5,
    "start_time": "2023-07-16T12:05:44.615Z"
   },
   {
    "duration": 22,
    "start_time": "2023-07-16T12:05:47.406Z"
   },
   {
    "duration": 12,
    "start_time": "2023-07-16T12:05:59.042Z"
   },
   {
    "duration": 14,
    "start_time": "2023-07-16T12:26:45.014Z"
   },
   {
    "duration": 4,
    "start_time": "2023-07-16T12:26:54.512Z"
   },
   {
    "duration": 18,
    "start_time": "2023-07-16T12:44:16.014Z"
   },
   {
    "duration": 1184,
    "start_time": "2023-07-16T12:44:32.508Z"
   },
   {
    "duration": 42,
    "start_time": "2023-07-16T12:44:33.694Z"
   },
   {
    "duration": 18,
    "start_time": "2023-07-16T12:44:33.739Z"
   },
   {
    "duration": 4,
    "start_time": "2023-07-16T12:44:33.760Z"
   },
   {
    "duration": 19,
    "start_time": "2023-07-16T12:44:33.766Z"
   },
   {
    "duration": 60,
    "start_time": "2023-07-16T12:44:33.787Z"
   },
   {
    "duration": 10,
    "start_time": "2023-07-16T12:44:33.849Z"
   },
   {
    "duration": 7,
    "start_time": "2023-07-16T12:44:33.861Z"
   },
   {
    "duration": 11,
    "start_time": "2023-07-16T12:44:33.869Z"
   },
   {
    "duration": 27,
    "start_time": "2023-07-16T12:44:33.883Z"
   },
   {
    "duration": 8,
    "start_time": "2023-07-16T12:44:33.911Z"
   },
   {
    "duration": 32,
    "start_time": "2023-07-16T12:44:33.920Z"
   },
   {
    "duration": 9,
    "start_time": "2023-07-16T12:44:33.954Z"
   },
   {
    "duration": 26,
    "start_time": "2023-07-16T12:44:33.965Z"
   },
   {
    "duration": 33,
    "start_time": "2023-07-16T12:44:33.994Z"
   },
   {
    "duration": 56,
    "start_time": "2023-07-16T12:44:34.029Z"
   },
   {
    "duration": 5,
    "start_time": "2023-07-16T12:44:34.087Z"
   },
   {
    "duration": 20,
    "start_time": "2023-07-16T12:44:34.093Z"
   },
   {
    "duration": 123,
    "start_time": "2023-07-16T12:44:34.115Z"
   },
   {
    "duration": 0,
    "start_time": "2023-07-16T12:44:34.240Z"
   },
   {
    "duration": 0,
    "start_time": "2023-07-16T12:44:34.242Z"
   },
   {
    "duration": 0,
    "start_time": "2023-07-16T12:44:34.243Z"
   },
   {
    "duration": 0,
    "start_time": "2023-07-16T12:44:34.244Z"
   },
   {
    "duration": 0,
    "start_time": "2023-07-16T12:44:34.246Z"
   },
   {
    "duration": 0,
    "start_time": "2023-07-16T12:44:34.247Z"
   },
   {
    "duration": 0,
    "start_time": "2023-07-16T12:44:34.248Z"
   },
   {
    "duration": 0,
    "start_time": "2023-07-16T12:44:34.249Z"
   },
   {
    "duration": 0,
    "start_time": "2023-07-16T12:44:34.250Z"
   },
   {
    "duration": 0,
    "start_time": "2023-07-16T12:44:34.251Z"
   },
   {
    "duration": 0,
    "start_time": "2023-07-16T12:44:34.252Z"
   },
   {
    "duration": 0,
    "start_time": "2023-07-16T12:44:34.253Z"
   },
   {
    "duration": 0,
    "start_time": "2023-07-16T12:44:34.254Z"
   },
   {
    "duration": 0,
    "start_time": "2023-07-16T12:44:34.255Z"
   },
   {
    "duration": 0,
    "start_time": "2023-07-16T12:44:34.256Z"
   },
   {
    "duration": 0,
    "start_time": "2023-07-16T12:44:34.257Z"
   },
   {
    "duration": 0,
    "start_time": "2023-07-16T12:44:34.258Z"
   },
   {
    "duration": 0,
    "start_time": "2023-07-16T12:44:34.259Z"
   },
   {
    "duration": 0,
    "start_time": "2023-07-16T12:44:34.260Z"
   },
   {
    "duration": 0,
    "start_time": "2023-07-16T12:44:34.262Z"
   },
   {
    "duration": 0,
    "start_time": "2023-07-16T12:44:34.262Z"
   },
   {
    "duration": 0,
    "start_time": "2023-07-16T12:44:34.263Z"
   },
   {
    "duration": 0,
    "start_time": "2023-07-16T12:44:34.264Z"
   },
   {
    "duration": 0,
    "start_time": "2023-07-16T12:44:34.309Z"
   },
   {
    "duration": 0,
    "start_time": "2023-07-16T12:44:34.310Z"
   },
   {
    "duration": 0,
    "start_time": "2023-07-16T12:44:34.312Z"
   },
   {
    "duration": 0,
    "start_time": "2023-07-16T12:44:34.313Z"
   },
   {
    "duration": 0,
    "start_time": "2023-07-16T12:44:34.314Z"
   },
   {
    "duration": 0,
    "start_time": "2023-07-16T12:44:34.315Z"
   },
   {
    "duration": 0,
    "start_time": "2023-07-16T12:44:34.316Z"
   },
   {
    "duration": 0,
    "start_time": "2023-07-16T12:44:34.317Z"
   },
   {
    "duration": 0,
    "start_time": "2023-07-16T12:44:34.318Z"
   },
   {
    "duration": 0,
    "start_time": "2023-07-16T12:44:34.319Z"
   },
   {
    "duration": 0,
    "start_time": "2023-07-16T12:44:34.320Z"
   },
   {
    "duration": 0,
    "start_time": "2023-07-16T12:44:34.321Z"
   },
   {
    "duration": 0,
    "start_time": "2023-07-16T12:44:34.323Z"
   },
   {
    "duration": 0,
    "start_time": "2023-07-16T12:44:34.324Z"
   },
   {
    "duration": 18,
    "start_time": "2023-07-16T13:34:38.910Z"
   },
   {
    "duration": 122,
    "start_time": "2023-07-16T13:34:55.591Z"
   },
   {
    "duration": 331,
    "start_time": "2023-07-16T13:35:06.192Z"
   },
   {
    "duration": 97,
    "start_time": "2023-07-16T13:35:20.333Z"
   },
   {
    "duration": 97,
    "start_time": "2023-07-16T13:35:26.634Z"
   },
   {
    "duration": 65,
    "start_time": "2023-07-16T13:35:37.697Z"
   },
   {
    "duration": 86,
    "start_time": "2023-07-16T13:35:45.741Z"
   },
   {
    "duration": 17,
    "start_time": "2023-07-16T13:35:50.202Z"
   },
   {
    "duration": 13,
    "start_time": "2023-07-16T13:36:06.995Z"
   },
   {
    "duration": 12,
    "start_time": "2023-07-16T13:36:23.287Z"
   },
   {
    "duration": 13,
    "start_time": "2023-07-16T13:36:32.937Z"
   },
   {
    "duration": 17,
    "start_time": "2023-07-16T13:36:46.152Z"
   },
   {
    "duration": 9,
    "start_time": "2023-07-16T13:38:34.691Z"
   },
   {
    "duration": 36,
    "start_time": "2023-07-16T13:38:55.069Z"
   },
   {
    "duration": 13,
    "start_time": "2023-07-16T13:38:55.107Z"
   },
   {
    "duration": 8,
    "start_time": "2023-07-16T13:38:55.124Z"
   },
   {
    "duration": 18,
    "start_time": "2023-07-16T13:38:55.134Z"
   },
   {
    "duration": 9,
    "start_time": "2023-07-16T13:38:55.154Z"
   },
   {
    "duration": 6,
    "start_time": "2023-07-16T13:38:55.165Z"
   },
   {
    "duration": 17,
    "start_time": "2023-07-16T13:38:55.173Z"
   },
   {
    "duration": 178,
    "start_time": "2023-07-16T13:38:55.214Z"
   },
   {
    "duration": 20,
    "start_time": "2023-07-16T13:38:55.394Z"
   },
   {
    "duration": 18,
    "start_time": "2023-07-16T13:38:55.417Z"
   },
   {
    "duration": 115,
    "start_time": "2023-07-16T13:38:55.437Z"
   },
   {
    "duration": 167,
    "start_time": "2023-07-16T13:38:55.554Z"
   },
   {
    "duration": 11,
    "start_time": "2023-07-16T13:38:55.723Z"
   },
   {
    "duration": 11,
    "start_time": "2023-07-16T13:38:55.736Z"
   },
   {
    "duration": 21,
    "start_time": "2023-07-16T13:38:55.748Z"
   },
   {
    "duration": 13,
    "start_time": "2023-07-16T13:38:55.771Z"
   },
   {
    "duration": 435,
    "start_time": "2023-07-16T13:38:55.786Z"
   },
   {
    "duration": 949,
    "start_time": "2023-07-16T13:38:56.223Z"
   },
   {
    "duration": 1087,
    "start_time": "2023-07-16T13:38:57.174Z"
   },
   {
    "duration": 999,
    "start_time": "2023-07-16T13:38:58.262Z"
   },
   {
    "duration": 998,
    "start_time": "2023-07-16T13:38:59.263Z"
   },
   {
    "duration": 1012,
    "start_time": "2023-07-16T13:39:00.263Z"
   },
   {
    "duration": 41,
    "start_time": "2023-07-16T13:39:01.277Z"
   },
   {
    "duration": 196,
    "start_time": "2023-07-16T13:39:01.324Z"
   },
   {
    "duration": 12,
    "start_time": "2023-07-16T13:39:01.522Z"
   },
   {
    "duration": 34,
    "start_time": "2023-07-16T13:39:01.536Z"
   },
   {
    "duration": 40,
    "start_time": "2023-07-16T13:39:01.572Z"
   },
   {
    "duration": 44,
    "start_time": "2023-07-16T13:39:01.616Z"
   },
   {
    "duration": 29,
    "start_time": "2023-07-16T13:39:01.662Z"
   },
   {
    "duration": 34,
    "start_time": "2023-07-16T13:39:01.693Z"
   },
   {
    "duration": 45,
    "start_time": "2023-07-16T13:39:01.730Z"
   },
   {
    "duration": 11,
    "start_time": "2023-07-16T13:39:01.778Z"
   },
   {
    "duration": 28,
    "start_time": "2023-07-16T13:39:01.792Z"
   },
   {
    "duration": 37,
    "start_time": "2023-07-16T13:39:01.822Z"
   },
   {
    "duration": 30,
    "start_time": "2023-07-16T13:39:01.861Z"
   },
   {
    "duration": 46,
    "start_time": "2023-07-16T13:39:01.892Z"
   },
   {
    "duration": 30,
    "start_time": "2023-07-16T13:39:01.941Z"
   },
   {
    "duration": 11,
    "start_time": "2023-07-16T13:39:01.973Z"
   },
   {
    "duration": 158,
    "start_time": "2023-07-16T13:39:01.986Z"
   },
   {
    "duration": 120,
    "start_time": "2023-07-16T13:39:02.146Z"
   },
   {
    "duration": 143,
    "start_time": "2023-07-16T13:39:02.269Z"
   },
   {
    "duration": 59,
    "start_time": "2023-07-16T13:40:35.264Z"
   },
   {
    "duration": 18,
    "start_time": "2023-07-16T13:43:02.778Z"
   },
   {
    "duration": 1168,
    "start_time": "2023-07-16T13:51:05.014Z"
   },
   {
    "duration": 1124,
    "start_time": "2023-07-16T13:51:15.954Z"
   },
   {
    "duration": 10,
    "start_time": "2023-07-16T13:51:49.926Z"
   },
   {
    "duration": 13,
    "start_time": "2023-07-16T13:52:20.627Z"
   },
   {
    "duration": 11,
    "start_time": "2023-07-16T13:52:34.800Z"
   },
   {
    "duration": 6,
    "start_time": "2023-07-16T13:53:32.564Z"
   },
   {
    "duration": 90,
    "start_time": "2023-07-16T13:55:16.935Z"
   },
   {
    "duration": 10,
    "start_time": "2023-07-16T13:55:39.938Z"
   },
   {
    "duration": 10,
    "start_time": "2023-07-16T13:56:12.250Z"
   },
   {
    "duration": 8,
    "start_time": "2023-07-16T13:56:19.232Z"
   },
   {
    "duration": 404,
    "start_time": "2023-07-16T14:04:03.242Z"
   },
   {
    "duration": 27,
    "start_time": "2023-07-16T14:04:10.508Z"
   },
   {
    "duration": 23,
    "start_time": "2023-07-16T14:04:42.841Z"
   },
   {
    "duration": 171,
    "start_time": "2023-07-16T14:19:29.317Z"
   },
   {
    "duration": 17,
    "start_time": "2023-07-16T14:21:07.447Z"
   },
   {
    "duration": 121,
    "start_time": "2023-07-16T14:21:11.843Z"
   },
   {
    "duration": 164,
    "start_time": "2023-07-16T14:21:57.597Z"
   },
   {
    "duration": 121,
    "start_time": "2023-07-16T14:22:22.312Z"
   },
   {
    "duration": 104,
    "start_time": "2023-07-16T14:22:36.245Z"
   },
   {
    "duration": 114,
    "start_time": "2023-07-16T14:23:04.414Z"
   },
   {
    "duration": 110,
    "start_time": "2023-07-16T14:26:06.539Z"
   },
   {
    "duration": 134,
    "start_time": "2023-07-16T14:31:00.757Z"
   },
   {
    "duration": 13,
    "start_time": "2023-07-16T14:34:30.560Z"
   },
   {
    "duration": 15,
    "start_time": "2023-07-16T14:34:40.015Z"
   },
   {
    "duration": 119,
    "start_time": "2023-07-16T14:34:52.437Z"
   },
   {
    "duration": 135,
    "start_time": "2023-07-16T14:35:39.710Z"
   },
   {
    "duration": 14,
    "start_time": "2023-07-16T14:44:19.702Z"
   },
   {
    "duration": 121,
    "start_time": "2023-07-16T14:44:32.335Z"
   },
   {
    "duration": 12,
    "start_time": "2023-07-16T14:47:49.136Z"
   },
   {
    "duration": 20,
    "start_time": "2023-07-16T14:48:06.553Z"
   },
   {
    "duration": 22,
    "start_time": "2023-07-16T14:48:15.397Z"
   },
   {
    "duration": 127,
    "start_time": "2023-07-16T14:54:03.815Z"
   },
   {
    "duration": 21,
    "start_time": "2023-07-16T14:55:46.712Z"
   },
   {
    "duration": 26,
    "start_time": "2023-07-16T14:56:00.817Z"
   },
   {
    "duration": 82,
    "start_time": "2023-07-16T15:34:25.404Z"
   },
   {
    "duration": 76,
    "start_time": "2023-07-16T15:34:30.588Z"
   },
   {
    "duration": 90,
    "start_time": "2023-07-16T15:34:45.000Z"
   },
   {
    "duration": 30,
    "start_time": "2023-07-16T15:34:53.184Z"
   },
   {
    "duration": 9,
    "start_time": "2023-07-16T15:39:23.163Z"
   },
   {
    "duration": 26,
    "start_time": "2023-07-16T15:40:02.703Z"
   },
   {
    "duration": 14,
    "start_time": "2023-07-16T15:40:14.433Z"
   },
   {
    "duration": 10,
    "start_time": "2023-07-16T15:40:27.203Z"
   },
   {
    "duration": 10,
    "start_time": "2023-07-16T15:41:21.499Z"
   },
   {
    "duration": 10,
    "start_time": "2023-07-16T15:41:28.900Z"
   },
   {
    "duration": 10,
    "start_time": "2023-07-16T15:49:25.253Z"
   },
   {
    "duration": 9,
    "start_time": "2023-07-16T15:49:31.066Z"
   },
   {
    "duration": 10,
    "start_time": "2023-07-16T15:49:34.495Z"
   },
   {
    "duration": 11,
    "start_time": "2023-07-16T15:51:46.887Z"
   },
   {
    "duration": 1491,
    "start_time": "2023-07-17T10:54:55.249Z"
   },
   {
    "duration": 85,
    "start_time": "2023-07-17T10:54:56.743Z"
   },
   {
    "duration": 23,
    "start_time": "2023-07-17T10:54:56.830Z"
   },
   {
    "duration": 13,
    "start_time": "2023-07-17T10:54:56.856Z"
   },
   {
    "duration": 20,
    "start_time": "2023-07-17T10:54:56.873Z"
   },
   {
    "duration": 47,
    "start_time": "2023-07-17T10:54:56.896Z"
   },
   {
    "duration": 27,
    "start_time": "2023-07-17T10:54:56.946Z"
   },
   {
    "duration": 5,
    "start_time": "2023-07-17T10:54:56.976Z"
   },
   {
    "duration": 18,
    "start_time": "2023-07-17T10:54:56.983Z"
   },
   {
    "duration": 15,
    "start_time": "2023-07-17T10:54:57.002Z"
   },
   {
    "duration": 8,
    "start_time": "2023-07-17T10:54:57.019Z"
   },
   {
    "duration": 6,
    "start_time": "2023-07-17T10:54:57.028Z"
   },
   {
    "duration": 42,
    "start_time": "2023-07-17T10:54:57.036Z"
   },
   {
    "duration": 10,
    "start_time": "2023-07-17T10:54:57.081Z"
   },
   {
    "duration": 16,
    "start_time": "2023-07-17T10:54:57.093Z"
   },
   {
    "duration": 58,
    "start_time": "2023-07-17T10:54:57.111Z"
   },
   {
    "duration": 4,
    "start_time": "2023-07-17T10:54:57.171Z"
   },
   {
    "duration": 22,
    "start_time": "2023-07-17T10:54:57.177Z"
   },
   {
    "duration": 33,
    "start_time": "2023-07-17T10:54:57.201Z"
   },
   {
    "duration": 10,
    "start_time": "2023-07-17T10:54:57.235Z"
   },
   {
    "duration": 4,
    "start_time": "2023-07-17T10:54:57.247Z"
   },
   {
    "duration": 24,
    "start_time": "2023-07-17T10:54:57.252Z"
   },
   {
    "duration": 176,
    "start_time": "2023-07-17T10:54:57.278Z"
   },
   {
    "duration": 14,
    "start_time": "2023-07-17T10:54:57.456Z"
   },
   {
    "duration": 9,
    "start_time": "2023-07-17T10:54:57.472Z"
   },
   {
    "duration": 141,
    "start_time": "2023-07-17T10:54:57.483Z"
   },
   {
    "duration": 200,
    "start_time": "2023-07-17T10:54:57.626Z"
   },
   {
    "duration": 12,
    "start_time": "2023-07-17T10:54:57.829Z"
   },
   {
    "duration": 28,
    "start_time": "2023-07-17T10:54:57.843Z"
   },
   {
    "duration": 23,
    "start_time": "2023-07-17T10:54:57.873Z"
   },
   {
    "duration": 8,
    "start_time": "2023-07-17T10:54:57.898Z"
   },
   {
    "duration": 18,
    "start_time": "2023-07-17T10:54:57.908Z"
   },
   {
    "duration": 44,
    "start_time": "2023-07-17T10:54:57.928Z"
   },
   {
    "duration": 56,
    "start_time": "2023-07-17T10:54:57.974Z"
   },
   {
    "duration": 469,
    "start_time": "2023-07-17T10:54:58.032Z"
   },
   {
    "duration": 1012,
    "start_time": "2023-07-17T10:54:58.503Z"
   },
   {
    "duration": 134,
    "start_time": "2023-07-17T10:54:59.517Z"
   },
   {
    "duration": 1071,
    "start_time": "2023-07-17T10:54:59.652Z"
   },
   {
    "duration": 1019,
    "start_time": "2023-07-17T10:55:00.726Z"
   },
   {
    "duration": 1015,
    "start_time": "2023-07-17T10:55:01.748Z"
   },
   {
    "duration": 1200,
    "start_time": "2023-07-17T10:55:02.767Z"
   },
   {
    "duration": 30,
    "start_time": "2023-07-17T10:55:03.969Z"
   },
   {
    "duration": 33,
    "start_time": "2023-07-17T10:55:04.002Z"
   },
   {
    "duration": 62,
    "start_time": "2023-07-17T10:55:04.038Z"
   },
   {
    "duration": 22,
    "start_time": "2023-07-17T10:55:04.103Z"
   },
   {
    "duration": 34,
    "start_time": "2023-07-17T10:55:04.127Z"
   },
   {
    "duration": 39,
    "start_time": "2023-07-17T10:55:04.164Z"
   },
   {
    "duration": 148,
    "start_time": "2023-07-17T10:55:04.206Z"
   },
   {
    "duration": 31,
    "start_time": "2023-07-17T10:55:04.356Z"
   },
   {
    "duration": 35,
    "start_time": "2023-07-17T10:55:04.389Z"
   },
   {
    "duration": 147,
    "start_time": "2023-07-17T10:55:04.425Z"
   },
   {
    "duration": 17,
    "start_time": "2023-07-17T10:55:04.574Z"
   },
   {
    "duration": 44,
    "start_time": "2023-07-17T10:55:04.593Z"
   },
   {
    "duration": 25,
    "start_time": "2023-07-17T10:55:04.640Z"
   },
   {
    "duration": 125,
    "start_time": "2023-07-17T10:55:04.667Z"
   },
   {
    "duration": 121,
    "start_time": "2023-07-17T10:55:04.794Z"
   },
   {
    "duration": 0,
    "start_time": "2023-07-17T10:55:04.917Z"
   },
   {
    "duration": 0,
    "start_time": "2023-07-17T10:55:04.919Z"
   },
   {
    "duration": 0,
    "start_time": "2023-07-17T10:55:04.920Z"
   },
   {
    "duration": 0,
    "start_time": "2023-07-17T10:55:04.922Z"
   },
   {
    "duration": 0,
    "start_time": "2023-07-17T10:55:04.924Z"
   },
   {
    "duration": 0,
    "start_time": "2023-07-17T10:55:04.925Z"
   },
   {
    "duration": 0,
    "start_time": "2023-07-17T10:55:04.927Z"
   },
   {
    "duration": 0,
    "start_time": "2023-07-17T10:55:04.929Z"
   },
   {
    "duration": 0,
    "start_time": "2023-07-17T10:55:04.930Z"
   },
   {
    "duration": 0,
    "start_time": "2023-07-17T10:55:04.932Z"
   },
   {
    "duration": 1351,
    "start_time": "2023-07-17T11:30:23.876Z"
   },
   {
    "duration": 41,
    "start_time": "2023-07-17T11:30:25.229Z"
   },
   {
    "duration": 34,
    "start_time": "2023-07-17T11:30:25.272Z"
   },
   {
    "duration": 9,
    "start_time": "2023-07-17T11:30:25.308Z"
   },
   {
    "duration": 24,
    "start_time": "2023-07-17T11:30:25.320Z"
   },
   {
    "duration": 64,
    "start_time": "2023-07-17T11:30:25.346Z"
   },
   {
    "duration": 11,
    "start_time": "2023-07-17T11:30:25.412Z"
   },
   {
    "duration": 19,
    "start_time": "2023-07-17T11:30:25.425Z"
   },
   {
    "duration": 22,
    "start_time": "2023-07-17T11:30:25.446Z"
   },
   {
    "duration": 8,
    "start_time": "2023-07-17T11:30:25.470Z"
   },
   {
    "duration": 24,
    "start_time": "2023-07-17T11:30:25.480Z"
   },
   {
    "duration": 14,
    "start_time": "2023-07-17T11:30:25.506Z"
   },
   {
    "duration": 19,
    "start_time": "2023-07-17T11:30:25.522Z"
   },
   {
    "duration": 11,
    "start_time": "2023-07-17T11:30:25.544Z"
   },
   {
    "duration": 20,
    "start_time": "2023-07-17T11:30:25.557Z"
   },
   {
    "duration": 39,
    "start_time": "2023-07-17T11:30:25.579Z"
   },
   {
    "duration": 5,
    "start_time": "2023-07-17T11:30:25.620Z"
   },
   {
    "duration": 9,
    "start_time": "2023-07-17T11:30:25.626Z"
   },
   {
    "duration": 45,
    "start_time": "2023-07-17T11:30:25.636Z"
   },
   {
    "duration": 11,
    "start_time": "2023-07-17T11:30:25.683Z"
   },
   {
    "duration": 7,
    "start_time": "2023-07-17T11:30:25.696Z"
   },
   {
    "duration": 20,
    "start_time": "2023-07-17T11:30:25.705Z"
   },
   {
    "duration": 204,
    "start_time": "2023-07-17T11:30:25.726Z"
   },
   {
    "duration": 7,
    "start_time": "2023-07-17T11:30:25.932Z"
   },
   {
    "duration": 37,
    "start_time": "2023-07-17T11:30:25.941Z"
   },
   {
    "duration": 151,
    "start_time": "2023-07-17T11:30:25.980Z"
   },
   {
    "duration": 181,
    "start_time": "2023-07-17T11:30:26.133Z"
   },
   {
    "duration": 10,
    "start_time": "2023-07-17T11:30:26.316Z"
   },
   {
    "duration": 15,
    "start_time": "2023-07-17T11:30:26.330Z"
   },
   {
    "duration": 53,
    "start_time": "2023-07-17T11:30:26.347Z"
   },
   {
    "duration": 18,
    "start_time": "2023-07-17T11:30:26.403Z"
   },
   {
    "duration": 20,
    "start_time": "2023-07-17T11:30:26.423Z"
   },
   {
    "duration": 17,
    "start_time": "2023-07-17T11:30:26.444Z"
   },
   {
    "duration": 52,
    "start_time": "2023-07-17T11:30:26.463Z"
   },
   {
    "duration": 429,
    "start_time": "2023-07-17T11:30:26.517Z"
   },
   {
    "duration": 978,
    "start_time": "2023-07-17T11:30:26.948Z"
   },
   {
    "duration": 146,
    "start_time": "2023-07-17T11:30:27.928Z"
   },
   {
    "duration": 1072,
    "start_time": "2023-07-17T11:30:28.076Z"
   },
   {
    "duration": 983,
    "start_time": "2023-07-17T11:30:29.150Z"
   },
   {
    "duration": 993,
    "start_time": "2023-07-17T11:30:30.135Z"
   },
   {
    "duration": 1113,
    "start_time": "2023-07-17T11:30:31.133Z"
   },
   {
    "duration": 33,
    "start_time": "2023-07-17T11:30:32.248Z"
   },
   {
    "duration": 32,
    "start_time": "2023-07-17T11:30:32.284Z"
   },
   {
    "duration": 94,
    "start_time": "2023-07-17T11:30:32.318Z"
   },
   {
    "duration": 9,
    "start_time": "2023-07-17T11:30:32.414Z"
   },
   {
    "duration": 32,
    "start_time": "2023-07-17T11:30:32.425Z"
   },
   {
    "duration": 44,
    "start_time": "2023-07-17T11:30:32.459Z"
   },
   {
    "duration": 165,
    "start_time": "2023-07-17T11:30:32.505Z"
   },
   {
    "duration": 27,
    "start_time": "2023-07-17T11:30:32.672Z"
   },
   {
    "duration": 24,
    "start_time": "2023-07-17T11:30:32.701Z"
   },
   {
    "duration": 147,
    "start_time": "2023-07-17T11:30:32.726Z"
   },
   {
    "duration": 13,
    "start_time": "2023-07-17T11:30:32.875Z"
   },
   {
    "duration": 44,
    "start_time": "2023-07-17T11:30:32.890Z"
   },
   {
    "duration": 31,
    "start_time": "2023-07-17T11:30:32.937Z"
   },
   {
    "duration": 136,
    "start_time": "2023-07-17T11:30:32.970Z"
   },
   {
    "duration": 29,
    "start_time": "2023-07-17T11:30:33.108Z"
   },
   {
    "duration": 47,
    "start_time": "2023-07-17T11:30:33.139Z"
   },
   {
    "duration": 9,
    "start_time": "2023-07-17T11:30:33.188Z"
   },
   {
    "duration": 14,
    "start_time": "2023-07-17T11:30:33.199Z"
   },
   {
    "duration": 14,
    "start_time": "2023-07-17T11:30:33.215Z"
   },
   {
    "duration": 41,
    "start_time": "2023-07-17T11:30:33.231Z"
   },
   {
    "duration": 27,
    "start_time": "2023-07-17T11:30:33.274Z"
   },
   {
    "duration": 32,
    "start_time": "2023-07-17T11:30:33.303Z"
   },
   {
    "duration": 9,
    "start_time": "2023-07-17T11:30:33.337Z"
   },
   {
    "duration": 17,
    "start_time": "2023-07-17T11:30:33.348Z"
   },
   {
    "duration": 413,
    "start_time": "2023-07-17T13:26:18.050Z"
   },
   {
    "duration": 66,
    "start_time": "2023-07-17T15:11:18.061Z"
   },
   {
    "duration": 1380,
    "start_time": "2023-07-17T15:11:28.558Z"
   },
   {
    "duration": 1374,
    "start_time": "2023-07-17T15:11:41.391Z"
   },
   {
    "duration": 48,
    "start_time": "2023-07-17T15:11:42.768Z"
   },
   {
    "duration": 21,
    "start_time": "2023-07-17T15:11:42.818Z"
   },
   {
    "duration": 44,
    "start_time": "2023-07-17T15:11:42.841Z"
   },
   {
    "duration": 31,
    "start_time": "2023-07-17T15:11:42.889Z"
   },
   {
    "duration": 78,
    "start_time": "2023-07-17T15:11:42.923Z"
   },
   {
    "duration": 16,
    "start_time": "2023-07-17T15:11:43.003Z"
   },
   {
    "duration": 14,
    "start_time": "2023-07-17T15:11:43.021Z"
   },
   {
    "duration": 25,
    "start_time": "2023-07-17T15:11:43.036Z"
   },
   {
    "duration": 26,
    "start_time": "2023-07-17T15:11:43.063Z"
   },
   {
    "duration": 20,
    "start_time": "2023-07-17T15:11:43.091Z"
   },
   {
    "duration": 25,
    "start_time": "2023-07-17T15:11:43.115Z"
   },
   {
    "duration": 13,
    "start_time": "2023-07-17T15:11:43.142Z"
   },
   {
    "duration": 9,
    "start_time": "2023-07-17T15:11:43.159Z"
   },
   {
    "duration": 34,
    "start_time": "2023-07-17T15:11:43.170Z"
   },
   {
    "duration": 56,
    "start_time": "2023-07-17T15:11:43.206Z"
   },
   {
    "duration": 6,
    "start_time": "2023-07-17T15:11:43.267Z"
   },
   {
    "duration": 75,
    "start_time": "2023-07-17T15:11:43.275Z"
   },
   {
    "duration": 90,
    "start_time": "2023-07-17T15:11:43.352Z"
   },
   {
    "duration": 22,
    "start_time": "2023-07-17T15:11:43.445Z"
   },
   {
    "duration": 9,
    "start_time": "2023-07-17T15:11:43.469Z"
   },
   {
    "duration": 30,
    "start_time": "2023-07-17T15:11:43.480Z"
   },
   {
    "duration": 205,
    "start_time": "2023-07-17T15:11:43.512Z"
   },
   {
    "duration": 7,
    "start_time": "2023-07-17T15:11:43.719Z"
   },
   {
    "duration": 12,
    "start_time": "2023-07-17T15:11:43.727Z"
   },
   {
    "duration": 154,
    "start_time": "2023-07-17T15:11:43.741Z"
   },
   {
    "duration": 223,
    "start_time": "2023-07-17T15:11:43.897Z"
   },
   {
    "duration": 13,
    "start_time": "2023-07-17T15:11:44.123Z"
   },
   {
    "duration": 10,
    "start_time": "2023-07-17T15:11:44.141Z"
   },
   {
    "duration": 49,
    "start_time": "2023-07-17T15:11:44.153Z"
   },
   {
    "duration": 23,
    "start_time": "2023-07-17T15:11:44.206Z"
   },
   {
    "duration": 26,
    "start_time": "2023-07-17T15:11:44.232Z"
   },
   {
    "duration": 21,
    "start_time": "2023-07-17T15:11:44.260Z"
   },
   {
    "duration": 69,
    "start_time": "2023-07-17T15:11:44.283Z"
   },
   {
    "duration": 431,
    "start_time": "2023-07-17T15:11:44.366Z"
   },
   {
    "duration": 1089,
    "start_time": "2023-07-17T15:11:44.798Z"
   },
   {
    "duration": 145,
    "start_time": "2023-07-17T15:11:45.889Z"
   },
   {
    "duration": 1204,
    "start_time": "2023-07-17T15:11:46.036Z"
   },
   {
    "duration": 1163,
    "start_time": "2023-07-17T15:11:47.242Z"
   },
   {
    "duration": 1119,
    "start_time": "2023-07-17T15:11:48.407Z"
   },
   {
    "duration": 1215,
    "start_time": "2023-07-17T15:11:49.531Z"
   },
   {
    "duration": 39,
    "start_time": "2023-07-17T15:11:50.748Z"
   },
   {
    "duration": 37,
    "start_time": "2023-07-17T15:11:50.788Z"
   },
   {
    "duration": 58,
    "start_time": "2023-07-17T15:11:50.827Z"
   },
   {
    "duration": 11,
    "start_time": "2023-07-17T15:11:50.888Z"
   },
   {
    "duration": 38,
    "start_time": "2023-07-17T15:11:50.902Z"
   },
   {
    "duration": 46,
    "start_time": "2023-07-17T15:11:50.943Z"
   },
   {
    "duration": 38,
    "start_time": "2023-07-17T15:11:50.992Z"
   },
   {
    "duration": 0,
    "start_time": "2023-07-17T15:11:51.033Z"
   },
   {
    "duration": 0,
    "start_time": "2023-07-17T15:11:51.035Z"
   },
   {
    "duration": 1,
    "start_time": "2023-07-17T15:11:51.036Z"
   },
   {
    "duration": 0,
    "start_time": "2023-07-17T15:11:51.038Z"
   },
   {
    "duration": 0,
    "start_time": "2023-07-17T15:11:51.039Z"
   },
   {
    "duration": 0,
    "start_time": "2023-07-17T15:11:51.041Z"
   },
   {
    "duration": 0,
    "start_time": "2023-07-17T15:11:51.042Z"
   },
   {
    "duration": 0,
    "start_time": "2023-07-17T15:11:51.044Z"
   },
   {
    "duration": 0,
    "start_time": "2023-07-17T15:11:51.045Z"
   },
   {
    "duration": 0,
    "start_time": "2023-07-17T15:11:51.046Z"
   },
   {
    "duration": 0,
    "start_time": "2023-07-17T15:11:51.048Z"
   },
   {
    "duration": 0,
    "start_time": "2023-07-17T15:11:51.049Z"
   },
   {
    "duration": 0,
    "start_time": "2023-07-17T15:11:51.050Z"
   },
   {
    "duration": 0,
    "start_time": "2023-07-17T15:11:51.052Z"
   },
   {
    "duration": 0,
    "start_time": "2023-07-17T15:11:51.053Z"
   },
   {
    "duration": 0,
    "start_time": "2023-07-17T15:11:51.068Z"
   },
   {
    "duration": 0,
    "start_time": "2023-07-17T15:11:51.069Z"
   },
   {
    "duration": 0,
    "start_time": "2023-07-17T15:11:51.070Z"
   },
   {
    "duration": 143,
    "start_time": "2023-07-17T15:12:19.800Z"
   },
   {
    "duration": 1356,
    "start_time": "2023-07-17T15:12:30.414Z"
   },
   {
    "duration": 48,
    "start_time": "2023-07-17T15:12:31.776Z"
   },
   {
    "duration": 22,
    "start_time": "2023-07-17T15:12:31.826Z"
   },
   {
    "duration": 54,
    "start_time": "2023-07-17T15:12:31.851Z"
   },
   {
    "duration": 56,
    "start_time": "2023-07-17T15:12:31.907Z"
   },
   {
    "duration": 79,
    "start_time": "2023-07-17T15:12:31.965Z"
   },
   {
    "duration": 29,
    "start_time": "2023-07-17T15:12:32.046Z"
   },
   {
    "duration": 9,
    "start_time": "2023-07-17T15:12:32.077Z"
   },
   {
    "duration": 29,
    "start_time": "2023-07-17T15:12:32.089Z"
   },
   {
    "duration": 34,
    "start_time": "2023-07-17T15:12:32.122Z"
   },
   {
    "duration": 40,
    "start_time": "2023-07-17T15:12:32.158Z"
   },
   {
    "duration": 15,
    "start_time": "2023-07-17T15:12:32.200Z"
   },
   {
    "duration": 42,
    "start_time": "2023-07-17T15:12:32.218Z"
   },
   {
    "duration": 21,
    "start_time": "2023-07-17T15:12:32.263Z"
   },
   {
    "duration": 50,
    "start_time": "2023-07-17T15:12:32.286Z"
   },
   {
    "duration": 61,
    "start_time": "2023-07-17T15:12:32.338Z"
   },
   {
    "duration": 7,
    "start_time": "2023-07-17T15:12:32.401Z"
   },
   {
    "duration": 20,
    "start_time": "2023-07-17T15:12:32.410Z"
   },
   {
    "duration": 21,
    "start_time": "2023-07-17T15:12:32.432Z"
   },
   {
    "duration": 33,
    "start_time": "2023-07-17T15:12:32.456Z"
   },
   {
    "duration": 5,
    "start_time": "2023-07-17T15:12:32.495Z"
   },
   {
    "duration": 29,
    "start_time": "2023-07-17T15:12:32.502Z"
   },
   {
    "duration": 198,
    "start_time": "2023-07-17T15:12:32.534Z"
   },
   {
    "duration": 9,
    "start_time": "2023-07-17T15:12:32.735Z"
   },
   {
    "duration": 29,
    "start_time": "2023-07-17T15:12:32.746Z"
   },
   {
    "duration": 178,
    "start_time": "2023-07-17T15:12:32.778Z"
   },
   {
    "duration": 204,
    "start_time": "2023-07-17T15:12:32.958Z"
   },
   {
    "duration": 15,
    "start_time": "2023-07-17T15:12:33.172Z"
   },
   {
    "duration": 11,
    "start_time": "2023-07-17T15:12:33.190Z"
   },
   {
    "duration": 40,
    "start_time": "2023-07-17T15:12:33.203Z"
   },
   {
    "duration": 19,
    "start_time": "2023-07-17T15:12:33.266Z"
   },
   {
    "duration": 22,
    "start_time": "2023-07-17T15:12:33.288Z"
   },
   {
    "duration": 18,
    "start_time": "2023-07-17T15:12:33.312Z"
   },
   {
    "duration": 85,
    "start_time": "2023-07-17T15:12:33.332Z"
   },
   {
    "duration": 475,
    "start_time": "2023-07-17T15:12:33.419Z"
   },
   {
    "duration": 1240,
    "start_time": "2023-07-17T15:12:33.898Z"
   },
   {
    "duration": 171,
    "start_time": "2023-07-17T15:12:35.139Z"
   },
   {
    "duration": 1337,
    "start_time": "2023-07-17T15:12:35.312Z"
   },
   {
    "duration": 1152,
    "start_time": "2023-07-17T15:12:36.651Z"
   },
   {
    "duration": 1038,
    "start_time": "2023-07-17T15:12:37.805Z"
   },
   {
    "duration": 1172,
    "start_time": "2023-07-17T15:12:38.845Z"
   },
   {
    "duration": 23,
    "start_time": "2023-07-17T15:12:40.019Z"
   },
   {
    "duration": 43,
    "start_time": "2023-07-17T15:12:40.044Z"
   },
   {
    "duration": 27,
    "start_time": "2023-07-17T15:12:40.089Z"
   },
   {
    "duration": 8,
    "start_time": "2023-07-17T15:12:40.118Z"
   },
   {
    "duration": 39,
    "start_time": "2023-07-17T15:12:40.128Z"
   },
   {
    "duration": 37,
    "start_time": "2023-07-17T15:12:40.170Z"
   },
   {
    "duration": 162,
    "start_time": "2023-07-17T15:12:40.209Z"
   },
   {
    "duration": 32,
    "start_time": "2023-07-17T15:12:40.389Z"
   },
   {
    "duration": 44,
    "start_time": "2023-07-17T15:12:40.423Z"
   },
   {
    "duration": 213,
    "start_time": "2023-07-17T15:12:40.470Z"
   },
   {
    "duration": 19,
    "start_time": "2023-07-17T15:12:40.686Z"
   },
   {
    "duration": 45,
    "start_time": "2023-07-17T15:12:40.708Z"
   },
   {
    "duration": 44,
    "start_time": "2023-07-17T15:12:40.755Z"
   },
   {
    "duration": 182,
    "start_time": "2023-07-17T15:12:40.802Z"
   },
   {
    "duration": 33,
    "start_time": "2023-07-17T15:12:40.987Z"
   },
   {
    "duration": 68,
    "start_time": "2023-07-17T15:12:41.023Z"
   },
   {
    "duration": 13,
    "start_time": "2023-07-17T15:12:41.093Z"
   },
   {
    "duration": 16,
    "start_time": "2023-07-17T15:12:41.109Z"
   },
   {
    "duration": 12,
    "start_time": "2023-07-17T15:12:41.127Z"
   },
   {
    "duration": 15,
    "start_time": "2023-07-17T15:12:41.169Z"
   },
   {
    "duration": 23,
    "start_time": "2023-07-17T15:12:41.186Z"
   },
   {
    "duration": 18,
    "start_time": "2023-07-17T15:12:41.212Z"
   },
   {
    "duration": 37,
    "start_time": "2023-07-17T15:12:41.232Z"
   },
   {
    "duration": 100,
    "start_time": "2023-07-17T15:12:41.272Z"
   },
   {
    "duration": 145,
    "start_time": "2023-07-17T15:12:41.376Z"
   },
   {
    "duration": 68,
    "start_time": "2023-07-17T18:28:24.254Z"
   },
   {
    "duration": 1399,
    "start_time": "2023-07-17T18:28:31.826Z"
   },
   {
    "duration": 136,
    "start_time": "2023-07-17T18:28:38.405Z"
   },
   {
    "duration": 62,
    "start_time": "2023-07-17T18:28:50.774Z"
   },
   {
    "duration": 100,
    "start_time": "2023-07-17T18:29:01.974Z"
   },
   {
    "duration": 18,
    "start_time": "2023-07-17T18:29:08.105Z"
   },
   {
    "duration": 3,
    "start_time": "2023-07-17T18:29:11.013Z"
   },
   {
    "duration": 14,
    "start_time": "2023-07-17T18:29:17.589Z"
   },
   {
    "duration": 10,
    "start_time": "2023-07-17T18:30:02.373Z"
   },
   {
    "duration": 10,
    "start_time": "2023-07-17T18:31:00.300Z"
   },
   {
    "duration": 7,
    "start_time": "2023-07-17T18:31:09.945Z"
   },
   {
    "duration": 7,
    "start_time": "2023-07-17T18:31:14.441Z"
   },
   {
    "duration": 7,
    "start_time": "2023-07-17T18:31:18.412Z"
   },
   {
    "duration": 8,
    "start_time": "2023-07-17T18:31:22.825Z"
   },
   {
    "duration": 80,
    "start_time": "2023-07-17T18:31:56.229Z"
   },
   {
    "duration": 9,
    "start_time": "2023-07-17T18:32:01.425Z"
   },
   {
    "duration": 7,
    "start_time": "2023-07-17T18:32:19.274Z"
   },
   {
    "duration": 9,
    "start_time": "2023-07-17T18:32:51.401Z"
   },
   {
    "duration": 18,
    "start_time": "2023-07-17T19:07:51.066Z"
   },
   {
    "duration": 65,
    "start_time": "2023-07-17T19:08:33.183Z"
   },
   {
    "duration": 69,
    "start_time": "2023-07-17T19:09:14.207Z"
   },
   {
    "duration": 404,
    "start_time": "2023-07-17T19:09:51.232Z"
   },
   {
    "duration": 115,
    "start_time": "2023-07-17T19:10:07.582Z"
   },
   {
    "duration": 141,
    "start_time": "2023-07-17T19:10:13.223Z"
   },
   {
    "duration": 105,
    "start_time": "2023-07-17T19:12:05.176Z"
   },
   {
    "duration": 96,
    "start_time": "2023-07-17T19:12:12.075Z"
   },
   {
    "duration": 126,
    "start_time": "2023-07-17T19:20:44.075Z"
   },
   {
    "duration": 119,
    "start_time": "2023-07-17T19:20:59.306Z"
   },
   {
    "duration": 121,
    "start_time": "2023-07-17T19:22:19.746Z"
   },
   {
    "duration": 168,
    "start_time": "2023-07-17T19:22:35.675Z"
   },
   {
    "duration": 213,
    "start_time": "2023-07-17T19:22:43.803Z"
   },
   {
    "duration": 117,
    "start_time": "2023-07-17T19:23:15.581Z"
   },
   {
    "duration": 119,
    "start_time": "2023-07-17T19:23:22.962Z"
   },
   {
    "duration": 91,
    "start_time": "2023-07-17T19:23:29.750Z"
   },
   {
    "duration": 8,
    "start_time": "2023-07-17T19:25:31.782Z"
   },
   {
    "duration": 6,
    "start_time": "2023-07-17T19:25:44.783Z"
   },
   {
    "duration": 7,
    "start_time": "2023-07-17T19:26:02.813Z"
   },
   {
    "duration": 15,
    "start_time": "2023-07-17T19:26:19.789Z"
   },
   {
    "duration": 7,
    "start_time": "2023-07-17T19:26:27.599Z"
   },
   {
    "duration": 17,
    "start_time": "2023-07-17T19:26:32.326Z"
   },
   {
    "duration": 8,
    "start_time": "2023-07-17T19:26:38.401Z"
   },
   {
    "duration": 7,
    "start_time": "2023-07-17T19:26:51.989Z"
   },
   {
    "duration": 6,
    "start_time": "2023-07-17T19:27:22.101Z"
   },
   {
    "duration": 14,
    "start_time": "2023-07-17T19:27:49.358Z"
   },
   {
    "duration": 10,
    "start_time": "2023-07-17T19:27:56.379Z"
   },
   {
    "duration": 168,
    "start_time": "2023-07-17T19:27:58.886Z"
   },
   {
    "duration": 147,
    "start_time": "2023-07-17T19:28:27.370Z"
   },
   {
    "duration": 155,
    "start_time": "2023-07-17T19:28:42.796Z"
   },
   {
    "duration": 160,
    "start_time": "2023-07-17T19:28:47.022Z"
   },
   {
    "duration": 140,
    "start_time": "2023-07-17T19:28:56.408Z"
   },
   {
    "duration": 121,
    "start_time": "2023-07-17T19:29:13.210Z"
   },
   {
    "duration": 42,
    "start_time": "2023-07-17T19:35:58.083Z"
   },
   {
    "duration": 65,
    "start_time": "2023-07-17T19:41:37.988Z"
   },
   {
    "duration": 11,
    "start_time": "2023-07-17T19:41:41.883Z"
   },
   {
    "duration": 9,
    "start_time": "2023-07-17T19:41:47.484Z"
   },
   {
    "duration": 1364,
    "start_time": "2023-07-17T19:42:01.569Z"
   },
   {
    "duration": 89,
    "start_time": "2023-07-17T19:42:02.935Z"
   },
   {
    "duration": 20,
    "start_time": "2023-07-17T19:42:03.027Z"
   },
   {
    "duration": 3,
    "start_time": "2023-07-17T19:42:03.050Z"
   },
   {
    "duration": 44,
    "start_time": "2023-07-17T19:42:03.055Z"
   },
   {
    "duration": 12,
    "start_time": "2023-07-17T19:42:03.102Z"
   },
   {
    "duration": 68,
    "start_time": "2023-07-17T19:42:03.117Z"
   },
   {
    "duration": 12,
    "start_time": "2023-07-17T19:42:03.187Z"
   },
   {
    "duration": 11,
    "start_time": "2023-07-17T19:42:03.201Z"
   },
   {
    "duration": 21,
    "start_time": "2023-07-17T19:42:03.215Z"
   },
   {
    "duration": 18,
    "start_time": "2023-07-17T19:42:03.238Z"
   },
   {
    "duration": 13,
    "start_time": "2023-07-17T19:42:03.259Z"
   },
   {
    "duration": 8,
    "start_time": "2023-07-17T19:42:03.274Z"
   },
   {
    "duration": 12,
    "start_time": "2023-07-17T19:42:03.284Z"
   },
   {
    "duration": 11,
    "start_time": "2023-07-17T19:42:03.298Z"
   },
   {
    "duration": 17,
    "start_time": "2023-07-17T19:42:03.310Z"
   },
   {
    "duration": 58,
    "start_time": "2023-07-17T19:42:03.329Z"
   },
   {
    "duration": 4,
    "start_time": "2023-07-17T19:42:03.389Z"
   },
   {
    "duration": 15,
    "start_time": "2023-07-17T19:42:03.395Z"
   },
   {
    "duration": 25,
    "start_time": "2023-07-17T19:42:03.412Z"
   },
   {
    "duration": 25,
    "start_time": "2023-07-17T19:42:03.439Z"
   },
   {
    "duration": 4,
    "start_time": "2023-07-17T19:42:03.466Z"
   },
   {
    "duration": 17,
    "start_time": "2023-07-17T19:42:03.471Z"
   },
   {
    "duration": 108,
    "start_time": "2023-07-17T19:42:03.490Z"
   },
   {
    "duration": 7,
    "start_time": "2023-07-17T19:42:03.600Z"
   },
   {
    "duration": 10,
    "start_time": "2023-07-17T19:42:03.609Z"
   },
   {
    "duration": 124,
    "start_time": "2023-07-17T19:42:03.621Z"
   },
   {
    "duration": 138,
    "start_time": "2023-07-17T19:42:03.749Z"
   },
   {
    "duration": 10,
    "start_time": "2023-07-17T19:42:03.888Z"
   },
   {
    "duration": 8,
    "start_time": "2023-07-17T19:42:03.899Z"
   },
   {
    "duration": 25,
    "start_time": "2023-07-17T19:42:03.909Z"
   },
   {
    "duration": 28,
    "start_time": "2023-07-17T19:42:03.936Z"
   },
   {
    "duration": 24,
    "start_time": "2023-07-17T19:42:03.966Z"
   },
   {
    "duration": 17,
    "start_time": "2023-07-17T19:42:03.991Z"
   },
   {
    "duration": 84,
    "start_time": "2023-07-17T19:42:04.011Z"
   },
   {
    "duration": 455,
    "start_time": "2023-07-17T19:42:04.097Z"
   },
   {
    "duration": 1005,
    "start_time": "2023-07-17T19:42:04.554Z"
   },
   {
    "duration": 147,
    "start_time": "2023-07-17T19:42:05.561Z"
   },
   {
    "duration": 1120,
    "start_time": "2023-07-17T19:42:05.710Z"
   },
   {
    "duration": 943,
    "start_time": "2023-07-17T19:42:06.832Z"
   },
   {
    "duration": 909,
    "start_time": "2023-07-17T19:42:07.777Z"
   },
   {
    "duration": 1011,
    "start_time": "2023-07-17T19:42:08.687Z"
   },
   {
    "duration": 26,
    "start_time": "2023-07-17T19:42:09.700Z"
   },
   {
    "duration": 48,
    "start_time": "2023-07-17T19:42:09.728Z"
   },
   {
    "duration": 27,
    "start_time": "2023-07-17T19:42:09.778Z"
   },
   {
    "duration": 7,
    "start_time": "2023-07-17T19:42:09.807Z"
   },
   {
    "duration": 20,
    "start_time": "2023-07-17T19:42:09.816Z"
   },
   {
    "duration": 42,
    "start_time": "2023-07-17T19:42:09.838Z"
   },
   {
    "duration": 140,
    "start_time": "2023-07-17T19:42:09.882Z"
   },
   {
    "duration": 40,
    "start_time": "2023-07-17T19:42:10.024Z"
   },
   {
    "duration": 25,
    "start_time": "2023-07-17T19:42:10.067Z"
   },
   {
    "duration": 131,
    "start_time": "2023-07-17T19:42:10.093Z"
   },
   {
    "duration": 12,
    "start_time": "2023-07-17T19:42:10.226Z"
   },
   {
    "duration": 41,
    "start_time": "2023-07-17T19:42:10.239Z"
   },
   {
    "duration": 35,
    "start_time": "2023-07-17T19:42:10.282Z"
   },
   {
    "duration": 115,
    "start_time": "2023-07-17T19:42:10.319Z"
   },
   {
    "duration": 42,
    "start_time": "2023-07-17T19:42:10.436Z"
   },
   {
    "duration": 26,
    "start_time": "2023-07-17T19:42:10.480Z"
   },
   {
    "duration": 8,
    "start_time": "2023-07-17T19:42:10.507Z"
   },
   {
    "duration": 19,
    "start_time": "2023-07-17T19:42:10.516Z"
   },
   {
    "duration": 37,
    "start_time": "2023-07-17T19:42:10.537Z"
   },
   {
    "duration": 31,
    "start_time": "2023-07-17T19:42:10.575Z"
   },
   {
    "duration": 16,
    "start_time": "2023-07-17T19:42:10.608Z"
   },
   {
    "duration": 29,
    "start_time": "2023-07-17T19:42:10.625Z"
   },
   {
    "duration": 52,
    "start_time": "2023-07-17T19:42:10.656Z"
   },
   {
    "duration": 11,
    "start_time": "2023-07-17T19:42:10.710Z"
   },
   {
    "duration": 92,
    "start_time": "2023-07-17T19:42:10.723Z"
   },
   {
    "duration": 995,
    "start_time": "2023-07-17T19:48:26.571Z"
   },
   {
    "duration": 25,
    "start_time": "2023-07-17T19:48:52.047Z"
   },
   {
    "duration": 20,
    "start_time": "2023-07-17T19:48:56.083Z"
   },
   {
    "duration": 24,
    "start_time": "2023-07-17T19:49:30.755Z"
   },
   {
    "duration": 17,
    "start_time": "2023-07-17T19:50:19.502Z"
   },
   {
    "duration": 44,
    "start_time": "2023-07-17T20:07:47.998Z"
   },
   {
    "duration": 28,
    "start_time": "2023-07-17T20:08:20.794Z"
   },
   {
    "duration": 26,
    "start_time": "2023-07-17T20:09:35.664Z"
   },
   {
    "duration": 404,
    "start_time": "2023-07-17T20:09:41.855Z"
   },
   {
    "duration": 417,
    "start_time": "2023-07-17T20:12:22.909Z"
   },
   {
    "duration": 11,
    "start_time": "2023-07-17T20:29:01.225Z"
   },
   {
    "duration": 13,
    "start_time": "2023-07-17T20:29:07.707Z"
   },
   {
    "duration": 3,
    "start_time": "2023-07-17T20:30:25.160Z"
   },
   {
    "duration": 1132,
    "start_time": "2023-07-17T20:30:39.620Z"
   },
   {
    "duration": 1043,
    "start_time": "2023-07-17T20:30:59.024Z"
   },
   {
    "duration": 1110,
    "start_time": "2023-07-17T20:31:27.922Z"
   },
   {
    "duration": 1128,
    "start_time": "2023-07-17T20:32:55.917Z"
   },
   {
    "duration": 7,
    "start_time": "2023-07-17T20:33:30.749Z"
   },
   {
    "duration": 6,
    "start_time": "2023-07-17T20:33:44.956Z"
   },
   {
    "duration": 70,
    "start_time": "2023-07-17T20:34:26.961Z"
   },
   {
    "duration": 5,
    "start_time": "2023-07-17T20:34:36.459Z"
   },
   {
    "duration": 68,
    "start_time": "2023-07-17T20:37:17.567Z"
   },
   {
    "duration": 1044,
    "start_time": "2023-07-17T20:37:26.181Z"
   },
   {
    "duration": 12,
    "start_time": "2023-07-17T20:37:37.049Z"
   },
   {
    "duration": 958,
    "start_time": "2023-07-17T20:39:08.656Z"
   },
   {
    "duration": 254,
    "start_time": "2023-07-17T20:39:18.453Z"
   },
   {
    "duration": 997,
    "start_time": "2023-07-17T20:39:28.405Z"
   },
   {
    "duration": 938,
    "start_time": "2023-07-17T20:39:38.455Z"
   },
   {
    "duration": 926,
    "start_time": "2023-07-17T20:39:42.287Z"
   },
   {
    "duration": 1060,
    "start_time": "2023-07-17T20:39:55.178Z"
   },
   {
    "duration": 903,
    "start_time": "2023-07-17T20:41:11.377Z"
   },
   {
    "duration": 978,
    "start_time": "2023-07-17T20:42:03.294Z"
   },
   {
    "duration": 1830,
    "start_time": "2023-07-17T20:42:24.860Z"
   },
   {
    "duration": 1669,
    "start_time": "2023-07-17T20:43:31.319Z"
   },
   {
    "duration": 1859,
    "start_time": "2023-07-17T20:43:47.124Z"
   },
   {
    "duration": 1878,
    "start_time": "2023-07-17T20:43:57.627Z"
   },
   {
    "duration": 1534,
    "start_time": "2023-07-17T20:44:49.864Z"
   },
   {
    "duration": 4603,
    "start_time": "2023-07-17T20:44:59.679Z"
   },
   {
    "duration": 38933,
    "start_time": "2023-07-17T20:45:12.183Z"
   },
   {
    "duration": 48,
    "start_time": "2023-07-17T20:51:27.384Z"
   },
   {
    "duration": 76,
    "start_time": "2023-07-17T20:51:40.510Z"
   },
   {
    "duration": 28,
    "start_time": "2023-07-17T20:51:44.229Z"
   },
   {
    "duration": 19,
    "start_time": "2023-07-17T21:11:02.691Z"
   },
   {
    "duration": 14,
    "start_time": "2023-07-17T21:27:48.472Z"
   },
   {
    "duration": 3,
    "start_time": "2023-07-17T21:28:32.086Z"
   },
   {
    "duration": 12,
    "start_time": "2023-07-17T21:28:47.868Z"
   },
   {
    "duration": 16,
    "start_time": "2023-07-17T21:28:53.858Z"
   },
   {
    "duration": 10,
    "start_time": "2023-07-17T21:33:05.895Z"
   },
   {
    "duration": 19,
    "start_time": "2023-07-17T21:36:45.965Z"
   },
   {
    "duration": 1113,
    "start_time": "2023-07-18T18:06:54.876Z"
   },
   {
    "duration": 106,
    "start_time": "2023-07-18T18:06:55.990Z"
   },
   {
    "duration": 17,
    "start_time": "2023-07-18T18:06:56.098Z"
   },
   {
    "duration": 3,
    "start_time": "2023-07-18T18:06:56.117Z"
   },
   {
    "duration": 13,
    "start_time": "2023-07-18T18:06:56.122Z"
   },
   {
    "duration": 7,
    "start_time": "2023-07-18T18:06:56.136Z"
   },
   {
    "duration": 55,
    "start_time": "2023-07-18T18:06:56.145Z"
   },
   {
    "duration": 9,
    "start_time": "2023-07-18T18:06:56.201Z"
   },
   {
    "duration": 4,
    "start_time": "2023-07-18T18:06:56.211Z"
   },
   {
    "duration": 6,
    "start_time": "2023-07-18T18:06:56.217Z"
   },
   {
    "duration": 5,
    "start_time": "2023-07-18T18:06:56.225Z"
   },
   {
    "duration": 42,
    "start_time": "2023-07-18T18:06:56.232Z"
   },
   {
    "duration": 6,
    "start_time": "2023-07-18T18:06:56.275Z"
   },
   {
    "duration": 14,
    "start_time": "2023-07-18T18:06:56.282Z"
   },
   {
    "duration": 6,
    "start_time": "2023-07-18T18:06:56.297Z"
   },
   {
    "duration": 17,
    "start_time": "2023-07-18T18:06:56.304Z"
   },
   {
    "duration": 54,
    "start_time": "2023-07-18T18:06:56.323Z"
   },
   {
    "duration": 5,
    "start_time": "2023-07-18T18:06:56.378Z"
   },
   {
    "duration": 10,
    "start_time": "2023-07-18T18:06:56.384Z"
   },
   {
    "duration": 16,
    "start_time": "2023-07-18T18:06:56.396Z"
   },
   {
    "duration": 8,
    "start_time": "2023-07-18T18:06:56.413Z"
   },
   {
    "duration": 3,
    "start_time": "2023-07-18T18:06:56.423Z"
   },
   {
    "duration": 45,
    "start_time": "2023-07-18T18:06:56.428Z"
   },
   {
    "duration": 98,
    "start_time": "2023-07-18T18:06:56.474Z"
   },
   {
    "duration": 5,
    "start_time": "2023-07-18T18:06:56.573Z"
   },
   {
    "duration": 30,
    "start_time": "2023-07-18T18:06:56.580Z"
   },
   {
    "duration": 97,
    "start_time": "2023-07-18T18:06:56.611Z"
   },
   {
    "duration": 111,
    "start_time": "2023-07-18T18:06:56.711Z"
   },
   {
    "duration": 9,
    "start_time": "2023-07-18T18:06:56.823Z"
   },
   {
    "duration": 7,
    "start_time": "2023-07-18T18:06:56.833Z"
   },
   {
    "duration": 38,
    "start_time": "2023-07-18T18:06:56.841Z"
   },
   {
    "duration": 6,
    "start_time": "2023-07-18T18:06:56.881Z"
   },
   {
    "duration": 16,
    "start_time": "2023-07-18T18:06:56.888Z"
   },
   {
    "duration": 13,
    "start_time": "2023-07-18T18:06:56.906Z"
   },
   {
    "duration": 79,
    "start_time": "2023-07-18T18:06:56.920Z"
   },
   {
    "duration": 382,
    "start_time": "2023-07-18T18:06:57.001Z"
   },
   {
    "duration": 3,
    "start_time": "2023-07-18T18:06:57.384Z"
   },
   {
    "duration": 35,
    "start_time": "2023-07-18T18:06:57.389Z"
   },
   {
    "duration": 33948,
    "start_time": "2023-07-18T18:06:57.425Z"
   },
   {
    "duration": 108,
    "start_time": "2023-07-18T18:07:31.375Z"
   },
   {
    "duration": 1493,
    "start_time": "2023-07-18T18:07:31.484Z"
   },
   {
    "duration": 2370,
    "start_time": "2023-07-18T18:07:32.979Z"
   },
   {
    "duration": 833,
    "start_time": "2023-07-18T18:07:35.351Z"
   },
   {
    "duration": 879,
    "start_time": "2023-07-18T18:07:36.185Z"
   },
   {
    "duration": 26,
    "start_time": "2023-07-18T18:07:37.066Z"
   },
   {
    "duration": 22,
    "start_time": "2023-07-18T18:07:37.094Z"
   },
   {
    "duration": 51,
    "start_time": "2023-07-18T18:07:37.118Z"
   },
   {
    "duration": 7,
    "start_time": "2023-07-18T18:07:37.171Z"
   },
   {
    "duration": 77,
    "start_time": "2023-07-18T18:07:37.180Z"
   },
   {
    "duration": 34,
    "start_time": "2023-07-18T18:07:37.259Z"
   },
   {
    "duration": 27,
    "start_time": "2023-07-18T18:07:37.296Z"
   },
   {
    "duration": 21,
    "start_time": "2023-07-18T18:07:37.325Z"
   },
   {
    "duration": 139,
    "start_time": "2023-07-18T18:07:37.348Z"
   },
   {
    "duration": 14,
    "start_time": "2023-07-18T18:07:37.489Z"
   },
   {
    "duration": 28,
    "start_time": "2023-07-18T18:07:37.504Z"
   },
   {
    "duration": 50,
    "start_time": "2023-07-18T18:07:37.533Z"
   },
   {
    "duration": 127,
    "start_time": "2023-07-18T18:07:37.586Z"
   },
   {
    "duration": 28,
    "start_time": "2023-07-18T18:07:37.715Z"
   },
   {
    "duration": 44,
    "start_time": "2023-07-18T18:07:37.745Z"
   },
   {
    "duration": 16,
    "start_time": "2023-07-18T18:07:37.791Z"
   },
   {
    "duration": 13,
    "start_time": "2023-07-18T18:07:37.808Z"
   },
   {
    "duration": 31,
    "start_time": "2023-07-18T18:07:37.823Z"
   },
   {
    "duration": 17,
    "start_time": "2023-07-18T18:07:37.855Z"
   },
   {
    "duration": 19,
    "start_time": "2023-07-18T18:07:37.874Z"
   },
   {
    "duration": 12,
    "start_time": "2023-07-18T18:07:37.895Z"
   },
   {
    "duration": 34,
    "start_time": "2023-07-18T18:07:37.909Z"
   },
   {
    "duration": 9,
    "start_time": "2023-07-18T18:07:37.945Z"
   },
   {
    "duration": 112,
    "start_time": "2023-07-18T18:07:37.956Z"
   },
   {
    "duration": 22,
    "start_time": "2023-07-18T18:16:10.449Z"
   },
   {
    "duration": 93,
    "start_time": "2023-07-18T18:16:16.862Z"
   },
   {
    "duration": 285,
    "start_time": "2023-07-18T18:17:14.350Z"
   },
   {
    "duration": 581,
    "start_time": "2023-07-18T18:17:24.607Z"
   },
   {
    "duration": 786,
    "start_time": "2023-07-18T18:21:13.987Z"
   },
   {
    "duration": 4,
    "start_time": "2023-07-18T18:22:04.014Z"
   },
   {
    "duration": 1136,
    "start_time": "2023-07-18T18:22:26.513Z"
   },
   {
    "duration": 85,
    "start_time": "2023-07-18T18:23:25.773Z"
   },
   {
    "duration": 580,
    "start_time": "2023-07-18T18:23:34.098Z"
   },
   {
    "duration": 37,
    "start_time": "2023-07-18T18:23:44.181Z"
   },
   {
    "duration": 10,
    "start_time": "2023-07-18T18:25:50.704Z"
   },
   {
    "duration": 10,
    "start_time": "2023-07-18T18:25:57.355Z"
   },
   {
    "duration": 499,
    "start_time": "2023-07-18T18:26:23.148Z"
   },
   {
    "duration": 9,
    "start_time": "2023-07-18T18:27:16.515Z"
   },
   {
    "duration": 10,
    "start_time": "2023-07-18T18:27:25.460Z"
   },
   {
    "duration": 9,
    "start_time": "2023-07-18T18:27:43.684Z"
   },
   {
    "duration": 4,
    "start_time": "2023-07-18T18:34:04.274Z"
   },
   {
    "duration": 22,
    "start_time": "2023-07-18T18:34:09.169Z"
   },
   {
    "duration": 508,
    "start_time": "2023-07-18T18:35:36.360Z"
   },
   {
    "duration": 12,
    "start_time": "2023-07-18T18:37:55.136Z"
   },
   {
    "duration": 6,
    "start_time": "2023-07-18T18:39:37.154Z"
   },
   {
    "duration": 11,
    "start_time": "2023-07-18T18:40:19.090Z"
   },
   {
    "duration": 21,
    "start_time": "2023-07-18T18:40:24.131Z"
   },
   {
    "duration": 41,
    "start_time": "2023-07-18T18:40:34.428Z"
   },
   {
    "duration": 9,
    "start_time": "2023-07-18T18:41:18.826Z"
   },
   {
    "duration": 25,
    "start_time": "2023-07-18T18:41:21.420Z"
   },
   {
    "duration": 61,
    "start_time": "2023-07-18T18:43:13.403Z"
   },
   {
    "duration": 43,
    "start_time": "2023-07-18T18:43:52.993Z"
   },
   {
    "duration": 43,
    "start_time": "2023-07-18T18:44:19.151Z"
   },
   {
    "duration": 55,
    "start_time": "2023-07-18T18:45:16.539Z"
   },
   {
    "duration": 41,
    "start_time": "2023-07-18T18:45:52.884Z"
   },
   {
    "duration": 53,
    "start_time": "2023-07-18T18:46:50.127Z"
   },
   {
    "duration": 46,
    "start_time": "2023-07-18T18:48:33.758Z"
   },
   {
    "duration": 40,
    "start_time": "2023-07-18T18:49:19.812Z"
   },
   {
    "duration": 43,
    "start_time": "2023-07-18T18:50:17.553Z"
   },
   {
    "duration": 40,
    "start_time": "2023-07-18T18:50:57.175Z"
   },
   {
    "duration": 46,
    "start_time": "2023-07-18T18:52:32.441Z"
   },
   {
    "duration": 48,
    "start_time": "2023-07-18T18:53:40.936Z"
   },
   {
    "duration": 97,
    "start_time": "2023-07-18T19:57:08.341Z"
   },
   {
    "duration": 73,
    "start_time": "2023-07-18T19:57:37.968Z"
   },
   {
    "duration": 198,
    "start_time": "2023-07-18T20:34:56.541Z"
   },
   {
    "duration": 1507,
    "start_time": "2023-07-18T20:37:38.017Z"
   },
   {
    "duration": 70,
    "start_time": "2023-07-18T20:37:39.526Z"
   },
   {
    "duration": 15,
    "start_time": "2023-07-18T20:37:39.598Z"
   },
   {
    "duration": 15,
    "start_time": "2023-07-18T20:37:39.615Z"
   },
   {
    "duration": 198,
    "start_time": "2023-07-18T20:37:39.632Z"
   },
   {
    "duration": 12,
    "start_time": "2023-07-18T20:37:39.831Z"
   },
   {
    "duration": 8,
    "start_time": "2023-07-18T20:37:39.844Z"
   },
   {
    "duration": 36,
    "start_time": "2023-07-18T20:37:39.853Z"
   },
   {
    "duration": 9,
    "start_time": "2023-07-18T20:37:39.890Z"
   },
   {
    "duration": 4,
    "start_time": "2023-07-18T20:37:39.901Z"
   },
   {
    "duration": 10,
    "start_time": "2023-07-18T20:37:39.906Z"
   },
   {
    "duration": 6,
    "start_time": "2023-07-18T20:37:39.917Z"
   },
   {
    "duration": 17,
    "start_time": "2023-07-18T20:37:39.924Z"
   },
   {
    "duration": 13,
    "start_time": "2023-07-18T20:37:39.943Z"
   },
   {
    "duration": 21,
    "start_time": "2023-07-18T20:37:39.958Z"
   },
   {
    "duration": 13,
    "start_time": "2023-07-18T20:37:39.981Z"
   },
   {
    "duration": 30,
    "start_time": "2023-07-18T20:37:39.996Z"
   },
   {
    "duration": 31,
    "start_time": "2023-07-18T20:37:40.027Z"
   },
   {
    "duration": 5,
    "start_time": "2023-07-18T20:37:40.059Z"
   },
   {
    "duration": 12,
    "start_time": "2023-07-18T20:37:40.065Z"
   },
   {
    "duration": 21,
    "start_time": "2023-07-18T20:37:40.078Z"
   },
   {
    "duration": 9,
    "start_time": "2023-07-18T20:37:40.100Z"
   },
   {
    "duration": 6,
    "start_time": "2023-07-18T20:37:40.110Z"
   },
   {
    "duration": 25,
    "start_time": "2023-07-18T20:37:40.117Z"
   },
   {
    "duration": 87,
    "start_time": "2023-07-18T20:37:40.144Z"
   },
   {
    "duration": 5,
    "start_time": "2023-07-18T20:37:40.233Z"
   },
   {
    "duration": 8,
    "start_time": "2023-07-18T20:37:40.239Z"
   },
   {
    "duration": 98,
    "start_time": "2023-07-18T20:37:40.250Z"
   },
   {
    "duration": 179,
    "start_time": "2023-07-18T20:37:40.349Z"
   },
   {
    "duration": 8,
    "start_time": "2023-07-18T20:37:40.529Z"
   },
   {
    "duration": 6,
    "start_time": "2023-07-18T20:37:40.538Z"
   },
   {
    "duration": 37,
    "start_time": "2023-07-18T20:37:40.546Z"
   },
   {
    "duration": 7,
    "start_time": "2023-07-18T20:37:40.584Z"
   },
   {
    "duration": 18,
    "start_time": "2023-07-18T20:37:40.592Z"
   },
   {
    "duration": 13,
    "start_time": "2023-07-18T20:37:40.611Z"
   },
   {
    "duration": 68,
    "start_time": "2023-07-18T20:37:40.626Z"
   },
   {
    "duration": 346,
    "start_time": "2023-07-18T20:37:40.696Z"
   },
   {
    "duration": 3,
    "start_time": "2023-07-18T20:37:41.044Z"
   },
   {
    "duration": 129,
    "start_time": "2023-07-18T20:37:41.049Z"
   },
   {
    "duration": 0,
    "start_time": "2023-07-18T20:37:41.179Z"
   },
   {
    "duration": 0,
    "start_time": "2023-07-18T20:37:41.180Z"
   },
   {
    "duration": 0,
    "start_time": "2023-07-18T20:37:41.181Z"
   },
   {
    "duration": 0,
    "start_time": "2023-07-18T20:37:41.182Z"
   },
   {
    "duration": 0,
    "start_time": "2023-07-18T20:37:41.183Z"
   },
   {
    "duration": 0,
    "start_time": "2023-07-18T20:37:41.184Z"
   },
   {
    "duration": 0,
    "start_time": "2023-07-18T20:37:41.185Z"
   },
   {
    "duration": 1,
    "start_time": "2023-07-18T20:37:41.185Z"
   },
   {
    "duration": 0,
    "start_time": "2023-07-18T20:37:41.187Z"
   },
   {
    "duration": 0,
    "start_time": "2023-07-18T20:37:41.188Z"
   },
   {
    "duration": 1,
    "start_time": "2023-07-18T20:37:41.188Z"
   },
   {
    "duration": 0,
    "start_time": "2023-07-18T20:37:41.189Z"
   },
   {
    "duration": 0,
    "start_time": "2023-07-18T20:37:41.191Z"
   },
   {
    "duration": 0,
    "start_time": "2023-07-18T20:37:41.191Z"
   },
   {
    "duration": 0,
    "start_time": "2023-07-18T20:37:41.193Z"
   },
   {
    "duration": 0,
    "start_time": "2023-07-18T20:37:41.194Z"
   },
   {
    "duration": 0,
    "start_time": "2023-07-18T20:37:41.195Z"
   },
   {
    "duration": 0,
    "start_time": "2023-07-18T20:37:41.195Z"
   },
   {
    "duration": 0,
    "start_time": "2023-07-18T20:37:41.196Z"
   },
   {
    "duration": 0,
    "start_time": "2023-07-18T20:37:41.197Z"
   },
   {
    "duration": 0,
    "start_time": "2023-07-18T20:37:41.198Z"
   },
   {
    "duration": 0,
    "start_time": "2023-07-18T20:37:41.199Z"
   },
   {
    "duration": 0,
    "start_time": "2023-07-18T20:37:41.200Z"
   },
   {
    "duration": 0,
    "start_time": "2023-07-18T20:37:41.201Z"
   },
   {
    "duration": 0,
    "start_time": "2023-07-18T20:37:41.202Z"
   },
   {
    "duration": 0,
    "start_time": "2023-07-18T20:37:41.203Z"
   },
   {
    "duration": 0,
    "start_time": "2023-07-18T20:37:41.204Z"
   },
   {
    "duration": 0,
    "start_time": "2023-07-18T20:37:41.205Z"
   },
   {
    "duration": 0,
    "start_time": "2023-07-18T20:37:41.206Z"
   },
   {
    "duration": 0,
    "start_time": "2023-07-18T20:37:41.207Z"
   },
   {
    "duration": 196,
    "start_time": "2023-07-18T20:39:34.666Z"
   },
   {
    "duration": 211,
    "start_time": "2023-07-18T20:41:47.119Z"
   },
   {
    "duration": 144,
    "start_time": "2023-07-18T20:42:39.954Z"
   },
   {
    "duration": 1754,
    "start_time": "2023-07-20T17:53:06.263Z"
   },
   {
    "duration": 74,
    "start_time": "2023-07-20T17:53:08.019Z"
   },
   {
    "duration": 14,
    "start_time": "2023-07-20T17:53:08.095Z"
   },
   {
    "duration": 27,
    "start_time": "2023-07-20T17:53:08.111Z"
   },
   {
    "duration": 72,
    "start_time": "2023-07-20T17:53:08.139Z"
   },
   {
    "duration": 25,
    "start_time": "2023-07-20T17:53:08.213Z"
   },
   {
    "duration": 66,
    "start_time": "2023-07-20T17:53:08.239Z"
   },
   {
    "duration": 8,
    "start_time": "2023-07-20T17:53:08.306Z"
   },
   {
    "duration": 44,
    "start_time": "2023-07-20T17:53:08.316Z"
   },
   {
    "duration": 24,
    "start_time": "2023-07-20T17:53:08.364Z"
   },
   {
    "duration": 84,
    "start_time": "2023-07-20T17:53:08.389Z"
   },
   {
    "duration": 31,
    "start_time": "2023-07-20T17:53:08.475Z"
   },
   {
    "duration": 7,
    "start_time": "2023-07-20T17:53:08.508Z"
   },
   {
    "duration": 8,
    "start_time": "2023-07-20T17:53:08.517Z"
   },
   {
    "duration": 41,
    "start_time": "2023-07-20T17:53:08.526Z"
   },
   {
    "duration": 32,
    "start_time": "2023-07-20T17:53:08.569Z"
   },
   {
    "duration": 36,
    "start_time": "2023-07-20T17:53:08.603Z"
   },
   {
    "duration": 4,
    "start_time": "2023-07-20T17:53:08.641Z"
   },
   {
    "duration": 6,
    "start_time": "2023-07-20T17:53:08.646Z"
   },
   {
    "duration": 33,
    "start_time": "2023-07-20T17:53:08.653Z"
   },
   {
    "duration": 16,
    "start_time": "2023-07-20T17:53:08.688Z"
   },
   {
    "duration": 33,
    "start_time": "2023-07-20T17:53:08.706Z"
   },
   {
    "duration": 19,
    "start_time": "2023-07-20T17:53:08.741Z"
   },
   {
    "duration": 88,
    "start_time": "2023-07-20T17:53:08.762Z"
   },
   {
    "duration": 6,
    "start_time": "2023-07-20T17:53:08.851Z"
   },
   {
    "duration": 29,
    "start_time": "2023-07-20T17:53:08.859Z"
   },
   {
    "duration": 99,
    "start_time": "2023-07-20T17:53:08.890Z"
   },
   {
    "duration": 162,
    "start_time": "2023-07-20T17:53:08.992Z"
   },
   {
    "duration": 8,
    "start_time": "2023-07-20T17:53:09.156Z"
   },
   {
    "duration": 8,
    "start_time": "2023-07-20T17:53:09.166Z"
   },
   {
    "duration": 31,
    "start_time": "2023-07-20T17:53:09.176Z"
   },
   {
    "duration": 6,
    "start_time": "2023-07-20T17:53:09.209Z"
   },
   {
    "duration": 20,
    "start_time": "2023-07-20T17:53:09.217Z"
   },
   {
    "duration": 22,
    "start_time": "2023-07-20T17:53:09.239Z"
   },
   {
    "duration": 48,
    "start_time": "2023-07-20T17:53:09.262Z"
   },
   {
    "duration": 372,
    "start_time": "2023-07-20T17:53:09.312Z"
   },
   {
    "duration": 3,
    "start_time": "2023-07-20T17:53:09.686Z"
   },
   {
    "duration": 111,
    "start_time": "2023-07-20T17:53:09.691Z"
   },
   {
    "duration": 0,
    "start_time": "2023-07-20T17:53:09.804Z"
   },
   {
    "duration": 0,
    "start_time": "2023-07-20T17:53:09.806Z"
   },
   {
    "duration": 0,
    "start_time": "2023-07-20T17:53:09.807Z"
   },
   {
    "duration": 0,
    "start_time": "2023-07-20T17:53:09.808Z"
   },
   {
    "duration": 0,
    "start_time": "2023-07-20T17:53:09.809Z"
   },
   {
    "duration": 0,
    "start_time": "2023-07-20T17:53:09.810Z"
   },
   {
    "duration": 0,
    "start_time": "2023-07-20T17:53:09.811Z"
   },
   {
    "duration": 0,
    "start_time": "2023-07-20T17:53:09.812Z"
   },
   {
    "duration": 0,
    "start_time": "2023-07-20T17:53:09.813Z"
   },
   {
    "duration": 0,
    "start_time": "2023-07-20T17:53:09.814Z"
   },
   {
    "duration": 0,
    "start_time": "2023-07-20T17:53:09.815Z"
   },
   {
    "duration": 0,
    "start_time": "2023-07-20T17:53:09.816Z"
   },
   {
    "duration": 0,
    "start_time": "2023-07-20T17:53:09.817Z"
   },
   {
    "duration": 0,
    "start_time": "2023-07-20T17:53:09.818Z"
   },
   {
    "duration": 0,
    "start_time": "2023-07-20T17:53:09.819Z"
   },
   {
    "duration": 0,
    "start_time": "2023-07-20T17:53:09.820Z"
   },
   {
    "duration": 0,
    "start_time": "2023-07-20T17:53:09.821Z"
   },
   {
    "duration": 0,
    "start_time": "2023-07-20T17:53:09.822Z"
   },
   {
    "duration": 0,
    "start_time": "2023-07-20T17:53:09.823Z"
   },
   {
    "duration": 0,
    "start_time": "2023-07-20T17:53:09.824Z"
   },
   {
    "duration": 0,
    "start_time": "2023-07-20T17:53:09.824Z"
   },
   {
    "duration": 0,
    "start_time": "2023-07-20T17:53:09.826Z"
   },
   {
    "duration": 0,
    "start_time": "2023-07-20T17:53:09.826Z"
   },
   {
    "duration": 0,
    "start_time": "2023-07-20T17:53:09.828Z"
   },
   {
    "duration": 0,
    "start_time": "2023-07-20T17:53:09.828Z"
   },
   {
    "duration": 0,
    "start_time": "2023-07-20T17:53:09.829Z"
   },
   {
    "duration": 0,
    "start_time": "2023-07-20T17:53:09.830Z"
   },
   {
    "duration": 0,
    "start_time": "2023-07-20T17:53:09.831Z"
   },
   {
    "duration": 0,
    "start_time": "2023-07-20T17:53:09.832Z"
   },
   {
    "duration": 0,
    "start_time": "2023-07-20T17:53:09.833Z"
   },
   {
    "duration": 1551,
    "start_time": "2023-07-20T17:57:50.923Z"
   },
   {
    "duration": 87,
    "start_time": "2023-07-20T17:57:52.477Z"
   },
   {
    "duration": 19,
    "start_time": "2023-07-20T17:57:52.566Z"
   },
   {
    "duration": 7,
    "start_time": "2023-07-20T17:57:52.587Z"
   },
   {
    "duration": 17,
    "start_time": "2023-07-20T17:57:52.595Z"
   },
   {
    "duration": 9,
    "start_time": "2023-07-20T17:57:52.613Z"
   },
   {
    "duration": 48,
    "start_time": "2023-07-20T17:57:52.624Z"
   },
   {
    "duration": 10,
    "start_time": "2023-07-20T17:57:52.674Z"
   },
   {
    "duration": 24,
    "start_time": "2023-07-20T17:57:52.686Z"
   },
   {
    "duration": 7,
    "start_time": "2023-07-20T17:57:52.713Z"
   },
   {
    "duration": 8,
    "start_time": "2023-07-20T17:57:52.721Z"
   },
   {
    "duration": 7,
    "start_time": "2023-07-20T17:57:52.730Z"
   },
   {
    "duration": 4,
    "start_time": "2023-07-20T17:57:52.738Z"
   },
   {
    "duration": 11,
    "start_time": "2023-07-20T17:57:52.743Z"
   },
   {
    "duration": 13,
    "start_time": "2023-07-20T17:57:52.756Z"
   },
   {
    "duration": 36,
    "start_time": "2023-07-20T17:57:52.771Z"
   },
   {
    "duration": 34,
    "start_time": "2023-07-20T17:57:52.808Z"
   },
   {
    "duration": 4,
    "start_time": "2023-07-20T17:57:52.843Z"
   },
   {
    "duration": 7,
    "start_time": "2023-07-20T17:57:52.848Z"
   },
   {
    "duration": 42,
    "start_time": "2023-07-20T17:57:52.856Z"
   },
   {
    "duration": 10,
    "start_time": "2023-07-20T17:57:52.900Z"
   },
   {
    "duration": 4,
    "start_time": "2023-07-20T17:57:52.911Z"
   },
   {
    "duration": 15,
    "start_time": "2023-07-20T17:57:52.916Z"
   },
   {
    "duration": 96,
    "start_time": "2023-07-20T17:57:52.933Z"
   },
   {
    "duration": 5,
    "start_time": "2023-07-20T17:57:53.031Z"
   },
   {
    "duration": 41,
    "start_time": "2023-07-20T17:57:53.038Z"
   },
   {
    "duration": 108,
    "start_time": "2023-07-20T17:57:53.081Z"
   },
   {
    "duration": 169,
    "start_time": "2023-07-20T17:57:53.206Z"
   },
   {
    "duration": 9,
    "start_time": "2023-07-20T17:57:53.376Z"
   },
   {
    "duration": 6,
    "start_time": "2023-07-20T17:57:53.387Z"
   },
   {
    "duration": 17,
    "start_time": "2023-07-20T17:57:53.406Z"
   },
   {
    "duration": 6,
    "start_time": "2023-07-20T17:57:53.425Z"
   },
   {
    "duration": 25,
    "start_time": "2023-07-20T17:57:53.432Z"
   },
   {
    "duration": 15,
    "start_time": "2023-07-20T17:57:53.458Z"
   },
   {
    "duration": 51,
    "start_time": "2023-07-20T17:57:53.475Z"
   },
   {
    "duration": 401,
    "start_time": "2023-07-20T17:57:53.527Z"
   },
   {
    "duration": 3,
    "start_time": "2023-07-20T17:57:53.930Z"
   },
   {
    "duration": 186,
    "start_time": "2023-07-20T17:57:53.935Z"
   },
   {
    "duration": 0,
    "start_time": "2023-07-20T17:57:54.122Z"
   },
   {
    "duration": 0,
    "start_time": "2023-07-20T17:57:54.124Z"
   },
   {
    "duration": 0,
    "start_time": "2023-07-20T17:57:54.125Z"
   },
   {
    "duration": 0,
    "start_time": "2023-07-20T17:57:54.126Z"
   },
   {
    "duration": 0,
    "start_time": "2023-07-20T17:57:54.127Z"
   },
   {
    "duration": 0,
    "start_time": "2023-07-20T17:57:54.128Z"
   },
   {
    "duration": 0,
    "start_time": "2023-07-20T17:57:54.130Z"
   },
   {
    "duration": 0,
    "start_time": "2023-07-20T17:57:54.131Z"
   },
   {
    "duration": 0,
    "start_time": "2023-07-20T17:57:54.131Z"
   },
   {
    "duration": 0,
    "start_time": "2023-07-20T17:57:54.132Z"
   },
   {
    "duration": 0,
    "start_time": "2023-07-20T17:57:54.133Z"
   },
   {
    "duration": 0,
    "start_time": "2023-07-20T17:57:54.134Z"
   },
   {
    "duration": 0,
    "start_time": "2023-07-20T17:57:54.135Z"
   },
   {
    "duration": 0,
    "start_time": "2023-07-20T17:57:54.136Z"
   },
   {
    "duration": 0,
    "start_time": "2023-07-20T17:57:54.137Z"
   },
   {
    "duration": 0,
    "start_time": "2023-07-20T17:57:54.138Z"
   },
   {
    "duration": 0,
    "start_time": "2023-07-20T17:57:54.139Z"
   },
   {
    "duration": 0,
    "start_time": "2023-07-20T17:57:54.140Z"
   },
   {
    "duration": 0,
    "start_time": "2023-07-20T17:57:54.141Z"
   },
   {
    "duration": 0,
    "start_time": "2023-07-20T17:57:54.142Z"
   },
   {
    "duration": 0,
    "start_time": "2023-07-20T17:57:54.143Z"
   },
   {
    "duration": 0,
    "start_time": "2023-07-20T17:57:54.144Z"
   },
   {
    "duration": 0,
    "start_time": "2023-07-20T17:57:54.145Z"
   },
   {
    "duration": 0,
    "start_time": "2023-07-20T17:57:54.146Z"
   },
   {
    "duration": 0,
    "start_time": "2023-07-20T17:57:54.147Z"
   },
   {
    "duration": 0,
    "start_time": "2023-07-20T17:57:54.148Z"
   },
   {
    "duration": 0,
    "start_time": "2023-07-20T17:57:54.149Z"
   },
   {
    "duration": 0,
    "start_time": "2023-07-20T17:57:54.150Z"
   },
   {
    "duration": 0,
    "start_time": "2023-07-20T17:57:54.150Z"
   },
   {
    "duration": 0,
    "start_time": "2023-07-20T17:57:54.151Z"
   },
   {
    "duration": 48,
    "start_time": "2023-07-20T18:39:22.990Z"
   },
   {
    "duration": 1713,
    "start_time": "2023-07-20T18:39:32.187Z"
   },
   {
    "duration": 79,
    "start_time": "2023-07-20T18:39:33.902Z"
   },
   {
    "duration": 15,
    "start_time": "2023-07-20T18:39:33.983Z"
   },
   {
    "duration": 5,
    "start_time": "2023-07-20T18:39:34.001Z"
   },
   {
    "duration": 21,
    "start_time": "2023-07-20T18:39:34.007Z"
   },
   {
    "duration": 8,
    "start_time": "2023-07-20T18:39:34.029Z"
   },
   {
    "duration": 44,
    "start_time": "2023-07-20T18:39:34.038Z"
   },
   {
    "duration": 9,
    "start_time": "2023-07-20T18:39:34.084Z"
   },
   {
    "duration": 4,
    "start_time": "2023-07-20T18:39:34.094Z"
   },
   {
    "duration": 24,
    "start_time": "2023-07-20T18:39:34.101Z"
   },
   {
    "duration": 8,
    "start_time": "2023-07-20T18:39:34.126Z"
   },
   {
    "duration": 7,
    "start_time": "2023-07-20T18:39:34.135Z"
   },
   {
    "duration": 23,
    "start_time": "2023-07-20T18:39:34.144Z"
   },
   {
    "duration": 12,
    "start_time": "2023-07-20T18:39:34.169Z"
   },
   {
    "duration": 9,
    "start_time": "2023-07-20T18:39:34.183Z"
   },
   {
    "duration": 22,
    "start_time": "2023-07-20T18:39:34.194Z"
   },
   {
    "duration": 41,
    "start_time": "2023-07-20T18:39:34.220Z"
   },
   {
    "duration": 51,
    "start_time": "2023-07-20T18:39:34.263Z"
   },
   {
    "duration": 21,
    "start_time": "2023-07-20T18:39:34.315Z"
   },
   {
    "duration": 15,
    "start_time": "2023-07-20T18:39:34.338Z"
   },
   {
    "duration": 19,
    "start_time": "2023-07-20T18:39:34.355Z"
   },
   {
    "duration": 5,
    "start_time": "2023-07-20T18:39:34.375Z"
   },
   {
    "duration": 10,
    "start_time": "2023-07-20T18:39:34.381Z"
   },
   {
    "duration": 83,
    "start_time": "2023-07-20T18:39:34.393Z"
   },
   {
    "duration": 5,
    "start_time": "2023-07-20T18:39:34.478Z"
   },
   {
    "duration": 10,
    "start_time": "2023-07-20T18:39:34.484Z"
   },
   {
    "duration": 97,
    "start_time": "2023-07-20T18:39:34.495Z"
   },
   {
    "duration": 153,
    "start_time": "2023-07-20T18:39:34.595Z"
   },
   {
    "duration": 7,
    "start_time": "2023-07-20T18:39:34.750Z"
   },
   {
    "duration": 12,
    "start_time": "2023-07-20T18:39:34.759Z"
   },
   {
    "duration": 27,
    "start_time": "2023-07-20T18:39:34.773Z"
   },
   {
    "duration": 6,
    "start_time": "2023-07-20T18:39:34.801Z"
   },
   {
    "duration": 25,
    "start_time": "2023-07-20T18:39:34.809Z"
   },
   {
    "duration": 13,
    "start_time": "2023-07-20T18:39:34.835Z"
   },
   {
    "duration": 38,
    "start_time": "2023-07-20T18:39:34.849Z"
   },
   {
    "duration": 434,
    "start_time": "2023-07-20T18:39:34.888Z"
   },
   {
    "duration": 3,
    "start_time": "2023-07-20T18:39:35.326Z"
   },
   {
    "duration": 179,
    "start_time": "2023-07-20T18:39:35.331Z"
   },
   {
    "duration": 0,
    "start_time": "2023-07-20T18:39:35.511Z"
   },
   {
    "duration": 0,
    "start_time": "2023-07-20T18:39:35.513Z"
   },
   {
    "duration": 0,
    "start_time": "2023-07-20T18:39:35.514Z"
   },
   {
    "duration": 0,
    "start_time": "2023-07-20T18:39:35.519Z"
   },
   {
    "duration": 0,
    "start_time": "2023-07-20T18:39:35.520Z"
   },
   {
    "duration": 0,
    "start_time": "2023-07-20T18:39:35.522Z"
   },
   {
    "duration": 0,
    "start_time": "2023-07-20T18:39:35.523Z"
   },
   {
    "duration": 0,
    "start_time": "2023-07-20T18:39:35.523Z"
   },
   {
    "duration": 0,
    "start_time": "2023-07-20T18:39:35.524Z"
   },
   {
    "duration": 0,
    "start_time": "2023-07-20T18:39:35.526Z"
   },
   {
    "duration": 0,
    "start_time": "2023-07-20T18:39:35.527Z"
   },
   {
    "duration": 0,
    "start_time": "2023-07-20T18:39:35.528Z"
   },
   {
    "duration": 0,
    "start_time": "2023-07-20T18:39:35.529Z"
   },
   {
    "duration": 0,
    "start_time": "2023-07-20T18:39:35.529Z"
   },
   {
    "duration": 0,
    "start_time": "2023-07-20T18:39:35.531Z"
   },
   {
    "duration": 0,
    "start_time": "2023-07-20T18:39:35.531Z"
   },
   {
    "duration": 0,
    "start_time": "2023-07-20T18:39:35.533Z"
   },
   {
    "duration": 0,
    "start_time": "2023-07-20T18:39:35.534Z"
   },
   {
    "duration": 0,
    "start_time": "2023-07-20T18:39:35.535Z"
   },
   {
    "duration": 0,
    "start_time": "2023-07-20T18:39:35.536Z"
   },
   {
    "duration": 0,
    "start_time": "2023-07-20T18:39:35.537Z"
   },
   {
    "duration": 0,
    "start_time": "2023-07-20T18:39:35.539Z"
   },
   {
    "duration": 1,
    "start_time": "2023-07-20T18:39:35.539Z"
   },
   {
    "duration": 0,
    "start_time": "2023-07-20T18:39:35.541Z"
   },
   {
    "duration": 0,
    "start_time": "2023-07-20T18:39:35.541Z"
   },
   {
    "duration": 0,
    "start_time": "2023-07-20T18:39:35.542Z"
   },
   {
    "duration": 0,
    "start_time": "2023-07-20T18:39:35.543Z"
   },
   {
    "duration": 0,
    "start_time": "2023-07-20T18:39:35.544Z"
   },
   {
    "duration": 0,
    "start_time": "2023-07-20T18:39:35.545Z"
   },
   {
    "duration": 0,
    "start_time": "2023-07-20T18:39:35.546Z"
   },
   {
    "duration": 1621,
    "start_time": "2023-07-20T18:41:18.184Z"
   },
   {
    "duration": 90,
    "start_time": "2023-07-20T18:41:19.807Z"
   },
   {
    "duration": 21,
    "start_time": "2023-07-20T18:41:19.898Z"
   },
   {
    "duration": 4,
    "start_time": "2023-07-20T18:41:19.920Z"
   },
   {
    "duration": 18,
    "start_time": "2023-07-20T18:41:19.927Z"
   },
   {
    "duration": 7,
    "start_time": "2023-07-20T18:41:19.946Z"
   },
   {
    "duration": 34,
    "start_time": "2023-07-20T18:41:19.954Z"
   },
   {
    "duration": 8,
    "start_time": "2023-07-20T18:41:19.990Z"
   },
   {
    "duration": 4,
    "start_time": "2023-07-20T18:41:20.023Z"
   },
   {
    "duration": 10,
    "start_time": "2023-07-20T18:41:20.028Z"
   },
   {
    "duration": 23,
    "start_time": "2023-07-20T18:41:20.039Z"
   },
   {
    "duration": 38,
    "start_time": "2023-07-20T18:41:20.063Z"
   },
   {
    "duration": 16,
    "start_time": "2023-07-20T18:41:20.103Z"
   },
   {
    "duration": 21,
    "start_time": "2023-07-20T18:41:20.122Z"
   },
   {
    "duration": 10,
    "start_time": "2023-07-20T18:41:20.144Z"
   },
   {
    "duration": 18,
    "start_time": "2023-07-20T18:41:20.156Z"
   },
   {
    "duration": 38,
    "start_time": "2023-07-20T18:41:20.176Z"
   },
   {
    "duration": 4,
    "start_time": "2023-07-20T18:41:20.216Z"
   },
   {
    "duration": 13,
    "start_time": "2023-07-20T18:41:20.221Z"
   },
   {
    "duration": 15,
    "start_time": "2023-07-20T18:41:20.235Z"
   },
   {
    "duration": 11,
    "start_time": "2023-07-20T18:41:20.252Z"
   },
   {
    "duration": 3,
    "start_time": "2023-07-20T18:41:20.265Z"
   },
   {
    "duration": 14,
    "start_time": "2023-07-20T18:41:20.270Z"
   },
   {
    "duration": 93,
    "start_time": "2023-07-20T18:41:20.286Z"
   },
   {
    "duration": 5,
    "start_time": "2023-07-20T18:41:20.380Z"
   },
   {
    "duration": 34,
    "start_time": "2023-07-20T18:41:20.386Z"
   },
   {
    "duration": 119,
    "start_time": "2023-07-20T18:41:20.422Z"
   },
   {
    "duration": 161,
    "start_time": "2023-07-20T18:41:20.542Z"
   },
   {
    "duration": 19,
    "start_time": "2023-07-20T18:41:20.705Z"
   },
   {
    "duration": 43,
    "start_time": "2023-07-20T18:41:20.725Z"
   },
   {
    "duration": 27,
    "start_time": "2023-07-20T18:41:20.770Z"
   },
   {
    "duration": 7,
    "start_time": "2023-07-20T18:41:20.799Z"
   },
   {
    "duration": 41,
    "start_time": "2023-07-20T18:41:20.808Z"
   },
   {
    "duration": 14,
    "start_time": "2023-07-20T18:41:20.851Z"
   },
   {
    "duration": 67,
    "start_time": "2023-07-20T18:41:20.866Z"
   },
   {
    "duration": 434,
    "start_time": "2023-07-20T18:41:20.935Z"
   },
   {
    "duration": 3,
    "start_time": "2023-07-20T18:41:21.371Z"
   },
   {
    "duration": 23,
    "start_time": "2023-07-20T18:41:21.376Z"
   },
   {
    "duration": 29457,
    "start_time": "2023-07-20T18:41:21.400Z"
   },
   {
    "duration": 808,
    "start_time": "2023-07-20T18:41:50.858Z"
   },
   {
    "duration": 1318,
    "start_time": "2023-07-20T18:41:51.671Z"
   },
   {
    "duration": 1396,
    "start_time": "2023-07-20T18:41:52.991Z"
   },
   {
    "duration": 829,
    "start_time": "2023-07-20T18:41:54.389Z"
   },
   {
    "duration": 891,
    "start_time": "2023-07-20T18:41:55.220Z"
   },
   {
    "duration": 22,
    "start_time": "2023-07-20T18:41:56.112Z"
   },
   {
    "duration": 20,
    "start_time": "2023-07-20T18:41:56.135Z"
   },
   {
    "duration": 22,
    "start_time": "2023-07-20T18:41:56.156Z"
   },
   {
    "duration": 40,
    "start_time": "2023-07-20T18:41:56.180Z"
   },
   {
    "duration": 11,
    "start_time": "2023-07-20T18:41:56.222Z"
   },
   {
    "duration": 20,
    "start_time": "2023-07-20T18:41:56.235Z"
   },
   {
    "duration": 29,
    "start_time": "2023-07-20T18:41:56.257Z"
   },
   {
    "duration": 54,
    "start_time": "2023-07-20T18:41:56.288Z"
   },
   {
    "duration": 118,
    "start_time": "2023-07-20T18:41:56.344Z"
   },
   {
    "duration": 11,
    "start_time": "2023-07-20T18:41:56.463Z"
   },
   {
    "duration": 20,
    "start_time": "2023-07-20T18:41:56.475Z"
   },
   {
    "duration": 41,
    "start_time": "2023-07-20T18:41:56.497Z"
   },
   {
    "duration": 123,
    "start_time": "2023-07-20T18:41:56.540Z"
   },
   {
    "duration": 25,
    "start_time": "2023-07-20T18:41:56.664Z"
   },
   {
    "duration": 39,
    "start_time": "2023-07-20T18:41:56.691Z"
   },
   {
    "duration": 16,
    "start_time": "2023-07-20T18:41:56.732Z"
   },
   {
    "duration": 7,
    "start_time": "2023-07-20T18:41:56.750Z"
   },
   {
    "duration": 35,
    "start_time": "2023-07-20T18:41:56.759Z"
   },
   {
    "duration": 11,
    "start_time": "2023-07-20T18:41:56.796Z"
   },
   {
    "duration": 39,
    "start_time": "2023-07-20T18:41:56.808Z"
   },
   {
    "duration": 16,
    "start_time": "2023-07-20T18:41:56.848Z"
   },
   {
    "duration": 36,
    "start_time": "2023-07-20T18:41:56.865Z"
   },
   {
    "duration": 10,
    "start_time": "2023-07-20T18:41:56.903Z"
   },
   {
    "duration": 90,
    "start_time": "2023-07-20T18:41:56.915Z"
   },
   {
    "duration": 148,
    "start_time": "2023-07-20T19:21:47.240Z"
   },
   {
    "duration": 2135,
    "start_time": "2023-07-21T15:47:10.859Z"
   },
   {
    "duration": 94,
    "start_time": "2023-07-21T15:47:12.996Z"
   },
   {
    "duration": 23,
    "start_time": "2023-07-21T15:47:13.092Z"
   },
   {
    "duration": 17,
    "start_time": "2023-07-21T15:47:13.118Z"
   },
   {
    "duration": 30,
    "start_time": "2023-07-21T15:47:13.137Z"
   },
   {
    "duration": 14,
    "start_time": "2023-07-21T15:47:13.171Z"
   },
   {
    "duration": 53,
    "start_time": "2023-07-21T15:47:13.186Z"
   },
   {
    "duration": 32,
    "start_time": "2023-07-21T15:47:13.242Z"
   },
   {
    "duration": 5,
    "start_time": "2023-07-21T15:47:13.276Z"
   },
   {
    "duration": 10,
    "start_time": "2023-07-21T15:47:13.285Z"
   },
   {
    "duration": 9,
    "start_time": "2023-07-21T15:47:13.297Z"
   },
   {
    "duration": 9,
    "start_time": "2023-07-21T15:47:13.308Z"
   },
   {
    "duration": 48,
    "start_time": "2023-07-21T15:47:13.319Z"
   },
   {
    "duration": 8,
    "start_time": "2023-07-21T15:47:13.369Z"
   },
   {
    "duration": 8,
    "start_time": "2023-07-21T15:47:13.379Z"
   },
   {
    "duration": 23,
    "start_time": "2023-07-21T15:47:13.388Z"
   },
   {
    "duration": 65,
    "start_time": "2023-07-21T15:47:13.414Z"
   },
   {
    "duration": 6,
    "start_time": "2023-07-21T15:47:13.481Z"
   },
   {
    "duration": 8,
    "start_time": "2023-07-21T15:47:13.489Z"
   },
   {
    "duration": 28,
    "start_time": "2023-07-21T15:47:13.499Z"
   },
   {
    "duration": 40,
    "start_time": "2023-07-21T15:47:13.529Z"
   },
   {
    "duration": 6,
    "start_time": "2023-07-21T15:47:13.571Z"
   },
   {
    "duration": 19,
    "start_time": "2023-07-21T15:47:13.579Z"
   },
   {
    "duration": 131,
    "start_time": "2023-07-21T15:47:13.599Z"
   },
   {
    "duration": 8,
    "start_time": "2023-07-21T15:47:13.732Z"
   },
   {
    "duration": 25,
    "start_time": "2023-07-21T15:47:13.742Z"
   },
   {
    "duration": 124,
    "start_time": "2023-07-21T15:47:13.770Z"
   },
   {
    "duration": 274,
    "start_time": "2023-07-21T15:47:13.899Z"
   },
   {
    "duration": 14,
    "start_time": "2023-07-21T15:47:14.175Z"
   },
   {
    "duration": 9,
    "start_time": "2023-07-21T15:47:14.192Z"
   },
   {
    "duration": 47,
    "start_time": "2023-07-21T15:47:14.204Z"
   },
   {
    "duration": 20,
    "start_time": "2023-07-21T15:47:14.253Z"
   },
   {
    "duration": 23,
    "start_time": "2023-07-21T15:47:14.275Z"
   },
   {
    "duration": 19,
    "start_time": "2023-07-21T15:47:14.299Z"
   },
   {
    "duration": 89,
    "start_time": "2023-07-21T15:47:14.320Z"
   },
   {
    "duration": 538,
    "start_time": "2023-07-21T15:47:14.411Z"
   },
   {
    "duration": 3,
    "start_time": "2023-07-21T15:47:14.951Z"
   },
   {
    "duration": 43,
    "start_time": "2023-07-21T15:47:14.956Z"
   },
   {
    "duration": 42847,
    "start_time": "2023-07-21T15:47:15.001Z"
   },
   {
    "duration": 1256,
    "start_time": "2023-07-21T15:47:57.850Z"
   },
   {
    "duration": 1876,
    "start_time": "2023-07-21T15:47:59.108Z"
   },
   {
    "duration": 1920,
    "start_time": "2023-07-21T15:48:00.987Z"
   },
   {
    "duration": 1021,
    "start_time": "2023-07-21T15:48:02.909Z"
   },
   {
    "duration": 992,
    "start_time": "2023-07-21T15:48:03.933Z"
   },
   {
    "duration": 22,
    "start_time": "2023-07-21T15:48:04.928Z"
   },
   {
    "duration": 35,
    "start_time": "2023-07-21T15:48:04.952Z"
   },
   {
    "duration": 27,
    "start_time": "2023-07-21T15:48:04.989Z"
   },
   {
    "duration": 8,
    "start_time": "2023-07-21T15:48:05.018Z"
   },
   {
    "duration": 28,
    "start_time": "2023-07-21T15:48:05.028Z"
   },
   {
    "duration": 27,
    "start_time": "2023-07-21T15:48:05.068Z"
   },
   {
    "duration": 24,
    "start_time": "2023-07-21T15:48:05.097Z"
   },
   {
    "duration": 53,
    "start_time": "2023-07-21T15:48:05.123Z"
   },
   {
    "duration": 131,
    "start_time": "2023-07-21T15:48:05.178Z"
   },
   {
    "duration": 13,
    "start_time": "2023-07-21T15:48:05.311Z"
   },
   {
    "duration": 50,
    "start_time": "2023-07-21T15:48:05.327Z"
   },
   {
    "duration": 29,
    "start_time": "2023-07-21T15:48:05.379Z"
   },
   {
    "duration": 120,
    "start_time": "2023-07-21T15:48:05.409Z"
   },
   {
    "duration": 39,
    "start_time": "2023-07-21T15:48:05.531Z"
   },
   {
    "duration": 28,
    "start_time": "2023-07-21T15:48:05.572Z"
   },
   {
    "duration": 15,
    "start_time": "2023-07-21T15:48:05.602Z"
   },
   {
    "duration": 9,
    "start_time": "2023-07-21T15:48:05.619Z"
   },
   {
    "duration": 42,
    "start_time": "2023-07-21T15:48:05.629Z"
   },
   {
    "duration": 10,
    "start_time": "2023-07-21T15:48:05.673Z"
   },
   {
    "duration": 34,
    "start_time": "2023-07-21T15:48:05.685Z"
   },
   {
    "duration": 19,
    "start_time": "2023-07-21T15:48:05.721Z"
   },
   {
    "duration": 13,
    "start_time": "2023-07-21T15:48:05.742Z"
   },
   {
    "duration": 13,
    "start_time": "2023-07-21T15:48:05.757Z"
   },
   {
    "duration": 103,
    "start_time": "2023-07-21T15:48:05.772Z"
   },
   {
    "duration": 2023,
    "start_time": "2023-07-21T16:43:17.834Z"
   },
   {
    "duration": 155,
    "start_time": "2023-07-21T16:43:19.860Z"
   },
   {
    "duration": 23,
    "start_time": "2023-07-21T16:43:20.018Z"
   },
   {
    "duration": 26,
    "start_time": "2023-07-21T16:43:20.044Z"
   },
   {
    "duration": 39,
    "start_time": "2023-07-21T16:43:20.072Z"
   },
   {
    "duration": 33,
    "start_time": "2023-07-21T16:43:20.113Z"
   },
   {
    "duration": 63,
    "start_time": "2023-07-21T16:43:20.148Z"
   },
   {
    "duration": 12,
    "start_time": "2023-07-21T16:43:20.213Z"
   },
   {
    "duration": 6,
    "start_time": "2023-07-21T16:43:20.228Z"
   },
   {
    "duration": 31,
    "start_time": "2023-07-21T16:43:20.238Z"
   },
   {
    "duration": 8,
    "start_time": "2023-07-21T16:43:20.271Z"
   },
   {
    "duration": 23,
    "start_time": "2023-07-21T16:43:20.281Z"
   },
   {
    "duration": 14,
    "start_time": "2023-07-21T16:43:20.305Z"
   },
   {
    "duration": 24,
    "start_time": "2023-07-21T16:43:20.321Z"
   },
   {
    "duration": 17,
    "start_time": "2023-07-21T16:43:20.347Z"
   },
   {
    "duration": 21,
    "start_time": "2023-07-21T16:43:20.367Z"
   },
   {
    "duration": 46,
    "start_time": "2023-07-21T16:43:20.390Z"
   },
   {
    "duration": 6,
    "start_time": "2023-07-21T16:43:20.438Z"
   },
   {
    "duration": 16,
    "start_time": "2023-07-21T16:43:20.468Z"
   },
   {
    "duration": 33,
    "start_time": "2023-07-21T16:43:20.485Z"
   },
   {
    "duration": 25,
    "start_time": "2023-07-21T16:43:20.520Z"
   },
   {
    "duration": 23,
    "start_time": "2023-07-21T16:43:20.547Z"
   },
   {
    "duration": 41,
    "start_time": "2023-07-21T16:43:20.573Z"
   },
   {
    "duration": 133,
    "start_time": "2023-07-21T16:43:20.616Z"
   },
   {
    "duration": 19,
    "start_time": "2023-07-21T16:43:20.750Z"
   },
   {
    "duration": 13,
    "start_time": "2023-07-21T16:43:20.772Z"
   },
   {
    "duration": 154,
    "start_time": "2023-07-21T16:43:20.787Z"
   },
   {
    "duration": 231,
    "start_time": "2023-07-21T16:43:20.945Z"
   },
   {
    "duration": 11,
    "start_time": "2023-07-21T16:43:21.178Z"
   },
   {
    "duration": 10,
    "start_time": "2023-07-21T16:43:21.191Z"
   },
   {
    "duration": 31,
    "start_time": "2023-07-21T16:43:21.203Z"
   },
   {
    "duration": 34,
    "start_time": "2023-07-21T16:43:21.236Z"
   },
   {
    "duration": 40,
    "start_time": "2023-07-21T16:43:21.272Z"
   },
   {
    "duration": 17,
    "start_time": "2023-07-21T16:43:21.315Z"
   },
   {
    "duration": 64,
    "start_time": "2023-07-21T16:43:21.334Z"
   },
   {
    "duration": 486,
    "start_time": "2023-07-21T16:43:21.401Z"
   },
   {
    "duration": 3,
    "start_time": "2023-07-21T16:43:21.890Z"
   },
   {
    "duration": 45,
    "start_time": "2023-07-21T16:43:21.896Z"
   },
   {
    "duration": 43599,
    "start_time": "2023-07-21T16:43:21.942Z"
   },
   {
    "duration": 1195,
    "start_time": "2023-07-21T16:44:05.543Z"
   },
   {
    "duration": 1783,
    "start_time": "2023-07-21T16:44:06.739Z"
   },
   {
    "duration": 1828,
    "start_time": "2023-07-21T16:44:08.525Z"
   },
   {
    "duration": 997,
    "start_time": "2023-07-21T16:44:10.355Z"
   },
   {
    "duration": 977,
    "start_time": "2023-07-21T16:44:11.354Z"
   },
   {
    "duration": 34,
    "start_time": "2023-07-21T16:44:12.334Z"
   },
   {
    "duration": 44,
    "start_time": "2023-07-21T16:44:12.371Z"
   },
   {
    "duration": 26,
    "start_time": "2023-07-21T16:44:12.418Z"
   },
   {
    "duration": 26,
    "start_time": "2023-07-21T16:44:12.446Z"
   },
   {
    "duration": 12,
    "start_time": "2023-07-21T16:44:12.474Z"
   },
   {
    "duration": 27,
    "start_time": "2023-07-21T16:44:12.488Z"
   },
   {
    "duration": 62,
    "start_time": "2023-07-21T16:44:12.517Z"
   },
   {
    "duration": 35,
    "start_time": "2023-07-21T16:44:12.581Z"
   },
   {
    "duration": 172,
    "start_time": "2023-07-21T16:44:12.619Z"
   },
   {
    "duration": 14,
    "start_time": "2023-07-21T16:44:12.793Z"
   },
   {
    "duration": 25,
    "start_time": "2023-07-21T16:44:12.808Z"
   },
   {
    "duration": 58,
    "start_time": "2023-07-21T16:44:12.835Z"
   },
   {
    "duration": 171,
    "start_time": "2023-07-21T16:44:12.895Z"
   },
   {
    "duration": 43,
    "start_time": "2023-07-21T16:44:13.068Z"
   },
   {
    "duration": 55,
    "start_time": "2023-07-21T16:44:13.114Z"
   },
   {
    "duration": 22,
    "start_time": "2023-07-21T16:44:13.171Z"
   },
   {
    "duration": 12,
    "start_time": "2023-07-21T16:44:13.195Z"
   },
   {
    "duration": 20,
    "start_time": "2023-07-21T16:44:13.209Z"
   },
   {
    "duration": 38,
    "start_time": "2023-07-21T16:44:13.231Z"
   },
   {
    "duration": 15,
    "start_time": "2023-07-21T16:44:13.271Z"
   },
   {
    "duration": 11,
    "start_time": "2023-07-21T16:44:13.288Z"
   },
   {
    "duration": 11,
    "start_time": "2023-07-21T16:44:13.301Z"
   },
   {
    "duration": 12,
    "start_time": "2023-07-21T16:44:13.314Z"
   },
   {
    "duration": 119,
    "start_time": "2023-07-21T16:44:13.367Z"
   },
   {
    "duration": 2018,
    "start_time": "2023-07-21T16:46:37.044Z"
   },
   {
    "duration": 102,
    "start_time": "2023-07-21T16:46:39.066Z"
   },
   {
    "duration": 30,
    "start_time": "2023-07-21T16:46:39.171Z"
   },
   {
    "duration": 5,
    "start_time": "2023-07-21T16:46:39.204Z"
   },
   {
    "duration": 20,
    "start_time": "2023-07-21T16:46:39.211Z"
   },
   {
    "duration": 43,
    "start_time": "2023-07-21T16:46:39.233Z"
   },
   {
    "duration": 97,
    "start_time": "2023-07-21T16:46:39.279Z"
   },
   {
    "duration": 15,
    "start_time": "2023-07-21T16:46:39.383Z"
   },
   {
    "duration": 8,
    "start_time": "2023-07-21T16:46:39.400Z"
   },
   {
    "duration": 26,
    "start_time": "2023-07-21T16:46:39.412Z"
   },
   {
    "duration": 9,
    "start_time": "2023-07-21T16:46:39.441Z"
   },
   {
    "duration": 21,
    "start_time": "2023-07-21T16:46:39.453Z"
   },
   {
    "duration": 8,
    "start_time": "2023-07-21T16:46:39.477Z"
   },
   {
    "duration": 11,
    "start_time": "2023-07-21T16:46:39.487Z"
   },
   {
    "duration": 14,
    "start_time": "2023-07-21T16:46:39.500Z"
   },
   {
    "duration": 60,
    "start_time": "2023-07-21T16:46:39.516Z"
   },
   {
    "duration": 46,
    "start_time": "2023-07-21T16:46:39.578Z"
   },
   {
    "duration": 5,
    "start_time": "2023-07-21T16:46:39.627Z"
   },
   {
    "duration": 10,
    "start_time": "2023-07-21T16:46:39.633Z"
   },
   {
    "duration": 69,
    "start_time": "2023-07-21T16:46:39.646Z"
   },
   {
    "duration": 15,
    "start_time": "2023-07-21T16:46:39.717Z"
   },
   {
    "duration": 9,
    "start_time": "2023-07-21T16:46:39.734Z"
   },
   {
    "duration": 16,
    "start_time": "2023-07-21T16:46:39.745Z"
   },
   {
    "duration": 167,
    "start_time": "2023-07-21T16:46:39.764Z"
   },
   {
    "duration": 8,
    "start_time": "2023-07-21T16:46:39.934Z"
   },
   {
    "duration": 15,
    "start_time": "2023-07-21T16:46:39.945Z"
   },
   {
    "duration": 244,
    "start_time": "2023-07-21T16:46:39.962Z"
   },
   {
    "duration": 407,
    "start_time": "2023-07-21T16:46:40.213Z"
   },
   {
    "duration": 11,
    "start_time": "2023-07-21T16:46:40.622Z"
   },
   {
    "duration": 18,
    "start_time": "2023-07-21T16:46:40.634Z"
   },
   {
    "duration": 41,
    "start_time": "2023-07-21T16:46:40.654Z"
   },
   {
    "duration": 9,
    "start_time": "2023-07-21T16:46:40.697Z"
   },
   {
    "duration": 27,
    "start_time": "2023-07-21T16:46:40.707Z"
   },
   {
    "duration": 44,
    "start_time": "2023-07-21T16:46:40.736Z"
   },
   {
    "duration": 56,
    "start_time": "2023-07-21T16:46:40.782Z"
   },
   {
    "duration": 433,
    "start_time": "2023-07-21T16:46:40.840Z"
   },
   {
    "duration": 3,
    "start_time": "2023-07-21T16:46:41.276Z"
   },
   {
    "duration": 34,
    "start_time": "2023-07-21T16:46:41.281Z"
   },
   {
    "duration": 41346,
    "start_time": "2023-07-21T16:46:41.317Z"
   },
   {
    "duration": 1194,
    "start_time": "2023-07-21T16:47:22.667Z"
   },
   {
    "duration": 1891,
    "start_time": "2023-07-21T16:47:23.866Z"
   },
   {
    "duration": 1856,
    "start_time": "2023-07-21T16:47:25.759Z"
   },
   {
    "duration": 1034,
    "start_time": "2023-07-21T16:47:27.617Z"
   },
   {
    "duration": 1139,
    "start_time": "2023-07-21T16:47:28.654Z"
   },
   {
    "duration": 25,
    "start_time": "2023-07-21T16:47:29.795Z"
   },
   {
    "duration": 50,
    "start_time": "2023-07-21T16:47:29.822Z"
   },
   {
    "duration": 29,
    "start_time": "2023-07-21T16:47:29.874Z"
   },
   {
    "duration": 7,
    "start_time": "2023-07-21T16:47:29.905Z"
   },
   {
    "duration": 23,
    "start_time": "2023-07-21T16:47:29.914Z"
   },
   {
    "duration": 46,
    "start_time": "2023-07-21T16:47:29.939Z"
   },
   {
    "duration": 29,
    "start_time": "2023-07-21T16:47:29.987Z"
   },
   {
    "duration": 36,
    "start_time": "2023-07-21T16:47:30.018Z"
   },
   {
    "duration": 176,
    "start_time": "2023-07-21T16:47:30.068Z"
   },
   {
    "duration": 22,
    "start_time": "2023-07-21T16:47:30.246Z"
   },
   {
    "duration": 61,
    "start_time": "2023-07-21T16:47:30.270Z"
   },
   {
    "duration": 45,
    "start_time": "2023-07-21T16:47:30.334Z"
   },
   {
    "duration": 179,
    "start_time": "2023-07-21T16:47:30.381Z"
   },
   {
    "duration": 36,
    "start_time": "2023-07-21T16:47:30.568Z"
   },
   {
    "duration": 97,
    "start_time": "2023-07-21T16:47:30.606Z"
   },
   {
    "duration": 64,
    "start_time": "2023-07-21T16:47:30.705Z"
   },
   {
    "duration": 49,
    "start_time": "2023-07-21T16:47:30.770Z"
   },
   {
    "duration": 78,
    "start_time": "2023-07-21T16:47:30.823Z"
   },
   {
    "duration": 39,
    "start_time": "2023-07-21T16:47:30.903Z"
   },
   {
    "duration": 108,
    "start_time": "2023-07-21T16:47:30.945Z"
   },
   {
    "duration": 40,
    "start_time": "2023-07-21T16:47:31.055Z"
   },
   {
    "duration": 52,
    "start_time": "2023-07-21T16:47:31.098Z"
   },
   {
    "duration": 41,
    "start_time": "2023-07-21T16:47:31.152Z"
   },
   {
    "duration": 123,
    "start_time": "2023-07-21T16:47:31.197Z"
   },
   {
    "duration": 41,
    "start_time": "2023-07-21T18:12:29.024Z"
   },
   {
    "duration": 1458,
    "start_time": "2023-07-21T18:12:36.756Z"
   },
   {
    "duration": 90,
    "start_time": "2023-07-21T18:12:38.216Z"
   },
   {
    "duration": 15,
    "start_time": "2023-07-21T18:12:38.308Z"
   },
   {
    "duration": 13,
    "start_time": "2023-07-21T18:12:38.325Z"
   },
   {
    "duration": 11,
    "start_time": "2023-07-21T18:12:38.340Z"
   },
   {
    "duration": 7,
    "start_time": "2023-07-21T18:12:38.353Z"
   },
   {
    "duration": 34,
    "start_time": "2023-07-21T18:12:38.361Z"
   },
   {
    "duration": 8,
    "start_time": "2023-07-21T18:12:38.406Z"
   },
   {
    "duration": 4,
    "start_time": "2023-07-21T18:12:38.416Z"
   },
   {
    "duration": 13,
    "start_time": "2023-07-21T18:12:38.422Z"
   },
   {
    "duration": 5,
    "start_time": "2023-07-21T18:12:38.436Z"
   },
   {
    "duration": 11,
    "start_time": "2023-07-21T18:12:38.442Z"
   },
   {
    "duration": 4,
    "start_time": "2023-07-21T18:12:38.454Z"
   },
   {
    "duration": 5,
    "start_time": "2023-07-21T18:12:38.460Z"
   },
   {
    "duration": 6,
    "start_time": "2023-07-21T18:12:38.467Z"
   },
   {
    "duration": 34,
    "start_time": "2023-07-21T18:12:38.475Z"
   },
   {
    "duration": 28,
    "start_time": "2023-07-21T18:12:38.511Z"
   },
   {
    "duration": 3,
    "start_time": "2023-07-21T18:12:38.541Z"
   },
   {
    "duration": 15,
    "start_time": "2023-07-21T18:12:38.546Z"
   },
   {
    "duration": 19,
    "start_time": "2023-07-21T18:12:38.562Z"
   },
   {
    "duration": 24,
    "start_time": "2023-07-21T18:12:38.582Z"
   },
   {
    "duration": 4,
    "start_time": "2023-07-21T18:12:38.608Z"
   },
   {
    "duration": 23,
    "start_time": "2023-07-21T18:12:38.613Z"
   },
   {
    "duration": 77,
    "start_time": "2023-07-21T18:12:38.638Z"
   },
   {
    "duration": 4,
    "start_time": "2023-07-21T18:12:38.717Z"
   },
   {
    "duration": 10,
    "start_time": "2023-07-21T18:12:38.722Z"
   },
   {
    "duration": 92,
    "start_time": "2023-07-21T18:12:38.734Z"
   },
   {
    "duration": 157,
    "start_time": "2023-07-21T18:12:38.830Z"
   },
   {
    "duration": 18,
    "start_time": "2023-07-21T18:12:38.988Z"
   },
   {
    "duration": 13,
    "start_time": "2023-07-21T18:12:39.007Z"
   },
   {
    "duration": 16,
    "start_time": "2023-07-21T18:12:39.021Z"
   },
   {
    "duration": 5,
    "start_time": "2023-07-21T18:12:39.039Z"
   },
   {
    "duration": 16,
    "start_time": "2023-07-21T18:12:39.045Z"
   },
   {
    "duration": 12,
    "start_time": "2023-07-21T18:12:39.062Z"
   },
   {
    "duration": 63,
    "start_time": "2023-07-21T18:12:39.075Z"
   },
   {
    "duration": 401,
    "start_time": "2023-07-21T18:12:39.139Z"
   },
   {
    "duration": 3,
    "start_time": "2023-07-21T18:12:39.541Z"
   },
   {
    "duration": 27,
    "start_time": "2023-07-21T18:12:39.546Z"
   },
   {
    "duration": 30993,
    "start_time": "2023-07-21T18:12:39.574Z"
   },
   {
    "duration": 930,
    "start_time": "2023-07-21T18:13:10.569Z"
   },
   {
    "duration": 1379,
    "start_time": "2023-07-21T18:13:11.500Z"
   },
   {
    "duration": 1365,
    "start_time": "2023-07-21T18:13:12.880Z"
   },
   {
    "duration": 781,
    "start_time": "2023-07-21T18:13:14.247Z"
   },
   {
    "duration": 769,
    "start_time": "2023-07-21T18:13:15.030Z"
   },
   {
    "duration": 18,
    "start_time": "2023-07-21T18:13:15.805Z"
   },
   {
    "duration": 15,
    "start_time": "2023-07-21T18:13:15.825Z"
   },
   {
    "duration": 20,
    "start_time": "2023-07-21T18:13:15.842Z"
   },
   {
    "duration": 6,
    "start_time": "2023-07-21T18:13:15.864Z"
   },
   {
    "duration": 13,
    "start_time": "2023-07-21T18:13:15.872Z"
   },
   {
    "duration": 19,
    "start_time": "2023-07-21T18:13:15.905Z"
   },
   {
    "duration": 21,
    "start_time": "2023-07-21T18:13:15.926Z"
   },
   {
    "duration": 21,
    "start_time": "2023-07-21T18:13:15.949Z"
   },
   {
    "duration": 137,
    "start_time": "2023-07-21T18:13:15.971Z"
   },
   {
    "duration": 11,
    "start_time": "2023-07-21T18:13:16.110Z"
   },
   {
    "duration": 20,
    "start_time": "2023-07-21T18:13:16.123Z"
   },
   {
    "duration": 22,
    "start_time": "2023-07-21T18:13:16.145Z"
   },
   {
    "duration": 130,
    "start_time": "2023-07-21T18:13:16.169Z"
   },
   {
    "duration": 27,
    "start_time": "2023-07-21T18:13:16.306Z"
   },
   {
    "duration": 26,
    "start_time": "2023-07-21T18:13:16.335Z"
   },
   {
    "duration": 15,
    "start_time": "2023-07-21T18:13:16.362Z"
   },
   {
    "duration": 8,
    "start_time": "2023-07-21T18:13:16.406Z"
   },
   {
    "duration": 120,
    "start_time": "2023-07-21T18:13:16.415Z"
   },
   {
    "duration": 0,
    "start_time": "2023-07-21T18:13:16.536Z"
   },
   {
    "duration": 0,
    "start_time": "2023-07-21T18:13:16.537Z"
   },
   {
    "duration": 0,
    "start_time": "2023-07-21T18:13:16.538Z"
   },
   {
    "duration": 0,
    "start_time": "2023-07-21T18:13:16.539Z"
   },
   {
    "duration": 0,
    "start_time": "2023-07-21T18:13:16.540Z"
   },
   {
    "duration": 0,
    "start_time": "2023-07-21T18:13:16.541Z"
   },
   {
    "duration": 1,
    "start_time": "2023-07-21T18:13:16.542Z"
   },
   {
    "duration": 10,
    "start_time": "2023-07-21T18:14:41.238Z"
   },
   {
    "duration": 5,
    "start_time": "2023-07-21T18:20:22.354Z"
   },
   {
    "duration": 12,
    "start_time": "2023-07-21T18:20:55.108Z"
   },
   {
    "duration": 1375,
    "start_time": "2023-07-21T18:21:39.350Z"
   },
   {
    "duration": 69,
    "start_time": "2023-07-21T18:21:40.726Z"
   },
   {
    "duration": 14,
    "start_time": "2023-07-21T18:21:40.797Z"
   },
   {
    "duration": 7,
    "start_time": "2023-07-21T18:21:40.813Z"
   },
   {
    "duration": 11,
    "start_time": "2023-07-21T18:21:40.822Z"
   },
   {
    "duration": 7,
    "start_time": "2023-07-21T18:21:40.834Z"
   },
   {
    "duration": 33,
    "start_time": "2023-07-21T18:21:40.843Z"
   },
   {
    "duration": 30,
    "start_time": "2023-07-21T18:21:40.878Z"
   },
   {
    "duration": 4,
    "start_time": "2023-07-21T18:21:40.910Z"
   },
   {
    "duration": 16,
    "start_time": "2023-07-21T18:21:40.917Z"
   },
   {
    "duration": 15,
    "start_time": "2023-07-21T18:21:40.934Z"
   },
   {
    "duration": 9,
    "start_time": "2023-07-21T18:21:40.950Z"
   },
   {
    "duration": 10,
    "start_time": "2023-07-21T18:21:40.960Z"
   },
   {
    "duration": 26,
    "start_time": "2023-07-21T18:21:40.971Z"
   },
   {
    "duration": 19,
    "start_time": "2023-07-21T18:21:40.998Z"
   },
   {
    "duration": 13,
    "start_time": "2023-07-21T18:21:41.018Z"
   },
   {
    "duration": 30,
    "start_time": "2023-07-21T18:21:41.032Z"
   },
   {
    "duration": 3,
    "start_time": "2023-07-21T18:21:41.064Z"
   },
   {
    "duration": 14,
    "start_time": "2023-07-21T18:21:41.068Z"
   },
   {
    "duration": 14,
    "start_time": "2023-07-21T18:21:41.084Z"
   },
   {
    "duration": 8,
    "start_time": "2023-07-21T18:21:41.105Z"
   },
   {
    "duration": 24,
    "start_time": "2023-07-21T18:21:41.114Z"
   },
   {
    "duration": 9,
    "start_time": "2023-07-21T18:21:41.139Z"
   },
   {
    "duration": 78,
    "start_time": "2023-07-21T18:21:41.149Z"
   },
   {
    "duration": 5,
    "start_time": "2023-07-21T18:21:41.228Z"
   },
   {
    "duration": 8,
    "start_time": "2023-07-21T18:21:41.234Z"
   },
   {
    "duration": 95,
    "start_time": "2023-07-21T18:21:41.243Z"
   },
   {
    "duration": 154,
    "start_time": "2023-07-21T18:21:41.341Z"
   },
   {
    "duration": 7,
    "start_time": "2023-07-21T18:21:41.506Z"
   },
   {
    "duration": 5,
    "start_time": "2023-07-21T18:21:41.515Z"
   },
   {
    "duration": 17,
    "start_time": "2023-07-21T18:21:41.521Z"
   },
   {
    "duration": 6,
    "start_time": "2023-07-21T18:21:41.540Z"
   },
   {
    "duration": 21,
    "start_time": "2023-07-21T18:21:41.547Z"
   },
   {
    "duration": 44,
    "start_time": "2023-07-21T18:21:41.569Z"
   },
   {
    "duration": 41,
    "start_time": "2023-07-21T18:21:41.615Z"
   },
   {
    "duration": 377,
    "start_time": "2023-07-21T18:21:41.657Z"
   },
   {
    "duration": 2,
    "start_time": "2023-07-21T18:21:42.036Z"
   },
   {
    "duration": 21,
    "start_time": "2023-07-21T18:21:42.039Z"
   },
   {
    "duration": 32545,
    "start_time": "2023-07-21T18:21:42.061Z"
   },
   {
    "duration": 950,
    "start_time": "2023-07-21T18:22:14.608Z"
   },
   {
    "duration": 1569,
    "start_time": "2023-07-21T18:22:15.559Z"
   },
   {
    "duration": 1487,
    "start_time": "2023-07-21T18:22:17.130Z"
   },
   {
    "duration": 873,
    "start_time": "2023-07-21T18:22:18.619Z"
   },
   {
    "duration": 875,
    "start_time": "2023-07-21T18:22:19.494Z"
   },
   {
    "duration": 18,
    "start_time": "2023-07-21T18:22:20.370Z"
   },
   {
    "duration": 27,
    "start_time": "2023-07-21T18:22:20.390Z"
   },
   {
    "duration": 28,
    "start_time": "2023-07-21T18:22:20.418Z"
   },
   {
    "duration": 5,
    "start_time": "2023-07-21T18:22:20.447Z"
   },
   {
    "duration": 23,
    "start_time": "2023-07-21T18:22:20.453Z"
   },
   {
    "duration": 24,
    "start_time": "2023-07-21T18:22:20.477Z"
   },
   {
    "duration": 18,
    "start_time": "2023-07-21T18:22:20.503Z"
   },
   {
    "duration": 17,
    "start_time": "2023-07-21T18:22:20.523Z"
   },
   {
    "duration": 112,
    "start_time": "2023-07-21T18:22:20.541Z"
   },
   {
    "duration": 10,
    "start_time": "2023-07-21T18:22:20.655Z"
   },
   {
    "duration": 37,
    "start_time": "2023-07-21T18:22:20.666Z"
   },
   {
    "duration": 18,
    "start_time": "2023-07-21T18:22:20.705Z"
   },
   {
    "duration": 112,
    "start_time": "2023-07-21T18:22:20.725Z"
   },
   {
    "duration": 26,
    "start_time": "2023-07-21T18:22:20.838Z"
   },
   {
    "duration": 40,
    "start_time": "2023-07-21T18:22:20.866Z"
   },
   {
    "duration": 12,
    "start_time": "2023-07-21T18:22:20.908Z"
   },
   {
    "duration": 16,
    "start_time": "2023-07-21T18:22:20.922Z"
   },
   {
    "duration": 6,
    "start_time": "2023-07-21T18:22:20.939Z"
   },
   {
    "duration": 19,
    "start_time": "2023-07-21T18:22:20.946Z"
   },
   {
    "duration": 19,
    "start_time": "2023-07-21T18:22:20.967Z"
   },
   {
    "duration": 15,
    "start_time": "2023-07-21T18:22:20.987Z"
   },
   {
    "duration": 43,
    "start_time": "2023-07-21T18:22:21.004Z"
   },
   {
    "duration": 32,
    "start_time": "2023-07-21T18:22:21.048Z"
   },
   {
    "duration": 21,
    "start_time": "2023-07-21T18:22:21.082Z"
   },
   {
    "duration": 21,
    "start_time": "2023-07-21T18:22:21.104Z"
   },
   {
    "duration": 88,
    "start_time": "2023-07-21T18:22:21.126Z"
   },
   {
    "duration": 7,
    "start_time": "2023-07-21T18:42:03.404Z"
   },
   {
    "duration": 7,
    "start_time": "2023-07-21T18:42:11.854Z"
   },
   {
    "duration": 5,
    "start_time": "2023-07-21T18:43:10.875Z"
   },
   {
    "duration": 5,
    "start_time": "2023-07-21T18:43:14.971Z"
   },
   {
    "duration": 6,
    "start_time": "2023-07-21T18:47:16.096Z"
   },
   {
    "duration": 5,
    "start_time": "2023-07-21T18:47:19.929Z"
   },
   {
    "duration": 6,
    "start_time": "2023-07-21T18:47:24.403Z"
   },
   {
    "duration": 5,
    "start_time": "2023-07-21T18:47:28.900Z"
   },
   {
    "duration": 4,
    "start_time": "2023-07-21T18:48:31.170Z"
   },
   {
    "duration": 6,
    "start_time": "2023-07-21T18:48:37.028Z"
   },
   {
    "duration": 6,
    "start_time": "2023-07-21T18:48:48.646Z"
   },
   {
    "duration": 64,
    "start_time": "2023-07-21T18:50:23.590Z"
   },
   {
    "duration": 68,
    "start_time": "2023-07-21T18:50:36.636Z"
   },
   {
    "duration": 77,
    "start_time": "2023-07-21T18:50:42.088Z"
   },
   {
    "duration": 103,
    "start_time": "2023-07-21T18:50:56.293Z"
   },
   {
    "duration": 66,
    "start_time": "2023-07-21T18:51:16.673Z"
   },
   {
    "duration": 58,
    "start_time": "2023-07-21T18:51:49.090Z"
   },
   {
    "duration": 63,
    "start_time": "2023-07-21T18:52:07.024Z"
   },
   {
    "duration": 65,
    "start_time": "2023-07-21T18:52:27.951Z"
   },
   {
    "duration": 69,
    "start_time": "2023-07-21T18:53:30.265Z"
   },
   {
    "duration": 6,
    "start_time": "2023-07-21T18:56:55.048Z"
   },
   {
    "duration": 13,
    "start_time": "2023-07-21T18:57:12.204Z"
   },
   {
    "duration": 5,
    "start_time": "2023-07-21T18:57:35.909Z"
   },
   {
    "duration": 6,
    "start_time": "2023-07-21T18:57:40.967Z"
   },
   {
    "duration": 3,
    "start_time": "2023-07-21T18:57:44.050Z"
   },
   {
    "duration": 5,
    "start_time": "2023-07-21T18:58:13.511Z"
   },
   {
    "duration": 3,
    "start_time": "2023-07-21T18:58:20.129Z"
   },
   {
    "duration": 100,
    "start_time": "2023-07-21T18:59:07.552Z"
   },
   {
    "duration": 128,
    "start_time": "2023-07-21T18:59:53.399Z"
   },
   {
    "duration": 114,
    "start_time": "2023-07-21T19:01:12.872Z"
   },
   {
    "duration": 9,
    "start_time": "2023-07-21T19:02:01.070Z"
   },
   {
    "duration": 15,
    "start_time": "2023-07-21T19:02:05.849Z"
   },
   {
    "duration": 11,
    "start_time": "2023-07-21T19:02:18.614Z"
   },
   {
    "duration": 9,
    "start_time": "2023-07-21T19:03:00.062Z"
   },
   {
    "duration": 4,
    "start_time": "2023-07-21T19:03:15.133Z"
   },
   {
    "duration": 5,
    "start_time": "2023-07-21T19:03:21.886Z"
   },
   {
    "duration": 91,
    "start_time": "2023-07-21T19:03:29.949Z"
   },
   {
    "duration": 12,
    "start_time": "2023-07-21T19:03:39.065Z"
   },
   {
    "duration": 12,
    "start_time": "2023-07-21T19:04:01.837Z"
   },
   {
    "duration": 8,
    "start_time": "2023-07-21T19:04:26.030Z"
   },
   {
    "duration": 9,
    "start_time": "2023-07-21T19:10:10.062Z"
   },
   {
    "duration": 89,
    "start_time": "2023-07-21T19:10:38.338Z"
   },
   {
    "duration": 16,
    "start_time": "2023-07-21T19:10:47.359Z"
   },
   {
    "duration": 19,
    "start_time": "2023-07-21T19:10:51.974Z"
   },
   {
    "duration": 11,
    "start_time": "2023-07-21T19:11:09.843Z"
   },
   {
    "duration": 99,
    "start_time": "2023-07-21T19:11:21.615Z"
   },
   {
    "duration": 129,
    "start_time": "2023-07-21T19:11:29.552Z"
   },
   {
    "duration": 15,
    "start_time": "2023-07-21T19:12:56.108Z"
   },
   {
    "duration": 12,
    "start_time": "2023-07-21T19:14:39.918Z"
   },
   {
    "duration": 8,
    "start_time": "2023-07-21T19:15:48.758Z"
   },
   {
    "duration": 10,
    "start_time": "2023-07-21T19:16:43.870Z"
   },
   {
    "duration": 3915,
    "start_time": "2023-07-21T19:16:52.531Z"
   },
   {
    "duration": 0,
    "start_time": "2023-07-21T19:17:08.818Z"
   },
   {
    "duration": 4266,
    "start_time": "2023-07-21T19:17:17.197Z"
   },
   {
    "duration": 9,
    "start_time": "2023-07-21T19:18:08.813Z"
   },
   {
    "duration": 10,
    "start_time": "2023-07-21T19:18:17.380Z"
   },
   {
    "duration": 8368,
    "start_time": "2023-07-21T19:18:26.962Z"
   },
   {
    "duration": 6,
    "start_time": "2023-07-21T19:19:51.267Z"
   },
   {
    "duration": 7,
    "start_time": "2023-07-21T19:20:01.314Z"
   },
   {
    "duration": 71,
    "start_time": "2023-07-21T19:21:01.026Z"
   },
   {
    "duration": 77,
    "start_time": "2023-07-21T19:21:06.913Z"
   },
   {
    "duration": 6,
    "start_time": "2023-07-21T19:21:20.957Z"
   },
   {
    "duration": 6,
    "start_time": "2023-07-21T19:21:37.801Z"
   },
   {
    "duration": 7,
    "start_time": "2023-07-21T19:22:00.473Z"
   },
   {
    "duration": 6,
    "start_time": "2023-07-21T19:24:30.857Z"
   },
   {
    "duration": 3,
    "start_time": "2023-07-21T19:24:58.015Z"
   },
   {
    "duration": 10,
    "start_time": "2023-07-21T19:44:13.618Z"
   },
   {
    "duration": 11,
    "start_time": "2023-07-21T19:44:23.635Z"
   },
   {
    "duration": 786,
    "start_time": "2023-07-21T19:44:27.497Z"
   },
   {
    "duration": 8,
    "start_time": "2023-07-21T19:48:03.541Z"
   },
   {
    "duration": 7,
    "start_time": "2023-07-21T19:48:28.608Z"
   },
   {
    "duration": 7,
    "start_time": "2023-07-21T19:48:33.757Z"
   },
   {
    "duration": 6,
    "start_time": "2023-07-21T19:48:34.917Z"
   },
   {
    "duration": 6,
    "start_time": "2023-07-21T19:48:42.220Z"
   },
   {
    "duration": 5,
    "start_time": "2023-07-21T19:49:08.376Z"
   },
   {
    "duration": 5,
    "start_time": "2023-07-21T19:49:32.938Z"
   },
   {
    "duration": 3,
    "start_time": "2023-07-21T19:49:36.103Z"
   },
   {
    "duration": 5,
    "start_time": "2023-07-21T19:49:39.498Z"
   },
   {
    "duration": 6,
    "start_time": "2023-07-21T19:49:51.926Z"
   },
   {
    "duration": 1873,
    "start_time": "2023-07-22T12:05:57.428Z"
   },
   {
    "duration": 90,
    "start_time": "2023-07-22T12:05:59.302Z"
   },
   {
    "duration": 15,
    "start_time": "2023-07-22T12:05:59.393Z"
   },
   {
    "duration": 7,
    "start_time": "2023-07-22T12:05:59.410Z"
   },
   {
    "duration": 20,
    "start_time": "2023-07-22T12:05:59.418Z"
   },
   {
    "duration": 15,
    "start_time": "2023-07-22T12:05:59.440Z"
   },
   {
    "duration": 37,
    "start_time": "2023-07-22T12:05:59.456Z"
   },
   {
    "duration": 9,
    "start_time": "2023-07-22T12:05:59.494Z"
   },
   {
    "duration": 4,
    "start_time": "2023-07-22T12:05:59.504Z"
   },
   {
    "duration": 25,
    "start_time": "2023-07-22T12:05:59.510Z"
   },
   {
    "duration": 6,
    "start_time": "2023-07-22T12:05:59.536Z"
   },
   {
    "duration": 10,
    "start_time": "2023-07-22T12:05:59.543Z"
   },
   {
    "duration": 6,
    "start_time": "2023-07-22T12:05:59.555Z"
   },
   {
    "duration": 8,
    "start_time": "2023-07-22T12:05:59.562Z"
   },
   {
    "duration": 13,
    "start_time": "2023-07-22T12:05:59.571Z"
   },
   {
    "duration": 17,
    "start_time": "2023-07-22T12:05:59.586Z"
   },
   {
    "duration": 52,
    "start_time": "2023-07-22T12:05:59.604Z"
   },
   {
    "duration": 3,
    "start_time": "2023-07-22T12:05:59.658Z"
   },
   {
    "duration": 12,
    "start_time": "2023-07-22T12:05:59.663Z"
   },
   {
    "duration": 29,
    "start_time": "2023-07-22T12:05:59.676Z"
   },
   {
    "duration": 9,
    "start_time": "2023-07-22T12:05:59.707Z"
   },
   {
    "duration": 4,
    "start_time": "2023-07-22T12:05:59.717Z"
   },
   {
    "duration": 18,
    "start_time": "2023-07-22T12:05:59.722Z"
   },
   {
    "duration": 91,
    "start_time": "2023-07-22T12:05:59.741Z"
   },
   {
    "duration": 5,
    "start_time": "2023-07-22T12:05:59.834Z"
   },
   {
    "duration": 7,
    "start_time": "2023-07-22T12:05:59.841Z"
   },
   {
    "duration": 106,
    "start_time": "2023-07-22T12:05:59.850Z"
   },
   {
    "duration": 186,
    "start_time": "2023-07-22T12:05:59.960Z"
   },
   {
    "duration": 9,
    "start_time": "2023-07-22T12:06:00.148Z"
   },
   {
    "duration": 30,
    "start_time": "2023-07-22T12:06:00.159Z"
   },
   {
    "duration": 54,
    "start_time": "2023-07-22T12:06:00.190Z"
   },
   {
    "duration": 30,
    "start_time": "2023-07-22T12:06:00.246Z"
   },
   {
    "duration": 32,
    "start_time": "2023-07-22T12:06:00.278Z"
   },
   {
    "duration": 36,
    "start_time": "2023-07-22T12:06:00.312Z"
   },
   {
    "duration": 54,
    "start_time": "2023-07-22T12:06:00.350Z"
   },
   {
    "duration": 423,
    "start_time": "2023-07-22T12:06:00.406Z"
   },
   {
    "duration": 3,
    "start_time": "2023-07-22T12:06:00.830Z"
   },
   {
    "duration": 74,
    "start_time": "2023-07-22T12:06:00.834Z"
   },
   {
    "duration": 34971,
    "start_time": "2023-07-22T12:06:00.910Z"
   },
   {
    "duration": 900,
    "start_time": "2023-07-22T12:06:35.883Z"
   },
   {
    "duration": 1676,
    "start_time": "2023-07-22T12:06:36.785Z"
   },
   {
    "duration": 1577,
    "start_time": "2023-07-22T12:06:38.463Z"
   },
   {
    "duration": 897,
    "start_time": "2023-07-22T12:06:40.041Z"
   },
   {
    "duration": 854,
    "start_time": "2023-07-22T12:06:40.939Z"
   },
   {
    "duration": 23,
    "start_time": "2023-07-22T12:06:41.794Z"
   },
   {
    "duration": 32,
    "start_time": "2023-07-22T12:06:41.819Z"
   },
   {
    "duration": 26,
    "start_time": "2023-07-22T12:06:41.853Z"
   },
   {
    "duration": 7,
    "start_time": "2023-07-22T12:06:41.881Z"
   },
   {
    "duration": 18,
    "start_time": "2023-07-22T12:06:41.889Z"
   },
   {
    "duration": 40,
    "start_time": "2023-07-22T12:06:41.908Z"
   },
   {
    "duration": 24,
    "start_time": "2023-07-22T12:06:41.950Z"
   },
   {
    "duration": 19,
    "start_time": "2023-07-22T12:06:41.976Z"
   },
   {
    "duration": 136,
    "start_time": "2023-07-22T12:06:41.997Z"
   },
   {
    "duration": 10,
    "start_time": "2023-07-22T12:06:42.135Z"
   },
   {
    "duration": 32,
    "start_time": "2023-07-22T12:06:42.147Z"
   },
   {
    "duration": 20,
    "start_time": "2023-07-22T12:06:42.181Z"
   },
   {
    "duration": 152,
    "start_time": "2023-07-22T12:06:42.202Z"
   },
   {
    "duration": 23,
    "start_time": "2023-07-22T12:06:42.356Z"
   },
   {
    "duration": 23,
    "start_time": "2023-07-22T12:06:42.380Z"
   },
   {
    "duration": 28,
    "start_time": "2023-07-22T12:06:42.405Z"
   },
   {
    "duration": 7,
    "start_time": "2023-07-22T12:06:42.435Z"
   },
   {
    "duration": 9,
    "start_time": "2023-07-22T12:06:42.443Z"
   },
   {
    "duration": 19,
    "start_time": "2023-07-22T12:06:42.454Z"
   },
   {
    "duration": 11,
    "start_time": "2023-07-22T12:06:42.474Z"
   },
   {
    "duration": 9,
    "start_time": "2023-07-22T12:06:42.487Z"
   },
   {
    "duration": 42,
    "start_time": "2023-07-22T12:06:42.498Z"
   },
   {
    "duration": 9,
    "start_time": "2023-07-22T12:06:42.542Z"
   },
   {
    "duration": 7,
    "start_time": "2023-07-22T12:06:42.553Z"
   },
   {
    "duration": 8,
    "start_time": "2023-07-22T12:06:42.562Z"
   },
   {
    "duration": 15,
    "start_time": "2023-07-22T12:06:42.572Z"
   },
   {
    "duration": 17,
    "start_time": "2023-07-22T12:06:42.589Z"
   },
   {
    "duration": 26,
    "start_time": "2023-07-22T12:06:42.608Z"
   },
   {
    "duration": 8,
    "start_time": "2023-07-22T12:06:42.636Z"
   },
   {
    "duration": 7,
    "start_time": "2023-07-22T12:06:42.646Z"
   },
   {
    "duration": 6,
    "start_time": "2023-07-22T12:06:42.655Z"
   },
   {
    "duration": 7,
    "start_time": "2023-07-22T12:06:42.663Z"
   },
   {
    "duration": 6,
    "start_time": "2023-07-22T12:06:42.671Z"
   },
   {
    "duration": 22,
    "start_time": "2023-07-22T12:06:42.679Z"
   },
   {
    "duration": 10,
    "start_time": "2023-07-22T12:06:42.702Z"
   },
   {
    "duration": 20,
    "start_time": "2023-07-22T12:06:42.714Z"
   },
   {
    "duration": 74,
    "start_time": "2023-07-22T12:06:42.735Z"
   },
   {
    "duration": 1757,
    "start_time": "2023-07-22T14:36:58.964Z"
   },
   {
    "duration": 93,
    "start_time": "2023-07-22T14:37:00.724Z"
   },
   {
    "duration": 57,
    "start_time": "2023-07-22T14:37:00.819Z"
   },
   {
    "duration": 88,
    "start_time": "2023-07-22T14:37:00.878Z"
   },
   {
    "duration": 136,
    "start_time": "2023-07-22T14:37:00.968Z"
   },
   {
    "duration": 135,
    "start_time": "2023-07-22T14:37:01.105Z"
   },
   {
    "duration": 163,
    "start_time": "2023-07-22T14:37:01.244Z"
   },
   {
    "duration": 98,
    "start_time": "2023-07-22T14:37:01.410Z"
   },
   {
    "duration": 77,
    "start_time": "2023-07-22T14:37:01.511Z"
   },
   {
    "duration": 397,
    "start_time": "2023-07-22T14:37:01.590Z"
   },
   {
    "duration": 67,
    "start_time": "2023-07-22T14:37:01.989Z"
   },
   {
    "duration": 110,
    "start_time": "2023-07-22T14:37:02.060Z"
   },
   {
    "duration": 243,
    "start_time": "2023-07-22T14:37:02.172Z"
   },
   {
    "duration": 108,
    "start_time": "2023-07-22T14:37:02.419Z"
   },
   {
    "duration": 217,
    "start_time": "2023-07-22T14:37:02.529Z"
   },
   {
    "duration": 57,
    "start_time": "2023-07-22T14:37:02.748Z"
   },
   {
    "duration": 67,
    "start_time": "2023-07-22T14:37:02.807Z"
   },
   {
    "duration": 12,
    "start_time": "2023-07-22T14:37:02.876Z"
   },
   {
    "duration": 10,
    "start_time": "2023-07-22T14:37:02.889Z"
   },
   {
    "duration": 20,
    "start_time": "2023-07-22T14:37:02.901Z"
   },
   {
    "duration": 24,
    "start_time": "2023-07-22T14:37:02.923Z"
   },
   {
    "duration": 22,
    "start_time": "2023-07-22T14:37:02.954Z"
   },
   {
    "duration": 32,
    "start_time": "2023-07-22T14:37:02.977Z"
   },
   {
    "duration": 154,
    "start_time": "2023-07-22T14:37:03.010Z"
   },
   {
    "duration": 8,
    "start_time": "2023-07-22T14:37:03.165Z"
   },
   {
    "duration": 13,
    "start_time": "2023-07-22T14:37:03.175Z"
   },
   {
    "duration": 119,
    "start_time": "2023-07-22T14:37:03.190Z"
   },
   {
    "duration": 245,
    "start_time": "2023-07-22T14:37:03.310Z"
   },
   {
    "duration": 15,
    "start_time": "2023-07-22T14:37:03.556Z"
   },
   {
    "duration": 44,
    "start_time": "2023-07-22T14:37:03.573Z"
   },
   {
    "duration": 65,
    "start_time": "2023-07-22T14:37:03.619Z"
   },
   {
    "duration": 20,
    "start_time": "2023-07-22T14:37:03.690Z"
   },
   {
    "duration": 44,
    "start_time": "2023-07-22T14:37:03.712Z"
   },
   {
    "duration": 47,
    "start_time": "2023-07-22T14:37:03.758Z"
   },
   {
    "duration": 60,
    "start_time": "2023-07-22T14:37:03.807Z"
   },
   {
    "duration": 385,
    "start_time": "2023-07-22T14:37:03.868Z"
   },
   {
    "duration": 8,
    "start_time": "2023-07-22T14:37:04.256Z"
   },
   {
    "duration": 31,
    "start_time": "2023-07-22T14:37:04.267Z"
   },
   {
    "duration": 43546,
    "start_time": "2023-07-22T14:37:04.301Z"
   },
   {
    "duration": 1103,
    "start_time": "2023-07-22T14:37:47.867Z"
   },
   {
    "duration": 1705,
    "start_time": "2023-07-22T14:37:48.975Z"
   },
   {
    "duration": 1719,
    "start_time": "2023-07-22T14:37:50.682Z"
   },
   {
    "duration": 915,
    "start_time": "2023-07-22T14:37:52.403Z"
   },
   {
    "duration": 939,
    "start_time": "2023-07-22T14:37:53.320Z"
   },
   {
    "duration": 21,
    "start_time": "2023-07-22T14:37:54.260Z"
   },
   {
    "duration": 17,
    "start_time": "2023-07-22T14:37:54.282Z"
   },
   {
    "duration": 120,
    "start_time": "2023-07-22T14:37:54.301Z"
   },
   {
    "duration": 8,
    "start_time": "2023-07-22T14:37:54.423Z"
   },
   {
    "duration": 30,
    "start_time": "2023-07-22T14:37:54.445Z"
   },
   {
    "duration": 25,
    "start_time": "2023-07-22T14:37:54.476Z"
   },
   {
    "duration": 21,
    "start_time": "2023-07-22T14:37:54.502Z"
   },
   {
    "duration": 23,
    "start_time": "2023-07-22T14:37:54.524Z"
   },
   {
    "duration": 144,
    "start_time": "2023-07-22T14:37:54.548Z"
   },
   {
    "duration": 15,
    "start_time": "2023-07-22T14:37:54.694Z"
   },
   {
    "duration": 65,
    "start_time": "2023-07-22T14:37:54.710Z"
   },
   {
    "duration": 35,
    "start_time": "2023-07-22T14:37:54.777Z"
   },
   {
    "duration": 126,
    "start_time": "2023-07-22T14:37:54.816Z"
   },
   {
    "duration": 33,
    "start_time": "2023-07-22T14:37:54.944Z"
   },
   {
    "duration": 72,
    "start_time": "2023-07-22T14:37:54.981Z"
   },
   {
    "duration": 31,
    "start_time": "2023-07-22T14:37:55.059Z"
   },
   {
    "duration": 7,
    "start_time": "2023-07-22T14:37:55.092Z"
   },
   {
    "duration": 12,
    "start_time": "2023-07-22T14:37:55.100Z"
   },
   {
    "duration": 14,
    "start_time": "2023-07-22T14:37:55.113Z"
   },
   {
    "duration": 30,
    "start_time": "2023-07-22T14:37:55.128Z"
   },
   {
    "duration": 23,
    "start_time": "2023-07-22T14:37:55.161Z"
   },
   {
    "duration": 13,
    "start_time": "2023-07-22T14:37:55.186Z"
   },
   {
    "duration": 16,
    "start_time": "2023-07-22T14:37:55.200Z"
   },
   {
    "duration": 11,
    "start_time": "2023-07-22T14:37:55.217Z"
   },
   {
    "duration": 44,
    "start_time": "2023-07-22T14:37:55.229Z"
   },
   {
    "duration": 30,
    "start_time": "2023-07-22T14:37:55.274Z"
   },
   {
    "duration": 11,
    "start_time": "2023-07-22T14:37:55.306Z"
   },
   {
    "duration": 5,
    "start_time": "2023-07-22T14:37:55.319Z"
   },
   {
    "duration": 41,
    "start_time": "2023-07-22T14:37:55.325Z"
   },
   {
    "duration": 9,
    "start_time": "2023-07-22T14:37:55.368Z"
   },
   {
    "duration": 10,
    "start_time": "2023-07-22T14:37:55.378Z"
   },
   {
    "duration": 7,
    "start_time": "2023-07-22T14:37:55.389Z"
   },
   {
    "duration": 8,
    "start_time": "2023-07-22T14:37:55.398Z"
   },
   {
    "duration": 36,
    "start_time": "2023-07-22T14:37:55.407Z"
   },
   {
    "duration": 23,
    "start_time": "2023-07-22T14:37:55.451Z"
   },
   {
    "duration": 34,
    "start_time": "2023-07-22T14:37:55.476Z"
   },
   {
    "duration": 170,
    "start_time": "2023-07-22T14:37:55.512Z"
   },
   {
    "duration": 1794,
    "start_time": "2023-07-22T16:08:17.785Z"
   },
   {
    "duration": 183,
    "start_time": "2023-07-22T16:08:19.581Z"
   },
   {
    "duration": 16,
    "start_time": "2023-07-22T16:08:19.765Z"
   },
   {
    "duration": 3,
    "start_time": "2023-07-22T16:08:19.783Z"
   },
   {
    "duration": 21,
    "start_time": "2023-07-22T16:08:19.788Z"
   },
   {
    "duration": 8,
    "start_time": "2023-07-22T16:08:19.810Z"
   },
   {
    "duration": 57,
    "start_time": "2023-07-22T16:08:19.820Z"
   },
   {
    "duration": 8,
    "start_time": "2023-07-22T16:08:19.878Z"
   },
   {
    "duration": 4,
    "start_time": "2023-07-22T16:08:19.888Z"
   },
   {
    "duration": 11,
    "start_time": "2023-07-22T16:08:19.894Z"
   },
   {
    "duration": 7,
    "start_time": "2023-07-22T16:08:19.906Z"
   },
   {
    "duration": 28,
    "start_time": "2023-07-22T16:08:19.914Z"
   },
   {
    "duration": 13,
    "start_time": "2023-07-22T16:08:19.944Z"
   },
   {
    "duration": 22,
    "start_time": "2023-07-22T16:08:19.959Z"
   },
   {
    "duration": 7,
    "start_time": "2023-07-22T16:08:19.983Z"
   },
   {
    "duration": 16,
    "start_time": "2023-07-22T16:08:19.992Z"
   },
   {
    "duration": 54,
    "start_time": "2023-07-22T16:08:20.009Z"
   },
   {
    "duration": 19,
    "start_time": "2023-07-22T16:08:20.064Z"
   },
   {
    "duration": 14,
    "start_time": "2023-07-22T16:08:20.086Z"
   },
   {
    "duration": 44,
    "start_time": "2023-07-22T16:08:20.102Z"
   },
   {
    "duration": 31,
    "start_time": "2023-07-22T16:08:20.150Z"
   },
   {
    "duration": 4,
    "start_time": "2023-07-22T16:08:20.183Z"
   },
   {
    "duration": 14,
    "start_time": "2023-07-22T16:08:20.188Z"
   },
   {
    "duration": 113,
    "start_time": "2023-07-22T16:08:20.204Z"
   },
   {
    "duration": 19,
    "start_time": "2023-07-22T16:08:20.319Z"
   },
   {
    "duration": 24,
    "start_time": "2023-07-22T16:08:20.344Z"
   },
   {
    "duration": 108,
    "start_time": "2023-07-22T16:08:20.370Z"
   },
   {
    "duration": 194,
    "start_time": "2023-07-22T16:08:20.482Z"
   },
   {
    "duration": 8,
    "start_time": "2023-07-22T16:08:20.677Z"
   },
   {
    "duration": 17,
    "start_time": "2023-07-22T16:08:20.687Z"
   },
   {
    "duration": 28,
    "start_time": "2023-07-22T16:08:20.705Z"
   },
   {
    "duration": 30,
    "start_time": "2023-07-22T16:08:20.735Z"
   },
   {
    "duration": 28,
    "start_time": "2023-07-22T16:08:20.766Z"
   },
   {
    "duration": 18,
    "start_time": "2023-07-22T16:08:20.796Z"
   },
   {
    "duration": 91,
    "start_time": "2023-07-22T16:08:20.816Z"
   },
   {
    "duration": 415,
    "start_time": "2023-07-22T16:08:20.908Z"
   },
   {
    "duration": 2,
    "start_time": "2023-07-22T16:08:21.325Z"
   },
   {
    "duration": 35,
    "start_time": "2023-07-22T16:08:21.331Z"
   },
   {
    "duration": 39232,
    "start_time": "2023-07-22T16:08:21.368Z"
   },
   {
    "duration": 1075,
    "start_time": "2023-07-22T16:09:00.602Z"
   },
   {
    "duration": 1779,
    "start_time": "2023-07-22T16:09:01.679Z"
   },
   {
    "duration": 1717,
    "start_time": "2023-07-22T16:09:03.469Z"
   },
   {
    "duration": 980,
    "start_time": "2023-07-22T16:09:05.189Z"
   },
   {
    "duration": 935,
    "start_time": "2023-07-22T16:09:06.171Z"
   },
   {
    "duration": 42,
    "start_time": "2023-07-22T16:09:07.108Z"
   },
   {
    "duration": 24,
    "start_time": "2023-07-22T16:09:07.159Z"
   },
   {
    "duration": 31,
    "start_time": "2023-07-22T16:09:07.185Z"
   },
   {
    "duration": 162,
    "start_time": "2023-07-22T16:09:07.218Z"
   },
   {
    "duration": 35,
    "start_time": "2023-07-22T16:09:07.382Z"
   },
   {
    "duration": 67,
    "start_time": "2023-07-22T16:09:07.419Z"
   },
   {
    "duration": 22,
    "start_time": "2023-07-22T16:09:07.488Z"
   },
   {
    "duration": 35,
    "start_time": "2023-07-22T16:09:07.512Z"
   },
   {
    "duration": 147,
    "start_time": "2023-07-22T16:09:07.548Z"
   },
   {
    "duration": 11,
    "start_time": "2023-07-22T16:09:07.696Z"
   },
   {
    "duration": 47,
    "start_time": "2023-07-22T16:09:07.711Z"
   },
   {
    "duration": 67,
    "start_time": "2023-07-22T16:09:07.761Z"
   },
   {
    "duration": 248,
    "start_time": "2023-07-22T16:09:07.829Z"
   },
   {
    "duration": 26,
    "start_time": "2023-07-22T16:09:08.078Z"
   },
   {
    "duration": 41,
    "start_time": "2023-07-22T16:09:08.106Z"
   },
   {
    "duration": 17,
    "start_time": "2023-07-22T16:09:08.149Z"
   },
   {
    "duration": 14,
    "start_time": "2023-07-22T16:09:08.168Z"
   },
   {
    "duration": 13,
    "start_time": "2023-07-22T16:09:08.183Z"
   },
   {
    "duration": 20,
    "start_time": "2023-07-22T16:09:08.197Z"
   },
   {
    "duration": 26,
    "start_time": "2023-07-22T16:09:08.219Z"
   },
   {
    "duration": 23,
    "start_time": "2023-07-22T16:09:08.247Z"
   },
   {
    "duration": 21,
    "start_time": "2023-07-22T16:09:08.272Z"
   },
   {
    "duration": 13,
    "start_time": "2023-07-22T16:09:08.295Z"
   },
   {
    "duration": 11,
    "start_time": "2023-07-22T16:09:08.310Z"
   },
   {
    "duration": 20,
    "start_time": "2023-07-22T16:09:08.323Z"
   },
   {
    "duration": 21,
    "start_time": "2023-07-22T16:09:08.351Z"
   },
   {
    "duration": 28,
    "start_time": "2023-07-22T16:09:08.373Z"
   },
   {
    "duration": 14,
    "start_time": "2023-07-22T16:09:08.402Z"
   },
   {
    "duration": 11,
    "start_time": "2023-07-22T16:09:08.417Z"
   },
   {
    "duration": 38,
    "start_time": "2023-07-22T16:09:08.429Z"
   },
   {
    "duration": 21,
    "start_time": "2023-07-22T16:09:08.468Z"
   },
   {
    "duration": 10,
    "start_time": "2023-07-22T16:09:08.491Z"
   },
   {
    "duration": 6,
    "start_time": "2023-07-22T16:09:08.503Z"
   },
   {
    "duration": 13,
    "start_time": "2023-07-22T16:09:08.510Z"
   },
   {
    "duration": 12,
    "start_time": "2023-07-22T16:09:08.524Z"
   },
   {
    "duration": 50,
    "start_time": "2023-07-22T16:09:08.543Z"
   },
   {
    "duration": 84,
    "start_time": "2023-07-22T16:09:08.595Z"
   },
   {
    "duration": 2139,
    "start_time": "2023-07-22T19:01:44.173Z"
   },
   {
    "duration": 136,
    "start_time": "2023-07-22T19:01:46.314Z"
   },
   {
    "duration": 23,
    "start_time": "2023-07-22T19:01:46.452Z"
   },
   {
    "duration": 17,
    "start_time": "2023-07-22T19:01:46.479Z"
   },
   {
    "duration": 21,
    "start_time": "2023-07-22T19:01:46.499Z"
   },
   {
    "duration": 11,
    "start_time": "2023-07-22T19:01:46.522Z"
   },
   {
    "duration": 82,
    "start_time": "2023-07-22T19:01:46.538Z"
   },
   {
    "duration": 12,
    "start_time": "2023-07-22T19:01:46.622Z"
   },
   {
    "duration": 40,
    "start_time": "2023-07-22T19:01:46.636Z"
   },
   {
    "duration": 10,
    "start_time": "2023-07-22T19:01:46.678Z"
   },
   {
    "duration": 25,
    "start_time": "2023-07-22T19:01:46.690Z"
   },
   {
    "duration": 9,
    "start_time": "2023-07-22T19:01:46.717Z"
   },
   {
    "duration": 63,
    "start_time": "2023-07-22T19:01:46.728Z"
   },
   {
    "duration": 7,
    "start_time": "2023-07-22T19:01:46.795Z"
   },
   {
    "duration": 9,
    "start_time": "2023-07-22T19:01:46.804Z"
   },
   {
    "duration": 26,
    "start_time": "2023-07-22T19:01:46.815Z"
   },
   {
    "duration": 78,
    "start_time": "2023-07-22T19:01:46.843Z"
   },
   {
    "duration": 4,
    "start_time": "2023-07-22T19:01:46.923Z"
   },
   {
    "duration": 42,
    "start_time": "2023-07-22T19:01:46.929Z"
   },
   {
    "duration": 20,
    "start_time": "2023-07-22T19:01:46.973Z"
   },
   {
    "duration": 10,
    "start_time": "2023-07-22T19:01:46.995Z"
   },
   {
    "duration": 4,
    "start_time": "2023-07-22T19:01:47.007Z"
   },
   {
    "duration": 14,
    "start_time": "2023-07-22T19:01:47.012Z"
   },
   {
    "duration": 164,
    "start_time": "2023-07-22T19:01:47.027Z"
   },
   {
    "duration": 6,
    "start_time": "2023-07-22T19:01:47.196Z"
   },
   {
    "duration": 8,
    "start_time": "2023-07-22T19:01:47.203Z"
   },
   {
    "duration": 150,
    "start_time": "2023-07-22T19:01:47.212Z"
   },
   {
    "duration": 203,
    "start_time": "2023-07-22T19:01:47.364Z"
   },
   {
    "duration": 10,
    "start_time": "2023-07-22T19:01:47.571Z"
   },
   {
    "duration": 29,
    "start_time": "2023-07-22T19:01:47.583Z"
   },
   {
    "duration": 48,
    "start_time": "2023-07-22T19:01:47.614Z"
   },
   {
    "duration": 58,
    "start_time": "2023-07-22T19:01:47.664Z"
   },
   {
    "duration": 52,
    "start_time": "2023-07-22T19:01:47.724Z"
   },
   {
    "duration": 37,
    "start_time": "2023-07-22T19:01:47.778Z"
   },
   {
    "duration": 78,
    "start_time": "2023-07-22T19:01:47.818Z"
   },
   {
    "duration": 484,
    "start_time": "2023-07-22T19:01:47.900Z"
   },
   {
    "duration": 3,
    "start_time": "2023-07-22T19:01:48.386Z"
   },
   {
    "duration": 58,
    "start_time": "2023-07-22T19:01:48.391Z"
   },
   {
    "duration": 47159,
    "start_time": "2023-07-22T19:01:48.451Z"
   },
   {
    "duration": 1153,
    "start_time": "2023-07-22T19:02:35.611Z"
   },
   {
    "duration": 1844,
    "start_time": "2023-07-22T19:02:36.770Z"
   },
   {
    "duration": 1951,
    "start_time": "2023-07-22T19:02:38.616Z"
   },
   {
    "duration": 1085,
    "start_time": "2023-07-22T19:02:40.571Z"
   },
   {
    "duration": 1074,
    "start_time": "2023-07-22T19:02:41.661Z"
   },
   {
    "duration": 33,
    "start_time": "2023-07-22T19:02:42.747Z"
   },
   {
    "duration": 126,
    "start_time": "2023-07-22T19:02:42.786Z"
   },
   {
    "duration": 52,
    "start_time": "2023-07-22T19:02:42.915Z"
   },
   {
    "duration": 48,
    "start_time": "2023-07-22T19:02:42.972Z"
   },
   {
    "duration": 41,
    "start_time": "2023-07-22T19:02:43.023Z"
   },
   {
    "duration": 63,
    "start_time": "2023-07-22T19:02:43.072Z"
   },
   {
    "duration": 38,
    "start_time": "2023-07-22T19:02:43.140Z"
   },
   {
    "duration": 49,
    "start_time": "2023-07-22T19:02:43.180Z"
   },
   {
    "duration": 148,
    "start_time": "2023-07-22T19:02:43.233Z"
   },
   {
    "duration": 15,
    "start_time": "2023-07-22T19:02:43.383Z"
   },
   {
    "duration": 43,
    "start_time": "2023-07-22T19:02:43.400Z"
   },
   {
    "duration": 42,
    "start_time": "2023-07-22T19:02:43.445Z"
   },
   {
    "duration": 196,
    "start_time": "2023-07-22T19:02:43.493Z"
   },
   {
    "duration": 36,
    "start_time": "2023-07-22T19:02:43.694Z"
   },
   {
    "duration": 61,
    "start_time": "2023-07-22T19:02:43.738Z"
   },
   {
    "duration": 20,
    "start_time": "2023-07-22T19:02:43.801Z"
   },
   {
    "duration": 12,
    "start_time": "2023-07-22T19:02:43.823Z"
   },
   {
    "duration": 146,
    "start_time": "2023-07-22T19:02:43.848Z"
   },
   {
    "duration": 23,
    "start_time": "2023-07-22T19:02:43.995Z"
   },
   {
    "duration": 20,
    "start_time": "2023-07-22T19:02:44.020Z"
   },
   {
    "duration": 58,
    "start_time": "2023-07-22T19:02:44.042Z"
   },
   {
    "duration": 16,
    "start_time": "2023-07-22T19:02:44.101Z"
   },
   {
    "duration": 15,
    "start_time": "2023-07-22T19:02:44.119Z"
   },
   {
    "duration": 60,
    "start_time": "2023-07-22T19:02:44.135Z"
   },
   {
    "duration": 17,
    "start_time": "2023-07-22T19:02:44.198Z"
   },
   {
    "duration": 66,
    "start_time": "2023-07-22T19:02:44.217Z"
   },
   {
    "duration": 46,
    "start_time": "2023-07-22T19:02:44.285Z"
   },
   {
    "duration": 50,
    "start_time": "2023-07-22T19:02:44.339Z"
   },
   {
    "duration": 14,
    "start_time": "2023-07-22T19:02:44.391Z"
   },
   {
    "duration": 15,
    "start_time": "2023-07-22T19:02:44.407Z"
   },
   {
    "duration": 30,
    "start_time": "2023-07-22T19:02:44.424Z"
   },
   {
    "duration": 38,
    "start_time": "2023-07-22T19:02:44.463Z"
   },
   {
    "duration": 9,
    "start_time": "2023-07-22T19:02:44.503Z"
   },
   {
    "duration": 10,
    "start_time": "2023-07-22T19:02:44.514Z"
   },
   {
    "duration": 22,
    "start_time": "2023-07-22T19:02:44.525Z"
   },
   {
    "duration": 64,
    "start_time": "2023-07-22T19:02:44.550Z"
   },
   {
    "duration": 187,
    "start_time": "2023-07-22T19:02:44.617Z"
   }
  ],
  "kernelspec": {
   "display_name": "Python 3 (ipykernel)",
   "language": "python",
   "name": "python3"
  },
  "language_info": {
   "codemirror_mode": {
    "name": "ipython",
    "version": 3
   },
   "file_extension": ".py",
   "mimetype": "text/x-python",
   "name": "python",
   "nbconvert_exporter": "python",
   "pygments_lexer": "ipython3",
   "version": "3.9.5"
  },
  "toc": {
   "base_numbering": 1,
   "nav_menu": {},
   "number_sections": true,
   "sideBar": true,
   "skip_h1_title": true,
   "title_cell": "Table of Contents",
   "title_sidebar": "Contents",
   "toc_cell": false,
   "toc_position": {},
   "toc_section_display": true,
   "toc_window_display": false
  }
 },
 "nbformat": 4,
 "nbformat_minor": 2
}
